{
  "cells": [
    {
      "cell_type": "code",
      "execution_count": 1,
      "metadata": {
        "colab": {
          "base_uri": "https://localhost:8080/"
        },
        "id": "t7GH8dVzh-d3",
        "outputId": "e4ff0bd3-92c1-4c03-a0be-9b3e3d05c87a"
      },
      "outputs": [
        {
          "output_type": "stream",
          "name": "stdout",
          "text": [
            "Mounted at /content/drive\n"
          ]
        }
      ],
      "source": [
        "from google.colab import drive\n",
        "drive.mount('/content/drive')"
      ],
      "id": "t7GH8dVzh-d3"
    },
    {
      "cell_type": "code",
      "execution_count": 2,
      "metadata": {
        "id": "90B4V1v3iRlc",
        "colab": {
          "base_uri": "https://localhost:8080/"
        },
        "outputId": "b418983c-4c48-4f57-bac0-984d66133757"
      },
      "outputs": [
        {
          "output_type": "stream",
          "name": "stdout",
          "text": [
            "/content/drive/Shareddrives/Data 245 Project/Project Code\n"
          ]
        }
      ],
      "source": [
        "%cd /content/drive/Shareddrives/Data 245 Project/Project Code"
      ],
      "id": "90B4V1v3iRlc"
    },
    {
      "cell_type": "code",
      "execution_count": 3,
      "metadata": {
        "colab": {
          "base_uri": "https://localhost:8080/"
        },
        "id": "hJUqlwphigB-",
        "outputId": "158a22cf-ea51-47d6-f113-597c91064800"
      },
      "outputs": [
        {
          "output_type": "stream",
          "name": "stdout",
          "text": [
            "245v2+EDA.ipynb\t\t  glove.6B.200d.txt\n",
            "fake_job_postings.csv\t  Project_245_fakejob_raw.ipynb\n",
            "fake_job_postings.gsheet  v2.Project_245_fakejob_raw.ipynb\n",
            "glove.6B.200d.rar\t  v3.Project_245_fakejob.ipynb\n"
          ]
        }
      ],
      "source": [
        "!ls"
      ],
      "id": "hJUqlwphigB-"
    },
    {
      "cell_type": "code",
      "execution_count": 4,
      "metadata": {
        "id": "edf0c6d8"
      },
      "outputs": [],
      "source": [
        "import pandas as pd\n",
        "import numpy as np"
      ],
      "id": "edf0c6d8"
    },
    {
      "cell_type": "code",
      "execution_count": 5,
      "metadata": {
        "id": "c861379f"
      },
      "outputs": [],
      "source": [
        "data = pd.read_csv('fake_job_postings.csv')"
      ],
      "id": "c861379f"
    },
    {
      "cell_type": "code",
      "execution_count": 6,
      "metadata": {
        "id": "2b680e88",
        "colab": {
          "base_uri": "https://localhost:8080/",
          "height": 600
        },
        "outputId": "dbd3e895-fa64-42a3-f817-239d3a672520"
      },
      "outputs": [
        {
          "output_type": "execute_result",
          "data": {
            "text/plain": [
              "   job_id                                      title            location  \\\n",
              "0       1                           Marketing Intern    US, NY, New York   \n",
              "1       2  Customer Service - Cloud Video Production      NZ, , Auckland   \n",
              "2       3    Commissioning Machinery Assistant (CMA)       US, IA, Wever   \n",
              "3       4          Account Executive - Washington DC  US, DC, Washington   \n",
              "4       5                        Bill Review Manager  US, FL, Fort Worth   \n",
              "\n",
              "  department salary_range                                    company_profile  \\\n",
              "0  Marketing          NaN  We're Food52, and we've created a groundbreaki...   \n",
              "1    Success          NaN  90 Seconds, the worlds Cloud Video Production ...   \n",
              "2        NaN          NaN  Valor Services provides Workforce Solutions th...   \n",
              "3      Sales          NaN  Our passion for improving quality of life thro...   \n",
              "4        NaN          NaN  SpotSource Solutions LLC is a Global Human Cap...   \n",
              "\n",
              "                                         description  \\\n",
              "0  Food52, a fast-growing, James Beard Award-winn...   \n",
              "1  Organised - Focused - Vibrant - Awesome!Do you...   \n",
              "2  Our client, located in Houston, is actively se...   \n",
              "3  THE COMPANY: ESRI – Environmental Systems Rese...   \n",
              "4  JOB TITLE: Itemization Review ManagerLOCATION:...   \n",
              "\n",
              "                                        requirements  \\\n",
              "0  Experience with content management systems a m...   \n",
              "1  What we expect from you:Your key responsibilit...   \n",
              "2  Implement pre-commissioning and commissioning ...   \n",
              "3  EDUCATION: Bachelor’s or Master’s in GIS, busi...   \n",
              "4  QUALIFICATIONS:RN license in the State of Texa...   \n",
              "\n",
              "                                            benefits  telecommuting  \\\n",
              "0                                                NaN              0   \n",
              "1  What you will get from usThrough being part of...              0   \n",
              "2                                                NaN              0   \n",
              "3  Our culture is anything but corporate—we have ...              0   \n",
              "4                              Full Benefits Offered              0   \n",
              "\n",
              "   has_company_logo  has_questions employment_type required_experience  \\\n",
              "0                 1              0           Other          Internship   \n",
              "1                 1              0       Full-time      Not Applicable   \n",
              "2                 1              0             NaN                 NaN   \n",
              "3                 1              0       Full-time    Mid-Senior level   \n",
              "4                 1              1       Full-time    Mid-Senior level   \n",
              "\n",
              "  required_education                   industry              function  \\\n",
              "0                NaN                        NaN             Marketing   \n",
              "1                NaN  Marketing and Advertising      Customer Service   \n",
              "2                NaN                        NaN                   NaN   \n",
              "3  Bachelor's Degree          Computer Software                 Sales   \n",
              "4  Bachelor's Degree     Hospital & Health Care  Health Care Provider   \n",
              "\n",
              "   fraudulent  \n",
              "0           0  \n",
              "1           0  \n",
              "2           0  \n",
              "3           0  \n",
              "4           0  "
            ],
            "text/html": [
              "\n",
              "  <div id=\"df-50c113cf-51ce-44c4-9d00-5ff65ec53adb\">\n",
              "    <div class=\"colab-df-container\">\n",
              "      <div>\n",
              "<style scoped>\n",
              "    .dataframe tbody tr th:only-of-type {\n",
              "        vertical-align: middle;\n",
              "    }\n",
              "\n",
              "    .dataframe tbody tr th {\n",
              "        vertical-align: top;\n",
              "    }\n",
              "\n",
              "    .dataframe thead th {\n",
              "        text-align: right;\n",
              "    }\n",
              "</style>\n",
              "<table border=\"1\" class=\"dataframe\">\n",
              "  <thead>\n",
              "    <tr style=\"text-align: right;\">\n",
              "      <th></th>\n",
              "      <th>job_id</th>\n",
              "      <th>title</th>\n",
              "      <th>location</th>\n",
              "      <th>department</th>\n",
              "      <th>salary_range</th>\n",
              "      <th>company_profile</th>\n",
              "      <th>description</th>\n",
              "      <th>requirements</th>\n",
              "      <th>benefits</th>\n",
              "      <th>telecommuting</th>\n",
              "      <th>has_company_logo</th>\n",
              "      <th>has_questions</th>\n",
              "      <th>employment_type</th>\n",
              "      <th>required_experience</th>\n",
              "      <th>required_education</th>\n",
              "      <th>industry</th>\n",
              "      <th>function</th>\n",
              "      <th>fraudulent</th>\n",
              "    </tr>\n",
              "  </thead>\n",
              "  <tbody>\n",
              "    <tr>\n",
              "      <th>0</th>\n",
              "      <td>1</td>\n",
              "      <td>Marketing Intern</td>\n",
              "      <td>US, NY, New York</td>\n",
              "      <td>Marketing</td>\n",
              "      <td>NaN</td>\n",
              "      <td>We're Food52, and we've created a groundbreaki...</td>\n",
              "      <td>Food52, a fast-growing, James Beard Award-winn...</td>\n",
              "      <td>Experience with content management systems a m...</td>\n",
              "      <td>NaN</td>\n",
              "      <td>0</td>\n",
              "      <td>1</td>\n",
              "      <td>0</td>\n",
              "      <td>Other</td>\n",
              "      <td>Internship</td>\n",
              "      <td>NaN</td>\n",
              "      <td>NaN</td>\n",
              "      <td>Marketing</td>\n",
              "      <td>0</td>\n",
              "    </tr>\n",
              "    <tr>\n",
              "      <th>1</th>\n",
              "      <td>2</td>\n",
              "      <td>Customer Service - Cloud Video Production</td>\n",
              "      <td>NZ, , Auckland</td>\n",
              "      <td>Success</td>\n",
              "      <td>NaN</td>\n",
              "      <td>90 Seconds, the worlds Cloud Video Production ...</td>\n",
              "      <td>Organised - Focused - Vibrant - Awesome!Do you...</td>\n",
              "      <td>What we expect from you:Your key responsibilit...</td>\n",
              "      <td>What you will get from usThrough being part of...</td>\n",
              "      <td>0</td>\n",
              "      <td>1</td>\n",
              "      <td>0</td>\n",
              "      <td>Full-time</td>\n",
              "      <td>Not Applicable</td>\n",
              "      <td>NaN</td>\n",
              "      <td>Marketing and Advertising</td>\n",
              "      <td>Customer Service</td>\n",
              "      <td>0</td>\n",
              "    </tr>\n",
              "    <tr>\n",
              "      <th>2</th>\n",
              "      <td>3</td>\n",
              "      <td>Commissioning Machinery Assistant (CMA)</td>\n",
              "      <td>US, IA, Wever</td>\n",
              "      <td>NaN</td>\n",
              "      <td>NaN</td>\n",
              "      <td>Valor Services provides Workforce Solutions th...</td>\n",
              "      <td>Our client, located in Houston, is actively se...</td>\n",
              "      <td>Implement pre-commissioning and commissioning ...</td>\n",
              "      <td>NaN</td>\n",
              "      <td>0</td>\n",
              "      <td>1</td>\n",
              "      <td>0</td>\n",
              "      <td>NaN</td>\n",
              "      <td>NaN</td>\n",
              "      <td>NaN</td>\n",
              "      <td>NaN</td>\n",
              "      <td>NaN</td>\n",
              "      <td>0</td>\n",
              "    </tr>\n",
              "    <tr>\n",
              "      <th>3</th>\n",
              "      <td>4</td>\n",
              "      <td>Account Executive - Washington DC</td>\n",
              "      <td>US, DC, Washington</td>\n",
              "      <td>Sales</td>\n",
              "      <td>NaN</td>\n",
              "      <td>Our passion for improving quality of life thro...</td>\n",
              "      <td>THE COMPANY: ESRI – Environmental Systems Rese...</td>\n",
              "      <td>EDUCATION: Bachelor’s or Master’s in GIS, busi...</td>\n",
              "      <td>Our culture is anything but corporate—we have ...</td>\n",
              "      <td>0</td>\n",
              "      <td>1</td>\n",
              "      <td>0</td>\n",
              "      <td>Full-time</td>\n",
              "      <td>Mid-Senior level</td>\n",
              "      <td>Bachelor's Degree</td>\n",
              "      <td>Computer Software</td>\n",
              "      <td>Sales</td>\n",
              "      <td>0</td>\n",
              "    </tr>\n",
              "    <tr>\n",
              "      <th>4</th>\n",
              "      <td>5</td>\n",
              "      <td>Bill Review Manager</td>\n",
              "      <td>US, FL, Fort Worth</td>\n",
              "      <td>NaN</td>\n",
              "      <td>NaN</td>\n",
              "      <td>SpotSource Solutions LLC is a Global Human Cap...</td>\n",
              "      <td>JOB TITLE: Itemization Review ManagerLOCATION:...</td>\n",
              "      <td>QUALIFICATIONS:RN license in the State of Texa...</td>\n",
              "      <td>Full Benefits Offered</td>\n",
              "      <td>0</td>\n",
              "      <td>1</td>\n",
              "      <td>1</td>\n",
              "      <td>Full-time</td>\n",
              "      <td>Mid-Senior level</td>\n",
              "      <td>Bachelor's Degree</td>\n",
              "      <td>Hospital &amp; Health Care</td>\n",
              "      <td>Health Care Provider</td>\n",
              "      <td>0</td>\n",
              "    </tr>\n",
              "  </tbody>\n",
              "</table>\n",
              "</div>\n",
              "      <button class=\"colab-df-convert\" onclick=\"convertToInteractive('df-50c113cf-51ce-44c4-9d00-5ff65ec53adb')\"\n",
              "              title=\"Convert this dataframe to an interactive table.\"\n",
              "              style=\"display:none;\">\n",
              "        \n",
              "  <svg xmlns=\"http://www.w3.org/2000/svg\" height=\"24px\"viewBox=\"0 0 24 24\"\n",
              "       width=\"24px\">\n",
              "    <path d=\"M0 0h24v24H0V0z\" fill=\"none\"/>\n",
              "    <path d=\"M18.56 5.44l.94 2.06.94-2.06 2.06-.94-2.06-.94-.94-2.06-.94 2.06-2.06.94zm-11 1L8.5 8.5l.94-2.06 2.06-.94-2.06-.94L8.5 2.5l-.94 2.06-2.06.94zm10 10l.94 2.06.94-2.06 2.06-.94-2.06-.94-.94-2.06-.94 2.06-2.06.94z\"/><path d=\"M17.41 7.96l-1.37-1.37c-.4-.4-.92-.59-1.43-.59-.52 0-1.04.2-1.43.59L10.3 9.45l-7.72 7.72c-.78.78-.78 2.05 0 2.83L4 21.41c.39.39.9.59 1.41.59.51 0 1.02-.2 1.41-.59l7.78-7.78 2.81-2.81c.8-.78.8-2.07 0-2.86zM5.41 20L4 18.59l7.72-7.72 1.47 1.35L5.41 20z\"/>\n",
              "  </svg>\n",
              "      </button>\n",
              "      \n",
              "  <style>\n",
              "    .colab-df-container {\n",
              "      display:flex;\n",
              "      flex-wrap:wrap;\n",
              "      gap: 12px;\n",
              "    }\n",
              "\n",
              "    .colab-df-convert {\n",
              "      background-color: #E8F0FE;\n",
              "      border: none;\n",
              "      border-radius: 50%;\n",
              "      cursor: pointer;\n",
              "      display: none;\n",
              "      fill: #1967D2;\n",
              "      height: 32px;\n",
              "      padding: 0 0 0 0;\n",
              "      width: 32px;\n",
              "    }\n",
              "\n",
              "    .colab-df-convert:hover {\n",
              "      background-color: #E2EBFA;\n",
              "      box-shadow: 0px 1px 2px rgba(60, 64, 67, 0.3), 0px 1px 3px 1px rgba(60, 64, 67, 0.15);\n",
              "      fill: #174EA6;\n",
              "    }\n",
              "\n",
              "    [theme=dark] .colab-df-convert {\n",
              "      background-color: #3B4455;\n",
              "      fill: #D2E3FC;\n",
              "    }\n",
              "\n",
              "    [theme=dark] .colab-df-convert:hover {\n",
              "      background-color: #434B5C;\n",
              "      box-shadow: 0px 1px 3px 1px rgba(0, 0, 0, 0.15);\n",
              "      filter: drop-shadow(0px 1px 2px rgba(0, 0, 0, 0.3));\n",
              "      fill: #FFFFFF;\n",
              "    }\n",
              "  </style>\n",
              "\n",
              "      <script>\n",
              "        const buttonEl =\n",
              "          document.querySelector('#df-50c113cf-51ce-44c4-9d00-5ff65ec53adb button.colab-df-convert');\n",
              "        buttonEl.style.display =\n",
              "          google.colab.kernel.accessAllowed ? 'block' : 'none';\n",
              "\n",
              "        async function convertToInteractive(key) {\n",
              "          const element = document.querySelector('#df-50c113cf-51ce-44c4-9d00-5ff65ec53adb');\n",
              "          const dataTable =\n",
              "            await google.colab.kernel.invokeFunction('convertToInteractive',\n",
              "                                                     [key], {});\n",
              "          if (!dataTable) return;\n",
              "\n",
              "          const docLinkHtml = 'Like what you see? Visit the ' +\n",
              "            '<a target=\"_blank\" href=https://colab.research.google.com/notebooks/data_table.ipynb>data table notebook</a>'\n",
              "            + ' to learn more about interactive tables.';\n",
              "          element.innerHTML = '';\n",
              "          dataTable['output_type'] = 'display_data';\n",
              "          await google.colab.output.renderOutput(dataTable, element);\n",
              "          const docLink = document.createElement('div');\n",
              "          docLink.innerHTML = docLinkHtml;\n",
              "          element.appendChild(docLink);\n",
              "        }\n",
              "      </script>\n",
              "    </div>\n",
              "  </div>\n",
              "  "
            ]
          },
          "metadata": {},
          "execution_count": 6
        }
      ],
      "source": [
        "data.head()"
      ],
      "id": "2b680e88"
    },
    {
      "cell_type": "code",
      "execution_count": 7,
      "metadata": {
        "id": "51f130b8",
        "colab": {
          "base_uri": "https://localhost:8080/"
        },
        "outputId": "d1167608-d619-497d-d020-f942c4be188f"
      },
      "outputs": [
        {
          "output_type": "stream",
          "name": "stdout",
          "text": [
            "<class 'pandas.core.frame.DataFrame'>\n",
            "RangeIndex: 17880 entries, 0 to 17879\n",
            "Data columns (total 18 columns):\n",
            " #   Column               Non-Null Count  Dtype \n",
            "---  ------               --------------  ----- \n",
            " 0   job_id               17880 non-null  int64 \n",
            " 1   title                17880 non-null  object\n",
            " 2   location             17534 non-null  object\n",
            " 3   department           6333 non-null   object\n",
            " 4   salary_range         2868 non-null   object\n",
            " 5   company_profile      14572 non-null  object\n",
            " 6   description          17879 non-null  object\n",
            " 7   requirements         15185 non-null  object\n",
            " 8   benefits             10670 non-null  object\n",
            " 9   telecommuting        17880 non-null  int64 \n",
            " 10  has_company_logo     17880 non-null  int64 \n",
            " 11  has_questions        17880 non-null  int64 \n",
            " 12  employment_type      14409 non-null  object\n",
            " 13  required_experience  10830 non-null  object\n",
            " 14  required_education   9775 non-null   object\n",
            " 15  industry             12977 non-null  object\n",
            " 16  function             11425 non-null  object\n",
            " 17  fraudulent           17880 non-null  int64 \n",
            "dtypes: int64(5), object(13)\n",
            "memory usage: 2.5+ MB\n"
          ]
        }
      ],
      "source": [
        "data.info()"
      ],
      "id": "51f130b8"
    },
    {
      "cell_type": "code",
      "execution_count": 8,
      "metadata": {
        "colab": {
          "base_uri": "https://localhost:8080/"
        },
        "id": "463595a8",
        "outputId": "c58d3964-f96f-4e31-e461-a6ae9c2ecee1",
        "scrolled": true
      },
      "outputs": [
        {
          "output_type": "execute_result",
          "data": {
            "text/plain": [
              "job_id                     0\n",
              "title                      0\n",
              "location                 346\n",
              "department             11547\n",
              "salary_range           15012\n",
              "company_profile         3308\n",
              "description                1\n",
              "requirements            2695\n",
              "benefits                7210\n",
              "telecommuting              0\n",
              "has_company_logo           0\n",
              "has_questions              0\n",
              "employment_type         3471\n",
              "required_experience     7050\n",
              "required_education      8105\n",
              "industry                4903\n",
              "function                6455\n",
              "fraudulent                 0\n",
              "dtype: int64"
            ]
          },
          "metadata": {},
          "execution_count": 8
        }
      ],
      "source": [
        "data.isnull().sum()"
      ],
      "id": "463595a8"
    },
    {
      "cell_type": "code",
      "execution_count": 9,
      "metadata": {
        "id": "929656c3"
      },
      "outputs": [],
      "source": [
        "data.fillna(\"missing\", inplace = True) #filling missing values with text 'missing'"
      ],
      "id": "929656c3"
    },
    {
      "cell_type": "code",
      "execution_count": 10,
      "metadata": {
        "colab": {
          "base_uri": "https://localhost:8080/",
          "height": 600
        },
        "id": "cbb91f73",
        "outputId": "b775f348-2b73-4b69-f2b4-1f8146c69828"
      },
      "outputs": [
        {
          "output_type": "execute_result",
          "data": {
            "text/plain": [
              "   job_id                                      title            location  \\\n",
              "0       1                           Marketing Intern    US, NY, New York   \n",
              "1       2  Customer Service - Cloud Video Production      NZ, , Auckland   \n",
              "2       3    Commissioning Machinery Assistant (CMA)       US, IA, Wever   \n",
              "3       4          Account Executive - Washington DC  US, DC, Washington   \n",
              "4       5                        Bill Review Manager  US, FL, Fort Worth   \n",
              "\n",
              "  department salary_range                                    company_profile  \\\n",
              "0  Marketing      missing  We're Food52, and we've created a groundbreaki...   \n",
              "1    Success      missing  90 Seconds, the worlds Cloud Video Production ...   \n",
              "2    missing      missing  Valor Services provides Workforce Solutions th...   \n",
              "3      Sales      missing  Our passion for improving quality of life thro...   \n",
              "4    missing      missing  SpotSource Solutions LLC is a Global Human Cap...   \n",
              "\n",
              "                                         description  \\\n",
              "0  Food52, a fast-growing, James Beard Award-winn...   \n",
              "1  Organised - Focused - Vibrant - Awesome!Do you...   \n",
              "2  Our client, located in Houston, is actively se...   \n",
              "3  THE COMPANY: ESRI – Environmental Systems Rese...   \n",
              "4  JOB TITLE: Itemization Review ManagerLOCATION:...   \n",
              "\n",
              "                                        requirements  \\\n",
              "0  Experience with content management systems a m...   \n",
              "1  What we expect from you:Your key responsibilit...   \n",
              "2  Implement pre-commissioning and commissioning ...   \n",
              "3  EDUCATION: Bachelor’s or Master’s in GIS, busi...   \n",
              "4  QUALIFICATIONS:RN license in the State of Texa...   \n",
              "\n",
              "                                            benefits  telecommuting  \\\n",
              "0                                            missing              0   \n",
              "1  What you will get from usThrough being part of...              0   \n",
              "2                                            missing              0   \n",
              "3  Our culture is anything but corporate—we have ...              0   \n",
              "4                              Full Benefits Offered              0   \n",
              "\n",
              "   has_company_logo  has_questions employment_type required_experience  \\\n",
              "0                 1              0           Other          Internship   \n",
              "1                 1              0       Full-time      Not Applicable   \n",
              "2                 1              0         missing             missing   \n",
              "3                 1              0       Full-time    Mid-Senior level   \n",
              "4                 1              1       Full-time    Mid-Senior level   \n",
              "\n",
              "  required_education                   industry              function  \\\n",
              "0            missing                    missing             Marketing   \n",
              "1            missing  Marketing and Advertising      Customer Service   \n",
              "2            missing                    missing               missing   \n",
              "3  Bachelor's Degree          Computer Software                 Sales   \n",
              "4  Bachelor's Degree     Hospital & Health Care  Health Care Provider   \n",
              "\n",
              "   fraudulent  \n",
              "0           0  \n",
              "1           0  \n",
              "2           0  \n",
              "3           0  \n",
              "4           0  "
            ],
            "text/html": [
              "\n",
              "  <div id=\"df-0ea9c986-c063-4237-b056-d78d75acba0a\">\n",
              "    <div class=\"colab-df-container\">\n",
              "      <div>\n",
              "<style scoped>\n",
              "    .dataframe tbody tr th:only-of-type {\n",
              "        vertical-align: middle;\n",
              "    }\n",
              "\n",
              "    .dataframe tbody tr th {\n",
              "        vertical-align: top;\n",
              "    }\n",
              "\n",
              "    .dataframe thead th {\n",
              "        text-align: right;\n",
              "    }\n",
              "</style>\n",
              "<table border=\"1\" class=\"dataframe\">\n",
              "  <thead>\n",
              "    <tr style=\"text-align: right;\">\n",
              "      <th></th>\n",
              "      <th>job_id</th>\n",
              "      <th>title</th>\n",
              "      <th>location</th>\n",
              "      <th>department</th>\n",
              "      <th>salary_range</th>\n",
              "      <th>company_profile</th>\n",
              "      <th>description</th>\n",
              "      <th>requirements</th>\n",
              "      <th>benefits</th>\n",
              "      <th>telecommuting</th>\n",
              "      <th>has_company_logo</th>\n",
              "      <th>has_questions</th>\n",
              "      <th>employment_type</th>\n",
              "      <th>required_experience</th>\n",
              "      <th>required_education</th>\n",
              "      <th>industry</th>\n",
              "      <th>function</th>\n",
              "      <th>fraudulent</th>\n",
              "    </tr>\n",
              "  </thead>\n",
              "  <tbody>\n",
              "    <tr>\n",
              "      <th>0</th>\n",
              "      <td>1</td>\n",
              "      <td>Marketing Intern</td>\n",
              "      <td>US, NY, New York</td>\n",
              "      <td>Marketing</td>\n",
              "      <td>missing</td>\n",
              "      <td>We're Food52, and we've created a groundbreaki...</td>\n",
              "      <td>Food52, a fast-growing, James Beard Award-winn...</td>\n",
              "      <td>Experience with content management systems a m...</td>\n",
              "      <td>missing</td>\n",
              "      <td>0</td>\n",
              "      <td>1</td>\n",
              "      <td>0</td>\n",
              "      <td>Other</td>\n",
              "      <td>Internship</td>\n",
              "      <td>missing</td>\n",
              "      <td>missing</td>\n",
              "      <td>Marketing</td>\n",
              "      <td>0</td>\n",
              "    </tr>\n",
              "    <tr>\n",
              "      <th>1</th>\n",
              "      <td>2</td>\n",
              "      <td>Customer Service - Cloud Video Production</td>\n",
              "      <td>NZ, , Auckland</td>\n",
              "      <td>Success</td>\n",
              "      <td>missing</td>\n",
              "      <td>90 Seconds, the worlds Cloud Video Production ...</td>\n",
              "      <td>Organised - Focused - Vibrant - Awesome!Do you...</td>\n",
              "      <td>What we expect from you:Your key responsibilit...</td>\n",
              "      <td>What you will get from usThrough being part of...</td>\n",
              "      <td>0</td>\n",
              "      <td>1</td>\n",
              "      <td>0</td>\n",
              "      <td>Full-time</td>\n",
              "      <td>Not Applicable</td>\n",
              "      <td>missing</td>\n",
              "      <td>Marketing and Advertising</td>\n",
              "      <td>Customer Service</td>\n",
              "      <td>0</td>\n",
              "    </tr>\n",
              "    <tr>\n",
              "      <th>2</th>\n",
              "      <td>3</td>\n",
              "      <td>Commissioning Machinery Assistant (CMA)</td>\n",
              "      <td>US, IA, Wever</td>\n",
              "      <td>missing</td>\n",
              "      <td>missing</td>\n",
              "      <td>Valor Services provides Workforce Solutions th...</td>\n",
              "      <td>Our client, located in Houston, is actively se...</td>\n",
              "      <td>Implement pre-commissioning and commissioning ...</td>\n",
              "      <td>missing</td>\n",
              "      <td>0</td>\n",
              "      <td>1</td>\n",
              "      <td>0</td>\n",
              "      <td>missing</td>\n",
              "      <td>missing</td>\n",
              "      <td>missing</td>\n",
              "      <td>missing</td>\n",
              "      <td>missing</td>\n",
              "      <td>0</td>\n",
              "    </tr>\n",
              "    <tr>\n",
              "      <th>3</th>\n",
              "      <td>4</td>\n",
              "      <td>Account Executive - Washington DC</td>\n",
              "      <td>US, DC, Washington</td>\n",
              "      <td>Sales</td>\n",
              "      <td>missing</td>\n",
              "      <td>Our passion for improving quality of life thro...</td>\n",
              "      <td>THE COMPANY: ESRI – Environmental Systems Rese...</td>\n",
              "      <td>EDUCATION: Bachelor’s or Master’s in GIS, busi...</td>\n",
              "      <td>Our culture is anything but corporate—we have ...</td>\n",
              "      <td>0</td>\n",
              "      <td>1</td>\n",
              "      <td>0</td>\n",
              "      <td>Full-time</td>\n",
              "      <td>Mid-Senior level</td>\n",
              "      <td>Bachelor's Degree</td>\n",
              "      <td>Computer Software</td>\n",
              "      <td>Sales</td>\n",
              "      <td>0</td>\n",
              "    </tr>\n",
              "    <tr>\n",
              "      <th>4</th>\n",
              "      <td>5</td>\n",
              "      <td>Bill Review Manager</td>\n",
              "      <td>US, FL, Fort Worth</td>\n",
              "      <td>missing</td>\n",
              "      <td>missing</td>\n",
              "      <td>SpotSource Solutions LLC is a Global Human Cap...</td>\n",
              "      <td>JOB TITLE: Itemization Review ManagerLOCATION:...</td>\n",
              "      <td>QUALIFICATIONS:RN license in the State of Texa...</td>\n",
              "      <td>Full Benefits Offered</td>\n",
              "      <td>0</td>\n",
              "      <td>1</td>\n",
              "      <td>1</td>\n",
              "      <td>Full-time</td>\n",
              "      <td>Mid-Senior level</td>\n",
              "      <td>Bachelor's Degree</td>\n",
              "      <td>Hospital &amp; Health Care</td>\n",
              "      <td>Health Care Provider</td>\n",
              "      <td>0</td>\n",
              "    </tr>\n",
              "  </tbody>\n",
              "</table>\n",
              "</div>\n",
              "      <button class=\"colab-df-convert\" onclick=\"convertToInteractive('df-0ea9c986-c063-4237-b056-d78d75acba0a')\"\n",
              "              title=\"Convert this dataframe to an interactive table.\"\n",
              "              style=\"display:none;\">\n",
              "        \n",
              "  <svg xmlns=\"http://www.w3.org/2000/svg\" height=\"24px\"viewBox=\"0 0 24 24\"\n",
              "       width=\"24px\">\n",
              "    <path d=\"M0 0h24v24H0V0z\" fill=\"none\"/>\n",
              "    <path d=\"M18.56 5.44l.94 2.06.94-2.06 2.06-.94-2.06-.94-.94-2.06-.94 2.06-2.06.94zm-11 1L8.5 8.5l.94-2.06 2.06-.94-2.06-.94L8.5 2.5l-.94 2.06-2.06.94zm10 10l.94 2.06.94-2.06 2.06-.94-2.06-.94-.94-2.06-.94 2.06-2.06.94z\"/><path d=\"M17.41 7.96l-1.37-1.37c-.4-.4-.92-.59-1.43-.59-.52 0-1.04.2-1.43.59L10.3 9.45l-7.72 7.72c-.78.78-.78 2.05 0 2.83L4 21.41c.39.39.9.59 1.41.59.51 0 1.02-.2 1.41-.59l7.78-7.78 2.81-2.81c.8-.78.8-2.07 0-2.86zM5.41 20L4 18.59l7.72-7.72 1.47 1.35L5.41 20z\"/>\n",
              "  </svg>\n",
              "      </button>\n",
              "      \n",
              "  <style>\n",
              "    .colab-df-container {\n",
              "      display:flex;\n",
              "      flex-wrap:wrap;\n",
              "      gap: 12px;\n",
              "    }\n",
              "\n",
              "    .colab-df-convert {\n",
              "      background-color: #E8F0FE;\n",
              "      border: none;\n",
              "      border-radius: 50%;\n",
              "      cursor: pointer;\n",
              "      display: none;\n",
              "      fill: #1967D2;\n",
              "      height: 32px;\n",
              "      padding: 0 0 0 0;\n",
              "      width: 32px;\n",
              "    }\n",
              "\n",
              "    .colab-df-convert:hover {\n",
              "      background-color: #E2EBFA;\n",
              "      box-shadow: 0px 1px 2px rgba(60, 64, 67, 0.3), 0px 1px 3px 1px rgba(60, 64, 67, 0.15);\n",
              "      fill: #174EA6;\n",
              "    }\n",
              "\n",
              "    [theme=dark] .colab-df-convert {\n",
              "      background-color: #3B4455;\n",
              "      fill: #D2E3FC;\n",
              "    }\n",
              "\n",
              "    [theme=dark] .colab-df-convert:hover {\n",
              "      background-color: #434B5C;\n",
              "      box-shadow: 0px 1px 3px 1px rgba(0, 0, 0, 0.15);\n",
              "      filter: drop-shadow(0px 1px 2px rgba(0, 0, 0, 0.3));\n",
              "      fill: #FFFFFF;\n",
              "    }\n",
              "  </style>\n",
              "\n",
              "      <script>\n",
              "        const buttonEl =\n",
              "          document.querySelector('#df-0ea9c986-c063-4237-b056-d78d75acba0a button.colab-df-convert');\n",
              "        buttonEl.style.display =\n",
              "          google.colab.kernel.accessAllowed ? 'block' : 'none';\n",
              "\n",
              "        async function convertToInteractive(key) {\n",
              "          const element = document.querySelector('#df-0ea9c986-c063-4237-b056-d78d75acba0a');\n",
              "          const dataTable =\n",
              "            await google.colab.kernel.invokeFunction('convertToInteractive',\n",
              "                                                     [key], {});\n",
              "          if (!dataTable) return;\n",
              "\n",
              "          const docLinkHtml = 'Like what you see? Visit the ' +\n",
              "            '<a target=\"_blank\" href=https://colab.research.google.com/notebooks/data_table.ipynb>data table notebook</a>'\n",
              "            + ' to learn more about interactive tables.';\n",
              "          element.innerHTML = '';\n",
              "          dataTable['output_type'] = 'display_data';\n",
              "          await google.colab.output.renderOutput(dataTable, element);\n",
              "          const docLink = document.createElement('div');\n",
              "          docLink.innerHTML = docLinkHtml;\n",
              "          element.appendChild(docLink);\n",
              "        }\n",
              "      </script>\n",
              "    </div>\n",
              "  </div>\n",
              "  "
            ]
          },
          "metadata": {},
          "execution_count": 10
        }
      ],
      "source": [
        "data.head()"
      ],
      "id": "cbb91f73"
    },
    {
      "cell_type": "markdown",
      "metadata": {
        "id": "58e43a1a"
      },
      "source": [
        "#### Separating country and city from location"
      ],
      "id": "58e43a1a"
    },
    {
      "cell_type": "code",
      "execution_count": 11,
      "metadata": {
        "id": "6e9a1280"
      },
      "outputs": [],
      "source": [
        "data['country'] = data['location'].str.split(',').apply(lambda x: x[0])\n",
        "data['city'] = data['location'].str.split(',').apply(lambda x: x[-1])"
      ],
      "id": "6e9a1280"
    },
    {
      "cell_type": "code",
      "execution_count": 12,
      "metadata": {
        "colab": {
          "base_uri": "https://localhost:8080/",
          "height": 197
        },
        "id": "7453241f",
        "outputId": "ef67a496-132b-4f21-9fd0-9d5aff0daf04"
      },
      "outputs": [
        {
          "output_type": "execute_result",
          "data": {
            "text/plain": [
              "   job_id             title          location department salary_range  \\\n",
              "0       1  Marketing Intern  US, NY, New York  Marketing      missing   \n",
              "\n",
              "                                     company_profile  \\\n",
              "0  We're Food52, and we've created a groundbreaki...   \n",
              "\n",
              "                                         description  \\\n",
              "0  Food52, a fast-growing, James Beard Award-winn...   \n",
              "\n",
              "                                        requirements benefits  telecommuting  \\\n",
              "0  Experience with content management systems a m...  missing              0   \n",
              "\n",
              "   has_company_logo  has_questions employment_type required_experience  \\\n",
              "0                 1              0           Other          Internship   \n",
              "\n",
              "  required_education industry   function  fraudulent country       city  \n",
              "0            missing  missing  Marketing           0      US   New York  "
            ],
            "text/html": [
              "\n",
              "  <div id=\"df-58cd07f7-4444-4e08-92bb-4d59de2901c6\">\n",
              "    <div class=\"colab-df-container\">\n",
              "      <div>\n",
              "<style scoped>\n",
              "    .dataframe tbody tr th:only-of-type {\n",
              "        vertical-align: middle;\n",
              "    }\n",
              "\n",
              "    .dataframe tbody tr th {\n",
              "        vertical-align: top;\n",
              "    }\n",
              "\n",
              "    .dataframe thead th {\n",
              "        text-align: right;\n",
              "    }\n",
              "</style>\n",
              "<table border=\"1\" class=\"dataframe\">\n",
              "  <thead>\n",
              "    <tr style=\"text-align: right;\">\n",
              "      <th></th>\n",
              "      <th>job_id</th>\n",
              "      <th>title</th>\n",
              "      <th>location</th>\n",
              "      <th>department</th>\n",
              "      <th>salary_range</th>\n",
              "      <th>company_profile</th>\n",
              "      <th>description</th>\n",
              "      <th>requirements</th>\n",
              "      <th>benefits</th>\n",
              "      <th>telecommuting</th>\n",
              "      <th>has_company_logo</th>\n",
              "      <th>has_questions</th>\n",
              "      <th>employment_type</th>\n",
              "      <th>required_experience</th>\n",
              "      <th>required_education</th>\n",
              "      <th>industry</th>\n",
              "      <th>function</th>\n",
              "      <th>fraudulent</th>\n",
              "      <th>country</th>\n",
              "      <th>city</th>\n",
              "    </tr>\n",
              "  </thead>\n",
              "  <tbody>\n",
              "    <tr>\n",
              "      <th>0</th>\n",
              "      <td>1</td>\n",
              "      <td>Marketing Intern</td>\n",
              "      <td>US, NY, New York</td>\n",
              "      <td>Marketing</td>\n",
              "      <td>missing</td>\n",
              "      <td>We're Food52, and we've created a groundbreaki...</td>\n",
              "      <td>Food52, a fast-growing, James Beard Award-winn...</td>\n",
              "      <td>Experience with content management systems a m...</td>\n",
              "      <td>missing</td>\n",
              "      <td>0</td>\n",
              "      <td>1</td>\n",
              "      <td>0</td>\n",
              "      <td>Other</td>\n",
              "      <td>Internship</td>\n",
              "      <td>missing</td>\n",
              "      <td>missing</td>\n",
              "      <td>Marketing</td>\n",
              "      <td>0</td>\n",
              "      <td>US</td>\n",
              "      <td>New York</td>\n",
              "    </tr>\n",
              "  </tbody>\n",
              "</table>\n",
              "</div>\n",
              "      <button class=\"colab-df-convert\" onclick=\"convertToInteractive('df-58cd07f7-4444-4e08-92bb-4d59de2901c6')\"\n",
              "              title=\"Convert this dataframe to an interactive table.\"\n",
              "              style=\"display:none;\">\n",
              "        \n",
              "  <svg xmlns=\"http://www.w3.org/2000/svg\" height=\"24px\"viewBox=\"0 0 24 24\"\n",
              "       width=\"24px\">\n",
              "    <path d=\"M0 0h24v24H0V0z\" fill=\"none\"/>\n",
              "    <path d=\"M18.56 5.44l.94 2.06.94-2.06 2.06-.94-2.06-.94-.94-2.06-.94 2.06-2.06.94zm-11 1L8.5 8.5l.94-2.06 2.06-.94-2.06-.94L8.5 2.5l-.94 2.06-2.06.94zm10 10l.94 2.06.94-2.06 2.06-.94-2.06-.94-.94-2.06-.94 2.06-2.06.94z\"/><path d=\"M17.41 7.96l-1.37-1.37c-.4-.4-.92-.59-1.43-.59-.52 0-1.04.2-1.43.59L10.3 9.45l-7.72 7.72c-.78.78-.78 2.05 0 2.83L4 21.41c.39.39.9.59 1.41.59.51 0 1.02-.2 1.41-.59l7.78-7.78 2.81-2.81c.8-.78.8-2.07 0-2.86zM5.41 20L4 18.59l7.72-7.72 1.47 1.35L5.41 20z\"/>\n",
              "  </svg>\n",
              "      </button>\n",
              "      \n",
              "  <style>\n",
              "    .colab-df-container {\n",
              "      display:flex;\n",
              "      flex-wrap:wrap;\n",
              "      gap: 12px;\n",
              "    }\n",
              "\n",
              "    .colab-df-convert {\n",
              "      background-color: #E8F0FE;\n",
              "      border: none;\n",
              "      border-radius: 50%;\n",
              "      cursor: pointer;\n",
              "      display: none;\n",
              "      fill: #1967D2;\n",
              "      height: 32px;\n",
              "      padding: 0 0 0 0;\n",
              "      width: 32px;\n",
              "    }\n",
              "\n",
              "    .colab-df-convert:hover {\n",
              "      background-color: #E2EBFA;\n",
              "      box-shadow: 0px 1px 2px rgba(60, 64, 67, 0.3), 0px 1px 3px 1px rgba(60, 64, 67, 0.15);\n",
              "      fill: #174EA6;\n",
              "    }\n",
              "\n",
              "    [theme=dark] .colab-df-convert {\n",
              "      background-color: #3B4455;\n",
              "      fill: #D2E3FC;\n",
              "    }\n",
              "\n",
              "    [theme=dark] .colab-df-convert:hover {\n",
              "      background-color: #434B5C;\n",
              "      box-shadow: 0px 1px 3px 1px rgba(0, 0, 0, 0.15);\n",
              "      filter: drop-shadow(0px 1px 2px rgba(0, 0, 0, 0.3));\n",
              "      fill: #FFFFFF;\n",
              "    }\n",
              "  </style>\n",
              "\n",
              "      <script>\n",
              "        const buttonEl =\n",
              "          document.querySelector('#df-58cd07f7-4444-4e08-92bb-4d59de2901c6 button.colab-df-convert');\n",
              "        buttonEl.style.display =\n",
              "          google.colab.kernel.accessAllowed ? 'block' : 'none';\n",
              "\n",
              "        async function convertToInteractive(key) {\n",
              "          const element = document.querySelector('#df-58cd07f7-4444-4e08-92bb-4d59de2901c6');\n",
              "          const dataTable =\n",
              "            await google.colab.kernel.invokeFunction('convertToInteractive',\n",
              "                                                     [key], {});\n",
              "          if (!dataTable) return;\n",
              "\n",
              "          const docLinkHtml = 'Like what you see? Visit the ' +\n",
              "            '<a target=\"_blank\" href=https://colab.research.google.com/notebooks/data_table.ipynb>data table notebook</a>'\n",
              "            + ' to learn more about interactive tables.';\n",
              "          element.innerHTML = '';\n",
              "          dataTable['output_type'] = 'display_data';\n",
              "          await google.colab.output.renderOutput(dataTable, element);\n",
              "          const docLink = document.createElement('div');\n",
              "          docLink.innerHTML = docLinkHtml;\n",
              "          element.appendChild(docLink);\n",
              "        }\n",
              "      </script>\n",
              "    </div>\n",
              "  </div>\n",
              "  "
            ]
          },
          "metadata": {},
          "execution_count": 12
        }
      ],
      "source": [
        "data.head(1)"
      ],
      "id": "7453241f"
    },
    {
      "cell_type": "markdown",
      "metadata": {
        "id": "903a0082"
      },
      "source": [
        "#### Separating min and max salary range"
      ],
      "id": "903a0082"
    },
    {
      "cell_type": "code",
      "execution_count": 13,
      "metadata": {
        "id": "0e3a76c4"
      },
      "outputs": [],
      "source": [
        "data['min_salary'] = data['salary_range'].str.split('-').apply(lambda x: x[0])\n",
        "data['max_salary'] = data['salary_range'].str.split('-').apply(lambda x: x[-1])"
      ],
      "id": "0e3a76c4"
    },
    {
      "cell_type": "code",
      "execution_count": 14,
      "metadata": {
        "colab": {
          "base_uri": "https://localhost:8080/",
          "height": 226
        },
        "id": "77dfe2cc",
        "outputId": "4cec3717-4d2f-40fd-d041-6778474a743d"
      },
      "outputs": [
        {
          "output_type": "execute_result",
          "data": {
            "text/plain": [
              "   job_id             title          location department salary_range  \\\n",
              "0       1  Marketing Intern  US, NY, New York  Marketing      missing   \n",
              "\n",
              "                                     company_profile  \\\n",
              "0  We're Food52, and we've created a groundbreaki...   \n",
              "\n",
              "                                         description  \\\n",
              "0  Food52, a fast-growing, James Beard Award-winn...   \n",
              "\n",
              "                                        requirements benefits  telecommuting  \\\n",
              "0  Experience with content management systems a m...  missing              0   \n",
              "\n",
              "   ...  employment_type  required_experience required_education industry  \\\n",
              "0  ...            Other           Internship            missing  missing   \n",
              "\n",
              "    function fraudulent country       city min_salary max_salary  \n",
              "0  Marketing          0      US   New York    missing    missing  \n",
              "\n",
              "[1 rows x 22 columns]"
            ],
            "text/html": [
              "\n",
              "  <div id=\"df-e81ee7f8-4749-4a94-a721-fde956d35a34\">\n",
              "    <div class=\"colab-df-container\">\n",
              "      <div>\n",
              "<style scoped>\n",
              "    .dataframe tbody tr th:only-of-type {\n",
              "        vertical-align: middle;\n",
              "    }\n",
              "\n",
              "    .dataframe tbody tr th {\n",
              "        vertical-align: top;\n",
              "    }\n",
              "\n",
              "    .dataframe thead th {\n",
              "        text-align: right;\n",
              "    }\n",
              "</style>\n",
              "<table border=\"1\" class=\"dataframe\">\n",
              "  <thead>\n",
              "    <tr style=\"text-align: right;\">\n",
              "      <th></th>\n",
              "      <th>job_id</th>\n",
              "      <th>title</th>\n",
              "      <th>location</th>\n",
              "      <th>department</th>\n",
              "      <th>salary_range</th>\n",
              "      <th>company_profile</th>\n",
              "      <th>description</th>\n",
              "      <th>requirements</th>\n",
              "      <th>benefits</th>\n",
              "      <th>telecommuting</th>\n",
              "      <th>...</th>\n",
              "      <th>employment_type</th>\n",
              "      <th>required_experience</th>\n",
              "      <th>required_education</th>\n",
              "      <th>industry</th>\n",
              "      <th>function</th>\n",
              "      <th>fraudulent</th>\n",
              "      <th>country</th>\n",
              "      <th>city</th>\n",
              "      <th>min_salary</th>\n",
              "      <th>max_salary</th>\n",
              "    </tr>\n",
              "  </thead>\n",
              "  <tbody>\n",
              "    <tr>\n",
              "      <th>0</th>\n",
              "      <td>1</td>\n",
              "      <td>Marketing Intern</td>\n",
              "      <td>US, NY, New York</td>\n",
              "      <td>Marketing</td>\n",
              "      <td>missing</td>\n",
              "      <td>We're Food52, and we've created a groundbreaki...</td>\n",
              "      <td>Food52, a fast-growing, James Beard Award-winn...</td>\n",
              "      <td>Experience with content management systems a m...</td>\n",
              "      <td>missing</td>\n",
              "      <td>0</td>\n",
              "      <td>...</td>\n",
              "      <td>Other</td>\n",
              "      <td>Internship</td>\n",
              "      <td>missing</td>\n",
              "      <td>missing</td>\n",
              "      <td>Marketing</td>\n",
              "      <td>0</td>\n",
              "      <td>US</td>\n",
              "      <td>New York</td>\n",
              "      <td>missing</td>\n",
              "      <td>missing</td>\n",
              "    </tr>\n",
              "  </tbody>\n",
              "</table>\n",
              "<p>1 rows × 22 columns</p>\n",
              "</div>\n",
              "      <button class=\"colab-df-convert\" onclick=\"convertToInteractive('df-e81ee7f8-4749-4a94-a721-fde956d35a34')\"\n",
              "              title=\"Convert this dataframe to an interactive table.\"\n",
              "              style=\"display:none;\">\n",
              "        \n",
              "  <svg xmlns=\"http://www.w3.org/2000/svg\" height=\"24px\"viewBox=\"0 0 24 24\"\n",
              "       width=\"24px\">\n",
              "    <path d=\"M0 0h24v24H0V0z\" fill=\"none\"/>\n",
              "    <path d=\"M18.56 5.44l.94 2.06.94-2.06 2.06-.94-2.06-.94-.94-2.06-.94 2.06-2.06.94zm-11 1L8.5 8.5l.94-2.06 2.06-.94-2.06-.94L8.5 2.5l-.94 2.06-2.06.94zm10 10l.94 2.06.94-2.06 2.06-.94-2.06-.94-.94-2.06-.94 2.06-2.06.94z\"/><path d=\"M17.41 7.96l-1.37-1.37c-.4-.4-.92-.59-1.43-.59-.52 0-1.04.2-1.43.59L10.3 9.45l-7.72 7.72c-.78.78-.78 2.05 0 2.83L4 21.41c.39.39.9.59 1.41.59.51 0 1.02-.2 1.41-.59l7.78-7.78 2.81-2.81c.8-.78.8-2.07 0-2.86zM5.41 20L4 18.59l7.72-7.72 1.47 1.35L5.41 20z\"/>\n",
              "  </svg>\n",
              "      </button>\n",
              "      \n",
              "  <style>\n",
              "    .colab-df-container {\n",
              "      display:flex;\n",
              "      flex-wrap:wrap;\n",
              "      gap: 12px;\n",
              "    }\n",
              "\n",
              "    .colab-df-convert {\n",
              "      background-color: #E8F0FE;\n",
              "      border: none;\n",
              "      border-radius: 50%;\n",
              "      cursor: pointer;\n",
              "      display: none;\n",
              "      fill: #1967D2;\n",
              "      height: 32px;\n",
              "      padding: 0 0 0 0;\n",
              "      width: 32px;\n",
              "    }\n",
              "\n",
              "    .colab-df-convert:hover {\n",
              "      background-color: #E2EBFA;\n",
              "      box-shadow: 0px 1px 2px rgba(60, 64, 67, 0.3), 0px 1px 3px 1px rgba(60, 64, 67, 0.15);\n",
              "      fill: #174EA6;\n",
              "    }\n",
              "\n",
              "    [theme=dark] .colab-df-convert {\n",
              "      background-color: #3B4455;\n",
              "      fill: #D2E3FC;\n",
              "    }\n",
              "\n",
              "    [theme=dark] .colab-df-convert:hover {\n",
              "      background-color: #434B5C;\n",
              "      box-shadow: 0px 1px 3px 1px rgba(0, 0, 0, 0.15);\n",
              "      filter: drop-shadow(0px 1px 2px rgba(0, 0, 0, 0.3));\n",
              "      fill: #FFFFFF;\n",
              "    }\n",
              "  </style>\n",
              "\n",
              "      <script>\n",
              "        const buttonEl =\n",
              "          document.querySelector('#df-e81ee7f8-4749-4a94-a721-fde956d35a34 button.colab-df-convert');\n",
              "        buttonEl.style.display =\n",
              "          google.colab.kernel.accessAllowed ? 'block' : 'none';\n",
              "\n",
              "        async function convertToInteractive(key) {\n",
              "          const element = document.querySelector('#df-e81ee7f8-4749-4a94-a721-fde956d35a34');\n",
              "          const dataTable =\n",
              "            await google.colab.kernel.invokeFunction('convertToInteractive',\n",
              "                                                     [key], {});\n",
              "          if (!dataTable) return;\n",
              "\n",
              "          const docLinkHtml = 'Like what you see? Visit the ' +\n",
              "            '<a target=\"_blank\" href=https://colab.research.google.com/notebooks/data_table.ipynb>data table notebook</a>'\n",
              "            + ' to learn more about interactive tables.';\n",
              "          element.innerHTML = '';\n",
              "          dataTable['output_type'] = 'display_data';\n",
              "          await google.colab.output.renderOutput(dataTable, element);\n",
              "          const docLink = document.createElement('div');\n",
              "          docLink.innerHTML = docLinkHtml;\n",
              "          element.appendChild(docLink);\n",
              "        }\n",
              "      </script>\n",
              "    </div>\n",
              "  </div>\n",
              "  "
            ]
          },
          "metadata": {},
          "execution_count": 14
        }
      ],
      "source": [
        "data.head(1)"
      ],
      "id": "77dfe2cc"
    },
    {
      "cell_type": "markdown",
      "metadata": {
        "id": "84645a4f"
      },
      "source": [
        "#### Using Natural Language Toolkit for text processing"
      ],
      "id": "84645a4f"
    },
    {
      "cell_type": "code",
      "execution_count": 15,
      "metadata": {
        "id": "70b8e507"
      },
      "outputs": [],
      "source": [
        "import nltk\n",
        "from nltk import sent_tokenize\n",
        "from nltk import word_tokenize"
      ],
      "id": "70b8e507"
    },
    {
      "cell_type": "markdown",
      "metadata": {
        "id": "3766d166"
      },
      "source": [
        "import nltk\n",
        "nltk.download()"
      ],
      "id": "3766d166"
    },
    {
      "cell_type": "code",
      "execution_count": 16,
      "metadata": {
        "colab": {
          "base_uri": "https://localhost:8080/"
        },
        "id": "a4a89ae9",
        "outputId": "3c592d64-5592-46c1-aeec-210859a7c965"
      },
      "outputs": [
        {
          "output_type": "stream",
          "name": "stdout",
          "text": [
            "[nltk_data] Downloading package punkt to /root/nltk_data...\n",
            "[nltk_data]   Unzipping tokenizers/punkt.zip.\n"
          ]
        },
        {
          "output_type": "execute_result",
          "data": {
            "text/plain": [
              "True"
            ]
          },
          "metadata": {},
          "execution_count": 16
        }
      ],
      "source": [
        "import nltk\n",
        "nltk.download('punkt')"
      ],
      "id": "a4a89ae9"
    },
    {
      "cell_type": "code",
      "execution_count": 17,
      "metadata": {
        "id": "3d35d65c"
      },
      "outputs": [],
      "source": [
        "#data['tokenized_description'] = data['description'].apply(word_tokenize)"
      ],
      "id": "3d35d65c"
    },
    {
      "cell_type": "code",
      "execution_count": 18,
      "metadata": {
        "id": "c1c780eb"
      },
      "outputs": [],
      "source": [
        "#data.head(1)"
      ],
      "id": "c1c780eb"
    },
    {
      "cell_type": "code",
      "execution_count": 19,
      "metadata": {
        "id": "1364861a"
      },
      "outputs": [],
      "source": [
        "#from nltk.probability import FreqDist\n",
        "#frequency = data['tokenized_description'].apply(FreqDist)"
      ],
      "id": "1364861a"
    },
    {
      "cell_type": "code",
      "execution_count": 20,
      "metadata": {
        "id": "3769d113"
      },
      "outputs": [],
      "source": [
        "#frequency"
      ],
      "id": "3769d113"
    },
    {
      "cell_type": "code",
      "execution_count": 21,
      "metadata": {
        "colab": {
          "base_uri": "https://localhost:8080/",
          "height": 0
        },
        "id": "2a779dbe",
        "outputId": "e8e89093-c22c-4556-f2a6-de6b2792c16b"
      },
      "outputs": [
        {
          "output_type": "execute_result",
          "data": {
            "text/plain": [
              "                                       title  \\\n",
              "0                           Marketing Intern   \n",
              "1  Customer Service - Cloud Video Production   \n",
              "2    Commissioning Machinery Assistant (CMA)   \n",
              "3          Account Executive - Washington DC   \n",
              "4                        Bill Review Manager   \n",
              "\n",
              "                                     company_profile  \\\n",
              "0  We're Food52, and we've created a groundbreaki...   \n",
              "1  90 Seconds, the worlds Cloud Video Production ...   \n",
              "2  Valor Services provides Workforce Solutions th...   \n",
              "3  Our passion for improving quality of life thro...   \n",
              "4  SpotSource Solutions LLC is a Global Human Cap...   \n",
              "\n",
              "                                         description  \\\n",
              "0  Food52, a fast-growing, James Beard Award-winn...   \n",
              "1  Organised - Focused - Vibrant - Awesome!Do you...   \n",
              "2  Our client, located in Houston, is actively se...   \n",
              "3  THE COMPANY: ESRI – Environmental Systems Rese...   \n",
              "4  JOB TITLE: Itemization Review ManagerLOCATION:...   \n",
              "\n",
              "                                        requirements  \\\n",
              "0  Experience with content management systems a m...   \n",
              "1  What we expect from you:Your key responsibilit...   \n",
              "2  Implement pre-commissioning and commissioning ...   \n",
              "3  EDUCATION: Bachelor’s or Master’s in GIS, busi...   \n",
              "4  QUALIFICATIONS:RN license in the State of Texa...   \n",
              "\n",
              "                                            benefits  \n",
              "0                                            missing  \n",
              "1  What you will get from usThrough being part of...  \n",
              "2                                            missing  \n",
              "3  Our culture is anything but corporate—we have ...  \n",
              "4                              Full Benefits Offered  "
            ],
            "text/html": [
              "\n",
              "  <div id=\"df-f5346f37-6ae1-4a1a-b40e-15cff8c8a8b7\">\n",
              "    <div class=\"colab-df-container\">\n",
              "      <div>\n",
              "<style scoped>\n",
              "    .dataframe tbody tr th:only-of-type {\n",
              "        vertical-align: middle;\n",
              "    }\n",
              "\n",
              "    .dataframe tbody tr th {\n",
              "        vertical-align: top;\n",
              "    }\n",
              "\n",
              "    .dataframe thead th {\n",
              "        text-align: right;\n",
              "    }\n",
              "</style>\n",
              "<table border=\"1\" class=\"dataframe\">\n",
              "  <thead>\n",
              "    <tr style=\"text-align: right;\">\n",
              "      <th></th>\n",
              "      <th>title</th>\n",
              "      <th>company_profile</th>\n",
              "      <th>description</th>\n",
              "      <th>requirements</th>\n",
              "      <th>benefits</th>\n",
              "    </tr>\n",
              "  </thead>\n",
              "  <tbody>\n",
              "    <tr>\n",
              "      <th>0</th>\n",
              "      <td>Marketing Intern</td>\n",
              "      <td>We're Food52, and we've created a groundbreaki...</td>\n",
              "      <td>Food52, a fast-growing, James Beard Award-winn...</td>\n",
              "      <td>Experience with content management systems a m...</td>\n",
              "      <td>missing</td>\n",
              "    </tr>\n",
              "    <tr>\n",
              "      <th>1</th>\n",
              "      <td>Customer Service - Cloud Video Production</td>\n",
              "      <td>90 Seconds, the worlds Cloud Video Production ...</td>\n",
              "      <td>Organised - Focused - Vibrant - Awesome!Do you...</td>\n",
              "      <td>What we expect from you:Your key responsibilit...</td>\n",
              "      <td>What you will get from usThrough being part of...</td>\n",
              "    </tr>\n",
              "    <tr>\n",
              "      <th>2</th>\n",
              "      <td>Commissioning Machinery Assistant (CMA)</td>\n",
              "      <td>Valor Services provides Workforce Solutions th...</td>\n",
              "      <td>Our client, located in Houston, is actively se...</td>\n",
              "      <td>Implement pre-commissioning and commissioning ...</td>\n",
              "      <td>missing</td>\n",
              "    </tr>\n",
              "    <tr>\n",
              "      <th>3</th>\n",
              "      <td>Account Executive - Washington DC</td>\n",
              "      <td>Our passion for improving quality of life thro...</td>\n",
              "      <td>THE COMPANY: ESRI – Environmental Systems Rese...</td>\n",
              "      <td>EDUCATION: Bachelor’s or Master’s in GIS, busi...</td>\n",
              "      <td>Our culture is anything but corporate—we have ...</td>\n",
              "    </tr>\n",
              "    <tr>\n",
              "      <th>4</th>\n",
              "      <td>Bill Review Manager</td>\n",
              "      <td>SpotSource Solutions LLC is a Global Human Cap...</td>\n",
              "      <td>JOB TITLE: Itemization Review ManagerLOCATION:...</td>\n",
              "      <td>QUALIFICATIONS:RN license in the State of Texa...</td>\n",
              "      <td>Full Benefits Offered</td>\n",
              "    </tr>\n",
              "  </tbody>\n",
              "</table>\n",
              "</div>\n",
              "      <button class=\"colab-df-convert\" onclick=\"convertToInteractive('df-f5346f37-6ae1-4a1a-b40e-15cff8c8a8b7')\"\n",
              "              title=\"Convert this dataframe to an interactive table.\"\n",
              "              style=\"display:none;\">\n",
              "        \n",
              "  <svg xmlns=\"http://www.w3.org/2000/svg\" height=\"24px\"viewBox=\"0 0 24 24\"\n",
              "       width=\"24px\">\n",
              "    <path d=\"M0 0h24v24H0V0z\" fill=\"none\"/>\n",
              "    <path d=\"M18.56 5.44l.94 2.06.94-2.06 2.06-.94-2.06-.94-.94-2.06-.94 2.06-2.06.94zm-11 1L8.5 8.5l.94-2.06 2.06-.94-2.06-.94L8.5 2.5l-.94 2.06-2.06.94zm10 10l.94 2.06.94-2.06 2.06-.94-2.06-.94-.94-2.06-.94 2.06-2.06.94z\"/><path d=\"M17.41 7.96l-1.37-1.37c-.4-.4-.92-.59-1.43-.59-.52 0-1.04.2-1.43.59L10.3 9.45l-7.72 7.72c-.78.78-.78 2.05 0 2.83L4 21.41c.39.39.9.59 1.41.59.51 0 1.02-.2 1.41-.59l7.78-7.78 2.81-2.81c.8-.78.8-2.07 0-2.86zM5.41 20L4 18.59l7.72-7.72 1.47 1.35L5.41 20z\"/>\n",
              "  </svg>\n",
              "      </button>\n",
              "      \n",
              "  <style>\n",
              "    .colab-df-container {\n",
              "      display:flex;\n",
              "      flex-wrap:wrap;\n",
              "      gap: 12px;\n",
              "    }\n",
              "\n",
              "    .colab-df-convert {\n",
              "      background-color: #E8F0FE;\n",
              "      border: none;\n",
              "      border-radius: 50%;\n",
              "      cursor: pointer;\n",
              "      display: none;\n",
              "      fill: #1967D2;\n",
              "      height: 32px;\n",
              "      padding: 0 0 0 0;\n",
              "      width: 32px;\n",
              "    }\n",
              "\n",
              "    .colab-df-convert:hover {\n",
              "      background-color: #E2EBFA;\n",
              "      box-shadow: 0px 1px 2px rgba(60, 64, 67, 0.3), 0px 1px 3px 1px rgba(60, 64, 67, 0.15);\n",
              "      fill: #174EA6;\n",
              "    }\n",
              "\n",
              "    [theme=dark] .colab-df-convert {\n",
              "      background-color: #3B4455;\n",
              "      fill: #D2E3FC;\n",
              "    }\n",
              "\n",
              "    [theme=dark] .colab-df-convert:hover {\n",
              "      background-color: #434B5C;\n",
              "      box-shadow: 0px 1px 3px 1px rgba(0, 0, 0, 0.15);\n",
              "      filter: drop-shadow(0px 1px 2px rgba(0, 0, 0, 0.3));\n",
              "      fill: #FFFFFF;\n",
              "    }\n",
              "  </style>\n",
              "\n",
              "      <script>\n",
              "        const buttonEl =\n",
              "          document.querySelector('#df-f5346f37-6ae1-4a1a-b40e-15cff8c8a8b7 button.colab-df-convert');\n",
              "        buttonEl.style.display =\n",
              "          google.colab.kernel.accessAllowed ? 'block' : 'none';\n",
              "\n",
              "        async function convertToInteractive(key) {\n",
              "          const element = document.querySelector('#df-f5346f37-6ae1-4a1a-b40e-15cff8c8a8b7');\n",
              "          const dataTable =\n",
              "            await google.colab.kernel.invokeFunction('convertToInteractive',\n",
              "                                                     [key], {});\n",
              "          if (!dataTable) return;\n",
              "\n",
              "          const docLinkHtml = 'Like what you see? Visit the ' +\n",
              "            '<a target=\"_blank\" href=https://colab.research.google.com/notebooks/data_table.ipynb>data table notebook</a>'\n",
              "            + ' to learn more about interactive tables.';\n",
              "          element.innerHTML = '';\n",
              "          dataTable['output_type'] = 'display_data';\n",
              "          await google.colab.output.renderOutput(dataTable, element);\n",
              "          const docLink = document.createElement('div');\n",
              "          docLink.innerHTML = docLinkHtml;\n",
              "          element.appendChild(docLink);\n",
              "        }\n",
              "      </script>\n",
              "    </div>\n",
              "  </div>\n",
              "  "
            ]
          },
          "metadata": {},
          "execution_count": 21
        }
      ],
      "source": [
        "text_data = data[[\"title\", \"company_profile\", \"description\", \"requirements\", \"benefits\"]]\n",
        "text_data = text_data.fillna(' ')\n",
        "\n",
        "text_data.head()"
      ],
      "id": "2a779dbe"
    },
    {
      "cell_type": "code",
      "execution_count": 22,
      "metadata": {
        "colab": {
          "base_uri": "https://localhost:8080/",
          "height": 0
        },
        "id": "62670462",
        "outputId": "bfac10ed-4600-424c-90a6-ef445d6ac2bf"
      },
      "outputs": [
        {
          "output_type": "execute_result",
          "data": {
            "text/plain": [
              "   telecommuting  has_company_logo  has_questions employment_type  \\\n",
              "0              0                 1              0           Other   \n",
              "1              0                 1              0       Full-time   \n",
              "2              0                 1              0         missing   \n",
              "3              0                 1              0       Full-time   \n",
              "4              0                 1              1       Full-time   \n",
              "\n",
              "  required_experience required_education                   industry  \\\n",
              "0          Internship            missing                    missing   \n",
              "1      Not Applicable            missing  Marketing and Advertising   \n",
              "2             missing            missing                    missing   \n",
              "3    Mid-Senior level  Bachelor's Degree          Computer Software   \n",
              "4    Mid-Senior level  Bachelor's Degree     Hospital & Health Care   \n",
              "\n",
              "               function  \n",
              "0             Marketing  \n",
              "1      Customer Service  \n",
              "2               missing  \n",
              "3                 Sales  \n",
              "4  Health Care Provider  "
            ],
            "text/html": [
              "\n",
              "  <div id=\"df-1843b53e-e8f1-406e-8838-5b8ac234e990\">\n",
              "    <div class=\"colab-df-container\">\n",
              "      <div>\n",
              "<style scoped>\n",
              "    .dataframe tbody tr th:only-of-type {\n",
              "        vertical-align: middle;\n",
              "    }\n",
              "\n",
              "    .dataframe tbody tr th {\n",
              "        vertical-align: top;\n",
              "    }\n",
              "\n",
              "    .dataframe thead th {\n",
              "        text-align: right;\n",
              "    }\n",
              "</style>\n",
              "<table border=\"1\" class=\"dataframe\">\n",
              "  <thead>\n",
              "    <tr style=\"text-align: right;\">\n",
              "      <th></th>\n",
              "      <th>telecommuting</th>\n",
              "      <th>has_company_logo</th>\n",
              "      <th>has_questions</th>\n",
              "      <th>employment_type</th>\n",
              "      <th>required_experience</th>\n",
              "      <th>required_education</th>\n",
              "      <th>industry</th>\n",
              "      <th>function</th>\n",
              "    </tr>\n",
              "  </thead>\n",
              "  <tbody>\n",
              "    <tr>\n",
              "      <th>0</th>\n",
              "      <td>0</td>\n",
              "      <td>1</td>\n",
              "      <td>0</td>\n",
              "      <td>Other</td>\n",
              "      <td>Internship</td>\n",
              "      <td>missing</td>\n",
              "      <td>missing</td>\n",
              "      <td>Marketing</td>\n",
              "    </tr>\n",
              "    <tr>\n",
              "      <th>1</th>\n",
              "      <td>0</td>\n",
              "      <td>1</td>\n",
              "      <td>0</td>\n",
              "      <td>Full-time</td>\n",
              "      <td>Not Applicable</td>\n",
              "      <td>missing</td>\n",
              "      <td>Marketing and Advertising</td>\n",
              "      <td>Customer Service</td>\n",
              "    </tr>\n",
              "    <tr>\n",
              "      <th>2</th>\n",
              "      <td>0</td>\n",
              "      <td>1</td>\n",
              "      <td>0</td>\n",
              "      <td>missing</td>\n",
              "      <td>missing</td>\n",
              "      <td>missing</td>\n",
              "      <td>missing</td>\n",
              "      <td>missing</td>\n",
              "    </tr>\n",
              "    <tr>\n",
              "      <th>3</th>\n",
              "      <td>0</td>\n",
              "      <td>1</td>\n",
              "      <td>0</td>\n",
              "      <td>Full-time</td>\n",
              "      <td>Mid-Senior level</td>\n",
              "      <td>Bachelor's Degree</td>\n",
              "      <td>Computer Software</td>\n",
              "      <td>Sales</td>\n",
              "    </tr>\n",
              "    <tr>\n",
              "      <th>4</th>\n",
              "      <td>0</td>\n",
              "      <td>1</td>\n",
              "      <td>1</td>\n",
              "      <td>Full-time</td>\n",
              "      <td>Mid-Senior level</td>\n",
              "      <td>Bachelor's Degree</td>\n",
              "      <td>Hospital &amp; Health Care</td>\n",
              "      <td>Health Care Provider</td>\n",
              "    </tr>\n",
              "  </tbody>\n",
              "</table>\n",
              "</div>\n",
              "      <button class=\"colab-df-convert\" onclick=\"convertToInteractive('df-1843b53e-e8f1-406e-8838-5b8ac234e990')\"\n",
              "              title=\"Convert this dataframe to an interactive table.\"\n",
              "              style=\"display:none;\">\n",
              "        \n",
              "  <svg xmlns=\"http://www.w3.org/2000/svg\" height=\"24px\"viewBox=\"0 0 24 24\"\n",
              "       width=\"24px\">\n",
              "    <path d=\"M0 0h24v24H0V0z\" fill=\"none\"/>\n",
              "    <path d=\"M18.56 5.44l.94 2.06.94-2.06 2.06-.94-2.06-.94-.94-2.06-.94 2.06-2.06.94zm-11 1L8.5 8.5l.94-2.06 2.06-.94-2.06-.94L8.5 2.5l-.94 2.06-2.06.94zm10 10l.94 2.06.94-2.06 2.06-.94-2.06-.94-.94-2.06-.94 2.06-2.06.94z\"/><path d=\"M17.41 7.96l-1.37-1.37c-.4-.4-.92-.59-1.43-.59-.52 0-1.04.2-1.43.59L10.3 9.45l-7.72 7.72c-.78.78-.78 2.05 0 2.83L4 21.41c.39.39.9.59 1.41.59.51 0 1.02-.2 1.41-.59l7.78-7.78 2.81-2.81c.8-.78.8-2.07 0-2.86zM5.41 20L4 18.59l7.72-7.72 1.47 1.35L5.41 20z\"/>\n",
              "  </svg>\n",
              "      </button>\n",
              "      \n",
              "  <style>\n",
              "    .colab-df-container {\n",
              "      display:flex;\n",
              "      flex-wrap:wrap;\n",
              "      gap: 12px;\n",
              "    }\n",
              "\n",
              "    .colab-df-convert {\n",
              "      background-color: #E8F0FE;\n",
              "      border: none;\n",
              "      border-radius: 50%;\n",
              "      cursor: pointer;\n",
              "      display: none;\n",
              "      fill: #1967D2;\n",
              "      height: 32px;\n",
              "      padding: 0 0 0 0;\n",
              "      width: 32px;\n",
              "    }\n",
              "\n",
              "    .colab-df-convert:hover {\n",
              "      background-color: #E2EBFA;\n",
              "      box-shadow: 0px 1px 2px rgba(60, 64, 67, 0.3), 0px 1px 3px 1px rgba(60, 64, 67, 0.15);\n",
              "      fill: #174EA6;\n",
              "    }\n",
              "\n",
              "    [theme=dark] .colab-df-convert {\n",
              "      background-color: #3B4455;\n",
              "      fill: #D2E3FC;\n",
              "    }\n",
              "\n",
              "    [theme=dark] .colab-df-convert:hover {\n",
              "      background-color: #434B5C;\n",
              "      box-shadow: 0px 1px 3px 1px rgba(0, 0, 0, 0.15);\n",
              "      filter: drop-shadow(0px 1px 2px rgba(0, 0, 0, 0.3));\n",
              "      fill: #FFFFFF;\n",
              "    }\n",
              "  </style>\n",
              "\n",
              "      <script>\n",
              "        const buttonEl =\n",
              "          document.querySelector('#df-1843b53e-e8f1-406e-8838-5b8ac234e990 button.colab-df-convert');\n",
              "        buttonEl.style.display =\n",
              "          google.colab.kernel.accessAllowed ? 'block' : 'none';\n",
              "\n",
              "        async function convertToInteractive(key) {\n",
              "          const element = document.querySelector('#df-1843b53e-e8f1-406e-8838-5b8ac234e990');\n",
              "          const dataTable =\n",
              "            await google.colab.kernel.invokeFunction('convertToInteractive',\n",
              "                                                     [key], {});\n",
              "          if (!dataTable) return;\n",
              "\n",
              "          const docLinkHtml = 'Like what you see? Visit the ' +\n",
              "            '<a target=\"_blank\" href=https://colab.research.google.com/notebooks/data_table.ipynb>data table notebook</a>'\n",
              "            + ' to learn more about interactive tables.';\n",
              "          element.innerHTML = '';\n",
              "          dataTable['output_type'] = 'display_data';\n",
              "          await google.colab.output.renderOutput(dataTable, element);\n",
              "          const docLink = document.createElement('div');\n",
              "          docLink.innerHTML = docLinkHtml;\n",
              "          element.appendChild(docLink);\n",
              "        }\n",
              "      </script>\n",
              "    </div>\n",
              "  </div>\n",
              "  "
            ]
          },
          "metadata": {},
          "execution_count": 22
        }
      ],
      "source": [
        "cat_data = data[[\"telecommuting\", \"has_company_logo\", \"has_questions\", \"employment_type\", \"required_experience\", \"required_education\", \"industry\", \"function\",]]\n",
        "\n",
        "cat_data.head()"
      ],
      "id": "62670462"
    },
    {
      "cell_type": "code",
      "execution_count": 23,
      "metadata": {
        "colab": {
          "base_uri": "https://localhost:8080/"
        },
        "id": "1dbf9f74-ccc8-41bf-892f-7c2027888bf0",
        "outputId": "1479f8fb-1cc8-4a92-c3b2-2b3c58690f6a"
      },
      "outputs": [
        {
          "output_type": "stream",
          "name": "stderr",
          "text": [
            "/usr/local/lib/python3.7/dist-packages/ipykernel_launcher.py:6: SettingWithCopyWarning: \n",
            "A value is trying to be set on a copy of a slice from a DataFrame.\n",
            "Try using .loc[row_indexer,col_indexer] = value instead\n",
            "\n",
            "See the caveats in the documentation: https://pandas.pydata.org/pandas-docs/stable/user_guide/indexing.html#returning-a-view-versus-a-copy\n",
            "  \n"
          ]
        }
      ],
      "source": [
        "from sklearn.preprocessing import LabelEncoder\n",
        "label_columns = ['telecommuting', 'has_company_logo', 'has_questions', 'employment_type',\n",
        "       'required_experience', 'required_education', 'industry', 'function']\n",
        "lb_make = LabelEncoder()\n",
        "for i in label_columns:\n",
        "    cat_data[i] = lb_make.fit_transform(cat_data[i])"
      ],
      "id": "1dbf9f74-ccc8-41bf-892f-7c2027888bf0"
    },
    {
      "cell_type": "code",
      "execution_count": 24,
      "metadata": {
        "colab": {
          "base_uri": "https://localhost:8080/",
          "height": 0
        },
        "id": "9a032162-972f-4e2a-9da1-bc03025ea16c",
        "outputId": "a0dbdf9f-a7bb-4712-f5df-ed38f268fa6a"
      },
      "outputs": [
        {
          "output_type": "execute_result",
          "data": {
            "text/plain": [
              "       telecommuting  has_company_logo  has_questions  employment_type  \\\n",
              "0                  0                 1              0                2   \n",
              "1                  0                 1              0                1   \n",
              "2                  0                 1              0                5   \n",
              "3                  0                 1              0                1   \n",
              "4                  0                 1              1                1   \n",
              "...              ...               ...            ...              ...   \n",
              "17875              0                 1              1                1   \n",
              "17876              0                 1              1                1   \n",
              "17877              0                 0              0                1   \n",
              "17878              0                 0              1                0   \n",
              "17879              0                 1              1                1   \n",
              "\n",
              "       required_experience  required_education  industry  function  \n",
              "0                        4                  13       131        22  \n",
              "1                        6                  13        75         7  \n",
              "2                        7                  13       131        37  \n",
              "3                        5                   1        22        31  \n",
              "4                        5                   1        51        16  \n",
              "...                    ...                 ...       ...       ...  \n",
              "17875                    5                  13        22        31  \n",
              "17876                    5                   1        61         0  \n",
              "17877                    7                  13       131        37  \n",
              "17878                    6                   6        48         9  \n",
              "17879                    5                  13        22        12  \n",
              "\n",
              "[17880 rows x 8 columns]"
            ],
            "text/html": [
              "\n",
              "  <div id=\"df-c0fcac74-1347-4982-a97c-620f748bfb53\">\n",
              "    <div class=\"colab-df-container\">\n",
              "      <div>\n",
              "<style scoped>\n",
              "    .dataframe tbody tr th:only-of-type {\n",
              "        vertical-align: middle;\n",
              "    }\n",
              "\n",
              "    .dataframe tbody tr th {\n",
              "        vertical-align: top;\n",
              "    }\n",
              "\n",
              "    .dataframe thead th {\n",
              "        text-align: right;\n",
              "    }\n",
              "</style>\n",
              "<table border=\"1\" class=\"dataframe\">\n",
              "  <thead>\n",
              "    <tr style=\"text-align: right;\">\n",
              "      <th></th>\n",
              "      <th>telecommuting</th>\n",
              "      <th>has_company_logo</th>\n",
              "      <th>has_questions</th>\n",
              "      <th>employment_type</th>\n",
              "      <th>required_experience</th>\n",
              "      <th>required_education</th>\n",
              "      <th>industry</th>\n",
              "      <th>function</th>\n",
              "    </tr>\n",
              "  </thead>\n",
              "  <tbody>\n",
              "    <tr>\n",
              "      <th>0</th>\n",
              "      <td>0</td>\n",
              "      <td>1</td>\n",
              "      <td>0</td>\n",
              "      <td>2</td>\n",
              "      <td>4</td>\n",
              "      <td>13</td>\n",
              "      <td>131</td>\n",
              "      <td>22</td>\n",
              "    </tr>\n",
              "    <tr>\n",
              "      <th>1</th>\n",
              "      <td>0</td>\n",
              "      <td>1</td>\n",
              "      <td>0</td>\n",
              "      <td>1</td>\n",
              "      <td>6</td>\n",
              "      <td>13</td>\n",
              "      <td>75</td>\n",
              "      <td>7</td>\n",
              "    </tr>\n",
              "    <tr>\n",
              "      <th>2</th>\n",
              "      <td>0</td>\n",
              "      <td>1</td>\n",
              "      <td>0</td>\n",
              "      <td>5</td>\n",
              "      <td>7</td>\n",
              "      <td>13</td>\n",
              "      <td>131</td>\n",
              "      <td>37</td>\n",
              "    </tr>\n",
              "    <tr>\n",
              "      <th>3</th>\n",
              "      <td>0</td>\n",
              "      <td>1</td>\n",
              "      <td>0</td>\n",
              "      <td>1</td>\n",
              "      <td>5</td>\n",
              "      <td>1</td>\n",
              "      <td>22</td>\n",
              "      <td>31</td>\n",
              "    </tr>\n",
              "    <tr>\n",
              "      <th>4</th>\n",
              "      <td>0</td>\n",
              "      <td>1</td>\n",
              "      <td>1</td>\n",
              "      <td>1</td>\n",
              "      <td>5</td>\n",
              "      <td>1</td>\n",
              "      <td>51</td>\n",
              "      <td>16</td>\n",
              "    </tr>\n",
              "    <tr>\n",
              "      <th>...</th>\n",
              "      <td>...</td>\n",
              "      <td>...</td>\n",
              "      <td>...</td>\n",
              "      <td>...</td>\n",
              "      <td>...</td>\n",
              "      <td>...</td>\n",
              "      <td>...</td>\n",
              "      <td>...</td>\n",
              "    </tr>\n",
              "    <tr>\n",
              "      <th>17875</th>\n",
              "      <td>0</td>\n",
              "      <td>1</td>\n",
              "      <td>1</td>\n",
              "      <td>1</td>\n",
              "      <td>5</td>\n",
              "      <td>13</td>\n",
              "      <td>22</td>\n",
              "      <td>31</td>\n",
              "    </tr>\n",
              "    <tr>\n",
              "      <th>17876</th>\n",
              "      <td>0</td>\n",
              "      <td>1</td>\n",
              "      <td>1</td>\n",
              "      <td>1</td>\n",
              "      <td>5</td>\n",
              "      <td>1</td>\n",
              "      <td>61</td>\n",
              "      <td>0</td>\n",
              "    </tr>\n",
              "    <tr>\n",
              "      <th>17877</th>\n",
              "      <td>0</td>\n",
              "      <td>0</td>\n",
              "      <td>0</td>\n",
              "      <td>1</td>\n",
              "      <td>7</td>\n",
              "      <td>13</td>\n",
              "      <td>131</td>\n",
              "      <td>37</td>\n",
              "    </tr>\n",
              "    <tr>\n",
              "      <th>17878</th>\n",
              "      <td>0</td>\n",
              "      <td>0</td>\n",
              "      <td>1</td>\n",
              "      <td>0</td>\n",
              "      <td>6</td>\n",
              "      <td>6</td>\n",
              "      <td>48</td>\n",
              "      <td>9</td>\n",
              "    </tr>\n",
              "    <tr>\n",
              "      <th>17879</th>\n",
              "      <td>0</td>\n",
              "      <td>1</td>\n",
              "      <td>1</td>\n",
              "      <td>1</td>\n",
              "      <td>5</td>\n",
              "      <td>13</td>\n",
              "      <td>22</td>\n",
              "      <td>12</td>\n",
              "    </tr>\n",
              "  </tbody>\n",
              "</table>\n",
              "<p>17880 rows × 8 columns</p>\n",
              "</div>\n",
              "      <button class=\"colab-df-convert\" onclick=\"convertToInteractive('df-c0fcac74-1347-4982-a97c-620f748bfb53')\"\n",
              "              title=\"Convert this dataframe to an interactive table.\"\n",
              "              style=\"display:none;\">\n",
              "        \n",
              "  <svg xmlns=\"http://www.w3.org/2000/svg\" height=\"24px\"viewBox=\"0 0 24 24\"\n",
              "       width=\"24px\">\n",
              "    <path d=\"M0 0h24v24H0V0z\" fill=\"none\"/>\n",
              "    <path d=\"M18.56 5.44l.94 2.06.94-2.06 2.06-.94-2.06-.94-.94-2.06-.94 2.06-2.06.94zm-11 1L8.5 8.5l.94-2.06 2.06-.94-2.06-.94L8.5 2.5l-.94 2.06-2.06.94zm10 10l.94 2.06.94-2.06 2.06-.94-2.06-.94-.94-2.06-.94 2.06-2.06.94z\"/><path d=\"M17.41 7.96l-1.37-1.37c-.4-.4-.92-.59-1.43-.59-.52 0-1.04.2-1.43.59L10.3 9.45l-7.72 7.72c-.78.78-.78 2.05 0 2.83L4 21.41c.39.39.9.59 1.41.59.51 0 1.02-.2 1.41-.59l7.78-7.78 2.81-2.81c.8-.78.8-2.07 0-2.86zM5.41 20L4 18.59l7.72-7.72 1.47 1.35L5.41 20z\"/>\n",
              "  </svg>\n",
              "      </button>\n",
              "      \n",
              "  <style>\n",
              "    .colab-df-container {\n",
              "      display:flex;\n",
              "      flex-wrap:wrap;\n",
              "      gap: 12px;\n",
              "    }\n",
              "\n",
              "    .colab-df-convert {\n",
              "      background-color: #E8F0FE;\n",
              "      border: none;\n",
              "      border-radius: 50%;\n",
              "      cursor: pointer;\n",
              "      display: none;\n",
              "      fill: #1967D2;\n",
              "      height: 32px;\n",
              "      padding: 0 0 0 0;\n",
              "      width: 32px;\n",
              "    }\n",
              "\n",
              "    .colab-df-convert:hover {\n",
              "      background-color: #E2EBFA;\n",
              "      box-shadow: 0px 1px 2px rgba(60, 64, 67, 0.3), 0px 1px 3px 1px rgba(60, 64, 67, 0.15);\n",
              "      fill: #174EA6;\n",
              "    }\n",
              "\n",
              "    [theme=dark] .colab-df-convert {\n",
              "      background-color: #3B4455;\n",
              "      fill: #D2E3FC;\n",
              "    }\n",
              "\n",
              "    [theme=dark] .colab-df-convert:hover {\n",
              "      background-color: #434B5C;\n",
              "      box-shadow: 0px 1px 3px 1px rgba(0, 0, 0, 0.15);\n",
              "      filter: drop-shadow(0px 1px 2px rgba(0, 0, 0, 0.3));\n",
              "      fill: #FFFFFF;\n",
              "    }\n",
              "  </style>\n",
              "\n",
              "      <script>\n",
              "        const buttonEl =\n",
              "          document.querySelector('#df-c0fcac74-1347-4982-a97c-620f748bfb53 button.colab-df-convert');\n",
              "        buttonEl.style.display =\n",
              "          google.colab.kernel.accessAllowed ? 'block' : 'none';\n",
              "\n",
              "        async function convertToInteractive(key) {\n",
              "          const element = document.querySelector('#df-c0fcac74-1347-4982-a97c-620f748bfb53');\n",
              "          const dataTable =\n",
              "            await google.colab.kernel.invokeFunction('convertToInteractive',\n",
              "                                                     [key], {});\n",
              "          if (!dataTable) return;\n",
              "\n",
              "          const docLinkHtml = 'Like what you see? Visit the ' +\n",
              "            '<a target=\"_blank\" href=https://colab.research.google.com/notebooks/data_table.ipynb>data table notebook</a>'\n",
              "            + ' to learn more about interactive tables.';\n",
              "          element.innerHTML = '';\n",
              "          dataTable['output_type'] = 'display_data';\n",
              "          await google.colab.output.renderOutput(dataTable, element);\n",
              "          const docLink = document.createElement('div');\n",
              "          docLink.innerHTML = docLinkHtml;\n",
              "          element.appendChild(docLink);\n",
              "        }\n",
              "      </script>\n",
              "    </div>\n",
              "  </div>\n",
              "  "
            ]
          },
          "metadata": {},
          "execution_count": 24
        }
      ],
      "source": [
        "cat_data"
      ],
      "id": "9a032162-972f-4e2a-9da1-bc03025ea16c"
    },
    {
      "cell_type": "markdown",
      "metadata": {
        "id": "71424562-3cb8-4648-803c-3345d05c2be3"
      },
      "source": [
        "# Text Data Processing"
      ],
      "id": "71424562-3cb8-4648-803c-3345d05c2be3"
    },
    {
      "cell_type": "code",
      "execution_count": 25,
      "metadata": {
        "id": "331b038f"
      },
      "outputs": [],
      "source": [
        "import re\n",
        "import string"
      ],
      "id": "331b038f"
    },
    {
      "cell_type": "markdown",
      "metadata": {
        "id": "74ec1fe6-2f70-4513-8bc6-3b47da7166ee"
      },
      "source": [
        "## Look at text columns"
      ],
      "id": "74ec1fe6-2f70-4513-8bc6-3b47da7166ee"
    },
    {
      "cell_type": "code",
      "execution_count": 26,
      "metadata": {
        "colab": {
          "base_uri": "https://localhost:8080/"
        },
        "id": "1dc18a7c",
        "outputId": "cb66245c-ab67-4689-af82-3693f7f7910a"
      },
      "outputs": [
        {
          "output_type": "stream",
          "name": "stdout",
          "text": [
            "17880\n",
            "17880\n",
            "0        Marketing Intern,We're Food52, and we've creat...\n",
            "1        Customer Service - Cloud Video Production,90 S...\n",
            "2        Commissioning Machinery Assistant (CMA),Valor ...\n",
            "3        Account Executive - Washington DC,Our passion ...\n",
            "4        Bill Review Manager,SpotSource Solutions LLC i...\n",
            "                               ...                        \n",
            "17875    Account Director - Distribution ,Vend is looki...\n",
            "17876    Payroll Accountant,WebLinc is the e-commerce p...\n",
            "17877    Project Cost Control Staff Engineer - Cost Con...\n",
            "17878    Graphic Designer,missing,Nemsia Studios is loo...\n",
            "17879    Web Application Developers,Vend is looking for...\n",
            "Length: 17880, dtype: object\n"
          ]
        }
      ],
      "source": [
        "text = text_data[text_data.columns[0:-1]].apply(lambda x: ','.join(x.dropna().astype(str)),axis=1)\n",
        "target = data['fraudulent']\n",
        "\n",
        "print(len(text))\n",
        "print(len(target))\n",
        "print(text)"
      ],
      "id": "1dc18a7c"
    },
    {
      "cell_type": "markdown",
      "metadata": {
        "id": "b1f7b248-f687-49c4-9ef8-a9ed099df52b"
      },
      "source": [
        "## Function for cleaning up the text data"
      ],
      "id": "b1f7b248-f687-49c4-9ef8-a9ed099df52b"
    },
    {
      "cell_type": "code",
      "execution_count": 27,
      "metadata": {
        "colab": {
          "base_uri": "https://localhost:8080/"
        },
        "id": "19652780",
        "outputId": "6a3cd751-d818-4346-b73d-0a53d7c82919"
      },
      "outputs": [
        {
          "output_type": "execute_result",
          "data": {
            "text/plain": [
              "0    marketing internwere  and weve created a groun...\n",
              "1    customer service  cloud video  seconds the wor...\n",
              "2    commissioning machinery assistant cmavalor ser...\n",
              "3    account executive  washington dcour passion fo...\n",
              "4    bill review managerspotsource solutions llc is...\n",
              "5    accounting clerkmissingjob overviewapex is an ...\n",
              "6    head of content mffounded in  the fonpit ag ro...\n",
              "7    lead guest service specialist   airenvy’s miss...\n",
              "8    hp bsm  is a womanowned small business whose f...\n",
              "9    customer service associate  part time novitex ...\n",
              "dtype: object"
            ]
          },
          "metadata": {},
          "execution_count": 27
        }
      ],
      "source": [
        "def clean_text(text):\n",
        "    '''Make text lowercase, remove text in square brackets,remove links,remove punctuation and remove words containing numbers.'''\n",
        "    text = text.lower() # Lower case\n",
        "    text = re.sub('\\[.*?\\]', '', text) # No text in square brackets\n",
        "    text = re.sub('https?://\\S+|www\\.\\S+', '', text) # Remove HTML links\n",
        "    text = re.sub('<.*?>+', '', text) # Remove punctuations\n",
        "    text = re.sub('[%s]' % re.escape(string.punctuation), '', text) # Remove punctuations\n",
        "    text = re.sub('\\n', '', text) # Remove new lines\n",
        "    text = re.sub('\\w*\\d\\w*', '', text) # Remove words with numbers\n",
        "    return text\n",
        "\n",
        "\n",
        "# Applying the cleaning function to both test and training datasets\n",
        "text = text.apply(lambda x: clean_text(x))\n",
        "text.head(10)\n"
      ],
      "id": "19652780"
    },
    {
      "cell_type": "markdown",
      "metadata": {
        "id": "162bf0af-672d-490c-9e2c-161d1726e9c5"
      },
      "source": [
        "## Tokenizer"
      ],
      "id": "162bf0af-672d-490c-9e2c-161d1726e9c5"
    },
    {
      "cell_type": "code",
      "execution_count": 28,
      "metadata": {
        "colab": {
          "base_uri": "https://localhost:8080/"
        },
        "id": "d616c1fd-0706-45f4-8282-1bfd6e964a7c",
        "outputId": "b8cb01af-acb3-4d40-ee87-0bac560e7d28"
      },
      "outputs": [
        {
          "output_type": "stream",
          "name": "stdout",
          "text": [
            "CPU times: user 1.76 s, sys: 385 ms, total: 2.15 s\n",
            "Wall time: 2.16 s\n"
          ]
        }
      ],
      "source": [
        "%%time\n",
        "tokenizer = nltk.tokenize.RegexpTokenizer(r'\\w+')\n",
        "\n",
        "# appling tokenizer5\n",
        "text = text.apply(lambda x: tokenizer.tokenize(x))\n",
        "text.head(3)"
      ],
      "id": "d616c1fd-0706-45f4-8282-1bfd6e964a7c"
    },
    {
      "cell_type": "markdown",
      "metadata": {
        "id": "2e90661b-3d96-4915-a9bb-70d6095b7227"
      },
      "source": [
        "## Removing stopwords in English"
      ],
      "id": "2e90661b-3d96-4915-a9bb-70d6095b7227"
    },
    {
      "cell_type": "code",
      "execution_count": 29,
      "metadata": {
        "colab": {
          "base_uri": "https://localhost:8080/"
        },
        "id": "41fed5ac-fb71-4548-a5ed-d42afe205865",
        "outputId": "a53f48cb-3605-43b6-c2be-f22786e08641"
      },
      "outputs": [
        {
          "output_type": "stream",
          "name": "stdout",
          "text": [
            "[nltk_data] Downloading package stopwords to /root/nltk_data...\n",
            "[nltk_data]   Unzipping corpora/stopwords.zip.\n"
          ]
        },
        {
          "output_type": "execute_result",
          "data": {
            "text/plain": [
              "True"
            ]
          },
          "metadata": {},
          "execution_count": 29
        }
      ],
      "source": [
        "import nltk\n",
        "nltk.download('stopwords')"
      ],
      "id": "41fed5ac-fb71-4548-a5ed-d42afe205865"
    },
    {
      "cell_type": "code",
      "execution_count": 30,
      "metadata": {
        "colab": {
          "base_uri": "https://localhost:8080/"
        },
        "id": "4e9f4f62",
        "outputId": "44883f08-6f8b-44b5-cfda-fc37690b7513"
      },
      "outputs": [
        {
          "output_type": "stream",
          "name": "stdout",
          "text": [
            "['i', 'me', 'my', 'myself', 'we', 'our', 'ours', 'ourselves', 'you', \"you're\", \"you've\", \"you'll\", \"you'd\", 'your', 'yours', 'yourself', 'yourselves', 'he', 'him', 'his', 'himself', 'she', \"she's\", 'her', 'hers', 'herself', 'it', \"it's\", 'its', 'itself', 'they', 'them', 'their', 'theirs', 'themselves', 'what', 'which', 'who', 'whom', 'this', 'that', \"that'll\", 'these', 'those', 'am', 'is', 'are', 'was', 'were', 'be', 'been', 'being', 'have', 'has', 'had', 'having', 'do', 'does', 'did', 'doing', 'a', 'an', 'the', 'and', 'but', 'if', 'or', 'because', 'as', 'until', 'while', 'of', 'at', 'by', 'for', 'with', 'about', 'against', 'between', 'into', 'through', 'during', 'before', 'after', 'above', 'below', 'to', 'from', 'up', 'down', 'in', 'out', 'on', 'off', 'over', 'under', 'again', 'further', 'then', 'once', 'here', 'there', 'when', 'where', 'why', 'how', 'all', 'any', 'both', 'each', 'few', 'more', 'most', 'other', 'some', 'such', 'no', 'nor', 'not', 'only', 'own', 'same', 'so', 'than', 'too', 'very', 's', 't', 'can', 'will', 'just', 'don', \"don't\", 'should', \"should've\", 'now', 'd', 'll', 'm', 'o', 're', 've', 'y', 'ain', 'aren', \"aren't\", 'couldn', \"couldn't\", 'didn', \"didn't\", 'doesn', \"doesn't\", 'hadn', \"hadn't\", 'hasn', \"hasn't\", 'haven', \"haven't\", 'isn', \"isn't\", 'ma', 'mightn', \"mightn't\", 'mustn', \"mustn't\", 'needn', \"needn't\", 'shan', \"shan't\", 'shouldn', \"shouldn't\", 'wasn', \"wasn't\", 'weren', \"weren't\", 'won', \"won't\", 'wouldn', \"wouldn't\"]\n"
          ]
        }
      ],
      "source": [
        "from nltk.corpus import stopwords\n",
        "stop = stopwords.words('english')\n",
        "print(stop)"
      ],
      "id": "4e9f4f62"
    },
    {
      "cell_type": "code",
      "execution_count": 31,
      "metadata": {
        "id": "57027046-c314-40b1-860a-80ed5b2704e4"
      },
      "outputs": [],
      "source": [
        "stop_words = stopwords.words('english')\n",
        "def remove_stopwords(text):\n",
        "    \"\"\"\n",
        "    Removing stopwords belonging to english language\n",
        "    \n",
        "    \"\"\"\n",
        "    words = [w for w in text if w not in stop_words]\n",
        "    return words\n",
        "\n",
        "\n",
        "text = text.apply(lambda x : remove_stopwords(x))"
      ],
      "id": "57027046-c314-40b1-860a-80ed5b2704e4"
    },
    {
      "cell_type": "code",
      "execution_count": 32,
      "metadata": {
        "colab": {
          "base_uri": "https://localhost:8080/"
        },
        "id": "792cd331-166e-458e-8e18-50abca41d135",
        "outputId": "4dd7d004-c02d-438e-d4c9-77d2951a61fd"
      },
      "outputs": [
        {
          "output_type": "execute_result",
          "data": {
            "text/plain": [
              "0        [marketing, internwere, weve, created, groundb...\n",
              "1        [customer, service, cloud, video, seconds, wor...\n",
              "2        [commissioning, machinery, assistant, cmavalor...\n",
              "3        [account, executive, washington, dcour, passio...\n",
              "4        [bill, review, managerspotsource, solutions, l...\n",
              "                               ...                        \n",
              "17875    [account, director, distribution, vend, lookin...\n",
              "17876    [payroll, accountantweblinc, ecommerce, platfo...\n",
              "17877    [project, cost, control, staff, engineer, cost...\n",
              "17878    [graphic, designermissingnemsia, studios, look...\n",
              "17879    [web, application, developersvend, looking, aw...\n",
              "Length: 17880, dtype: object"
            ]
          },
          "metadata": {},
          "execution_count": 32
        }
      ],
      "source": [
        "text"
      ],
      "id": "792cd331-166e-458e-8e18-50abca41d135"
    },
    {
      "cell_type": "code",
      "execution_count": 33,
      "metadata": {
        "colab": {
          "base_uri": "https://localhost:8080/"
        },
        "id": "526d7568",
        "outputId": "4d274fb2-a26e-456f-b654-21adbb5bd8a7"
      },
      "outputs": [
        {
          "output_type": "execute_result",
          "data": {
            "text/plain": [
              "0        [marketing, internwere, weve, created, groundb...\n",
              "1        [customer, service, cloud, video, seconds, wor...\n",
              "2        [commissioning, machinery, assistant, cmavalor...\n",
              "3        [account, executive, washington, dcour, passio...\n",
              "4        [bill, review, managerspotsource, solutions, l...\n",
              "                               ...                        \n",
              "17875    [account, director, distribution, vend, lookin...\n",
              "17876    [payroll, accountantweblinc, ecommerce, platfo...\n",
              "17877    [project, cost, control, staff, engineer, cost...\n",
              "17878    [graphic, designermissingnemsia, studios, look...\n",
              "17879    [web, application, developersvend, looking, aw...\n",
              "Length: 17880, dtype: object"
            ]
          },
          "metadata": {},
          "execution_count": 33
        }
      ],
      "source": [
        "text.apply(lambda x: [item for item in x if item not in stop])"
      ],
      "id": "526d7568"
    },
    {
      "cell_type": "markdown",
      "metadata": {
        "id": "d47430fc-8e07-4f5b-ae2d-f5e380fb2bf0"
      },
      "source": [
        "## Lemmatization"
      ],
      "id": "d47430fc-8e07-4f5b-ae2d-f5e380fb2bf0"
    },
    {
      "cell_type": "code",
      "execution_count": 34,
      "metadata": {
        "colab": {
          "base_uri": "https://localhost:8080/"
        },
        "id": "91ed0ddc-25c6-4865-a033-5b2ef4b06b9c",
        "outputId": "3d171376-f241-4b46-968d-53805de64836"
      },
      "outputs": [
        {
          "output_type": "stream",
          "name": "stdout",
          "text": [
            "[nltk_data] Downloading package wordnet to /root/nltk_data...\n",
            "[nltk_data]   Unzipping corpora/wordnet.zip.\n"
          ]
        },
        {
          "output_type": "execute_result",
          "data": {
            "text/plain": [
              "True"
            ]
          },
          "metadata": {},
          "execution_count": 34
        }
      ],
      "source": [
        "import nltk\n",
        "nltk.download('wordnet')"
      ],
      "id": "91ed0ddc-25c6-4865-a033-5b2ef4b06b9c"
    },
    {
      "cell_type": "code",
      "execution_count": 35,
      "metadata": {
        "id": "c0eb70b2-07d8-4853-9dbc-70042133955c"
      },
      "outputs": [],
      "source": [
        "new_text = pd.DataFrame(text, columns = ['texts'])"
      ],
      "id": "c0eb70b2-07d8-4853-9dbc-70042133955c"
    },
    {
      "cell_type": "code",
      "execution_count": 36,
      "metadata": {
        "colab": {
          "base_uri": "https://localhost:8080/",
          "height": 0
        },
        "id": "e892db92-3635-41e8-8fbb-363ddec66e9d",
        "outputId": "c000da51-f641-4ebd-b28f-b27ab92fb5e2"
      },
      "outputs": [
        {
          "output_type": "execute_result",
          "data": {
            "text/plain": [
              "                                                   texts\n",
              "0      [marketing, internwere, weve, created, groundb...\n",
              "1      [customer, service, cloud, video, seconds, wor...\n",
              "2      [commissioning, machinery, assistant, cmavalor...\n",
              "3      [account, executive, washington, dcour, passio...\n",
              "4      [bill, review, managerspotsource, solutions, l...\n",
              "...                                                  ...\n",
              "17875  [account, director, distribution, vend, lookin...\n",
              "17876  [payroll, accountantweblinc, ecommerce, platfo...\n",
              "17877  [project, cost, control, staff, engineer, cost...\n",
              "17878  [graphic, designermissingnemsia, studios, look...\n",
              "17879  [web, application, developersvend, looking, aw...\n",
              "\n",
              "[17880 rows x 1 columns]"
            ],
            "text/html": [
              "\n",
              "  <div id=\"df-a116e455-068e-42cc-8119-f9a698f143a5\">\n",
              "    <div class=\"colab-df-container\">\n",
              "      <div>\n",
              "<style scoped>\n",
              "    .dataframe tbody tr th:only-of-type {\n",
              "        vertical-align: middle;\n",
              "    }\n",
              "\n",
              "    .dataframe tbody tr th {\n",
              "        vertical-align: top;\n",
              "    }\n",
              "\n",
              "    .dataframe thead th {\n",
              "        text-align: right;\n",
              "    }\n",
              "</style>\n",
              "<table border=\"1\" class=\"dataframe\">\n",
              "  <thead>\n",
              "    <tr style=\"text-align: right;\">\n",
              "      <th></th>\n",
              "      <th>texts</th>\n",
              "    </tr>\n",
              "  </thead>\n",
              "  <tbody>\n",
              "    <tr>\n",
              "      <th>0</th>\n",
              "      <td>[marketing, internwere, weve, created, groundb...</td>\n",
              "    </tr>\n",
              "    <tr>\n",
              "      <th>1</th>\n",
              "      <td>[customer, service, cloud, video, seconds, wor...</td>\n",
              "    </tr>\n",
              "    <tr>\n",
              "      <th>2</th>\n",
              "      <td>[commissioning, machinery, assistant, cmavalor...</td>\n",
              "    </tr>\n",
              "    <tr>\n",
              "      <th>3</th>\n",
              "      <td>[account, executive, washington, dcour, passio...</td>\n",
              "    </tr>\n",
              "    <tr>\n",
              "      <th>4</th>\n",
              "      <td>[bill, review, managerspotsource, solutions, l...</td>\n",
              "    </tr>\n",
              "    <tr>\n",
              "      <th>...</th>\n",
              "      <td>...</td>\n",
              "    </tr>\n",
              "    <tr>\n",
              "      <th>17875</th>\n",
              "      <td>[account, director, distribution, vend, lookin...</td>\n",
              "    </tr>\n",
              "    <tr>\n",
              "      <th>17876</th>\n",
              "      <td>[payroll, accountantweblinc, ecommerce, platfo...</td>\n",
              "    </tr>\n",
              "    <tr>\n",
              "      <th>17877</th>\n",
              "      <td>[project, cost, control, staff, engineer, cost...</td>\n",
              "    </tr>\n",
              "    <tr>\n",
              "      <th>17878</th>\n",
              "      <td>[graphic, designermissingnemsia, studios, look...</td>\n",
              "    </tr>\n",
              "    <tr>\n",
              "      <th>17879</th>\n",
              "      <td>[web, application, developersvend, looking, aw...</td>\n",
              "    </tr>\n",
              "  </tbody>\n",
              "</table>\n",
              "<p>17880 rows × 1 columns</p>\n",
              "</div>\n",
              "      <button class=\"colab-df-convert\" onclick=\"convertToInteractive('df-a116e455-068e-42cc-8119-f9a698f143a5')\"\n",
              "              title=\"Convert this dataframe to an interactive table.\"\n",
              "              style=\"display:none;\">\n",
              "        \n",
              "  <svg xmlns=\"http://www.w3.org/2000/svg\" height=\"24px\"viewBox=\"0 0 24 24\"\n",
              "       width=\"24px\">\n",
              "    <path d=\"M0 0h24v24H0V0z\" fill=\"none\"/>\n",
              "    <path d=\"M18.56 5.44l.94 2.06.94-2.06 2.06-.94-2.06-.94-.94-2.06-.94 2.06-2.06.94zm-11 1L8.5 8.5l.94-2.06 2.06-.94-2.06-.94L8.5 2.5l-.94 2.06-2.06.94zm10 10l.94 2.06.94-2.06 2.06-.94-2.06-.94-.94-2.06-.94 2.06-2.06.94z\"/><path d=\"M17.41 7.96l-1.37-1.37c-.4-.4-.92-.59-1.43-.59-.52 0-1.04.2-1.43.59L10.3 9.45l-7.72 7.72c-.78.78-.78 2.05 0 2.83L4 21.41c.39.39.9.59 1.41.59.51 0 1.02-.2 1.41-.59l7.78-7.78 2.81-2.81c.8-.78.8-2.07 0-2.86zM5.41 20L4 18.59l7.72-7.72 1.47 1.35L5.41 20z\"/>\n",
              "  </svg>\n",
              "      </button>\n",
              "      \n",
              "  <style>\n",
              "    .colab-df-container {\n",
              "      display:flex;\n",
              "      flex-wrap:wrap;\n",
              "      gap: 12px;\n",
              "    }\n",
              "\n",
              "    .colab-df-convert {\n",
              "      background-color: #E8F0FE;\n",
              "      border: none;\n",
              "      border-radius: 50%;\n",
              "      cursor: pointer;\n",
              "      display: none;\n",
              "      fill: #1967D2;\n",
              "      height: 32px;\n",
              "      padding: 0 0 0 0;\n",
              "      width: 32px;\n",
              "    }\n",
              "\n",
              "    .colab-df-convert:hover {\n",
              "      background-color: #E2EBFA;\n",
              "      box-shadow: 0px 1px 2px rgba(60, 64, 67, 0.3), 0px 1px 3px 1px rgba(60, 64, 67, 0.15);\n",
              "      fill: #174EA6;\n",
              "    }\n",
              "\n",
              "    [theme=dark] .colab-df-convert {\n",
              "      background-color: #3B4455;\n",
              "      fill: #D2E3FC;\n",
              "    }\n",
              "\n",
              "    [theme=dark] .colab-df-convert:hover {\n",
              "      background-color: #434B5C;\n",
              "      box-shadow: 0px 1px 3px 1px rgba(0, 0, 0, 0.15);\n",
              "      filter: drop-shadow(0px 1px 2px rgba(0, 0, 0, 0.3));\n",
              "      fill: #FFFFFF;\n",
              "    }\n",
              "  </style>\n",
              "\n",
              "      <script>\n",
              "        const buttonEl =\n",
              "          document.querySelector('#df-a116e455-068e-42cc-8119-f9a698f143a5 button.colab-df-convert');\n",
              "        buttonEl.style.display =\n",
              "          google.colab.kernel.accessAllowed ? 'block' : 'none';\n",
              "\n",
              "        async function convertToInteractive(key) {\n",
              "          const element = document.querySelector('#df-a116e455-068e-42cc-8119-f9a698f143a5');\n",
              "          const dataTable =\n",
              "            await google.colab.kernel.invokeFunction('convertToInteractive',\n",
              "                                                     [key], {});\n",
              "          if (!dataTable) return;\n",
              "\n",
              "          const docLinkHtml = 'Like what you see? Visit the ' +\n",
              "            '<a target=\"_blank\" href=https://colab.research.google.com/notebooks/data_table.ipynb>data table notebook</a>'\n",
              "            + ' to learn more about interactive tables.';\n",
              "          element.innerHTML = '';\n",
              "          dataTable['output_type'] = 'display_data';\n",
              "          await google.colab.output.renderOutput(dataTable, element);\n",
              "          const docLink = document.createElement('div');\n",
              "          docLink.innerHTML = docLinkHtml;\n",
              "          element.appendChild(docLink);\n",
              "        }\n",
              "      </script>\n",
              "    </div>\n",
              "  </div>\n",
              "  "
            ]
          },
          "metadata": {},
          "execution_count": 36
        }
      ],
      "source": [
        "new_text"
      ],
      "id": "e892db92-3635-41e8-8fbb-363ddec66e9d"
    },
    {
      "cell_type": "code",
      "execution_count": 37,
      "metadata": {
        "id": "30115264-00fa-429c-8024-636a2c89fda2"
      },
      "outputs": [],
      "source": [
        "tokenizer = nltk.tokenize.WhitespaceTokenizer()\n",
        "lemmatizer = nltk.stem.WordNetLemmatizer()\n",
        "\n",
        "def lemmatization(text):\n",
        "    return [lemmatizer.lemmatize(x) for x in text]\n",
        "\n",
        "new_text['text_lemmatized'] = new_text.texts.apply(lemmatization)"
      ],
      "id": "30115264-00fa-429c-8024-636a2c89fda2"
    },
    {
      "cell_type": "code",
      "execution_count": 38,
      "metadata": {
        "colab": {
          "base_uri": "https://localhost:8080/",
          "height": 0
        },
        "id": "a7818e59-46f9-43a3-8441-2061a30f939e",
        "outputId": "1593f6b3-0dba-4379-888c-855834901062"
      },
      "outputs": [
        {
          "output_type": "execute_result",
          "data": {
            "text/plain": [
              "                                                   texts  \\\n",
              "0      [marketing, internwere, weve, created, groundb...   \n",
              "1      [customer, service, cloud, video, seconds, wor...   \n",
              "2      [commissioning, machinery, assistant, cmavalor...   \n",
              "3      [account, executive, washington, dcour, passio...   \n",
              "4      [bill, review, managerspotsource, solutions, l...   \n",
              "...                                                  ...   \n",
              "17875  [account, director, distribution, vend, lookin...   \n",
              "17876  [payroll, accountantweblinc, ecommerce, platfo...   \n",
              "17877  [project, cost, control, staff, engineer, cost...   \n",
              "17878  [graphic, designermissingnemsia, studios, look...   \n",
              "17879  [web, application, developersvend, looking, aw...   \n",
              "\n",
              "                                         text_lemmatized  \n",
              "0      [marketing, internwere, weve, created, groundb...  \n",
              "1      [customer, service, cloud, video, second, worl...  \n",
              "2      [commissioning, machinery, assistant, cmavalor...  \n",
              "3      [account, executive, washington, dcour, passio...  \n",
              "4      [bill, review, managerspotsource, solution, ll...  \n",
              "...                                                  ...  \n",
              "17875  [account, director, distribution, vend, lookin...  \n",
              "17876  [payroll, accountantweblinc, ecommerce, platfo...  \n",
              "17877  [project, cost, control, staff, engineer, cost...  \n",
              "17878  [graphic, designermissingnemsia, studio, looki...  \n",
              "17879  [web, application, developersvend, looking, aw...  \n",
              "\n",
              "[17880 rows x 2 columns]"
            ],
            "text/html": [
              "\n",
              "  <div id=\"df-f330180d-eb50-4bae-bae8-42c82126486a\">\n",
              "    <div class=\"colab-df-container\">\n",
              "      <div>\n",
              "<style scoped>\n",
              "    .dataframe tbody tr th:only-of-type {\n",
              "        vertical-align: middle;\n",
              "    }\n",
              "\n",
              "    .dataframe tbody tr th {\n",
              "        vertical-align: top;\n",
              "    }\n",
              "\n",
              "    .dataframe thead th {\n",
              "        text-align: right;\n",
              "    }\n",
              "</style>\n",
              "<table border=\"1\" class=\"dataframe\">\n",
              "  <thead>\n",
              "    <tr style=\"text-align: right;\">\n",
              "      <th></th>\n",
              "      <th>texts</th>\n",
              "      <th>text_lemmatized</th>\n",
              "    </tr>\n",
              "  </thead>\n",
              "  <tbody>\n",
              "    <tr>\n",
              "      <th>0</th>\n",
              "      <td>[marketing, internwere, weve, created, groundb...</td>\n",
              "      <td>[marketing, internwere, weve, created, groundb...</td>\n",
              "    </tr>\n",
              "    <tr>\n",
              "      <th>1</th>\n",
              "      <td>[customer, service, cloud, video, seconds, wor...</td>\n",
              "      <td>[customer, service, cloud, video, second, worl...</td>\n",
              "    </tr>\n",
              "    <tr>\n",
              "      <th>2</th>\n",
              "      <td>[commissioning, machinery, assistant, cmavalor...</td>\n",
              "      <td>[commissioning, machinery, assistant, cmavalor...</td>\n",
              "    </tr>\n",
              "    <tr>\n",
              "      <th>3</th>\n",
              "      <td>[account, executive, washington, dcour, passio...</td>\n",
              "      <td>[account, executive, washington, dcour, passio...</td>\n",
              "    </tr>\n",
              "    <tr>\n",
              "      <th>4</th>\n",
              "      <td>[bill, review, managerspotsource, solutions, l...</td>\n",
              "      <td>[bill, review, managerspotsource, solution, ll...</td>\n",
              "    </tr>\n",
              "    <tr>\n",
              "      <th>...</th>\n",
              "      <td>...</td>\n",
              "      <td>...</td>\n",
              "    </tr>\n",
              "    <tr>\n",
              "      <th>17875</th>\n",
              "      <td>[account, director, distribution, vend, lookin...</td>\n",
              "      <td>[account, director, distribution, vend, lookin...</td>\n",
              "    </tr>\n",
              "    <tr>\n",
              "      <th>17876</th>\n",
              "      <td>[payroll, accountantweblinc, ecommerce, platfo...</td>\n",
              "      <td>[payroll, accountantweblinc, ecommerce, platfo...</td>\n",
              "    </tr>\n",
              "    <tr>\n",
              "      <th>17877</th>\n",
              "      <td>[project, cost, control, staff, engineer, cost...</td>\n",
              "      <td>[project, cost, control, staff, engineer, cost...</td>\n",
              "    </tr>\n",
              "    <tr>\n",
              "      <th>17878</th>\n",
              "      <td>[graphic, designermissingnemsia, studios, look...</td>\n",
              "      <td>[graphic, designermissingnemsia, studio, looki...</td>\n",
              "    </tr>\n",
              "    <tr>\n",
              "      <th>17879</th>\n",
              "      <td>[web, application, developersvend, looking, aw...</td>\n",
              "      <td>[web, application, developersvend, looking, aw...</td>\n",
              "    </tr>\n",
              "  </tbody>\n",
              "</table>\n",
              "<p>17880 rows × 2 columns</p>\n",
              "</div>\n",
              "      <button class=\"colab-df-convert\" onclick=\"convertToInteractive('df-f330180d-eb50-4bae-bae8-42c82126486a')\"\n",
              "              title=\"Convert this dataframe to an interactive table.\"\n",
              "              style=\"display:none;\">\n",
              "        \n",
              "  <svg xmlns=\"http://www.w3.org/2000/svg\" height=\"24px\"viewBox=\"0 0 24 24\"\n",
              "       width=\"24px\">\n",
              "    <path d=\"M0 0h24v24H0V0z\" fill=\"none\"/>\n",
              "    <path d=\"M18.56 5.44l.94 2.06.94-2.06 2.06-.94-2.06-.94-.94-2.06-.94 2.06-2.06.94zm-11 1L8.5 8.5l.94-2.06 2.06-.94-2.06-.94L8.5 2.5l-.94 2.06-2.06.94zm10 10l.94 2.06.94-2.06 2.06-.94-2.06-.94-.94-2.06-.94 2.06-2.06.94z\"/><path d=\"M17.41 7.96l-1.37-1.37c-.4-.4-.92-.59-1.43-.59-.52 0-1.04.2-1.43.59L10.3 9.45l-7.72 7.72c-.78.78-.78 2.05 0 2.83L4 21.41c.39.39.9.59 1.41.59.51 0 1.02-.2 1.41-.59l7.78-7.78 2.81-2.81c.8-.78.8-2.07 0-2.86zM5.41 20L4 18.59l7.72-7.72 1.47 1.35L5.41 20z\"/>\n",
              "  </svg>\n",
              "      </button>\n",
              "      \n",
              "  <style>\n",
              "    .colab-df-container {\n",
              "      display:flex;\n",
              "      flex-wrap:wrap;\n",
              "      gap: 12px;\n",
              "    }\n",
              "\n",
              "    .colab-df-convert {\n",
              "      background-color: #E8F0FE;\n",
              "      border: none;\n",
              "      border-radius: 50%;\n",
              "      cursor: pointer;\n",
              "      display: none;\n",
              "      fill: #1967D2;\n",
              "      height: 32px;\n",
              "      padding: 0 0 0 0;\n",
              "      width: 32px;\n",
              "    }\n",
              "\n",
              "    .colab-df-convert:hover {\n",
              "      background-color: #E2EBFA;\n",
              "      box-shadow: 0px 1px 2px rgba(60, 64, 67, 0.3), 0px 1px 3px 1px rgba(60, 64, 67, 0.15);\n",
              "      fill: #174EA6;\n",
              "    }\n",
              "\n",
              "    [theme=dark] .colab-df-convert {\n",
              "      background-color: #3B4455;\n",
              "      fill: #D2E3FC;\n",
              "    }\n",
              "\n",
              "    [theme=dark] .colab-df-convert:hover {\n",
              "      background-color: #434B5C;\n",
              "      box-shadow: 0px 1px 3px 1px rgba(0, 0, 0, 0.15);\n",
              "      filter: drop-shadow(0px 1px 2px rgba(0, 0, 0, 0.3));\n",
              "      fill: #FFFFFF;\n",
              "    }\n",
              "  </style>\n",
              "\n",
              "      <script>\n",
              "        const buttonEl =\n",
              "          document.querySelector('#df-f330180d-eb50-4bae-bae8-42c82126486a button.colab-df-convert');\n",
              "        buttonEl.style.display =\n",
              "          google.colab.kernel.accessAllowed ? 'block' : 'none';\n",
              "\n",
              "        async function convertToInteractive(key) {\n",
              "          const element = document.querySelector('#df-f330180d-eb50-4bae-bae8-42c82126486a');\n",
              "          const dataTable =\n",
              "            await google.colab.kernel.invokeFunction('convertToInteractive',\n",
              "                                                     [key], {});\n",
              "          if (!dataTable) return;\n",
              "\n",
              "          const docLinkHtml = 'Like what you see? Visit the ' +\n",
              "            '<a target=\"_blank\" href=https://colab.research.google.com/notebooks/data_table.ipynb>data table notebook</a>'\n",
              "            + ' to learn more about interactive tables.';\n",
              "          element.innerHTML = '';\n",
              "          dataTable['output_type'] = 'display_data';\n",
              "          await google.colab.output.renderOutput(dataTable, element);\n",
              "          const docLink = document.createElement('div');\n",
              "          docLink.innerHTML = docLinkHtml;\n",
              "          element.appendChild(docLink);\n",
              "        }\n",
              "      </script>\n",
              "    </div>\n",
              "  </div>\n",
              "  "
            ]
          },
          "metadata": {},
          "execution_count": 38
        }
      ],
      "source": [
        "new_text"
      ],
      "id": "a7818e59-46f9-43a3-8441-2061a30f939e"
    },
    {
      "cell_type": "markdown",
      "metadata": {
        "id": "58f0e09d-c7d5-4315-acbf-a09ae5f08732"
      },
      "source": [
        "## Combine Text"
      ],
      "id": "58f0e09d-c7d5-4315-acbf-a09ae5f08732"
    },
    {
      "cell_type": "code",
      "execution_count": 39,
      "metadata": {
        "id": "b6db1644-bfe8-4094-8763-6242a3b91f16"
      },
      "outputs": [],
      "source": [
        "new_text['lemmatize'] = new_text['text_lemmatized'].apply(lambda x: ' '.join(word for word in x))"
      ],
      "id": "b6db1644-bfe8-4094-8763-6242a3b91f16"
    },
    {
      "cell_type": "code",
      "execution_count": 40,
      "metadata": {
        "colab": {
          "base_uri": "https://localhost:8080/",
          "height": 0
        },
        "id": "38ec696b-637f-4692-9d09-62068aa41989",
        "outputId": "80a642dd-8d44-4c9c-cb90-833ce951d716"
      },
      "outputs": [
        {
          "output_type": "execute_result",
          "data": {
            "text/plain": [
              "                                                   texts  \\\n",
              "0      [marketing, internwere, weve, created, groundb...   \n",
              "1      [customer, service, cloud, video, seconds, wor...   \n",
              "2      [commissioning, machinery, assistant, cmavalor...   \n",
              "3      [account, executive, washington, dcour, passio...   \n",
              "4      [bill, review, managerspotsource, solutions, l...   \n",
              "...                                                  ...   \n",
              "17875  [account, director, distribution, vend, lookin...   \n",
              "17876  [payroll, accountantweblinc, ecommerce, platfo...   \n",
              "17877  [project, cost, control, staff, engineer, cost...   \n",
              "17878  [graphic, designermissingnemsia, studios, look...   \n",
              "17879  [web, application, developersvend, looking, aw...   \n",
              "\n",
              "                                         text_lemmatized  \\\n",
              "0      [marketing, internwere, weve, created, groundb...   \n",
              "1      [customer, service, cloud, video, second, worl...   \n",
              "2      [commissioning, machinery, assistant, cmavalor...   \n",
              "3      [account, executive, washington, dcour, passio...   \n",
              "4      [bill, review, managerspotsource, solution, ll...   \n",
              "...                                                  ...   \n",
              "17875  [account, director, distribution, vend, lookin...   \n",
              "17876  [payroll, accountantweblinc, ecommerce, platfo...   \n",
              "17877  [project, cost, control, staff, engineer, cost...   \n",
              "17878  [graphic, designermissingnemsia, studio, looki...   \n",
              "17879  [web, application, developersvend, looking, aw...   \n",
              "\n",
              "                                               lemmatize  \n",
              "0      marketing internwere weve created groundbreaki...  \n",
              "1      customer service cloud video second world clou...  \n",
              "2      commissioning machinery assistant cmavalor ser...  \n",
              "3      account executive washington dcour passion imp...  \n",
              "4      bill review managerspotsource solution llc glo...  \n",
              "...                                                  ...  \n",
              "17875  account director distribution vend looking awe...  \n",
              "17876  payroll accountantweblinc ecommerce platform s...  \n",
              "17877  project cost control staff engineer cost contr...  \n",
              "17878  graphic designermissingnemsia studio looking e...  \n",
              "17879  web application developersvend looking awesome...  \n",
              "\n",
              "[17880 rows x 3 columns]"
            ],
            "text/html": [
              "\n",
              "  <div id=\"df-a5cde6d0-9e27-4be1-972b-de2539b42261\">\n",
              "    <div class=\"colab-df-container\">\n",
              "      <div>\n",
              "<style scoped>\n",
              "    .dataframe tbody tr th:only-of-type {\n",
              "        vertical-align: middle;\n",
              "    }\n",
              "\n",
              "    .dataframe tbody tr th {\n",
              "        vertical-align: top;\n",
              "    }\n",
              "\n",
              "    .dataframe thead th {\n",
              "        text-align: right;\n",
              "    }\n",
              "</style>\n",
              "<table border=\"1\" class=\"dataframe\">\n",
              "  <thead>\n",
              "    <tr style=\"text-align: right;\">\n",
              "      <th></th>\n",
              "      <th>texts</th>\n",
              "      <th>text_lemmatized</th>\n",
              "      <th>lemmatize</th>\n",
              "    </tr>\n",
              "  </thead>\n",
              "  <tbody>\n",
              "    <tr>\n",
              "      <th>0</th>\n",
              "      <td>[marketing, internwere, weve, created, groundb...</td>\n",
              "      <td>[marketing, internwere, weve, created, groundb...</td>\n",
              "      <td>marketing internwere weve created groundbreaki...</td>\n",
              "    </tr>\n",
              "    <tr>\n",
              "      <th>1</th>\n",
              "      <td>[customer, service, cloud, video, seconds, wor...</td>\n",
              "      <td>[customer, service, cloud, video, second, worl...</td>\n",
              "      <td>customer service cloud video second world clou...</td>\n",
              "    </tr>\n",
              "    <tr>\n",
              "      <th>2</th>\n",
              "      <td>[commissioning, machinery, assistant, cmavalor...</td>\n",
              "      <td>[commissioning, machinery, assistant, cmavalor...</td>\n",
              "      <td>commissioning machinery assistant cmavalor ser...</td>\n",
              "    </tr>\n",
              "    <tr>\n",
              "      <th>3</th>\n",
              "      <td>[account, executive, washington, dcour, passio...</td>\n",
              "      <td>[account, executive, washington, dcour, passio...</td>\n",
              "      <td>account executive washington dcour passion imp...</td>\n",
              "    </tr>\n",
              "    <tr>\n",
              "      <th>4</th>\n",
              "      <td>[bill, review, managerspotsource, solutions, l...</td>\n",
              "      <td>[bill, review, managerspotsource, solution, ll...</td>\n",
              "      <td>bill review managerspotsource solution llc glo...</td>\n",
              "    </tr>\n",
              "    <tr>\n",
              "      <th>...</th>\n",
              "      <td>...</td>\n",
              "      <td>...</td>\n",
              "      <td>...</td>\n",
              "    </tr>\n",
              "    <tr>\n",
              "      <th>17875</th>\n",
              "      <td>[account, director, distribution, vend, lookin...</td>\n",
              "      <td>[account, director, distribution, vend, lookin...</td>\n",
              "      <td>account director distribution vend looking awe...</td>\n",
              "    </tr>\n",
              "    <tr>\n",
              "      <th>17876</th>\n",
              "      <td>[payroll, accountantweblinc, ecommerce, platfo...</td>\n",
              "      <td>[payroll, accountantweblinc, ecommerce, platfo...</td>\n",
              "      <td>payroll accountantweblinc ecommerce platform s...</td>\n",
              "    </tr>\n",
              "    <tr>\n",
              "      <th>17877</th>\n",
              "      <td>[project, cost, control, staff, engineer, cost...</td>\n",
              "      <td>[project, cost, control, staff, engineer, cost...</td>\n",
              "      <td>project cost control staff engineer cost contr...</td>\n",
              "    </tr>\n",
              "    <tr>\n",
              "      <th>17878</th>\n",
              "      <td>[graphic, designermissingnemsia, studios, look...</td>\n",
              "      <td>[graphic, designermissingnemsia, studio, looki...</td>\n",
              "      <td>graphic designermissingnemsia studio looking e...</td>\n",
              "    </tr>\n",
              "    <tr>\n",
              "      <th>17879</th>\n",
              "      <td>[web, application, developersvend, looking, aw...</td>\n",
              "      <td>[web, application, developersvend, looking, aw...</td>\n",
              "      <td>web application developersvend looking awesome...</td>\n",
              "    </tr>\n",
              "  </tbody>\n",
              "</table>\n",
              "<p>17880 rows × 3 columns</p>\n",
              "</div>\n",
              "      <button class=\"colab-df-convert\" onclick=\"convertToInteractive('df-a5cde6d0-9e27-4be1-972b-de2539b42261')\"\n",
              "              title=\"Convert this dataframe to an interactive table.\"\n",
              "              style=\"display:none;\">\n",
              "        \n",
              "  <svg xmlns=\"http://www.w3.org/2000/svg\" height=\"24px\"viewBox=\"0 0 24 24\"\n",
              "       width=\"24px\">\n",
              "    <path d=\"M0 0h24v24H0V0z\" fill=\"none\"/>\n",
              "    <path d=\"M18.56 5.44l.94 2.06.94-2.06 2.06-.94-2.06-.94-.94-2.06-.94 2.06-2.06.94zm-11 1L8.5 8.5l.94-2.06 2.06-.94-2.06-.94L8.5 2.5l-.94 2.06-2.06.94zm10 10l.94 2.06.94-2.06 2.06-.94-2.06-.94-.94-2.06-.94 2.06-2.06.94z\"/><path d=\"M17.41 7.96l-1.37-1.37c-.4-.4-.92-.59-1.43-.59-.52 0-1.04.2-1.43.59L10.3 9.45l-7.72 7.72c-.78.78-.78 2.05 0 2.83L4 21.41c.39.39.9.59 1.41.59.51 0 1.02-.2 1.41-.59l7.78-7.78 2.81-2.81c.8-.78.8-2.07 0-2.86zM5.41 20L4 18.59l7.72-7.72 1.47 1.35L5.41 20z\"/>\n",
              "  </svg>\n",
              "      </button>\n",
              "      \n",
              "  <style>\n",
              "    .colab-df-container {\n",
              "      display:flex;\n",
              "      flex-wrap:wrap;\n",
              "      gap: 12px;\n",
              "    }\n",
              "\n",
              "    .colab-df-convert {\n",
              "      background-color: #E8F0FE;\n",
              "      border: none;\n",
              "      border-radius: 50%;\n",
              "      cursor: pointer;\n",
              "      display: none;\n",
              "      fill: #1967D2;\n",
              "      height: 32px;\n",
              "      padding: 0 0 0 0;\n",
              "      width: 32px;\n",
              "    }\n",
              "\n",
              "    .colab-df-convert:hover {\n",
              "      background-color: #E2EBFA;\n",
              "      box-shadow: 0px 1px 2px rgba(60, 64, 67, 0.3), 0px 1px 3px 1px rgba(60, 64, 67, 0.15);\n",
              "      fill: #174EA6;\n",
              "    }\n",
              "\n",
              "    [theme=dark] .colab-df-convert {\n",
              "      background-color: #3B4455;\n",
              "      fill: #D2E3FC;\n",
              "    }\n",
              "\n",
              "    [theme=dark] .colab-df-convert:hover {\n",
              "      background-color: #434B5C;\n",
              "      box-shadow: 0px 1px 3px 1px rgba(0, 0, 0, 0.15);\n",
              "      filter: drop-shadow(0px 1px 2px rgba(0, 0, 0, 0.3));\n",
              "      fill: #FFFFFF;\n",
              "    }\n",
              "  </style>\n",
              "\n",
              "      <script>\n",
              "        const buttonEl =\n",
              "          document.querySelector('#df-a5cde6d0-9e27-4be1-972b-de2539b42261 button.colab-df-convert');\n",
              "        buttonEl.style.display =\n",
              "          google.colab.kernel.accessAllowed ? 'block' : 'none';\n",
              "\n",
              "        async function convertToInteractive(key) {\n",
              "          const element = document.querySelector('#df-a5cde6d0-9e27-4be1-972b-de2539b42261');\n",
              "          const dataTable =\n",
              "            await google.colab.kernel.invokeFunction('convertToInteractive',\n",
              "                                                     [key], {});\n",
              "          if (!dataTable) return;\n",
              "\n",
              "          const docLinkHtml = 'Like what you see? Visit the ' +\n",
              "            '<a target=\"_blank\" href=https://colab.research.google.com/notebooks/data_table.ipynb>data table notebook</a>'\n",
              "            + ' to learn more about interactive tables.';\n",
              "          element.innerHTML = '';\n",
              "          dataTable['output_type'] = 'display_data';\n",
              "          await google.colab.output.renderOutput(dataTable, element);\n",
              "          const docLink = document.createElement('div');\n",
              "          docLink.innerHTML = docLinkHtml;\n",
              "          element.appendChild(docLink);\n",
              "        }\n",
              "      </script>\n",
              "    </div>\n",
              "  </div>\n",
              "  "
            ]
          },
          "metadata": {},
          "execution_count": 40
        }
      ],
      "source": [
        "new_text"
      ],
      "id": "38ec696b-637f-4692-9d09-62068aa41989"
    },
    {
      "cell_type": "markdown",
      "metadata": {
        "id": "7deea97a-28aa-4fd7-840d-57a1d28c87e6"
      },
      "source": [
        "## Combine Data"
      ],
      "id": "7deea97a-28aa-4fd7-840d-57a1d28c87e6"
    },
    {
      "cell_type": "code",
      "execution_count": 41,
      "metadata": {
        "id": "8aa7f66a-dacb-4fa5-b796-35ba43db955e"
      },
      "outputs": [],
      "source": [
        "new_data = pd.merge(cat_data, new_text[['lemmatize']], left_index=True, right_index=True)"
      ],
      "id": "8aa7f66a-dacb-4fa5-b796-35ba43db955e"
    },
    {
      "cell_type": "code",
      "execution_count": 42,
      "metadata": {
        "id": "17db5fab-04ad-46ce-9d0b-521e59106144"
      },
      "outputs": [],
      "source": [
        "new_data = pd.merge(new_data, data[['fraudulent']], left_index=True, right_index=True)"
      ],
      "id": "17db5fab-04ad-46ce-9d0b-521e59106144"
    },
    {
      "cell_type": "code",
      "execution_count": 43,
      "metadata": {
        "colab": {
          "base_uri": "https://localhost:8080/",
          "height": 0
        },
        "id": "f12d2a50-5602-47d0-9ae1-a1a8e91053b0",
        "outputId": "7d22302a-8673-4bfd-983e-5c3320a402bd"
      },
      "outputs": [
        {
          "output_type": "execute_result",
          "data": {
            "text/plain": [
              "       telecommuting  has_company_logo  has_questions  employment_type  \\\n",
              "0                  0                 1              0                2   \n",
              "1                  0                 1              0                1   \n",
              "2                  0                 1              0                5   \n",
              "3                  0                 1              0                1   \n",
              "4                  0                 1              1                1   \n",
              "...              ...               ...            ...              ...   \n",
              "17875              0                 1              1                1   \n",
              "17876              0                 1              1                1   \n",
              "17877              0                 0              0                1   \n",
              "17878              0                 0              1                0   \n",
              "17879              0                 1              1                1   \n",
              "\n",
              "       required_experience  required_education  industry  function  \\\n",
              "0                        4                  13       131        22   \n",
              "1                        6                  13        75         7   \n",
              "2                        7                  13       131        37   \n",
              "3                        5                   1        22        31   \n",
              "4                        5                   1        51        16   \n",
              "...                    ...                 ...       ...       ...   \n",
              "17875                    5                  13        22        31   \n",
              "17876                    5                   1        61         0   \n",
              "17877                    7                  13       131        37   \n",
              "17878                    6                   6        48         9   \n",
              "17879                    5                  13        22        12   \n",
              "\n",
              "                                               lemmatize  fraudulent  \n",
              "0      marketing internwere weve created groundbreaki...           0  \n",
              "1      customer service cloud video second world clou...           0  \n",
              "2      commissioning machinery assistant cmavalor ser...           0  \n",
              "3      account executive washington dcour passion imp...           0  \n",
              "4      bill review managerspotsource solution llc glo...           0  \n",
              "...                                                  ...         ...  \n",
              "17875  account director distribution vend looking awe...           0  \n",
              "17876  payroll accountantweblinc ecommerce platform s...           0  \n",
              "17877  project cost control staff engineer cost contr...           0  \n",
              "17878  graphic designermissingnemsia studio looking e...           0  \n",
              "17879  web application developersvend looking awesome...           0  \n",
              "\n",
              "[17880 rows x 10 columns]"
            ],
            "text/html": [
              "\n",
              "  <div id=\"df-55ced8da-1c5f-4054-b996-78688e24df5a\">\n",
              "    <div class=\"colab-df-container\">\n",
              "      <div>\n",
              "<style scoped>\n",
              "    .dataframe tbody tr th:only-of-type {\n",
              "        vertical-align: middle;\n",
              "    }\n",
              "\n",
              "    .dataframe tbody tr th {\n",
              "        vertical-align: top;\n",
              "    }\n",
              "\n",
              "    .dataframe thead th {\n",
              "        text-align: right;\n",
              "    }\n",
              "</style>\n",
              "<table border=\"1\" class=\"dataframe\">\n",
              "  <thead>\n",
              "    <tr style=\"text-align: right;\">\n",
              "      <th></th>\n",
              "      <th>telecommuting</th>\n",
              "      <th>has_company_logo</th>\n",
              "      <th>has_questions</th>\n",
              "      <th>employment_type</th>\n",
              "      <th>required_experience</th>\n",
              "      <th>required_education</th>\n",
              "      <th>industry</th>\n",
              "      <th>function</th>\n",
              "      <th>lemmatize</th>\n",
              "      <th>fraudulent</th>\n",
              "    </tr>\n",
              "  </thead>\n",
              "  <tbody>\n",
              "    <tr>\n",
              "      <th>0</th>\n",
              "      <td>0</td>\n",
              "      <td>1</td>\n",
              "      <td>0</td>\n",
              "      <td>2</td>\n",
              "      <td>4</td>\n",
              "      <td>13</td>\n",
              "      <td>131</td>\n",
              "      <td>22</td>\n",
              "      <td>marketing internwere weve created groundbreaki...</td>\n",
              "      <td>0</td>\n",
              "    </tr>\n",
              "    <tr>\n",
              "      <th>1</th>\n",
              "      <td>0</td>\n",
              "      <td>1</td>\n",
              "      <td>0</td>\n",
              "      <td>1</td>\n",
              "      <td>6</td>\n",
              "      <td>13</td>\n",
              "      <td>75</td>\n",
              "      <td>7</td>\n",
              "      <td>customer service cloud video second world clou...</td>\n",
              "      <td>0</td>\n",
              "    </tr>\n",
              "    <tr>\n",
              "      <th>2</th>\n",
              "      <td>0</td>\n",
              "      <td>1</td>\n",
              "      <td>0</td>\n",
              "      <td>5</td>\n",
              "      <td>7</td>\n",
              "      <td>13</td>\n",
              "      <td>131</td>\n",
              "      <td>37</td>\n",
              "      <td>commissioning machinery assistant cmavalor ser...</td>\n",
              "      <td>0</td>\n",
              "    </tr>\n",
              "    <tr>\n",
              "      <th>3</th>\n",
              "      <td>0</td>\n",
              "      <td>1</td>\n",
              "      <td>0</td>\n",
              "      <td>1</td>\n",
              "      <td>5</td>\n",
              "      <td>1</td>\n",
              "      <td>22</td>\n",
              "      <td>31</td>\n",
              "      <td>account executive washington dcour passion imp...</td>\n",
              "      <td>0</td>\n",
              "    </tr>\n",
              "    <tr>\n",
              "      <th>4</th>\n",
              "      <td>0</td>\n",
              "      <td>1</td>\n",
              "      <td>1</td>\n",
              "      <td>1</td>\n",
              "      <td>5</td>\n",
              "      <td>1</td>\n",
              "      <td>51</td>\n",
              "      <td>16</td>\n",
              "      <td>bill review managerspotsource solution llc glo...</td>\n",
              "      <td>0</td>\n",
              "    </tr>\n",
              "    <tr>\n",
              "      <th>...</th>\n",
              "      <td>...</td>\n",
              "      <td>...</td>\n",
              "      <td>...</td>\n",
              "      <td>...</td>\n",
              "      <td>...</td>\n",
              "      <td>...</td>\n",
              "      <td>...</td>\n",
              "      <td>...</td>\n",
              "      <td>...</td>\n",
              "      <td>...</td>\n",
              "    </tr>\n",
              "    <tr>\n",
              "      <th>17875</th>\n",
              "      <td>0</td>\n",
              "      <td>1</td>\n",
              "      <td>1</td>\n",
              "      <td>1</td>\n",
              "      <td>5</td>\n",
              "      <td>13</td>\n",
              "      <td>22</td>\n",
              "      <td>31</td>\n",
              "      <td>account director distribution vend looking awe...</td>\n",
              "      <td>0</td>\n",
              "    </tr>\n",
              "    <tr>\n",
              "      <th>17876</th>\n",
              "      <td>0</td>\n",
              "      <td>1</td>\n",
              "      <td>1</td>\n",
              "      <td>1</td>\n",
              "      <td>5</td>\n",
              "      <td>1</td>\n",
              "      <td>61</td>\n",
              "      <td>0</td>\n",
              "      <td>payroll accountantweblinc ecommerce platform s...</td>\n",
              "      <td>0</td>\n",
              "    </tr>\n",
              "    <tr>\n",
              "      <th>17877</th>\n",
              "      <td>0</td>\n",
              "      <td>0</td>\n",
              "      <td>0</td>\n",
              "      <td>1</td>\n",
              "      <td>7</td>\n",
              "      <td>13</td>\n",
              "      <td>131</td>\n",
              "      <td>37</td>\n",
              "      <td>project cost control staff engineer cost contr...</td>\n",
              "      <td>0</td>\n",
              "    </tr>\n",
              "    <tr>\n",
              "      <th>17878</th>\n",
              "      <td>0</td>\n",
              "      <td>0</td>\n",
              "      <td>1</td>\n",
              "      <td>0</td>\n",
              "      <td>6</td>\n",
              "      <td>6</td>\n",
              "      <td>48</td>\n",
              "      <td>9</td>\n",
              "      <td>graphic designermissingnemsia studio looking e...</td>\n",
              "      <td>0</td>\n",
              "    </tr>\n",
              "    <tr>\n",
              "      <th>17879</th>\n",
              "      <td>0</td>\n",
              "      <td>1</td>\n",
              "      <td>1</td>\n",
              "      <td>1</td>\n",
              "      <td>5</td>\n",
              "      <td>13</td>\n",
              "      <td>22</td>\n",
              "      <td>12</td>\n",
              "      <td>web application developersvend looking awesome...</td>\n",
              "      <td>0</td>\n",
              "    </tr>\n",
              "  </tbody>\n",
              "</table>\n",
              "<p>17880 rows × 10 columns</p>\n",
              "</div>\n",
              "      <button class=\"colab-df-convert\" onclick=\"convertToInteractive('df-55ced8da-1c5f-4054-b996-78688e24df5a')\"\n",
              "              title=\"Convert this dataframe to an interactive table.\"\n",
              "              style=\"display:none;\">\n",
              "        \n",
              "  <svg xmlns=\"http://www.w3.org/2000/svg\" height=\"24px\"viewBox=\"0 0 24 24\"\n",
              "       width=\"24px\">\n",
              "    <path d=\"M0 0h24v24H0V0z\" fill=\"none\"/>\n",
              "    <path d=\"M18.56 5.44l.94 2.06.94-2.06 2.06-.94-2.06-.94-.94-2.06-.94 2.06-2.06.94zm-11 1L8.5 8.5l.94-2.06 2.06-.94-2.06-.94L8.5 2.5l-.94 2.06-2.06.94zm10 10l.94 2.06.94-2.06 2.06-.94-2.06-.94-.94-2.06-.94 2.06-2.06.94z\"/><path d=\"M17.41 7.96l-1.37-1.37c-.4-.4-.92-.59-1.43-.59-.52 0-1.04.2-1.43.59L10.3 9.45l-7.72 7.72c-.78.78-.78 2.05 0 2.83L4 21.41c.39.39.9.59 1.41.59.51 0 1.02-.2 1.41-.59l7.78-7.78 2.81-2.81c.8-.78.8-2.07 0-2.86zM5.41 20L4 18.59l7.72-7.72 1.47 1.35L5.41 20z\"/>\n",
              "  </svg>\n",
              "      </button>\n",
              "      \n",
              "  <style>\n",
              "    .colab-df-container {\n",
              "      display:flex;\n",
              "      flex-wrap:wrap;\n",
              "      gap: 12px;\n",
              "    }\n",
              "\n",
              "    .colab-df-convert {\n",
              "      background-color: #E8F0FE;\n",
              "      border: none;\n",
              "      border-radius: 50%;\n",
              "      cursor: pointer;\n",
              "      display: none;\n",
              "      fill: #1967D2;\n",
              "      height: 32px;\n",
              "      padding: 0 0 0 0;\n",
              "      width: 32px;\n",
              "    }\n",
              "\n",
              "    .colab-df-convert:hover {\n",
              "      background-color: #E2EBFA;\n",
              "      box-shadow: 0px 1px 2px rgba(60, 64, 67, 0.3), 0px 1px 3px 1px rgba(60, 64, 67, 0.15);\n",
              "      fill: #174EA6;\n",
              "    }\n",
              "\n",
              "    [theme=dark] .colab-df-convert {\n",
              "      background-color: #3B4455;\n",
              "      fill: #D2E3FC;\n",
              "    }\n",
              "\n",
              "    [theme=dark] .colab-df-convert:hover {\n",
              "      background-color: #434B5C;\n",
              "      box-shadow: 0px 1px 3px 1px rgba(0, 0, 0, 0.15);\n",
              "      filter: drop-shadow(0px 1px 2px rgba(0, 0, 0, 0.3));\n",
              "      fill: #FFFFFF;\n",
              "    }\n",
              "  </style>\n",
              "\n",
              "      <script>\n",
              "        const buttonEl =\n",
              "          document.querySelector('#df-55ced8da-1c5f-4054-b996-78688e24df5a button.colab-df-convert');\n",
              "        buttonEl.style.display =\n",
              "          google.colab.kernel.accessAllowed ? 'block' : 'none';\n",
              "\n",
              "        async function convertToInteractive(key) {\n",
              "          const element = document.querySelector('#df-55ced8da-1c5f-4054-b996-78688e24df5a');\n",
              "          const dataTable =\n",
              "            await google.colab.kernel.invokeFunction('convertToInteractive',\n",
              "                                                     [key], {});\n",
              "          if (!dataTable) return;\n",
              "\n",
              "          const docLinkHtml = 'Like what you see? Visit the ' +\n",
              "            '<a target=\"_blank\" href=https://colab.research.google.com/notebooks/data_table.ipynb>data table notebook</a>'\n",
              "            + ' to learn more about interactive tables.';\n",
              "          element.innerHTML = '';\n",
              "          dataTable['output_type'] = 'display_data';\n",
              "          await google.colab.output.renderOutput(dataTable, element);\n",
              "          const docLink = document.createElement('div');\n",
              "          docLink.innerHTML = docLinkHtml;\n",
              "          element.appendChild(docLink);\n",
              "        }\n",
              "      </script>\n",
              "    </div>\n",
              "  </div>\n",
              "  "
            ]
          },
          "metadata": {},
          "execution_count": 43
        }
      ],
      "source": [
        "new_data"
      ],
      "id": "f12d2a50-5602-47d0-9ae1-a1a8e91053b0"
    },
    {
      "cell_type": "code",
      "execution_count": 44,
      "metadata": {
        "id": "oAiTrWL6-Sye"
      },
      "outputs": [],
      "source": [
        "save_data = new_data"
      ],
      "id": "oAiTrWL6-Sye"
    },
    {
      "cell_type": "markdown",
      "metadata": {
        "id": "fac153e9-b24b-4ea9-bd78-ee4d2f168305"
      },
      "source": [
        "## Train Test"
      ],
      "id": "fac153e9-b24b-4ea9-bd78-ee4d2f168305"
    },
    {
      "cell_type": "code",
      "execution_count": 45,
      "metadata": {
        "id": "4107f5dd-9a63-4c16-b310-6126a2c81cf6"
      },
      "outputs": [],
      "source": [
        "X = new_data.iloc[:, :-1]\n",
        "y = new_data.iloc[:, -1]"
      ],
      "id": "4107f5dd-9a63-4c16-b310-6126a2c81cf6"
    },
    {
      "cell_type": "code",
      "execution_count": 46,
      "metadata": {
        "colab": {
          "base_uri": "https://localhost:8080/",
          "height": 0
        },
        "id": "0ee96561-80fa-4319-a9f5-b88b3c62d3db",
        "outputId": "f0da9ff4-3e20-4ca1-fa37-d35596b02c16"
      },
      "outputs": [
        {
          "output_type": "execute_result",
          "data": {
            "text/plain": [
              "       telecommuting  has_company_logo  has_questions  employment_type  \\\n",
              "0                  0                 1              0                2   \n",
              "1                  0                 1              0                1   \n",
              "2                  0                 1              0                5   \n",
              "3                  0                 1              0                1   \n",
              "4                  0                 1              1                1   \n",
              "...              ...               ...            ...              ...   \n",
              "17875              0                 1              1                1   \n",
              "17876              0                 1              1                1   \n",
              "17877              0                 0              0                1   \n",
              "17878              0                 0              1                0   \n",
              "17879              0                 1              1                1   \n",
              "\n",
              "       required_experience  required_education  industry  function  \\\n",
              "0                        4                  13       131        22   \n",
              "1                        6                  13        75         7   \n",
              "2                        7                  13       131        37   \n",
              "3                        5                   1        22        31   \n",
              "4                        5                   1        51        16   \n",
              "...                    ...                 ...       ...       ...   \n",
              "17875                    5                  13        22        31   \n",
              "17876                    5                   1        61         0   \n",
              "17877                    7                  13       131        37   \n",
              "17878                    6                   6        48         9   \n",
              "17879                    5                  13        22        12   \n",
              "\n",
              "                                               lemmatize  \n",
              "0      marketing internwere weve created groundbreaki...  \n",
              "1      customer service cloud video second world clou...  \n",
              "2      commissioning machinery assistant cmavalor ser...  \n",
              "3      account executive washington dcour passion imp...  \n",
              "4      bill review managerspotsource solution llc glo...  \n",
              "...                                                  ...  \n",
              "17875  account director distribution vend looking awe...  \n",
              "17876  payroll accountantweblinc ecommerce platform s...  \n",
              "17877  project cost control staff engineer cost contr...  \n",
              "17878  graphic designermissingnemsia studio looking e...  \n",
              "17879  web application developersvend looking awesome...  \n",
              "\n",
              "[17880 rows x 9 columns]"
            ],
            "text/html": [
              "\n",
              "  <div id=\"df-dcb70f2f-427c-4d9b-8e3c-9446fff280b2\">\n",
              "    <div class=\"colab-df-container\">\n",
              "      <div>\n",
              "<style scoped>\n",
              "    .dataframe tbody tr th:only-of-type {\n",
              "        vertical-align: middle;\n",
              "    }\n",
              "\n",
              "    .dataframe tbody tr th {\n",
              "        vertical-align: top;\n",
              "    }\n",
              "\n",
              "    .dataframe thead th {\n",
              "        text-align: right;\n",
              "    }\n",
              "</style>\n",
              "<table border=\"1\" class=\"dataframe\">\n",
              "  <thead>\n",
              "    <tr style=\"text-align: right;\">\n",
              "      <th></th>\n",
              "      <th>telecommuting</th>\n",
              "      <th>has_company_logo</th>\n",
              "      <th>has_questions</th>\n",
              "      <th>employment_type</th>\n",
              "      <th>required_experience</th>\n",
              "      <th>required_education</th>\n",
              "      <th>industry</th>\n",
              "      <th>function</th>\n",
              "      <th>lemmatize</th>\n",
              "    </tr>\n",
              "  </thead>\n",
              "  <tbody>\n",
              "    <tr>\n",
              "      <th>0</th>\n",
              "      <td>0</td>\n",
              "      <td>1</td>\n",
              "      <td>0</td>\n",
              "      <td>2</td>\n",
              "      <td>4</td>\n",
              "      <td>13</td>\n",
              "      <td>131</td>\n",
              "      <td>22</td>\n",
              "      <td>marketing internwere weve created groundbreaki...</td>\n",
              "    </tr>\n",
              "    <tr>\n",
              "      <th>1</th>\n",
              "      <td>0</td>\n",
              "      <td>1</td>\n",
              "      <td>0</td>\n",
              "      <td>1</td>\n",
              "      <td>6</td>\n",
              "      <td>13</td>\n",
              "      <td>75</td>\n",
              "      <td>7</td>\n",
              "      <td>customer service cloud video second world clou...</td>\n",
              "    </tr>\n",
              "    <tr>\n",
              "      <th>2</th>\n",
              "      <td>0</td>\n",
              "      <td>1</td>\n",
              "      <td>0</td>\n",
              "      <td>5</td>\n",
              "      <td>7</td>\n",
              "      <td>13</td>\n",
              "      <td>131</td>\n",
              "      <td>37</td>\n",
              "      <td>commissioning machinery assistant cmavalor ser...</td>\n",
              "    </tr>\n",
              "    <tr>\n",
              "      <th>3</th>\n",
              "      <td>0</td>\n",
              "      <td>1</td>\n",
              "      <td>0</td>\n",
              "      <td>1</td>\n",
              "      <td>5</td>\n",
              "      <td>1</td>\n",
              "      <td>22</td>\n",
              "      <td>31</td>\n",
              "      <td>account executive washington dcour passion imp...</td>\n",
              "    </tr>\n",
              "    <tr>\n",
              "      <th>4</th>\n",
              "      <td>0</td>\n",
              "      <td>1</td>\n",
              "      <td>1</td>\n",
              "      <td>1</td>\n",
              "      <td>5</td>\n",
              "      <td>1</td>\n",
              "      <td>51</td>\n",
              "      <td>16</td>\n",
              "      <td>bill review managerspotsource solution llc glo...</td>\n",
              "    </tr>\n",
              "    <tr>\n",
              "      <th>...</th>\n",
              "      <td>...</td>\n",
              "      <td>...</td>\n",
              "      <td>...</td>\n",
              "      <td>...</td>\n",
              "      <td>...</td>\n",
              "      <td>...</td>\n",
              "      <td>...</td>\n",
              "      <td>...</td>\n",
              "      <td>...</td>\n",
              "    </tr>\n",
              "    <tr>\n",
              "      <th>17875</th>\n",
              "      <td>0</td>\n",
              "      <td>1</td>\n",
              "      <td>1</td>\n",
              "      <td>1</td>\n",
              "      <td>5</td>\n",
              "      <td>13</td>\n",
              "      <td>22</td>\n",
              "      <td>31</td>\n",
              "      <td>account director distribution vend looking awe...</td>\n",
              "    </tr>\n",
              "    <tr>\n",
              "      <th>17876</th>\n",
              "      <td>0</td>\n",
              "      <td>1</td>\n",
              "      <td>1</td>\n",
              "      <td>1</td>\n",
              "      <td>5</td>\n",
              "      <td>1</td>\n",
              "      <td>61</td>\n",
              "      <td>0</td>\n",
              "      <td>payroll accountantweblinc ecommerce platform s...</td>\n",
              "    </tr>\n",
              "    <tr>\n",
              "      <th>17877</th>\n",
              "      <td>0</td>\n",
              "      <td>0</td>\n",
              "      <td>0</td>\n",
              "      <td>1</td>\n",
              "      <td>7</td>\n",
              "      <td>13</td>\n",
              "      <td>131</td>\n",
              "      <td>37</td>\n",
              "      <td>project cost control staff engineer cost contr...</td>\n",
              "    </tr>\n",
              "    <tr>\n",
              "      <th>17878</th>\n",
              "      <td>0</td>\n",
              "      <td>0</td>\n",
              "      <td>1</td>\n",
              "      <td>0</td>\n",
              "      <td>6</td>\n",
              "      <td>6</td>\n",
              "      <td>48</td>\n",
              "      <td>9</td>\n",
              "      <td>graphic designermissingnemsia studio looking e...</td>\n",
              "    </tr>\n",
              "    <tr>\n",
              "      <th>17879</th>\n",
              "      <td>0</td>\n",
              "      <td>1</td>\n",
              "      <td>1</td>\n",
              "      <td>1</td>\n",
              "      <td>5</td>\n",
              "      <td>13</td>\n",
              "      <td>22</td>\n",
              "      <td>12</td>\n",
              "      <td>web application developersvend looking awesome...</td>\n",
              "    </tr>\n",
              "  </tbody>\n",
              "</table>\n",
              "<p>17880 rows × 9 columns</p>\n",
              "</div>\n",
              "      <button class=\"colab-df-convert\" onclick=\"convertToInteractive('df-dcb70f2f-427c-4d9b-8e3c-9446fff280b2')\"\n",
              "              title=\"Convert this dataframe to an interactive table.\"\n",
              "              style=\"display:none;\">\n",
              "        \n",
              "  <svg xmlns=\"http://www.w3.org/2000/svg\" height=\"24px\"viewBox=\"0 0 24 24\"\n",
              "       width=\"24px\">\n",
              "    <path d=\"M0 0h24v24H0V0z\" fill=\"none\"/>\n",
              "    <path d=\"M18.56 5.44l.94 2.06.94-2.06 2.06-.94-2.06-.94-.94-2.06-.94 2.06-2.06.94zm-11 1L8.5 8.5l.94-2.06 2.06-.94-2.06-.94L8.5 2.5l-.94 2.06-2.06.94zm10 10l.94 2.06.94-2.06 2.06-.94-2.06-.94-.94-2.06-.94 2.06-2.06.94z\"/><path d=\"M17.41 7.96l-1.37-1.37c-.4-.4-.92-.59-1.43-.59-.52 0-1.04.2-1.43.59L10.3 9.45l-7.72 7.72c-.78.78-.78 2.05 0 2.83L4 21.41c.39.39.9.59 1.41.59.51 0 1.02-.2 1.41-.59l7.78-7.78 2.81-2.81c.8-.78.8-2.07 0-2.86zM5.41 20L4 18.59l7.72-7.72 1.47 1.35L5.41 20z\"/>\n",
              "  </svg>\n",
              "      </button>\n",
              "      \n",
              "  <style>\n",
              "    .colab-df-container {\n",
              "      display:flex;\n",
              "      flex-wrap:wrap;\n",
              "      gap: 12px;\n",
              "    }\n",
              "\n",
              "    .colab-df-convert {\n",
              "      background-color: #E8F0FE;\n",
              "      border: none;\n",
              "      border-radius: 50%;\n",
              "      cursor: pointer;\n",
              "      display: none;\n",
              "      fill: #1967D2;\n",
              "      height: 32px;\n",
              "      padding: 0 0 0 0;\n",
              "      width: 32px;\n",
              "    }\n",
              "\n",
              "    .colab-df-convert:hover {\n",
              "      background-color: #E2EBFA;\n",
              "      box-shadow: 0px 1px 2px rgba(60, 64, 67, 0.3), 0px 1px 3px 1px rgba(60, 64, 67, 0.15);\n",
              "      fill: #174EA6;\n",
              "    }\n",
              "\n",
              "    [theme=dark] .colab-df-convert {\n",
              "      background-color: #3B4455;\n",
              "      fill: #D2E3FC;\n",
              "    }\n",
              "\n",
              "    [theme=dark] .colab-df-convert:hover {\n",
              "      background-color: #434B5C;\n",
              "      box-shadow: 0px 1px 3px 1px rgba(0, 0, 0, 0.15);\n",
              "      filter: drop-shadow(0px 1px 2px rgba(0, 0, 0, 0.3));\n",
              "      fill: #FFFFFF;\n",
              "    }\n",
              "  </style>\n",
              "\n",
              "      <script>\n",
              "        const buttonEl =\n",
              "          document.querySelector('#df-dcb70f2f-427c-4d9b-8e3c-9446fff280b2 button.colab-df-convert');\n",
              "        buttonEl.style.display =\n",
              "          google.colab.kernel.accessAllowed ? 'block' : 'none';\n",
              "\n",
              "        async function convertToInteractive(key) {\n",
              "          const element = document.querySelector('#df-dcb70f2f-427c-4d9b-8e3c-9446fff280b2');\n",
              "          const dataTable =\n",
              "            await google.colab.kernel.invokeFunction('convertToInteractive',\n",
              "                                                     [key], {});\n",
              "          if (!dataTable) return;\n",
              "\n",
              "          const docLinkHtml = 'Like what you see? Visit the ' +\n",
              "            '<a target=\"_blank\" href=https://colab.research.google.com/notebooks/data_table.ipynb>data table notebook</a>'\n",
              "            + ' to learn more about interactive tables.';\n",
              "          element.innerHTML = '';\n",
              "          dataTable['output_type'] = 'display_data';\n",
              "          await google.colab.output.renderOutput(dataTable, element);\n",
              "          const docLink = document.createElement('div');\n",
              "          docLink.innerHTML = docLinkHtml;\n",
              "          element.appendChild(docLink);\n",
              "        }\n",
              "      </script>\n",
              "    </div>\n",
              "  </div>\n",
              "  "
            ]
          },
          "metadata": {},
          "execution_count": 46
        }
      ],
      "source": [
        "X"
      ],
      "id": "0ee96561-80fa-4319-a9f5-b88b3c62d3db"
    },
    {
      "cell_type": "markdown",
      "metadata": {
        "id": "56aaa77e-91f9-4f61-91a5-1227c8534d04"
      },
      "source": [
        "## Text to numeric using Glove"
      ],
      "id": "56aaa77e-91f9-4f61-91a5-1227c8534d04"
    },
    {
      "cell_type": "code",
      "execution_count": 47,
      "metadata": {
        "id": "403cdd22-af90-48bd-93fa-2207db7ab10d"
      },
      "outputs": [],
      "source": [
        "from sklearn.feature_extraction.text import CountVectorizer\n",
        "\n",
        "#vectorizer = CountVectorizer()\n",
        "#vectorizer.fit(z.values.ravel())\n",
        "#z_train=vectorizer.transform(z.values.ravel())\n",
        "#z_train=z_train.toarray()"
      ],
      "id": "403cdd22-af90-48bd-93fa-2207db7ab10d"
    },
    {
      "cell_type": "code",
      "execution_count": 48,
      "metadata": {
        "id": "19c0a378-3161-4d0c-921a-053ff71d1031"
      },
      "outputs": [],
      "source": [
        "#z_train"
      ],
      "id": "19c0a378-3161-4d0c-921a-053ff71d1031"
    },
    {
      "cell_type": "code",
      "execution_count": 49,
      "metadata": {
        "id": "6d7c72bb-ea56-4bff-b144-66a5c1b99fbc"
      },
      "outputs": [],
      "source": [
        "from sklearn.model_selection import train_test_split"
      ],
      "id": "6d7c72bb-ea56-4bff-b144-66a5c1b99fbc"
    },
    {
      "cell_type": "markdown",
      "metadata": {
        "id": "-xN3xXpJkOdq"
      },
      "source": [
        "## Unrar"
      ],
      "id": "-xN3xXpJkOdq"
    },
    {
      "cell_type": "code",
      "execution_count": 50,
      "metadata": {
        "id": "t_rXgKEQj03p"
      },
      "outputs": [],
      "source": [
        "#!unrar x \"glove.6B.200d.rar\" \"/content/drive/Shareddrives/Data 245 Project/Project Code/\""
      ],
      "id": "t_rXgKEQj03p"
    },
    {
      "cell_type": "code",
      "execution_count": 51,
      "metadata": {
        "id": "4ec68b14-cbe7-4ebb-800e-0cef1a280d83"
      },
      "outputs": [],
      "source": [
        "embeddings_index = {}\n",
        "f = open('glove.6B.200d.txt', encoding=\"utf8\")\n",
        "for line in f:\n",
        "    values = line.split(' ')\n",
        "    word = values[0] ## The first entry is the word\n",
        "    coefs = np.asarray(values[1:], dtype='float32') ## These are the vectors representing the embedding for the word\n",
        "    embeddings_index[word] = coefs\n",
        "f.close()"
      ],
      "id": "4ec68b14-cbe7-4ebb-800e-0cef1a280d83"
    },
    {
      "cell_type": "code",
      "execution_count": 52,
      "metadata": {
        "colab": {
          "base_uri": "https://localhost:8080/"
        },
        "id": "4ed6ddf3-2764-4a04-81fd-d271e15b55f4",
        "outputId": "671ff4ec-b3bc-457f-cd3b-256133c5a499"
      },
      "outputs": [
        {
          "output_type": "stream",
          "name": "stdout",
          "text": [
            "Found 400000 word vectors.\n"
          ]
        }
      ],
      "source": [
        "print('Found %s word vectors.' % len(embeddings_index))"
      ],
      "id": "4ed6ddf3-2764-4a04-81fd-d271e15b55f4"
    },
    {
      "cell_type": "code",
      "execution_count": 53,
      "metadata": {
        "id": "747242b1-e335-4222-bf3d-a9b9152fc5ee"
      },
      "outputs": [],
      "source": [
        "glove_words =  set(embeddings_index.keys())\n",
        "\n",
        "def convert_sen_to_vec(sentence):\n",
        "    vector = np.zeros(300) # as word vectors are of zero length\n",
        "    cnt_words =0; # num of words with a valid vector in the sentence\n",
        "    for word in sentence.split():\n",
        "        if word in glove_words:\n",
        "            vector += embeddings_index[word]\n",
        "            cnt_words += 1\n",
        "    if cnt_words != 0:\n",
        "        vector /= cnt_words\n",
        "    return vector"
      ],
      "id": "747242b1-e335-4222-bf3d-a9b9152fc5ee"
    },
    {
      "cell_type": "code",
      "execution_count": 54,
      "metadata": {
        "id": "616e3bab-0399-4e49-8870-b3147c33f89a"
      },
      "outputs": [],
      "source": [
        "def sent2vec(s):\n",
        "    words = str(s).lower()\n",
        "    words = word_tokenize(words)\n",
        "    words = [w for w in words if not w in stop_words]\n",
        "    words = [w for w in words if w.isalpha()]\n",
        "    M = []\n",
        "    for w in words:\n",
        "        try:\n",
        "            M.append(embeddings_index[w])\n",
        "        except:\n",
        "            continue\n",
        "    M = np.array(M)\n",
        "    v = M.sum(axis=0)\n",
        "    if type(v) != np.ndarray:\n",
        "        return np.zeros(200)\n",
        "    return v / np.sqrt((v ** 2).sum())"
      ],
      "id": "616e3bab-0399-4e49-8870-b3147c33f89a"
    },
    {
      "cell_type": "code",
      "execution_count": 55,
      "metadata": {
        "id": "b9438889-7212-4d5b-bf21-717fc7f1125f"
      },
      "outputs": [],
      "source": [
        "converted_data = []\n",
        "\n",
        "for i in range(0, new_data.shape[0]):\n",
        "    converted_data.append(sent2vec(new_data['lemmatize'][i]))"
      ],
      "id": "b9438889-7212-4d5b-bf21-717fc7f1125f"
    },
    {
      "cell_type": "code",
      "execution_count": 56,
      "metadata": {
        "id": "758ed4f8-965b-494e-97f2-fc35f2b5e91b"
      },
      "outputs": [],
      "source": [
        "_1 = pd.DataFrame(converted_data)"
      ],
      "id": "758ed4f8-965b-494e-97f2-fc35f2b5e91b"
    },
    {
      "cell_type": "code",
      "execution_count": 57,
      "metadata": {
        "id": "6e53eb99-42b2-4eb6-adfb-39a5d579c0ad"
      },
      "outputs": [],
      "source": [
        "new_data = new_data.drop(columns=['lemmatize'])"
      ],
      "id": "6e53eb99-42b2-4eb6-adfb-39a5d579c0ad"
    },
    {
      "cell_type": "code",
      "execution_count": 58,
      "metadata": {
        "colab": {
          "base_uri": "https://localhost:8080/",
          "height": 423
        },
        "id": "9DX1sm0_ndZ1",
        "outputId": "c6f0fd00-ae97-4782-88b5-bd1cee7fb083"
      },
      "outputs": [
        {
          "output_type": "execute_result",
          "data": {
            "text/plain": [
              "       telecommuting  has_company_logo  has_questions  employment_type  \\\n",
              "0                  0                 1              0                2   \n",
              "1                  0                 1              0                1   \n",
              "2                  0                 1              0                5   \n",
              "3                  0                 1              0                1   \n",
              "4                  0                 1              1                1   \n",
              "...              ...               ...            ...              ...   \n",
              "17875              0                 1              1                1   \n",
              "17876              0                 1              1                1   \n",
              "17877              0                 0              0                1   \n",
              "17878              0                 0              1                0   \n",
              "17879              0                 1              1                1   \n",
              "\n",
              "       required_experience  required_education  industry  function  fraudulent  \n",
              "0                        4                  13       131        22           0  \n",
              "1                        6                  13        75         7           0  \n",
              "2                        7                  13       131        37           0  \n",
              "3                        5                   1        22        31           0  \n",
              "4                        5                   1        51        16           0  \n",
              "...                    ...                 ...       ...       ...         ...  \n",
              "17875                    5                  13        22        31           0  \n",
              "17876                    5                   1        61         0           0  \n",
              "17877                    7                  13       131        37           0  \n",
              "17878                    6                   6        48         9           0  \n",
              "17879                    5                  13        22        12           0  \n",
              "\n",
              "[17880 rows x 9 columns]"
            ],
            "text/html": [
              "\n",
              "  <div id=\"df-3f61b4ae-07be-4d50-8846-b3197b4c2e94\">\n",
              "    <div class=\"colab-df-container\">\n",
              "      <div>\n",
              "<style scoped>\n",
              "    .dataframe tbody tr th:only-of-type {\n",
              "        vertical-align: middle;\n",
              "    }\n",
              "\n",
              "    .dataframe tbody tr th {\n",
              "        vertical-align: top;\n",
              "    }\n",
              "\n",
              "    .dataframe thead th {\n",
              "        text-align: right;\n",
              "    }\n",
              "</style>\n",
              "<table border=\"1\" class=\"dataframe\">\n",
              "  <thead>\n",
              "    <tr style=\"text-align: right;\">\n",
              "      <th></th>\n",
              "      <th>telecommuting</th>\n",
              "      <th>has_company_logo</th>\n",
              "      <th>has_questions</th>\n",
              "      <th>employment_type</th>\n",
              "      <th>required_experience</th>\n",
              "      <th>required_education</th>\n",
              "      <th>industry</th>\n",
              "      <th>function</th>\n",
              "      <th>fraudulent</th>\n",
              "    </tr>\n",
              "  </thead>\n",
              "  <tbody>\n",
              "    <tr>\n",
              "      <th>0</th>\n",
              "      <td>0</td>\n",
              "      <td>1</td>\n",
              "      <td>0</td>\n",
              "      <td>2</td>\n",
              "      <td>4</td>\n",
              "      <td>13</td>\n",
              "      <td>131</td>\n",
              "      <td>22</td>\n",
              "      <td>0</td>\n",
              "    </tr>\n",
              "    <tr>\n",
              "      <th>1</th>\n",
              "      <td>0</td>\n",
              "      <td>1</td>\n",
              "      <td>0</td>\n",
              "      <td>1</td>\n",
              "      <td>6</td>\n",
              "      <td>13</td>\n",
              "      <td>75</td>\n",
              "      <td>7</td>\n",
              "      <td>0</td>\n",
              "    </tr>\n",
              "    <tr>\n",
              "      <th>2</th>\n",
              "      <td>0</td>\n",
              "      <td>1</td>\n",
              "      <td>0</td>\n",
              "      <td>5</td>\n",
              "      <td>7</td>\n",
              "      <td>13</td>\n",
              "      <td>131</td>\n",
              "      <td>37</td>\n",
              "      <td>0</td>\n",
              "    </tr>\n",
              "    <tr>\n",
              "      <th>3</th>\n",
              "      <td>0</td>\n",
              "      <td>1</td>\n",
              "      <td>0</td>\n",
              "      <td>1</td>\n",
              "      <td>5</td>\n",
              "      <td>1</td>\n",
              "      <td>22</td>\n",
              "      <td>31</td>\n",
              "      <td>0</td>\n",
              "    </tr>\n",
              "    <tr>\n",
              "      <th>4</th>\n",
              "      <td>0</td>\n",
              "      <td>1</td>\n",
              "      <td>1</td>\n",
              "      <td>1</td>\n",
              "      <td>5</td>\n",
              "      <td>1</td>\n",
              "      <td>51</td>\n",
              "      <td>16</td>\n",
              "      <td>0</td>\n",
              "    </tr>\n",
              "    <tr>\n",
              "      <th>...</th>\n",
              "      <td>...</td>\n",
              "      <td>...</td>\n",
              "      <td>...</td>\n",
              "      <td>...</td>\n",
              "      <td>...</td>\n",
              "      <td>...</td>\n",
              "      <td>...</td>\n",
              "      <td>...</td>\n",
              "      <td>...</td>\n",
              "    </tr>\n",
              "    <tr>\n",
              "      <th>17875</th>\n",
              "      <td>0</td>\n",
              "      <td>1</td>\n",
              "      <td>1</td>\n",
              "      <td>1</td>\n",
              "      <td>5</td>\n",
              "      <td>13</td>\n",
              "      <td>22</td>\n",
              "      <td>31</td>\n",
              "      <td>0</td>\n",
              "    </tr>\n",
              "    <tr>\n",
              "      <th>17876</th>\n",
              "      <td>0</td>\n",
              "      <td>1</td>\n",
              "      <td>1</td>\n",
              "      <td>1</td>\n",
              "      <td>5</td>\n",
              "      <td>1</td>\n",
              "      <td>61</td>\n",
              "      <td>0</td>\n",
              "      <td>0</td>\n",
              "    </tr>\n",
              "    <tr>\n",
              "      <th>17877</th>\n",
              "      <td>0</td>\n",
              "      <td>0</td>\n",
              "      <td>0</td>\n",
              "      <td>1</td>\n",
              "      <td>7</td>\n",
              "      <td>13</td>\n",
              "      <td>131</td>\n",
              "      <td>37</td>\n",
              "      <td>0</td>\n",
              "    </tr>\n",
              "    <tr>\n",
              "      <th>17878</th>\n",
              "      <td>0</td>\n",
              "      <td>0</td>\n",
              "      <td>1</td>\n",
              "      <td>0</td>\n",
              "      <td>6</td>\n",
              "      <td>6</td>\n",
              "      <td>48</td>\n",
              "      <td>9</td>\n",
              "      <td>0</td>\n",
              "    </tr>\n",
              "    <tr>\n",
              "      <th>17879</th>\n",
              "      <td>0</td>\n",
              "      <td>1</td>\n",
              "      <td>1</td>\n",
              "      <td>1</td>\n",
              "      <td>5</td>\n",
              "      <td>13</td>\n",
              "      <td>22</td>\n",
              "      <td>12</td>\n",
              "      <td>0</td>\n",
              "    </tr>\n",
              "  </tbody>\n",
              "</table>\n",
              "<p>17880 rows × 9 columns</p>\n",
              "</div>\n",
              "      <button class=\"colab-df-convert\" onclick=\"convertToInteractive('df-3f61b4ae-07be-4d50-8846-b3197b4c2e94')\"\n",
              "              title=\"Convert this dataframe to an interactive table.\"\n",
              "              style=\"display:none;\">\n",
              "        \n",
              "  <svg xmlns=\"http://www.w3.org/2000/svg\" height=\"24px\"viewBox=\"0 0 24 24\"\n",
              "       width=\"24px\">\n",
              "    <path d=\"M0 0h24v24H0V0z\" fill=\"none\"/>\n",
              "    <path d=\"M18.56 5.44l.94 2.06.94-2.06 2.06-.94-2.06-.94-.94-2.06-.94 2.06-2.06.94zm-11 1L8.5 8.5l.94-2.06 2.06-.94-2.06-.94L8.5 2.5l-.94 2.06-2.06.94zm10 10l.94 2.06.94-2.06 2.06-.94-2.06-.94-.94-2.06-.94 2.06-2.06.94z\"/><path d=\"M17.41 7.96l-1.37-1.37c-.4-.4-.92-.59-1.43-.59-.52 0-1.04.2-1.43.59L10.3 9.45l-7.72 7.72c-.78.78-.78 2.05 0 2.83L4 21.41c.39.39.9.59 1.41.59.51 0 1.02-.2 1.41-.59l7.78-7.78 2.81-2.81c.8-.78.8-2.07 0-2.86zM5.41 20L4 18.59l7.72-7.72 1.47 1.35L5.41 20z\"/>\n",
              "  </svg>\n",
              "      </button>\n",
              "      \n",
              "  <style>\n",
              "    .colab-df-container {\n",
              "      display:flex;\n",
              "      flex-wrap:wrap;\n",
              "      gap: 12px;\n",
              "    }\n",
              "\n",
              "    .colab-df-convert {\n",
              "      background-color: #E8F0FE;\n",
              "      border: none;\n",
              "      border-radius: 50%;\n",
              "      cursor: pointer;\n",
              "      display: none;\n",
              "      fill: #1967D2;\n",
              "      height: 32px;\n",
              "      padding: 0 0 0 0;\n",
              "      width: 32px;\n",
              "    }\n",
              "\n",
              "    .colab-df-convert:hover {\n",
              "      background-color: #E2EBFA;\n",
              "      box-shadow: 0px 1px 2px rgba(60, 64, 67, 0.3), 0px 1px 3px 1px rgba(60, 64, 67, 0.15);\n",
              "      fill: #174EA6;\n",
              "    }\n",
              "\n",
              "    [theme=dark] .colab-df-convert {\n",
              "      background-color: #3B4455;\n",
              "      fill: #D2E3FC;\n",
              "    }\n",
              "\n",
              "    [theme=dark] .colab-df-convert:hover {\n",
              "      background-color: #434B5C;\n",
              "      box-shadow: 0px 1px 3px 1px rgba(0, 0, 0, 0.15);\n",
              "      filter: drop-shadow(0px 1px 2px rgba(0, 0, 0, 0.3));\n",
              "      fill: #FFFFFF;\n",
              "    }\n",
              "  </style>\n",
              "\n",
              "      <script>\n",
              "        const buttonEl =\n",
              "          document.querySelector('#df-3f61b4ae-07be-4d50-8846-b3197b4c2e94 button.colab-df-convert');\n",
              "        buttonEl.style.display =\n",
              "          google.colab.kernel.accessAllowed ? 'block' : 'none';\n",
              "\n",
              "        async function convertToInteractive(key) {\n",
              "          const element = document.querySelector('#df-3f61b4ae-07be-4d50-8846-b3197b4c2e94');\n",
              "          const dataTable =\n",
              "            await google.colab.kernel.invokeFunction('convertToInteractive',\n",
              "                                                     [key], {});\n",
              "          if (!dataTable) return;\n",
              "\n",
              "          const docLinkHtml = 'Like what you see? Visit the ' +\n",
              "            '<a target=\"_blank\" href=https://colab.research.google.com/notebooks/data_table.ipynb>data table notebook</a>'\n",
              "            + ' to learn more about interactive tables.';\n",
              "          element.innerHTML = '';\n",
              "          dataTable['output_type'] = 'display_data';\n",
              "          await google.colab.output.renderOutput(dataTable, element);\n",
              "          const docLink = document.createElement('div');\n",
              "          docLink.innerHTML = docLinkHtml;\n",
              "          element.appendChild(docLink);\n",
              "        }\n",
              "      </script>\n",
              "    </div>\n",
              "  </div>\n",
              "  "
            ]
          },
          "metadata": {},
          "execution_count": 58
        }
      ],
      "source": [
        "new_data"
      ],
      "id": "9DX1sm0_ndZ1"
    },
    {
      "cell_type": "code",
      "execution_count": 59,
      "metadata": {
        "id": "MjjyTtiSE5qL"
      },
      "outputs": [],
      "source": [
        "main_data = pd.concat([_1,new_data], axis=1)"
      ],
      "id": "MjjyTtiSE5qL"
    },
    {
      "cell_type": "code",
      "execution_count": 60,
      "metadata": {
        "colab": {
          "base_uri": "https://localhost:8080/",
          "height": 487
        },
        "id": "beufmcYKE8j9",
        "outputId": "63d23794-6a5f-41dc-ac7c-3dd261801fbc"
      },
      "outputs": [
        {
          "output_type": "execute_result",
          "data": {
            "text/plain": [
              "              0         1         2         3         4         5         6  \\\n",
              "0     -0.002061  0.066000 -0.017966 -0.061503  0.030577 -0.019662 -0.085162   \n",
              "1      0.028571  0.063619 -0.053331 -0.056595  0.022424  0.000128 -0.069555   \n",
              "2      0.031692  0.078740  0.024006 -0.062013  0.007968 -0.018392 -0.071365   \n",
              "3      0.040483  0.059467  0.008781 -0.013202  0.032882 -0.009149 -0.084195   \n",
              "4      0.036627  0.049534  0.018203 -0.034942  0.029900 -0.005607 -0.078676   \n",
              "...         ...       ...       ...       ...       ...       ...       ...   \n",
              "17875  0.052695  0.037381 -0.032322 -0.042386  0.017173 -0.008292 -0.074659   \n",
              "17876  0.051455  0.064098 -0.015834 -0.028895  0.040883 -0.026099 -0.067135   \n",
              "17877  0.036313  0.027983  0.022579 -0.028348  0.046630 -0.006606 -0.085808   \n",
              "17878  0.023673  0.069232 -0.036682 -0.078467  0.079021 -0.016263 -0.117926   \n",
              "17879  0.056539  0.054882 -0.041412 -0.053222  0.041028 -0.004214 -0.080467   \n",
              "\n",
              "              7         8         9  ...       199  telecommuting  \\\n",
              "0      0.000982 -0.030580  0.030815  ...  0.015658              0   \n",
              "1      0.009650  0.013362  0.031480  ...  0.016425              0   \n",
              "2      0.035503  0.021990  0.008586  ... -0.001151              0   \n",
              "3      0.038128  0.002978  0.056617  ...  0.017022              0   \n",
              "4      0.016035  0.003705  0.035780  ...  0.006174              0   \n",
              "...         ...       ...       ...  ...       ...            ...   \n",
              "17875  0.007101 -0.000324  0.047896  ...  0.026960              0   \n",
              "17876  0.025180 -0.007879  0.052108  ...  0.021530              0   \n",
              "17877  0.003379  0.005933  0.043600  ... -0.001572              0   \n",
              "17878  0.013720  0.048151  0.027105  ... -0.005863              0   \n",
              "17879  0.020165 -0.015131  0.056915  ...  0.032474              0   \n",
              "\n",
              "       has_company_logo  has_questions  employment_type  required_experience  \\\n",
              "0                     1              0                2                    4   \n",
              "1                     1              0                1                    6   \n",
              "2                     1              0                5                    7   \n",
              "3                     1              0                1                    5   \n",
              "4                     1              1                1                    5   \n",
              "...                 ...            ...              ...                  ...   \n",
              "17875                 1              1                1                    5   \n",
              "17876                 1              1                1                    5   \n",
              "17877                 0              0                1                    7   \n",
              "17878                 0              1                0                    6   \n",
              "17879                 1              1                1                    5   \n",
              "\n",
              "       required_education  industry  function  fraudulent  \n",
              "0                      13       131        22           0  \n",
              "1                      13        75         7           0  \n",
              "2                      13       131        37           0  \n",
              "3                       1        22        31           0  \n",
              "4                       1        51        16           0  \n",
              "...                   ...       ...       ...         ...  \n",
              "17875                  13        22        31           0  \n",
              "17876                   1        61         0           0  \n",
              "17877                  13       131        37           0  \n",
              "17878                   6        48         9           0  \n",
              "17879                  13        22        12           0  \n",
              "\n",
              "[17880 rows x 209 columns]"
            ],
            "text/html": [
              "\n",
              "  <div id=\"df-a00736b4-b85a-4150-84cc-f7b81a1ea572\">\n",
              "    <div class=\"colab-df-container\">\n",
              "      <div>\n",
              "<style scoped>\n",
              "    .dataframe tbody tr th:only-of-type {\n",
              "        vertical-align: middle;\n",
              "    }\n",
              "\n",
              "    .dataframe tbody tr th {\n",
              "        vertical-align: top;\n",
              "    }\n",
              "\n",
              "    .dataframe thead th {\n",
              "        text-align: right;\n",
              "    }\n",
              "</style>\n",
              "<table border=\"1\" class=\"dataframe\">\n",
              "  <thead>\n",
              "    <tr style=\"text-align: right;\">\n",
              "      <th></th>\n",
              "      <th>0</th>\n",
              "      <th>1</th>\n",
              "      <th>2</th>\n",
              "      <th>3</th>\n",
              "      <th>4</th>\n",
              "      <th>5</th>\n",
              "      <th>6</th>\n",
              "      <th>7</th>\n",
              "      <th>8</th>\n",
              "      <th>9</th>\n",
              "      <th>...</th>\n",
              "      <th>199</th>\n",
              "      <th>telecommuting</th>\n",
              "      <th>has_company_logo</th>\n",
              "      <th>has_questions</th>\n",
              "      <th>employment_type</th>\n",
              "      <th>required_experience</th>\n",
              "      <th>required_education</th>\n",
              "      <th>industry</th>\n",
              "      <th>function</th>\n",
              "      <th>fraudulent</th>\n",
              "    </tr>\n",
              "  </thead>\n",
              "  <tbody>\n",
              "    <tr>\n",
              "      <th>0</th>\n",
              "      <td>-0.002061</td>\n",
              "      <td>0.066000</td>\n",
              "      <td>-0.017966</td>\n",
              "      <td>-0.061503</td>\n",
              "      <td>0.030577</td>\n",
              "      <td>-0.019662</td>\n",
              "      <td>-0.085162</td>\n",
              "      <td>0.000982</td>\n",
              "      <td>-0.030580</td>\n",
              "      <td>0.030815</td>\n",
              "      <td>...</td>\n",
              "      <td>0.015658</td>\n",
              "      <td>0</td>\n",
              "      <td>1</td>\n",
              "      <td>0</td>\n",
              "      <td>2</td>\n",
              "      <td>4</td>\n",
              "      <td>13</td>\n",
              "      <td>131</td>\n",
              "      <td>22</td>\n",
              "      <td>0</td>\n",
              "    </tr>\n",
              "    <tr>\n",
              "      <th>1</th>\n",
              "      <td>0.028571</td>\n",
              "      <td>0.063619</td>\n",
              "      <td>-0.053331</td>\n",
              "      <td>-0.056595</td>\n",
              "      <td>0.022424</td>\n",
              "      <td>0.000128</td>\n",
              "      <td>-0.069555</td>\n",
              "      <td>0.009650</td>\n",
              "      <td>0.013362</td>\n",
              "      <td>0.031480</td>\n",
              "      <td>...</td>\n",
              "      <td>0.016425</td>\n",
              "      <td>0</td>\n",
              "      <td>1</td>\n",
              "      <td>0</td>\n",
              "      <td>1</td>\n",
              "      <td>6</td>\n",
              "      <td>13</td>\n",
              "      <td>75</td>\n",
              "      <td>7</td>\n",
              "      <td>0</td>\n",
              "    </tr>\n",
              "    <tr>\n",
              "      <th>2</th>\n",
              "      <td>0.031692</td>\n",
              "      <td>0.078740</td>\n",
              "      <td>0.024006</td>\n",
              "      <td>-0.062013</td>\n",
              "      <td>0.007968</td>\n",
              "      <td>-0.018392</td>\n",
              "      <td>-0.071365</td>\n",
              "      <td>0.035503</td>\n",
              "      <td>0.021990</td>\n",
              "      <td>0.008586</td>\n",
              "      <td>...</td>\n",
              "      <td>-0.001151</td>\n",
              "      <td>0</td>\n",
              "      <td>1</td>\n",
              "      <td>0</td>\n",
              "      <td>5</td>\n",
              "      <td>7</td>\n",
              "      <td>13</td>\n",
              "      <td>131</td>\n",
              "      <td>37</td>\n",
              "      <td>0</td>\n",
              "    </tr>\n",
              "    <tr>\n",
              "      <th>3</th>\n",
              "      <td>0.040483</td>\n",
              "      <td>0.059467</td>\n",
              "      <td>0.008781</td>\n",
              "      <td>-0.013202</td>\n",
              "      <td>0.032882</td>\n",
              "      <td>-0.009149</td>\n",
              "      <td>-0.084195</td>\n",
              "      <td>0.038128</td>\n",
              "      <td>0.002978</td>\n",
              "      <td>0.056617</td>\n",
              "      <td>...</td>\n",
              "      <td>0.017022</td>\n",
              "      <td>0</td>\n",
              "      <td>1</td>\n",
              "      <td>0</td>\n",
              "      <td>1</td>\n",
              "      <td>5</td>\n",
              "      <td>1</td>\n",
              "      <td>22</td>\n",
              "      <td>31</td>\n",
              "      <td>0</td>\n",
              "    </tr>\n",
              "    <tr>\n",
              "      <th>4</th>\n",
              "      <td>0.036627</td>\n",
              "      <td>0.049534</td>\n",
              "      <td>0.018203</td>\n",
              "      <td>-0.034942</td>\n",
              "      <td>0.029900</td>\n",
              "      <td>-0.005607</td>\n",
              "      <td>-0.078676</td>\n",
              "      <td>0.016035</td>\n",
              "      <td>0.003705</td>\n",
              "      <td>0.035780</td>\n",
              "      <td>...</td>\n",
              "      <td>0.006174</td>\n",
              "      <td>0</td>\n",
              "      <td>1</td>\n",
              "      <td>1</td>\n",
              "      <td>1</td>\n",
              "      <td>5</td>\n",
              "      <td>1</td>\n",
              "      <td>51</td>\n",
              "      <td>16</td>\n",
              "      <td>0</td>\n",
              "    </tr>\n",
              "    <tr>\n",
              "      <th>...</th>\n",
              "      <td>...</td>\n",
              "      <td>...</td>\n",
              "      <td>...</td>\n",
              "      <td>...</td>\n",
              "      <td>...</td>\n",
              "      <td>...</td>\n",
              "      <td>...</td>\n",
              "      <td>...</td>\n",
              "      <td>...</td>\n",
              "      <td>...</td>\n",
              "      <td>...</td>\n",
              "      <td>...</td>\n",
              "      <td>...</td>\n",
              "      <td>...</td>\n",
              "      <td>...</td>\n",
              "      <td>...</td>\n",
              "      <td>...</td>\n",
              "      <td>...</td>\n",
              "      <td>...</td>\n",
              "      <td>...</td>\n",
              "      <td>...</td>\n",
              "    </tr>\n",
              "    <tr>\n",
              "      <th>17875</th>\n",
              "      <td>0.052695</td>\n",
              "      <td>0.037381</td>\n",
              "      <td>-0.032322</td>\n",
              "      <td>-0.042386</td>\n",
              "      <td>0.017173</td>\n",
              "      <td>-0.008292</td>\n",
              "      <td>-0.074659</td>\n",
              "      <td>0.007101</td>\n",
              "      <td>-0.000324</td>\n",
              "      <td>0.047896</td>\n",
              "      <td>...</td>\n",
              "      <td>0.026960</td>\n",
              "      <td>0</td>\n",
              "      <td>1</td>\n",
              "      <td>1</td>\n",
              "      <td>1</td>\n",
              "      <td>5</td>\n",
              "      <td>13</td>\n",
              "      <td>22</td>\n",
              "      <td>31</td>\n",
              "      <td>0</td>\n",
              "    </tr>\n",
              "    <tr>\n",
              "      <th>17876</th>\n",
              "      <td>0.051455</td>\n",
              "      <td>0.064098</td>\n",
              "      <td>-0.015834</td>\n",
              "      <td>-0.028895</td>\n",
              "      <td>0.040883</td>\n",
              "      <td>-0.026099</td>\n",
              "      <td>-0.067135</td>\n",
              "      <td>0.025180</td>\n",
              "      <td>-0.007879</td>\n",
              "      <td>0.052108</td>\n",
              "      <td>...</td>\n",
              "      <td>0.021530</td>\n",
              "      <td>0</td>\n",
              "      <td>1</td>\n",
              "      <td>1</td>\n",
              "      <td>1</td>\n",
              "      <td>5</td>\n",
              "      <td>1</td>\n",
              "      <td>61</td>\n",
              "      <td>0</td>\n",
              "      <td>0</td>\n",
              "    </tr>\n",
              "    <tr>\n",
              "      <th>17877</th>\n",
              "      <td>0.036313</td>\n",
              "      <td>0.027983</td>\n",
              "      <td>0.022579</td>\n",
              "      <td>-0.028348</td>\n",
              "      <td>0.046630</td>\n",
              "      <td>-0.006606</td>\n",
              "      <td>-0.085808</td>\n",
              "      <td>0.003379</td>\n",
              "      <td>0.005933</td>\n",
              "      <td>0.043600</td>\n",
              "      <td>...</td>\n",
              "      <td>-0.001572</td>\n",
              "      <td>0</td>\n",
              "      <td>0</td>\n",
              "      <td>0</td>\n",
              "      <td>1</td>\n",
              "      <td>7</td>\n",
              "      <td>13</td>\n",
              "      <td>131</td>\n",
              "      <td>37</td>\n",
              "      <td>0</td>\n",
              "    </tr>\n",
              "    <tr>\n",
              "      <th>17878</th>\n",
              "      <td>0.023673</td>\n",
              "      <td>0.069232</td>\n",
              "      <td>-0.036682</td>\n",
              "      <td>-0.078467</td>\n",
              "      <td>0.079021</td>\n",
              "      <td>-0.016263</td>\n",
              "      <td>-0.117926</td>\n",
              "      <td>0.013720</td>\n",
              "      <td>0.048151</td>\n",
              "      <td>0.027105</td>\n",
              "      <td>...</td>\n",
              "      <td>-0.005863</td>\n",
              "      <td>0</td>\n",
              "      <td>0</td>\n",
              "      <td>1</td>\n",
              "      <td>0</td>\n",
              "      <td>6</td>\n",
              "      <td>6</td>\n",
              "      <td>48</td>\n",
              "      <td>9</td>\n",
              "      <td>0</td>\n",
              "    </tr>\n",
              "    <tr>\n",
              "      <th>17879</th>\n",
              "      <td>0.056539</td>\n",
              "      <td>0.054882</td>\n",
              "      <td>-0.041412</td>\n",
              "      <td>-0.053222</td>\n",
              "      <td>0.041028</td>\n",
              "      <td>-0.004214</td>\n",
              "      <td>-0.080467</td>\n",
              "      <td>0.020165</td>\n",
              "      <td>-0.015131</td>\n",
              "      <td>0.056915</td>\n",
              "      <td>...</td>\n",
              "      <td>0.032474</td>\n",
              "      <td>0</td>\n",
              "      <td>1</td>\n",
              "      <td>1</td>\n",
              "      <td>1</td>\n",
              "      <td>5</td>\n",
              "      <td>13</td>\n",
              "      <td>22</td>\n",
              "      <td>12</td>\n",
              "      <td>0</td>\n",
              "    </tr>\n",
              "  </tbody>\n",
              "</table>\n",
              "<p>17880 rows × 209 columns</p>\n",
              "</div>\n",
              "      <button class=\"colab-df-convert\" onclick=\"convertToInteractive('df-a00736b4-b85a-4150-84cc-f7b81a1ea572')\"\n",
              "              title=\"Convert this dataframe to an interactive table.\"\n",
              "              style=\"display:none;\">\n",
              "        \n",
              "  <svg xmlns=\"http://www.w3.org/2000/svg\" height=\"24px\"viewBox=\"0 0 24 24\"\n",
              "       width=\"24px\">\n",
              "    <path d=\"M0 0h24v24H0V0z\" fill=\"none\"/>\n",
              "    <path d=\"M18.56 5.44l.94 2.06.94-2.06 2.06-.94-2.06-.94-.94-2.06-.94 2.06-2.06.94zm-11 1L8.5 8.5l.94-2.06 2.06-.94-2.06-.94L8.5 2.5l-.94 2.06-2.06.94zm10 10l.94 2.06.94-2.06 2.06-.94-2.06-.94-.94-2.06-.94 2.06-2.06.94z\"/><path d=\"M17.41 7.96l-1.37-1.37c-.4-.4-.92-.59-1.43-.59-.52 0-1.04.2-1.43.59L10.3 9.45l-7.72 7.72c-.78.78-.78 2.05 0 2.83L4 21.41c.39.39.9.59 1.41.59.51 0 1.02-.2 1.41-.59l7.78-7.78 2.81-2.81c.8-.78.8-2.07 0-2.86zM5.41 20L4 18.59l7.72-7.72 1.47 1.35L5.41 20z\"/>\n",
              "  </svg>\n",
              "      </button>\n",
              "      \n",
              "  <style>\n",
              "    .colab-df-container {\n",
              "      display:flex;\n",
              "      flex-wrap:wrap;\n",
              "      gap: 12px;\n",
              "    }\n",
              "\n",
              "    .colab-df-convert {\n",
              "      background-color: #E8F0FE;\n",
              "      border: none;\n",
              "      border-radius: 50%;\n",
              "      cursor: pointer;\n",
              "      display: none;\n",
              "      fill: #1967D2;\n",
              "      height: 32px;\n",
              "      padding: 0 0 0 0;\n",
              "      width: 32px;\n",
              "    }\n",
              "\n",
              "    .colab-df-convert:hover {\n",
              "      background-color: #E2EBFA;\n",
              "      box-shadow: 0px 1px 2px rgba(60, 64, 67, 0.3), 0px 1px 3px 1px rgba(60, 64, 67, 0.15);\n",
              "      fill: #174EA6;\n",
              "    }\n",
              "\n",
              "    [theme=dark] .colab-df-convert {\n",
              "      background-color: #3B4455;\n",
              "      fill: #D2E3FC;\n",
              "    }\n",
              "\n",
              "    [theme=dark] .colab-df-convert:hover {\n",
              "      background-color: #434B5C;\n",
              "      box-shadow: 0px 1px 3px 1px rgba(0, 0, 0, 0.15);\n",
              "      filter: drop-shadow(0px 1px 2px rgba(0, 0, 0, 0.3));\n",
              "      fill: #FFFFFF;\n",
              "    }\n",
              "  </style>\n",
              "\n",
              "      <script>\n",
              "        const buttonEl =\n",
              "          document.querySelector('#df-a00736b4-b85a-4150-84cc-f7b81a1ea572 button.colab-df-convert');\n",
              "        buttonEl.style.display =\n",
              "          google.colab.kernel.accessAllowed ? 'block' : 'none';\n",
              "\n",
              "        async function convertToInteractive(key) {\n",
              "          const element = document.querySelector('#df-a00736b4-b85a-4150-84cc-f7b81a1ea572');\n",
              "          const dataTable =\n",
              "            await google.colab.kernel.invokeFunction('convertToInteractive',\n",
              "                                                     [key], {});\n",
              "          if (!dataTable) return;\n",
              "\n",
              "          const docLinkHtml = 'Like what you see? Visit the ' +\n",
              "            '<a target=\"_blank\" href=https://colab.research.google.com/notebooks/data_table.ipynb>data table notebook</a>'\n",
              "            + ' to learn more about interactive tables.';\n",
              "          element.innerHTML = '';\n",
              "          dataTable['output_type'] = 'display_data';\n",
              "          await google.colab.output.renderOutput(dataTable, element);\n",
              "          const docLink = document.createElement('div');\n",
              "          docLink.innerHTML = docLinkHtml;\n",
              "          element.appendChild(docLink);\n",
              "        }\n",
              "      </script>\n",
              "    </div>\n",
              "  </div>\n",
              "  "
            ]
          },
          "metadata": {},
          "execution_count": 60
        }
      ],
      "source": [
        "main_data"
      ],
      "id": "beufmcYKE8j9"
    },
    {
      "cell_type": "code",
      "execution_count": 61,
      "metadata": {
        "id": "MiirpI2npcil"
      },
      "outputs": [],
      "source": [
        "main_data.columns = main_data.columns.astype(str)"
      ],
      "id": "MiirpI2npcil"
    },
    {
      "cell_type": "code",
      "execution_count": 62,
      "metadata": {
        "colab": {
          "base_uri": "https://localhost:8080/"
        },
        "id": "4c766ec3-d74a-4f1b-be31-ca227a2672cc",
        "outputId": "e776987d-94fa-40ae-9ec9-2668b2a3105a"
      },
      "outputs": [
        {
          "output_type": "stream",
          "name": "stdout",
          "text": [
            "<class 'pandas.core.frame.DataFrame'>\n",
            "RangeIndex: 17880 entries, 0 to 17879\n",
            "Data columns (total 9 columns):\n",
            " #   Column               Non-Null Count  Dtype\n",
            "---  ------               --------------  -----\n",
            " 0   telecommuting        17880 non-null  int64\n",
            " 1   has_company_logo     17880 non-null  int64\n",
            " 2   has_questions        17880 non-null  int64\n",
            " 3   employment_type      17880 non-null  int64\n",
            " 4   required_experience  17880 non-null  int64\n",
            " 5   required_education   17880 non-null  int64\n",
            " 6   industry             17880 non-null  int64\n",
            " 7   function             17880 non-null  int64\n",
            " 8   fraudulent           17880 non-null  int64\n",
            "dtypes: int64(9)\n",
            "memory usage: 1.2 MB\n"
          ]
        }
      ],
      "source": [
        "new_data.info()"
      ],
      "id": "4c766ec3-d74a-4f1b-be31-ca227a2672cc"
    },
    {
      "cell_type": "code",
      "execution_count": 63,
      "metadata": {
        "id": "1de46349-997f-4271-9134-fca0dc558ccc"
      },
      "outputs": [],
      "source": [
        "from sklearn.preprocessing import StandardScaler\n",
        "scaler = StandardScaler()\n",
        "\n",
        "main_data[['required_education', 'required_experience', 'employment_type','industry','function']] = StandardScaler().fit_transform(main_data[['required_education', 'required_experience', 'employment_type','industry','function']])"
      ],
      "id": "1de46349-997f-4271-9134-fca0dc558ccc"
    },
    {
      "cell_type": "code",
      "execution_count": 64,
      "metadata": {
        "colab": {
          "base_uri": "https://localhost:8080/",
          "height": 487
        },
        "id": "ff079276-7b5b-4694-bc43-b33005514ab0",
        "outputId": "a59df9ab-a757-4c78-ab45-71bc34e6b7de"
      },
      "outputs": [
        {
          "output_type": "execute_result",
          "data": {
            "text/plain": [
              "              0         1         2         3         4         5         6  \\\n",
              "0     -0.002061  0.066000 -0.017966 -0.061503  0.030577 -0.019662 -0.085162   \n",
              "1      0.028571  0.063619 -0.053331 -0.056595  0.022424  0.000128 -0.069555   \n",
              "2      0.031692  0.078740  0.024006 -0.062013  0.007968 -0.018392 -0.071365   \n",
              "3      0.040483  0.059467  0.008781 -0.013202  0.032882 -0.009149 -0.084195   \n",
              "4      0.036627  0.049534  0.018203 -0.034942  0.029900 -0.005607 -0.078676   \n",
              "...         ...       ...       ...       ...       ...       ...       ...   \n",
              "17875  0.052695  0.037381 -0.032322 -0.042386  0.017173 -0.008292 -0.074659   \n",
              "17876  0.051455  0.064098 -0.015834 -0.028895  0.040883 -0.026099 -0.067135   \n",
              "17877  0.036313  0.027983  0.022579 -0.028348  0.046630 -0.006606 -0.085808   \n",
              "17878  0.023673  0.069232 -0.036682 -0.078467  0.079021 -0.016263 -0.117926   \n",
              "17879  0.056539  0.054882 -0.041412 -0.053222  0.041028 -0.004214 -0.080467   \n",
              "\n",
              "              7         8         9  ...       199  telecommuting  \\\n",
              "0      0.000982 -0.030580  0.030815  ...  0.015658              0   \n",
              "1      0.009650  0.013362  0.031480  ...  0.016425              0   \n",
              "2      0.035503  0.021990  0.008586  ... -0.001151              0   \n",
              "3      0.038128  0.002978  0.056617  ...  0.017022              0   \n",
              "4      0.016035  0.003705  0.035780  ...  0.006174              0   \n",
              "...         ...       ...       ...  ...       ...            ...   \n",
              "17875  0.007101 -0.000324  0.047896  ...  0.026960              0   \n",
              "17876  0.025180 -0.007879  0.052108  ...  0.021530              0   \n",
              "17877  0.003379  0.005933  0.043600  ... -0.001572              0   \n",
              "17878  0.013720  0.048151  0.027105  ... -0.005863              0   \n",
              "17879  0.020165 -0.015131  0.056915  ...  0.032474              0   \n",
              "\n",
              "       has_company_logo  has_questions  employment_type  required_experience  \\\n",
              "0                     1              0         0.099313            -0.248399   \n",
              "1                     1              0        -0.497368             0.537615   \n",
              "2                     1              0         1.889358             0.930622   \n",
              "3                     1              0        -0.497368             0.144608   \n",
              "4                     1              1        -0.497368             0.144608   \n",
              "...                 ...            ...              ...                  ...   \n",
              "17875                 1              1        -0.497368             0.144608   \n",
              "17876                 1              1        -0.497368             0.144608   \n",
              "17877                 0              0        -0.497368             0.930622   \n",
              "17878                 0              1        -1.094049             0.537615   \n",
              "17879                 1              1        -0.497368             0.144608   \n",
              "\n",
              "       required_education  industry  function  fraudulent  \n",
              "0                1.005226  1.308985 -0.145416           0  \n",
              "1                1.005226  0.011506 -1.352449           0  \n",
              "2                1.005226  1.308985  1.061618           0  \n",
              "3               -1.229790 -1.216466  0.578804           0  \n",
              "4               -1.229790 -0.544557 -0.628229           0  \n",
              "...                   ...       ...       ...         ...  \n",
              "17875            1.005226 -1.216466  0.578804           0  \n",
              "17876           -1.229790 -0.312864 -1.915731           0  \n",
              "17877            1.005226  1.308985  1.061618           0  \n",
              "17878           -0.298533 -0.614065 -1.191511           0  \n",
              "17879            1.005226 -1.216466 -0.950104           0  \n",
              "\n",
              "[17880 rows x 209 columns]"
            ],
            "text/html": [
              "\n",
              "  <div id=\"df-abbcf8c2-7f6e-4b02-b063-c103bcde9f2b\">\n",
              "    <div class=\"colab-df-container\">\n",
              "      <div>\n",
              "<style scoped>\n",
              "    .dataframe tbody tr th:only-of-type {\n",
              "        vertical-align: middle;\n",
              "    }\n",
              "\n",
              "    .dataframe tbody tr th {\n",
              "        vertical-align: top;\n",
              "    }\n",
              "\n",
              "    .dataframe thead th {\n",
              "        text-align: right;\n",
              "    }\n",
              "</style>\n",
              "<table border=\"1\" class=\"dataframe\">\n",
              "  <thead>\n",
              "    <tr style=\"text-align: right;\">\n",
              "      <th></th>\n",
              "      <th>0</th>\n",
              "      <th>1</th>\n",
              "      <th>2</th>\n",
              "      <th>3</th>\n",
              "      <th>4</th>\n",
              "      <th>5</th>\n",
              "      <th>6</th>\n",
              "      <th>7</th>\n",
              "      <th>8</th>\n",
              "      <th>9</th>\n",
              "      <th>...</th>\n",
              "      <th>199</th>\n",
              "      <th>telecommuting</th>\n",
              "      <th>has_company_logo</th>\n",
              "      <th>has_questions</th>\n",
              "      <th>employment_type</th>\n",
              "      <th>required_experience</th>\n",
              "      <th>required_education</th>\n",
              "      <th>industry</th>\n",
              "      <th>function</th>\n",
              "      <th>fraudulent</th>\n",
              "    </tr>\n",
              "  </thead>\n",
              "  <tbody>\n",
              "    <tr>\n",
              "      <th>0</th>\n",
              "      <td>-0.002061</td>\n",
              "      <td>0.066000</td>\n",
              "      <td>-0.017966</td>\n",
              "      <td>-0.061503</td>\n",
              "      <td>0.030577</td>\n",
              "      <td>-0.019662</td>\n",
              "      <td>-0.085162</td>\n",
              "      <td>0.000982</td>\n",
              "      <td>-0.030580</td>\n",
              "      <td>0.030815</td>\n",
              "      <td>...</td>\n",
              "      <td>0.015658</td>\n",
              "      <td>0</td>\n",
              "      <td>1</td>\n",
              "      <td>0</td>\n",
              "      <td>0.099313</td>\n",
              "      <td>-0.248399</td>\n",
              "      <td>1.005226</td>\n",
              "      <td>1.308985</td>\n",
              "      <td>-0.145416</td>\n",
              "      <td>0</td>\n",
              "    </tr>\n",
              "    <tr>\n",
              "      <th>1</th>\n",
              "      <td>0.028571</td>\n",
              "      <td>0.063619</td>\n",
              "      <td>-0.053331</td>\n",
              "      <td>-0.056595</td>\n",
              "      <td>0.022424</td>\n",
              "      <td>0.000128</td>\n",
              "      <td>-0.069555</td>\n",
              "      <td>0.009650</td>\n",
              "      <td>0.013362</td>\n",
              "      <td>0.031480</td>\n",
              "      <td>...</td>\n",
              "      <td>0.016425</td>\n",
              "      <td>0</td>\n",
              "      <td>1</td>\n",
              "      <td>0</td>\n",
              "      <td>-0.497368</td>\n",
              "      <td>0.537615</td>\n",
              "      <td>1.005226</td>\n",
              "      <td>0.011506</td>\n",
              "      <td>-1.352449</td>\n",
              "      <td>0</td>\n",
              "    </tr>\n",
              "    <tr>\n",
              "      <th>2</th>\n",
              "      <td>0.031692</td>\n",
              "      <td>0.078740</td>\n",
              "      <td>0.024006</td>\n",
              "      <td>-0.062013</td>\n",
              "      <td>0.007968</td>\n",
              "      <td>-0.018392</td>\n",
              "      <td>-0.071365</td>\n",
              "      <td>0.035503</td>\n",
              "      <td>0.021990</td>\n",
              "      <td>0.008586</td>\n",
              "      <td>...</td>\n",
              "      <td>-0.001151</td>\n",
              "      <td>0</td>\n",
              "      <td>1</td>\n",
              "      <td>0</td>\n",
              "      <td>1.889358</td>\n",
              "      <td>0.930622</td>\n",
              "      <td>1.005226</td>\n",
              "      <td>1.308985</td>\n",
              "      <td>1.061618</td>\n",
              "      <td>0</td>\n",
              "    </tr>\n",
              "    <tr>\n",
              "      <th>3</th>\n",
              "      <td>0.040483</td>\n",
              "      <td>0.059467</td>\n",
              "      <td>0.008781</td>\n",
              "      <td>-0.013202</td>\n",
              "      <td>0.032882</td>\n",
              "      <td>-0.009149</td>\n",
              "      <td>-0.084195</td>\n",
              "      <td>0.038128</td>\n",
              "      <td>0.002978</td>\n",
              "      <td>0.056617</td>\n",
              "      <td>...</td>\n",
              "      <td>0.017022</td>\n",
              "      <td>0</td>\n",
              "      <td>1</td>\n",
              "      <td>0</td>\n",
              "      <td>-0.497368</td>\n",
              "      <td>0.144608</td>\n",
              "      <td>-1.229790</td>\n",
              "      <td>-1.216466</td>\n",
              "      <td>0.578804</td>\n",
              "      <td>0</td>\n",
              "    </tr>\n",
              "    <tr>\n",
              "      <th>4</th>\n",
              "      <td>0.036627</td>\n",
              "      <td>0.049534</td>\n",
              "      <td>0.018203</td>\n",
              "      <td>-0.034942</td>\n",
              "      <td>0.029900</td>\n",
              "      <td>-0.005607</td>\n",
              "      <td>-0.078676</td>\n",
              "      <td>0.016035</td>\n",
              "      <td>0.003705</td>\n",
              "      <td>0.035780</td>\n",
              "      <td>...</td>\n",
              "      <td>0.006174</td>\n",
              "      <td>0</td>\n",
              "      <td>1</td>\n",
              "      <td>1</td>\n",
              "      <td>-0.497368</td>\n",
              "      <td>0.144608</td>\n",
              "      <td>-1.229790</td>\n",
              "      <td>-0.544557</td>\n",
              "      <td>-0.628229</td>\n",
              "      <td>0</td>\n",
              "    </tr>\n",
              "    <tr>\n",
              "      <th>...</th>\n",
              "      <td>...</td>\n",
              "      <td>...</td>\n",
              "      <td>...</td>\n",
              "      <td>...</td>\n",
              "      <td>...</td>\n",
              "      <td>...</td>\n",
              "      <td>...</td>\n",
              "      <td>...</td>\n",
              "      <td>...</td>\n",
              "      <td>...</td>\n",
              "      <td>...</td>\n",
              "      <td>...</td>\n",
              "      <td>...</td>\n",
              "      <td>...</td>\n",
              "      <td>...</td>\n",
              "      <td>...</td>\n",
              "      <td>...</td>\n",
              "      <td>...</td>\n",
              "      <td>...</td>\n",
              "      <td>...</td>\n",
              "      <td>...</td>\n",
              "    </tr>\n",
              "    <tr>\n",
              "      <th>17875</th>\n",
              "      <td>0.052695</td>\n",
              "      <td>0.037381</td>\n",
              "      <td>-0.032322</td>\n",
              "      <td>-0.042386</td>\n",
              "      <td>0.017173</td>\n",
              "      <td>-0.008292</td>\n",
              "      <td>-0.074659</td>\n",
              "      <td>0.007101</td>\n",
              "      <td>-0.000324</td>\n",
              "      <td>0.047896</td>\n",
              "      <td>...</td>\n",
              "      <td>0.026960</td>\n",
              "      <td>0</td>\n",
              "      <td>1</td>\n",
              "      <td>1</td>\n",
              "      <td>-0.497368</td>\n",
              "      <td>0.144608</td>\n",
              "      <td>1.005226</td>\n",
              "      <td>-1.216466</td>\n",
              "      <td>0.578804</td>\n",
              "      <td>0</td>\n",
              "    </tr>\n",
              "    <tr>\n",
              "      <th>17876</th>\n",
              "      <td>0.051455</td>\n",
              "      <td>0.064098</td>\n",
              "      <td>-0.015834</td>\n",
              "      <td>-0.028895</td>\n",
              "      <td>0.040883</td>\n",
              "      <td>-0.026099</td>\n",
              "      <td>-0.067135</td>\n",
              "      <td>0.025180</td>\n",
              "      <td>-0.007879</td>\n",
              "      <td>0.052108</td>\n",
              "      <td>...</td>\n",
              "      <td>0.021530</td>\n",
              "      <td>0</td>\n",
              "      <td>1</td>\n",
              "      <td>1</td>\n",
              "      <td>-0.497368</td>\n",
              "      <td>0.144608</td>\n",
              "      <td>-1.229790</td>\n",
              "      <td>-0.312864</td>\n",
              "      <td>-1.915731</td>\n",
              "      <td>0</td>\n",
              "    </tr>\n",
              "    <tr>\n",
              "      <th>17877</th>\n",
              "      <td>0.036313</td>\n",
              "      <td>0.027983</td>\n",
              "      <td>0.022579</td>\n",
              "      <td>-0.028348</td>\n",
              "      <td>0.046630</td>\n",
              "      <td>-0.006606</td>\n",
              "      <td>-0.085808</td>\n",
              "      <td>0.003379</td>\n",
              "      <td>0.005933</td>\n",
              "      <td>0.043600</td>\n",
              "      <td>...</td>\n",
              "      <td>-0.001572</td>\n",
              "      <td>0</td>\n",
              "      <td>0</td>\n",
              "      <td>0</td>\n",
              "      <td>-0.497368</td>\n",
              "      <td>0.930622</td>\n",
              "      <td>1.005226</td>\n",
              "      <td>1.308985</td>\n",
              "      <td>1.061618</td>\n",
              "      <td>0</td>\n",
              "    </tr>\n",
              "    <tr>\n",
              "      <th>17878</th>\n",
              "      <td>0.023673</td>\n",
              "      <td>0.069232</td>\n",
              "      <td>-0.036682</td>\n",
              "      <td>-0.078467</td>\n",
              "      <td>0.079021</td>\n",
              "      <td>-0.016263</td>\n",
              "      <td>-0.117926</td>\n",
              "      <td>0.013720</td>\n",
              "      <td>0.048151</td>\n",
              "      <td>0.027105</td>\n",
              "      <td>...</td>\n",
              "      <td>-0.005863</td>\n",
              "      <td>0</td>\n",
              "      <td>0</td>\n",
              "      <td>1</td>\n",
              "      <td>-1.094049</td>\n",
              "      <td>0.537615</td>\n",
              "      <td>-0.298533</td>\n",
              "      <td>-0.614065</td>\n",
              "      <td>-1.191511</td>\n",
              "      <td>0</td>\n",
              "    </tr>\n",
              "    <tr>\n",
              "      <th>17879</th>\n",
              "      <td>0.056539</td>\n",
              "      <td>0.054882</td>\n",
              "      <td>-0.041412</td>\n",
              "      <td>-0.053222</td>\n",
              "      <td>0.041028</td>\n",
              "      <td>-0.004214</td>\n",
              "      <td>-0.080467</td>\n",
              "      <td>0.020165</td>\n",
              "      <td>-0.015131</td>\n",
              "      <td>0.056915</td>\n",
              "      <td>...</td>\n",
              "      <td>0.032474</td>\n",
              "      <td>0</td>\n",
              "      <td>1</td>\n",
              "      <td>1</td>\n",
              "      <td>-0.497368</td>\n",
              "      <td>0.144608</td>\n",
              "      <td>1.005226</td>\n",
              "      <td>-1.216466</td>\n",
              "      <td>-0.950104</td>\n",
              "      <td>0</td>\n",
              "    </tr>\n",
              "  </tbody>\n",
              "</table>\n",
              "<p>17880 rows × 209 columns</p>\n",
              "</div>\n",
              "      <button class=\"colab-df-convert\" onclick=\"convertToInteractive('df-abbcf8c2-7f6e-4b02-b063-c103bcde9f2b')\"\n",
              "              title=\"Convert this dataframe to an interactive table.\"\n",
              "              style=\"display:none;\">\n",
              "        \n",
              "  <svg xmlns=\"http://www.w3.org/2000/svg\" height=\"24px\"viewBox=\"0 0 24 24\"\n",
              "       width=\"24px\">\n",
              "    <path d=\"M0 0h24v24H0V0z\" fill=\"none\"/>\n",
              "    <path d=\"M18.56 5.44l.94 2.06.94-2.06 2.06-.94-2.06-.94-.94-2.06-.94 2.06-2.06.94zm-11 1L8.5 8.5l.94-2.06 2.06-.94-2.06-.94L8.5 2.5l-.94 2.06-2.06.94zm10 10l.94 2.06.94-2.06 2.06-.94-2.06-.94-.94-2.06-.94 2.06-2.06.94z\"/><path d=\"M17.41 7.96l-1.37-1.37c-.4-.4-.92-.59-1.43-.59-.52 0-1.04.2-1.43.59L10.3 9.45l-7.72 7.72c-.78.78-.78 2.05 0 2.83L4 21.41c.39.39.9.59 1.41.59.51 0 1.02-.2 1.41-.59l7.78-7.78 2.81-2.81c.8-.78.8-2.07 0-2.86zM5.41 20L4 18.59l7.72-7.72 1.47 1.35L5.41 20z\"/>\n",
              "  </svg>\n",
              "      </button>\n",
              "      \n",
              "  <style>\n",
              "    .colab-df-container {\n",
              "      display:flex;\n",
              "      flex-wrap:wrap;\n",
              "      gap: 12px;\n",
              "    }\n",
              "\n",
              "    .colab-df-convert {\n",
              "      background-color: #E8F0FE;\n",
              "      border: none;\n",
              "      border-radius: 50%;\n",
              "      cursor: pointer;\n",
              "      display: none;\n",
              "      fill: #1967D2;\n",
              "      height: 32px;\n",
              "      padding: 0 0 0 0;\n",
              "      width: 32px;\n",
              "    }\n",
              "\n",
              "    .colab-df-convert:hover {\n",
              "      background-color: #E2EBFA;\n",
              "      box-shadow: 0px 1px 2px rgba(60, 64, 67, 0.3), 0px 1px 3px 1px rgba(60, 64, 67, 0.15);\n",
              "      fill: #174EA6;\n",
              "    }\n",
              "\n",
              "    [theme=dark] .colab-df-convert {\n",
              "      background-color: #3B4455;\n",
              "      fill: #D2E3FC;\n",
              "    }\n",
              "\n",
              "    [theme=dark] .colab-df-convert:hover {\n",
              "      background-color: #434B5C;\n",
              "      box-shadow: 0px 1px 3px 1px rgba(0, 0, 0, 0.15);\n",
              "      filter: drop-shadow(0px 1px 2px rgba(0, 0, 0, 0.3));\n",
              "      fill: #FFFFFF;\n",
              "    }\n",
              "  </style>\n",
              "\n",
              "      <script>\n",
              "        const buttonEl =\n",
              "          document.querySelector('#df-abbcf8c2-7f6e-4b02-b063-c103bcde9f2b button.colab-df-convert');\n",
              "        buttonEl.style.display =\n",
              "          google.colab.kernel.accessAllowed ? 'block' : 'none';\n",
              "\n",
              "        async function convertToInteractive(key) {\n",
              "          const element = document.querySelector('#df-abbcf8c2-7f6e-4b02-b063-c103bcde9f2b');\n",
              "          const dataTable =\n",
              "            await google.colab.kernel.invokeFunction('convertToInteractive',\n",
              "                                                     [key], {});\n",
              "          if (!dataTable) return;\n",
              "\n",
              "          const docLinkHtml = 'Like what you see? Visit the ' +\n",
              "            '<a target=\"_blank\" href=https://colab.research.google.com/notebooks/data_table.ipynb>data table notebook</a>'\n",
              "            + ' to learn more about interactive tables.';\n",
              "          element.innerHTML = '';\n",
              "          dataTable['output_type'] = 'display_data';\n",
              "          await google.colab.output.renderOutput(dataTable, element);\n",
              "          const docLink = document.createElement('div');\n",
              "          docLink.innerHTML = docLinkHtml;\n",
              "          element.appendChild(docLink);\n",
              "        }\n",
              "      </script>\n",
              "    </div>\n",
              "  </div>\n",
              "  "
            ]
          },
          "metadata": {},
          "execution_count": 64
        }
      ],
      "source": [
        "main_data"
      ],
      "id": "ff079276-7b5b-4694-bc43-b33005514ab0"
    },
    {
      "cell_type": "markdown",
      "metadata": {
        "id": "780387c5-6fda-4fb2-a9a8-610e05a64dcc"
      },
      "source": [
        "## Apply SMOTE"
      ],
      "id": "780387c5-6fda-4fb2-a9a8-610e05a64dcc"
    },
    {
      "cell_type": "code",
      "execution_count": 65,
      "metadata": {
        "colab": {
          "base_uri": "https://localhost:8080/"
        },
        "id": "042a5457-a00f-4160-a3ea-b6784213a711",
        "outputId": "85e01c4f-378e-4c78-faa9-b41fd3a0f146"
      },
      "outputs": [
        {
          "output_type": "stream",
          "name": "stdout",
          "text": [
            "Requirement already satisfied: imbalanced-learn in /usr/local/lib/python3.7/dist-packages (0.8.1)\n",
            "Collecting imbalanced-learn\n",
            "  Downloading imbalanced_learn-0.9.0-py3-none-any.whl (199 kB)\n",
            "\u001b[K     |████████████████████████████████| 199 kB 5.3 MB/s \n",
            "\u001b[?25hRequirement already satisfied: scikit-learn>=1.0.1 in /usr/local/lib/python3.7/dist-packages (from imbalanced-learn) (1.0.2)\n",
            "Requirement already satisfied: numpy>=1.14.6 in /usr/local/lib/python3.7/dist-packages (from imbalanced-learn) (1.21.6)\n",
            "Requirement already satisfied: scipy>=1.1.0 in /usr/local/lib/python3.7/dist-packages (from imbalanced-learn) (1.4.1)\n",
            "Requirement already satisfied: joblib>=0.11 in /usr/local/lib/python3.7/dist-packages (from imbalanced-learn) (1.1.0)\n",
            "Requirement already satisfied: threadpoolctl>=2.0.0 in /usr/local/lib/python3.7/dist-packages (from imbalanced-learn) (3.1.0)\n",
            "Installing collected packages: imbalanced-learn\n",
            "  Attempting uninstall: imbalanced-learn\n",
            "    Found existing installation: imbalanced-learn 0.8.1\n",
            "    Uninstalling imbalanced-learn-0.8.1:\n",
            "      Successfully uninstalled imbalanced-learn-0.8.1\n",
            "Successfully installed imbalanced-learn-0.9.0\n"
          ]
        }
      ],
      "source": [
        "!pip install -U imbalanced-learn"
      ],
      "id": "042a5457-a00f-4160-a3ea-b6784213a711"
    },
    {
      "cell_type": "code",
      "execution_count": 66,
      "metadata": {
        "id": "0180502f-8b3b-4a4b-9ac6-a61d2b322b8e"
      },
      "outputs": [],
      "source": [
        "from imblearn.combine import SMOTETomek\n",
        "from imblearn.over_sampling import SMOTE"
      ],
      "id": "0180502f-8b3b-4a4b-9ac6-a61d2b322b8e"
    },
    {
      "cell_type": "code",
      "execution_count": 67,
      "metadata": {
        "colab": {
          "base_uri": "https://localhost:8080/",
          "height": 302
        },
        "id": "20bd5a5b-62a0-4103-b8da-3c10b103684f",
        "outputId": "4612be1f-918b-492d-e2b8-982049881bec"
      },
      "outputs": [
        {
          "output_type": "execute_result",
          "data": {
            "text/plain": [
              "<matplotlib.axes._subplots.AxesSubplot at 0x7fabf67e6cd0>"
            ]
          },
          "metadata": {},
          "execution_count": 67
        },
        {
          "output_type": "display_data",
          "data": {
            "text/plain": [
              "<Figure size 432x288 with 1 Axes>"
            ],
            "image/png": "[encoded data removed]"
          },
          "metadata": {}
        }
      ],
      "source": [
        "import matplotlib.pyplot as plt\n",
        "import seaborn as sns\n",
        "\n",
        "sns.set(style=\"darkgrid\")\n",
        "sns.countplot(x = \"fraudulent\" , data = new_data)"
      ],
      "id": "20bd5a5b-62a0-4103-b8da-3c10b103684f"
    },
    {
      "cell_type": "code",
      "execution_count": 68,
      "metadata": {
        "id": "f5ec1b95-83e1-49ab-b824-f768805dc20b"
      },
      "outputs": [],
      "source": [
        "X = main_data.iloc[:, :-1]\n",
        "Y = main_data.iloc[:, -1]"
      ],
      "id": "f5ec1b95-83e1-49ab-b824-f768805dc20b"
    },
    {
      "cell_type": "code",
      "execution_count": 69,
      "metadata": {
        "colab": {
          "base_uri": "https://localhost:8080/"
        },
        "id": "b91cdcf7-f76f-45e8-b754-24a731c70fb4",
        "outputId": "f276c478-f23a-4c9b-d23c-2a1eef79c7ae"
      },
      "outputs": [
        {
          "output_type": "stream",
          "name": "stdout",
          "text": [
            "17880\n",
            "17880\n"
          ]
        }
      ],
      "source": [
        "print(len(X))\n",
        "print(len(y))"
      ],
      "id": "b91cdcf7-f76f-45e8-b754-24a731c70fb4"
    },
    {
      "cell_type": "code",
      "execution_count": 70,
      "metadata": {
        "id": "80e4ca43-d4be-4259-a8ff-7d505f265fcd"
      },
      "outputs": [],
      "source": [
        "oversample = SMOTE()\n",
        "new_X, new_y = oversample.fit_resample(X, y)"
      ],
      "id": "80e4ca43-d4be-4259-a8ff-7d505f265fcd"
    },
    {
      "cell_type": "code",
      "execution_count": 71,
      "metadata": {
        "colab": {
          "base_uri": "https://localhost:8080/"
        },
        "id": "61035831-89f2-4c2c-b4a8-5c5e8545f70e",
        "outputId": "02ebdc78-737e-42b0-ba78-72aa3d33d213"
      },
      "outputs": [
        {
          "output_type": "stream",
          "name": "stdout",
          "text": [
            "34028\n",
            "34028\n"
          ]
        }
      ],
      "source": [
        "print(len(new_X))\n",
        "print(len(new_y))"
      ],
      "id": "61035831-89f2-4c2c-b4a8-5c5e8545f70e"
    },
    {
      "cell_type": "code",
      "execution_count": 72,
      "metadata": {
        "colab": {
          "base_uri": "https://localhost:8080/"
        },
        "id": "0979684f-cbd7-48e5-95de-ff453f3cc79b",
        "outputId": "b30e55ed-a54f-42f1-b243-871cf60f6437"
      },
      "outputs": [
        {
          "output_type": "execute_result",
          "data": {
            "text/plain": [
              "0    17014\n",
              "1    17014\n",
              "Name: fraudulent, dtype: int64"
            ]
          },
          "metadata": {},
          "execution_count": 72
        }
      ],
      "source": [
        "new_y.value_counts()"
      ],
      "id": "0979684f-cbd7-48e5-95de-ff453f3cc79b"
    },
    {
      "cell_type": "markdown",
      "metadata": {
        "id": "AqqJumx9rcXR"
      },
      "source": [
        "#Testing Zone"
      ],
      "id": "AqqJumx9rcXR"
    },
    {
      "cell_type": "code",
      "execution_count": 73,
      "metadata": {
        "id": "HusIG8VHre-I"
      },
      "outputs": [],
      "source": [
        "test_data = save_data"
      ],
      "id": "HusIG8VHre-I"
    },
    {
      "cell_type": "code",
      "execution_count": 74,
      "metadata": {
        "colab": {
          "base_uri": "https://localhost:8080/",
          "height": 423
        },
        "id": "0-OvaBl5tDZ_",
        "outputId": "568b10e8-f98b-4e09-a30d-c03a3590186a"
      },
      "outputs": [
        {
          "output_type": "execute_result",
          "data": {
            "text/plain": [
              "       telecommuting  has_company_logo  has_questions  employment_type  \\\n",
              "0                  0                 1              0                2   \n",
              "1                  0                 1              0                1   \n",
              "2                  0                 1              0                5   \n",
              "3                  0                 1              0                1   \n",
              "4                  0                 1              1                1   \n",
              "...              ...               ...            ...              ...   \n",
              "17875              0                 1              1                1   \n",
              "17876              0                 1              1                1   \n",
              "17877              0                 0              0                1   \n",
              "17878              0                 0              1                0   \n",
              "17879              0                 1              1                1   \n",
              "\n",
              "       required_experience  required_education  industry  function  \\\n",
              "0                        4                  13       131        22   \n",
              "1                        6                  13        75         7   \n",
              "2                        7                  13       131        37   \n",
              "3                        5                   1        22        31   \n",
              "4                        5                   1        51        16   \n",
              "...                    ...                 ...       ...       ...   \n",
              "17875                    5                  13        22        31   \n",
              "17876                    5                   1        61         0   \n",
              "17877                    7                  13       131        37   \n",
              "17878                    6                   6        48         9   \n",
              "17879                    5                  13        22        12   \n",
              "\n",
              "                                               lemmatize  fraudulent  \n",
              "0      marketing internwere weve created groundbreaki...           0  \n",
              "1      customer service cloud video second world clou...           0  \n",
              "2      commissioning machinery assistant cmavalor ser...           0  \n",
              "3      account executive washington dcour passion imp...           0  \n",
              "4      bill review managerspotsource solution llc glo...           0  \n",
              "...                                                  ...         ...  \n",
              "17875  account director distribution vend looking awe...           0  \n",
              "17876  payroll accountantweblinc ecommerce platform s...           0  \n",
              "17877  project cost control staff engineer cost contr...           0  \n",
              "17878  graphic designermissingnemsia studio looking e...           0  \n",
              "17879  web application developersvend looking awesome...           0  \n",
              "\n",
              "[17880 rows x 10 columns]"
            ],
            "text/html": [
              "\n",
              "  <div id=\"df-25f22e82-75bd-44df-92de-74f7f0ff4eb9\">\n",
              "    <div class=\"colab-df-container\">\n",
              "      <div>\n",
              "<style scoped>\n",
              "    .dataframe tbody tr th:only-of-type {\n",
              "        vertical-align: middle;\n",
              "    }\n",
              "\n",
              "    .dataframe tbody tr th {\n",
              "        vertical-align: top;\n",
              "    }\n",
              "\n",
              "    .dataframe thead th {\n",
              "        text-align: right;\n",
              "    }\n",
              "</style>\n",
              "<table border=\"1\" class=\"dataframe\">\n",
              "  <thead>\n",
              "    <tr style=\"text-align: right;\">\n",
              "      <th></th>\n",
              "      <th>telecommuting</th>\n",
              "      <th>has_company_logo</th>\n",
              "      <th>has_questions</th>\n",
              "      <th>employment_type</th>\n",
              "      <th>required_experience</th>\n",
              "      <th>required_education</th>\n",
              "      <th>industry</th>\n",
              "      <th>function</th>\n",
              "      <th>lemmatize</th>\n",
              "      <th>fraudulent</th>\n",
              "    </tr>\n",
              "  </thead>\n",
              "  <tbody>\n",
              "    <tr>\n",
              "      <th>0</th>\n",
              "      <td>0</td>\n",
              "      <td>1</td>\n",
              "      <td>0</td>\n",
              "      <td>2</td>\n",
              "      <td>4</td>\n",
              "      <td>13</td>\n",
              "      <td>131</td>\n",
              "      <td>22</td>\n",
              "      <td>marketing internwere weve created groundbreaki...</td>\n",
              "      <td>0</td>\n",
              "    </tr>\n",
              "    <tr>\n",
              "      <th>1</th>\n",
              "      <td>0</td>\n",
              "      <td>1</td>\n",
              "      <td>0</td>\n",
              "      <td>1</td>\n",
              "      <td>6</td>\n",
              "      <td>13</td>\n",
              "      <td>75</td>\n",
              "      <td>7</td>\n",
              "      <td>customer service cloud video second world clou...</td>\n",
              "      <td>0</td>\n",
              "    </tr>\n",
              "    <tr>\n",
              "      <th>2</th>\n",
              "      <td>0</td>\n",
              "      <td>1</td>\n",
              "      <td>0</td>\n",
              "      <td>5</td>\n",
              "      <td>7</td>\n",
              "      <td>13</td>\n",
              "      <td>131</td>\n",
              "      <td>37</td>\n",
              "      <td>commissioning machinery assistant cmavalor ser...</td>\n",
              "      <td>0</td>\n",
              "    </tr>\n",
              "    <tr>\n",
              "      <th>3</th>\n",
              "      <td>0</td>\n",
              "      <td>1</td>\n",
              "      <td>0</td>\n",
              "      <td>1</td>\n",
              "      <td>5</td>\n",
              "      <td>1</td>\n",
              "      <td>22</td>\n",
              "      <td>31</td>\n",
              "      <td>account executive washington dcour passion imp...</td>\n",
              "      <td>0</td>\n",
              "    </tr>\n",
              "    <tr>\n",
              "      <th>4</th>\n",
              "      <td>0</td>\n",
              "      <td>1</td>\n",
              "      <td>1</td>\n",
              "      <td>1</td>\n",
              "      <td>5</td>\n",
              "      <td>1</td>\n",
              "      <td>51</td>\n",
              "      <td>16</td>\n",
              "      <td>bill review managerspotsource solution llc glo...</td>\n",
              "      <td>0</td>\n",
              "    </tr>\n",
              "    <tr>\n",
              "      <th>...</th>\n",
              "      <td>...</td>\n",
              "      <td>...</td>\n",
              "      <td>...</td>\n",
              "      <td>...</td>\n",
              "      <td>...</td>\n",
              "      <td>...</td>\n",
              "      <td>...</td>\n",
              "      <td>...</td>\n",
              "      <td>...</td>\n",
              "      <td>...</td>\n",
              "    </tr>\n",
              "    <tr>\n",
              "      <th>17875</th>\n",
              "      <td>0</td>\n",
              "      <td>1</td>\n",
              "      <td>1</td>\n",
              "      <td>1</td>\n",
              "      <td>5</td>\n",
              "      <td>13</td>\n",
              "      <td>22</td>\n",
              "      <td>31</td>\n",
              "      <td>account director distribution vend looking awe...</td>\n",
              "      <td>0</td>\n",
              "    </tr>\n",
              "    <tr>\n",
              "      <th>17876</th>\n",
              "      <td>0</td>\n",
              "      <td>1</td>\n",
              "      <td>1</td>\n",
              "      <td>1</td>\n",
              "      <td>5</td>\n",
              "      <td>1</td>\n",
              "      <td>61</td>\n",
              "      <td>0</td>\n",
              "      <td>payroll accountantweblinc ecommerce platform s...</td>\n",
              "      <td>0</td>\n",
              "    </tr>\n",
              "    <tr>\n",
              "      <th>17877</th>\n",
              "      <td>0</td>\n",
              "      <td>0</td>\n",
              "      <td>0</td>\n",
              "      <td>1</td>\n",
              "      <td>7</td>\n",
              "      <td>13</td>\n",
              "      <td>131</td>\n",
              "      <td>37</td>\n",
              "      <td>project cost control staff engineer cost contr...</td>\n",
              "      <td>0</td>\n",
              "    </tr>\n",
              "    <tr>\n",
              "      <th>17878</th>\n",
              "      <td>0</td>\n",
              "      <td>0</td>\n",
              "      <td>1</td>\n",
              "      <td>0</td>\n",
              "      <td>6</td>\n",
              "      <td>6</td>\n",
              "      <td>48</td>\n",
              "      <td>9</td>\n",
              "      <td>graphic designermissingnemsia studio looking e...</td>\n",
              "      <td>0</td>\n",
              "    </tr>\n",
              "    <tr>\n",
              "      <th>17879</th>\n",
              "      <td>0</td>\n",
              "      <td>1</td>\n",
              "      <td>1</td>\n",
              "      <td>1</td>\n",
              "      <td>5</td>\n",
              "      <td>13</td>\n",
              "      <td>22</td>\n",
              "      <td>12</td>\n",
              "      <td>web application developersvend looking awesome...</td>\n",
              "      <td>0</td>\n",
              "    </tr>\n",
              "  </tbody>\n",
              "</table>\n",
              "<p>17880 rows × 10 columns</p>\n",
              "</div>\n",
              "      <button class=\"colab-df-convert\" onclick=\"convertToInteractive('df-25f22e82-75bd-44df-92de-74f7f0ff4eb9')\"\n",
              "              title=\"Convert this dataframe to an interactive table.\"\n",
              "              style=\"display:none;\">\n",
              "        \n",
              "  <svg xmlns=\"http://www.w3.org/2000/svg\" height=\"24px\"viewBox=\"0 0 24 24\"\n",
              "       width=\"24px\">\n",
              "    <path d=\"M0 0h24v24H0V0z\" fill=\"none\"/>\n",
              "    <path d=\"M18.56 5.44l.94 2.06.94-2.06 2.06-.94-2.06-.94-.94-2.06-.94 2.06-2.06.94zm-11 1L8.5 8.5l.94-2.06 2.06-.94-2.06-.94L8.5 2.5l-.94 2.06-2.06.94zm10 10l.94 2.06.94-2.06 2.06-.94-2.06-.94-.94-2.06-.94 2.06-2.06.94z\"/><path d=\"M17.41 7.96l-1.37-1.37c-.4-.4-.92-.59-1.43-.59-.52 0-1.04.2-1.43.59L10.3 9.45l-7.72 7.72c-.78.78-.78 2.05 0 2.83L4 21.41c.39.39.9.59 1.41.59.51 0 1.02-.2 1.41-.59l7.78-7.78 2.81-2.81c.8-.78.8-2.07 0-2.86zM5.41 20L4 18.59l7.72-7.72 1.47 1.35L5.41 20z\"/>\n",
              "  </svg>\n",
              "      </button>\n",
              "      \n",
              "  <style>\n",
              "    .colab-df-container {\n",
              "      display:flex;\n",
              "      flex-wrap:wrap;\n",
              "      gap: 12px;\n",
              "    }\n",
              "\n",
              "    .colab-df-convert {\n",
              "      background-color: #E8F0FE;\n",
              "      border: none;\n",
              "      border-radius: 50%;\n",
              "      cursor: pointer;\n",
              "      display: none;\n",
              "      fill: #1967D2;\n",
              "      height: 32px;\n",
              "      padding: 0 0 0 0;\n",
              "      width: 32px;\n",
              "    }\n",
              "\n",
              "    .colab-df-convert:hover {\n",
              "      background-color: #E2EBFA;\n",
              "      box-shadow: 0px 1px 2px rgba(60, 64, 67, 0.3), 0px 1px 3px 1px rgba(60, 64, 67, 0.15);\n",
              "      fill: #174EA6;\n",
              "    }\n",
              "\n",
              "    [theme=dark] .colab-df-convert {\n",
              "      background-color: #3B4455;\n",
              "      fill: #D2E3FC;\n",
              "    }\n",
              "\n",
              "    [theme=dark] .colab-df-convert:hover {\n",
              "      background-color: #434B5C;\n",
              "      box-shadow: 0px 1px 3px 1px rgba(0, 0, 0, 0.15);\n",
              "      filter: drop-shadow(0px 1px 2px rgba(0, 0, 0, 0.3));\n",
              "      fill: #FFFFFF;\n",
              "    }\n",
              "  </style>\n",
              "\n",
              "      <script>\n",
              "        const buttonEl =\n",
              "          document.querySelector('#df-25f22e82-75bd-44df-92de-74f7f0ff4eb9 button.colab-df-convert');\n",
              "        buttonEl.style.display =\n",
              "          google.colab.kernel.accessAllowed ? 'block' : 'none';\n",
              "\n",
              "        async function convertToInteractive(key) {\n",
              "          const element = document.querySelector('#df-25f22e82-75bd-44df-92de-74f7f0ff4eb9');\n",
              "          const dataTable =\n",
              "            await google.colab.kernel.invokeFunction('convertToInteractive',\n",
              "                                                     [key], {});\n",
              "          if (!dataTable) return;\n",
              "\n",
              "          const docLinkHtml = 'Like what you see? Visit the ' +\n",
              "            '<a target=\"_blank\" href=https://colab.research.google.com/notebooks/data_table.ipynb>data table notebook</a>'\n",
              "            + ' to learn more about interactive tables.';\n",
              "          element.innerHTML = '';\n",
              "          dataTable['output_type'] = 'display_data';\n",
              "          await google.colab.output.renderOutput(dataTable, element);\n",
              "          const docLink = document.createElement('div');\n",
              "          docLink.innerHTML = docLinkHtml;\n",
              "          element.appendChild(docLink);\n",
              "        }\n",
              "      </script>\n",
              "    </div>\n",
              "  </div>\n",
              "  "
            ]
          },
          "metadata": {},
          "execution_count": 74
        }
      ],
      "source": [
        "save_data"
      ],
      "id": "0-OvaBl5tDZ_"
    },
    {
      "cell_type": "code",
      "execution_count": 75,
      "metadata": {
        "id": "wiBIZE1Fr8lW"
      },
      "outputs": [],
      "source": [
        "test_data.drop(test_data.iloc[:, 0:8], inplace = True, axis = 1)"
      ],
      "id": "wiBIZE1Fr8lW"
    },
    {
      "cell_type": "code",
      "execution_count": 76,
      "metadata": {
        "colab": {
          "base_uri": "https://localhost:8080/",
          "height": 423
        },
        "id": "sxOhRQlzsXTy",
        "outputId": "a29cd128-a6b7-473e-a5a8-2befac02eb49"
      },
      "outputs": [
        {
          "output_type": "execute_result",
          "data": {
            "text/plain": [
              "                                               lemmatize  fraudulent\n",
              "0      marketing internwere weve created groundbreaki...           0\n",
              "1      customer service cloud video second world clou...           0\n",
              "2      commissioning machinery assistant cmavalor ser...           0\n",
              "3      account executive washington dcour passion imp...           0\n",
              "4      bill review managerspotsource solution llc glo...           0\n",
              "...                                                  ...         ...\n",
              "17875  account director distribution vend looking awe...           0\n",
              "17876  payroll accountantweblinc ecommerce platform s...           0\n",
              "17877  project cost control staff engineer cost contr...           0\n",
              "17878  graphic designermissingnemsia studio looking e...           0\n",
              "17879  web application developersvend looking awesome...           0\n",
              "\n",
              "[17880 rows x 2 columns]"
            ],
            "text/html": [
              "\n",
              "  <div id=\"df-841bbf40-a147-48f1-b6d9-f0a5cd32d21c\">\n",
              "    <div class=\"colab-df-container\">\n",
              "      <div>\n",
              "<style scoped>\n",
              "    .dataframe tbody tr th:only-of-type {\n",
              "        vertical-align: middle;\n",
              "    }\n",
              "\n",
              "    .dataframe tbody tr th {\n",
              "        vertical-align: top;\n",
              "    }\n",
              "\n",
              "    .dataframe thead th {\n",
              "        text-align: right;\n",
              "    }\n",
              "</style>\n",
              "<table border=\"1\" class=\"dataframe\">\n",
              "  <thead>\n",
              "    <tr style=\"text-align: right;\">\n",
              "      <th></th>\n",
              "      <th>lemmatize</th>\n",
              "      <th>fraudulent</th>\n",
              "    </tr>\n",
              "  </thead>\n",
              "  <tbody>\n",
              "    <tr>\n",
              "      <th>0</th>\n",
              "      <td>marketing internwere weve created groundbreaki...</td>\n",
              "      <td>0</td>\n",
              "    </tr>\n",
              "    <tr>\n",
              "      <th>1</th>\n",
              "      <td>customer service cloud video second world clou...</td>\n",
              "      <td>0</td>\n",
              "    </tr>\n",
              "    <tr>\n",
              "      <th>2</th>\n",
              "      <td>commissioning machinery assistant cmavalor ser...</td>\n",
              "      <td>0</td>\n",
              "    </tr>\n",
              "    <tr>\n",
              "      <th>3</th>\n",
              "      <td>account executive washington dcour passion imp...</td>\n",
              "      <td>0</td>\n",
              "    </tr>\n",
              "    <tr>\n",
              "      <th>4</th>\n",
              "      <td>bill review managerspotsource solution llc glo...</td>\n",
              "      <td>0</td>\n",
              "    </tr>\n",
              "    <tr>\n",
              "      <th>...</th>\n",
              "      <td>...</td>\n",
              "      <td>...</td>\n",
              "    </tr>\n",
              "    <tr>\n",
              "      <th>17875</th>\n",
              "      <td>account director distribution vend looking awe...</td>\n",
              "      <td>0</td>\n",
              "    </tr>\n",
              "    <tr>\n",
              "      <th>17876</th>\n",
              "      <td>payroll accountantweblinc ecommerce platform s...</td>\n",
              "      <td>0</td>\n",
              "    </tr>\n",
              "    <tr>\n",
              "      <th>17877</th>\n",
              "      <td>project cost control staff engineer cost contr...</td>\n",
              "      <td>0</td>\n",
              "    </tr>\n",
              "    <tr>\n",
              "      <th>17878</th>\n",
              "      <td>graphic designermissingnemsia studio looking e...</td>\n",
              "      <td>0</td>\n",
              "    </tr>\n",
              "    <tr>\n",
              "      <th>17879</th>\n",
              "      <td>web application developersvend looking awesome...</td>\n",
              "      <td>0</td>\n",
              "    </tr>\n",
              "  </tbody>\n",
              "</table>\n",
              "<p>17880 rows × 2 columns</p>\n",
              "</div>\n",
              "      <button class=\"colab-df-convert\" onclick=\"convertToInteractive('df-841bbf40-a147-48f1-b6d9-f0a5cd32d21c')\"\n",
              "              title=\"Convert this dataframe to an interactive table.\"\n",
              "              style=\"display:none;\">\n",
              "        \n",
              "  <svg xmlns=\"http://www.w3.org/2000/svg\" height=\"24px\"viewBox=\"0 0 24 24\"\n",
              "       width=\"24px\">\n",
              "    <path d=\"M0 0h24v24H0V0z\" fill=\"none\"/>\n",
              "    <path d=\"M18.56 5.44l.94 2.06.94-2.06 2.06-.94-2.06-.94-.94-2.06-.94 2.06-2.06.94zm-11 1L8.5 8.5l.94-2.06 2.06-.94-2.06-.94L8.5 2.5l-.94 2.06-2.06.94zm10 10l.94 2.06.94-2.06 2.06-.94-2.06-.94-.94-2.06-.94 2.06-2.06.94z\"/><path d=\"M17.41 7.96l-1.37-1.37c-.4-.4-.92-.59-1.43-.59-.52 0-1.04.2-1.43.59L10.3 9.45l-7.72 7.72c-.78.78-.78 2.05 0 2.83L4 21.41c.39.39.9.59 1.41.59.51 0 1.02-.2 1.41-.59l7.78-7.78 2.81-2.81c.8-.78.8-2.07 0-2.86zM5.41 20L4 18.59l7.72-7.72 1.47 1.35L5.41 20z\"/>\n",
              "  </svg>\n",
              "      </button>\n",
              "      \n",
              "  <style>\n",
              "    .colab-df-container {\n",
              "      display:flex;\n",
              "      flex-wrap:wrap;\n",
              "      gap: 12px;\n",
              "    }\n",
              "\n",
              "    .colab-df-convert {\n",
              "      background-color: #E8F0FE;\n",
              "      border: none;\n",
              "      border-radius: 50%;\n",
              "      cursor: pointer;\n",
              "      display: none;\n",
              "      fill: #1967D2;\n",
              "      height: 32px;\n",
              "      padding: 0 0 0 0;\n",
              "      width: 32px;\n",
              "    }\n",
              "\n",
              "    .colab-df-convert:hover {\n",
              "      background-color: #E2EBFA;\n",
              "      box-shadow: 0px 1px 2px rgba(60, 64, 67, 0.3), 0px 1px 3px 1px rgba(60, 64, 67, 0.15);\n",
              "      fill: #174EA6;\n",
              "    }\n",
              "\n",
              "    [theme=dark] .colab-df-convert {\n",
              "      background-color: #3B4455;\n",
              "      fill: #D2E3FC;\n",
              "    }\n",
              "\n",
              "    [theme=dark] .colab-df-convert:hover {\n",
              "      background-color: #434B5C;\n",
              "      box-shadow: 0px 1px 3px 1px rgba(0, 0, 0, 0.15);\n",
              "      filter: drop-shadow(0px 1px 2px rgba(0, 0, 0, 0.3));\n",
              "      fill: #FFFFFF;\n",
              "    }\n",
              "  </style>\n",
              "\n",
              "      <script>\n",
              "        const buttonEl =\n",
              "          document.querySelector('#df-841bbf40-a147-48f1-b6d9-f0a5cd32d21c button.colab-df-convert');\n",
              "        buttonEl.style.display =\n",
              "          google.colab.kernel.accessAllowed ? 'block' : 'none';\n",
              "\n",
              "        async function convertToInteractive(key) {\n",
              "          const element = document.querySelector('#df-841bbf40-a147-48f1-b6d9-f0a5cd32d21c');\n",
              "          const dataTable =\n",
              "            await google.colab.kernel.invokeFunction('convertToInteractive',\n",
              "                                                     [key], {});\n",
              "          if (!dataTable) return;\n",
              "\n",
              "          const docLinkHtml = 'Like what you see? Visit the ' +\n",
              "            '<a target=\"_blank\" href=https://colab.research.google.com/notebooks/data_table.ipynb>data table notebook</a>'\n",
              "            + ' to learn more about interactive tables.';\n",
              "          element.innerHTML = '';\n",
              "          dataTable['output_type'] = 'display_data';\n",
              "          await google.colab.output.renderOutput(dataTable, element);\n",
              "          const docLink = document.createElement('div');\n",
              "          docLink.innerHTML = docLinkHtml;\n",
              "          element.appendChild(docLink);\n",
              "        }\n",
              "      </script>\n",
              "    </div>\n",
              "  </div>\n",
              "  "
            ]
          },
          "metadata": {},
          "execution_count": 76
        }
      ],
      "source": [
        "test_data"
      ],
      "id": "sxOhRQlzsXTy"
    },
    {
      "cell_type": "code",
      "execution_count": 77,
      "metadata": {
        "id": "kvGLaEcLuntz"
      },
      "outputs": [],
      "source": [
        "Xx = test_data.iloc[:, :-1]\n",
        "Yy = test_data.iloc[:, -1]"
      ],
      "id": "kvGLaEcLuntz"
    },
    {
      "cell_type": "code",
      "execution_count": 78,
      "metadata": {
        "colab": {
          "base_uri": "https://localhost:8080/"
        },
        "id": "CMoz-SZD_p2O",
        "outputId": "144ceb66-460c-412a-9526-bbdfcbdd65dd"
      },
      "outputs": [
        {
          "output_type": "execute_result",
          "data": {
            "text/plain": [
              "0        marketing internwere weve created groundbreaki...\n",
              "1        customer service cloud video second world clou...\n",
              "2        commissioning machinery assistant cmavalor ser...\n",
              "3        account executive washington dcour passion imp...\n",
              "4        bill review managerspotsource solution llc glo...\n",
              "                               ...                        \n",
              "17875    account director distribution vend looking awe...\n",
              "17876    payroll accountantweblinc ecommerce platform s...\n",
              "17877    project cost control staff engineer cost contr...\n",
              "17878    graphic designermissingnemsia studio looking e...\n",
              "17879    web application developersvend looking awesome...\n",
              "Name: lemmatize, Length: 17880, dtype: object"
            ]
          },
          "metadata": {},
          "execution_count": 78
        }
      ],
      "source": [
        "test_data.lemmatize"
      ],
      "id": "CMoz-SZD_p2O"
    },
    {
      "cell_type": "code",
      "execution_count": 79,
      "metadata": {
        "id": "rojrJJQqsdnT"
      },
      "outputs": [],
      "source": [
        "X_training, X_testing, y_training, y_testing = train_test_split(test_data.lemmatize, test_data.fraudulent, test_size=0.2, random_state=10)\n",
        "#oversample = SMOTE()\n",
        "#the_X, the_y = oversample.fit_resample(X_training, y_training)"
      ],
      "id": "rojrJJQqsdnT"
    },
    {
      "cell_type": "code",
      "execution_count": 80,
      "metadata": {
        "colab": {
          "base_uri": "https://localhost:8080/"
        },
        "id": "zPRWt2pD-tj5",
        "outputId": "7bae7f0e-8037-4976-d127-b758176099a4"
      },
      "outputs": [
        {
          "output_type": "stream",
          "name": "stdout",
          "text": [
            "BOW_cv_train: (14304, 1630498)\n",
            "BOW_cv_test: (3576, 1630498)\n"
          ]
        }
      ],
      "source": [
        "cv=CountVectorizer(min_df=0,max_df=1,binary=False,ngram_range=(1,3))\n",
        "#transformed train reviews\n",
        "cv_train_reviews=cv.fit_transform(X_training)\n",
        "#transformed test reviews\n",
        "cv_test_reviews=cv.transform(X_testing)\n",
        "\n",
        "print('BOW_cv_train:',cv_train_reviews.shape)\n",
        "print('BOW_cv_test:',cv_test_reviews.shape)"
      ],
      "id": "zPRWt2pD-tj5"
    },
    {
      "cell_type": "code",
      "execution_count": 81,
      "metadata": {
        "colab": {
          "base_uri": "https://localhost:8080/"
        },
        "id": "XYFGOemjAEVV",
        "outputId": "58494b0b-0b82-45ce-b592-8dbe7657d8d9"
      },
      "outputs": [
        {
          "output_type": "stream",
          "name": "stdout",
          "text": [
            "Tfidf_train: (14304, 1630498)\n",
            "Tfidf_test: (3576, 1630498)\n"
          ]
        }
      ],
      "source": [
        "from sklearn.feature_extraction.text import TfidfVectorizer\n",
        "tv=TfidfVectorizer(min_df=0,max_df=1,use_idf=True,ngram_range=(1,3))\n",
        "#transformed train reviews\n",
        "tv_train_reviews=tv.fit_transform(X_training)\n",
        "#transformed test reviews\n",
        "tv_test_reviews=tv.transform(X_testing)\n",
        "print('Tfidf_train:',tv_train_reviews.shape)\n",
        "print('Tfidf_test:',tv_test_reviews.shape)"
      ],
      "id": "XYFGOemjAEVV"
    },
    {
      "cell_type": "code",
      "execution_count": 82,
      "metadata": {
        "id": "_YX5jr8kQdQG"
      },
      "outputs": [],
      "source": [
        "from sklearn.naive_bayes import MultinomialNB\n",
        "from sklearn.feature_extraction.text import CountVectorizer, TfidfVectorizer\n",
        "from sklearn.metrics import f1_score, roc_auc_score"
      ],
      "id": "_YX5jr8kQdQG"
    },
    {
      "cell_type": "code",
      "execution_count": 83,
      "metadata": {
        "colab": {
          "base_uri": "https://localhost:8080/"
        },
        "id": "iEIlxz9qAS5I",
        "outputId": "d12d7c7e-c70d-42a4-e092-88d787db7d00"
      },
      "outputs": [
        {
          "output_type": "stream",
          "name": "stdout",
          "text": [
            "MultinomialNB(alpha=1)\n",
            "MultinomialNB(alpha=1)\n"
          ]
        }
      ],
      "source": [
        "#training the model\n",
        "mnb=MultinomialNB(alpha = 1)\n",
        "#fitting the nb for bag of words\n",
        "mnb_bow=mnb.fit(cv_train_reviews,y_training)\n",
        "print(mnb_bow)\n",
        "#fitting the nb for tfidf features\n",
        "mnb_tfidf=mnb.fit(tv_train_reviews,y_training)\n",
        "print(mnb_tfidf)"
      ],
      "id": "iEIlxz9qAS5I"
    },
    {
      "cell_type": "code",
      "execution_count": 84,
      "metadata": {
        "id": "IzNShdH0Adqr"
      },
      "outputs": [],
      "source": [
        "#Predicting the model for bag of words\n",
        "mnb_bow_predict=mnb.predict(cv_test_reviews)\n",
        "#Predicting the model for tfidf features\n",
        "mnb_tfidf_predict=mnb.predict(tv_test_reviews)"
      ],
      "id": "IzNShdH0Adqr"
    },
    {
      "cell_type": "code",
      "execution_count": 85,
      "metadata": {
        "id": "D67WMLk-QwmQ"
      },
      "outputs": [],
      "source": [
        "from sklearn.metrics import classification_report,confusion_matrix,accuracy_score"
      ],
      "id": "D67WMLk-QwmQ"
    },
    {
      "cell_type": "code",
      "execution_count": 86,
      "metadata": {
        "colab": {
          "base_uri": "https://localhost:8080/"
        },
        "id": "oMsz_BFIAftj",
        "outputId": "8c25e900-0e81-4c75-f759-79fa550d94e3"
      },
      "outputs": [
        {
          "output_type": "stream",
          "name": "stdout",
          "text": [
            "mnb_bow_score : 0.9426733780760627\n",
            "mnb_tfidf_score : 0.9555369127516778\n"
          ]
        }
      ],
      "source": [
        "#Accuracy score for bag of words\n",
        "mnb_bow_score=accuracy_score(y_testing,mnb_bow_predict)\n",
        "print(\"mnb_bow_score :\",mnb_bow_score)\n",
        "#Accuracy score for tfidf features\n",
        "mnb_tfidf_score=accuracy_score(y_testing,mnb_tfidf_predict)\n",
        "print(\"mnb_tfidf_score :\",mnb_tfidf_score)"
      ],
      "id": "oMsz_BFIAftj"
    },
    {
      "cell_type": "code",
      "execution_count": 87,
      "metadata": {
        "id": "umNByiyKOnCG"
      },
      "outputs": [],
      "source": [
        "from sklearn.linear_model import LogisticRegression\n",
        "from sklearn.metrics import f1_score, roc_auc_score\n",
        "\n",
        "from sklearn.ensemble import RandomForestClassifier\n",
        "from sklearn.model_selection import RandomizedSearchCV"
      ],
      "id": "umNByiyKOnCG"
    },
    {
      "cell_type": "code",
      "execution_count": 88,
      "metadata": {
        "colab": {
          "base_uri": "https://localhost:8080/"
        },
        "id": "ogo2k9dWssdN",
        "outputId": "d03eab28-b352-4dcd-d310-132ffe6b1588"
      },
      "outputs": [
        {
          "output_type": "execute_result",
          "data": {
            "text/plain": [
              "LogisticRegression(max_iter=500)"
            ]
          },
          "metadata": {},
          "execution_count": 88
        }
      ],
      "source": [
        "lr_clfs = LogisticRegression(solver='lbfgs', max_iter=500)\n",
        "lr_clfs.fit(cv_train_reviews,y_training)"
      ],
      "id": "ogo2k9dWssdN"
    },
    {
      "cell_type": "code",
      "execution_count": 89,
      "metadata": {
        "colab": {
          "base_uri": "https://localhost:8080/"
        },
        "id": "yCHLrEuzss-j",
        "outputId": "c023f160-756c-4a9a-e002-8749e2f7603f"
      },
      "outputs": [
        {
          "output_type": "stream",
          "name": "stdout",
          "text": [
            "AUC score : 0.6186\n"
          ]
        }
      ],
      "source": [
        "predictions1 = lr_clfs.predict(cv_test_reviews)\n",
        "predictions1 = np.round(predictions1).astype(int)\n",
        "print (\"AUC score :\", np.round(roc_auc_score(y_testing, predictions1),5))"
      ],
      "id": "yCHLrEuzss-j"
    },
    {
      "cell_type": "code",
      "execution_count": 90,
      "metadata": {
        "colab": {
          "base_uri": "https://localhost:8080/"
        },
        "id": "2fU7D_iS3oNx",
        "outputId": "1848da2d-4350-4e3a-c93e-30020d66e99a"
      },
      "outputs": [
        {
          "output_type": "execute_result",
          "data": {
            "text/plain": [
              "RandomForestClassifier(max_depth=30, min_samples_leaf=2, n_estimators=15)"
            ]
          },
          "metadata": {},
          "execution_count": 90
        }
      ],
      "source": [
        "rfcs = RandomForestClassifier(n_estimators=15, min_samples_split = 2, min_samples_leaf = 2, max_depth= 30)\n",
        "rfcs.fit(cv_train_reviews,y_training)"
      ],
      "id": "2fU7D_iS3oNx"
    },
    {
      "cell_type": "code",
      "execution_count": 91,
      "metadata": {
        "colab": {
          "base_uri": "https://localhost:8080/"
        },
        "id": "Q1DiTA-43qXR",
        "outputId": "6adb34e4-579c-4344-ecd4-d34b9c6dadb4"
      },
      "outputs": [
        {
          "output_type": "stream",
          "name": "stdout",
          "text": [
            "AUC score : 0.5\n"
          ]
        }
      ],
      "source": [
        "predictions2 = rfcs.predict(cv_test_reviews)\n",
        "predictions2 = np.round(predictions2).astype(int)\n",
        "print (\"AUC score :\", np.round(roc_auc_score(y_testing, predictions2),5))"
      ],
      "id": "Q1DiTA-43qXR"
    },
    {
      "cell_type": "markdown",
      "metadata": {
        "id": "9uO6bnHBseBs"
      },
      "source": [
        "#End Testing Zone"
      ],
      "id": "9uO6bnHBseBs"
    },
    {
      "cell_type": "markdown",
      "metadata": {
        "id": "UeZ4A3drZWPi"
      },
      "source": [
        "# Model Dev"
      ],
      "id": "UeZ4A3drZWPi"
    },
    {
      "cell_type": "markdown",
      "metadata": {
        "id": "gXhIZwmlZZpZ"
      },
      "source": [
        "## Split Training and Testing and Apply SMOTE"
      ],
      "id": "gXhIZwmlZZpZ"
    },
    {
      "cell_type": "code",
      "execution_count": 92,
      "metadata": {
        "id": "L2MUSB-sZkU0"
      },
      "outputs": [],
      "source": [
        "from sklearn.model_selection import train_test_split\n",
        "from sklearn.metrics import accuracy_score,classification_report,confusion_matrix\n",
        "import sklearn.metrics as metrics"
      ],
      "id": "L2MUSB-sZkU0"
    },
    {
      "cell_type": "code",
      "execution_count": 93,
      "metadata": {
        "colab": {
          "base_uri": "https://localhost:8080/"
        },
        "id": "mJ3scbanZdeu",
        "outputId": "6d935ea8-b812-4860-faae-9be80dc3506d"
      },
      "outputs": [
        {
          "output_type": "stream",
          "name": "stdout",
          "text": [
            "14304\n",
            "14304\n"
          ]
        }
      ],
      "source": [
        "X_train, X_test, y_train, y_test = train_test_split(X, y, test_size=0.2, random_state=10)\n",
        "print(len(X_train))\n",
        "print(len(y_train))\n",
        "oversample = SMOTE()\n",
        "X_train_bal, y_train_bal = oversample.fit_resample(X_train, y_train)"
      ],
      "id": "mJ3scbanZdeu"
    },
    {
      "cell_type": "code",
      "execution_count": 94,
      "metadata": {
        "colab": {
          "base_uri": "https://localhost:8080/"
        },
        "id": "uJewt1WRtQAc",
        "outputId": "8686d883-e663-41d0-ae1c-bc4527e66f0d"
      },
      "outputs": [
        {
          "output_type": "execute_result",
          "data": {
            "text/plain": [
              "0    13598\n",
              "1      706\n",
              "Name: fraudulent, dtype: int64"
            ]
          },
          "metadata": {},
          "execution_count": 94
        }
      ],
      "source": [
        "y_train.value_counts()"
      ],
      "id": "uJewt1WRtQAc"
    },
    {
      "cell_type": "code",
      "execution_count": 95,
      "metadata": {
        "colab": {
          "base_uri": "https://localhost:8080/"
        },
        "id": "yqHR5YkPcmTJ",
        "outputId": "a8d00359-122d-4c88-d053-0da4a4065285"
      },
      "outputs": [
        {
          "output_type": "stream",
          "name": "stdout",
          "text": [
            "27196\n",
            "27196\n"
          ]
        }
      ],
      "source": [
        "print(len(X_train_bal))\n",
        "print(len(y_train_bal))"
      ],
      "id": "yqHR5YkPcmTJ"
    },
    {
      "cell_type": "code",
      "execution_count": 96,
      "metadata": {
        "colab": {
          "base_uri": "https://localhost:8080/"
        },
        "id": "P0qC_u8DtikB",
        "outputId": "ca577e58-a6c8-4262-db8d-ebf007090481"
      },
      "outputs": [
        {
          "output_type": "execute_result",
          "data": {
            "text/plain": [
              "0    13598\n",
              "1    13598\n",
              "Name: fraudulent, dtype: int64"
            ]
          },
          "metadata": {},
          "execution_count": 96
        }
      ],
      "source": [
        "y_train_bal.value_counts()"
      ],
      "id": "P0qC_u8DtikB"
    },
    {
      "cell_type": "markdown",
      "metadata": {
        "id": "ARhPZStwOlGI"
      },
      "source": [
        "##Logistic"
      ],
      "id": "ARhPZStwOlGI"
    },
    {
      "cell_type": "code",
      "execution_count": 97,
      "metadata": {
        "id": "rDElAnf5iS1d"
      },
      "outputs": [],
      "source": [
        "from sklearn.linear_model import LogisticRegression"
      ],
      "id": "rDElAnf5iS1d"
    },
    {
      "cell_type": "code",
      "execution_count": 98,
      "metadata": {
        "colab": {
          "base_uri": "https://localhost:8080/"
        },
        "id": "9_6i1Rb1Op7I",
        "outputId": "da27d587-2ff9-49f9-a7f0-c43068aa2432"
      },
      "outputs": [
        {
          "output_type": "execute_result",
          "data": {
            "text/plain": [
              "LogisticRegression(max_iter=500)"
            ]
          },
          "metadata": {},
          "execution_count": 98
        }
      ],
      "source": [
        "lr_clf = LogisticRegression(solver='lbfgs', max_iter=500)\n",
        "lr_clf.fit(X_train_bal, y_train_bal)"
      ],
      "id": "9_6i1Rb1Op7I"
    },
    {
      "cell_type": "code",
      "execution_count": 99,
      "metadata": {
        "id": "SepLAX6Yilwt"
      },
      "outputs": [],
      "source": [
        "from sklearn.metrics import f1_score, roc_auc_score"
      ],
      "id": "SepLAX6Yilwt"
    },
    {
      "cell_type": "code",
      "execution_count": 100,
      "metadata": {
        "colab": {
          "base_uri": "https://localhost:8080/"
        },
        "id": "mg8zphKHiG79",
        "outputId": "a4273093-ccbf-44d6-9468-254f3a69c647"
      },
      "outputs": [
        {
          "output_type": "stream",
          "name": "stdout",
          "text": [
            "AUC score : 0.82974\n",
            "Accuracy: 0.86\n"
          ]
        }
      ],
      "source": [
        "predictions = lr_clf.predict(X_test)\n",
        "predictions = np.round(predictions).astype(int)\n",
        "print (\"AUC score :\", np.round(roc_auc_score(y_test, predictions),5))\n",
        "print(\"Accuracy:\",round(metrics.accuracy_score(y_test, predictions),2))"
      ],
      "id": "mg8zphKHiG79"
    },
    {
      "cell_type": "markdown",
      "metadata": {
        "id": "9113c045-5285-4c33-aa65-15df6f79ed9d"
      },
      "source": [
        "## Random Forest"
      ],
      "id": "9113c045-5285-4c33-aa65-15df6f79ed9d"
    },
    {
      "cell_type": "code",
      "execution_count": 101,
      "metadata": {
        "id": "ff0bdccf-0436-4b7b-a8c1-009e09639775"
      },
      "outputs": [],
      "source": [
        "from sklearn.ensemble import RandomForestClassifier\n",
        "from sklearn.model_selection import RandomizedSearchCV"
      ],
      "id": "ff0bdccf-0436-4b7b-a8c1-009e09639775"
    },
    {
      "cell_type": "code",
      "execution_count": 149,
      "metadata": {
        "colab": {
          "base_uri": "https://localhost:8080/"
        },
        "id": "-nYh8LoKm8Lr",
        "outputId": "768fad2c-cfef-4040-a4e3-4e109f84a874"
      },
      "outputs": [
        {
          "output_type": "execute_result",
          "data": {
            "text/plain": [
              "RandomForestClassifier(max_depth=30, min_samples_leaf=2, n_estimators=15)"
            ]
          },
          "metadata": {},
          "execution_count": 149
        }
      ],
      "source": [
        "rfc = RandomForestClassifier(n_estimators=15, min_samples_split = 2, min_samples_leaf = 2, max_depth= 30)\n",
        "rfc.fit(X_train_bal, y_train_bal)"
      ],
      "id": "-nYh8LoKm8Lr"
    },
    {
      "cell_type": "code",
      "execution_count": 150,
      "metadata": {
        "colab": {
          "base_uri": "https://localhost:8080/"
        },
        "id": "30JHMFh6m3Rl",
        "outputId": "ca934f04-588e-49c1-b3a3-f62701e09026"
      },
      "outputs": [
        {
          "output_type": "stream",
          "name": "stdout",
          "text": [
            "Recall : 0.9423076923076923\n",
            "F1_Score: 0.9477756286266925\n",
            "AUC score : 0.96998\n",
            "Accuracy: 0.99497\n"
          ]
        }
      ],
      "source": [
        "y_pred = rfc.predict(X_test)\n",
        "y_prob = rfc.predict_proba(X_test)\n",
        "y_prob = np.round(y_prob).astype(int)\n",
        "recall  = metrics.recall_score(y_test, y_pred)\n",
        "f1_score = metrics.f1_score(y_test, y_pred) \n",
        "\n",
        "\n",
        "print (\"Recall :\", recall)\n",
        "print(\"F1_Score:\", f1_score)\n",
        "print (\"AUC score :\", np.round(roc_auc_score(y_test, y_pred),5))\n",
        "print(\"Accuracy:\",round(metrics.accuracy_score(y_test, y_pred),5))"
      ],
      "id": "30JHMFh6m3Rl"
    },
    {
      "cell_type": "markdown",
      "source": [
        "### Confusion Matrix"
      ],
      "metadata": {
        "id": "dLqPoq1PVX-s"
      },
      "id": "dLqPoq1PVX-s"
    },
    {
      "cell_type": "code",
      "execution_count": 127,
      "metadata": {
        "colab": {
          "base_uri": "https://localhost:8080/"
        },
        "id": "h0v7XMnmTnrC",
        "outputId": "4f1eac64-05d3-4b2b-f3b0-b43946eebce0"
      },
      "outputs": [
        {
          "output_type": "stream",
          "name": "stdout",
          "text": [
            "[[3380   36]\n",
            " [  60  100]]\n"
          ]
        }
      ],
      "source": [
        "from sklearn.metrics import confusion_matrix\n",
        "\n",
        "#Generate the confusion matrix\n",
        "cf_matrix = confusion_matrix(y_test, y_pred)\n",
        "\n",
        "print(cf_matrix)"
      ],
      "id": "h0v7XMnmTnrC"
    },
    {
      "cell_type": "code",
      "execution_count": 128,
      "metadata": {
        "colab": {
          "base_uri": "https://localhost:8080/",
          "height": 285
        },
        "id": "NAOuZE4YVC7M",
        "outputId": "5efc266f-eea2-4bcc-baa5-4de534ad1df1"
      },
      "outputs": [
        {
          "output_type": "display_data",
          "data": {
            "text/plain": [
              "<Figure size 432x288 with 2 Axes>"
            ],
            "image/png": "[encoded data removed]"
          },
          "metadata": {}
        }
      ],
      "source": [
        "from sklearn.metrics import ConfusionMatrixDisplay\n",
        "\n",
        "\n",
        "ConfusionMatrixDisplay.from_predictions(y_test,  y_pred)\n",
        "\n",
        "plt.show()"
      ],
      "id": "NAOuZE4YVC7M"
    },
    {
      "cell_type": "markdown",
      "source": [
        "### ROC Curve"
      ],
      "metadata": {
        "id": "kdybEfI_Vawl"
      },
      "id": "kdybEfI_Vawl"
    },
    {
      "cell_type": "code",
      "execution_count": 129,
      "metadata": {
        "colab": {
          "base_uri": "https://localhost:8080/",
          "height": 285
        },
        "id": "ZMLoy9mJkFby",
        "outputId": "7cd55769-737b-4284-acb3-7b6e37d04352"
      },
      "outputs": [
        {
          "output_type": "display_data",
          "data": {
            "text/plain": [
              "<Figure size 432x288 with 1 Axes>"
            ],
            "image/png": "[encoded data removed]"
          },
          "metadata": {}
        }
      ],
      "source": [
        "#y_pred_proba = rfc.predict_proba(X_test)[::,1]\n",
        "fpr, tpr, _ = metrics.roc_curve(y_test,  y_pred)\n",
        "auc = metrics.roc_auc_score(y_test, y_pred)\n",
        "#create ROC curve\n",
        "plt.plot(fpr,tpr,label=\"AUC=\"+str(auc))\n",
        "plt.ylabel('True Positive Rate')\n",
        "plt.xlabel('False Positive Rate')\n",
        "plt.legend(loc=4)\n",
        "plt.show()"
      ],
      "id": "ZMLoy9mJkFby"
    },
    {
      "cell_type": "markdown",
      "source": [
        "### Correlation Graphs"
      ],
      "metadata": {
        "id": "q6hJhuvZVdx_"
      },
      "id": "q6hJhuvZVdx_"
    },
    {
      "cell_type": "code",
      "source": [
        "main_data_corr = main_data.copy()"
      ],
      "metadata": {
        "id": "L7OWl27tXfER"
      },
      "id": "L7OWl27tXfER",
      "execution_count": 171,
      "outputs": []
    },
    {
      "cell_type": "code",
      "source": [
        "main_data_corr.drop(main_data_corr.iloc[:, 0:200], inplace = True, axis = 1)"
      ],
      "metadata": {
        "id": "fWkJfqhYXo2g"
      },
      "id": "fWkJfqhYXo2g",
      "execution_count": 174,
      "outputs": []
    },
    {
      "cell_type": "code",
      "source": [
        "main_data_corr"
      ],
      "metadata": {
        "colab": {
          "base_uri": "https://localhost:8080/",
          "height": 423
        },
        "id": "UrLGewTGYAGO",
        "outputId": "a68535b1-6d71-421a-f10b-e460390a4dd8"
      },
      "id": "UrLGewTGYAGO",
      "execution_count": 175,
      "outputs": [
        {
          "output_type": "execute_result",
          "data": {
            "text/plain": [
              "       telecommuting  has_company_logo  has_questions  employment_type  \\\n",
              "0                  0                 1              0         0.099313   \n",
              "1                  0                 1              0        -0.497368   \n",
              "2                  0                 1              0         1.889358   \n",
              "3                  0                 1              0        -0.497368   \n",
              "4                  0                 1              1        -0.497368   \n",
              "...              ...               ...            ...              ...   \n",
              "17875              0                 1              1        -0.497368   \n",
              "17876              0                 1              1        -0.497368   \n",
              "17877              0                 0              0        -0.497368   \n",
              "17878              0                 0              1        -1.094049   \n",
              "17879              0                 1              1        -0.497368   \n",
              "\n",
              "       required_experience  required_education  industry  function  fraudulent  \n",
              "0                -0.248399            1.005226  1.308985 -0.145416           0  \n",
              "1                 0.537615            1.005226  0.011506 -1.352449           0  \n",
              "2                 0.930622            1.005226  1.308985  1.061618           0  \n",
              "3                 0.144608           -1.229790 -1.216466  0.578804           0  \n",
              "4                 0.144608           -1.229790 -0.544557 -0.628229           0  \n",
              "...                    ...                 ...       ...       ...         ...  \n",
              "17875             0.144608            1.005226 -1.216466  0.578804           0  \n",
              "17876             0.144608           -1.229790 -0.312864 -1.915731           0  \n",
              "17877             0.930622            1.005226  1.308985  1.061618           0  \n",
              "17878             0.537615           -0.298533 -0.614065 -1.191511           0  \n",
              "17879             0.144608            1.005226 -1.216466 -0.950104           0  \n",
              "\n",
              "[17880 rows x 9 columns]"
            ],
            "text/html": [
              "\n",
              "  <div id=\"df-2fc2fa76-694f-4814-86c6-21381db537af\">\n",
              "    <div class=\"colab-df-container\">\n",
              "      <div>\n",
              "<style scoped>\n",
              "    .dataframe tbody tr th:only-of-type {\n",
              "        vertical-align: middle;\n",
              "    }\n",
              "\n",
              "    .dataframe tbody tr th {\n",
              "        vertical-align: top;\n",
              "    }\n",
              "\n",
              "    .dataframe thead th {\n",
              "        text-align: right;\n",
              "    }\n",
              "</style>\n",
              "<table border=\"1\" class=\"dataframe\">\n",
              "  <thead>\n",
              "    <tr style=\"text-align: right;\">\n",
              "      <th></th>\n",
              "      <th>telecommuting</th>\n",
              "      <th>has_company_logo</th>\n",
              "      <th>has_questions</th>\n",
              "      <th>employment_type</th>\n",
              "      <th>required_experience</th>\n",
              "      <th>required_education</th>\n",
              "      <th>industry</th>\n",
              "      <th>function</th>\n",
              "      <th>fraudulent</th>\n",
              "    </tr>\n",
              "  </thead>\n",
              "  <tbody>\n",
              "    <tr>\n",
              "      <th>0</th>\n",
              "      <td>0</td>\n",
              "      <td>1</td>\n",
              "      <td>0</td>\n",
              "      <td>0.099313</td>\n",
              "      <td>-0.248399</td>\n",
              "      <td>1.005226</td>\n",
              "      <td>1.308985</td>\n",
              "      <td>-0.145416</td>\n",
              "      <td>0</td>\n",
              "    </tr>\n",
              "    <tr>\n",
              "      <th>1</th>\n",
              "      <td>0</td>\n",
              "      <td>1</td>\n",
              "      <td>0</td>\n",
              "      <td>-0.497368</td>\n",
              "      <td>0.537615</td>\n",
              "      <td>1.005226</td>\n",
              "      <td>0.011506</td>\n",
              "      <td>-1.352449</td>\n",
              "      <td>0</td>\n",
              "    </tr>\n",
              "    <tr>\n",
              "      <th>2</th>\n",
              "      <td>0</td>\n",
              "      <td>1</td>\n",
              "      <td>0</td>\n",
              "      <td>1.889358</td>\n",
              "      <td>0.930622</td>\n",
              "      <td>1.005226</td>\n",
              "      <td>1.308985</td>\n",
              "      <td>1.061618</td>\n",
              "      <td>0</td>\n",
              "    </tr>\n",
              "    <tr>\n",
              "      <th>3</th>\n",
              "      <td>0</td>\n",
              "      <td>1</td>\n",
              "      <td>0</td>\n",
              "      <td>-0.497368</td>\n",
              "      <td>0.144608</td>\n",
              "      <td>-1.229790</td>\n",
              "      <td>-1.216466</td>\n",
              "      <td>0.578804</td>\n",
              "      <td>0</td>\n",
              "    </tr>\n",
              "    <tr>\n",
              "      <th>4</th>\n",
              "      <td>0</td>\n",
              "      <td>1</td>\n",
              "      <td>1</td>\n",
              "      <td>-0.497368</td>\n",
              "      <td>0.144608</td>\n",
              "      <td>-1.229790</td>\n",
              "      <td>-0.544557</td>\n",
              "      <td>-0.628229</td>\n",
              "      <td>0</td>\n",
              "    </tr>\n",
              "    <tr>\n",
              "      <th>...</th>\n",
              "      <td>...</td>\n",
              "      <td>...</td>\n",
              "      <td>...</td>\n",
              "      <td>...</td>\n",
              "      <td>...</td>\n",
              "      <td>...</td>\n",
              "      <td>...</td>\n",
              "      <td>...</td>\n",
              "      <td>...</td>\n",
              "    </tr>\n",
              "    <tr>\n",
              "      <th>17875</th>\n",
              "      <td>0</td>\n",
              "      <td>1</td>\n",
              "      <td>1</td>\n",
              "      <td>-0.497368</td>\n",
              "      <td>0.144608</td>\n",
              "      <td>1.005226</td>\n",
              "      <td>-1.216466</td>\n",
              "      <td>0.578804</td>\n",
              "      <td>0</td>\n",
              "    </tr>\n",
              "    <tr>\n",
              "      <th>17876</th>\n",
              "      <td>0</td>\n",
              "      <td>1</td>\n",
              "      <td>1</td>\n",
              "      <td>-0.497368</td>\n",
              "      <td>0.144608</td>\n",
              "      <td>-1.229790</td>\n",
              "      <td>-0.312864</td>\n",
              "      <td>-1.915731</td>\n",
              "      <td>0</td>\n",
              "    </tr>\n",
              "    <tr>\n",
              "      <th>17877</th>\n",
              "      <td>0</td>\n",
              "      <td>0</td>\n",
              "      <td>0</td>\n",
              "      <td>-0.497368</td>\n",
              "      <td>0.930622</td>\n",
              "      <td>1.005226</td>\n",
              "      <td>1.308985</td>\n",
              "      <td>1.061618</td>\n",
              "      <td>0</td>\n",
              "    </tr>\n",
              "    <tr>\n",
              "      <th>17878</th>\n",
              "      <td>0</td>\n",
              "      <td>0</td>\n",
              "      <td>1</td>\n",
              "      <td>-1.094049</td>\n",
              "      <td>0.537615</td>\n",
              "      <td>-0.298533</td>\n",
              "      <td>-0.614065</td>\n",
              "      <td>-1.191511</td>\n",
              "      <td>0</td>\n",
              "    </tr>\n",
              "    <tr>\n",
              "      <th>17879</th>\n",
              "      <td>0</td>\n",
              "      <td>1</td>\n",
              "      <td>1</td>\n",
              "      <td>-0.497368</td>\n",
              "      <td>0.144608</td>\n",
              "      <td>1.005226</td>\n",
              "      <td>-1.216466</td>\n",
              "      <td>-0.950104</td>\n",
              "      <td>0</td>\n",
              "    </tr>\n",
              "  </tbody>\n",
              "</table>\n",
              "<p>17880 rows × 9 columns</p>\n",
              "</div>\n",
              "      <button class=\"colab-df-convert\" onclick=\"convertToInteractive('df-2fc2fa76-694f-4814-86c6-21381db537af')\"\n",
              "              title=\"Convert this dataframe to an interactive table.\"\n",
              "              style=\"display:none;\">\n",
              "        \n",
              "  <svg xmlns=\"http://www.w3.org/2000/svg\" height=\"24px\"viewBox=\"0 0 24 24\"\n",
              "       width=\"24px\">\n",
              "    <path d=\"M0 0h24v24H0V0z\" fill=\"none\"/>\n",
              "    <path d=\"M18.56 5.44l.94 2.06.94-2.06 2.06-.94-2.06-.94-.94-2.06-.94 2.06-2.06.94zm-11 1L8.5 8.5l.94-2.06 2.06-.94-2.06-.94L8.5 2.5l-.94 2.06-2.06.94zm10 10l.94 2.06.94-2.06 2.06-.94-2.06-.94-.94-2.06-.94 2.06-2.06.94z\"/><path d=\"M17.41 7.96l-1.37-1.37c-.4-.4-.92-.59-1.43-.59-.52 0-1.04.2-1.43.59L10.3 9.45l-7.72 7.72c-.78.78-.78 2.05 0 2.83L4 21.41c.39.39.9.59 1.41.59.51 0 1.02-.2 1.41-.59l7.78-7.78 2.81-2.81c.8-.78.8-2.07 0-2.86zM5.41 20L4 18.59l7.72-7.72 1.47 1.35L5.41 20z\"/>\n",
              "  </svg>\n",
              "      </button>\n",
              "      \n",
              "  <style>\n",
              "    .colab-df-container {\n",
              "      display:flex;\n",
              "      flex-wrap:wrap;\n",
              "      gap: 12px;\n",
              "    }\n",
              "\n",
              "    .colab-df-convert {\n",
              "      background-color: #E8F0FE;\n",
              "      border: none;\n",
              "      border-radius: 50%;\n",
              "      cursor: pointer;\n",
              "      display: none;\n",
              "      fill: #1967D2;\n",
              "      height: 32px;\n",
              "      padding: 0 0 0 0;\n",
              "      width: 32px;\n",
              "    }\n",
              "\n",
              "    .colab-df-convert:hover {\n",
              "      background-color: #E2EBFA;\n",
              "      box-shadow: 0px 1px 2px rgba(60, 64, 67, 0.3), 0px 1px 3px 1px rgba(60, 64, 67, 0.15);\n",
              "      fill: #174EA6;\n",
              "    }\n",
              "\n",
              "    [theme=dark] .colab-df-convert {\n",
              "      background-color: #3B4455;\n",
              "      fill: #D2E3FC;\n",
              "    }\n",
              "\n",
              "    [theme=dark] .colab-df-convert:hover {\n",
              "      background-color: #434B5C;\n",
              "      box-shadow: 0px 1px 3px 1px rgba(0, 0, 0, 0.15);\n",
              "      filter: drop-shadow(0px 1px 2px rgba(0, 0, 0, 0.3));\n",
              "      fill: #FFFFFF;\n",
              "    }\n",
              "  </style>\n",
              "\n",
              "      <script>\n",
              "        const buttonEl =\n",
              "          document.querySelector('#df-2fc2fa76-694f-4814-86c6-21381db537af button.colab-df-convert');\n",
              "        buttonEl.style.display =\n",
              "          google.colab.kernel.accessAllowed ? 'block' : 'none';\n",
              "\n",
              "        async function convertToInteractive(key) {\n",
              "          const element = document.querySelector('#df-2fc2fa76-694f-4814-86c6-21381db537af');\n",
              "          const dataTable =\n",
              "            await google.colab.kernel.invokeFunction('convertToInteractive',\n",
              "                                                     [key], {});\n",
              "          if (!dataTable) return;\n",
              "\n",
              "          const docLinkHtml = 'Like what you see? Visit the ' +\n",
              "            '<a target=\"_blank\" href=https://colab.research.google.com/notebooks/data_table.ipynb>data table notebook</a>'\n",
              "            + ' to learn more about interactive tables.';\n",
              "          element.innerHTML = '';\n",
              "          dataTable['output_type'] = 'display_data';\n",
              "          await google.colab.output.renderOutput(dataTable, element);\n",
              "          const docLink = document.createElement('div');\n",
              "          docLink.innerHTML = docLinkHtml;\n",
              "          element.appendChild(docLink);\n",
              "        }\n",
              "      </script>\n",
              "    </div>\n",
              "  </div>\n",
              "  "
            ]
          },
          "metadata": {},
          "execution_count": 175
        }
      ]
    },
    {
      "cell_type": "code",
      "source": [
        "corr = main_data_corr.corr()\n",
        "\n",
        "corr.style.background_gradient(cmap='coolwarm')"
      ],
      "metadata": {
        "colab": {
          "base_uri": "https://localhost:8080/",
          "height": 331
        },
        "id": "MvSgAn2oVgKJ",
        "outputId": "95515792-eb60-4abf-d901-3f367f68af19"
      },
      "id": "MvSgAn2oVgKJ",
      "execution_count": 176,
      "outputs": [
        {
          "output_type": "execute_result",
          "data": {
            "text/plain": [
              "<pandas.io.formats.style.Styler at 0x7fabbaa834d0>"
            ],
            "text/html": [
              "<style type=\"text/css\">\n",
              "#T_0dba2_row0_col0, #T_0dba2_row1_col1, #T_0dba2_row2_col2, #T_0dba2_row3_col3, #T_0dba2_row4_col4, #T_0dba2_row5_col5, #T_0dba2_row6_col6, #T_0dba2_row7_col7, #T_0dba2_row8_col8 {\n",
              "  background-color: #b40426;\n",
              "  color: #f1f1f1;\n",
              "}\n",
              "#T_0dba2_row0_col1, #T_0dba2_row8_col5 {\n",
              "  background-color: #799cf8;\n",
              "  color: #f1f1f1;\n",
              "}\n",
              "#T_0dba2_row0_col2 {\n",
              "  background-color: #6282ea;\n",
              "  color: #f1f1f1;\n",
              "}\n",
              "#T_0dba2_row0_col3 {\n",
              "  background-color: #465ecf;\n",
              "  color: #f1f1f1;\n",
              "}\n",
              "#T_0dba2_row0_col4, #T_0dba2_row8_col3 {\n",
              "  background-color: #5b7ae5;\n",
              "  color: #f1f1f1;\n",
              "}\n",
              "#T_0dba2_row0_col5 {\n",
              "  background-color: #6a8bef;\n",
              "  color: #f1f1f1;\n",
              "}\n",
              "#T_0dba2_row0_col6, #T_0dba2_row7_col1 {\n",
              "  background-color: #5875e1;\n",
              "  color: #f1f1f1;\n",
              "}\n",
              "#T_0dba2_row0_col7, #T_0dba2_row3_col2 {\n",
              "  background-color: #5673e0;\n",
              "  color: #f1f1f1;\n",
              "}\n",
              "#T_0dba2_row0_col8, #T_0dba2_row6_col8 {\n",
              "  background-color: #88abfd;\n",
              "  color: #000000;\n",
              "}\n",
              "#T_0dba2_row1_col0 {\n",
              "  background-color: #3f53c6;\n",
              "  color: #f1f1f1;\n",
              "}\n",
              "#T_0dba2_row1_col2 {\n",
              "  background-color: #a5c3fe;\n",
              "  color: #000000;\n",
              "}\n",
              "#T_0dba2_row1_col3, #T_0dba2_row1_col4, #T_0dba2_row1_col5, #T_0dba2_row1_col6, #T_0dba2_row1_col7, #T_0dba2_row1_col8, #T_0dba2_row4_col0, #T_0dba2_row5_col2, #T_0dba2_row7_col0, #T_0dba2_row8_col1 {\n",
              "  background-color: #3b4cc0;\n",
              "  color: #f1f1f1;\n",
              "}\n",
              "#T_0dba2_row2_col0, #T_0dba2_row4_col2 {\n",
              "  background-color: #4b64d5;\n",
              "  color: #f1f1f1;\n",
              "}\n",
              "#T_0dba2_row2_col1 {\n",
              "  background-color: #bed2f6;\n",
              "  color: #000000;\n",
              "}\n",
              "#T_0dba2_row2_col3 {\n",
              "  background-color: #455cce;\n",
              "  color: #f1f1f1;\n",
              "}\n",
              "#T_0dba2_row2_col4, #T_0dba2_row4_col1, #T_0dba2_row8_col7 {\n",
              "  background-color: #5470de;\n",
              "  color: #f1f1f1;\n",
              "}\n",
              "#T_0dba2_row2_col5 {\n",
              "  background-color: #4961d2;\n",
              "  color: #f1f1f1;\n",
              "}\n",
              "#T_0dba2_row2_col6, #T_0dba2_row6_col2 {\n",
              "  background-color: #506bda;\n",
              "  color: #f1f1f1;\n",
              "}\n",
              "#T_0dba2_row2_col7 {\n",
              "  background-color: #516ddb;\n",
              "  color: #f1f1f1;\n",
              "}\n",
              "#T_0dba2_row2_col8 {\n",
              "  background-color: #6485ec;\n",
              "  color: #f1f1f1;\n",
              "}\n",
              "#T_0dba2_row3_col0 {\n",
              "  background-color: #4055c8;\n",
              "  color: #f1f1f1;\n",
              "}\n",
              "#T_0dba2_row3_col1 {\n",
              "  background-color: #6e90f2;\n",
              "  color: #f1f1f1;\n",
              "}\n",
              "#T_0dba2_row3_col4, #T_0dba2_row6_col7 {\n",
              "  background-color: #cfdaea;\n",
              "  color: #000000;\n",
              "}\n",
              "#T_0dba2_row3_col5 {\n",
              "  background-color: #e3d9d3;\n",
              "  color: #000000;\n",
              "}\n",
              "#T_0dba2_row3_col6 {\n",
              "  background-color: #f2c9b4;\n",
              "  color: #000000;\n",
              "}\n",
              "#T_0dba2_row3_col7 {\n",
              "  background-color: #cdd9ec;\n",
              "  color: #000000;\n",
              "}\n",
              "#T_0dba2_row3_col8 {\n",
              "  background-color: #8db0fe;\n",
              "  color: #000000;\n",
              "}\n",
              "#T_0dba2_row4_col3, #T_0dba2_row7_col3 {\n",
              "  background-color: #bfd3f6;\n",
              "  color: #000000;\n",
              "}\n",
              "#T_0dba2_row4_col5 {\n",
              "  background-color: #e0dbd8;\n",
              "  color: #000000;\n",
              "}\n",
              "#T_0dba2_row4_col6 {\n",
              "  background-color: #cedaeb;\n",
              "  color: #000000;\n",
              "}\n",
              "#T_0dba2_row4_col7 {\n",
              "  background-color: #dadce0;\n",
              "  color: #000000;\n",
              "}\n",
              "#T_0dba2_row4_col8 {\n",
              "  background-color: #89acfd;\n",
              "  color: #000000;\n",
              "}\n",
              "#T_0dba2_row5_col0 {\n",
              "  background-color: #445acc;\n",
              "  color: #f1f1f1;\n",
              "}\n",
              "#T_0dba2_row5_col1, #T_0dba2_row8_col0 {\n",
              "  background-color: #4f69d9;\n",
              "  color: #f1f1f1;\n",
              "}\n",
              "#T_0dba2_row5_col3 {\n",
              "  background-color: #d5dbe5;\n",
              "  color: #000000;\n",
              "}\n",
              "#T_0dba2_row5_col4 {\n",
              "  background-color: #dedcdb;\n",
              "  color: #000000;\n",
              "}\n",
              "#T_0dba2_row5_col6 {\n",
              "  background-color: #d8dce2;\n",
              "  color: #000000;\n",
              "}\n",
              "#T_0dba2_row5_col7 {\n",
              "  background-color: #d7dce3;\n",
              "  color: #000000;\n",
              "}\n",
              "#T_0dba2_row5_col8 {\n",
              "  background-color: #8caffe;\n",
              "  color: #000000;\n",
              "}\n",
              "#T_0dba2_row6_col0, #T_0dba2_row8_col2 {\n",
              "  background-color: #4257c9;\n",
              "  color: #f1f1f1;\n",
              "}\n",
              "#T_0dba2_row6_col1 {\n",
              "  background-color: #5d7ce6;\n",
              "  color: #f1f1f1;\n",
              "}\n",
              "#T_0dba2_row6_col3 {\n",
              "  background-color: #efcebd;\n",
              "  color: #000000;\n",
              "}\n",
              "#T_0dba2_row6_col4 {\n",
              "  background-color: #d3dbe7;\n",
              "  color: #000000;\n",
              "}\n",
              "#T_0dba2_row6_col5 {\n",
              "  background-color: #dfdbd9;\n",
              "  color: #000000;\n",
              "}\n",
              "#T_0dba2_row7_col2 {\n",
              "  background-color: #4c66d6;\n",
              "  color: #f1f1f1;\n",
              "}\n",
              "#T_0dba2_row7_col4 {\n",
              "  background-color: #dcdddd;\n",
              "  color: #000000;\n",
              "}\n",
              "#T_0dba2_row7_col5 {\n",
              "  background-color: #dbdcde;\n",
              "  color: #000000;\n",
              "}\n",
              "#T_0dba2_row7_col6 {\n",
              "  background-color: #ccd9ed;\n",
              "  color: #000000;\n",
              "}\n",
              "#T_0dba2_row7_col8 {\n",
              "  background-color: #7093f3;\n",
              "  color: #f1f1f1;\n",
              "}\n",
              "#T_0dba2_row8_col4 {\n",
              "  background-color: #7295f4;\n",
              "  color: #f1f1f1;\n",
              "}\n",
              "#T_0dba2_row8_col6 {\n",
              "  background-color: #6788ee;\n",
              "  color: #f1f1f1;\n",
              "}\n",
              "</style>\n",
              "<table id=\"T_0dba2_\" class=\"dataframe\">\n",
              "  <thead>\n",
              "    <tr>\n",
              "      <th class=\"blank level0\" >&nbsp;</th>\n",
              "      <th class=\"col_heading level0 col0\" >telecommuting</th>\n",
              "      <th class=\"col_heading level0 col1\" >has_company_logo</th>\n",
              "      <th class=\"col_heading level0 col2\" >has_questions</th>\n",
              "      <th class=\"col_heading level0 col3\" >employment_type</th>\n",
              "      <th class=\"col_heading level0 col4\" >required_experience</th>\n",
              "      <th class=\"col_heading level0 col5\" >required_education</th>\n",
              "      <th class=\"col_heading level0 col6\" >industry</th>\n",
              "      <th class=\"col_heading level0 col7\" >function</th>\n",
              "      <th class=\"col_heading level0 col8\" >fraudulent</th>\n",
              "    </tr>\n",
              "  </thead>\n",
              "  <tbody>\n",
              "    <tr>\n",
              "      <th id=\"T_0dba2_level0_row0\" class=\"row_heading level0 row0\" >telecommuting</th>\n",
              "      <td id=\"T_0dba2_row0_col0\" class=\"data row0 col0\" >1.000000</td>\n",
              "      <td id=\"T_0dba2_row0_col1\" class=\"data row0 col1\" >-0.019836</td>\n",
              "      <td id=\"T_0dba2_row0_col2\" class=\"data row0 col2\" >0.020345</td>\n",
              "      <td id=\"T_0dba2_row0_col3\" class=\"data row0 col3\" >-0.015372</td>\n",
              "      <td id=\"T_0dba2_row0_col4\" class=\"data row0 col4\" >-0.034689</td>\n",
              "      <td id=\"T_0dba2_row0_col5\" class=\"data row0 col5\" >-0.001100</td>\n",
              "      <td id=\"T_0dba2_row0_col6\" class=\"data row0 col6\" >-0.012522</td>\n",
              "      <td id=\"T_0dba2_row0_col7\" class=\"data row0 col7\" >-0.037338</td>\n",
              "      <td id=\"T_0dba2_row0_col8\" class=\"data row0 col8\" >0.034523</td>\n",
              "    </tr>\n",
              "    <tr>\n",
              "      <th id=\"T_0dba2_level0_row1\" class=\"row_heading level0 row1\" >has_company_logo</th>\n",
              "      <td id=\"T_0dba2_row1_col0\" class=\"data row1 col0\" >-0.019836</td>\n",
              "      <td id=\"T_0dba2_row1_col1\" class=\"data row1 col1\" >1.000000</td>\n",
              "      <td id=\"T_0dba2_row1_col2\" class=\"data row1 col2\" >0.233932</td>\n",
              "      <td id=\"T_0dba2_row1_col3\" class=\"data row1 col3\" >-0.057829</td>\n",
              "      <td id=\"T_0dba2_row1_col4\" class=\"data row1 col4\" >-0.158293</td>\n",
              "      <td id=\"T_0dba2_row1_col5\" class=\"data row1 col5\" >-0.176888</td>\n",
              "      <td id=\"T_0dba2_row1_col6\" class=\"data row1 col6\" >-0.120947</td>\n",
              "      <td id=\"T_0dba2_row1_col7\" class=\"data row1 col7\" >-0.142539</td>\n",
              "      <td id=\"T_0dba2_row1_col8\" class=\"data row1 col8\" >-0.261971</td>\n",
              "    </tr>\n",
              "    <tr>\n",
              "      <th id=\"T_0dba2_level0_row2\" class=\"row_heading level0 row2\" >has_questions</th>\n",
              "      <td id=\"T_0dba2_row2_col0\" class=\"data row2 col0\" >0.020345</td>\n",
              "      <td id=\"T_0dba2_row2_col1\" class=\"data row2 col1\" >0.233932</td>\n",
              "      <td id=\"T_0dba2_row2_col2\" class=\"data row2 col2\" >1.000000</td>\n",
              "      <td id=\"T_0dba2_row2_col3\" class=\"data row2 col3\" >-0.020335</td>\n",
              "      <td id=\"T_0dba2_row2_col4\" class=\"data row2 col4\" >-0.059089</td>\n",
              "      <td id=\"T_0dba2_row2_col5\" class=\"data row2 col5\" >-0.121461</td>\n",
              "      <td id=\"T_0dba2_row2_col6\" class=\"data row2 col6\" >-0.040103</td>\n",
              "      <td id=\"T_0dba2_row2_col7\" class=\"data row2 col7\" >-0.053456</td>\n",
              "      <td id=\"T_0dba2_row2_col8\" class=\"data row2 col8\" >-0.091627</td>\n",
              "    </tr>\n",
              "    <tr>\n",
              "      <th id=\"T_0dba2_level0_row3\" class=\"row_heading level0 row3\" >employment_type</th>\n",
              "      <td id=\"T_0dba2_row3_col0\" class=\"data row3 col0\" >-0.015372</td>\n",
              "      <td id=\"T_0dba2_row3_col1\" class=\"data row3 col1\" >-0.057829</td>\n",
              "      <td id=\"T_0dba2_row3_col2\" class=\"data row3 col2\" >-0.020335</td>\n",
              "      <td id=\"T_0dba2_row3_col3\" class=\"data row3 col3\" >1.000000</td>\n",
              "      <td id=\"T_0dba2_row3_col4\" class=\"data row3 col4\" >0.362176</td>\n",
              "      <td id=\"T_0dba2_row3_col5\" class=\"data row3 col5\" >0.439478</td>\n",
              "      <td id=\"T_0dba2_row3_col6\" class=\"data row3 col6\" >0.558086</td>\n",
              "      <td id=\"T_0dba2_row3_col7\" class=\"data row3 col7\" >0.362255</td>\n",
              "      <td id=\"T_0dba2_row3_col8\" class=\"data row3 col8\" >0.057070</td>\n",
              "    </tr>\n",
              "    <tr>\n",
              "      <th id=\"T_0dba2_level0_row4\" class=\"row_heading level0 row4\" >required_experience</th>\n",
              "      <td id=\"T_0dba2_row4_col0\" class=\"data row4 col0\" >-0.034689</td>\n",
              "      <td id=\"T_0dba2_row4_col1\" class=\"data row4 col1\" >-0.158293</td>\n",
              "      <td id=\"T_0dba2_row4_col2\" class=\"data row4 col2\" >-0.059089</td>\n",
              "      <td id=\"T_0dba2_row4_col3\" class=\"data row4 col3\" >0.362176</td>\n",
              "      <td id=\"T_0dba2_row4_col4\" class=\"data row4 col4\" >1.000000</td>\n",
              "      <td id=\"T_0dba2_row4_col5\" class=\"data row4 col5\" >0.427080</td>\n",
              "      <td id=\"T_0dba2_row4_col6\" class=\"data row4 col6\" >0.378939</td>\n",
              "      <td id=\"T_0dba2_row4_col7\" class=\"data row4 col7\" >0.418974</td>\n",
              "      <td id=\"T_0dba2_row4_col8\" class=\"data row4 col8\" >0.041328</td>\n",
              "    </tr>\n",
              "    <tr>\n",
              "      <th id=\"T_0dba2_level0_row5\" class=\"row_heading level0 row5\" >required_education</th>\n",
              "      <td id=\"T_0dba2_row5_col0\" class=\"data row5 col0\" >-0.001100</td>\n",
              "      <td id=\"T_0dba2_row5_col1\" class=\"data row5 col1\" >-0.176888</td>\n",
              "      <td id=\"T_0dba2_row5_col2\" class=\"data row5 col2\" >-0.121461</td>\n",
              "      <td id=\"T_0dba2_row5_col3\" class=\"data row5 col3\" >0.439478</td>\n",
              "      <td id=\"T_0dba2_row5_col4\" class=\"data row5 col4\" >0.427080</td>\n",
              "      <td id=\"T_0dba2_row5_col5\" class=\"data row5 col5\" >1.000000</td>\n",
              "      <td id=\"T_0dba2_row5_col6\" class=\"data row5 col6\" >0.421885</td>\n",
              "      <td id=\"T_0dba2_row5_col7\" class=\"data row5 col7\" >0.404328</td>\n",
              "      <td id=\"T_0dba2_row5_col8\" class=\"data row5 col8\" >0.048955</td>\n",
              "    </tr>\n",
              "    <tr>\n",
              "      <th id=\"T_0dba2_level0_row6\" class=\"row_heading level0 row6\" >industry</th>\n",
              "      <td id=\"T_0dba2_row6_col0\" class=\"data row6 col0\" >-0.012522</td>\n",
              "      <td id=\"T_0dba2_row6_col1\" class=\"data row6 col1\" >-0.120947</td>\n",
              "      <td id=\"T_0dba2_row6_col2\" class=\"data row6 col2\" >-0.040103</td>\n",
              "      <td id=\"T_0dba2_row6_col3\" class=\"data row6 col3\" >0.558086</td>\n",
              "      <td id=\"T_0dba2_row6_col4\" class=\"data row6 col4\" >0.378939</td>\n",
              "      <td id=\"T_0dba2_row6_col5\" class=\"data row6 col5\" >0.421885</td>\n",
              "      <td id=\"T_0dba2_row6_col6\" class=\"data row6 col6\" >1.000000</td>\n",
              "      <td id=\"T_0dba2_row6_col7\" class=\"data row6 col7\" >0.373065</td>\n",
              "      <td id=\"T_0dba2_row6_col8\" class=\"data row6 col8\" >0.037297</td>\n",
              "    </tr>\n",
              "    <tr>\n",
              "      <th id=\"T_0dba2_level0_row7\" class=\"row_heading level0 row7\" >function</th>\n",
              "      <td id=\"T_0dba2_row7_col0\" class=\"data row7 col0\" >-0.037338</td>\n",
              "      <td id=\"T_0dba2_row7_col1\" class=\"data row7 col1\" >-0.142539</td>\n",
              "      <td id=\"T_0dba2_row7_col2\" class=\"data row7 col2\" >-0.053456</td>\n",
              "      <td id=\"T_0dba2_row7_col3\" class=\"data row7 col3\" >0.362255</td>\n",
              "      <td id=\"T_0dba2_row7_col4\" class=\"data row7 col4\" >0.418974</td>\n",
              "      <td id=\"T_0dba2_row7_col5\" class=\"data row7 col5\" >0.404328</td>\n",
              "      <td id=\"T_0dba2_row7_col6\" class=\"data row7 col6\" >0.373065</td>\n",
              "      <td id=\"T_0dba2_row7_col7\" class=\"data row7 col7\" >1.000000</td>\n",
              "      <td id=\"T_0dba2_row7_col8\" class=\"data row7 col8\" >-0.047461</td>\n",
              "    </tr>\n",
              "    <tr>\n",
              "      <th id=\"T_0dba2_level0_row8\" class=\"row_heading level0 row8\" >fraudulent</th>\n",
              "      <td id=\"T_0dba2_row8_col0\" class=\"data row8 col0\" >0.034523</td>\n",
              "      <td id=\"T_0dba2_row8_col1\" class=\"data row8 col1\" >-0.261971</td>\n",
              "      <td id=\"T_0dba2_row8_col2\" class=\"data row8 col2\" >-0.091627</td>\n",
              "      <td id=\"T_0dba2_row8_col3\" class=\"data row8 col3\" >0.057070</td>\n",
              "      <td id=\"T_0dba2_row8_col4\" class=\"data row8 col4\" >0.041328</td>\n",
              "      <td id=\"T_0dba2_row8_col5\" class=\"data row8 col5\" >0.048955</td>\n",
              "      <td id=\"T_0dba2_row8_col6\" class=\"data row8 col6\" >0.037297</td>\n",
              "      <td id=\"T_0dba2_row8_col7\" class=\"data row8 col7\" >-0.047461</td>\n",
              "      <td id=\"T_0dba2_row8_col8\" class=\"data row8 col8\" >1.000000</td>\n",
              "    </tr>\n",
              "  </tbody>\n",
              "</table>\n"
            ]
          },
          "metadata": {},
          "execution_count": 176
        }
      ]
    },
    {
      "cell_type": "code",
      "source": [
        "sns.heatmap(main_data_corr.corr())"
      ],
      "metadata": {
        "colab": {
          "base_uri": "https://localhost:8080/",
          "height": 392
        },
        "id": "rm2skLypV6NY",
        "outputId": "9fd4d0aa-b46d-475d-ed77-2a703f237f3f"
      },
      "id": "rm2skLypV6NY",
      "execution_count": 177,
      "outputs": [
        {
          "output_type": "execute_result",
          "data": {
            "text/plain": [
              "<matplotlib.axes._subplots.AxesSubplot at 0x7fabba8b3390>"
            ]
          },
          "metadata": {},
          "execution_count": 177
        },
        {
          "output_type": "display_data",
          "data": {
            "text/plain": [
              "<Figure size 432x288 with 2 Axes>"
            ],
            "image/png": "[encoded data removed]"
          },
          "metadata": {}
        }
      ]
    },
    {
      "cell_type": "code",
      "source": [
        "sns.regplot(x=main_data_corr[\"fraudulent\"], y=main_data_corr[\"has_questions\"])"
      ],
      "metadata": {
        "colab": {
          "base_uri": "https://localhost:8080/",
          "height": 302
        },
        "id": "4gOj-4TiWexY",
        "outputId": "440ef477-712d-44d3-f1b4-3c438cad40e1"
      },
      "id": "4gOj-4TiWexY",
      "execution_count": 178,
      "outputs": [
        {
          "output_type": "execute_result",
          "data": {
            "text/plain": [
              "<matplotlib.axes._subplots.AxesSubplot at 0x7fabba811750>"
            ]
          },
          "metadata": {},
          "execution_count": 178
        },
        {
          "output_type": "display_data",
          "data": {
            "text/plain": [
              "<Figure size 432x288 with 1 Axes>"
            ],
            "image/png": "[encoded data removed]"
          },
          "metadata": {}
        }
      ]
    },
    {
      "cell_type": "code",
      "execution_count": 130,
      "metadata": {
        "colab": {
          "base_uri": "https://localhost:8080/"
        },
        "id": "7bd228ad-befc-42ed-91ce-8daf7b8df33c",
        "outputId": "396a0df5-db3c-4daa-878e-ac4d0be9e29b"
      },
      "outputs": [
        {
          "output_type": "execute_result",
          "data": {
            "text/plain": [
              "RandomizedSearchCV(cv=4, estimator=RandomForestClassifier(), n_iter=5,\n",
              "                   param_distributions={'max_depth': [10, 20, 30, 40, 50, None],\n",
              "                                        'min_samples_leaf': [1, 2],\n",
              "                                        'min_samples_split': [2, 5],\n",
              "                                        'n_estimators': [10, 12, 15, 17, 20]},\n",
              "                   scoring='f1')"
            ]
          },
          "metadata": {},
          "execution_count": 130
        }
      ],
      "source": [
        "# Number of trees in random forest\n",
        "n_estimators = [int(x) for x in np.linspace(start = 10, stop = 20, num = 5)]\n",
        "\n",
        "# Maximum number of levels in tree\n",
        "max_depth = [int(x) for x in np.linspace(10, 50, num = 5)]\n",
        "max_depth.append(None)\n",
        "\n",
        "# Minimum number of samples required to split a node\n",
        "min_samples_split = [2, 5]\n",
        "\n",
        "# Minimum number of samples required at each leaf node\n",
        "min_samples_leaf = [1, 2]\n",
        "\n",
        "# Create the random grid\n",
        "random_grid = {'n_estimators': n_estimators,\n",
        "               'max_depth': max_depth,\n",
        "               'min_samples_split': min_samples_split,\n",
        "               'min_samples_leaf': min_samples_leaf}\n",
        "\n",
        "\n",
        "rf = RandomForestClassifier()\n",
        "rf_random = RandomizedSearchCV(estimator = rf, param_distributions = random_grid, n_iter = 5, cv = 4,scoring = 'f1')\n",
        "rf_random.fit(X_train_bal, y_train_bal)"
      ],
      "id": "7bd228ad-befc-42ed-91ce-8daf7b8df33c"
    },
    {
      "cell_type": "markdown",
      "metadata": {
        "id": "d92a2cba-8448-4dc7-aca7-0342c6e7e972"
      },
      "source": [
        "## F1 Score"
      ],
      "id": "d92a2cba-8448-4dc7-aca7-0342c6e7e972"
    },
    {
      "cell_type": "code",
      "execution_count": 133,
      "metadata": {
        "colab": {
          "base_uri": "https://localhost:8080/"
        },
        "id": "ec04a86e-dead-4694-89b1-bf16723f78c6",
        "outputId": "4ca727e7-42e0-404c-d17a-8bdfb3ff7edc"
      },
      "outputs": [
        {
          "output_type": "stream",
          "name": "stdout",
          "text": [
            "Average of the best f1-score in various folds during cross validation =  0.985655057506516\n",
            "The best parameters found during k-fold cross validation is =  {'n_estimators': 15, 'min_samples_split': 2, 'min_samples_leaf': 2, 'max_depth': 50}\n"
          ]
        }
      ],
      "source": [
        "print(\"Average of the best f1-score in various folds during cross validation = \",rf_random.best_score_)\n",
        "print(\"The best parameters found during k-fold cross validation is = \",rf_random.best_params_)"
      ],
      "id": "ec04a86e-dead-4694-89b1-bf16723f78c6"
    },
    {
      "cell_type": "markdown",
      "metadata": {
        "id": "JuiGNquLXoYm"
      },
      "source": [
        "## Gaussian Naive Bayes"
      ],
      "id": "JuiGNquLXoYm"
    },
    {
      "cell_type": "code",
      "execution_count": 134,
      "metadata": {
        "id": "hSoasmr3yUyS"
      },
      "outputs": [],
      "source": [
        "from sklearn.naive_bayes import GaussianNB"
      ],
      "id": "hSoasmr3yUyS"
    },
    {
      "cell_type": "code",
      "execution_count": 135,
      "metadata": {
        "colab": {
          "base_uri": "https://localhost:8080/"
        },
        "id": "m6jpX4WFJdcg",
        "outputId": "45fee45f-3c80-4784-a980-90c9fcc39dfd"
      },
      "outputs": [
        {
          "output_type": "execute_result",
          "data": {
            "text/plain": [
              "0.7119686800894854"
            ]
          },
          "metadata": {},
          "execution_count": 135
        }
      ],
      "source": [
        "model=GaussianNB()\n",
        "model.fit(X_train_bal, y_train_bal)\n",
        "y_pred=model.predict(X_test)\n",
        "GaussianNB_accuracy = metrics.accuracy_score(y_test, y_pred)\n",
        "GaussianNB_accuracy"
      ],
      "id": "m6jpX4WFJdcg"
    },
    {
      "cell_type": "code",
      "execution_count": 136,
      "metadata": {
        "colab": {
          "base_uri": "https://localhost:8080/"
        },
        "id": "oYWA_oGZaLR2",
        "outputId": "3b6622be-5c99-46c0-c1e5-cf78ac546361"
      },
      "outputs": [
        {
          "output_type": "stream",
          "name": "stdout",
          "text": [
            "Accuracy with GNB: 0.71\n"
          ]
        }
      ],
      "source": [
        "print(\"Accuracy with GNB:\",round(metrics.accuracy_score(y_test, y_pred),2))"
      ],
      "id": "oYWA_oGZaLR2"
    },
    {
      "cell_type": "markdown",
      "metadata": {
        "id": "4ZDGFIbNmE4l"
      },
      "source": [
        "## SVM"
      ],
      "id": "4ZDGFIbNmE4l"
    },
    {
      "cell_type": "code",
      "execution_count": 137,
      "metadata": {
        "id": "RHirWC5SmJtC"
      },
      "outputs": [],
      "source": [
        "from sklearn.model_selection import train_test_split\n",
        "X_train, X_test, y_train, y_test = train_test_split(X, y, test_size=0.3, random_state=8)"
      ],
      "id": "RHirWC5SmJtC"
    },
    {
      "cell_type": "code",
      "execution_count": 138,
      "metadata": {
        "id": "TN5XjgaWmzXR"
      },
      "outputs": [],
      "source": [
        "from sklearn import svm"
      ],
      "id": "TN5XjgaWmzXR"
    },
    {
      "cell_type": "code",
      "execution_count": 139,
      "metadata": {
        "id": "eDEy53XDm57Z"
      },
      "outputs": [],
      "source": [
        "clf = svm.SVC(kernel='poly', degree=8.7)\n",
        "clf.fit(X_train_bal, y_train_bal)\n",
        "y_pred = clf.predict(X_test)"
      ],
      "id": "eDEy53XDm57Z"
    },
    {
      "cell_type": "code",
      "execution_count": 140,
      "metadata": {
        "colab": {
          "base_uri": "https://localhost:8080/"
        },
        "id": "wZeOOVekm7y5",
        "outputId": "84aa3501-80ba-42cf-a57b-84ea318134be"
      },
      "outputs": [
        {
          "output_type": "stream",
          "name": "stdout",
          "text": [
            "Accuracy: 0.92\n"
          ]
        }
      ],
      "source": [
        "from sklearn import metrics\n",
        "print(\"Accuracy:\",round(metrics.accuracy_score(y_test, y_pred),2))"
      ],
      "id": "wZeOOVekm7y5"
    },
    {
      "cell_type": "markdown",
      "metadata": {
        "id": "mCIZynRwObLL"
      },
      "source": [
        "# KNN"
      ],
      "id": "mCIZynRwObLL"
    },
    {
      "cell_type": "code",
      "execution_count": 141,
      "metadata": {
        "id": "-CDgSqpIOleA"
      },
      "outputs": [],
      "source": [
        "from sklearn.neighbors import KNeighborsClassifier\n",
        "knn = KNeighborsClassifier(n_neighbors = 3)"
      ],
      "id": "-CDgSqpIOleA"
    },
    {
      "cell_type": "code",
      "execution_count": 142,
      "metadata": {
        "id": "0Oge64y0OsUn"
      },
      "outputs": [],
      "source": [
        "KNN = knn.fit(X_train_bal, y_train_bal)\n",
        "y_pred = KNN.predict(X_test)\n"
      ],
      "id": "0Oge64y0OsUn"
    },
    {
      "cell_type": "code",
      "execution_count": 143,
      "metadata": {
        "colab": {
          "base_uri": "https://localhost:8080/"
        },
        "id": "3JVRDg_VO1sN",
        "outputId": "a50b67a9-9596-4ead-dac9-b4f5f48a128d"
      },
      "outputs": [
        {
          "output_type": "stream",
          "name": "stdout",
          "text": [
            "Accuracy with KNN: 0.96\n",
            "AUC score with KNN: 0.95886\n"
          ]
        }
      ],
      "source": [
        "from sklearn import metrics\n",
        "print(\"Accuracy with KNN:\",round(metrics.accuracy_score(y_test, y_pred),2))\n",
        "print (\"AUC score with KNN:\", np.round(roc_auc_score(y_test, y_pred),5))"
      ],
      "id": "3JVRDg_VO1sN"
    },
    {
      "cell_type": "markdown",
      "metadata": {
        "id": "GAFrmZQ8YGkV"
      },
      "source": [
        "### Ensemble Max Voting"
      ],
      "id": "GAFrmZQ8YGkV"
    },
    {
      "cell_type": "code",
      "execution_count": 144,
      "metadata": {
        "colab": {
          "base_uri": "https://localhost:8080/"
        },
        "id": "UrUAPtVbYKBI",
        "outputId": "00f1442d-de80-4ac4-f9d8-368c89185246"
      },
      "outputs": [
        {
          "output_type": "execute_result",
          "data": {
            "text/plain": [
              "0.9621551081282624"
            ]
          },
          "metadata": {},
          "execution_count": 144
        }
      ],
      "source": [
        "from sklearn.ensemble import VotingClassifier\n",
        "\n",
        "best = VotingClassifier(estimators=[('lr', lr_clf), ('rf', rfc), ('nb', model), ('svm', clf), ('knn', knn)], voting='hard')\n",
        "best.fit(X_train_bal, y_train_bal)\n",
        "best.score(X_test,y_test)"
      ],
      "id": "UrUAPtVbYKBI"
    },
    {
      "cell_type": "markdown",
      "metadata": {
        "id": "51WV7fX0J01d"
      },
      "source": [
        "## Correlation Graphs"
      ],
      "id": "51WV7fX0J01d"
    },
    {
      "cell_type": "code",
      "source": [
        ""
      ],
      "metadata": {
        "id": "0DiTIo4-zaT9"
      },
      "id": "0DiTIo4-zaT9",
      "execution_count": 145,
      "outputs": []
    },
    {
      "cell_type": "code",
      "execution_count": 145,
      "metadata": {
        "colab": {
          "base_uri": "https://localhost:8080/"
        },
        "id": "bkyCcfNFLe-c",
        "outputId": "4b1fc099-eb63-4318-d952-17ec0eac823f"
      },
      "outputs": [
        {
          "output_type": "stream",
          "name": "stdout",
          "text": [
            "              0         1         2         3         4         5         6  \\\n",
            "0     -0.002061  0.066000 -0.017966 -0.061503  0.030577 -0.019662 -0.085162   \n",
            "1      0.028571  0.063619 -0.053331 -0.056595  0.022424  0.000128 -0.069555   \n",
            "2      0.031692  0.078740  0.024006 -0.062013  0.007968 -0.018392 -0.071365   \n",
            "3      0.040483  0.059467  0.008781 -0.013202  0.032882 -0.009149 -0.084195   \n",
            "4      0.036627  0.049534  0.018203 -0.034942  0.029900 -0.005607 -0.078676   \n",
            "...         ...       ...       ...       ...       ...       ...       ...   \n",
            "34023  0.050903  0.071778  0.033584 -0.044814  0.061355 -0.014630 -0.062472   \n",
            "34024  0.039114  0.067972  0.017860 -0.052778  0.057951 -0.015234 -0.065631   \n",
            "34025  0.079126  0.046795  0.043388 -0.047401  0.033661 -0.026383 -0.079931   \n",
            "34026  0.029946  0.074033  0.015177 -0.031394  0.033818 -0.000288 -0.095282   \n",
            "34027  0.004440  0.043879  0.030399 -0.082530  0.068631 -0.009678 -0.091209   \n",
            "\n",
            "              7         8         9  ...       198       199  telecommuting  \\\n",
            "0      0.000982 -0.030580  0.030815  ...  0.010061  0.015658              0   \n",
            "1      0.009650  0.013362  0.031480  ...  0.010741  0.016425              0   \n",
            "2      0.035503  0.021990  0.008586  ...  0.011035 -0.001151              0   \n",
            "3      0.038128  0.002978  0.056617  ...  0.013143  0.017022              0   \n",
            "4      0.016035  0.003705  0.035780  ...  0.024902  0.006174              0   \n",
            "...         ...       ...       ...  ...       ...       ...            ...   \n",
            "34023  0.019857 -0.011673  0.030890  ...  0.019439 -0.000575              0   \n",
            "34024  0.015244 -0.004612  0.015087  ...  0.005548 -0.018979              0   \n",
            "34025  0.048230  0.000673  0.035423  ...  0.004966 -0.001527              0   \n",
            "34026  0.010693  0.008716  0.031344  ... -0.004300  0.008288              0   \n",
            "34027 -0.011464 -0.003833 -0.025443  ... -0.022282  0.008356              0   \n",
            "\n",
            "       has_company_logo  has_questions  employment_type  required_experience  \\\n",
            "0                     1              0         0.099313            -0.248399   \n",
            "1                     1              0        -0.497368             0.537615   \n",
            "2                     1              0         1.889358             0.930622   \n",
            "3                     1              0        -0.497368             0.144608   \n",
            "4                     1              1        -0.497368             0.144608   \n",
            "...                 ...            ...              ...                  ...   \n",
            "34023                 0              1         1.889358             0.930622   \n",
            "34024                 0              0         1.889358             0.930622   \n",
            "34025                 0              0        -0.497368            -1.034413   \n",
            "34026                 1              0        -0.497368             0.144608   \n",
            "34027                 0              0        -0.497368             0.930622   \n",
            "\n",
            "       required_education  industry  function  \n",
            "0                1.005226  1.308985 -0.145416  \n",
            "1                1.005226  0.011506 -1.352449  \n",
            "2                1.005226  1.308985  1.061618  \n",
            "3               -1.229790 -1.216466  0.578804  \n",
            "4               -1.229790 -0.544557 -0.628229  \n",
            "...                   ...       ...       ...  \n",
            "34023            1.005226  1.308985  1.061618  \n",
            "34024            1.005226  1.308985  1.061618  \n",
            "34025            1.005226 -0.544557 -1.835262  \n",
            "34026           -0.689491  0.312706 -0.950104  \n",
            "34027            1.005226 -0.590895  0.578804  \n",
            "\n",
            "[34028 rows x 208 columns]\n"
          ]
        }
      ],
      "source": [
        "print(new_X)"
      ],
      "id": "bkyCcfNFLe-c"
    }
  ],
  "metadata": {
    "colab": {
      "collapsed_sections": [
        "84645a4f",
        "74ec1fe6-2f70-4513-8bc6-3b47da7166ee",
        "b1f7b248-f687-49c4-9ef8-a9ed099df52b",
        "162bf0af-672d-490c-9e2c-161d1726e9c5",
        "2e90661b-3d96-4915-a9bb-70d6095b7227",
        "d47430fc-8e07-4f5b-ae2d-f5e380fb2bf0",
        "58f0e09d-c7d5-4315-acbf-a09ae5f08732",
        "7deea97a-28aa-4fd7-840d-57a1d28c87e6",
        "fac153e9-b24b-4ea9-bd78-ee4d2f168305"
      ],
      "name": "v4.Project_245_fakejob.ipynb",
      "provenance": []
    },
    "kernelspec": {
      "display_name": "Python 3",
      "language": "python",
      "name": "python3"
    },
    "language_info": {
      "codemirror_mode": {
        "name": "ipython",
        "version": 3
      },
      "file_extension": ".py",
      "mimetype": "text/x-python",
      "name": "python",
      "nbconvert_exporter": "python",
      "pygments_lexer": "ipython3",
      "version": "3.8.8"
    }
  },
  "nbformat": 4,
  "nbformat_minor": 5
}