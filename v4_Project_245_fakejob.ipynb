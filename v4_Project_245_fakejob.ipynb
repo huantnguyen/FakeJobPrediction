{
  "cells": [
    {
      "cell_type": "code",
      "execution_count": 1,
      "metadata": {
        "colab": {
          "base_uri": "https://localhost:8080/"
        },
        "id": "t7GH8dVzh-d3",
        "outputId": "03dd9221-3dda-4463-8aa3-cbc39a4d30b8"
      },
      "outputs": [
        {
          "output_type": "stream",
          "name": "stdout",
          "text": [
            "Drive already mounted at /content/drive; to attempt to forcibly remount, call drive.mount(\"/content/drive\", force_remount=True).\n"
          ]
        }
      ],
      "source": [
        "from google.colab import drive\n",
        "drive.mount('/content/drive')"
      ],
      "id": "t7GH8dVzh-d3"
    },
    {
      "cell_type": "code",
      "execution_count": 2,
      "metadata": {
        "colab": {
          "base_uri": "https://localhost:8080/"
        },
        "id": "90B4V1v3iRlc",
        "outputId": "d82a9d1b-fccb-4a74-bd10-625c08d5ecf9"
      },
      "outputs": [
        {
          "output_type": "stream",
          "name": "stdout",
          "text": [
            "/content/drive/Shareddrives/Data 245 Project/Project Code\n"
          ]
        }
      ],
      "source": [
        "%cd /content/drive/Shareddrives/Data 245 Project/Project Code"
      ],
      "id": "90B4V1v3iRlc"
    },
    {
      "cell_type": "code",
      "execution_count": 3,
      "metadata": {
        "colab": {
          "base_uri": "https://localhost:8080/"
        },
        "id": "hJUqlwphigB-",
        "outputId": "c2044b92-a98f-4018-9725-44c5e87354b5"
      },
      "outputs": [
        {
          "output_type": "stream",
          "name": "stdout",
          "text": [
            " 245v2+EDA.ipynb\t    Project_245_fakejob_raw.ipynb\n",
            " fake_job_postings.csv\t   'Results of Models.gsheet'\n",
            " fake_job_postings.gsheet   v2.Project_245_fakejob_raw.ipynb\n",
            " glove.6B.200d.rar\t    v3.Project_245_fakejob.ipynb\n",
            " glove.6B.200d.txt\n"
          ]
        }
      ],
      "source": [
        "!ls"
      ],
      "id": "hJUqlwphigB-"
    },
    {
      "cell_type": "markdown",
      "source": [
        "# Import Libraries"
      ],
      "metadata": {
        "id": "UwXxnzkg-OMX"
      },
      "id": "UwXxnzkg-OMX"
    },
    {
      "cell_type": "code",
      "execution_count": 4,
      "metadata": {
        "id": "edf0c6d8"
      },
      "outputs": [],
      "source": [
        "import pandas as pd\n",
        "import numpy as np\n",
        "from math import sqrt\n",
        "\n",
        "import seaborn as sns\n",
        "import matplotlib.pyplot as plt\n",
        "\n",
        "from imblearn.combine import SMOTETomek\n",
        "from imblearn.over_sampling import SMOTE\n",
        "from imblearn.pipeline import Pipeline, make_pipeline\n",
        "from sklearn.feature_extraction.text import TfidfTransformer\n",
        "from sklearn.feature_extraction.text import CountVectorizer, TfidfVectorizer\n",
        "\n",
        "import sklearn.metrics as metrics\n",
        "from sklearn.metrics import mean_squared_error, mean_absolute_error\n",
        "from sklearn.metrics import ConfusionMatrixDisplay\n",
        "from sklearn.metrics import f1_score, roc_auc_score\n",
        "from sklearn.metrics import precision_recall_curve\n",
        "from sklearn.metrics import roc_curve\n",
        "from sklearn.metrics import classification_report,confusion_matrix,accuracy_score\n",
        "\n",
        "from sklearn.linear_model import LogisticRegression\n",
        "from sklearn.naive_bayes import GaussianNB\n",
        "from sklearn.naive_bayes import MultinomialNB\n",
        "from sklearn.neighbors import KNeighborsClassifier\n",
        "from sklearn import svm\n",
        "from sklearn.linear_model import LogisticRegression\n",
        "from sklearn.ensemble import RandomForestClassifier\n",
        "from sklearn.model_selection import RandomizedSearchCV\n",
        "\n",
        "from sklearn.model_selection import train_test_split\n",
        "from sklearn.ensemble import VotingClassifier\n"
      ],
      "id": "edf0c6d8"
    },
    {
      "cell_type": "code",
      "execution_count": 5,
      "metadata": {
        "id": "c861379f"
      },
      "outputs": [],
      "source": [
        "data = pd.read_csv('fake_job_postings.csv')"
      ],
      "id": "c861379f"
    },
    {
      "cell_type": "code",
      "execution_count": 6,
      "metadata": {
        "colab": {
          "base_uri": "https://localhost:8080/",
          "height": 600
        },
        "id": "2b680e88",
        "outputId": "014e5e62-03c0-4f11-d03f-30657065eddb"
      },
      "outputs": [
        {
          "output_type": "execute_result",
          "data": {
            "text/plain": [
              "   job_id                                      title            location  \\\n",
              "0       1                           Marketing Intern    US, NY, New York   \n",
              "1       2  Customer Service - Cloud Video Production      NZ, , Auckland   \n",
              "2       3    Commissioning Machinery Assistant (CMA)       US, IA, Wever   \n",
              "3       4          Account Executive - Washington DC  US, DC, Washington   \n",
              "4       5                        Bill Review Manager  US, FL, Fort Worth   \n",
              "\n",
              "  department salary_range                                    company_profile  \\\n",
              "0  Marketing          NaN  We're Food52, and we've created a groundbreaki...   \n",
              "1    Success          NaN  90 Seconds, the worlds Cloud Video Production ...   \n",
              "2        NaN          NaN  Valor Services provides Workforce Solutions th...   \n",
              "3      Sales          NaN  Our passion for improving quality of life thro...   \n",
              "4        NaN          NaN  SpotSource Solutions LLC is a Global Human Cap...   \n",
              "\n",
              "                                         description  \\\n",
              "0  Food52, a fast-growing, James Beard Award-winn...   \n",
              "1  Organised - Focused - Vibrant - Awesome!Do you...   \n",
              "2  Our client, located in Houston, is actively se...   \n",
              "3  THE COMPANY: ESRI – Environmental Systems Rese...   \n",
              "4  JOB TITLE: Itemization Review ManagerLOCATION:...   \n",
              "\n",
              "                                        requirements  \\\n",
              "0  Experience with content management systems a m...   \n",
              "1  What we expect from you:Your key responsibilit...   \n",
              "2  Implement pre-commissioning and commissioning ...   \n",
              "3  EDUCATION: Bachelor’s or Master’s in GIS, busi...   \n",
              "4  QUALIFICATIONS:RN license in the State of Texa...   \n",
              "\n",
              "                                            benefits  telecommuting  \\\n",
              "0                                                NaN              0   \n",
              "1  What you will get from usThrough being part of...              0   \n",
              "2                                                NaN              0   \n",
              "3  Our culture is anything but corporate—we have ...              0   \n",
              "4                              Full Benefits Offered              0   \n",
              "\n",
              "   has_company_logo  has_questions employment_type required_experience  \\\n",
              "0                 1              0           Other          Internship   \n",
              "1                 1              0       Full-time      Not Applicable   \n",
              "2                 1              0             NaN                 NaN   \n",
              "3                 1              0       Full-time    Mid-Senior level   \n",
              "4                 1              1       Full-time    Mid-Senior level   \n",
              "\n",
              "  required_education                   industry              function  \\\n",
              "0                NaN                        NaN             Marketing   \n",
              "1                NaN  Marketing and Advertising      Customer Service   \n",
              "2                NaN                        NaN                   NaN   \n",
              "3  Bachelor's Degree          Computer Software                 Sales   \n",
              "4  Bachelor's Degree     Hospital & Health Care  Health Care Provider   \n",
              "\n",
              "   fraudulent  \n",
              "0           0  \n",
              "1           0  \n",
              "2           0  \n",
              "3           0  \n",
              "4           0  "
            ],
            "text/html": [
              "\n",
              "  <div id=\"df-840c280f-ff59-46a1-85e7-edd7536012b6\">\n",
              "    <div class=\"colab-df-container\">\n",
              "      <div>\n",
              "<style scoped>\n",
              "    .dataframe tbody tr th:only-of-type {\n",
              "        vertical-align: middle;\n",
              "    }\n",
              "\n",
              "    .dataframe tbody tr th {\n",
              "        vertical-align: top;\n",
              "    }\n",
              "\n",
              "    .dataframe thead th {\n",
              "        text-align: right;\n",
              "    }\n",
              "</style>\n",
              "<table border=\"1\" class=\"dataframe\">\n",
              "  <thead>\n",
              "    <tr style=\"text-align: right;\">\n",
              "      <th></th>\n",
              "      <th>job_id</th>\n",
              "      <th>title</th>\n",
              "      <th>location</th>\n",
              "      <th>department</th>\n",
              "      <th>salary_range</th>\n",
              "      <th>company_profile</th>\n",
              "      <th>description</th>\n",
              "      <th>requirements</th>\n",
              "      <th>benefits</th>\n",
              "      <th>telecommuting</th>\n",
              "      <th>has_company_logo</th>\n",
              "      <th>has_questions</th>\n",
              "      <th>employment_type</th>\n",
              "      <th>required_experience</th>\n",
              "      <th>required_education</th>\n",
              "      <th>industry</th>\n",
              "      <th>function</th>\n",
              "      <th>fraudulent</th>\n",
              "    </tr>\n",
              "  </thead>\n",
              "  <tbody>\n",
              "    <tr>\n",
              "      <th>0</th>\n",
              "      <td>1</td>\n",
              "      <td>Marketing Intern</td>\n",
              "      <td>US, NY, New York</td>\n",
              "      <td>Marketing</td>\n",
              "      <td>NaN</td>\n",
              "      <td>We're Food52, and we've created a groundbreaki...</td>\n",
              "      <td>Food52, a fast-growing, James Beard Award-winn...</td>\n",
              "      <td>Experience with content management systems a m...</td>\n",
              "      <td>NaN</td>\n",
              "      <td>0</td>\n",
              "      <td>1</td>\n",
              "      <td>0</td>\n",
              "      <td>Other</td>\n",
              "      <td>Internship</td>\n",
              "      <td>NaN</td>\n",
              "      <td>NaN</td>\n",
              "      <td>Marketing</td>\n",
              "      <td>0</td>\n",
              "    </tr>\n",
              "    <tr>\n",
              "      <th>1</th>\n",
              "      <td>2</td>\n",
              "      <td>Customer Service - Cloud Video Production</td>\n",
              "      <td>NZ, , Auckland</td>\n",
              "      <td>Success</td>\n",
              "      <td>NaN</td>\n",
              "      <td>90 Seconds, the worlds Cloud Video Production ...</td>\n",
              "      <td>Organised - Focused - Vibrant - Awesome!Do you...</td>\n",
              "      <td>What we expect from you:Your key responsibilit...</td>\n",
              "      <td>What you will get from usThrough being part of...</td>\n",
              "      <td>0</td>\n",
              "      <td>1</td>\n",
              "      <td>0</td>\n",
              "      <td>Full-time</td>\n",
              "      <td>Not Applicable</td>\n",
              "      <td>NaN</td>\n",
              "      <td>Marketing and Advertising</td>\n",
              "      <td>Customer Service</td>\n",
              "      <td>0</td>\n",
              "    </tr>\n",
              "    <tr>\n",
              "      <th>2</th>\n",
              "      <td>3</td>\n",
              "      <td>Commissioning Machinery Assistant (CMA)</td>\n",
              "      <td>US, IA, Wever</td>\n",
              "      <td>NaN</td>\n",
              "      <td>NaN</td>\n",
              "      <td>Valor Services provides Workforce Solutions th...</td>\n",
              "      <td>Our client, located in Houston, is actively se...</td>\n",
              "      <td>Implement pre-commissioning and commissioning ...</td>\n",
              "      <td>NaN</td>\n",
              "      <td>0</td>\n",
              "      <td>1</td>\n",
              "      <td>0</td>\n",
              "      <td>NaN</td>\n",
              "      <td>NaN</td>\n",
              "      <td>NaN</td>\n",
              "      <td>NaN</td>\n",
              "      <td>NaN</td>\n",
              "      <td>0</td>\n",
              "    </tr>\n",
              "    <tr>\n",
              "      <th>3</th>\n",
              "      <td>4</td>\n",
              "      <td>Account Executive - Washington DC</td>\n",
              "      <td>US, DC, Washington</td>\n",
              "      <td>Sales</td>\n",
              "      <td>NaN</td>\n",
              "      <td>Our passion for improving quality of life thro...</td>\n",
              "      <td>THE COMPANY: ESRI – Environmental Systems Rese...</td>\n",
              "      <td>EDUCATION: Bachelor’s or Master’s in GIS, busi...</td>\n",
              "      <td>Our culture is anything but corporate—we have ...</td>\n",
              "      <td>0</td>\n",
              "      <td>1</td>\n",
              "      <td>0</td>\n",
              "      <td>Full-time</td>\n",
              "      <td>Mid-Senior level</td>\n",
              "      <td>Bachelor's Degree</td>\n",
              "      <td>Computer Software</td>\n",
              "      <td>Sales</td>\n",
              "      <td>0</td>\n",
              "    </tr>\n",
              "    <tr>\n",
              "      <th>4</th>\n",
              "      <td>5</td>\n",
              "      <td>Bill Review Manager</td>\n",
              "      <td>US, FL, Fort Worth</td>\n",
              "      <td>NaN</td>\n",
              "      <td>NaN</td>\n",
              "      <td>SpotSource Solutions LLC is a Global Human Cap...</td>\n",
              "      <td>JOB TITLE: Itemization Review ManagerLOCATION:...</td>\n",
              "      <td>QUALIFICATIONS:RN license in the State of Texa...</td>\n",
              "      <td>Full Benefits Offered</td>\n",
              "      <td>0</td>\n",
              "      <td>1</td>\n",
              "      <td>1</td>\n",
              "      <td>Full-time</td>\n",
              "      <td>Mid-Senior level</td>\n",
              "      <td>Bachelor's Degree</td>\n",
              "      <td>Hospital &amp; Health Care</td>\n",
              "      <td>Health Care Provider</td>\n",
              "      <td>0</td>\n",
              "    </tr>\n",
              "  </tbody>\n",
              "</table>\n",
              "</div>\n",
              "      <button class=\"colab-df-convert\" onclick=\"convertToInteractive('df-840c280f-ff59-46a1-85e7-edd7536012b6')\"\n",
              "              title=\"Convert this dataframe to an interactive table.\"\n",
              "              style=\"display:none;\">\n",
              "        \n",
              "  <svg xmlns=\"http://www.w3.org/2000/svg\" height=\"24px\"viewBox=\"0 0 24 24\"\n",
              "       width=\"24px\">\n",
              "    <path d=\"M0 0h24v24H0V0z\" fill=\"none\"/>\n",
              "    <path d=\"M18.56 5.44l.94 2.06.94-2.06 2.06-.94-2.06-.94-.94-2.06-.94 2.06-2.06.94zm-11 1L8.5 8.5l.94-2.06 2.06-.94-2.06-.94L8.5 2.5l-.94 2.06-2.06.94zm10 10l.94 2.06.94-2.06 2.06-.94-2.06-.94-.94-2.06-.94 2.06-2.06.94z\"/><path d=\"M17.41 7.96l-1.37-1.37c-.4-.4-.92-.59-1.43-.59-.52 0-1.04.2-1.43.59L10.3 9.45l-7.72 7.72c-.78.78-.78 2.05 0 2.83L4 21.41c.39.39.9.59 1.41.59.51 0 1.02-.2 1.41-.59l7.78-7.78 2.81-2.81c.8-.78.8-2.07 0-2.86zM5.41 20L4 18.59l7.72-7.72 1.47 1.35L5.41 20z\"/>\n",
              "  </svg>\n",
              "      </button>\n",
              "      \n",
              "  <style>\n",
              "    .colab-df-container {\n",
              "      display:flex;\n",
              "      flex-wrap:wrap;\n",
              "      gap: 12px;\n",
              "    }\n",
              "\n",
              "    .colab-df-convert {\n",
              "      background-color: #E8F0FE;\n",
              "      border: none;\n",
              "      border-radius: 50%;\n",
              "      cursor: pointer;\n",
              "      display: none;\n",
              "      fill: #1967D2;\n",
              "      height: 32px;\n",
              "      padding: 0 0 0 0;\n",
              "      width: 32px;\n",
              "    }\n",
              "\n",
              "    .colab-df-convert:hover {\n",
              "      background-color: #E2EBFA;\n",
              "      box-shadow: 0px 1px 2px rgba(60, 64, 67, 0.3), 0px 1px 3px 1px rgba(60, 64, 67, 0.15);\n",
              "      fill: #174EA6;\n",
              "    }\n",
              "\n",
              "    [theme=dark] .colab-df-convert {\n",
              "      background-color: #3B4455;\n",
              "      fill: #D2E3FC;\n",
              "    }\n",
              "\n",
              "    [theme=dark] .colab-df-convert:hover {\n",
              "      background-color: #434B5C;\n",
              "      box-shadow: 0px 1px 3px 1px rgba(0, 0, 0, 0.15);\n",
              "      filter: drop-shadow(0px 1px 2px rgba(0, 0, 0, 0.3));\n",
              "      fill: #FFFFFF;\n",
              "    }\n",
              "  </style>\n",
              "\n",
              "      <script>\n",
              "        const buttonEl =\n",
              "          document.querySelector('#df-840c280f-ff59-46a1-85e7-edd7536012b6 button.colab-df-convert');\n",
              "        buttonEl.style.display =\n",
              "          google.colab.kernel.accessAllowed ? 'block' : 'none';\n",
              "\n",
              "        async function convertToInteractive(key) {\n",
              "          const element = document.querySelector('#df-840c280f-ff59-46a1-85e7-edd7536012b6');\n",
              "          const dataTable =\n",
              "            await google.colab.kernel.invokeFunction('convertToInteractive',\n",
              "                                                     [key], {});\n",
              "          if (!dataTable) return;\n",
              "\n",
              "          const docLinkHtml = 'Like what you see? Visit the ' +\n",
              "            '<a target=\"_blank\" href=https://colab.research.google.com/notebooks/data_table.ipynb>data table notebook</a>'\n",
              "            + ' to learn more about interactive tables.';\n",
              "          element.innerHTML = '';\n",
              "          dataTable['output_type'] = 'display_data';\n",
              "          await google.colab.output.renderOutput(dataTable, element);\n",
              "          const docLink = document.createElement('div');\n",
              "          docLink.innerHTML = docLinkHtml;\n",
              "          element.appendChild(docLink);\n",
              "        }\n",
              "      </script>\n",
              "    </div>\n",
              "  </div>\n",
              "  "
            ]
          },
          "metadata": {},
          "execution_count": 6
        }
      ],
      "source": [
        "data.head()"
      ],
      "id": "2b680e88"
    },
    {
      "cell_type": "code",
      "execution_count": 7,
      "metadata": {
        "colab": {
          "base_uri": "https://localhost:8080/"
        },
        "id": "51f130b8",
        "outputId": "ddd3bfc4-dd41-4d59-e086-d7f105e43863"
      },
      "outputs": [
        {
          "output_type": "stream",
          "name": "stdout",
          "text": [
            "<class 'pandas.core.frame.DataFrame'>\n",
            "RangeIndex: 17880 entries, 0 to 17879\n",
            "Data columns (total 18 columns):\n",
            " #   Column               Non-Null Count  Dtype \n",
            "---  ------               --------------  ----- \n",
            " 0   job_id               17880 non-null  int64 \n",
            " 1   title                17880 non-null  object\n",
            " 2   location             17534 non-null  object\n",
            " 3   department           6333 non-null   object\n",
            " 4   salary_range         2868 non-null   object\n",
            " 5   company_profile      14572 non-null  object\n",
            " 6   description          17879 non-null  object\n",
            " 7   requirements         15185 non-null  object\n",
            " 8   benefits             10670 non-null  object\n",
            " 9   telecommuting        17880 non-null  int64 \n",
            " 10  has_company_logo     17880 non-null  int64 \n",
            " 11  has_questions        17880 non-null  int64 \n",
            " 12  employment_type      14409 non-null  object\n",
            " 13  required_experience  10830 non-null  object\n",
            " 14  required_education   9775 non-null   object\n",
            " 15  industry             12977 non-null  object\n",
            " 16  function             11425 non-null  object\n",
            " 17  fraudulent           17880 non-null  int64 \n",
            "dtypes: int64(5), object(13)\n",
            "memory usage: 2.5+ MB\n"
          ]
        }
      ],
      "source": [
        "data.info()"
      ],
      "id": "51f130b8"
    },
    {
      "cell_type": "code",
      "execution_count": 8,
      "metadata": {
        "colab": {
          "base_uri": "https://localhost:8080/"
        },
        "id": "463595a8",
        "outputId": "73cf7328-48d9-47e0-e5aa-85f79919bef7",
        "scrolled": true
      },
      "outputs": [
        {
          "output_type": "execute_result",
          "data": {
            "text/plain": [
              "job_id                     0\n",
              "title                      0\n",
              "location                 346\n",
              "department             11547\n",
              "salary_range           15012\n",
              "company_profile         3308\n",
              "description                1\n",
              "requirements            2695\n",
              "benefits                7210\n",
              "telecommuting              0\n",
              "has_company_logo           0\n",
              "has_questions              0\n",
              "employment_type         3471\n",
              "required_experience     7050\n",
              "required_education      8105\n",
              "industry                4903\n",
              "function                6455\n",
              "fraudulent                 0\n",
              "dtype: int64"
            ]
          },
          "metadata": {},
          "execution_count": 8
        }
      ],
      "source": [
        "data.isnull().sum()"
      ],
      "id": "463595a8"
    },
    {
      "cell_type": "code",
      "execution_count": 9,
      "metadata": {
        "id": "929656c3"
      },
      "outputs": [],
      "source": [
        "data.fillna(\"missing\", inplace = True) #filling missing values with text 'missing'"
      ],
      "id": "929656c3"
    },
    {
      "cell_type": "code",
      "execution_count": 10,
      "metadata": {
        "colab": {
          "base_uri": "https://localhost:8080/",
          "height": 600
        },
        "id": "cbb91f73",
        "outputId": "e49a220b-8331-41be-9c80-78332f367f00"
      },
      "outputs": [
        {
          "output_type": "execute_result",
          "data": {
            "text/plain": [
              "   job_id                                      title            location  \\\n",
              "0       1                           Marketing Intern    US, NY, New York   \n",
              "1       2  Customer Service - Cloud Video Production      NZ, , Auckland   \n",
              "2       3    Commissioning Machinery Assistant (CMA)       US, IA, Wever   \n",
              "3       4          Account Executive - Washington DC  US, DC, Washington   \n",
              "4       5                        Bill Review Manager  US, FL, Fort Worth   \n",
              "\n",
              "  department salary_range                                    company_profile  \\\n",
              "0  Marketing      missing  We're Food52, and we've created a groundbreaki...   \n",
              "1    Success      missing  90 Seconds, the worlds Cloud Video Production ...   \n",
              "2    missing      missing  Valor Services provides Workforce Solutions th...   \n",
              "3      Sales      missing  Our passion for improving quality of life thro...   \n",
              "4    missing      missing  SpotSource Solutions LLC is a Global Human Cap...   \n",
              "\n",
              "                                         description  \\\n",
              "0  Food52, a fast-growing, James Beard Award-winn...   \n",
              "1  Organised - Focused - Vibrant - Awesome!Do you...   \n",
              "2  Our client, located in Houston, is actively se...   \n",
              "3  THE COMPANY: ESRI – Environmental Systems Rese...   \n",
              "4  JOB TITLE: Itemization Review ManagerLOCATION:...   \n",
              "\n",
              "                                        requirements  \\\n",
              "0  Experience with content management systems a m...   \n",
              "1  What we expect from you:Your key responsibilit...   \n",
              "2  Implement pre-commissioning and commissioning ...   \n",
              "3  EDUCATION: Bachelor’s or Master’s in GIS, busi...   \n",
              "4  QUALIFICATIONS:RN license in the State of Texa...   \n",
              "\n",
              "                                            benefits  telecommuting  \\\n",
              "0                                            missing              0   \n",
              "1  What you will get from usThrough being part of...              0   \n",
              "2                                            missing              0   \n",
              "3  Our culture is anything but corporate—we have ...              0   \n",
              "4                              Full Benefits Offered              0   \n",
              "\n",
              "   has_company_logo  has_questions employment_type required_experience  \\\n",
              "0                 1              0           Other          Internship   \n",
              "1                 1              0       Full-time      Not Applicable   \n",
              "2                 1              0         missing             missing   \n",
              "3                 1              0       Full-time    Mid-Senior level   \n",
              "4                 1              1       Full-time    Mid-Senior level   \n",
              "\n",
              "  required_education                   industry              function  \\\n",
              "0            missing                    missing             Marketing   \n",
              "1            missing  Marketing and Advertising      Customer Service   \n",
              "2            missing                    missing               missing   \n",
              "3  Bachelor's Degree          Computer Software                 Sales   \n",
              "4  Bachelor's Degree     Hospital & Health Care  Health Care Provider   \n",
              "\n",
              "   fraudulent  \n",
              "0           0  \n",
              "1           0  \n",
              "2           0  \n",
              "3           0  \n",
              "4           0  "
            ],
            "text/html": [
              "\n",
              "  <div id=\"df-2d0f09c2-44b9-4f99-85f5-a083cef138a2\">\n",
              "    <div class=\"colab-df-container\">\n",
              "      <div>\n",
              "<style scoped>\n",
              "    .dataframe tbody tr th:only-of-type {\n",
              "        vertical-align: middle;\n",
              "    }\n",
              "\n",
              "    .dataframe tbody tr th {\n",
              "        vertical-align: top;\n",
              "    }\n",
              "\n",
              "    .dataframe thead th {\n",
              "        text-align: right;\n",
              "    }\n",
              "</style>\n",
              "<table border=\"1\" class=\"dataframe\">\n",
              "  <thead>\n",
              "    <tr style=\"text-align: right;\">\n",
              "      <th></th>\n",
              "      <th>job_id</th>\n",
              "      <th>title</th>\n",
              "      <th>location</th>\n",
              "      <th>department</th>\n",
              "      <th>salary_range</th>\n",
              "      <th>company_profile</th>\n",
              "      <th>description</th>\n",
              "      <th>requirements</th>\n",
              "      <th>benefits</th>\n",
              "      <th>telecommuting</th>\n",
              "      <th>has_company_logo</th>\n",
              "      <th>has_questions</th>\n",
              "      <th>employment_type</th>\n",
              "      <th>required_experience</th>\n",
              "      <th>required_education</th>\n",
              "      <th>industry</th>\n",
              "      <th>function</th>\n",
              "      <th>fraudulent</th>\n",
              "    </tr>\n",
              "  </thead>\n",
              "  <tbody>\n",
              "    <tr>\n",
              "      <th>0</th>\n",
              "      <td>1</td>\n",
              "      <td>Marketing Intern</td>\n",
              "      <td>US, NY, New York</td>\n",
              "      <td>Marketing</td>\n",
              "      <td>missing</td>\n",
              "      <td>We're Food52, and we've created a groundbreaki...</td>\n",
              "      <td>Food52, a fast-growing, James Beard Award-winn...</td>\n",
              "      <td>Experience with content management systems a m...</td>\n",
              "      <td>missing</td>\n",
              "      <td>0</td>\n",
              "      <td>1</td>\n",
              "      <td>0</td>\n",
              "      <td>Other</td>\n",
              "      <td>Internship</td>\n",
              "      <td>missing</td>\n",
              "      <td>missing</td>\n",
              "      <td>Marketing</td>\n",
              "      <td>0</td>\n",
              "    </tr>\n",
              "    <tr>\n",
              "      <th>1</th>\n",
              "      <td>2</td>\n",
              "      <td>Customer Service - Cloud Video Production</td>\n",
              "      <td>NZ, , Auckland</td>\n",
              "      <td>Success</td>\n",
              "      <td>missing</td>\n",
              "      <td>90 Seconds, the worlds Cloud Video Production ...</td>\n",
              "      <td>Organised - Focused - Vibrant - Awesome!Do you...</td>\n",
              "      <td>What we expect from you:Your key responsibilit...</td>\n",
              "      <td>What you will get from usThrough being part of...</td>\n",
              "      <td>0</td>\n",
              "      <td>1</td>\n",
              "      <td>0</td>\n",
              "      <td>Full-time</td>\n",
              "      <td>Not Applicable</td>\n",
              "      <td>missing</td>\n",
              "      <td>Marketing and Advertising</td>\n",
              "      <td>Customer Service</td>\n",
              "      <td>0</td>\n",
              "    </tr>\n",
              "    <tr>\n",
              "      <th>2</th>\n",
              "      <td>3</td>\n",
              "      <td>Commissioning Machinery Assistant (CMA)</td>\n",
              "      <td>US, IA, Wever</td>\n",
              "      <td>missing</td>\n",
              "      <td>missing</td>\n",
              "      <td>Valor Services provides Workforce Solutions th...</td>\n",
              "      <td>Our client, located in Houston, is actively se...</td>\n",
              "      <td>Implement pre-commissioning and commissioning ...</td>\n",
              "      <td>missing</td>\n",
              "      <td>0</td>\n",
              "      <td>1</td>\n",
              "      <td>0</td>\n",
              "      <td>missing</td>\n",
              "      <td>missing</td>\n",
              "      <td>missing</td>\n",
              "      <td>missing</td>\n",
              "      <td>missing</td>\n",
              "      <td>0</td>\n",
              "    </tr>\n",
              "    <tr>\n",
              "      <th>3</th>\n",
              "      <td>4</td>\n",
              "      <td>Account Executive - Washington DC</td>\n",
              "      <td>US, DC, Washington</td>\n",
              "      <td>Sales</td>\n",
              "      <td>missing</td>\n",
              "      <td>Our passion for improving quality of life thro...</td>\n",
              "      <td>THE COMPANY: ESRI – Environmental Systems Rese...</td>\n",
              "      <td>EDUCATION: Bachelor’s or Master’s in GIS, busi...</td>\n",
              "      <td>Our culture is anything but corporate—we have ...</td>\n",
              "      <td>0</td>\n",
              "      <td>1</td>\n",
              "      <td>0</td>\n",
              "      <td>Full-time</td>\n",
              "      <td>Mid-Senior level</td>\n",
              "      <td>Bachelor's Degree</td>\n",
              "      <td>Computer Software</td>\n",
              "      <td>Sales</td>\n",
              "      <td>0</td>\n",
              "    </tr>\n",
              "    <tr>\n",
              "      <th>4</th>\n",
              "      <td>5</td>\n",
              "      <td>Bill Review Manager</td>\n",
              "      <td>US, FL, Fort Worth</td>\n",
              "      <td>missing</td>\n",
              "      <td>missing</td>\n",
              "      <td>SpotSource Solutions LLC is a Global Human Cap...</td>\n",
              "      <td>JOB TITLE: Itemization Review ManagerLOCATION:...</td>\n",
              "      <td>QUALIFICATIONS:RN license in the State of Texa...</td>\n",
              "      <td>Full Benefits Offered</td>\n",
              "      <td>0</td>\n",
              "      <td>1</td>\n",
              "      <td>1</td>\n",
              "      <td>Full-time</td>\n",
              "      <td>Mid-Senior level</td>\n",
              "      <td>Bachelor's Degree</td>\n",
              "      <td>Hospital &amp; Health Care</td>\n",
              "      <td>Health Care Provider</td>\n",
              "      <td>0</td>\n",
              "    </tr>\n",
              "  </tbody>\n",
              "</table>\n",
              "</div>\n",
              "      <button class=\"colab-df-convert\" onclick=\"convertToInteractive('df-2d0f09c2-44b9-4f99-85f5-a083cef138a2')\"\n",
              "              title=\"Convert this dataframe to an interactive table.\"\n",
              "              style=\"display:none;\">\n",
              "        \n",
              "  <svg xmlns=\"http://www.w3.org/2000/svg\" height=\"24px\"viewBox=\"0 0 24 24\"\n",
              "       width=\"24px\">\n",
              "    <path d=\"M0 0h24v24H0V0z\" fill=\"none\"/>\n",
              "    <path d=\"M18.56 5.44l.94 2.06.94-2.06 2.06-.94-2.06-.94-.94-2.06-.94 2.06-2.06.94zm-11 1L8.5 8.5l.94-2.06 2.06-.94-2.06-.94L8.5 2.5l-.94 2.06-2.06.94zm10 10l.94 2.06.94-2.06 2.06-.94-2.06-.94-.94-2.06-.94 2.06-2.06.94z\"/><path d=\"M17.41 7.96l-1.37-1.37c-.4-.4-.92-.59-1.43-.59-.52 0-1.04.2-1.43.59L10.3 9.45l-7.72 7.72c-.78.78-.78 2.05 0 2.83L4 21.41c.39.39.9.59 1.41.59.51 0 1.02-.2 1.41-.59l7.78-7.78 2.81-2.81c.8-.78.8-2.07 0-2.86zM5.41 20L4 18.59l7.72-7.72 1.47 1.35L5.41 20z\"/>\n",
              "  </svg>\n",
              "      </button>\n",
              "      \n",
              "  <style>\n",
              "    .colab-df-container {\n",
              "      display:flex;\n",
              "      flex-wrap:wrap;\n",
              "      gap: 12px;\n",
              "    }\n",
              "\n",
              "    .colab-df-convert {\n",
              "      background-color: #E8F0FE;\n",
              "      border: none;\n",
              "      border-radius: 50%;\n",
              "      cursor: pointer;\n",
              "      display: none;\n",
              "      fill: #1967D2;\n",
              "      height: 32px;\n",
              "      padding: 0 0 0 0;\n",
              "      width: 32px;\n",
              "    }\n",
              "\n",
              "    .colab-df-convert:hover {\n",
              "      background-color: #E2EBFA;\n",
              "      box-shadow: 0px 1px 2px rgba(60, 64, 67, 0.3), 0px 1px 3px 1px rgba(60, 64, 67, 0.15);\n",
              "      fill: #174EA6;\n",
              "    }\n",
              "\n",
              "    [theme=dark] .colab-df-convert {\n",
              "      background-color: #3B4455;\n",
              "      fill: #D2E3FC;\n",
              "    }\n",
              "\n",
              "    [theme=dark] .colab-df-convert:hover {\n",
              "      background-color: #434B5C;\n",
              "      box-shadow: 0px 1px 3px 1px rgba(0, 0, 0, 0.15);\n",
              "      filter: drop-shadow(0px 1px 2px rgba(0, 0, 0, 0.3));\n",
              "      fill: #FFFFFF;\n",
              "    }\n",
              "  </style>\n",
              "\n",
              "      <script>\n",
              "        const buttonEl =\n",
              "          document.querySelector('#df-2d0f09c2-44b9-4f99-85f5-a083cef138a2 button.colab-df-convert');\n",
              "        buttonEl.style.display =\n",
              "          google.colab.kernel.accessAllowed ? 'block' : 'none';\n",
              "\n",
              "        async function convertToInteractive(key) {\n",
              "          const element = document.querySelector('#df-2d0f09c2-44b9-4f99-85f5-a083cef138a2');\n",
              "          const dataTable =\n",
              "            await google.colab.kernel.invokeFunction('convertToInteractive',\n",
              "                                                     [key], {});\n",
              "          if (!dataTable) return;\n",
              "\n",
              "          const docLinkHtml = 'Like what you see? Visit the ' +\n",
              "            '<a target=\"_blank\" href=https://colab.research.google.com/notebooks/data_table.ipynb>data table notebook</a>'\n",
              "            + ' to learn more about interactive tables.';\n",
              "          element.innerHTML = '';\n",
              "          dataTable['output_type'] = 'display_data';\n",
              "          await google.colab.output.renderOutput(dataTable, element);\n",
              "          const docLink = document.createElement('div');\n",
              "          docLink.innerHTML = docLinkHtml;\n",
              "          element.appendChild(docLink);\n",
              "        }\n",
              "      </script>\n",
              "    </div>\n",
              "  </div>\n",
              "  "
            ]
          },
          "metadata": {},
          "execution_count": 10
        }
      ],
      "source": [
        "data.head()"
      ],
      "id": "cbb91f73"
    },
    {
      "cell_type": "markdown",
      "metadata": {
        "id": "58e43a1a"
      },
      "source": [
        "#### Separating country and city from location"
      ],
      "id": "58e43a1a"
    },
    {
      "cell_type": "code",
      "execution_count": 11,
      "metadata": {
        "id": "6e9a1280"
      },
      "outputs": [],
      "source": [
        "data['country'] = data['location'].str.split(',').apply(lambda x: x[0])\n",
        "data['city'] = data['location'].str.split(',').apply(lambda x: x[-1])"
      ],
      "id": "6e9a1280"
    },
    {
      "cell_type": "code",
      "execution_count": 12,
      "metadata": {
        "colab": {
          "base_uri": "https://localhost:8080/",
          "height": 197
        },
        "id": "7453241f",
        "outputId": "13f87772-0293-43fa-d049-e4bff5649802"
      },
      "outputs": [
        {
          "output_type": "execute_result",
          "data": {
            "text/plain": [
              "   job_id             title          location department salary_range  \\\n",
              "0       1  Marketing Intern  US, NY, New York  Marketing      missing   \n",
              "\n",
              "                                     company_profile  \\\n",
              "0  We're Food52, and we've created a groundbreaki...   \n",
              "\n",
              "                                         description  \\\n",
              "0  Food52, a fast-growing, James Beard Award-winn...   \n",
              "\n",
              "                                        requirements benefits  telecommuting  \\\n",
              "0  Experience with content management systems a m...  missing              0   \n",
              "\n",
              "   has_company_logo  has_questions employment_type required_experience  \\\n",
              "0                 1              0           Other          Internship   \n",
              "\n",
              "  required_education industry   function  fraudulent country       city  \n",
              "0            missing  missing  Marketing           0      US   New York  "
            ],
            "text/html": [
              "\n",
              "  <div id=\"df-b7edf908-adb4-478c-beb7-bcaabb360d0b\">\n",
              "    <div class=\"colab-df-container\">\n",
              "      <div>\n",
              "<style scoped>\n",
              "    .dataframe tbody tr th:only-of-type {\n",
              "        vertical-align: middle;\n",
              "    }\n",
              "\n",
              "    .dataframe tbody tr th {\n",
              "        vertical-align: top;\n",
              "    }\n",
              "\n",
              "    .dataframe thead th {\n",
              "        text-align: right;\n",
              "    }\n",
              "</style>\n",
              "<table border=\"1\" class=\"dataframe\">\n",
              "  <thead>\n",
              "    <tr style=\"text-align: right;\">\n",
              "      <th></th>\n",
              "      <th>job_id</th>\n",
              "      <th>title</th>\n",
              "      <th>location</th>\n",
              "      <th>department</th>\n",
              "      <th>salary_range</th>\n",
              "      <th>company_profile</th>\n",
              "      <th>description</th>\n",
              "      <th>requirements</th>\n",
              "      <th>benefits</th>\n",
              "      <th>telecommuting</th>\n",
              "      <th>has_company_logo</th>\n",
              "      <th>has_questions</th>\n",
              "      <th>employment_type</th>\n",
              "      <th>required_experience</th>\n",
              "      <th>required_education</th>\n",
              "      <th>industry</th>\n",
              "      <th>function</th>\n",
              "      <th>fraudulent</th>\n",
              "      <th>country</th>\n",
              "      <th>city</th>\n",
              "    </tr>\n",
              "  </thead>\n",
              "  <tbody>\n",
              "    <tr>\n",
              "      <th>0</th>\n",
              "      <td>1</td>\n",
              "      <td>Marketing Intern</td>\n",
              "      <td>US, NY, New York</td>\n",
              "      <td>Marketing</td>\n",
              "      <td>missing</td>\n",
              "      <td>We're Food52, and we've created a groundbreaki...</td>\n",
              "      <td>Food52, a fast-growing, James Beard Award-winn...</td>\n",
              "      <td>Experience with content management systems a m...</td>\n",
              "      <td>missing</td>\n",
              "      <td>0</td>\n",
              "      <td>1</td>\n",
              "      <td>0</td>\n",
              "      <td>Other</td>\n",
              "      <td>Internship</td>\n",
              "      <td>missing</td>\n",
              "      <td>missing</td>\n",
              "      <td>Marketing</td>\n",
              "      <td>0</td>\n",
              "      <td>US</td>\n",
              "      <td>New York</td>\n",
              "    </tr>\n",
              "  </tbody>\n",
              "</table>\n",
              "</div>\n",
              "      <button class=\"colab-df-convert\" onclick=\"convertToInteractive('df-b7edf908-adb4-478c-beb7-bcaabb360d0b')\"\n",
              "              title=\"Convert this dataframe to an interactive table.\"\n",
              "              style=\"display:none;\">\n",
              "        \n",
              "  <svg xmlns=\"http://www.w3.org/2000/svg\" height=\"24px\"viewBox=\"0 0 24 24\"\n",
              "       width=\"24px\">\n",
              "    <path d=\"M0 0h24v24H0V0z\" fill=\"none\"/>\n",
              "    <path d=\"M18.56 5.44l.94 2.06.94-2.06 2.06-.94-2.06-.94-.94-2.06-.94 2.06-2.06.94zm-11 1L8.5 8.5l.94-2.06 2.06-.94-2.06-.94L8.5 2.5l-.94 2.06-2.06.94zm10 10l.94 2.06.94-2.06 2.06-.94-2.06-.94-.94-2.06-.94 2.06-2.06.94z\"/><path d=\"M17.41 7.96l-1.37-1.37c-.4-.4-.92-.59-1.43-.59-.52 0-1.04.2-1.43.59L10.3 9.45l-7.72 7.72c-.78.78-.78 2.05 0 2.83L4 21.41c.39.39.9.59 1.41.59.51 0 1.02-.2 1.41-.59l7.78-7.78 2.81-2.81c.8-.78.8-2.07 0-2.86zM5.41 20L4 18.59l7.72-7.72 1.47 1.35L5.41 20z\"/>\n",
              "  </svg>\n",
              "      </button>\n",
              "      \n",
              "  <style>\n",
              "    .colab-df-container {\n",
              "      display:flex;\n",
              "      flex-wrap:wrap;\n",
              "      gap: 12px;\n",
              "    }\n",
              "\n",
              "    .colab-df-convert {\n",
              "      background-color: #E8F0FE;\n",
              "      border: none;\n",
              "      border-radius: 50%;\n",
              "      cursor: pointer;\n",
              "      display: none;\n",
              "      fill: #1967D2;\n",
              "      height: 32px;\n",
              "      padding: 0 0 0 0;\n",
              "      width: 32px;\n",
              "    }\n",
              "\n",
              "    .colab-df-convert:hover {\n",
              "      background-color: #E2EBFA;\n",
              "      box-shadow: 0px 1px 2px rgba(60, 64, 67, 0.3), 0px 1px 3px 1px rgba(60, 64, 67, 0.15);\n",
              "      fill: #174EA6;\n",
              "    }\n",
              "\n",
              "    [theme=dark] .colab-df-convert {\n",
              "      background-color: #3B4455;\n",
              "      fill: #D2E3FC;\n",
              "    }\n",
              "\n",
              "    [theme=dark] .colab-df-convert:hover {\n",
              "      background-color: #434B5C;\n",
              "      box-shadow: 0px 1px 3px 1px rgba(0, 0, 0, 0.15);\n",
              "      filter: drop-shadow(0px 1px 2px rgba(0, 0, 0, 0.3));\n",
              "      fill: #FFFFFF;\n",
              "    }\n",
              "  </style>\n",
              "\n",
              "      <script>\n",
              "        const buttonEl =\n",
              "          document.querySelector('#df-b7edf908-adb4-478c-beb7-bcaabb360d0b button.colab-df-convert');\n",
              "        buttonEl.style.display =\n",
              "          google.colab.kernel.accessAllowed ? 'block' : 'none';\n",
              "\n",
              "        async function convertToInteractive(key) {\n",
              "          const element = document.querySelector('#df-b7edf908-adb4-478c-beb7-bcaabb360d0b');\n",
              "          const dataTable =\n",
              "            await google.colab.kernel.invokeFunction('convertToInteractive',\n",
              "                                                     [key], {});\n",
              "          if (!dataTable) return;\n",
              "\n",
              "          const docLinkHtml = 'Like what you see? Visit the ' +\n",
              "            '<a target=\"_blank\" href=https://colab.research.google.com/notebooks/data_table.ipynb>data table notebook</a>'\n",
              "            + ' to learn more about interactive tables.';\n",
              "          element.innerHTML = '';\n",
              "          dataTable['output_type'] = 'display_data';\n",
              "          await google.colab.output.renderOutput(dataTable, element);\n",
              "          const docLink = document.createElement('div');\n",
              "          docLink.innerHTML = docLinkHtml;\n",
              "          element.appendChild(docLink);\n",
              "        }\n",
              "      </script>\n",
              "    </div>\n",
              "  </div>\n",
              "  "
            ]
          },
          "metadata": {},
          "execution_count": 12
        }
      ],
      "source": [
        "data.head(1)"
      ],
      "id": "7453241f"
    },
    {
      "cell_type": "markdown",
      "metadata": {
        "id": "903a0082"
      },
      "source": [
        "#### Separating min and max salary range"
      ],
      "id": "903a0082"
    },
    {
      "cell_type": "code",
      "execution_count": 13,
      "metadata": {
        "id": "0e3a76c4"
      },
      "outputs": [],
      "source": [
        "data['min_salary'] = data['salary_range'].str.split('-').apply(lambda x: x[0])\n",
        "data['max_salary'] = data['salary_range'].str.split('-').apply(lambda x: x[-1])"
      ],
      "id": "0e3a76c4"
    },
    {
      "cell_type": "code",
      "execution_count": 14,
      "metadata": {
        "colab": {
          "base_uri": "https://localhost:8080/",
          "height": 226
        },
        "id": "77dfe2cc",
        "outputId": "6e5cfa93-2aed-4888-cd8a-b1a9d9d5f47d"
      },
      "outputs": [
        {
          "output_type": "execute_result",
          "data": {
            "text/plain": [
              "   job_id             title          location department salary_range  \\\n",
              "0       1  Marketing Intern  US, NY, New York  Marketing      missing   \n",
              "\n",
              "                                     company_profile  \\\n",
              "0  We're Food52, and we've created a groundbreaki...   \n",
              "\n",
              "                                         description  \\\n",
              "0  Food52, a fast-growing, James Beard Award-winn...   \n",
              "\n",
              "                                        requirements benefits  telecommuting  \\\n",
              "0  Experience with content management systems a m...  missing              0   \n",
              "\n",
              "   ...  employment_type  required_experience required_education industry  \\\n",
              "0  ...            Other           Internship            missing  missing   \n",
              "\n",
              "    function fraudulent country       city min_salary max_salary  \n",
              "0  Marketing          0      US   New York    missing    missing  \n",
              "\n",
              "[1 rows x 22 columns]"
            ],
            "text/html": [
              "\n",
              "  <div id=\"df-17b85458-e6f1-4a39-9476-4d01db26c7c7\">\n",
              "    <div class=\"colab-df-container\">\n",
              "      <div>\n",
              "<style scoped>\n",
              "    .dataframe tbody tr th:only-of-type {\n",
              "        vertical-align: middle;\n",
              "    }\n",
              "\n",
              "    .dataframe tbody tr th {\n",
              "        vertical-align: top;\n",
              "    }\n",
              "\n",
              "    .dataframe thead th {\n",
              "        text-align: right;\n",
              "    }\n",
              "</style>\n",
              "<table border=\"1\" class=\"dataframe\">\n",
              "  <thead>\n",
              "    <tr style=\"text-align: right;\">\n",
              "      <th></th>\n",
              "      <th>job_id</th>\n",
              "      <th>title</th>\n",
              "      <th>location</th>\n",
              "      <th>department</th>\n",
              "      <th>salary_range</th>\n",
              "      <th>company_profile</th>\n",
              "      <th>description</th>\n",
              "      <th>requirements</th>\n",
              "      <th>benefits</th>\n",
              "      <th>telecommuting</th>\n",
              "      <th>...</th>\n",
              "      <th>employment_type</th>\n",
              "      <th>required_experience</th>\n",
              "      <th>required_education</th>\n",
              "      <th>industry</th>\n",
              "      <th>function</th>\n",
              "      <th>fraudulent</th>\n",
              "      <th>country</th>\n",
              "      <th>city</th>\n",
              "      <th>min_salary</th>\n",
              "      <th>max_salary</th>\n",
              "    </tr>\n",
              "  </thead>\n",
              "  <tbody>\n",
              "    <tr>\n",
              "      <th>0</th>\n",
              "      <td>1</td>\n",
              "      <td>Marketing Intern</td>\n",
              "      <td>US, NY, New York</td>\n",
              "      <td>Marketing</td>\n",
              "      <td>missing</td>\n",
              "      <td>We're Food52, and we've created a groundbreaki...</td>\n",
              "      <td>Food52, a fast-growing, James Beard Award-winn...</td>\n",
              "      <td>Experience with content management systems a m...</td>\n",
              "      <td>missing</td>\n",
              "      <td>0</td>\n",
              "      <td>...</td>\n",
              "      <td>Other</td>\n",
              "      <td>Internship</td>\n",
              "      <td>missing</td>\n",
              "      <td>missing</td>\n",
              "      <td>Marketing</td>\n",
              "      <td>0</td>\n",
              "      <td>US</td>\n",
              "      <td>New York</td>\n",
              "      <td>missing</td>\n",
              "      <td>missing</td>\n",
              "    </tr>\n",
              "  </tbody>\n",
              "</table>\n",
              "<p>1 rows × 22 columns</p>\n",
              "</div>\n",
              "      <button class=\"colab-df-convert\" onclick=\"convertToInteractive('df-17b85458-e6f1-4a39-9476-4d01db26c7c7')\"\n",
              "              title=\"Convert this dataframe to an interactive table.\"\n",
              "              style=\"display:none;\">\n",
              "        \n",
              "  <svg xmlns=\"http://www.w3.org/2000/svg\" height=\"24px\"viewBox=\"0 0 24 24\"\n",
              "       width=\"24px\">\n",
              "    <path d=\"M0 0h24v24H0V0z\" fill=\"none\"/>\n",
              "    <path d=\"M18.56 5.44l.94 2.06.94-2.06 2.06-.94-2.06-.94-.94-2.06-.94 2.06-2.06.94zm-11 1L8.5 8.5l.94-2.06 2.06-.94-2.06-.94L8.5 2.5l-.94 2.06-2.06.94zm10 10l.94 2.06.94-2.06 2.06-.94-2.06-.94-.94-2.06-.94 2.06-2.06.94z\"/><path d=\"M17.41 7.96l-1.37-1.37c-.4-.4-.92-.59-1.43-.59-.52 0-1.04.2-1.43.59L10.3 9.45l-7.72 7.72c-.78.78-.78 2.05 0 2.83L4 21.41c.39.39.9.59 1.41.59.51 0 1.02-.2 1.41-.59l7.78-7.78 2.81-2.81c.8-.78.8-2.07 0-2.86zM5.41 20L4 18.59l7.72-7.72 1.47 1.35L5.41 20z\"/>\n",
              "  </svg>\n",
              "      </button>\n",
              "      \n",
              "  <style>\n",
              "    .colab-df-container {\n",
              "      display:flex;\n",
              "      flex-wrap:wrap;\n",
              "      gap: 12px;\n",
              "    }\n",
              "\n",
              "    .colab-df-convert {\n",
              "      background-color: #E8F0FE;\n",
              "      border: none;\n",
              "      border-radius: 50%;\n",
              "      cursor: pointer;\n",
              "      display: none;\n",
              "      fill: #1967D2;\n",
              "      height: 32px;\n",
              "      padding: 0 0 0 0;\n",
              "      width: 32px;\n",
              "    }\n",
              "\n",
              "    .colab-df-convert:hover {\n",
              "      background-color: #E2EBFA;\n",
              "      box-shadow: 0px 1px 2px rgba(60, 64, 67, 0.3), 0px 1px 3px 1px rgba(60, 64, 67, 0.15);\n",
              "      fill: #174EA6;\n",
              "    }\n",
              "\n",
              "    [theme=dark] .colab-df-convert {\n",
              "      background-color: #3B4455;\n",
              "      fill: #D2E3FC;\n",
              "    }\n",
              "\n",
              "    [theme=dark] .colab-df-convert:hover {\n",
              "      background-color: #434B5C;\n",
              "      box-shadow: 0px 1px 3px 1px rgba(0, 0, 0, 0.15);\n",
              "      filter: drop-shadow(0px 1px 2px rgba(0, 0, 0, 0.3));\n",
              "      fill: #FFFFFF;\n",
              "    }\n",
              "  </style>\n",
              "\n",
              "      <script>\n",
              "        const buttonEl =\n",
              "          document.querySelector('#df-17b85458-e6f1-4a39-9476-4d01db26c7c7 button.colab-df-convert');\n",
              "        buttonEl.style.display =\n",
              "          google.colab.kernel.accessAllowed ? 'block' : 'none';\n",
              "\n",
              "        async function convertToInteractive(key) {\n",
              "          const element = document.querySelector('#df-17b85458-e6f1-4a39-9476-4d01db26c7c7');\n",
              "          const dataTable =\n",
              "            await google.colab.kernel.invokeFunction('convertToInteractive',\n",
              "                                                     [key], {});\n",
              "          if (!dataTable) return;\n",
              "\n",
              "          const docLinkHtml = 'Like what you see? Visit the ' +\n",
              "            '<a target=\"_blank\" href=https://colab.research.google.com/notebooks/data_table.ipynb>data table notebook</a>'\n",
              "            + ' to learn more about interactive tables.';\n",
              "          element.innerHTML = '';\n",
              "          dataTable['output_type'] = 'display_data';\n",
              "          await google.colab.output.renderOutput(dataTable, element);\n",
              "          const docLink = document.createElement('div');\n",
              "          docLink.innerHTML = docLinkHtml;\n",
              "          element.appendChild(docLink);\n",
              "        }\n",
              "      </script>\n",
              "    </div>\n",
              "  </div>\n",
              "  "
            ]
          },
          "metadata": {},
          "execution_count": 14
        }
      ],
      "source": [
        "data.head(1)"
      ],
      "id": "77dfe2cc"
    },
    {
      "cell_type": "markdown",
      "metadata": {
        "id": "84645a4f"
      },
      "source": [
        "#### Using Natural Language Toolkit for text processing"
      ],
      "id": "84645a4f"
    },
    {
      "cell_type": "code",
      "execution_count": 15,
      "metadata": {
        "id": "70b8e507"
      },
      "outputs": [],
      "source": [
        "import nltk\n",
        "from nltk import sent_tokenize\n",
        "from nltk import word_tokenize"
      ],
      "id": "70b8e507"
    },
    {
      "cell_type": "markdown",
      "metadata": {
        "id": "3766d166"
      },
      "source": [
        "import nltk\n",
        "nltk.download()"
      ],
      "id": "3766d166"
    },
    {
      "cell_type": "code",
      "execution_count": 16,
      "metadata": {
        "colab": {
          "base_uri": "https://localhost:8080/"
        },
        "id": "a4a89ae9",
        "outputId": "8bbfbce6-0762-4d45-f5f3-1f8aaf6a94b6"
      },
      "outputs": [
        {
          "output_type": "stream",
          "name": "stdout",
          "text": [
            "[nltk_data] Downloading package punkt to /root/nltk_data...\n",
            "[nltk_data]   Package punkt is already up-to-date!\n"
          ]
        },
        {
          "output_type": "execute_result",
          "data": {
            "text/plain": [
              "True"
            ]
          },
          "metadata": {},
          "execution_count": 16
        }
      ],
      "source": [
        "import nltk\n",
        "nltk.download('punkt')"
      ],
      "id": "a4a89ae9"
    },
    {
      "cell_type": "code",
      "execution_count": 17,
      "metadata": {
        "id": "3d35d65c"
      },
      "outputs": [],
      "source": [
        "#data['tokenized_description'] = data['description'].apply(word_tokenize)"
      ],
      "id": "3d35d65c"
    },
    {
      "cell_type": "code",
      "execution_count": 18,
      "metadata": {
        "id": "c1c780eb"
      },
      "outputs": [],
      "source": [
        "#data.head(1)"
      ],
      "id": "c1c780eb"
    },
    {
      "cell_type": "code",
      "execution_count": 19,
      "metadata": {
        "id": "1364861a"
      },
      "outputs": [],
      "source": [
        "#from nltk.probability import FreqDist\n",
        "#frequency = data['tokenized_description'].apply(FreqDist)"
      ],
      "id": "1364861a"
    },
    {
      "cell_type": "code",
      "execution_count": 20,
      "metadata": {
        "id": "3769d113"
      },
      "outputs": [],
      "source": [
        "#frequency"
      ],
      "id": "3769d113"
    },
    {
      "cell_type": "code",
      "execution_count": 21,
      "metadata": {
        "colab": {
          "base_uri": "https://localhost:8080/",
          "height": 0
        },
        "id": "2a779dbe",
        "outputId": "83d0e9c0-270b-46b5-d9ac-5963427d498a"
      },
      "outputs": [
        {
          "output_type": "execute_result",
          "data": {
            "text/plain": [
              "                                       title  \\\n",
              "0                           Marketing Intern   \n",
              "1  Customer Service - Cloud Video Production   \n",
              "2    Commissioning Machinery Assistant (CMA)   \n",
              "3          Account Executive - Washington DC   \n",
              "4                        Bill Review Manager   \n",
              "\n",
              "                                     company_profile  \\\n",
              "0  We're Food52, and we've created a groundbreaki...   \n",
              "1  90 Seconds, the worlds Cloud Video Production ...   \n",
              "2  Valor Services provides Workforce Solutions th...   \n",
              "3  Our passion for improving quality of life thro...   \n",
              "4  SpotSource Solutions LLC is a Global Human Cap...   \n",
              "\n",
              "                                         description  \\\n",
              "0  Food52, a fast-growing, James Beard Award-winn...   \n",
              "1  Organised - Focused - Vibrant - Awesome!Do you...   \n",
              "2  Our client, located in Houston, is actively se...   \n",
              "3  THE COMPANY: ESRI – Environmental Systems Rese...   \n",
              "4  JOB TITLE: Itemization Review ManagerLOCATION:...   \n",
              "\n",
              "                                        requirements  \\\n",
              "0  Experience with content management systems a m...   \n",
              "1  What we expect from you:Your key responsibilit...   \n",
              "2  Implement pre-commissioning and commissioning ...   \n",
              "3  EDUCATION: Bachelor’s or Master’s in GIS, busi...   \n",
              "4  QUALIFICATIONS:RN license in the State of Texa...   \n",
              "\n",
              "                                            benefits  \n",
              "0                                            missing  \n",
              "1  What you will get from usThrough being part of...  \n",
              "2                                            missing  \n",
              "3  Our culture is anything but corporate—we have ...  \n",
              "4                              Full Benefits Offered  "
            ],
            "text/html": [
              "\n",
              "  <div id=\"df-b393bf18-97fa-410c-b6c0-e8b9b3a110a9\">\n",
              "    <div class=\"colab-df-container\">\n",
              "      <div>\n",
              "<style scoped>\n",
              "    .dataframe tbody tr th:only-of-type {\n",
              "        vertical-align: middle;\n",
              "    }\n",
              "\n",
              "    .dataframe tbody tr th {\n",
              "        vertical-align: top;\n",
              "    }\n",
              "\n",
              "    .dataframe thead th {\n",
              "        text-align: right;\n",
              "    }\n",
              "</style>\n",
              "<table border=\"1\" class=\"dataframe\">\n",
              "  <thead>\n",
              "    <tr style=\"text-align: right;\">\n",
              "      <th></th>\n",
              "      <th>title</th>\n",
              "      <th>company_profile</th>\n",
              "      <th>description</th>\n",
              "      <th>requirements</th>\n",
              "      <th>benefits</th>\n",
              "    </tr>\n",
              "  </thead>\n",
              "  <tbody>\n",
              "    <tr>\n",
              "      <th>0</th>\n",
              "      <td>Marketing Intern</td>\n",
              "      <td>We're Food52, and we've created a groundbreaki...</td>\n",
              "      <td>Food52, a fast-growing, James Beard Award-winn...</td>\n",
              "      <td>Experience with content management systems a m...</td>\n",
              "      <td>missing</td>\n",
              "    </tr>\n",
              "    <tr>\n",
              "      <th>1</th>\n",
              "      <td>Customer Service - Cloud Video Production</td>\n",
              "      <td>90 Seconds, the worlds Cloud Video Production ...</td>\n",
              "      <td>Organised - Focused - Vibrant - Awesome!Do you...</td>\n",
              "      <td>What we expect from you:Your key responsibilit...</td>\n",
              "      <td>What you will get from usThrough being part of...</td>\n",
              "    </tr>\n",
              "    <tr>\n",
              "      <th>2</th>\n",
              "      <td>Commissioning Machinery Assistant (CMA)</td>\n",
              "      <td>Valor Services provides Workforce Solutions th...</td>\n",
              "      <td>Our client, located in Houston, is actively se...</td>\n",
              "      <td>Implement pre-commissioning and commissioning ...</td>\n",
              "      <td>missing</td>\n",
              "    </tr>\n",
              "    <tr>\n",
              "      <th>3</th>\n",
              "      <td>Account Executive - Washington DC</td>\n",
              "      <td>Our passion for improving quality of life thro...</td>\n",
              "      <td>THE COMPANY: ESRI – Environmental Systems Rese...</td>\n",
              "      <td>EDUCATION: Bachelor’s or Master’s in GIS, busi...</td>\n",
              "      <td>Our culture is anything but corporate—we have ...</td>\n",
              "    </tr>\n",
              "    <tr>\n",
              "      <th>4</th>\n",
              "      <td>Bill Review Manager</td>\n",
              "      <td>SpotSource Solutions LLC is a Global Human Cap...</td>\n",
              "      <td>JOB TITLE: Itemization Review ManagerLOCATION:...</td>\n",
              "      <td>QUALIFICATIONS:RN license in the State of Texa...</td>\n",
              "      <td>Full Benefits Offered</td>\n",
              "    </tr>\n",
              "  </tbody>\n",
              "</table>\n",
              "</div>\n",
              "      <button class=\"colab-df-convert\" onclick=\"convertToInteractive('df-b393bf18-97fa-410c-b6c0-e8b9b3a110a9')\"\n",
              "              title=\"Convert this dataframe to an interactive table.\"\n",
              "              style=\"display:none;\">\n",
              "        \n",
              "  <svg xmlns=\"http://www.w3.org/2000/svg\" height=\"24px\"viewBox=\"0 0 24 24\"\n",
              "       width=\"24px\">\n",
              "    <path d=\"M0 0h24v24H0V0z\" fill=\"none\"/>\n",
              "    <path d=\"M18.56 5.44l.94 2.06.94-2.06 2.06-.94-2.06-.94-.94-2.06-.94 2.06-2.06.94zm-11 1L8.5 8.5l.94-2.06 2.06-.94-2.06-.94L8.5 2.5l-.94 2.06-2.06.94zm10 10l.94 2.06.94-2.06 2.06-.94-2.06-.94-.94-2.06-.94 2.06-2.06.94z\"/><path d=\"M17.41 7.96l-1.37-1.37c-.4-.4-.92-.59-1.43-.59-.52 0-1.04.2-1.43.59L10.3 9.45l-7.72 7.72c-.78.78-.78 2.05 0 2.83L4 21.41c.39.39.9.59 1.41.59.51 0 1.02-.2 1.41-.59l7.78-7.78 2.81-2.81c.8-.78.8-2.07 0-2.86zM5.41 20L4 18.59l7.72-7.72 1.47 1.35L5.41 20z\"/>\n",
              "  </svg>\n",
              "      </button>\n",
              "      \n",
              "  <style>\n",
              "    .colab-df-container {\n",
              "      display:flex;\n",
              "      flex-wrap:wrap;\n",
              "      gap: 12px;\n",
              "    }\n",
              "\n",
              "    .colab-df-convert {\n",
              "      background-color: #E8F0FE;\n",
              "      border: none;\n",
              "      border-radius: 50%;\n",
              "      cursor: pointer;\n",
              "      display: none;\n",
              "      fill: #1967D2;\n",
              "      height: 32px;\n",
              "      padding: 0 0 0 0;\n",
              "      width: 32px;\n",
              "    }\n",
              "\n",
              "    .colab-df-convert:hover {\n",
              "      background-color: #E2EBFA;\n",
              "      box-shadow: 0px 1px 2px rgba(60, 64, 67, 0.3), 0px 1px 3px 1px rgba(60, 64, 67, 0.15);\n",
              "      fill: #174EA6;\n",
              "    }\n",
              "\n",
              "    [theme=dark] .colab-df-convert {\n",
              "      background-color: #3B4455;\n",
              "      fill: #D2E3FC;\n",
              "    }\n",
              "\n",
              "    [theme=dark] .colab-df-convert:hover {\n",
              "      background-color: #434B5C;\n",
              "      box-shadow: 0px 1px 3px 1px rgba(0, 0, 0, 0.15);\n",
              "      filter: drop-shadow(0px 1px 2px rgba(0, 0, 0, 0.3));\n",
              "      fill: #FFFFFF;\n",
              "    }\n",
              "  </style>\n",
              "\n",
              "      <script>\n",
              "        const buttonEl =\n",
              "          document.querySelector('#df-b393bf18-97fa-410c-b6c0-e8b9b3a110a9 button.colab-df-convert');\n",
              "        buttonEl.style.display =\n",
              "          google.colab.kernel.accessAllowed ? 'block' : 'none';\n",
              "\n",
              "        async function convertToInteractive(key) {\n",
              "          const element = document.querySelector('#df-b393bf18-97fa-410c-b6c0-e8b9b3a110a9');\n",
              "          const dataTable =\n",
              "            await google.colab.kernel.invokeFunction('convertToInteractive',\n",
              "                                                     [key], {});\n",
              "          if (!dataTable) return;\n",
              "\n",
              "          const docLinkHtml = 'Like what you see? Visit the ' +\n",
              "            '<a target=\"_blank\" href=https://colab.research.google.com/notebooks/data_table.ipynb>data table notebook</a>'\n",
              "            + ' to learn more about interactive tables.';\n",
              "          element.innerHTML = '';\n",
              "          dataTable['output_type'] = 'display_data';\n",
              "          await google.colab.output.renderOutput(dataTable, element);\n",
              "          const docLink = document.createElement('div');\n",
              "          docLink.innerHTML = docLinkHtml;\n",
              "          element.appendChild(docLink);\n",
              "        }\n",
              "      </script>\n",
              "    </div>\n",
              "  </div>\n",
              "  "
            ]
          },
          "metadata": {},
          "execution_count": 21
        }
      ],
      "source": [
        "text_data = data[[\"title\", \"company_profile\", \"description\", \"requirements\", \"benefits\"]]\n",
        "text_data = text_data.fillna(' ')\n",
        "\n",
        "text_data.head()"
      ],
      "id": "2a779dbe"
    },
    {
      "cell_type": "code",
      "execution_count": 22,
      "metadata": {
        "colab": {
          "base_uri": "https://localhost:8080/",
          "height": 0
        },
        "id": "62670462",
        "outputId": "3a294fdd-c39d-43ee-baa5-b0df8f31d878"
      },
      "outputs": [
        {
          "output_type": "execute_result",
          "data": {
            "text/plain": [
              "   telecommuting  has_company_logo  has_questions employment_type  \\\n",
              "0              0                 1              0           Other   \n",
              "1              0                 1              0       Full-time   \n",
              "2              0                 1              0         missing   \n",
              "3              0                 1              0       Full-time   \n",
              "4              0                 1              1       Full-time   \n",
              "\n",
              "  required_experience required_education                   industry  \\\n",
              "0          Internship            missing                    missing   \n",
              "1      Not Applicable            missing  Marketing and Advertising   \n",
              "2             missing            missing                    missing   \n",
              "3    Mid-Senior level  Bachelor's Degree          Computer Software   \n",
              "4    Mid-Senior level  Bachelor's Degree     Hospital & Health Care   \n",
              "\n",
              "               function  \n",
              "0             Marketing  \n",
              "1      Customer Service  \n",
              "2               missing  \n",
              "3                 Sales  \n",
              "4  Health Care Provider  "
            ],
            "text/html": [
              "\n",
              "  <div id=\"df-952441a9-1dc6-4471-8625-48cd4e5034ac\">\n",
              "    <div class=\"colab-df-container\">\n",
              "      <div>\n",
              "<style scoped>\n",
              "    .dataframe tbody tr th:only-of-type {\n",
              "        vertical-align: middle;\n",
              "    }\n",
              "\n",
              "    .dataframe tbody tr th {\n",
              "        vertical-align: top;\n",
              "    }\n",
              "\n",
              "    .dataframe thead th {\n",
              "        text-align: right;\n",
              "    }\n",
              "</style>\n",
              "<table border=\"1\" class=\"dataframe\">\n",
              "  <thead>\n",
              "    <tr style=\"text-align: right;\">\n",
              "      <th></th>\n",
              "      <th>telecommuting</th>\n",
              "      <th>has_company_logo</th>\n",
              "      <th>has_questions</th>\n",
              "      <th>employment_type</th>\n",
              "      <th>required_experience</th>\n",
              "      <th>required_education</th>\n",
              "      <th>industry</th>\n",
              "      <th>function</th>\n",
              "    </tr>\n",
              "  </thead>\n",
              "  <tbody>\n",
              "    <tr>\n",
              "      <th>0</th>\n",
              "      <td>0</td>\n",
              "      <td>1</td>\n",
              "      <td>0</td>\n",
              "      <td>Other</td>\n",
              "      <td>Internship</td>\n",
              "      <td>missing</td>\n",
              "      <td>missing</td>\n",
              "      <td>Marketing</td>\n",
              "    </tr>\n",
              "    <tr>\n",
              "      <th>1</th>\n",
              "      <td>0</td>\n",
              "      <td>1</td>\n",
              "      <td>0</td>\n",
              "      <td>Full-time</td>\n",
              "      <td>Not Applicable</td>\n",
              "      <td>missing</td>\n",
              "      <td>Marketing and Advertising</td>\n",
              "      <td>Customer Service</td>\n",
              "    </tr>\n",
              "    <tr>\n",
              "      <th>2</th>\n",
              "      <td>0</td>\n",
              "      <td>1</td>\n",
              "      <td>0</td>\n",
              "      <td>missing</td>\n",
              "      <td>missing</td>\n",
              "      <td>missing</td>\n",
              "      <td>missing</td>\n",
              "      <td>missing</td>\n",
              "    </tr>\n",
              "    <tr>\n",
              "      <th>3</th>\n",
              "      <td>0</td>\n",
              "      <td>1</td>\n",
              "      <td>0</td>\n",
              "      <td>Full-time</td>\n",
              "      <td>Mid-Senior level</td>\n",
              "      <td>Bachelor's Degree</td>\n",
              "      <td>Computer Software</td>\n",
              "      <td>Sales</td>\n",
              "    </tr>\n",
              "    <tr>\n",
              "      <th>4</th>\n",
              "      <td>0</td>\n",
              "      <td>1</td>\n",
              "      <td>1</td>\n",
              "      <td>Full-time</td>\n",
              "      <td>Mid-Senior level</td>\n",
              "      <td>Bachelor's Degree</td>\n",
              "      <td>Hospital &amp; Health Care</td>\n",
              "      <td>Health Care Provider</td>\n",
              "    </tr>\n",
              "  </tbody>\n",
              "</table>\n",
              "</div>\n",
              "      <button class=\"colab-df-convert\" onclick=\"convertToInteractive('df-952441a9-1dc6-4471-8625-48cd4e5034ac')\"\n",
              "              title=\"Convert this dataframe to an interactive table.\"\n",
              "              style=\"display:none;\">\n",
              "        \n",
              "  <svg xmlns=\"http://www.w3.org/2000/svg\" height=\"24px\"viewBox=\"0 0 24 24\"\n",
              "       width=\"24px\">\n",
              "    <path d=\"M0 0h24v24H0V0z\" fill=\"none\"/>\n",
              "    <path d=\"M18.56 5.44l.94 2.06.94-2.06 2.06-.94-2.06-.94-.94-2.06-.94 2.06-2.06.94zm-11 1L8.5 8.5l.94-2.06 2.06-.94-2.06-.94L8.5 2.5l-.94 2.06-2.06.94zm10 10l.94 2.06.94-2.06 2.06-.94-2.06-.94-.94-2.06-.94 2.06-2.06.94z\"/><path d=\"M17.41 7.96l-1.37-1.37c-.4-.4-.92-.59-1.43-.59-.52 0-1.04.2-1.43.59L10.3 9.45l-7.72 7.72c-.78.78-.78 2.05 0 2.83L4 21.41c.39.39.9.59 1.41.59.51 0 1.02-.2 1.41-.59l7.78-7.78 2.81-2.81c.8-.78.8-2.07 0-2.86zM5.41 20L4 18.59l7.72-7.72 1.47 1.35L5.41 20z\"/>\n",
              "  </svg>\n",
              "      </button>\n",
              "      \n",
              "  <style>\n",
              "    .colab-df-container {\n",
              "      display:flex;\n",
              "      flex-wrap:wrap;\n",
              "      gap: 12px;\n",
              "    }\n",
              "\n",
              "    .colab-df-convert {\n",
              "      background-color: #E8F0FE;\n",
              "      border: none;\n",
              "      border-radius: 50%;\n",
              "      cursor: pointer;\n",
              "      display: none;\n",
              "      fill: #1967D2;\n",
              "      height: 32px;\n",
              "      padding: 0 0 0 0;\n",
              "      width: 32px;\n",
              "    }\n",
              "\n",
              "    .colab-df-convert:hover {\n",
              "      background-color: #E2EBFA;\n",
              "      box-shadow: 0px 1px 2px rgba(60, 64, 67, 0.3), 0px 1px 3px 1px rgba(60, 64, 67, 0.15);\n",
              "      fill: #174EA6;\n",
              "    }\n",
              "\n",
              "    [theme=dark] .colab-df-convert {\n",
              "      background-color: #3B4455;\n",
              "      fill: #D2E3FC;\n",
              "    }\n",
              "\n",
              "    [theme=dark] .colab-df-convert:hover {\n",
              "      background-color: #434B5C;\n",
              "      box-shadow: 0px 1px 3px 1px rgba(0, 0, 0, 0.15);\n",
              "      filter: drop-shadow(0px 1px 2px rgba(0, 0, 0, 0.3));\n",
              "      fill: #FFFFFF;\n",
              "    }\n",
              "  </style>\n",
              "\n",
              "      <script>\n",
              "        const buttonEl =\n",
              "          document.querySelector('#df-952441a9-1dc6-4471-8625-48cd4e5034ac button.colab-df-convert');\n",
              "        buttonEl.style.display =\n",
              "          google.colab.kernel.accessAllowed ? 'block' : 'none';\n",
              "\n",
              "        async function convertToInteractive(key) {\n",
              "          const element = document.querySelector('#df-952441a9-1dc6-4471-8625-48cd4e5034ac');\n",
              "          const dataTable =\n",
              "            await google.colab.kernel.invokeFunction('convertToInteractive',\n",
              "                                                     [key], {});\n",
              "          if (!dataTable) return;\n",
              "\n",
              "          const docLinkHtml = 'Like what you see? Visit the ' +\n",
              "            '<a target=\"_blank\" href=https://colab.research.google.com/notebooks/data_table.ipynb>data table notebook</a>'\n",
              "            + ' to learn more about interactive tables.';\n",
              "          element.innerHTML = '';\n",
              "          dataTable['output_type'] = 'display_data';\n",
              "          await google.colab.output.renderOutput(dataTable, element);\n",
              "          const docLink = document.createElement('div');\n",
              "          docLink.innerHTML = docLinkHtml;\n",
              "          element.appendChild(docLink);\n",
              "        }\n",
              "      </script>\n",
              "    </div>\n",
              "  </div>\n",
              "  "
            ]
          },
          "metadata": {},
          "execution_count": 22
        }
      ],
      "source": [
        "cat_data = data[[\"telecommuting\", \"has_company_logo\", \"has_questions\", \"employment_type\", \"required_experience\", \"required_education\", \"industry\", \"function\",]]\n",
        "\n",
        "cat_data.head()"
      ],
      "id": "62670462"
    },
    {
      "cell_type": "code",
      "execution_count": 23,
      "metadata": {
        "colab": {
          "base_uri": "https://localhost:8080/"
        },
        "id": "1dbf9f74-ccc8-41bf-892f-7c2027888bf0",
        "outputId": "cfdf17ba-5df6-49f1-9a9d-fd72a377bd1a"
      },
      "outputs": [
        {
          "output_type": "stream",
          "name": "stderr",
          "text": [
            "/usr/local/lib/python3.7/dist-packages/ipykernel_launcher.py:6: SettingWithCopyWarning: \n",
            "A value is trying to be set on a copy of a slice from a DataFrame.\n",
            "Try using .loc[row_indexer,col_indexer] = value instead\n",
            "\n",
            "See the caveats in the documentation: https://pandas.pydata.org/pandas-docs/stable/user_guide/indexing.html#returning-a-view-versus-a-copy\n",
            "  \n"
          ]
        }
      ],
      "source": [
        "from sklearn.preprocessing import LabelEncoder\n",
        "label_columns = ['telecommuting', 'has_company_logo', 'has_questions', 'employment_type',\n",
        "       'required_experience', 'required_education', 'industry', 'function']\n",
        "lb_make = LabelEncoder()\n",
        "for i in label_columns:\n",
        "    cat_data[i] = lb_make.fit_transform(cat_data[i])"
      ],
      "id": "1dbf9f74-ccc8-41bf-892f-7c2027888bf0"
    },
    {
      "cell_type": "code",
      "execution_count": 24,
      "metadata": {
        "colab": {
          "base_uri": "https://localhost:8080/",
          "height": 0
        },
        "id": "9a032162-972f-4e2a-9da1-bc03025ea16c",
        "outputId": "6c3998ea-ba44-4eb8-94a6-c45dd9b32e3d"
      },
      "outputs": [
        {
          "output_type": "execute_result",
          "data": {
            "text/plain": [
              "       telecommuting  has_company_logo  has_questions  employment_type  \\\n",
              "0                  0                 1              0                2   \n",
              "1                  0                 1              0                1   \n",
              "2                  0                 1              0                5   \n",
              "3                  0                 1              0                1   \n",
              "4                  0                 1              1                1   \n",
              "...              ...               ...            ...              ...   \n",
              "17875              0                 1              1                1   \n",
              "17876              0                 1              1                1   \n",
              "17877              0                 0              0                1   \n",
              "17878              0                 0              1                0   \n",
              "17879              0                 1              1                1   \n",
              "\n",
              "       required_experience  required_education  industry  function  \n",
              "0                        4                  13       131        22  \n",
              "1                        6                  13        75         7  \n",
              "2                        7                  13       131        37  \n",
              "3                        5                   1        22        31  \n",
              "4                        5                   1        51        16  \n",
              "...                    ...                 ...       ...       ...  \n",
              "17875                    5                  13        22        31  \n",
              "17876                    5                   1        61         0  \n",
              "17877                    7                  13       131        37  \n",
              "17878                    6                   6        48         9  \n",
              "17879                    5                  13        22        12  \n",
              "\n",
              "[17880 rows x 8 columns]"
            ],
            "text/html": [
              "\n",
              "  <div id=\"df-fcecc428-c20e-432f-af47-bb86aa107da2\">\n",
              "    <div class=\"colab-df-container\">\n",
              "      <div>\n",
              "<style scoped>\n",
              "    .dataframe tbody tr th:only-of-type {\n",
              "        vertical-align: middle;\n",
              "    }\n",
              "\n",
              "    .dataframe tbody tr th {\n",
              "        vertical-align: top;\n",
              "    }\n",
              "\n",
              "    .dataframe thead th {\n",
              "        text-align: right;\n",
              "    }\n",
              "</style>\n",
              "<table border=\"1\" class=\"dataframe\">\n",
              "  <thead>\n",
              "    <tr style=\"text-align: right;\">\n",
              "      <th></th>\n",
              "      <th>telecommuting</th>\n",
              "      <th>has_company_logo</th>\n",
              "      <th>has_questions</th>\n",
              "      <th>employment_type</th>\n",
              "      <th>required_experience</th>\n",
              "      <th>required_education</th>\n",
              "      <th>industry</th>\n",
              "      <th>function</th>\n",
              "    </tr>\n",
              "  </thead>\n",
              "  <tbody>\n",
              "    <tr>\n",
              "      <th>0</th>\n",
              "      <td>0</td>\n",
              "      <td>1</td>\n",
              "      <td>0</td>\n",
              "      <td>2</td>\n",
              "      <td>4</td>\n",
              "      <td>13</td>\n",
              "      <td>131</td>\n",
              "      <td>22</td>\n",
              "    </tr>\n",
              "    <tr>\n",
              "      <th>1</th>\n",
              "      <td>0</td>\n",
              "      <td>1</td>\n",
              "      <td>0</td>\n",
              "      <td>1</td>\n",
              "      <td>6</td>\n",
              "      <td>13</td>\n",
              "      <td>75</td>\n",
              "      <td>7</td>\n",
              "    </tr>\n",
              "    <tr>\n",
              "      <th>2</th>\n",
              "      <td>0</td>\n",
              "      <td>1</td>\n",
              "      <td>0</td>\n",
              "      <td>5</td>\n",
              "      <td>7</td>\n",
              "      <td>13</td>\n",
              "      <td>131</td>\n",
              "      <td>37</td>\n",
              "    </tr>\n",
              "    <tr>\n",
              "      <th>3</th>\n",
              "      <td>0</td>\n",
              "      <td>1</td>\n",
              "      <td>0</td>\n",
              "      <td>1</td>\n",
              "      <td>5</td>\n",
              "      <td>1</td>\n",
              "      <td>22</td>\n",
              "      <td>31</td>\n",
              "    </tr>\n",
              "    <tr>\n",
              "      <th>4</th>\n",
              "      <td>0</td>\n",
              "      <td>1</td>\n",
              "      <td>1</td>\n",
              "      <td>1</td>\n",
              "      <td>5</td>\n",
              "      <td>1</td>\n",
              "      <td>51</td>\n",
              "      <td>16</td>\n",
              "    </tr>\n",
              "    <tr>\n",
              "      <th>...</th>\n",
              "      <td>...</td>\n",
              "      <td>...</td>\n",
              "      <td>...</td>\n",
              "      <td>...</td>\n",
              "      <td>...</td>\n",
              "      <td>...</td>\n",
              "      <td>...</td>\n",
              "      <td>...</td>\n",
              "    </tr>\n",
              "    <tr>\n",
              "      <th>17875</th>\n",
              "      <td>0</td>\n",
              "      <td>1</td>\n",
              "      <td>1</td>\n",
              "      <td>1</td>\n",
              "      <td>5</td>\n",
              "      <td>13</td>\n",
              "      <td>22</td>\n",
              "      <td>31</td>\n",
              "    </tr>\n",
              "    <tr>\n",
              "      <th>17876</th>\n",
              "      <td>0</td>\n",
              "      <td>1</td>\n",
              "      <td>1</td>\n",
              "      <td>1</td>\n",
              "      <td>5</td>\n",
              "      <td>1</td>\n",
              "      <td>61</td>\n",
              "      <td>0</td>\n",
              "    </tr>\n",
              "    <tr>\n",
              "      <th>17877</th>\n",
              "      <td>0</td>\n",
              "      <td>0</td>\n",
              "      <td>0</td>\n",
              "      <td>1</td>\n",
              "      <td>7</td>\n",
              "      <td>13</td>\n",
              "      <td>131</td>\n",
              "      <td>37</td>\n",
              "    </tr>\n",
              "    <tr>\n",
              "      <th>17878</th>\n",
              "      <td>0</td>\n",
              "      <td>0</td>\n",
              "      <td>1</td>\n",
              "      <td>0</td>\n",
              "      <td>6</td>\n",
              "      <td>6</td>\n",
              "      <td>48</td>\n",
              "      <td>9</td>\n",
              "    </tr>\n",
              "    <tr>\n",
              "      <th>17879</th>\n",
              "      <td>0</td>\n",
              "      <td>1</td>\n",
              "      <td>1</td>\n",
              "      <td>1</td>\n",
              "      <td>5</td>\n",
              "      <td>13</td>\n",
              "      <td>22</td>\n",
              "      <td>12</td>\n",
              "    </tr>\n",
              "  </tbody>\n",
              "</table>\n",
              "<p>17880 rows × 8 columns</p>\n",
              "</div>\n",
              "      <button class=\"colab-df-convert\" onclick=\"convertToInteractive('df-fcecc428-c20e-432f-af47-bb86aa107da2')\"\n",
              "              title=\"Convert this dataframe to an interactive table.\"\n",
              "              style=\"display:none;\">\n",
              "        \n",
              "  <svg xmlns=\"http://www.w3.org/2000/svg\" height=\"24px\"viewBox=\"0 0 24 24\"\n",
              "       width=\"24px\">\n",
              "    <path d=\"M0 0h24v24H0V0z\" fill=\"none\"/>\n",
              "    <path d=\"M18.56 5.44l.94 2.06.94-2.06 2.06-.94-2.06-.94-.94-2.06-.94 2.06-2.06.94zm-11 1L8.5 8.5l.94-2.06 2.06-.94-2.06-.94L8.5 2.5l-.94 2.06-2.06.94zm10 10l.94 2.06.94-2.06 2.06-.94-2.06-.94-.94-2.06-.94 2.06-2.06.94z\"/><path d=\"M17.41 7.96l-1.37-1.37c-.4-.4-.92-.59-1.43-.59-.52 0-1.04.2-1.43.59L10.3 9.45l-7.72 7.72c-.78.78-.78 2.05 0 2.83L4 21.41c.39.39.9.59 1.41.59.51 0 1.02-.2 1.41-.59l7.78-7.78 2.81-2.81c.8-.78.8-2.07 0-2.86zM5.41 20L4 18.59l7.72-7.72 1.47 1.35L5.41 20z\"/>\n",
              "  </svg>\n",
              "      </button>\n",
              "      \n",
              "  <style>\n",
              "    .colab-df-container {\n",
              "      display:flex;\n",
              "      flex-wrap:wrap;\n",
              "      gap: 12px;\n",
              "    }\n",
              "\n",
              "    .colab-df-convert {\n",
              "      background-color: #E8F0FE;\n",
              "      border: none;\n",
              "      border-radius: 50%;\n",
              "      cursor: pointer;\n",
              "      display: none;\n",
              "      fill: #1967D2;\n",
              "      height: 32px;\n",
              "      padding: 0 0 0 0;\n",
              "      width: 32px;\n",
              "    }\n",
              "\n",
              "    .colab-df-convert:hover {\n",
              "      background-color: #E2EBFA;\n",
              "      box-shadow: 0px 1px 2px rgba(60, 64, 67, 0.3), 0px 1px 3px 1px rgba(60, 64, 67, 0.15);\n",
              "      fill: #174EA6;\n",
              "    }\n",
              "\n",
              "    [theme=dark] .colab-df-convert {\n",
              "      background-color: #3B4455;\n",
              "      fill: #D2E3FC;\n",
              "    }\n",
              "\n",
              "    [theme=dark] .colab-df-convert:hover {\n",
              "      background-color: #434B5C;\n",
              "      box-shadow: 0px 1px 3px 1px rgba(0, 0, 0, 0.15);\n",
              "      filter: drop-shadow(0px 1px 2px rgba(0, 0, 0, 0.3));\n",
              "      fill: #FFFFFF;\n",
              "    }\n",
              "  </style>\n",
              "\n",
              "      <script>\n",
              "        const buttonEl =\n",
              "          document.querySelector('#df-fcecc428-c20e-432f-af47-bb86aa107da2 button.colab-df-convert');\n",
              "        buttonEl.style.display =\n",
              "          google.colab.kernel.accessAllowed ? 'block' : 'none';\n",
              "\n",
              "        async function convertToInteractive(key) {\n",
              "          const element = document.querySelector('#df-fcecc428-c20e-432f-af47-bb86aa107da2');\n",
              "          const dataTable =\n",
              "            await google.colab.kernel.invokeFunction('convertToInteractive',\n",
              "                                                     [key], {});\n",
              "          if (!dataTable) return;\n",
              "\n",
              "          const docLinkHtml = 'Like what you see? Visit the ' +\n",
              "            '<a target=\"_blank\" href=https://colab.research.google.com/notebooks/data_table.ipynb>data table notebook</a>'\n",
              "            + ' to learn more about interactive tables.';\n",
              "          element.innerHTML = '';\n",
              "          dataTable['output_type'] = 'display_data';\n",
              "          await google.colab.output.renderOutput(dataTable, element);\n",
              "          const docLink = document.createElement('div');\n",
              "          docLink.innerHTML = docLinkHtml;\n",
              "          element.appendChild(docLink);\n",
              "        }\n",
              "      </script>\n",
              "    </div>\n",
              "  </div>\n",
              "  "
            ]
          },
          "metadata": {},
          "execution_count": 24
        }
      ],
      "source": [
        "cat_data"
      ],
      "id": "9a032162-972f-4e2a-9da1-bc03025ea16c"
    },
    {
      "cell_type": "markdown",
      "metadata": {
        "id": "71424562-3cb8-4648-803c-3345d05c2be3"
      },
      "source": [
        "# Text Data Processing"
      ],
      "id": "71424562-3cb8-4648-803c-3345d05c2be3"
    },
    {
      "cell_type": "code",
      "execution_count": 25,
      "metadata": {
        "id": "331b038f"
      },
      "outputs": [],
      "source": [
        "import re\n",
        "import string"
      ],
      "id": "331b038f"
    },
    {
      "cell_type": "markdown",
      "metadata": {
        "id": "74ec1fe6-2f70-4513-8bc6-3b47da7166ee"
      },
      "source": [
        "## Look at text columns"
      ],
      "id": "74ec1fe6-2f70-4513-8bc6-3b47da7166ee"
    },
    {
      "cell_type": "code",
      "execution_count": 26,
      "metadata": {
        "colab": {
          "base_uri": "https://localhost:8080/"
        },
        "id": "1dc18a7c",
        "outputId": "db150dee-0831-4e9e-c6a8-33bff9bad50b"
      },
      "outputs": [
        {
          "output_type": "stream",
          "name": "stdout",
          "text": [
            "17880\n",
            "17880\n",
            "0        Marketing Intern,We're Food52, and we've creat...\n",
            "1        Customer Service - Cloud Video Production,90 S...\n",
            "2        Commissioning Machinery Assistant (CMA),Valor ...\n",
            "3        Account Executive - Washington DC,Our passion ...\n",
            "4        Bill Review Manager,SpotSource Solutions LLC i...\n",
            "                               ...                        \n",
            "17875    Account Director - Distribution ,Vend is looki...\n",
            "17876    Payroll Accountant,WebLinc is the e-commerce p...\n",
            "17877    Project Cost Control Staff Engineer - Cost Con...\n",
            "17878    Graphic Designer,missing,Nemsia Studios is loo...\n",
            "17879    Web Application Developers,Vend is looking for...\n",
            "Length: 17880, dtype: object\n"
          ]
        }
      ],
      "source": [
        "text = text_data[text_data.columns[0:-1]].apply(lambda x: ','.join(x.dropna().astype(str)),axis=1)\n",
        "target = data['fraudulent']\n",
        "\n",
        "print(len(text))\n",
        "print(len(target))\n",
        "print(text)"
      ],
      "id": "1dc18a7c"
    },
    {
      "cell_type": "markdown",
      "metadata": {
        "id": "b1f7b248-f687-49c4-9ef8-a9ed099df52b"
      },
      "source": [
        "## Function for cleaning up the text data"
      ],
      "id": "b1f7b248-f687-49c4-9ef8-a9ed099df52b"
    },
    {
      "cell_type": "code",
      "execution_count": 27,
      "metadata": {
        "colab": {
          "base_uri": "https://localhost:8080/"
        },
        "id": "19652780",
        "outputId": "5de3a650-487b-445d-f26e-87e394c2b5b2"
      },
      "outputs": [
        {
          "output_type": "execute_result",
          "data": {
            "text/plain": [
              "0    marketing internwere  and weve created a groun...\n",
              "1    customer service  cloud video  seconds the wor...\n",
              "2    commissioning machinery assistant cmavalor ser...\n",
              "3    account executive  washington dcour passion fo...\n",
              "4    bill review managerspotsource solutions llc is...\n",
              "5    accounting clerkmissingjob overviewapex is an ...\n",
              "6    head of content mffounded in  the fonpit ag ro...\n",
              "7    lead guest service specialist   airenvy’s miss...\n",
              "8    hp bsm  is a womanowned small business whose f...\n",
              "9    customer service associate  part time novitex ...\n",
              "dtype: object"
            ]
          },
          "metadata": {},
          "execution_count": 27
        }
      ],
      "source": [
        "def clean_text(text):\n",
        "    '''Make text lowercase, remove text in square brackets,remove links,remove punctuation and remove words containing numbers.'''\n",
        "    text = text.lower() # Lower case\n",
        "    text = re.sub('\\[.*?\\]', '', text) # No text in square brackets\n",
        "    text = re.sub('https?://\\S+|www\\.\\S+', '', text) # Remove HTML links\n",
        "    text = re.sub('<.*?>+', '', text) # Remove punctuations\n",
        "    text = re.sub('[%s]' % re.escape(string.punctuation), '', text) # Remove punctuations\n",
        "    text = re.sub('\\n', '', text) # Remove new lines\n",
        "    text = re.sub('\\w*\\d\\w*', '', text) # Remove words with numbers\n",
        "    return text\n",
        "\n",
        "\n",
        "# Applying the cleaning function to both test and training datasets\n",
        "text = text.apply(lambda x: clean_text(x))\n",
        "text.head(10)\n"
      ],
      "id": "19652780"
    },
    {
      "cell_type": "markdown",
      "metadata": {
        "id": "162bf0af-672d-490c-9e2c-161d1726e9c5"
      },
      "source": [
        "## Tokenizer"
      ],
      "id": "162bf0af-672d-490c-9e2c-161d1726e9c5"
    },
    {
      "cell_type": "code",
      "execution_count": 28,
      "metadata": {
        "colab": {
          "base_uri": "https://localhost:8080/"
        },
        "id": "d616c1fd-0706-45f4-8282-1bfd6e964a7c",
        "outputId": "8dc5881c-b1aa-4495-a369-ac4c59dd2307"
      },
      "outputs": [
        {
          "output_type": "stream",
          "name": "stdout",
          "text": [
            "CPU times: user 2.77 s, sys: 286 ms, total: 3.06 s\n",
            "Wall time: 3.3 s\n"
          ]
        }
      ],
      "source": [
        "%%time\n",
        "tokenizer = nltk.tokenize.RegexpTokenizer(r'\\w+')\n",
        "\n",
        "# appling tokenizer5\n",
        "text = text.apply(lambda x: tokenizer.tokenize(x))\n",
        "text.head(3)"
      ],
      "id": "d616c1fd-0706-45f4-8282-1bfd6e964a7c"
    },
    {
      "cell_type": "markdown",
      "metadata": {
        "id": "2e90661b-3d96-4915-a9bb-70d6095b7227"
      },
      "source": [
        "## Removing stopwords in English"
      ],
      "id": "2e90661b-3d96-4915-a9bb-70d6095b7227"
    },
    {
      "cell_type": "code",
      "execution_count": 29,
      "metadata": {
        "colab": {
          "base_uri": "https://localhost:8080/"
        },
        "id": "41fed5ac-fb71-4548-a5ed-d42afe205865",
        "outputId": "3cc9ba71-e9e6-4041-c11d-c9acdd86c69e"
      },
      "outputs": [
        {
          "output_type": "stream",
          "name": "stdout",
          "text": [
            "[nltk_data] Downloading package stopwords to /root/nltk_data...\n",
            "[nltk_data]   Package stopwords is already up-to-date!\n"
          ]
        },
        {
          "output_type": "execute_result",
          "data": {
            "text/plain": [
              "True"
            ]
          },
          "metadata": {},
          "execution_count": 29
        }
      ],
      "source": [
        "import nltk\n",
        "nltk.download('stopwords')"
      ],
      "id": "41fed5ac-fb71-4548-a5ed-d42afe205865"
    },
    {
      "cell_type": "code",
      "execution_count": 30,
      "metadata": {
        "colab": {
          "base_uri": "https://localhost:8080/"
        },
        "id": "4e9f4f62",
        "outputId": "52657fa6-e4fd-4c96-a6d6-72c5ace22d34"
      },
      "outputs": [
        {
          "output_type": "stream",
          "name": "stdout",
          "text": [
            "['i', 'me', 'my', 'myself', 'we', 'our', 'ours', 'ourselves', 'you', \"you're\", \"you've\", \"you'll\", \"you'd\", 'your', 'yours', 'yourself', 'yourselves', 'he', 'him', 'his', 'himself', 'she', \"she's\", 'her', 'hers', 'herself', 'it', \"it's\", 'its', 'itself', 'they', 'them', 'their', 'theirs', 'themselves', 'what', 'which', 'who', 'whom', 'this', 'that', \"that'll\", 'these', 'those', 'am', 'is', 'are', 'was', 'were', 'be', 'been', 'being', 'have', 'has', 'had', 'having', 'do', 'does', 'did', 'doing', 'a', 'an', 'the', 'and', 'but', 'if', 'or', 'because', 'as', 'until', 'while', 'of', 'at', 'by', 'for', 'with', 'about', 'against', 'between', 'into', 'through', 'during', 'before', 'after', 'above', 'below', 'to', 'from', 'up', 'down', 'in', 'out', 'on', 'off', 'over', 'under', 'again', 'further', 'then', 'once', 'here', 'there', 'when', 'where', 'why', 'how', 'all', 'any', 'both', 'each', 'few', 'more', 'most', 'other', 'some', 'such', 'no', 'nor', 'not', 'only', 'own', 'same', 'so', 'than', 'too', 'very', 's', 't', 'can', 'will', 'just', 'don', \"don't\", 'should', \"should've\", 'now', 'd', 'll', 'm', 'o', 're', 've', 'y', 'ain', 'aren', \"aren't\", 'couldn', \"couldn't\", 'didn', \"didn't\", 'doesn', \"doesn't\", 'hadn', \"hadn't\", 'hasn', \"hasn't\", 'haven', \"haven't\", 'isn', \"isn't\", 'ma', 'mightn', \"mightn't\", 'mustn', \"mustn't\", 'needn', \"needn't\", 'shan', \"shan't\", 'shouldn', \"shouldn't\", 'wasn', \"wasn't\", 'weren', \"weren't\", 'won', \"won't\", 'wouldn', \"wouldn't\"]\n"
          ]
        }
      ],
      "source": [
        "from nltk.corpus import stopwords\n",
        "stop = stopwords.words('english')\n",
        "print(stop)"
      ],
      "id": "4e9f4f62"
    },
    {
      "cell_type": "code",
      "execution_count": 31,
      "metadata": {
        "id": "57027046-c314-40b1-860a-80ed5b2704e4"
      },
      "outputs": [],
      "source": [
        "stop_words = stopwords.words('english')\n",
        "def remove_stopwords(text):\n",
        "    \"\"\"\n",
        "    Removing stopwords belonging to english language\n",
        "    \n",
        "    \"\"\"\n",
        "    words = [w for w in text if w not in stop_words]\n",
        "    return words\n",
        "\n",
        "\n",
        "text = text.apply(lambda x : remove_stopwords(x))"
      ],
      "id": "57027046-c314-40b1-860a-80ed5b2704e4"
    },
    {
      "cell_type": "code",
      "execution_count": 32,
      "metadata": {
        "colab": {
          "base_uri": "https://localhost:8080/"
        },
        "id": "792cd331-166e-458e-8e18-50abca41d135",
        "outputId": "64bea2a5-3dcf-4433-94a1-549b3309179e"
      },
      "outputs": [
        {
          "output_type": "execute_result",
          "data": {
            "text/plain": [
              "0        [marketing, internwere, weve, created, groundb...\n",
              "1        [customer, service, cloud, video, seconds, wor...\n",
              "2        [commissioning, machinery, assistant, cmavalor...\n",
              "3        [account, executive, washington, dcour, passio...\n",
              "4        [bill, review, managerspotsource, solutions, l...\n",
              "                               ...                        \n",
              "17875    [account, director, distribution, vend, lookin...\n",
              "17876    [payroll, accountantweblinc, ecommerce, platfo...\n",
              "17877    [project, cost, control, staff, engineer, cost...\n",
              "17878    [graphic, designermissingnemsia, studios, look...\n",
              "17879    [web, application, developersvend, looking, aw...\n",
              "Length: 17880, dtype: object"
            ]
          },
          "metadata": {},
          "execution_count": 32
        }
      ],
      "source": [
        "text"
      ],
      "id": "792cd331-166e-458e-8e18-50abca41d135"
    },
    {
      "cell_type": "code",
      "execution_count": 33,
      "metadata": {
        "colab": {
          "base_uri": "https://localhost:8080/"
        },
        "id": "526d7568",
        "outputId": "4b14b704-24bf-4c5a-df7c-48e47991214a"
      },
      "outputs": [
        {
          "output_type": "execute_result",
          "data": {
            "text/plain": [
              "0        [marketing, internwere, weve, created, groundb...\n",
              "1        [customer, service, cloud, video, seconds, wor...\n",
              "2        [commissioning, machinery, assistant, cmavalor...\n",
              "3        [account, executive, washington, dcour, passio...\n",
              "4        [bill, review, managerspotsource, solutions, l...\n",
              "                               ...                        \n",
              "17875    [account, director, distribution, vend, lookin...\n",
              "17876    [payroll, accountantweblinc, ecommerce, platfo...\n",
              "17877    [project, cost, control, staff, engineer, cost...\n",
              "17878    [graphic, designermissingnemsia, studios, look...\n",
              "17879    [web, application, developersvend, looking, aw...\n",
              "Length: 17880, dtype: object"
            ]
          },
          "metadata": {},
          "execution_count": 33
        }
      ],
      "source": [
        "text.apply(lambda x: [item for item in x if item not in stop])"
      ],
      "id": "526d7568"
    },
    {
      "cell_type": "markdown",
      "metadata": {
        "id": "d47430fc-8e07-4f5b-ae2d-f5e380fb2bf0"
      },
      "source": [
        "## Lemmatization"
      ],
      "id": "d47430fc-8e07-4f5b-ae2d-f5e380fb2bf0"
    },
    {
      "cell_type": "code",
      "execution_count": 34,
      "metadata": {
        "colab": {
          "base_uri": "https://localhost:8080/"
        },
        "id": "91ed0ddc-25c6-4865-a033-5b2ef4b06b9c",
        "outputId": "c7ec087c-d32b-4c3b-c05d-a58c837888a7"
      },
      "outputs": [
        {
          "output_type": "stream",
          "name": "stdout",
          "text": [
            "[nltk_data] Downloading package wordnet to /root/nltk_data...\n",
            "[nltk_data]   Package wordnet is already up-to-date!\n"
          ]
        },
        {
          "output_type": "execute_result",
          "data": {
            "text/plain": [
              "True"
            ]
          },
          "metadata": {},
          "execution_count": 34
        }
      ],
      "source": [
        "import nltk\n",
        "nltk.download('wordnet')"
      ],
      "id": "91ed0ddc-25c6-4865-a033-5b2ef4b06b9c"
    },
    {
      "cell_type": "code",
      "execution_count": 35,
      "metadata": {
        "id": "c0eb70b2-07d8-4853-9dbc-70042133955c"
      },
      "outputs": [],
      "source": [
        "new_text = pd.DataFrame(text, columns = ['texts'])"
      ],
      "id": "c0eb70b2-07d8-4853-9dbc-70042133955c"
    },
    {
      "cell_type": "code",
      "execution_count": 36,
      "metadata": {
        "colab": {
          "base_uri": "https://localhost:8080/",
          "height": 423
        },
        "id": "e892db92-3635-41e8-8fbb-363ddec66e9d",
        "outputId": "561e58fd-ca83-442a-8ef6-5f0c2f5cb3ee"
      },
      "outputs": [
        {
          "output_type": "execute_result",
          "data": {
            "text/plain": [
              "                                                   texts\n",
              "0      [marketing, internwere, weve, created, groundb...\n",
              "1      [customer, service, cloud, video, seconds, wor...\n",
              "2      [commissioning, machinery, assistant, cmavalor...\n",
              "3      [account, executive, washington, dcour, passio...\n",
              "4      [bill, review, managerspotsource, solutions, l...\n",
              "...                                                  ...\n",
              "17875  [account, director, distribution, vend, lookin...\n",
              "17876  [payroll, accountantweblinc, ecommerce, platfo...\n",
              "17877  [project, cost, control, staff, engineer, cost...\n",
              "17878  [graphic, designermissingnemsia, studios, look...\n",
              "17879  [web, application, developersvend, looking, aw...\n",
              "\n",
              "[17880 rows x 1 columns]"
            ],
            "text/html": [
              "\n",
              "  <div id=\"df-e1db59d0-8f2f-4e8a-86de-2300848db4cb\">\n",
              "    <div class=\"colab-df-container\">\n",
              "      <div>\n",
              "<style scoped>\n",
              "    .dataframe tbody tr th:only-of-type {\n",
              "        vertical-align: middle;\n",
              "    }\n",
              "\n",
              "    .dataframe tbody tr th {\n",
              "        vertical-align: top;\n",
              "    }\n",
              "\n",
              "    .dataframe thead th {\n",
              "        text-align: right;\n",
              "    }\n",
              "</style>\n",
              "<table border=\"1\" class=\"dataframe\">\n",
              "  <thead>\n",
              "    <tr style=\"text-align: right;\">\n",
              "      <th></th>\n",
              "      <th>texts</th>\n",
              "    </tr>\n",
              "  </thead>\n",
              "  <tbody>\n",
              "    <tr>\n",
              "      <th>0</th>\n",
              "      <td>[marketing, internwere, weve, created, groundb...</td>\n",
              "    </tr>\n",
              "    <tr>\n",
              "      <th>1</th>\n",
              "      <td>[customer, service, cloud, video, seconds, wor...</td>\n",
              "    </tr>\n",
              "    <tr>\n",
              "      <th>2</th>\n",
              "      <td>[commissioning, machinery, assistant, cmavalor...</td>\n",
              "    </tr>\n",
              "    <tr>\n",
              "      <th>3</th>\n",
              "      <td>[account, executive, washington, dcour, passio...</td>\n",
              "    </tr>\n",
              "    <tr>\n",
              "      <th>4</th>\n",
              "      <td>[bill, review, managerspotsource, solutions, l...</td>\n",
              "    </tr>\n",
              "    <tr>\n",
              "      <th>...</th>\n",
              "      <td>...</td>\n",
              "    </tr>\n",
              "    <tr>\n",
              "      <th>17875</th>\n",
              "      <td>[account, director, distribution, vend, lookin...</td>\n",
              "    </tr>\n",
              "    <tr>\n",
              "      <th>17876</th>\n",
              "      <td>[payroll, accountantweblinc, ecommerce, platfo...</td>\n",
              "    </tr>\n",
              "    <tr>\n",
              "      <th>17877</th>\n",
              "      <td>[project, cost, control, staff, engineer, cost...</td>\n",
              "    </tr>\n",
              "    <tr>\n",
              "      <th>17878</th>\n",
              "      <td>[graphic, designermissingnemsia, studios, look...</td>\n",
              "    </tr>\n",
              "    <tr>\n",
              "      <th>17879</th>\n",
              "      <td>[web, application, developersvend, looking, aw...</td>\n",
              "    </tr>\n",
              "  </tbody>\n",
              "</table>\n",
              "<p>17880 rows × 1 columns</p>\n",
              "</div>\n",
              "      <button class=\"colab-df-convert\" onclick=\"convertToInteractive('df-e1db59d0-8f2f-4e8a-86de-2300848db4cb')\"\n",
              "              title=\"Convert this dataframe to an interactive table.\"\n",
              "              style=\"display:none;\">\n",
              "        \n",
              "  <svg xmlns=\"http://www.w3.org/2000/svg\" height=\"24px\"viewBox=\"0 0 24 24\"\n",
              "       width=\"24px\">\n",
              "    <path d=\"M0 0h24v24H0V0z\" fill=\"none\"/>\n",
              "    <path d=\"M18.56 5.44l.94 2.06.94-2.06 2.06-.94-2.06-.94-.94-2.06-.94 2.06-2.06.94zm-11 1L8.5 8.5l.94-2.06 2.06-.94-2.06-.94L8.5 2.5l-.94 2.06-2.06.94zm10 10l.94 2.06.94-2.06 2.06-.94-2.06-.94-.94-2.06-.94 2.06-2.06.94z\"/><path d=\"M17.41 7.96l-1.37-1.37c-.4-.4-.92-.59-1.43-.59-.52 0-1.04.2-1.43.59L10.3 9.45l-7.72 7.72c-.78.78-.78 2.05 0 2.83L4 21.41c.39.39.9.59 1.41.59.51 0 1.02-.2 1.41-.59l7.78-7.78 2.81-2.81c.8-.78.8-2.07 0-2.86zM5.41 20L4 18.59l7.72-7.72 1.47 1.35L5.41 20z\"/>\n",
              "  </svg>\n",
              "      </button>\n",
              "      \n",
              "  <style>\n",
              "    .colab-df-container {\n",
              "      display:flex;\n",
              "      flex-wrap:wrap;\n",
              "      gap: 12px;\n",
              "    }\n",
              "\n",
              "    .colab-df-convert {\n",
              "      background-color: #E8F0FE;\n",
              "      border: none;\n",
              "      border-radius: 50%;\n",
              "      cursor: pointer;\n",
              "      display: none;\n",
              "      fill: #1967D2;\n",
              "      height: 32px;\n",
              "      padding: 0 0 0 0;\n",
              "      width: 32px;\n",
              "    }\n",
              "\n",
              "    .colab-df-convert:hover {\n",
              "      background-color: #E2EBFA;\n",
              "      box-shadow: 0px 1px 2px rgba(60, 64, 67, 0.3), 0px 1px 3px 1px rgba(60, 64, 67, 0.15);\n",
              "      fill: #174EA6;\n",
              "    }\n",
              "\n",
              "    [theme=dark] .colab-df-convert {\n",
              "      background-color: #3B4455;\n",
              "      fill: #D2E3FC;\n",
              "    }\n",
              "\n",
              "    [theme=dark] .colab-df-convert:hover {\n",
              "      background-color: #434B5C;\n",
              "      box-shadow: 0px 1px 3px 1px rgba(0, 0, 0, 0.15);\n",
              "      filter: drop-shadow(0px 1px 2px rgba(0, 0, 0, 0.3));\n",
              "      fill: #FFFFFF;\n",
              "    }\n",
              "  </style>\n",
              "\n",
              "      <script>\n",
              "        const buttonEl =\n",
              "          document.querySelector('#df-e1db59d0-8f2f-4e8a-86de-2300848db4cb button.colab-df-convert');\n",
              "        buttonEl.style.display =\n",
              "          google.colab.kernel.accessAllowed ? 'block' : 'none';\n",
              "\n",
              "        async function convertToInteractive(key) {\n",
              "          const element = document.querySelector('#df-e1db59d0-8f2f-4e8a-86de-2300848db4cb');\n",
              "          const dataTable =\n",
              "            await google.colab.kernel.invokeFunction('convertToInteractive',\n",
              "                                                     [key], {});\n",
              "          if (!dataTable) return;\n",
              "\n",
              "          const docLinkHtml = 'Like what you see? Visit the ' +\n",
              "            '<a target=\"_blank\" href=https://colab.research.google.com/notebooks/data_table.ipynb>data table notebook</a>'\n",
              "            + ' to learn more about interactive tables.';\n",
              "          element.innerHTML = '';\n",
              "          dataTable['output_type'] = 'display_data';\n",
              "          await google.colab.output.renderOutput(dataTable, element);\n",
              "          const docLink = document.createElement('div');\n",
              "          docLink.innerHTML = docLinkHtml;\n",
              "          element.appendChild(docLink);\n",
              "        }\n",
              "      </script>\n",
              "    </div>\n",
              "  </div>\n",
              "  "
            ]
          },
          "metadata": {},
          "execution_count": 36
        }
      ],
      "source": [
        "new_text"
      ],
      "id": "e892db92-3635-41e8-8fbb-363ddec66e9d"
    },
    {
      "cell_type": "code",
      "execution_count": 37,
      "metadata": {
        "id": "30115264-00fa-429c-8024-636a2c89fda2"
      },
      "outputs": [],
      "source": [
        "tokenizer = nltk.tokenize.WhitespaceTokenizer()\n",
        "lemmatizer = nltk.stem.WordNetLemmatizer()\n",
        "\n",
        "def lemmatization(text):\n",
        "    return [lemmatizer.lemmatize(x) for x in text]\n",
        "\n",
        "new_text['text_lemmatized'] = new_text.texts.apply(lemmatization)"
      ],
      "id": "30115264-00fa-429c-8024-636a2c89fda2"
    },
    {
      "cell_type": "code",
      "execution_count": 38,
      "metadata": {
        "colab": {
          "base_uri": "https://localhost:8080/",
          "height": 423
        },
        "id": "a7818e59-46f9-43a3-8441-2061a30f939e",
        "outputId": "d681ebf0-1fbf-4a46-f63b-e43d86a549d3"
      },
      "outputs": [
        {
          "output_type": "execute_result",
          "data": {
            "text/plain": [
              "                                                   texts  \\\n",
              "0      [marketing, internwere, weve, created, groundb...   \n",
              "1      [customer, service, cloud, video, seconds, wor...   \n",
              "2      [commissioning, machinery, assistant, cmavalor...   \n",
              "3      [account, executive, washington, dcour, passio...   \n",
              "4      [bill, review, managerspotsource, solutions, l...   \n",
              "...                                                  ...   \n",
              "17875  [account, director, distribution, vend, lookin...   \n",
              "17876  [payroll, accountantweblinc, ecommerce, platfo...   \n",
              "17877  [project, cost, control, staff, engineer, cost...   \n",
              "17878  [graphic, designermissingnemsia, studios, look...   \n",
              "17879  [web, application, developersvend, looking, aw...   \n",
              "\n",
              "                                         text_lemmatized  \n",
              "0      [marketing, internwere, weve, created, groundb...  \n",
              "1      [customer, service, cloud, video, second, worl...  \n",
              "2      [commissioning, machinery, assistant, cmavalor...  \n",
              "3      [account, executive, washington, dcour, passio...  \n",
              "4      [bill, review, managerspotsource, solution, ll...  \n",
              "...                                                  ...  \n",
              "17875  [account, director, distribution, vend, lookin...  \n",
              "17876  [payroll, accountantweblinc, ecommerce, platfo...  \n",
              "17877  [project, cost, control, staff, engineer, cost...  \n",
              "17878  [graphic, designermissingnemsia, studio, looki...  \n",
              "17879  [web, application, developersvend, looking, aw...  \n",
              "\n",
              "[17880 rows x 2 columns]"
            ],
            "text/html": [
              "\n",
              "  <div id=\"df-e4ea8adc-8423-42a4-8e79-1f2d588c5c0b\">\n",
              "    <div class=\"colab-df-container\">\n",
              "      <div>\n",
              "<style scoped>\n",
              "    .dataframe tbody tr th:only-of-type {\n",
              "        vertical-align: middle;\n",
              "    }\n",
              "\n",
              "    .dataframe tbody tr th {\n",
              "        vertical-align: top;\n",
              "    }\n",
              "\n",
              "    .dataframe thead th {\n",
              "        text-align: right;\n",
              "    }\n",
              "</style>\n",
              "<table border=\"1\" class=\"dataframe\">\n",
              "  <thead>\n",
              "    <tr style=\"text-align: right;\">\n",
              "      <th></th>\n",
              "      <th>texts</th>\n",
              "      <th>text_lemmatized</th>\n",
              "    </tr>\n",
              "  </thead>\n",
              "  <tbody>\n",
              "    <tr>\n",
              "      <th>0</th>\n",
              "      <td>[marketing, internwere, weve, created, groundb...</td>\n",
              "      <td>[marketing, internwere, weve, created, groundb...</td>\n",
              "    </tr>\n",
              "    <tr>\n",
              "      <th>1</th>\n",
              "      <td>[customer, service, cloud, video, seconds, wor...</td>\n",
              "      <td>[customer, service, cloud, video, second, worl...</td>\n",
              "    </tr>\n",
              "    <tr>\n",
              "      <th>2</th>\n",
              "      <td>[commissioning, machinery, assistant, cmavalor...</td>\n",
              "      <td>[commissioning, machinery, assistant, cmavalor...</td>\n",
              "    </tr>\n",
              "    <tr>\n",
              "      <th>3</th>\n",
              "      <td>[account, executive, washington, dcour, passio...</td>\n",
              "      <td>[account, executive, washington, dcour, passio...</td>\n",
              "    </tr>\n",
              "    <tr>\n",
              "      <th>4</th>\n",
              "      <td>[bill, review, managerspotsource, solutions, l...</td>\n",
              "      <td>[bill, review, managerspotsource, solution, ll...</td>\n",
              "    </tr>\n",
              "    <tr>\n",
              "      <th>...</th>\n",
              "      <td>...</td>\n",
              "      <td>...</td>\n",
              "    </tr>\n",
              "    <tr>\n",
              "      <th>17875</th>\n",
              "      <td>[account, director, distribution, vend, lookin...</td>\n",
              "      <td>[account, director, distribution, vend, lookin...</td>\n",
              "    </tr>\n",
              "    <tr>\n",
              "      <th>17876</th>\n",
              "      <td>[payroll, accountantweblinc, ecommerce, platfo...</td>\n",
              "      <td>[payroll, accountantweblinc, ecommerce, platfo...</td>\n",
              "    </tr>\n",
              "    <tr>\n",
              "      <th>17877</th>\n",
              "      <td>[project, cost, control, staff, engineer, cost...</td>\n",
              "      <td>[project, cost, control, staff, engineer, cost...</td>\n",
              "    </tr>\n",
              "    <tr>\n",
              "      <th>17878</th>\n",
              "      <td>[graphic, designermissingnemsia, studios, look...</td>\n",
              "      <td>[graphic, designermissingnemsia, studio, looki...</td>\n",
              "    </tr>\n",
              "    <tr>\n",
              "      <th>17879</th>\n",
              "      <td>[web, application, developersvend, looking, aw...</td>\n",
              "      <td>[web, application, developersvend, looking, aw...</td>\n",
              "    </tr>\n",
              "  </tbody>\n",
              "</table>\n",
              "<p>17880 rows × 2 columns</p>\n",
              "</div>\n",
              "      <button class=\"colab-df-convert\" onclick=\"convertToInteractive('df-e4ea8adc-8423-42a4-8e79-1f2d588c5c0b')\"\n",
              "              title=\"Convert this dataframe to an interactive table.\"\n",
              "              style=\"display:none;\">\n",
              "        \n",
              "  <svg xmlns=\"http://www.w3.org/2000/svg\" height=\"24px\"viewBox=\"0 0 24 24\"\n",
              "       width=\"24px\">\n",
              "    <path d=\"M0 0h24v24H0V0z\" fill=\"none\"/>\n",
              "    <path d=\"M18.56 5.44l.94 2.06.94-2.06 2.06-.94-2.06-.94-.94-2.06-.94 2.06-2.06.94zm-11 1L8.5 8.5l.94-2.06 2.06-.94-2.06-.94L8.5 2.5l-.94 2.06-2.06.94zm10 10l.94 2.06.94-2.06 2.06-.94-2.06-.94-.94-2.06-.94 2.06-2.06.94z\"/><path d=\"M17.41 7.96l-1.37-1.37c-.4-.4-.92-.59-1.43-.59-.52 0-1.04.2-1.43.59L10.3 9.45l-7.72 7.72c-.78.78-.78 2.05 0 2.83L4 21.41c.39.39.9.59 1.41.59.51 0 1.02-.2 1.41-.59l7.78-7.78 2.81-2.81c.8-.78.8-2.07 0-2.86zM5.41 20L4 18.59l7.72-7.72 1.47 1.35L5.41 20z\"/>\n",
              "  </svg>\n",
              "      </button>\n",
              "      \n",
              "  <style>\n",
              "    .colab-df-container {\n",
              "      display:flex;\n",
              "      flex-wrap:wrap;\n",
              "      gap: 12px;\n",
              "    }\n",
              "\n",
              "    .colab-df-convert {\n",
              "      background-color: #E8F0FE;\n",
              "      border: none;\n",
              "      border-radius: 50%;\n",
              "      cursor: pointer;\n",
              "      display: none;\n",
              "      fill: #1967D2;\n",
              "      height: 32px;\n",
              "      padding: 0 0 0 0;\n",
              "      width: 32px;\n",
              "    }\n",
              "\n",
              "    .colab-df-convert:hover {\n",
              "      background-color: #E2EBFA;\n",
              "      box-shadow: 0px 1px 2px rgba(60, 64, 67, 0.3), 0px 1px 3px 1px rgba(60, 64, 67, 0.15);\n",
              "      fill: #174EA6;\n",
              "    }\n",
              "\n",
              "    [theme=dark] .colab-df-convert {\n",
              "      background-color: #3B4455;\n",
              "      fill: #D2E3FC;\n",
              "    }\n",
              "\n",
              "    [theme=dark] .colab-df-convert:hover {\n",
              "      background-color: #434B5C;\n",
              "      box-shadow: 0px 1px 3px 1px rgba(0, 0, 0, 0.15);\n",
              "      filter: drop-shadow(0px 1px 2px rgba(0, 0, 0, 0.3));\n",
              "      fill: #FFFFFF;\n",
              "    }\n",
              "  </style>\n",
              "\n",
              "      <script>\n",
              "        const buttonEl =\n",
              "          document.querySelector('#df-e4ea8adc-8423-42a4-8e79-1f2d588c5c0b button.colab-df-convert');\n",
              "        buttonEl.style.display =\n",
              "          google.colab.kernel.accessAllowed ? 'block' : 'none';\n",
              "\n",
              "        async function convertToInteractive(key) {\n",
              "          const element = document.querySelector('#df-e4ea8adc-8423-42a4-8e79-1f2d588c5c0b');\n",
              "          const dataTable =\n",
              "            await google.colab.kernel.invokeFunction('convertToInteractive',\n",
              "                                                     [key], {});\n",
              "          if (!dataTable) return;\n",
              "\n",
              "          const docLinkHtml = 'Like what you see? Visit the ' +\n",
              "            '<a target=\"_blank\" href=https://colab.research.google.com/notebooks/data_table.ipynb>data table notebook</a>'\n",
              "            + ' to learn more about interactive tables.';\n",
              "          element.innerHTML = '';\n",
              "          dataTable['output_type'] = 'display_data';\n",
              "          await google.colab.output.renderOutput(dataTable, element);\n",
              "          const docLink = document.createElement('div');\n",
              "          docLink.innerHTML = docLinkHtml;\n",
              "          element.appendChild(docLink);\n",
              "        }\n",
              "      </script>\n",
              "    </div>\n",
              "  </div>\n",
              "  "
            ]
          },
          "metadata": {},
          "execution_count": 38
        }
      ],
      "source": [
        "new_text"
      ],
      "id": "a7818e59-46f9-43a3-8441-2061a30f939e"
    },
    {
      "cell_type": "markdown",
      "metadata": {
        "id": "58f0e09d-c7d5-4315-acbf-a09ae5f08732"
      },
      "source": [
        "## Combine Text"
      ],
      "id": "58f0e09d-c7d5-4315-acbf-a09ae5f08732"
    },
    {
      "cell_type": "code",
      "execution_count": 39,
      "metadata": {
        "id": "b6db1644-bfe8-4094-8763-6242a3b91f16"
      },
      "outputs": [],
      "source": [
        "new_text['lemmatize'] = new_text['text_lemmatized'].apply(lambda x: ' '.join(word for word in x))"
      ],
      "id": "b6db1644-bfe8-4094-8763-6242a3b91f16"
    },
    {
      "cell_type": "code",
      "execution_count": 40,
      "metadata": {
        "colab": {
          "base_uri": "https://localhost:8080/",
          "height": 423
        },
        "id": "38ec696b-637f-4692-9d09-62068aa41989",
        "outputId": "2134f5bd-3e63-44e6-a53e-0ab49791f607"
      },
      "outputs": [
        {
          "output_type": "execute_result",
          "data": {
            "text/plain": [
              "                                                   texts  \\\n",
              "0      [marketing, internwere, weve, created, groundb...   \n",
              "1      [customer, service, cloud, video, seconds, wor...   \n",
              "2      [commissioning, machinery, assistant, cmavalor...   \n",
              "3      [account, executive, washington, dcour, passio...   \n",
              "4      [bill, review, managerspotsource, solutions, l...   \n",
              "...                                                  ...   \n",
              "17875  [account, director, distribution, vend, lookin...   \n",
              "17876  [payroll, accountantweblinc, ecommerce, platfo...   \n",
              "17877  [project, cost, control, staff, engineer, cost...   \n",
              "17878  [graphic, designermissingnemsia, studios, look...   \n",
              "17879  [web, application, developersvend, looking, aw...   \n",
              "\n",
              "                                         text_lemmatized  \\\n",
              "0      [marketing, internwere, weve, created, groundb...   \n",
              "1      [customer, service, cloud, video, second, worl...   \n",
              "2      [commissioning, machinery, assistant, cmavalor...   \n",
              "3      [account, executive, washington, dcour, passio...   \n",
              "4      [bill, review, managerspotsource, solution, ll...   \n",
              "...                                                  ...   \n",
              "17875  [account, director, distribution, vend, lookin...   \n",
              "17876  [payroll, accountantweblinc, ecommerce, platfo...   \n",
              "17877  [project, cost, control, staff, engineer, cost...   \n",
              "17878  [graphic, designermissingnemsia, studio, looki...   \n",
              "17879  [web, application, developersvend, looking, aw...   \n",
              "\n",
              "                                               lemmatize  \n",
              "0      marketing internwere weve created groundbreaki...  \n",
              "1      customer service cloud video second world clou...  \n",
              "2      commissioning machinery assistant cmavalor ser...  \n",
              "3      account executive washington dcour passion imp...  \n",
              "4      bill review managerspotsource solution llc glo...  \n",
              "...                                                  ...  \n",
              "17875  account director distribution vend looking awe...  \n",
              "17876  payroll accountantweblinc ecommerce platform s...  \n",
              "17877  project cost control staff engineer cost contr...  \n",
              "17878  graphic designermissingnemsia studio looking e...  \n",
              "17879  web application developersvend looking awesome...  \n",
              "\n",
              "[17880 rows x 3 columns]"
            ],
            "text/html": [
              "\n",
              "  <div id=\"df-51b67a49-e3dd-436a-8480-6993eb2f7431\">\n",
              "    <div class=\"colab-df-container\">\n",
              "      <div>\n",
              "<style scoped>\n",
              "    .dataframe tbody tr th:only-of-type {\n",
              "        vertical-align: middle;\n",
              "    }\n",
              "\n",
              "    .dataframe tbody tr th {\n",
              "        vertical-align: top;\n",
              "    }\n",
              "\n",
              "    .dataframe thead th {\n",
              "        text-align: right;\n",
              "    }\n",
              "</style>\n",
              "<table border=\"1\" class=\"dataframe\">\n",
              "  <thead>\n",
              "    <tr style=\"text-align: right;\">\n",
              "      <th></th>\n",
              "      <th>texts</th>\n",
              "      <th>text_lemmatized</th>\n",
              "      <th>lemmatize</th>\n",
              "    </tr>\n",
              "  </thead>\n",
              "  <tbody>\n",
              "    <tr>\n",
              "      <th>0</th>\n",
              "      <td>[marketing, internwere, weve, created, groundb...</td>\n",
              "      <td>[marketing, internwere, weve, created, groundb...</td>\n",
              "      <td>marketing internwere weve created groundbreaki...</td>\n",
              "    </tr>\n",
              "    <tr>\n",
              "      <th>1</th>\n",
              "      <td>[customer, service, cloud, video, seconds, wor...</td>\n",
              "      <td>[customer, service, cloud, video, second, worl...</td>\n",
              "      <td>customer service cloud video second world clou...</td>\n",
              "    </tr>\n",
              "    <tr>\n",
              "      <th>2</th>\n",
              "      <td>[commissioning, machinery, assistant, cmavalor...</td>\n",
              "      <td>[commissioning, machinery, assistant, cmavalor...</td>\n",
              "      <td>commissioning machinery assistant cmavalor ser...</td>\n",
              "    </tr>\n",
              "    <tr>\n",
              "      <th>3</th>\n",
              "      <td>[account, executive, washington, dcour, passio...</td>\n",
              "      <td>[account, executive, washington, dcour, passio...</td>\n",
              "      <td>account executive washington dcour passion imp...</td>\n",
              "    </tr>\n",
              "    <tr>\n",
              "      <th>4</th>\n",
              "      <td>[bill, review, managerspotsource, solutions, l...</td>\n",
              "      <td>[bill, review, managerspotsource, solution, ll...</td>\n",
              "      <td>bill review managerspotsource solution llc glo...</td>\n",
              "    </tr>\n",
              "    <tr>\n",
              "      <th>...</th>\n",
              "      <td>...</td>\n",
              "      <td>...</td>\n",
              "      <td>...</td>\n",
              "    </tr>\n",
              "    <tr>\n",
              "      <th>17875</th>\n",
              "      <td>[account, director, distribution, vend, lookin...</td>\n",
              "      <td>[account, director, distribution, vend, lookin...</td>\n",
              "      <td>account director distribution vend looking awe...</td>\n",
              "    </tr>\n",
              "    <tr>\n",
              "      <th>17876</th>\n",
              "      <td>[payroll, accountantweblinc, ecommerce, platfo...</td>\n",
              "      <td>[payroll, accountantweblinc, ecommerce, platfo...</td>\n",
              "      <td>payroll accountantweblinc ecommerce platform s...</td>\n",
              "    </tr>\n",
              "    <tr>\n",
              "      <th>17877</th>\n",
              "      <td>[project, cost, control, staff, engineer, cost...</td>\n",
              "      <td>[project, cost, control, staff, engineer, cost...</td>\n",
              "      <td>project cost control staff engineer cost contr...</td>\n",
              "    </tr>\n",
              "    <tr>\n",
              "      <th>17878</th>\n",
              "      <td>[graphic, designermissingnemsia, studios, look...</td>\n",
              "      <td>[graphic, designermissingnemsia, studio, looki...</td>\n",
              "      <td>graphic designermissingnemsia studio looking e...</td>\n",
              "    </tr>\n",
              "    <tr>\n",
              "      <th>17879</th>\n",
              "      <td>[web, application, developersvend, looking, aw...</td>\n",
              "      <td>[web, application, developersvend, looking, aw...</td>\n",
              "      <td>web application developersvend looking awesome...</td>\n",
              "    </tr>\n",
              "  </tbody>\n",
              "</table>\n",
              "<p>17880 rows × 3 columns</p>\n",
              "</div>\n",
              "      <button class=\"colab-df-convert\" onclick=\"convertToInteractive('df-51b67a49-e3dd-436a-8480-6993eb2f7431')\"\n",
              "              title=\"Convert this dataframe to an interactive table.\"\n",
              "              style=\"display:none;\">\n",
              "        \n",
              "  <svg xmlns=\"http://www.w3.org/2000/svg\" height=\"24px\"viewBox=\"0 0 24 24\"\n",
              "       width=\"24px\">\n",
              "    <path d=\"M0 0h24v24H0V0z\" fill=\"none\"/>\n",
              "    <path d=\"M18.56 5.44l.94 2.06.94-2.06 2.06-.94-2.06-.94-.94-2.06-.94 2.06-2.06.94zm-11 1L8.5 8.5l.94-2.06 2.06-.94-2.06-.94L8.5 2.5l-.94 2.06-2.06.94zm10 10l.94 2.06.94-2.06 2.06-.94-2.06-.94-.94-2.06-.94 2.06-2.06.94z\"/><path d=\"M17.41 7.96l-1.37-1.37c-.4-.4-.92-.59-1.43-.59-.52 0-1.04.2-1.43.59L10.3 9.45l-7.72 7.72c-.78.78-.78 2.05 0 2.83L4 21.41c.39.39.9.59 1.41.59.51 0 1.02-.2 1.41-.59l7.78-7.78 2.81-2.81c.8-.78.8-2.07 0-2.86zM5.41 20L4 18.59l7.72-7.72 1.47 1.35L5.41 20z\"/>\n",
              "  </svg>\n",
              "      </button>\n",
              "      \n",
              "  <style>\n",
              "    .colab-df-container {\n",
              "      display:flex;\n",
              "      flex-wrap:wrap;\n",
              "      gap: 12px;\n",
              "    }\n",
              "\n",
              "    .colab-df-convert {\n",
              "      background-color: #E8F0FE;\n",
              "      border: none;\n",
              "      border-radius: 50%;\n",
              "      cursor: pointer;\n",
              "      display: none;\n",
              "      fill: #1967D2;\n",
              "      height: 32px;\n",
              "      padding: 0 0 0 0;\n",
              "      width: 32px;\n",
              "    }\n",
              "\n",
              "    .colab-df-convert:hover {\n",
              "      background-color: #E2EBFA;\n",
              "      box-shadow: 0px 1px 2px rgba(60, 64, 67, 0.3), 0px 1px 3px 1px rgba(60, 64, 67, 0.15);\n",
              "      fill: #174EA6;\n",
              "    }\n",
              "\n",
              "    [theme=dark] .colab-df-convert {\n",
              "      background-color: #3B4455;\n",
              "      fill: #D2E3FC;\n",
              "    }\n",
              "\n",
              "    [theme=dark] .colab-df-convert:hover {\n",
              "      background-color: #434B5C;\n",
              "      box-shadow: 0px 1px 3px 1px rgba(0, 0, 0, 0.15);\n",
              "      filter: drop-shadow(0px 1px 2px rgba(0, 0, 0, 0.3));\n",
              "      fill: #FFFFFF;\n",
              "    }\n",
              "  </style>\n",
              "\n",
              "      <script>\n",
              "        const buttonEl =\n",
              "          document.querySelector('#df-51b67a49-e3dd-436a-8480-6993eb2f7431 button.colab-df-convert');\n",
              "        buttonEl.style.display =\n",
              "          google.colab.kernel.accessAllowed ? 'block' : 'none';\n",
              "\n",
              "        async function convertToInteractive(key) {\n",
              "          const element = document.querySelector('#df-51b67a49-e3dd-436a-8480-6993eb2f7431');\n",
              "          const dataTable =\n",
              "            await google.colab.kernel.invokeFunction('convertToInteractive',\n",
              "                                                     [key], {});\n",
              "          if (!dataTable) return;\n",
              "\n",
              "          const docLinkHtml = 'Like what you see? Visit the ' +\n",
              "            '<a target=\"_blank\" href=https://colab.research.google.com/notebooks/data_table.ipynb>data table notebook</a>'\n",
              "            + ' to learn more about interactive tables.';\n",
              "          element.innerHTML = '';\n",
              "          dataTable['output_type'] = 'display_data';\n",
              "          await google.colab.output.renderOutput(dataTable, element);\n",
              "          const docLink = document.createElement('div');\n",
              "          docLink.innerHTML = docLinkHtml;\n",
              "          element.appendChild(docLink);\n",
              "        }\n",
              "      </script>\n",
              "    </div>\n",
              "  </div>\n",
              "  "
            ]
          },
          "metadata": {},
          "execution_count": 40
        }
      ],
      "source": [
        "new_text"
      ],
      "id": "38ec696b-637f-4692-9d09-62068aa41989"
    },
    {
      "cell_type": "markdown",
      "metadata": {
        "id": "7deea97a-28aa-4fd7-840d-57a1d28c87e6"
      },
      "source": [
        "## Combine Data"
      ],
      "id": "7deea97a-28aa-4fd7-840d-57a1d28c87e6"
    },
    {
      "cell_type": "code",
      "execution_count": 41,
      "metadata": {
        "id": "8aa7f66a-dacb-4fa5-b796-35ba43db955e"
      },
      "outputs": [],
      "source": [
        "new_data = pd.merge(cat_data, new_text[['lemmatize']], left_index=True, right_index=True)"
      ],
      "id": "8aa7f66a-dacb-4fa5-b796-35ba43db955e"
    },
    {
      "cell_type": "code",
      "execution_count": 42,
      "metadata": {
        "id": "17db5fab-04ad-46ce-9d0b-521e59106144"
      },
      "outputs": [],
      "source": [
        "new_data = pd.merge(new_data, data[['fraudulent']], left_index=True, right_index=True)"
      ],
      "id": "17db5fab-04ad-46ce-9d0b-521e59106144"
    },
    {
      "cell_type": "code",
      "execution_count": 43,
      "metadata": {
        "colab": {
          "base_uri": "https://localhost:8080/",
          "height": 0
        },
        "id": "f12d2a50-5602-47d0-9ae1-a1a8e91053b0",
        "outputId": "97775ee6-d80e-470a-8a10-d61274d1d44f"
      },
      "outputs": [
        {
          "output_type": "execute_result",
          "data": {
            "text/plain": [
              "       telecommuting  has_company_logo  has_questions  employment_type  \\\n",
              "0                  0                 1              0                2   \n",
              "1                  0                 1              0                1   \n",
              "2                  0                 1              0                5   \n",
              "3                  0                 1              0                1   \n",
              "4                  0                 1              1                1   \n",
              "...              ...               ...            ...              ...   \n",
              "17875              0                 1              1                1   \n",
              "17876              0                 1              1                1   \n",
              "17877              0                 0              0                1   \n",
              "17878              0                 0              1                0   \n",
              "17879              0                 1              1                1   \n",
              "\n",
              "       required_experience  required_education  industry  function  \\\n",
              "0                        4                  13       131        22   \n",
              "1                        6                  13        75         7   \n",
              "2                        7                  13       131        37   \n",
              "3                        5                   1        22        31   \n",
              "4                        5                   1        51        16   \n",
              "...                    ...                 ...       ...       ...   \n",
              "17875                    5                  13        22        31   \n",
              "17876                    5                   1        61         0   \n",
              "17877                    7                  13       131        37   \n",
              "17878                    6                   6        48         9   \n",
              "17879                    5                  13        22        12   \n",
              "\n",
              "                                               lemmatize  fraudulent  \n",
              "0      marketing internwere weve created groundbreaki...           0  \n",
              "1      customer service cloud video second world clou...           0  \n",
              "2      commissioning machinery assistant cmavalor ser...           0  \n",
              "3      account executive washington dcour passion imp...           0  \n",
              "4      bill review managerspotsource solution llc glo...           0  \n",
              "...                                                  ...         ...  \n",
              "17875  account director distribution vend looking awe...           0  \n",
              "17876  payroll accountantweblinc ecommerce platform s...           0  \n",
              "17877  project cost control staff engineer cost contr...           0  \n",
              "17878  graphic designermissingnemsia studio looking e...           0  \n",
              "17879  web application developersvend looking awesome...           0  \n",
              "\n",
              "[17880 rows x 10 columns]"
            ],
            "text/html": [
              "\n",
              "  <div id=\"df-edb57fad-aefa-4d94-ba2d-117a0caec5b7\">\n",
              "    <div class=\"colab-df-container\">\n",
              "      <div>\n",
              "<style scoped>\n",
              "    .dataframe tbody tr th:only-of-type {\n",
              "        vertical-align: middle;\n",
              "    }\n",
              "\n",
              "    .dataframe tbody tr th {\n",
              "        vertical-align: top;\n",
              "    }\n",
              "\n",
              "    .dataframe thead th {\n",
              "        text-align: right;\n",
              "    }\n",
              "</style>\n",
              "<table border=\"1\" class=\"dataframe\">\n",
              "  <thead>\n",
              "    <tr style=\"text-align: right;\">\n",
              "      <th></th>\n",
              "      <th>telecommuting</th>\n",
              "      <th>has_company_logo</th>\n",
              "      <th>has_questions</th>\n",
              "      <th>employment_type</th>\n",
              "      <th>required_experience</th>\n",
              "      <th>required_education</th>\n",
              "      <th>industry</th>\n",
              "      <th>function</th>\n",
              "      <th>lemmatize</th>\n",
              "      <th>fraudulent</th>\n",
              "    </tr>\n",
              "  </thead>\n",
              "  <tbody>\n",
              "    <tr>\n",
              "      <th>0</th>\n",
              "      <td>0</td>\n",
              "      <td>1</td>\n",
              "      <td>0</td>\n",
              "      <td>2</td>\n",
              "      <td>4</td>\n",
              "      <td>13</td>\n",
              "      <td>131</td>\n",
              "      <td>22</td>\n",
              "      <td>marketing internwere weve created groundbreaki...</td>\n",
              "      <td>0</td>\n",
              "    </tr>\n",
              "    <tr>\n",
              "      <th>1</th>\n",
              "      <td>0</td>\n",
              "      <td>1</td>\n",
              "      <td>0</td>\n",
              "      <td>1</td>\n",
              "      <td>6</td>\n",
              "      <td>13</td>\n",
              "      <td>75</td>\n",
              "      <td>7</td>\n",
              "      <td>customer service cloud video second world clou...</td>\n",
              "      <td>0</td>\n",
              "    </tr>\n",
              "    <tr>\n",
              "      <th>2</th>\n",
              "      <td>0</td>\n",
              "      <td>1</td>\n",
              "      <td>0</td>\n",
              "      <td>5</td>\n",
              "      <td>7</td>\n",
              "      <td>13</td>\n",
              "      <td>131</td>\n",
              "      <td>37</td>\n",
              "      <td>commissioning machinery assistant cmavalor ser...</td>\n",
              "      <td>0</td>\n",
              "    </tr>\n",
              "    <tr>\n",
              "      <th>3</th>\n",
              "      <td>0</td>\n",
              "      <td>1</td>\n",
              "      <td>0</td>\n",
              "      <td>1</td>\n",
              "      <td>5</td>\n",
              "      <td>1</td>\n",
              "      <td>22</td>\n",
              "      <td>31</td>\n",
              "      <td>account executive washington dcour passion imp...</td>\n",
              "      <td>0</td>\n",
              "    </tr>\n",
              "    <tr>\n",
              "      <th>4</th>\n",
              "      <td>0</td>\n",
              "      <td>1</td>\n",
              "      <td>1</td>\n",
              "      <td>1</td>\n",
              "      <td>5</td>\n",
              "      <td>1</td>\n",
              "      <td>51</td>\n",
              "      <td>16</td>\n",
              "      <td>bill review managerspotsource solution llc glo...</td>\n",
              "      <td>0</td>\n",
              "    </tr>\n",
              "    <tr>\n",
              "      <th>...</th>\n",
              "      <td>...</td>\n",
              "      <td>...</td>\n",
              "      <td>...</td>\n",
              "      <td>...</td>\n",
              "      <td>...</td>\n",
              "      <td>...</td>\n",
              "      <td>...</td>\n",
              "      <td>...</td>\n",
              "      <td>...</td>\n",
              "      <td>...</td>\n",
              "    </tr>\n",
              "    <tr>\n",
              "      <th>17875</th>\n",
              "      <td>0</td>\n",
              "      <td>1</td>\n",
              "      <td>1</td>\n",
              "      <td>1</td>\n",
              "      <td>5</td>\n",
              "      <td>13</td>\n",
              "      <td>22</td>\n",
              "      <td>31</td>\n",
              "      <td>account director distribution vend looking awe...</td>\n",
              "      <td>0</td>\n",
              "    </tr>\n",
              "    <tr>\n",
              "      <th>17876</th>\n",
              "      <td>0</td>\n",
              "      <td>1</td>\n",
              "      <td>1</td>\n",
              "      <td>1</td>\n",
              "      <td>5</td>\n",
              "      <td>1</td>\n",
              "      <td>61</td>\n",
              "      <td>0</td>\n",
              "      <td>payroll accountantweblinc ecommerce platform s...</td>\n",
              "      <td>0</td>\n",
              "    </tr>\n",
              "    <tr>\n",
              "      <th>17877</th>\n",
              "      <td>0</td>\n",
              "      <td>0</td>\n",
              "      <td>0</td>\n",
              "      <td>1</td>\n",
              "      <td>7</td>\n",
              "      <td>13</td>\n",
              "      <td>131</td>\n",
              "      <td>37</td>\n",
              "      <td>project cost control staff engineer cost contr...</td>\n",
              "      <td>0</td>\n",
              "    </tr>\n",
              "    <tr>\n",
              "      <th>17878</th>\n",
              "      <td>0</td>\n",
              "      <td>0</td>\n",
              "      <td>1</td>\n",
              "      <td>0</td>\n",
              "      <td>6</td>\n",
              "      <td>6</td>\n",
              "      <td>48</td>\n",
              "      <td>9</td>\n",
              "      <td>graphic designermissingnemsia studio looking e...</td>\n",
              "      <td>0</td>\n",
              "    </tr>\n",
              "    <tr>\n",
              "      <th>17879</th>\n",
              "      <td>0</td>\n",
              "      <td>1</td>\n",
              "      <td>1</td>\n",
              "      <td>1</td>\n",
              "      <td>5</td>\n",
              "      <td>13</td>\n",
              "      <td>22</td>\n",
              "      <td>12</td>\n",
              "      <td>web application developersvend looking awesome...</td>\n",
              "      <td>0</td>\n",
              "    </tr>\n",
              "  </tbody>\n",
              "</table>\n",
              "<p>17880 rows × 10 columns</p>\n",
              "</div>\n",
              "      <button class=\"colab-df-convert\" onclick=\"convertToInteractive('df-edb57fad-aefa-4d94-ba2d-117a0caec5b7')\"\n",
              "              title=\"Convert this dataframe to an interactive table.\"\n",
              "              style=\"display:none;\">\n",
              "        \n",
              "  <svg xmlns=\"http://www.w3.org/2000/svg\" height=\"24px\"viewBox=\"0 0 24 24\"\n",
              "       width=\"24px\">\n",
              "    <path d=\"M0 0h24v24H0V0z\" fill=\"none\"/>\n",
              "    <path d=\"M18.56 5.44l.94 2.06.94-2.06 2.06-.94-2.06-.94-.94-2.06-.94 2.06-2.06.94zm-11 1L8.5 8.5l.94-2.06 2.06-.94-2.06-.94L8.5 2.5l-.94 2.06-2.06.94zm10 10l.94 2.06.94-2.06 2.06-.94-2.06-.94-.94-2.06-.94 2.06-2.06.94z\"/><path d=\"M17.41 7.96l-1.37-1.37c-.4-.4-.92-.59-1.43-.59-.52 0-1.04.2-1.43.59L10.3 9.45l-7.72 7.72c-.78.78-.78 2.05 0 2.83L4 21.41c.39.39.9.59 1.41.59.51 0 1.02-.2 1.41-.59l7.78-7.78 2.81-2.81c.8-.78.8-2.07 0-2.86zM5.41 20L4 18.59l7.72-7.72 1.47 1.35L5.41 20z\"/>\n",
              "  </svg>\n",
              "      </button>\n",
              "      \n",
              "  <style>\n",
              "    .colab-df-container {\n",
              "      display:flex;\n",
              "      flex-wrap:wrap;\n",
              "      gap: 12px;\n",
              "    }\n",
              "\n",
              "    .colab-df-convert {\n",
              "      background-color: #E8F0FE;\n",
              "      border: none;\n",
              "      border-radius: 50%;\n",
              "      cursor: pointer;\n",
              "      display: none;\n",
              "      fill: #1967D2;\n",
              "      height: 32px;\n",
              "      padding: 0 0 0 0;\n",
              "      width: 32px;\n",
              "    }\n",
              "\n",
              "    .colab-df-convert:hover {\n",
              "      background-color: #E2EBFA;\n",
              "      box-shadow: 0px 1px 2px rgba(60, 64, 67, 0.3), 0px 1px 3px 1px rgba(60, 64, 67, 0.15);\n",
              "      fill: #174EA6;\n",
              "    }\n",
              "\n",
              "    [theme=dark] .colab-df-convert {\n",
              "      background-color: #3B4455;\n",
              "      fill: #D2E3FC;\n",
              "    }\n",
              "\n",
              "    [theme=dark] .colab-df-convert:hover {\n",
              "      background-color: #434B5C;\n",
              "      box-shadow: 0px 1px 3px 1px rgba(0, 0, 0, 0.15);\n",
              "      filter: drop-shadow(0px 1px 2px rgba(0, 0, 0, 0.3));\n",
              "      fill: #FFFFFF;\n",
              "    }\n",
              "  </style>\n",
              "\n",
              "      <script>\n",
              "        const buttonEl =\n",
              "          document.querySelector('#df-edb57fad-aefa-4d94-ba2d-117a0caec5b7 button.colab-df-convert');\n",
              "        buttonEl.style.display =\n",
              "          google.colab.kernel.accessAllowed ? 'block' : 'none';\n",
              "\n",
              "        async function convertToInteractive(key) {\n",
              "          const element = document.querySelector('#df-edb57fad-aefa-4d94-ba2d-117a0caec5b7');\n",
              "          const dataTable =\n",
              "            await google.colab.kernel.invokeFunction('convertToInteractive',\n",
              "                                                     [key], {});\n",
              "          if (!dataTable) return;\n",
              "\n",
              "          const docLinkHtml = 'Like what you see? Visit the ' +\n",
              "            '<a target=\"_blank\" href=https://colab.research.google.com/notebooks/data_table.ipynb>data table notebook</a>'\n",
              "            + ' to learn more about interactive tables.';\n",
              "          element.innerHTML = '';\n",
              "          dataTable['output_type'] = 'display_data';\n",
              "          await google.colab.output.renderOutput(dataTable, element);\n",
              "          const docLink = document.createElement('div');\n",
              "          docLink.innerHTML = docLinkHtml;\n",
              "          element.appendChild(docLink);\n",
              "        }\n",
              "      </script>\n",
              "    </div>\n",
              "  </div>\n",
              "  "
            ]
          },
          "metadata": {},
          "execution_count": 43
        }
      ],
      "source": [
        "new_data"
      ],
      "id": "f12d2a50-5602-47d0-9ae1-a1a8e91053b0"
    },
    {
      "cell_type": "code",
      "execution_count": 44,
      "metadata": {
        "id": "oAiTrWL6-Sye"
      },
      "outputs": [],
      "source": [
        "save_data = new_data"
      ],
      "id": "oAiTrWL6-Sye"
    },
    {
      "cell_type": "markdown",
      "metadata": {
        "id": "fac153e9-b24b-4ea9-bd78-ee4d2f168305"
      },
      "source": [
        "## Train Test"
      ],
      "id": "fac153e9-b24b-4ea9-bd78-ee4d2f168305"
    },
    {
      "cell_type": "code",
      "execution_count": 45,
      "metadata": {
        "id": "4107f5dd-9a63-4c16-b310-6126a2c81cf6"
      },
      "outputs": [],
      "source": [
        "X = new_data.iloc[:, :-1]\n",
        "y = new_data.iloc[:, -1]"
      ],
      "id": "4107f5dd-9a63-4c16-b310-6126a2c81cf6"
    },
    {
      "cell_type": "code",
      "execution_count": 46,
      "metadata": {
        "colab": {
          "base_uri": "https://localhost:8080/",
          "height": 423
        },
        "id": "0ee96561-80fa-4319-a9f5-b88b3c62d3db",
        "outputId": "4baa261d-42e6-4828-8744-86427c93ff5f"
      },
      "outputs": [
        {
          "output_type": "execute_result",
          "data": {
            "text/plain": [
              "       telecommuting  has_company_logo  has_questions  employment_type  \\\n",
              "0                  0                 1              0                2   \n",
              "1                  0                 1              0                1   \n",
              "2                  0                 1              0                5   \n",
              "3                  0                 1              0                1   \n",
              "4                  0                 1              1                1   \n",
              "...              ...               ...            ...              ...   \n",
              "17875              0                 1              1                1   \n",
              "17876              0                 1              1                1   \n",
              "17877              0                 0              0                1   \n",
              "17878              0                 0              1                0   \n",
              "17879              0                 1              1                1   \n",
              "\n",
              "       required_experience  required_education  industry  function  \\\n",
              "0                        4                  13       131        22   \n",
              "1                        6                  13        75         7   \n",
              "2                        7                  13       131        37   \n",
              "3                        5                   1        22        31   \n",
              "4                        5                   1        51        16   \n",
              "...                    ...                 ...       ...       ...   \n",
              "17875                    5                  13        22        31   \n",
              "17876                    5                   1        61         0   \n",
              "17877                    7                  13       131        37   \n",
              "17878                    6                   6        48         9   \n",
              "17879                    5                  13        22        12   \n",
              "\n",
              "                                               lemmatize  \n",
              "0      marketing internwere weve created groundbreaki...  \n",
              "1      customer service cloud video second world clou...  \n",
              "2      commissioning machinery assistant cmavalor ser...  \n",
              "3      account executive washington dcour passion imp...  \n",
              "4      bill review managerspotsource solution llc glo...  \n",
              "...                                                  ...  \n",
              "17875  account director distribution vend looking awe...  \n",
              "17876  payroll accountantweblinc ecommerce platform s...  \n",
              "17877  project cost control staff engineer cost contr...  \n",
              "17878  graphic designermissingnemsia studio looking e...  \n",
              "17879  web application developersvend looking awesome...  \n",
              "\n",
              "[17880 rows x 9 columns]"
            ],
            "text/html": [
              "\n",
              "  <div id=\"df-0e824187-a62e-4d8c-ac3b-4c9e0edf9742\">\n",
              "    <div class=\"colab-df-container\">\n",
              "      <div>\n",
              "<style scoped>\n",
              "    .dataframe tbody tr th:only-of-type {\n",
              "        vertical-align: middle;\n",
              "    }\n",
              "\n",
              "    .dataframe tbody tr th {\n",
              "        vertical-align: top;\n",
              "    }\n",
              "\n",
              "    .dataframe thead th {\n",
              "        text-align: right;\n",
              "    }\n",
              "</style>\n",
              "<table border=\"1\" class=\"dataframe\">\n",
              "  <thead>\n",
              "    <tr style=\"text-align: right;\">\n",
              "      <th></th>\n",
              "      <th>telecommuting</th>\n",
              "      <th>has_company_logo</th>\n",
              "      <th>has_questions</th>\n",
              "      <th>employment_type</th>\n",
              "      <th>required_experience</th>\n",
              "      <th>required_education</th>\n",
              "      <th>industry</th>\n",
              "      <th>function</th>\n",
              "      <th>lemmatize</th>\n",
              "    </tr>\n",
              "  </thead>\n",
              "  <tbody>\n",
              "    <tr>\n",
              "      <th>0</th>\n",
              "      <td>0</td>\n",
              "      <td>1</td>\n",
              "      <td>0</td>\n",
              "      <td>2</td>\n",
              "      <td>4</td>\n",
              "      <td>13</td>\n",
              "      <td>131</td>\n",
              "      <td>22</td>\n",
              "      <td>marketing internwere weve created groundbreaki...</td>\n",
              "    </tr>\n",
              "    <tr>\n",
              "      <th>1</th>\n",
              "      <td>0</td>\n",
              "      <td>1</td>\n",
              "      <td>0</td>\n",
              "      <td>1</td>\n",
              "      <td>6</td>\n",
              "      <td>13</td>\n",
              "      <td>75</td>\n",
              "      <td>7</td>\n",
              "      <td>customer service cloud video second world clou...</td>\n",
              "    </tr>\n",
              "    <tr>\n",
              "      <th>2</th>\n",
              "      <td>0</td>\n",
              "      <td>1</td>\n",
              "      <td>0</td>\n",
              "      <td>5</td>\n",
              "      <td>7</td>\n",
              "      <td>13</td>\n",
              "      <td>131</td>\n",
              "      <td>37</td>\n",
              "      <td>commissioning machinery assistant cmavalor ser...</td>\n",
              "    </tr>\n",
              "    <tr>\n",
              "      <th>3</th>\n",
              "      <td>0</td>\n",
              "      <td>1</td>\n",
              "      <td>0</td>\n",
              "      <td>1</td>\n",
              "      <td>5</td>\n",
              "      <td>1</td>\n",
              "      <td>22</td>\n",
              "      <td>31</td>\n",
              "      <td>account executive washington dcour passion imp...</td>\n",
              "    </tr>\n",
              "    <tr>\n",
              "      <th>4</th>\n",
              "      <td>0</td>\n",
              "      <td>1</td>\n",
              "      <td>1</td>\n",
              "      <td>1</td>\n",
              "      <td>5</td>\n",
              "      <td>1</td>\n",
              "      <td>51</td>\n",
              "      <td>16</td>\n",
              "      <td>bill review managerspotsource solution llc glo...</td>\n",
              "    </tr>\n",
              "    <tr>\n",
              "      <th>...</th>\n",
              "      <td>...</td>\n",
              "      <td>...</td>\n",
              "      <td>...</td>\n",
              "      <td>...</td>\n",
              "      <td>...</td>\n",
              "      <td>...</td>\n",
              "      <td>...</td>\n",
              "      <td>...</td>\n",
              "      <td>...</td>\n",
              "    </tr>\n",
              "    <tr>\n",
              "      <th>17875</th>\n",
              "      <td>0</td>\n",
              "      <td>1</td>\n",
              "      <td>1</td>\n",
              "      <td>1</td>\n",
              "      <td>5</td>\n",
              "      <td>13</td>\n",
              "      <td>22</td>\n",
              "      <td>31</td>\n",
              "      <td>account director distribution vend looking awe...</td>\n",
              "    </tr>\n",
              "    <tr>\n",
              "      <th>17876</th>\n",
              "      <td>0</td>\n",
              "      <td>1</td>\n",
              "      <td>1</td>\n",
              "      <td>1</td>\n",
              "      <td>5</td>\n",
              "      <td>1</td>\n",
              "      <td>61</td>\n",
              "      <td>0</td>\n",
              "      <td>payroll accountantweblinc ecommerce platform s...</td>\n",
              "    </tr>\n",
              "    <tr>\n",
              "      <th>17877</th>\n",
              "      <td>0</td>\n",
              "      <td>0</td>\n",
              "      <td>0</td>\n",
              "      <td>1</td>\n",
              "      <td>7</td>\n",
              "      <td>13</td>\n",
              "      <td>131</td>\n",
              "      <td>37</td>\n",
              "      <td>project cost control staff engineer cost contr...</td>\n",
              "    </tr>\n",
              "    <tr>\n",
              "      <th>17878</th>\n",
              "      <td>0</td>\n",
              "      <td>0</td>\n",
              "      <td>1</td>\n",
              "      <td>0</td>\n",
              "      <td>6</td>\n",
              "      <td>6</td>\n",
              "      <td>48</td>\n",
              "      <td>9</td>\n",
              "      <td>graphic designermissingnemsia studio looking e...</td>\n",
              "    </tr>\n",
              "    <tr>\n",
              "      <th>17879</th>\n",
              "      <td>0</td>\n",
              "      <td>1</td>\n",
              "      <td>1</td>\n",
              "      <td>1</td>\n",
              "      <td>5</td>\n",
              "      <td>13</td>\n",
              "      <td>22</td>\n",
              "      <td>12</td>\n",
              "      <td>web application developersvend looking awesome...</td>\n",
              "    </tr>\n",
              "  </tbody>\n",
              "</table>\n",
              "<p>17880 rows × 9 columns</p>\n",
              "</div>\n",
              "      <button class=\"colab-df-convert\" onclick=\"convertToInteractive('df-0e824187-a62e-4d8c-ac3b-4c9e0edf9742')\"\n",
              "              title=\"Convert this dataframe to an interactive table.\"\n",
              "              style=\"display:none;\">\n",
              "        \n",
              "  <svg xmlns=\"http://www.w3.org/2000/svg\" height=\"24px\"viewBox=\"0 0 24 24\"\n",
              "       width=\"24px\">\n",
              "    <path d=\"M0 0h24v24H0V0z\" fill=\"none\"/>\n",
              "    <path d=\"M18.56 5.44l.94 2.06.94-2.06 2.06-.94-2.06-.94-.94-2.06-.94 2.06-2.06.94zm-11 1L8.5 8.5l.94-2.06 2.06-.94-2.06-.94L8.5 2.5l-.94 2.06-2.06.94zm10 10l.94 2.06.94-2.06 2.06-.94-2.06-.94-.94-2.06-.94 2.06-2.06.94z\"/><path d=\"M17.41 7.96l-1.37-1.37c-.4-.4-.92-.59-1.43-.59-.52 0-1.04.2-1.43.59L10.3 9.45l-7.72 7.72c-.78.78-.78 2.05 0 2.83L4 21.41c.39.39.9.59 1.41.59.51 0 1.02-.2 1.41-.59l7.78-7.78 2.81-2.81c.8-.78.8-2.07 0-2.86zM5.41 20L4 18.59l7.72-7.72 1.47 1.35L5.41 20z\"/>\n",
              "  </svg>\n",
              "      </button>\n",
              "      \n",
              "  <style>\n",
              "    .colab-df-container {\n",
              "      display:flex;\n",
              "      flex-wrap:wrap;\n",
              "      gap: 12px;\n",
              "    }\n",
              "\n",
              "    .colab-df-convert {\n",
              "      background-color: #E8F0FE;\n",
              "      border: none;\n",
              "      border-radius: 50%;\n",
              "      cursor: pointer;\n",
              "      display: none;\n",
              "      fill: #1967D2;\n",
              "      height: 32px;\n",
              "      padding: 0 0 0 0;\n",
              "      width: 32px;\n",
              "    }\n",
              "\n",
              "    .colab-df-convert:hover {\n",
              "      background-color: #E2EBFA;\n",
              "      box-shadow: 0px 1px 2px rgba(60, 64, 67, 0.3), 0px 1px 3px 1px rgba(60, 64, 67, 0.15);\n",
              "      fill: #174EA6;\n",
              "    }\n",
              "\n",
              "    [theme=dark] .colab-df-convert {\n",
              "      background-color: #3B4455;\n",
              "      fill: #D2E3FC;\n",
              "    }\n",
              "\n",
              "    [theme=dark] .colab-df-convert:hover {\n",
              "      background-color: #434B5C;\n",
              "      box-shadow: 0px 1px 3px 1px rgba(0, 0, 0, 0.15);\n",
              "      filter: drop-shadow(0px 1px 2px rgba(0, 0, 0, 0.3));\n",
              "      fill: #FFFFFF;\n",
              "    }\n",
              "  </style>\n",
              "\n",
              "      <script>\n",
              "        const buttonEl =\n",
              "          document.querySelector('#df-0e824187-a62e-4d8c-ac3b-4c9e0edf9742 button.colab-df-convert');\n",
              "        buttonEl.style.display =\n",
              "          google.colab.kernel.accessAllowed ? 'block' : 'none';\n",
              "\n",
              "        async function convertToInteractive(key) {\n",
              "          const element = document.querySelector('#df-0e824187-a62e-4d8c-ac3b-4c9e0edf9742');\n",
              "          const dataTable =\n",
              "            await google.colab.kernel.invokeFunction('convertToInteractive',\n",
              "                                                     [key], {});\n",
              "          if (!dataTable) return;\n",
              "\n",
              "          const docLinkHtml = 'Like what you see? Visit the ' +\n",
              "            '<a target=\"_blank\" href=https://colab.research.google.com/notebooks/data_table.ipynb>data table notebook</a>'\n",
              "            + ' to learn more about interactive tables.';\n",
              "          element.innerHTML = '';\n",
              "          dataTable['output_type'] = 'display_data';\n",
              "          await google.colab.output.renderOutput(dataTable, element);\n",
              "          const docLink = document.createElement('div');\n",
              "          docLink.innerHTML = docLinkHtml;\n",
              "          element.appendChild(docLink);\n",
              "        }\n",
              "      </script>\n",
              "    </div>\n",
              "  </div>\n",
              "  "
            ]
          },
          "metadata": {},
          "execution_count": 46
        }
      ],
      "source": [
        "X"
      ],
      "id": "0ee96561-80fa-4319-a9f5-b88b3c62d3db"
    },
    {
      "cell_type": "code",
      "execution_count": 47,
      "metadata": {
        "id": "19c0a378-3161-4d0c-921a-053ff71d1031"
      },
      "outputs": [],
      "source": [
        "#z_train"
      ],
      "id": "19c0a378-3161-4d0c-921a-053ff71d1031"
    },
    {
      "cell_type": "markdown",
      "metadata": {
        "id": "-xN3xXpJkOdq"
      },
      "source": [
        "## Unrar"
      ],
      "id": "-xN3xXpJkOdq"
    },
    {
      "cell_type": "code",
      "execution_count": 48,
      "metadata": {
        "id": "t_rXgKEQj03p"
      },
      "outputs": [],
      "source": [
        "#!unrar x \"glove.6B.200d.rar\" \"/content/drive/Shareddrives/Data 245 Project/Project Code/\""
      ],
      "id": "t_rXgKEQj03p"
    },
    {
      "cell_type": "code",
      "execution_count": 49,
      "metadata": {
        "id": "4ec68b14-cbe7-4ebb-800e-0cef1a280d83"
      },
      "outputs": [],
      "source": [
        "embeddings_index = {}\n",
        "f = open('glove.6B.200d.txt', encoding=\"utf8\")\n",
        "for line in f:\n",
        "    values = line.split(' ')\n",
        "    word = values[0] ## The first entry is the word\n",
        "    coefs = np.asarray(values[1:], dtype='float32') ## These are the vectors representing the embedding for the word\n",
        "    embeddings_index[word] = coefs\n",
        "f.close()"
      ],
      "id": "4ec68b14-cbe7-4ebb-800e-0cef1a280d83"
    },
    {
      "cell_type": "code",
      "execution_count": 50,
      "metadata": {
        "colab": {
          "base_uri": "https://localhost:8080/"
        },
        "id": "4ed6ddf3-2764-4a04-81fd-d271e15b55f4",
        "outputId": "c3333a3c-00f7-4803-9c54-37d7a78f27a8"
      },
      "outputs": [
        {
          "output_type": "stream",
          "name": "stdout",
          "text": [
            "Found 400000 word vectors.\n"
          ]
        }
      ],
      "source": [
        "print('Found %s word vectors.' % len(embeddings_index))"
      ],
      "id": "4ed6ddf3-2764-4a04-81fd-d271e15b55f4"
    },
    {
      "cell_type": "code",
      "execution_count": 51,
      "metadata": {
        "id": "747242b1-e335-4222-bf3d-a9b9152fc5ee"
      },
      "outputs": [],
      "source": [
        "glove_words =  set(embeddings_index.keys())\n",
        "\n",
        "def convert_sen_to_vec(sentence):\n",
        "    vector = np.zeros(300) # as word vectors are of zero length\n",
        "    cnt_words =0; # num of words with a valid vector in the sentence\n",
        "    for word in sentence.split():\n",
        "        if word in glove_words:\n",
        "            vector += embeddings_index[word]\n",
        "            cnt_words += 1\n",
        "    if cnt_words != 0:\n",
        "        vector /= cnt_words\n",
        "    return vector"
      ],
      "id": "747242b1-e335-4222-bf3d-a9b9152fc5ee"
    },
    {
      "cell_type": "code",
      "execution_count": 52,
      "metadata": {
        "id": "616e3bab-0399-4e49-8870-b3147c33f89a"
      },
      "outputs": [],
      "source": [
        "def sent2vec(s):\n",
        "    words = str(s).lower()\n",
        "    words = word_tokenize(words)\n",
        "    words = [w for w in words if not w in stop_words]\n",
        "    words = [w for w in words if w.isalpha()]\n",
        "    M = []\n",
        "    for w in words:\n",
        "        try:\n",
        "            M.append(embeddings_index[w])\n",
        "        except:\n",
        "            continue\n",
        "    M = np.array(M)\n",
        "    v = M.sum(axis=0)\n",
        "    if type(v) != np.ndarray:\n",
        "        return np.zeros(200)\n",
        "    return v / np.sqrt((v ** 2).sum())"
      ],
      "id": "616e3bab-0399-4e49-8870-b3147c33f89a"
    },
    {
      "cell_type": "code",
      "execution_count": 53,
      "metadata": {
        "id": "b9438889-7212-4d5b-bf21-717fc7f1125f"
      },
      "outputs": [],
      "source": [
        "converted_data = []\n",
        "\n",
        "for i in range(0, new_data.shape[0]):\n",
        "    converted_data.append(sent2vec(new_data['lemmatize'][i]))"
      ],
      "id": "b9438889-7212-4d5b-bf21-717fc7f1125f"
    },
    {
      "cell_type": "code",
      "execution_count": 54,
      "metadata": {
        "id": "758ed4f8-965b-494e-97f2-fc35f2b5e91b"
      },
      "outputs": [],
      "source": [
        "_1 = pd.DataFrame(converted_data)"
      ],
      "id": "758ed4f8-965b-494e-97f2-fc35f2b5e91b"
    },
    {
      "cell_type": "code",
      "execution_count": 55,
      "metadata": {
        "id": "6e53eb99-42b2-4eb6-adfb-39a5d579c0ad"
      },
      "outputs": [],
      "source": [
        "new_data = new_data.drop(columns=['lemmatize'])"
      ],
      "id": "6e53eb99-42b2-4eb6-adfb-39a5d579c0ad"
    },
    {
      "cell_type": "code",
      "execution_count": 56,
      "metadata": {
        "colab": {
          "base_uri": "https://localhost:8080/",
          "height": 423
        },
        "id": "9DX1sm0_ndZ1",
        "outputId": "53b03ed0-2326-4ef9-87ec-1edd32dd696b"
      },
      "outputs": [
        {
          "output_type": "execute_result",
          "data": {
            "text/plain": [
              "       telecommuting  has_company_logo  has_questions  employment_type  \\\n",
              "0                  0                 1              0                2   \n",
              "1                  0                 1              0                1   \n",
              "2                  0                 1              0                5   \n",
              "3                  0                 1              0                1   \n",
              "4                  0                 1              1                1   \n",
              "...              ...               ...            ...              ...   \n",
              "17875              0                 1              1                1   \n",
              "17876              0                 1              1                1   \n",
              "17877              0                 0              0                1   \n",
              "17878              0                 0              1                0   \n",
              "17879              0                 1              1                1   \n",
              "\n",
              "       required_experience  required_education  industry  function  fraudulent  \n",
              "0                        4                  13       131        22           0  \n",
              "1                        6                  13        75         7           0  \n",
              "2                        7                  13       131        37           0  \n",
              "3                        5                   1        22        31           0  \n",
              "4                        5                   1        51        16           0  \n",
              "...                    ...                 ...       ...       ...         ...  \n",
              "17875                    5                  13        22        31           0  \n",
              "17876                    5                   1        61         0           0  \n",
              "17877                    7                  13       131        37           0  \n",
              "17878                    6                   6        48         9           0  \n",
              "17879                    5                  13        22        12           0  \n",
              "\n",
              "[17880 rows x 9 columns]"
            ],
            "text/html": [
              "\n",
              "  <div id=\"df-e8294164-5a4c-4f2d-ab14-4eabb3727133\">\n",
              "    <div class=\"colab-df-container\">\n",
              "      <div>\n",
              "<style scoped>\n",
              "    .dataframe tbody tr th:only-of-type {\n",
              "        vertical-align: middle;\n",
              "    }\n",
              "\n",
              "    .dataframe tbody tr th {\n",
              "        vertical-align: top;\n",
              "    }\n",
              "\n",
              "    .dataframe thead th {\n",
              "        text-align: right;\n",
              "    }\n",
              "</style>\n",
              "<table border=\"1\" class=\"dataframe\">\n",
              "  <thead>\n",
              "    <tr style=\"text-align: right;\">\n",
              "      <th></th>\n",
              "      <th>telecommuting</th>\n",
              "      <th>has_company_logo</th>\n",
              "      <th>has_questions</th>\n",
              "      <th>employment_type</th>\n",
              "      <th>required_experience</th>\n",
              "      <th>required_education</th>\n",
              "      <th>industry</th>\n",
              "      <th>function</th>\n",
              "      <th>fraudulent</th>\n",
              "    </tr>\n",
              "  </thead>\n",
              "  <tbody>\n",
              "    <tr>\n",
              "      <th>0</th>\n",
              "      <td>0</td>\n",
              "      <td>1</td>\n",
              "      <td>0</td>\n",
              "      <td>2</td>\n",
              "      <td>4</td>\n",
              "      <td>13</td>\n",
              "      <td>131</td>\n",
              "      <td>22</td>\n",
              "      <td>0</td>\n",
              "    </tr>\n",
              "    <tr>\n",
              "      <th>1</th>\n",
              "      <td>0</td>\n",
              "      <td>1</td>\n",
              "      <td>0</td>\n",
              "      <td>1</td>\n",
              "      <td>6</td>\n",
              "      <td>13</td>\n",
              "      <td>75</td>\n",
              "      <td>7</td>\n",
              "      <td>0</td>\n",
              "    </tr>\n",
              "    <tr>\n",
              "      <th>2</th>\n",
              "      <td>0</td>\n",
              "      <td>1</td>\n",
              "      <td>0</td>\n",
              "      <td>5</td>\n",
              "      <td>7</td>\n",
              "      <td>13</td>\n",
              "      <td>131</td>\n",
              "      <td>37</td>\n",
              "      <td>0</td>\n",
              "    </tr>\n",
              "    <tr>\n",
              "      <th>3</th>\n",
              "      <td>0</td>\n",
              "      <td>1</td>\n",
              "      <td>0</td>\n",
              "      <td>1</td>\n",
              "      <td>5</td>\n",
              "      <td>1</td>\n",
              "      <td>22</td>\n",
              "      <td>31</td>\n",
              "      <td>0</td>\n",
              "    </tr>\n",
              "    <tr>\n",
              "      <th>4</th>\n",
              "      <td>0</td>\n",
              "      <td>1</td>\n",
              "      <td>1</td>\n",
              "      <td>1</td>\n",
              "      <td>5</td>\n",
              "      <td>1</td>\n",
              "      <td>51</td>\n",
              "      <td>16</td>\n",
              "      <td>0</td>\n",
              "    </tr>\n",
              "    <tr>\n",
              "      <th>...</th>\n",
              "      <td>...</td>\n",
              "      <td>...</td>\n",
              "      <td>...</td>\n",
              "      <td>...</td>\n",
              "      <td>...</td>\n",
              "      <td>...</td>\n",
              "      <td>...</td>\n",
              "      <td>...</td>\n",
              "      <td>...</td>\n",
              "    </tr>\n",
              "    <tr>\n",
              "      <th>17875</th>\n",
              "      <td>0</td>\n",
              "      <td>1</td>\n",
              "      <td>1</td>\n",
              "      <td>1</td>\n",
              "      <td>5</td>\n",
              "      <td>13</td>\n",
              "      <td>22</td>\n",
              "      <td>31</td>\n",
              "      <td>0</td>\n",
              "    </tr>\n",
              "    <tr>\n",
              "      <th>17876</th>\n",
              "      <td>0</td>\n",
              "      <td>1</td>\n",
              "      <td>1</td>\n",
              "      <td>1</td>\n",
              "      <td>5</td>\n",
              "      <td>1</td>\n",
              "      <td>61</td>\n",
              "      <td>0</td>\n",
              "      <td>0</td>\n",
              "    </tr>\n",
              "    <tr>\n",
              "      <th>17877</th>\n",
              "      <td>0</td>\n",
              "      <td>0</td>\n",
              "      <td>0</td>\n",
              "      <td>1</td>\n",
              "      <td>7</td>\n",
              "      <td>13</td>\n",
              "      <td>131</td>\n",
              "      <td>37</td>\n",
              "      <td>0</td>\n",
              "    </tr>\n",
              "    <tr>\n",
              "      <th>17878</th>\n",
              "      <td>0</td>\n",
              "      <td>0</td>\n",
              "      <td>1</td>\n",
              "      <td>0</td>\n",
              "      <td>6</td>\n",
              "      <td>6</td>\n",
              "      <td>48</td>\n",
              "      <td>9</td>\n",
              "      <td>0</td>\n",
              "    </tr>\n",
              "    <tr>\n",
              "      <th>17879</th>\n",
              "      <td>0</td>\n",
              "      <td>1</td>\n",
              "      <td>1</td>\n",
              "      <td>1</td>\n",
              "      <td>5</td>\n",
              "      <td>13</td>\n",
              "      <td>22</td>\n",
              "      <td>12</td>\n",
              "      <td>0</td>\n",
              "    </tr>\n",
              "  </tbody>\n",
              "</table>\n",
              "<p>17880 rows × 9 columns</p>\n",
              "</div>\n",
              "      <button class=\"colab-df-convert\" onclick=\"convertToInteractive('df-e8294164-5a4c-4f2d-ab14-4eabb3727133')\"\n",
              "              title=\"Convert this dataframe to an interactive table.\"\n",
              "              style=\"display:none;\">\n",
              "        \n",
              "  <svg xmlns=\"http://www.w3.org/2000/svg\" height=\"24px\"viewBox=\"0 0 24 24\"\n",
              "       width=\"24px\">\n",
              "    <path d=\"M0 0h24v24H0V0z\" fill=\"none\"/>\n",
              "    <path d=\"M18.56 5.44l.94 2.06.94-2.06 2.06-.94-2.06-.94-.94-2.06-.94 2.06-2.06.94zm-11 1L8.5 8.5l.94-2.06 2.06-.94-2.06-.94L8.5 2.5l-.94 2.06-2.06.94zm10 10l.94 2.06.94-2.06 2.06-.94-2.06-.94-.94-2.06-.94 2.06-2.06.94z\"/><path d=\"M17.41 7.96l-1.37-1.37c-.4-.4-.92-.59-1.43-.59-.52 0-1.04.2-1.43.59L10.3 9.45l-7.72 7.72c-.78.78-.78 2.05 0 2.83L4 21.41c.39.39.9.59 1.41.59.51 0 1.02-.2 1.41-.59l7.78-7.78 2.81-2.81c.8-.78.8-2.07 0-2.86zM5.41 20L4 18.59l7.72-7.72 1.47 1.35L5.41 20z\"/>\n",
              "  </svg>\n",
              "      </button>\n",
              "      \n",
              "  <style>\n",
              "    .colab-df-container {\n",
              "      display:flex;\n",
              "      flex-wrap:wrap;\n",
              "      gap: 12px;\n",
              "    }\n",
              "\n",
              "    .colab-df-convert {\n",
              "      background-color: #E8F0FE;\n",
              "      border: none;\n",
              "      border-radius: 50%;\n",
              "      cursor: pointer;\n",
              "      display: none;\n",
              "      fill: #1967D2;\n",
              "      height: 32px;\n",
              "      padding: 0 0 0 0;\n",
              "      width: 32px;\n",
              "    }\n",
              "\n",
              "    .colab-df-convert:hover {\n",
              "      background-color: #E2EBFA;\n",
              "      box-shadow: 0px 1px 2px rgba(60, 64, 67, 0.3), 0px 1px 3px 1px rgba(60, 64, 67, 0.15);\n",
              "      fill: #174EA6;\n",
              "    }\n",
              "\n",
              "    [theme=dark] .colab-df-convert {\n",
              "      background-color: #3B4455;\n",
              "      fill: #D2E3FC;\n",
              "    }\n",
              "\n",
              "    [theme=dark] .colab-df-convert:hover {\n",
              "      background-color: #434B5C;\n",
              "      box-shadow: 0px 1px 3px 1px rgba(0, 0, 0, 0.15);\n",
              "      filter: drop-shadow(0px 1px 2px rgba(0, 0, 0, 0.3));\n",
              "      fill: #FFFFFF;\n",
              "    }\n",
              "  </style>\n",
              "\n",
              "      <script>\n",
              "        const buttonEl =\n",
              "          document.querySelector('#df-e8294164-5a4c-4f2d-ab14-4eabb3727133 button.colab-df-convert');\n",
              "        buttonEl.style.display =\n",
              "          google.colab.kernel.accessAllowed ? 'block' : 'none';\n",
              "\n",
              "        async function convertToInteractive(key) {\n",
              "          const element = document.querySelector('#df-e8294164-5a4c-4f2d-ab14-4eabb3727133');\n",
              "          const dataTable =\n",
              "            await google.colab.kernel.invokeFunction('convertToInteractive',\n",
              "                                                     [key], {});\n",
              "          if (!dataTable) return;\n",
              "\n",
              "          const docLinkHtml = 'Like what you see? Visit the ' +\n",
              "            '<a target=\"_blank\" href=https://colab.research.google.com/notebooks/data_table.ipynb>data table notebook</a>'\n",
              "            + ' to learn more about interactive tables.';\n",
              "          element.innerHTML = '';\n",
              "          dataTable['output_type'] = 'display_data';\n",
              "          await google.colab.output.renderOutput(dataTable, element);\n",
              "          const docLink = document.createElement('div');\n",
              "          docLink.innerHTML = docLinkHtml;\n",
              "          element.appendChild(docLink);\n",
              "        }\n",
              "      </script>\n",
              "    </div>\n",
              "  </div>\n",
              "  "
            ]
          },
          "metadata": {},
          "execution_count": 56
        }
      ],
      "source": [
        "new_data"
      ],
      "id": "9DX1sm0_ndZ1"
    },
    {
      "cell_type": "code",
      "execution_count": 57,
      "metadata": {
        "id": "MjjyTtiSE5qL"
      },
      "outputs": [],
      "source": [
        "main_data = pd.concat([_1,new_data], axis=1)"
      ],
      "id": "MjjyTtiSE5qL"
    },
    {
      "cell_type": "code",
      "execution_count": 58,
      "metadata": {
        "colab": {
          "base_uri": "https://localhost:8080/",
          "height": 487
        },
        "id": "beufmcYKE8j9",
        "outputId": "be3969f5-ecc1-4521-f012-1703afa50a09"
      },
      "outputs": [
        {
          "output_type": "execute_result",
          "data": {
            "text/plain": [
              "              0         1         2         3         4         5         6  \\\n",
              "0     -0.002061  0.066000 -0.017966 -0.061503  0.030577 -0.019662 -0.085162   \n",
              "1      0.028571  0.063619 -0.053331 -0.056595  0.022424  0.000128 -0.069555   \n",
              "2      0.031692  0.078740  0.024006 -0.062013  0.007968 -0.018392 -0.071365   \n",
              "3      0.040483  0.059467  0.008781 -0.013202  0.032882 -0.009149 -0.084195   \n",
              "4      0.036627  0.049534  0.018203 -0.034942  0.029900 -0.005607 -0.078676   \n",
              "...         ...       ...       ...       ...       ...       ...       ...   \n",
              "17875  0.052695  0.037381 -0.032322 -0.042386  0.017173 -0.008292 -0.074659   \n",
              "17876  0.051455  0.064098 -0.015834 -0.028895  0.040883 -0.026099 -0.067135   \n",
              "17877  0.036313  0.027983  0.022579 -0.028348  0.046630 -0.006606 -0.085808   \n",
              "17878  0.023673  0.069232 -0.036682 -0.078467  0.079021 -0.016263 -0.117926   \n",
              "17879  0.056539  0.054882 -0.041412 -0.053222  0.041028 -0.004214 -0.080467   \n",
              "\n",
              "              7         8         9  ...       199  telecommuting  \\\n",
              "0      0.000982 -0.030580  0.030815  ...  0.015658              0   \n",
              "1      0.009650  0.013362  0.031480  ...  0.016425              0   \n",
              "2      0.035503  0.021990  0.008586  ... -0.001151              0   \n",
              "3      0.038128  0.002978  0.056617  ...  0.017022              0   \n",
              "4      0.016035  0.003705  0.035780  ...  0.006174              0   \n",
              "...         ...       ...       ...  ...       ...            ...   \n",
              "17875  0.007101 -0.000324  0.047896  ...  0.026960              0   \n",
              "17876  0.025180 -0.007879  0.052108  ...  0.021530              0   \n",
              "17877  0.003379  0.005933  0.043600  ... -0.001572              0   \n",
              "17878  0.013720  0.048151  0.027105  ... -0.005863              0   \n",
              "17879  0.020165 -0.015131  0.056915  ...  0.032474              0   \n",
              "\n",
              "       has_company_logo  has_questions  employment_type  required_experience  \\\n",
              "0                     1              0                2                    4   \n",
              "1                     1              0                1                    6   \n",
              "2                     1              0                5                    7   \n",
              "3                     1              0                1                    5   \n",
              "4                     1              1                1                    5   \n",
              "...                 ...            ...              ...                  ...   \n",
              "17875                 1              1                1                    5   \n",
              "17876                 1              1                1                    5   \n",
              "17877                 0              0                1                    7   \n",
              "17878                 0              1                0                    6   \n",
              "17879                 1              1                1                    5   \n",
              "\n",
              "       required_education  industry  function  fraudulent  \n",
              "0                      13       131        22           0  \n",
              "1                      13        75         7           0  \n",
              "2                      13       131        37           0  \n",
              "3                       1        22        31           0  \n",
              "4                       1        51        16           0  \n",
              "...                   ...       ...       ...         ...  \n",
              "17875                  13        22        31           0  \n",
              "17876                   1        61         0           0  \n",
              "17877                  13       131        37           0  \n",
              "17878                   6        48         9           0  \n",
              "17879                  13        22        12           0  \n",
              "\n",
              "[17880 rows x 209 columns]"
            ],
            "text/html": [
              "\n",
              "  <div id=\"df-7d5c6f39-3ffa-44a0-972d-a10f0e8b56c3\">\n",
              "    <div class=\"colab-df-container\">\n",
              "      <div>\n",
              "<style scoped>\n",
              "    .dataframe tbody tr th:only-of-type {\n",
              "        vertical-align: middle;\n",
              "    }\n",
              "\n",
              "    .dataframe tbody tr th {\n",
              "        vertical-align: top;\n",
              "    }\n",
              "\n",
              "    .dataframe thead th {\n",
              "        text-align: right;\n",
              "    }\n",
              "</style>\n",
              "<table border=\"1\" class=\"dataframe\">\n",
              "  <thead>\n",
              "    <tr style=\"text-align: right;\">\n",
              "      <th></th>\n",
              "      <th>0</th>\n",
              "      <th>1</th>\n",
              "      <th>2</th>\n",
              "      <th>3</th>\n",
              "      <th>4</th>\n",
              "      <th>5</th>\n",
              "      <th>6</th>\n",
              "      <th>7</th>\n",
              "      <th>8</th>\n",
              "      <th>9</th>\n",
              "      <th>...</th>\n",
              "      <th>199</th>\n",
              "      <th>telecommuting</th>\n",
              "      <th>has_company_logo</th>\n",
              "      <th>has_questions</th>\n",
              "      <th>employment_type</th>\n",
              "      <th>required_experience</th>\n",
              "      <th>required_education</th>\n",
              "      <th>industry</th>\n",
              "      <th>function</th>\n",
              "      <th>fraudulent</th>\n",
              "    </tr>\n",
              "  </thead>\n",
              "  <tbody>\n",
              "    <tr>\n",
              "      <th>0</th>\n",
              "      <td>-0.002061</td>\n",
              "      <td>0.066000</td>\n",
              "      <td>-0.017966</td>\n",
              "      <td>-0.061503</td>\n",
              "      <td>0.030577</td>\n",
              "      <td>-0.019662</td>\n",
              "      <td>-0.085162</td>\n",
              "      <td>0.000982</td>\n",
              "      <td>-0.030580</td>\n",
              "      <td>0.030815</td>\n",
              "      <td>...</td>\n",
              "      <td>0.015658</td>\n",
              "      <td>0</td>\n",
              "      <td>1</td>\n",
              "      <td>0</td>\n",
              "      <td>2</td>\n",
              "      <td>4</td>\n",
              "      <td>13</td>\n",
              "      <td>131</td>\n",
              "      <td>22</td>\n",
              "      <td>0</td>\n",
              "    </tr>\n",
              "    <tr>\n",
              "      <th>1</th>\n",
              "      <td>0.028571</td>\n",
              "      <td>0.063619</td>\n",
              "      <td>-0.053331</td>\n",
              "      <td>-0.056595</td>\n",
              "      <td>0.022424</td>\n",
              "      <td>0.000128</td>\n",
              "      <td>-0.069555</td>\n",
              "      <td>0.009650</td>\n",
              "      <td>0.013362</td>\n",
              "      <td>0.031480</td>\n",
              "      <td>...</td>\n",
              "      <td>0.016425</td>\n",
              "      <td>0</td>\n",
              "      <td>1</td>\n",
              "      <td>0</td>\n",
              "      <td>1</td>\n",
              "      <td>6</td>\n",
              "      <td>13</td>\n",
              "      <td>75</td>\n",
              "      <td>7</td>\n",
              "      <td>0</td>\n",
              "    </tr>\n",
              "    <tr>\n",
              "      <th>2</th>\n",
              "      <td>0.031692</td>\n",
              "      <td>0.078740</td>\n",
              "      <td>0.024006</td>\n",
              "      <td>-0.062013</td>\n",
              "      <td>0.007968</td>\n",
              "      <td>-0.018392</td>\n",
              "      <td>-0.071365</td>\n",
              "      <td>0.035503</td>\n",
              "      <td>0.021990</td>\n",
              "      <td>0.008586</td>\n",
              "      <td>...</td>\n",
              "      <td>-0.001151</td>\n",
              "      <td>0</td>\n",
              "      <td>1</td>\n",
              "      <td>0</td>\n",
              "      <td>5</td>\n",
              "      <td>7</td>\n",
              "      <td>13</td>\n",
              "      <td>131</td>\n",
              "      <td>37</td>\n",
              "      <td>0</td>\n",
              "    </tr>\n",
              "    <tr>\n",
              "      <th>3</th>\n",
              "      <td>0.040483</td>\n",
              "      <td>0.059467</td>\n",
              "      <td>0.008781</td>\n",
              "      <td>-0.013202</td>\n",
              "      <td>0.032882</td>\n",
              "      <td>-0.009149</td>\n",
              "      <td>-0.084195</td>\n",
              "      <td>0.038128</td>\n",
              "      <td>0.002978</td>\n",
              "      <td>0.056617</td>\n",
              "      <td>...</td>\n",
              "      <td>0.017022</td>\n",
              "      <td>0</td>\n",
              "      <td>1</td>\n",
              "      <td>0</td>\n",
              "      <td>1</td>\n",
              "      <td>5</td>\n",
              "      <td>1</td>\n",
              "      <td>22</td>\n",
              "      <td>31</td>\n",
              "      <td>0</td>\n",
              "    </tr>\n",
              "    <tr>\n",
              "      <th>4</th>\n",
              "      <td>0.036627</td>\n",
              "      <td>0.049534</td>\n",
              "      <td>0.018203</td>\n",
              "      <td>-0.034942</td>\n",
              "      <td>0.029900</td>\n",
              "      <td>-0.005607</td>\n",
              "      <td>-0.078676</td>\n",
              "      <td>0.016035</td>\n",
              "      <td>0.003705</td>\n",
              "      <td>0.035780</td>\n",
              "      <td>...</td>\n",
              "      <td>0.006174</td>\n",
              "      <td>0</td>\n",
              "      <td>1</td>\n",
              "      <td>1</td>\n",
              "      <td>1</td>\n",
              "      <td>5</td>\n",
              "      <td>1</td>\n",
              "      <td>51</td>\n",
              "      <td>16</td>\n",
              "      <td>0</td>\n",
              "    </tr>\n",
              "    <tr>\n",
              "      <th>...</th>\n",
              "      <td>...</td>\n",
              "      <td>...</td>\n",
              "      <td>...</td>\n",
              "      <td>...</td>\n",
              "      <td>...</td>\n",
              "      <td>...</td>\n",
              "      <td>...</td>\n",
              "      <td>...</td>\n",
              "      <td>...</td>\n",
              "      <td>...</td>\n",
              "      <td>...</td>\n",
              "      <td>...</td>\n",
              "      <td>...</td>\n",
              "      <td>...</td>\n",
              "      <td>...</td>\n",
              "      <td>...</td>\n",
              "      <td>...</td>\n",
              "      <td>...</td>\n",
              "      <td>...</td>\n",
              "      <td>...</td>\n",
              "      <td>...</td>\n",
              "    </tr>\n",
              "    <tr>\n",
              "      <th>17875</th>\n",
              "      <td>0.052695</td>\n",
              "      <td>0.037381</td>\n",
              "      <td>-0.032322</td>\n",
              "      <td>-0.042386</td>\n",
              "      <td>0.017173</td>\n",
              "      <td>-0.008292</td>\n",
              "      <td>-0.074659</td>\n",
              "      <td>0.007101</td>\n",
              "      <td>-0.000324</td>\n",
              "      <td>0.047896</td>\n",
              "      <td>...</td>\n",
              "      <td>0.026960</td>\n",
              "      <td>0</td>\n",
              "      <td>1</td>\n",
              "      <td>1</td>\n",
              "      <td>1</td>\n",
              "      <td>5</td>\n",
              "      <td>13</td>\n",
              "      <td>22</td>\n",
              "      <td>31</td>\n",
              "      <td>0</td>\n",
              "    </tr>\n",
              "    <tr>\n",
              "      <th>17876</th>\n",
              "      <td>0.051455</td>\n",
              "      <td>0.064098</td>\n",
              "      <td>-0.015834</td>\n",
              "      <td>-0.028895</td>\n",
              "      <td>0.040883</td>\n",
              "      <td>-0.026099</td>\n",
              "      <td>-0.067135</td>\n",
              "      <td>0.025180</td>\n",
              "      <td>-0.007879</td>\n",
              "      <td>0.052108</td>\n",
              "      <td>...</td>\n",
              "      <td>0.021530</td>\n",
              "      <td>0</td>\n",
              "      <td>1</td>\n",
              "      <td>1</td>\n",
              "      <td>1</td>\n",
              "      <td>5</td>\n",
              "      <td>1</td>\n",
              "      <td>61</td>\n",
              "      <td>0</td>\n",
              "      <td>0</td>\n",
              "    </tr>\n",
              "    <tr>\n",
              "      <th>17877</th>\n",
              "      <td>0.036313</td>\n",
              "      <td>0.027983</td>\n",
              "      <td>0.022579</td>\n",
              "      <td>-0.028348</td>\n",
              "      <td>0.046630</td>\n",
              "      <td>-0.006606</td>\n",
              "      <td>-0.085808</td>\n",
              "      <td>0.003379</td>\n",
              "      <td>0.005933</td>\n",
              "      <td>0.043600</td>\n",
              "      <td>...</td>\n",
              "      <td>-0.001572</td>\n",
              "      <td>0</td>\n",
              "      <td>0</td>\n",
              "      <td>0</td>\n",
              "      <td>1</td>\n",
              "      <td>7</td>\n",
              "      <td>13</td>\n",
              "      <td>131</td>\n",
              "      <td>37</td>\n",
              "      <td>0</td>\n",
              "    </tr>\n",
              "    <tr>\n",
              "      <th>17878</th>\n",
              "      <td>0.023673</td>\n",
              "      <td>0.069232</td>\n",
              "      <td>-0.036682</td>\n",
              "      <td>-0.078467</td>\n",
              "      <td>0.079021</td>\n",
              "      <td>-0.016263</td>\n",
              "      <td>-0.117926</td>\n",
              "      <td>0.013720</td>\n",
              "      <td>0.048151</td>\n",
              "      <td>0.027105</td>\n",
              "      <td>...</td>\n",
              "      <td>-0.005863</td>\n",
              "      <td>0</td>\n",
              "      <td>0</td>\n",
              "      <td>1</td>\n",
              "      <td>0</td>\n",
              "      <td>6</td>\n",
              "      <td>6</td>\n",
              "      <td>48</td>\n",
              "      <td>9</td>\n",
              "      <td>0</td>\n",
              "    </tr>\n",
              "    <tr>\n",
              "      <th>17879</th>\n",
              "      <td>0.056539</td>\n",
              "      <td>0.054882</td>\n",
              "      <td>-0.041412</td>\n",
              "      <td>-0.053222</td>\n",
              "      <td>0.041028</td>\n",
              "      <td>-0.004214</td>\n",
              "      <td>-0.080467</td>\n",
              "      <td>0.020165</td>\n",
              "      <td>-0.015131</td>\n",
              "      <td>0.056915</td>\n",
              "      <td>...</td>\n",
              "      <td>0.032474</td>\n",
              "      <td>0</td>\n",
              "      <td>1</td>\n",
              "      <td>1</td>\n",
              "      <td>1</td>\n",
              "      <td>5</td>\n",
              "      <td>13</td>\n",
              "      <td>22</td>\n",
              "      <td>12</td>\n",
              "      <td>0</td>\n",
              "    </tr>\n",
              "  </tbody>\n",
              "</table>\n",
              "<p>17880 rows × 209 columns</p>\n",
              "</div>\n",
              "      <button class=\"colab-df-convert\" onclick=\"convertToInteractive('df-7d5c6f39-3ffa-44a0-972d-a10f0e8b56c3')\"\n",
              "              title=\"Convert this dataframe to an interactive table.\"\n",
              "              style=\"display:none;\">\n",
              "        \n",
              "  <svg xmlns=\"http://www.w3.org/2000/svg\" height=\"24px\"viewBox=\"0 0 24 24\"\n",
              "       width=\"24px\">\n",
              "    <path d=\"M0 0h24v24H0V0z\" fill=\"none\"/>\n",
              "    <path d=\"M18.56 5.44l.94 2.06.94-2.06 2.06-.94-2.06-.94-.94-2.06-.94 2.06-2.06.94zm-11 1L8.5 8.5l.94-2.06 2.06-.94-2.06-.94L8.5 2.5l-.94 2.06-2.06.94zm10 10l.94 2.06.94-2.06 2.06-.94-2.06-.94-.94-2.06-.94 2.06-2.06.94z\"/><path d=\"M17.41 7.96l-1.37-1.37c-.4-.4-.92-.59-1.43-.59-.52 0-1.04.2-1.43.59L10.3 9.45l-7.72 7.72c-.78.78-.78 2.05 0 2.83L4 21.41c.39.39.9.59 1.41.59.51 0 1.02-.2 1.41-.59l7.78-7.78 2.81-2.81c.8-.78.8-2.07 0-2.86zM5.41 20L4 18.59l7.72-7.72 1.47 1.35L5.41 20z\"/>\n",
              "  </svg>\n",
              "      </button>\n",
              "      \n",
              "  <style>\n",
              "    .colab-df-container {\n",
              "      display:flex;\n",
              "      flex-wrap:wrap;\n",
              "      gap: 12px;\n",
              "    }\n",
              "\n",
              "    .colab-df-convert {\n",
              "      background-color: #E8F0FE;\n",
              "      border: none;\n",
              "      border-radius: 50%;\n",
              "      cursor: pointer;\n",
              "      display: none;\n",
              "      fill: #1967D2;\n",
              "      height: 32px;\n",
              "      padding: 0 0 0 0;\n",
              "      width: 32px;\n",
              "    }\n",
              "\n",
              "    .colab-df-convert:hover {\n",
              "      background-color: #E2EBFA;\n",
              "      box-shadow: 0px 1px 2px rgba(60, 64, 67, 0.3), 0px 1px 3px 1px rgba(60, 64, 67, 0.15);\n",
              "      fill: #174EA6;\n",
              "    }\n",
              "\n",
              "    [theme=dark] .colab-df-convert {\n",
              "      background-color: #3B4455;\n",
              "      fill: #D2E3FC;\n",
              "    }\n",
              "\n",
              "    [theme=dark] .colab-df-convert:hover {\n",
              "      background-color: #434B5C;\n",
              "      box-shadow: 0px 1px 3px 1px rgba(0, 0, 0, 0.15);\n",
              "      filter: drop-shadow(0px 1px 2px rgba(0, 0, 0, 0.3));\n",
              "      fill: #FFFFFF;\n",
              "    }\n",
              "  </style>\n",
              "\n",
              "      <script>\n",
              "        const buttonEl =\n",
              "          document.querySelector('#df-7d5c6f39-3ffa-44a0-972d-a10f0e8b56c3 button.colab-df-convert');\n",
              "        buttonEl.style.display =\n",
              "          google.colab.kernel.accessAllowed ? 'block' : 'none';\n",
              "\n",
              "        async function convertToInteractive(key) {\n",
              "          const element = document.querySelector('#df-7d5c6f39-3ffa-44a0-972d-a10f0e8b56c3');\n",
              "          const dataTable =\n",
              "            await google.colab.kernel.invokeFunction('convertToInteractive',\n",
              "                                                     [key], {});\n",
              "          if (!dataTable) return;\n",
              "\n",
              "          const docLinkHtml = 'Like what you see? Visit the ' +\n",
              "            '<a target=\"_blank\" href=https://colab.research.google.com/notebooks/data_table.ipynb>data table notebook</a>'\n",
              "            + ' to learn more about interactive tables.';\n",
              "          element.innerHTML = '';\n",
              "          dataTable['output_type'] = 'display_data';\n",
              "          await google.colab.output.renderOutput(dataTable, element);\n",
              "          const docLink = document.createElement('div');\n",
              "          docLink.innerHTML = docLinkHtml;\n",
              "          element.appendChild(docLink);\n",
              "        }\n",
              "      </script>\n",
              "    </div>\n",
              "  </div>\n",
              "  "
            ]
          },
          "metadata": {},
          "execution_count": 58
        }
      ],
      "source": [
        "main_data"
      ],
      "id": "beufmcYKE8j9"
    },
    {
      "cell_type": "code",
      "execution_count": 59,
      "metadata": {
        "id": "MiirpI2npcil"
      },
      "outputs": [],
      "source": [
        "main_data.columns = main_data.columns.astype(str)"
      ],
      "id": "MiirpI2npcil"
    },
    {
      "cell_type": "code",
      "execution_count": 60,
      "metadata": {
        "colab": {
          "base_uri": "https://localhost:8080/"
        },
        "id": "4c766ec3-d74a-4f1b-be31-ca227a2672cc",
        "outputId": "e1aa0c79-630f-4ec0-b08a-76edd16ed6aa"
      },
      "outputs": [
        {
          "output_type": "stream",
          "name": "stdout",
          "text": [
            "<class 'pandas.core.frame.DataFrame'>\n",
            "RangeIndex: 17880 entries, 0 to 17879\n",
            "Data columns (total 9 columns):\n",
            " #   Column               Non-Null Count  Dtype\n",
            "---  ------               --------------  -----\n",
            " 0   telecommuting        17880 non-null  int64\n",
            " 1   has_company_logo     17880 non-null  int64\n",
            " 2   has_questions        17880 non-null  int64\n",
            " 3   employment_type      17880 non-null  int64\n",
            " 4   required_experience  17880 non-null  int64\n",
            " 5   required_education   17880 non-null  int64\n",
            " 6   industry             17880 non-null  int64\n",
            " 7   function             17880 non-null  int64\n",
            " 8   fraudulent           17880 non-null  int64\n",
            "dtypes: int64(9)\n",
            "memory usage: 1.2 MB\n"
          ]
        }
      ],
      "source": [
        "new_data.info()"
      ],
      "id": "4c766ec3-d74a-4f1b-be31-ca227a2672cc"
    },
    {
      "cell_type": "code",
      "execution_count": 61,
      "metadata": {
        "id": "1de46349-997f-4271-9134-fca0dc558ccc"
      },
      "outputs": [],
      "source": [
        "from sklearn.preprocessing import StandardScaler\n",
        "scaler = StandardScaler()\n",
        "\n",
        "main_data[['required_education', 'required_experience', 'employment_type','industry','function']] = StandardScaler().fit_transform(main_data[['required_education', 'required_experience', 'employment_type','industry','function']])"
      ],
      "id": "1de46349-997f-4271-9134-fca0dc558ccc"
    },
    {
      "cell_type": "code",
      "execution_count": 62,
      "metadata": {
        "colab": {
          "base_uri": "https://localhost:8080/",
          "height": 487
        },
        "id": "ff079276-7b5b-4694-bc43-b33005514ab0",
        "outputId": "5ca601a4-1e42-499e-94f9-5aa94a906ab2"
      },
      "outputs": [
        {
          "output_type": "execute_result",
          "data": {
            "text/plain": [
              "              0         1         2         3         4         5         6  \\\n",
              "0     -0.002061  0.066000 -0.017966 -0.061503  0.030577 -0.019662 -0.085162   \n",
              "1      0.028571  0.063619 -0.053331 -0.056595  0.022424  0.000128 -0.069555   \n",
              "2      0.031692  0.078740  0.024006 -0.062013  0.007968 -0.018392 -0.071365   \n",
              "3      0.040483  0.059467  0.008781 -0.013202  0.032882 -0.009149 -0.084195   \n",
              "4      0.036627  0.049534  0.018203 -0.034942  0.029900 -0.005607 -0.078676   \n",
              "...         ...       ...       ...       ...       ...       ...       ...   \n",
              "17875  0.052695  0.037381 -0.032322 -0.042386  0.017173 -0.008292 -0.074659   \n",
              "17876  0.051455  0.064098 -0.015834 -0.028895  0.040883 -0.026099 -0.067135   \n",
              "17877  0.036313  0.027983  0.022579 -0.028348  0.046630 -0.006606 -0.085808   \n",
              "17878  0.023673  0.069232 -0.036682 -0.078467  0.079021 -0.016263 -0.117926   \n",
              "17879  0.056539  0.054882 -0.041412 -0.053222  0.041028 -0.004214 -0.080467   \n",
              "\n",
              "              7         8         9  ...       199  telecommuting  \\\n",
              "0      0.000982 -0.030580  0.030815  ...  0.015658              0   \n",
              "1      0.009650  0.013362  0.031480  ...  0.016425              0   \n",
              "2      0.035503  0.021990  0.008586  ... -0.001151              0   \n",
              "3      0.038128  0.002978  0.056617  ...  0.017022              0   \n",
              "4      0.016035  0.003705  0.035780  ...  0.006174              0   \n",
              "...         ...       ...       ...  ...       ...            ...   \n",
              "17875  0.007101 -0.000324  0.047896  ...  0.026960              0   \n",
              "17876  0.025180 -0.007879  0.052108  ...  0.021530              0   \n",
              "17877  0.003379  0.005933  0.043600  ... -0.001572              0   \n",
              "17878  0.013720  0.048151  0.027105  ... -0.005863              0   \n",
              "17879  0.020165 -0.015131  0.056915  ...  0.032474              0   \n",
              "\n",
              "       has_company_logo  has_questions  employment_type  required_experience  \\\n",
              "0                     1              0         0.099313            -0.248399   \n",
              "1                     1              0        -0.497368             0.537615   \n",
              "2                     1              0         1.889358             0.930622   \n",
              "3                     1              0        -0.497368             0.144608   \n",
              "4                     1              1        -0.497368             0.144608   \n",
              "...                 ...            ...              ...                  ...   \n",
              "17875                 1              1        -0.497368             0.144608   \n",
              "17876                 1              1        -0.497368             0.144608   \n",
              "17877                 0              0        -0.497368             0.930622   \n",
              "17878                 0              1        -1.094049             0.537615   \n",
              "17879                 1              1        -0.497368             0.144608   \n",
              "\n",
              "       required_education  industry  function  fraudulent  \n",
              "0                1.005226  1.308985 -0.145416           0  \n",
              "1                1.005226  0.011506 -1.352449           0  \n",
              "2                1.005226  1.308985  1.061618           0  \n",
              "3               -1.229790 -1.216466  0.578804           0  \n",
              "4               -1.229790 -0.544557 -0.628229           0  \n",
              "...                   ...       ...       ...         ...  \n",
              "17875            1.005226 -1.216466  0.578804           0  \n",
              "17876           -1.229790 -0.312864 -1.915731           0  \n",
              "17877            1.005226  1.308985  1.061618           0  \n",
              "17878           -0.298533 -0.614065 -1.191511           0  \n",
              "17879            1.005226 -1.216466 -0.950104           0  \n",
              "\n",
              "[17880 rows x 209 columns]"
            ],
            "text/html": [
              "\n",
              "  <div id=\"df-0495f0cf-603c-450c-91de-fdff86f7a826\">\n",
              "    <div class=\"colab-df-container\">\n",
              "      <div>\n",
              "<style scoped>\n",
              "    .dataframe tbody tr th:only-of-type {\n",
              "        vertical-align: middle;\n",
              "    }\n",
              "\n",
              "    .dataframe tbody tr th {\n",
              "        vertical-align: top;\n",
              "    }\n",
              "\n",
              "    .dataframe thead th {\n",
              "        text-align: right;\n",
              "    }\n",
              "</style>\n",
              "<table border=\"1\" class=\"dataframe\">\n",
              "  <thead>\n",
              "    <tr style=\"text-align: right;\">\n",
              "      <th></th>\n",
              "      <th>0</th>\n",
              "      <th>1</th>\n",
              "      <th>2</th>\n",
              "      <th>3</th>\n",
              "      <th>4</th>\n",
              "      <th>5</th>\n",
              "      <th>6</th>\n",
              "      <th>7</th>\n",
              "      <th>8</th>\n",
              "      <th>9</th>\n",
              "      <th>...</th>\n",
              "      <th>199</th>\n",
              "      <th>telecommuting</th>\n",
              "      <th>has_company_logo</th>\n",
              "      <th>has_questions</th>\n",
              "      <th>employment_type</th>\n",
              "      <th>required_experience</th>\n",
              "      <th>required_education</th>\n",
              "      <th>industry</th>\n",
              "      <th>function</th>\n",
              "      <th>fraudulent</th>\n",
              "    </tr>\n",
              "  </thead>\n",
              "  <tbody>\n",
              "    <tr>\n",
              "      <th>0</th>\n",
              "      <td>-0.002061</td>\n",
              "      <td>0.066000</td>\n",
              "      <td>-0.017966</td>\n",
              "      <td>-0.061503</td>\n",
              "      <td>0.030577</td>\n",
              "      <td>-0.019662</td>\n",
              "      <td>-0.085162</td>\n",
              "      <td>0.000982</td>\n",
              "      <td>-0.030580</td>\n",
              "      <td>0.030815</td>\n",
              "      <td>...</td>\n",
              "      <td>0.015658</td>\n",
              "      <td>0</td>\n",
              "      <td>1</td>\n",
              "      <td>0</td>\n",
              "      <td>0.099313</td>\n",
              "      <td>-0.248399</td>\n",
              "      <td>1.005226</td>\n",
              "      <td>1.308985</td>\n",
              "      <td>-0.145416</td>\n",
              "      <td>0</td>\n",
              "    </tr>\n",
              "    <tr>\n",
              "      <th>1</th>\n",
              "      <td>0.028571</td>\n",
              "      <td>0.063619</td>\n",
              "      <td>-0.053331</td>\n",
              "      <td>-0.056595</td>\n",
              "      <td>0.022424</td>\n",
              "      <td>0.000128</td>\n",
              "      <td>-0.069555</td>\n",
              "      <td>0.009650</td>\n",
              "      <td>0.013362</td>\n",
              "      <td>0.031480</td>\n",
              "      <td>...</td>\n",
              "      <td>0.016425</td>\n",
              "      <td>0</td>\n",
              "      <td>1</td>\n",
              "      <td>0</td>\n",
              "      <td>-0.497368</td>\n",
              "      <td>0.537615</td>\n",
              "      <td>1.005226</td>\n",
              "      <td>0.011506</td>\n",
              "      <td>-1.352449</td>\n",
              "      <td>0</td>\n",
              "    </tr>\n",
              "    <tr>\n",
              "      <th>2</th>\n",
              "      <td>0.031692</td>\n",
              "      <td>0.078740</td>\n",
              "      <td>0.024006</td>\n",
              "      <td>-0.062013</td>\n",
              "      <td>0.007968</td>\n",
              "      <td>-0.018392</td>\n",
              "      <td>-0.071365</td>\n",
              "      <td>0.035503</td>\n",
              "      <td>0.021990</td>\n",
              "      <td>0.008586</td>\n",
              "      <td>...</td>\n",
              "      <td>-0.001151</td>\n",
              "      <td>0</td>\n",
              "      <td>1</td>\n",
              "      <td>0</td>\n",
              "      <td>1.889358</td>\n",
              "      <td>0.930622</td>\n",
              "      <td>1.005226</td>\n",
              "      <td>1.308985</td>\n",
              "      <td>1.061618</td>\n",
              "      <td>0</td>\n",
              "    </tr>\n",
              "    <tr>\n",
              "      <th>3</th>\n",
              "      <td>0.040483</td>\n",
              "      <td>0.059467</td>\n",
              "      <td>0.008781</td>\n",
              "      <td>-0.013202</td>\n",
              "      <td>0.032882</td>\n",
              "      <td>-0.009149</td>\n",
              "      <td>-0.084195</td>\n",
              "      <td>0.038128</td>\n",
              "      <td>0.002978</td>\n",
              "      <td>0.056617</td>\n",
              "      <td>...</td>\n",
              "      <td>0.017022</td>\n",
              "      <td>0</td>\n",
              "      <td>1</td>\n",
              "      <td>0</td>\n",
              "      <td>-0.497368</td>\n",
              "      <td>0.144608</td>\n",
              "      <td>-1.229790</td>\n",
              "      <td>-1.216466</td>\n",
              "      <td>0.578804</td>\n",
              "      <td>0</td>\n",
              "    </tr>\n",
              "    <tr>\n",
              "      <th>4</th>\n",
              "      <td>0.036627</td>\n",
              "      <td>0.049534</td>\n",
              "      <td>0.018203</td>\n",
              "      <td>-0.034942</td>\n",
              "      <td>0.029900</td>\n",
              "      <td>-0.005607</td>\n",
              "      <td>-0.078676</td>\n",
              "      <td>0.016035</td>\n",
              "      <td>0.003705</td>\n",
              "      <td>0.035780</td>\n",
              "      <td>...</td>\n",
              "      <td>0.006174</td>\n",
              "      <td>0</td>\n",
              "      <td>1</td>\n",
              "      <td>1</td>\n",
              "      <td>-0.497368</td>\n",
              "      <td>0.144608</td>\n",
              "      <td>-1.229790</td>\n",
              "      <td>-0.544557</td>\n",
              "      <td>-0.628229</td>\n",
              "      <td>0</td>\n",
              "    </tr>\n",
              "    <tr>\n",
              "      <th>...</th>\n",
              "      <td>...</td>\n",
              "      <td>...</td>\n",
              "      <td>...</td>\n",
              "      <td>...</td>\n",
              "      <td>...</td>\n",
              "      <td>...</td>\n",
              "      <td>...</td>\n",
              "      <td>...</td>\n",
              "      <td>...</td>\n",
              "      <td>...</td>\n",
              "      <td>...</td>\n",
              "      <td>...</td>\n",
              "      <td>...</td>\n",
              "      <td>...</td>\n",
              "      <td>...</td>\n",
              "      <td>...</td>\n",
              "      <td>...</td>\n",
              "      <td>...</td>\n",
              "      <td>...</td>\n",
              "      <td>...</td>\n",
              "      <td>...</td>\n",
              "    </tr>\n",
              "    <tr>\n",
              "      <th>17875</th>\n",
              "      <td>0.052695</td>\n",
              "      <td>0.037381</td>\n",
              "      <td>-0.032322</td>\n",
              "      <td>-0.042386</td>\n",
              "      <td>0.017173</td>\n",
              "      <td>-0.008292</td>\n",
              "      <td>-0.074659</td>\n",
              "      <td>0.007101</td>\n",
              "      <td>-0.000324</td>\n",
              "      <td>0.047896</td>\n",
              "      <td>...</td>\n",
              "      <td>0.026960</td>\n",
              "      <td>0</td>\n",
              "      <td>1</td>\n",
              "      <td>1</td>\n",
              "      <td>-0.497368</td>\n",
              "      <td>0.144608</td>\n",
              "      <td>1.005226</td>\n",
              "      <td>-1.216466</td>\n",
              "      <td>0.578804</td>\n",
              "      <td>0</td>\n",
              "    </tr>\n",
              "    <tr>\n",
              "      <th>17876</th>\n",
              "      <td>0.051455</td>\n",
              "      <td>0.064098</td>\n",
              "      <td>-0.015834</td>\n",
              "      <td>-0.028895</td>\n",
              "      <td>0.040883</td>\n",
              "      <td>-0.026099</td>\n",
              "      <td>-0.067135</td>\n",
              "      <td>0.025180</td>\n",
              "      <td>-0.007879</td>\n",
              "      <td>0.052108</td>\n",
              "      <td>...</td>\n",
              "      <td>0.021530</td>\n",
              "      <td>0</td>\n",
              "      <td>1</td>\n",
              "      <td>1</td>\n",
              "      <td>-0.497368</td>\n",
              "      <td>0.144608</td>\n",
              "      <td>-1.229790</td>\n",
              "      <td>-0.312864</td>\n",
              "      <td>-1.915731</td>\n",
              "      <td>0</td>\n",
              "    </tr>\n",
              "    <tr>\n",
              "      <th>17877</th>\n",
              "      <td>0.036313</td>\n",
              "      <td>0.027983</td>\n",
              "      <td>0.022579</td>\n",
              "      <td>-0.028348</td>\n",
              "      <td>0.046630</td>\n",
              "      <td>-0.006606</td>\n",
              "      <td>-0.085808</td>\n",
              "      <td>0.003379</td>\n",
              "      <td>0.005933</td>\n",
              "      <td>0.043600</td>\n",
              "      <td>...</td>\n",
              "      <td>-0.001572</td>\n",
              "      <td>0</td>\n",
              "      <td>0</td>\n",
              "      <td>0</td>\n",
              "      <td>-0.497368</td>\n",
              "      <td>0.930622</td>\n",
              "      <td>1.005226</td>\n",
              "      <td>1.308985</td>\n",
              "      <td>1.061618</td>\n",
              "      <td>0</td>\n",
              "    </tr>\n",
              "    <tr>\n",
              "      <th>17878</th>\n",
              "      <td>0.023673</td>\n",
              "      <td>0.069232</td>\n",
              "      <td>-0.036682</td>\n",
              "      <td>-0.078467</td>\n",
              "      <td>0.079021</td>\n",
              "      <td>-0.016263</td>\n",
              "      <td>-0.117926</td>\n",
              "      <td>0.013720</td>\n",
              "      <td>0.048151</td>\n",
              "      <td>0.027105</td>\n",
              "      <td>...</td>\n",
              "      <td>-0.005863</td>\n",
              "      <td>0</td>\n",
              "      <td>0</td>\n",
              "      <td>1</td>\n",
              "      <td>-1.094049</td>\n",
              "      <td>0.537615</td>\n",
              "      <td>-0.298533</td>\n",
              "      <td>-0.614065</td>\n",
              "      <td>-1.191511</td>\n",
              "      <td>0</td>\n",
              "    </tr>\n",
              "    <tr>\n",
              "      <th>17879</th>\n",
              "      <td>0.056539</td>\n",
              "      <td>0.054882</td>\n",
              "      <td>-0.041412</td>\n",
              "      <td>-0.053222</td>\n",
              "      <td>0.041028</td>\n",
              "      <td>-0.004214</td>\n",
              "      <td>-0.080467</td>\n",
              "      <td>0.020165</td>\n",
              "      <td>-0.015131</td>\n",
              "      <td>0.056915</td>\n",
              "      <td>...</td>\n",
              "      <td>0.032474</td>\n",
              "      <td>0</td>\n",
              "      <td>1</td>\n",
              "      <td>1</td>\n",
              "      <td>-0.497368</td>\n",
              "      <td>0.144608</td>\n",
              "      <td>1.005226</td>\n",
              "      <td>-1.216466</td>\n",
              "      <td>-0.950104</td>\n",
              "      <td>0</td>\n",
              "    </tr>\n",
              "  </tbody>\n",
              "</table>\n",
              "<p>17880 rows × 209 columns</p>\n",
              "</div>\n",
              "      <button class=\"colab-df-convert\" onclick=\"convertToInteractive('df-0495f0cf-603c-450c-91de-fdff86f7a826')\"\n",
              "              title=\"Convert this dataframe to an interactive table.\"\n",
              "              style=\"display:none;\">\n",
              "        \n",
              "  <svg xmlns=\"http://www.w3.org/2000/svg\" height=\"24px\"viewBox=\"0 0 24 24\"\n",
              "       width=\"24px\">\n",
              "    <path d=\"M0 0h24v24H0V0z\" fill=\"none\"/>\n",
              "    <path d=\"M18.56 5.44l.94 2.06.94-2.06 2.06-.94-2.06-.94-.94-2.06-.94 2.06-2.06.94zm-11 1L8.5 8.5l.94-2.06 2.06-.94-2.06-.94L8.5 2.5l-.94 2.06-2.06.94zm10 10l.94 2.06.94-2.06 2.06-.94-2.06-.94-.94-2.06-.94 2.06-2.06.94z\"/><path d=\"M17.41 7.96l-1.37-1.37c-.4-.4-.92-.59-1.43-.59-.52 0-1.04.2-1.43.59L10.3 9.45l-7.72 7.72c-.78.78-.78 2.05 0 2.83L4 21.41c.39.39.9.59 1.41.59.51 0 1.02-.2 1.41-.59l7.78-7.78 2.81-2.81c.8-.78.8-2.07 0-2.86zM5.41 20L4 18.59l7.72-7.72 1.47 1.35L5.41 20z\"/>\n",
              "  </svg>\n",
              "      </button>\n",
              "      \n",
              "  <style>\n",
              "    .colab-df-container {\n",
              "      display:flex;\n",
              "      flex-wrap:wrap;\n",
              "      gap: 12px;\n",
              "    }\n",
              "\n",
              "    .colab-df-convert {\n",
              "      background-color: #E8F0FE;\n",
              "      border: none;\n",
              "      border-radius: 50%;\n",
              "      cursor: pointer;\n",
              "      display: none;\n",
              "      fill: #1967D2;\n",
              "      height: 32px;\n",
              "      padding: 0 0 0 0;\n",
              "      width: 32px;\n",
              "    }\n",
              "\n",
              "    .colab-df-convert:hover {\n",
              "      background-color: #E2EBFA;\n",
              "      box-shadow: 0px 1px 2px rgba(60, 64, 67, 0.3), 0px 1px 3px 1px rgba(60, 64, 67, 0.15);\n",
              "      fill: #174EA6;\n",
              "    }\n",
              "\n",
              "    [theme=dark] .colab-df-convert {\n",
              "      background-color: #3B4455;\n",
              "      fill: #D2E3FC;\n",
              "    }\n",
              "\n",
              "    [theme=dark] .colab-df-convert:hover {\n",
              "      background-color: #434B5C;\n",
              "      box-shadow: 0px 1px 3px 1px rgba(0, 0, 0, 0.15);\n",
              "      filter: drop-shadow(0px 1px 2px rgba(0, 0, 0, 0.3));\n",
              "      fill: #FFFFFF;\n",
              "    }\n",
              "  </style>\n",
              "\n",
              "      <script>\n",
              "        const buttonEl =\n",
              "          document.querySelector('#df-0495f0cf-603c-450c-91de-fdff86f7a826 button.colab-df-convert');\n",
              "        buttonEl.style.display =\n",
              "          google.colab.kernel.accessAllowed ? 'block' : 'none';\n",
              "\n",
              "        async function convertToInteractive(key) {\n",
              "          const element = document.querySelector('#df-0495f0cf-603c-450c-91de-fdff86f7a826');\n",
              "          const dataTable =\n",
              "            await google.colab.kernel.invokeFunction('convertToInteractive',\n",
              "                                                     [key], {});\n",
              "          if (!dataTable) return;\n",
              "\n",
              "          const docLinkHtml = 'Like what you see? Visit the ' +\n",
              "            '<a target=\"_blank\" href=https://colab.research.google.com/notebooks/data_table.ipynb>data table notebook</a>'\n",
              "            + ' to learn more about interactive tables.';\n",
              "          element.innerHTML = '';\n",
              "          dataTable['output_type'] = 'display_data';\n",
              "          await google.colab.output.renderOutput(dataTable, element);\n",
              "          const docLink = document.createElement('div');\n",
              "          docLink.innerHTML = docLinkHtml;\n",
              "          element.appendChild(docLink);\n",
              "        }\n",
              "      </script>\n",
              "    </div>\n",
              "  </div>\n",
              "  "
            ]
          },
          "metadata": {},
          "execution_count": 62
        }
      ],
      "source": [
        "main_data"
      ],
      "id": "ff079276-7b5b-4694-bc43-b33005514ab0"
    },
    {
      "cell_type": "markdown",
      "metadata": {
        "id": "780387c5-6fda-4fb2-a9a8-610e05a64dcc"
      },
      "source": [
        "## Apply SMOTE"
      ],
      "id": "780387c5-6fda-4fb2-a9a8-610e05a64dcc"
    },
    {
      "cell_type": "code",
      "execution_count": 63,
      "metadata": {
        "id": "042a5457-a00f-4160-a3ea-b6784213a711"
      },
      "outputs": [],
      "source": [
        "#!pip install -U imbalanced-learn"
      ],
      "id": "042a5457-a00f-4160-a3ea-b6784213a711"
    },
    {
      "cell_type": "code",
      "execution_count": 64,
      "metadata": {
        "colab": {
          "base_uri": "https://localhost:8080/",
          "height": 303
        },
        "id": "20bd5a5b-62a0-4103-b8da-3c10b103684f",
        "outputId": "72860077-63da-4a04-e265-afb0f047ed60"
      },
      "outputs": [
        {
          "output_type": "execute_result",
          "data": {
            "text/plain": [
              "<matplotlib.axes._subplots.AxesSubplot at 0x7f1214815250>"
            ]
          },
          "metadata": {},
          "execution_count": 64
        },
        {
          "output_type": "display_data",
          "data": {
            "text/plain": [
              "<Figure size 432x288 with 1 Axes>"
            ],
            "image/png": "[encoded data removed]"
          },
          "metadata": {}
        }
      ],
      "source": [
        "sns.set(style=\"darkgrid\")\n",
        "sns.countplot(x = \"fraudulent\" , data = new_data)"
      ],
      "id": "20bd5a5b-62a0-4103-b8da-3c10b103684f"
    },
    {
      "cell_type": "code",
      "execution_count": 65,
      "metadata": {
        "id": "f5ec1b95-83e1-49ab-b824-f768805dc20b"
      },
      "outputs": [],
      "source": [
        "X = main_data.iloc[:, :-1]\n",
        "y = main_data.iloc[:, -1]"
      ],
      "id": "f5ec1b95-83e1-49ab-b824-f768805dc20b"
    },
    {
      "cell_type": "code",
      "execution_count": 66,
      "metadata": {
        "colab": {
          "base_uri": "https://localhost:8080/"
        },
        "id": "b91cdcf7-f76f-45e8-b754-24a731c70fb4",
        "outputId": "7d0d8046-0ebc-4fb0-9567-b9c913fccd09"
      },
      "outputs": [
        {
          "output_type": "stream",
          "name": "stdout",
          "text": [
            "17880\n",
            "17880\n"
          ]
        }
      ],
      "source": [
        "print(len(X))\n",
        "print(len(y))"
      ],
      "id": "b91cdcf7-f76f-45e8-b754-24a731c70fb4"
    },
    {
      "cell_type": "code",
      "execution_count": 67,
      "metadata": {
        "id": "80e4ca43-d4be-4259-a8ff-7d505f265fcd"
      },
      "outputs": [],
      "source": [
        "oversample = SMOTE()\n",
        "new_X, new_y = oversample.fit_resample(X, y)"
      ],
      "id": "80e4ca43-d4be-4259-a8ff-7d505f265fcd"
    },
    {
      "cell_type": "code",
      "execution_count": 68,
      "metadata": {
        "colab": {
          "base_uri": "https://localhost:8080/"
        },
        "id": "61035831-89f2-4c2c-b4a8-5c5e8545f70e",
        "outputId": "4bed6a06-9eb0-48da-8629-7ff7b323f38a"
      },
      "outputs": [
        {
          "output_type": "stream",
          "name": "stdout",
          "text": [
            "34028\n",
            "34028\n"
          ]
        }
      ],
      "source": [
        "print(len(new_X))\n",
        "print(len(new_y))"
      ],
      "id": "61035831-89f2-4c2c-b4a8-5c5e8545f70e"
    },
    {
      "cell_type": "code",
      "execution_count": 69,
      "metadata": {
        "colab": {
          "base_uri": "https://localhost:8080/"
        },
        "id": "0979684f-cbd7-48e5-95de-ff453f3cc79b",
        "outputId": "79481196-9b30-4902-f221-5724cee5189e"
      },
      "outputs": [
        {
          "output_type": "execute_result",
          "data": {
            "text/plain": [
              "0    17014\n",
              "1    17014\n",
              "Name: fraudulent, dtype: int64"
            ]
          },
          "metadata": {},
          "execution_count": 69
        }
      ],
      "source": [
        "new_y.value_counts()"
      ],
      "id": "0979684f-cbd7-48e5-95de-ff453f3cc79b"
    },
    {
      "cell_type": "markdown",
      "metadata": {
        "id": "AqqJumx9rcXR"
      },
      "source": [
        "#DF for Multinomial Naive Bayes"
      ],
      "id": "AqqJumx9rcXR"
    },
    {
      "cell_type": "code",
      "execution_count": 70,
      "metadata": {
        "id": "HusIG8VHre-I"
      },
      "outputs": [],
      "source": [
        "test_data = save_data"
      ],
      "id": "HusIG8VHre-I"
    },
    {
      "cell_type": "code",
      "execution_count": 71,
      "metadata": {
        "colab": {
          "base_uri": "https://localhost:8080/",
          "height": 589
        },
        "id": "0-OvaBl5tDZ_",
        "outputId": "9d24b3f9-032a-49e4-8e57-e36ae61ba587"
      },
      "outputs": [
        {
          "output_type": "execute_result",
          "data": {
            "text/plain": [
              "       telecommuting  has_company_logo  has_questions  employment_type  \\\n",
              "0                  0                 1              0                2   \n",
              "1                  0                 1              0                1   \n",
              "2                  0                 1              0                5   \n",
              "3                  0                 1              0                1   \n",
              "4                  0                 1              1                1   \n",
              "...              ...               ...            ...              ...   \n",
              "17875              0                 1              1                1   \n",
              "17876              0                 1              1                1   \n",
              "17877              0                 0              0                1   \n",
              "17878              0                 0              1                0   \n",
              "17879              0                 1              1                1   \n",
              "\n",
              "       required_experience  required_education  industry  function  \\\n",
              "0                        4                  13       131        22   \n",
              "1                        6                  13        75         7   \n",
              "2                        7                  13       131        37   \n",
              "3                        5                   1        22        31   \n",
              "4                        5                   1        51        16   \n",
              "...                    ...                 ...       ...       ...   \n",
              "17875                    5                  13        22        31   \n",
              "17876                    5                   1        61         0   \n",
              "17877                    7                  13       131        37   \n",
              "17878                    6                   6        48         9   \n",
              "17879                    5                  13        22        12   \n",
              "\n",
              "                                               lemmatize  fraudulent  \n",
              "0      marketing internwere weve created groundbreaki...           0  \n",
              "1      customer service cloud video second world clou...           0  \n",
              "2      commissioning machinery assistant cmavalor ser...           0  \n",
              "3      account executive washington dcour passion imp...           0  \n",
              "4      bill review managerspotsource solution llc glo...           0  \n",
              "...                                                  ...         ...  \n",
              "17875  account director distribution vend looking awe...           0  \n",
              "17876  payroll accountantweblinc ecommerce platform s...           0  \n",
              "17877  project cost control staff engineer cost contr...           0  \n",
              "17878  graphic designermissingnemsia studio looking e...           0  \n",
              "17879  web application developersvend looking awesome...           0  \n",
              "\n",
              "[17880 rows x 10 columns]"
            ],
            "text/html": [
              "\n",
              "  <div id=\"df-dd540bd9-1777-4c70-9f9c-b2dcdbed8e73\">\n",
              "    <div class=\"colab-df-container\">\n",
              "      <div>\n",
              "<style scoped>\n",
              "    .dataframe tbody tr th:only-of-type {\n",
              "        vertical-align: middle;\n",
              "    }\n",
              "\n",
              "    .dataframe tbody tr th {\n",
              "        vertical-align: top;\n",
              "    }\n",
              "\n",
              "    .dataframe thead th {\n",
              "        text-align: right;\n",
              "    }\n",
              "</style>\n",
              "<table border=\"1\" class=\"dataframe\">\n",
              "  <thead>\n",
              "    <tr style=\"text-align: right;\">\n",
              "      <th></th>\n",
              "      <th>telecommuting</th>\n",
              "      <th>has_company_logo</th>\n",
              "      <th>has_questions</th>\n",
              "      <th>employment_type</th>\n",
              "      <th>required_experience</th>\n",
              "      <th>required_education</th>\n",
              "      <th>industry</th>\n",
              "      <th>function</th>\n",
              "      <th>lemmatize</th>\n",
              "      <th>fraudulent</th>\n",
              "    </tr>\n",
              "  </thead>\n",
              "  <tbody>\n",
              "    <tr>\n",
              "      <th>0</th>\n",
              "      <td>0</td>\n",
              "      <td>1</td>\n",
              "      <td>0</td>\n",
              "      <td>2</td>\n",
              "      <td>4</td>\n",
              "      <td>13</td>\n",
              "      <td>131</td>\n",
              "      <td>22</td>\n",
              "      <td>marketing internwere weve created groundbreaki...</td>\n",
              "      <td>0</td>\n",
              "    </tr>\n",
              "    <tr>\n",
              "      <th>1</th>\n",
              "      <td>0</td>\n",
              "      <td>1</td>\n",
              "      <td>0</td>\n",
              "      <td>1</td>\n",
              "      <td>6</td>\n",
              "      <td>13</td>\n",
              "      <td>75</td>\n",
              "      <td>7</td>\n",
              "      <td>customer service cloud video second world clou...</td>\n",
              "      <td>0</td>\n",
              "    </tr>\n",
              "    <tr>\n",
              "      <th>2</th>\n",
              "      <td>0</td>\n",
              "      <td>1</td>\n",
              "      <td>0</td>\n",
              "      <td>5</td>\n",
              "      <td>7</td>\n",
              "      <td>13</td>\n",
              "      <td>131</td>\n",
              "      <td>37</td>\n",
              "      <td>commissioning machinery assistant cmavalor ser...</td>\n",
              "      <td>0</td>\n",
              "    </tr>\n",
              "    <tr>\n",
              "      <th>3</th>\n",
              "      <td>0</td>\n",
              "      <td>1</td>\n",
              "      <td>0</td>\n",
              "      <td>1</td>\n",
              "      <td>5</td>\n",
              "      <td>1</td>\n",
              "      <td>22</td>\n",
              "      <td>31</td>\n",
              "      <td>account executive washington dcour passion imp...</td>\n",
              "      <td>0</td>\n",
              "    </tr>\n",
              "    <tr>\n",
              "      <th>4</th>\n",
              "      <td>0</td>\n",
              "      <td>1</td>\n",
              "      <td>1</td>\n",
              "      <td>1</td>\n",
              "      <td>5</td>\n",
              "      <td>1</td>\n",
              "      <td>51</td>\n",
              "      <td>16</td>\n",
              "      <td>bill review managerspotsource solution llc glo...</td>\n",
              "      <td>0</td>\n",
              "    </tr>\n",
              "    <tr>\n",
              "      <th>...</th>\n",
              "      <td>...</td>\n",
              "      <td>...</td>\n",
              "      <td>...</td>\n",
              "      <td>...</td>\n",
              "      <td>...</td>\n",
              "      <td>...</td>\n",
              "      <td>...</td>\n",
              "      <td>...</td>\n",
              "      <td>...</td>\n",
              "      <td>...</td>\n",
              "    </tr>\n",
              "    <tr>\n",
              "      <th>17875</th>\n",
              "      <td>0</td>\n",
              "      <td>1</td>\n",
              "      <td>1</td>\n",
              "      <td>1</td>\n",
              "      <td>5</td>\n",
              "      <td>13</td>\n",
              "      <td>22</td>\n",
              "      <td>31</td>\n",
              "      <td>account director distribution vend looking awe...</td>\n",
              "      <td>0</td>\n",
              "    </tr>\n",
              "    <tr>\n",
              "      <th>17876</th>\n",
              "      <td>0</td>\n",
              "      <td>1</td>\n",
              "      <td>1</td>\n",
              "      <td>1</td>\n",
              "      <td>5</td>\n",
              "      <td>1</td>\n",
              "      <td>61</td>\n",
              "      <td>0</td>\n",
              "      <td>payroll accountantweblinc ecommerce platform s...</td>\n",
              "      <td>0</td>\n",
              "    </tr>\n",
              "    <tr>\n",
              "      <th>17877</th>\n",
              "      <td>0</td>\n",
              "      <td>0</td>\n",
              "      <td>0</td>\n",
              "      <td>1</td>\n",
              "      <td>7</td>\n",
              "      <td>13</td>\n",
              "      <td>131</td>\n",
              "      <td>37</td>\n",
              "      <td>project cost control staff engineer cost contr...</td>\n",
              "      <td>0</td>\n",
              "    </tr>\n",
              "    <tr>\n",
              "      <th>17878</th>\n",
              "      <td>0</td>\n",
              "      <td>0</td>\n",
              "      <td>1</td>\n",
              "      <td>0</td>\n",
              "      <td>6</td>\n",
              "      <td>6</td>\n",
              "      <td>48</td>\n",
              "      <td>9</td>\n",
              "      <td>graphic designermissingnemsia studio looking e...</td>\n",
              "      <td>0</td>\n",
              "    </tr>\n",
              "    <tr>\n",
              "      <th>17879</th>\n",
              "      <td>0</td>\n",
              "      <td>1</td>\n",
              "      <td>1</td>\n",
              "      <td>1</td>\n",
              "      <td>5</td>\n",
              "      <td>13</td>\n",
              "      <td>22</td>\n",
              "      <td>12</td>\n",
              "      <td>web application developersvend looking awesome...</td>\n",
              "      <td>0</td>\n",
              "    </tr>\n",
              "  </tbody>\n",
              "</table>\n",
              "<p>17880 rows × 10 columns</p>\n",
              "</div>\n",
              "      <button class=\"colab-df-convert\" onclick=\"convertToInteractive('df-dd540bd9-1777-4c70-9f9c-b2dcdbed8e73')\"\n",
              "              title=\"Convert this dataframe to an interactive table.\"\n",
              "              style=\"display:none;\">\n",
              "        \n",
              "  <svg xmlns=\"http://www.w3.org/2000/svg\" height=\"24px\"viewBox=\"0 0 24 24\"\n",
              "       width=\"24px\">\n",
              "    <path d=\"M0 0h24v24H0V0z\" fill=\"none\"/>\n",
              "    <path d=\"M18.56 5.44l.94 2.06.94-2.06 2.06-.94-2.06-.94-.94-2.06-.94 2.06-2.06.94zm-11 1L8.5 8.5l.94-2.06 2.06-.94-2.06-.94L8.5 2.5l-.94 2.06-2.06.94zm10 10l.94 2.06.94-2.06 2.06-.94-2.06-.94-.94-2.06-.94 2.06-2.06.94z\"/><path d=\"M17.41 7.96l-1.37-1.37c-.4-.4-.92-.59-1.43-.59-.52 0-1.04.2-1.43.59L10.3 9.45l-7.72 7.72c-.78.78-.78 2.05 0 2.83L4 21.41c.39.39.9.59 1.41.59.51 0 1.02-.2 1.41-.59l7.78-7.78 2.81-2.81c.8-.78.8-2.07 0-2.86zM5.41 20L4 18.59l7.72-7.72 1.47 1.35L5.41 20z\"/>\n",
              "  </svg>\n",
              "      </button>\n",
              "      \n",
              "  <style>\n",
              "    .colab-df-container {\n",
              "      display:flex;\n",
              "      flex-wrap:wrap;\n",
              "      gap: 12px;\n",
              "    }\n",
              "\n",
              "    .colab-df-convert {\n",
              "      background-color: #E8F0FE;\n",
              "      border: none;\n",
              "      border-radius: 50%;\n",
              "      cursor: pointer;\n",
              "      display: none;\n",
              "      fill: #1967D2;\n",
              "      height: 32px;\n",
              "      padding: 0 0 0 0;\n",
              "      width: 32px;\n",
              "    }\n",
              "\n",
              "    .colab-df-convert:hover {\n",
              "      background-color: #E2EBFA;\n",
              "      box-shadow: 0px 1px 2px rgba(60, 64, 67, 0.3), 0px 1px 3px 1px rgba(60, 64, 67, 0.15);\n",
              "      fill: #174EA6;\n",
              "    }\n",
              "\n",
              "    [theme=dark] .colab-df-convert {\n",
              "      background-color: #3B4455;\n",
              "      fill: #D2E3FC;\n",
              "    }\n",
              "\n",
              "    [theme=dark] .colab-df-convert:hover {\n",
              "      background-color: #434B5C;\n",
              "      box-shadow: 0px 1px 3px 1px rgba(0, 0, 0, 0.15);\n",
              "      filter: drop-shadow(0px 1px 2px rgba(0, 0, 0, 0.3));\n",
              "      fill: #FFFFFF;\n",
              "    }\n",
              "  </style>\n",
              "\n",
              "      <script>\n",
              "        const buttonEl =\n",
              "          document.querySelector('#df-dd540bd9-1777-4c70-9f9c-b2dcdbed8e73 button.colab-df-convert');\n",
              "        buttonEl.style.display =\n",
              "          google.colab.kernel.accessAllowed ? 'block' : 'none';\n",
              "\n",
              "        async function convertToInteractive(key) {\n",
              "          const element = document.querySelector('#df-dd540bd9-1777-4c70-9f9c-b2dcdbed8e73');\n",
              "          const dataTable =\n",
              "            await google.colab.kernel.invokeFunction('convertToInteractive',\n",
              "                                                     [key], {});\n",
              "          if (!dataTable) return;\n",
              "\n",
              "          const docLinkHtml = 'Like what you see? Visit the ' +\n",
              "            '<a target=\"_blank\" href=https://colab.research.google.com/notebooks/data_table.ipynb>data table notebook</a>'\n",
              "            + ' to learn more about interactive tables.';\n",
              "          element.innerHTML = '';\n",
              "          dataTable['output_type'] = 'display_data';\n",
              "          await google.colab.output.renderOutput(dataTable, element);\n",
              "          const docLink = document.createElement('div');\n",
              "          docLink.innerHTML = docLinkHtml;\n",
              "          element.appendChild(docLink);\n",
              "        }\n",
              "      </script>\n",
              "    </div>\n",
              "  </div>\n",
              "  "
            ]
          },
          "metadata": {},
          "execution_count": 71
        }
      ],
      "source": [
        "save_data"
      ],
      "id": "0-OvaBl5tDZ_"
    },
    {
      "cell_type": "code",
      "execution_count": 72,
      "metadata": {
        "id": "wiBIZE1Fr8lW"
      },
      "outputs": [],
      "source": [
        "test_data.drop(test_data.iloc[:, 0:8], inplace = True, axis = 1)"
      ],
      "id": "wiBIZE1Fr8lW"
    },
    {
      "cell_type": "code",
      "execution_count": 73,
      "metadata": {
        "colab": {
          "base_uri": "https://localhost:8080/",
          "height": 423
        },
        "id": "sxOhRQlzsXTy",
        "outputId": "ae4e5bcd-53d4-4bcf-d625-6ee68902c46b"
      },
      "outputs": [
        {
          "output_type": "execute_result",
          "data": {
            "text/plain": [
              "                                               lemmatize  fraudulent\n",
              "0      marketing internwere weve created groundbreaki...           0\n",
              "1      customer service cloud video second world clou...           0\n",
              "2      commissioning machinery assistant cmavalor ser...           0\n",
              "3      account executive washington dcour passion imp...           0\n",
              "4      bill review managerspotsource solution llc glo...           0\n",
              "...                                                  ...         ...\n",
              "17875  account director distribution vend looking awe...           0\n",
              "17876  payroll accountantweblinc ecommerce platform s...           0\n",
              "17877  project cost control staff engineer cost contr...           0\n",
              "17878  graphic designermissingnemsia studio looking e...           0\n",
              "17879  web application developersvend looking awesome...           0\n",
              "\n",
              "[17880 rows x 2 columns]"
            ],
            "text/html": [
              "\n",
              "  <div id=\"df-d3a63ba7-183c-423b-8443-95687b6b9dd0\">\n",
              "    <div class=\"colab-df-container\">\n",
              "      <div>\n",
              "<style scoped>\n",
              "    .dataframe tbody tr th:only-of-type {\n",
              "        vertical-align: middle;\n",
              "    }\n",
              "\n",
              "    .dataframe tbody tr th {\n",
              "        vertical-align: top;\n",
              "    }\n",
              "\n",
              "    .dataframe thead th {\n",
              "        text-align: right;\n",
              "    }\n",
              "</style>\n",
              "<table border=\"1\" class=\"dataframe\">\n",
              "  <thead>\n",
              "    <tr style=\"text-align: right;\">\n",
              "      <th></th>\n",
              "      <th>lemmatize</th>\n",
              "      <th>fraudulent</th>\n",
              "    </tr>\n",
              "  </thead>\n",
              "  <tbody>\n",
              "    <tr>\n",
              "      <th>0</th>\n",
              "      <td>marketing internwere weve created groundbreaki...</td>\n",
              "      <td>0</td>\n",
              "    </tr>\n",
              "    <tr>\n",
              "      <th>1</th>\n",
              "      <td>customer service cloud video second world clou...</td>\n",
              "      <td>0</td>\n",
              "    </tr>\n",
              "    <tr>\n",
              "      <th>2</th>\n",
              "      <td>commissioning machinery assistant cmavalor ser...</td>\n",
              "      <td>0</td>\n",
              "    </tr>\n",
              "    <tr>\n",
              "      <th>3</th>\n",
              "      <td>account executive washington dcour passion imp...</td>\n",
              "      <td>0</td>\n",
              "    </tr>\n",
              "    <tr>\n",
              "      <th>4</th>\n",
              "      <td>bill review managerspotsource solution llc glo...</td>\n",
              "      <td>0</td>\n",
              "    </tr>\n",
              "    <tr>\n",
              "      <th>...</th>\n",
              "      <td>...</td>\n",
              "      <td>...</td>\n",
              "    </tr>\n",
              "    <tr>\n",
              "      <th>17875</th>\n",
              "      <td>account director distribution vend looking awe...</td>\n",
              "      <td>0</td>\n",
              "    </tr>\n",
              "    <tr>\n",
              "      <th>17876</th>\n",
              "      <td>payroll accountantweblinc ecommerce platform s...</td>\n",
              "      <td>0</td>\n",
              "    </tr>\n",
              "    <tr>\n",
              "      <th>17877</th>\n",
              "      <td>project cost control staff engineer cost contr...</td>\n",
              "      <td>0</td>\n",
              "    </tr>\n",
              "    <tr>\n",
              "      <th>17878</th>\n",
              "      <td>graphic designermissingnemsia studio looking e...</td>\n",
              "      <td>0</td>\n",
              "    </tr>\n",
              "    <tr>\n",
              "      <th>17879</th>\n",
              "      <td>web application developersvend looking awesome...</td>\n",
              "      <td>0</td>\n",
              "    </tr>\n",
              "  </tbody>\n",
              "</table>\n",
              "<p>17880 rows × 2 columns</p>\n",
              "</div>\n",
              "      <button class=\"colab-df-convert\" onclick=\"convertToInteractive('df-d3a63ba7-183c-423b-8443-95687b6b9dd0')\"\n",
              "              title=\"Convert this dataframe to an interactive table.\"\n",
              "              style=\"display:none;\">\n",
              "        \n",
              "  <svg xmlns=\"http://www.w3.org/2000/svg\" height=\"24px\"viewBox=\"0 0 24 24\"\n",
              "       width=\"24px\">\n",
              "    <path d=\"M0 0h24v24H0V0z\" fill=\"none\"/>\n",
              "    <path d=\"M18.56 5.44l.94 2.06.94-2.06 2.06-.94-2.06-.94-.94-2.06-.94 2.06-2.06.94zm-11 1L8.5 8.5l.94-2.06 2.06-.94-2.06-.94L8.5 2.5l-.94 2.06-2.06.94zm10 10l.94 2.06.94-2.06 2.06-.94-2.06-.94-.94-2.06-.94 2.06-2.06.94z\"/><path d=\"M17.41 7.96l-1.37-1.37c-.4-.4-.92-.59-1.43-.59-.52 0-1.04.2-1.43.59L10.3 9.45l-7.72 7.72c-.78.78-.78 2.05 0 2.83L4 21.41c.39.39.9.59 1.41.59.51 0 1.02-.2 1.41-.59l7.78-7.78 2.81-2.81c.8-.78.8-2.07 0-2.86zM5.41 20L4 18.59l7.72-7.72 1.47 1.35L5.41 20z\"/>\n",
              "  </svg>\n",
              "      </button>\n",
              "      \n",
              "  <style>\n",
              "    .colab-df-container {\n",
              "      display:flex;\n",
              "      flex-wrap:wrap;\n",
              "      gap: 12px;\n",
              "    }\n",
              "\n",
              "    .colab-df-convert {\n",
              "      background-color: #E8F0FE;\n",
              "      border: none;\n",
              "      border-radius: 50%;\n",
              "      cursor: pointer;\n",
              "      display: none;\n",
              "      fill: #1967D2;\n",
              "      height: 32px;\n",
              "      padding: 0 0 0 0;\n",
              "      width: 32px;\n",
              "    }\n",
              "\n",
              "    .colab-df-convert:hover {\n",
              "      background-color: #E2EBFA;\n",
              "      box-shadow: 0px 1px 2px rgba(60, 64, 67, 0.3), 0px 1px 3px 1px rgba(60, 64, 67, 0.15);\n",
              "      fill: #174EA6;\n",
              "    }\n",
              "\n",
              "    [theme=dark] .colab-df-convert {\n",
              "      background-color: #3B4455;\n",
              "      fill: #D2E3FC;\n",
              "    }\n",
              "\n",
              "    [theme=dark] .colab-df-convert:hover {\n",
              "      background-color: #434B5C;\n",
              "      box-shadow: 0px 1px 3px 1px rgba(0, 0, 0, 0.15);\n",
              "      filter: drop-shadow(0px 1px 2px rgba(0, 0, 0, 0.3));\n",
              "      fill: #FFFFFF;\n",
              "    }\n",
              "  </style>\n",
              "\n",
              "      <script>\n",
              "        const buttonEl =\n",
              "          document.querySelector('#df-d3a63ba7-183c-423b-8443-95687b6b9dd0 button.colab-df-convert');\n",
              "        buttonEl.style.display =\n",
              "          google.colab.kernel.accessAllowed ? 'block' : 'none';\n",
              "\n",
              "        async function convertToInteractive(key) {\n",
              "          const element = document.querySelector('#df-d3a63ba7-183c-423b-8443-95687b6b9dd0');\n",
              "          const dataTable =\n",
              "            await google.colab.kernel.invokeFunction('convertToInteractive',\n",
              "                                                     [key], {});\n",
              "          if (!dataTable) return;\n",
              "\n",
              "          const docLinkHtml = 'Like what you see? Visit the ' +\n",
              "            '<a target=\"_blank\" href=https://colab.research.google.com/notebooks/data_table.ipynb>data table notebook</a>'\n",
              "            + ' to learn more about interactive tables.';\n",
              "          element.innerHTML = '';\n",
              "          dataTable['output_type'] = 'display_data';\n",
              "          await google.colab.output.renderOutput(dataTable, element);\n",
              "          const docLink = document.createElement('div');\n",
              "          docLink.innerHTML = docLinkHtml;\n",
              "          element.appendChild(docLink);\n",
              "        }\n",
              "      </script>\n",
              "    </div>\n",
              "  </div>\n",
              "  "
            ]
          },
          "metadata": {},
          "execution_count": 73
        }
      ],
      "source": [
        "test_data"
      ],
      "id": "sxOhRQlzsXTy"
    },
    {
      "cell_type": "code",
      "execution_count": 74,
      "metadata": {
        "id": "kvGLaEcLuntz"
      },
      "outputs": [],
      "source": [
        "Xx = test_data.iloc[:, :-1]\n",
        "Yy = test_data.iloc[:, -1]"
      ],
      "id": "kvGLaEcLuntz"
    },
    {
      "cell_type": "code",
      "execution_count": 75,
      "metadata": {
        "colab": {
          "base_uri": "https://localhost:8080/"
        },
        "id": "CMoz-SZD_p2O",
        "outputId": "179863d5-cf58-4586-b98a-f3c5e59f37a2"
      },
      "outputs": [
        {
          "output_type": "execute_result",
          "data": {
            "text/plain": [
              "0        marketing internwere weve created groundbreaki...\n",
              "1        customer service cloud video second world clou...\n",
              "2        commissioning machinery assistant cmavalor ser...\n",
              "3        account executive washington dcour passion imp...\n",
              "4        bill review managerspotsource solution llc glo...\n",
              "                               ...                        \n",
              "17875    account director distribution vend looking awe...\n",
              "17876    payroll accountantweblinc ecommerce platform s...\n",
              "17877    project cost control staff engineer cost contr...\n",
              "17878    graphic designermissingnemsia studio looking e...\n",
              "17879    web application developersvend looking awesome...\n",
              "Name: lemmatize, Length: 17880, dtype: object"
            ]
          },
          "metadata": {},
          "execution_count": 75
        }
      ],
      "source": [
        "test_data.lemmatize"
      ],
      "id": "CMoz-SZD_p2O"
    },
    {
      "cell_type": "code",
      "execution_count": 76,
      "metadata": {
        "id": "rojrJJQqsdnT"
      },
      "outputs": [],
      "source": [
        "X_tr, X_te, y_tr, y_te = train_test_split(test_data.lemmatize, test_data.fraudulent, test_size=0.2, random_state=10)"
      ],
      "id": "rojrJJQqsdnT"
    },
    {
      "cell_type": "code",
      "execution_count": 77,
      "metadata": {
        "colab": {
          "base_uri": "https://localhost:8080/"
        },
        "id": "XYFGOemjAEVV",
        "outputId": "23050156-f495-493f-8c31-221968578541"
      },
      "outputs": [
        {
          "output_type": "stream",
          "name": "stdout",
          "text": [
            "Tfidf_train: (14304, 1630498)\n",
            "Tfidf_test: (3576, 1630498)\n"
          ]
        }
      ],
      "source": [
        "tv=TfidfVectorizer(min_df=0,max_df=1,use_idf=True,ngram_range=(1,3))\n",
        "#transformed train reviews\n",
        "tv_train_reviews=tv.fit_transform(X_tr)\n",
        "#transformed test reviews\n",
        "tv_test_reviews=tv.transform(X_te)\n",
        "print('Tfidf_train:',tv_train_reviews.shape)\n",
        "print('Tfidf_test:',tv_test_reviews.shape)"
      ],
      "id": "XYFGOemjAEVV"
    },
    {
      "cell_type": "code",
      "execution_count": 78,
      "metadata": {
        "id": "MVwWtHxlxm9Q"
      },
      "outputs": [],
      "source": [
        "oversample = SMOTE()\n",
        "the_X, the_y = oversample.fit_resample(tv_train_reviews, y_tr)"
      ],
      "id": "MVwWtHxlxm9Q"
    },
    {
      "cell_type": "markdown",
      "metadata": {
        "id": "9uO6bnHBseBs"
      },
      "source": [
        "#End Testing Zone"
      ],
      "id": "9uO6bnHBseBs"
    },
    {
      "cell_type": "markdown",
      "source": [
        "# Correlation Graphs"
      ],
      "metadata": {
        "id": "HOOkdbscS2ep"
      },
      "id": "HOOkdbscS2ep"
    },
    {
      "cell_type": "code",
      "source": [
        "main_data_corr = main_data.copy()"
      ],
      "metadata": {
        "id": "29kYT1PJS3Dm"
      },
      "id": "29kYT1PJS3Dm",
      "execution_count": 79,
      "outputs": []
    },
    {
      "cell_type": "code",
      "source": [
        "main_data_corr.drop(main_data_corr.iloc[:, 0:200], inplace = True, axis = 1)"
      ],
      "metadata": {
        "id": "_f_4wcK0S3Go"
      },
      "id": "_f_4wcK0S3Go",
      "execution_count": 80,
      "outputs": []
    },
    {
      "cell_type": "code",
      "source": [
        "main_data_corr"
      ],
      "metadata": {
        "colab": {
          "base_uri": "https://localhost:8080/",
          "height": 423
        },
        "id": "5HvDsaNJS3Jh",
        "outputId": "1fa8302f-3e4b-4ca1-90c7-7f751a64b64c"
      },
      "id": "5HvDsaNJS3Jh",
      "execution_count": 81,
      "outputs": [
        {
          "output_type": "execute_result",
          "data": {
            "text/plain": [
              "       telecommuting  has_company_logo  has_questions  employment_type  \\\n",
              "0                  0                 1              0         0.099313   \n",
              "1                  0                 1              0        -0.497368   \n",
              "2                  0                 1              0         1.889358   \n",
              "3                  0                 1              0        -0.497368   \n",
              "4                  0                 1              1        -0.497368   \n",
              "...              ...               ...            ...              ...   \n",
              "17875              0                 1              1        -0.497368   \n",
              "17876              0                 1              1        -0.497368   \n",
              "17877              0                 0              0        -0.497368   \n",
              "17878              0                 0              1        -1.094049   \n",
              "17879              0                 1              1        -0.497368   \n",
              "\n",
              "       required_experience  required_education  industry  function  fraudulent  \n",
              "0                -0.248399            1.005226  1.308985 -0.145416           0  \n",
              "1                 0.537615            1.005226  0.011506 -1.352449           0  \n",
              "2                 0.930622            1.005226  1.308985  1.061618           0  \n",
              "3                 0.144608           -1.229790 -1.216466  0.578804           0  \n",
              "4                 0.144608           -1.229790 -0.544557 -0.628229           0  \n",
              "...                    ...                 ...       ...       ...         ...  \n",
              "17875             0.144608            1.005226 -1.216466  0.578804           0  \n",
              "17876             0.144608           -1.229790 -0.312864 -1.915731           0  \n",
              "17877             0.930622            1.005226  1.308985  1.061618           0  \n",
              "17878             0.537615           -0.298533 -0.614065 -1.191511           0  \n",
              "17879             0.144608            1.005226 -1.216466 -0.950104           0  \n",
              "\n",
              "[17880 rows x 9 columns]"
            ],
            "text/html": [
              "\n",
              "  <div id=\"df-c2d16a75-f080-4748-9fad-b0e62054c388\">\n",
              "    <div class=\"colab-df-container\">\n",
              "      <div>\n",
              "<style scoped>\n",
              "    .dataframe tbody tr th:only-of-type {\n",
              "        vertical-align: middle;\n",
              "    }\n",
              "\n",
              "    .dataframe tbody tr th {\n",
              "        vertical-align: top;\n",
              "    }\n",
              "\n",
              "    .dataframe thead th {\n",
              "        text-align: right;\n",
              "    }\n",
              "</style>\n",
              "<table border=\"1\" class=\"dataframe\">\n",
              "  <thead>\n",
              "    <tr style=\"text-align: right;\">\n",
              "      <th></th>\n",
              "      <th>telecommuting</th>\n",
              "      <th>has_company_logo</th>\n",
              "      <th>has_questions</th>\n",
              "      <th>employment_type</th>\n",
              "      <th>required_experience</th>\n",
              "      <th>required_education</th>\n",
              "      <th>industry</th>\n",
              "      <th>function</th>\n",
              "      <th>fraudulent</th>\n",
              "    </tr>\n",
              "  </thead>\n",
              "  <tbody>\n",
              "    <tr>\n",
              "      <th>0</th>\n",
              "      <td>0</td>\n",
              "      <td>1</td>\n",
              "      <td>0</td>\n",
              "      <td>0.099313</td>\n",
              "      <td>-0.248399</td>\n",
              "      <td>1.005226</td>\n",
              "      <td>1.308985</td>\n",
              "      <td>-0.145416</td>\n",
              "      <td>0</td>\n",
              "    </tr>\n",
              "    <tr>\n",
              "      <th>1</th>\n",
              "      <td>0</td>\n",
              "      <td>1</td>\n",
              "      <td>0</td>\n",
              "      <td>-0.497368</td>\n",
              "      <td>0.537615</td>\n",
              "      <td>1.005226</td>\n",
              "      <td>0.011506</td>\n",
              "      <td>-1.352449</td>\n",
              "      <td>0</td>\n",
              "    </tr>\n",
              "    <tr>\n",
              "      <th>2</th>\n",
              "      <td>0</td>\n",
              "      <td>1</td>\n",
              "      <td>0</td>\n",
              "      <td>1.889358</td>\n",
              "      <td>0.930622</td>\n",
              "      <td>1.005226</td>\n",
              "      <td>1.308985</td>\n",
              "      <td>1.061618</td>\n",
              "      <td>0</td>\n",
              "    </tr>\n",
              "    <tr>\n",
              "      <th>3</th>\n",
              "      <td>0</td>\n",
              "      <td>1</td>\n",
              "      <td>0</td>\n",
              "      <td>-0.497368</td>\n",
              "      <td>0.144608</td>\n",
              "      <td>-1.229790</td>\n",
              "      <td>-1.216466</td>\n",
              "      <td>0.578804</td>\n",
              "      <td>0</td>\n",
              "    </tr>\n",
              "    <tr>\n",
              "      <th>4</th>\n",
              "      <td>0</td>\n",
              "      <td>1</td>\n",
              "      <td>1</td>\n",
              "      <td>-0.497368</td>\n",
              "      <td>0.144608</td>\n",
              "      <td>-1.229790</td>\n",
              "      <td>-0.544557</td>\n",
              "      <td>-0.628229</td>\n",
              "      <td>0</td>\n",
              "    </tr>\n",
              "    <tr>\n",
              "      <th>...</th>\n",
              "      <td>...</td>\n",
              "      <td>...</td>\n",
              "      <td>...</td>\n",
              "      <td>...</td>\n",
              "      <td>...</td>\n",
              "      <td>...</td>\n",
              "      <td>...</td>\n",
              "      <td>...</td>\n",
              "      <td>...</td>\n",
              "    </tr>\n",
              "    <tr>\n",
              "      <th>17875</th>\n",
              "      <td>0</td>\n",
              "      <td>1</td>\n",
              "      <td>1</td>\n",
              "      <td>-0.497368</td>\n",
              "      <td>0.144608</td>\n",
              "      <td>1.005226</td>\n",
              "      <td>-1.216466</td>\n",
              "      <td>0.578804</td>\n",
              "      <td>0</td>\n",
              "    </tr>\n",
              "    <tr>\n",
              "      <th>17876</th>\n",
              "      <td>0</td>\n",
              "      <td>1</td>\n",
              "      <td>1</td>\n",
              "      <td>-0.497368</td>\n",
              "      <td>0.144608</td>\n",
              "      <td>-1.229790</td>\n",
              "      <td>-0.312864</td>\n",
              "      <td>-1.915731</td>\n",
              "      <td>0</td>\n",
              "    </tr>\n",
              "    <tr>\n",
              "      <th>17877</th>\n",
              "      <td>0</td>\n",
              "      <td>0</td>\n",
              "      <td>0</td>\n",
              "      <td>-0.497368</td>\n",
              "      <td>0.930622</td>\n",
              "      <td>1.005226</td>\n",
              "      <td>1.308985</td>\n",
              "      <td>1.061618</td>\n",
              "      <td>0</td>\n",
              "    </tr>\n",
              "    <tr>\n",
              "      <th>17878</th>\n",
              "      <td>0</td>\n",
              "      <td>0</td>\n",
              "      <td>1</td>\n",
              "      <td>-1.094049</td>\n",
              "      <td>0.537615</td>\n",
              "      <td>-0.298533</td>\n",
              "      <td>-0.614065</td>\n",
              "      <td>-1.191511</td>\n",
              "      <td>0</td>\n",
              "    </tr>\n",
              "    <tr>\n",
              "      <th>17879</th>\n",
              "      <td>0</td>\n",
              "      <td>1</td>\n",
              "      <td>1</td>\n",
              "      <td>-0.497368</td>\n",
              "      <td>0.144608</td>\n",
              "      <td>1.005226</td>\n",
              "      <td>-1.216466</td>\n",
              "      <td>-0.950104</td>\n",
              "      <td>0</td>\n",
              "    </tr>\n",
              "  </tbody>\n",
              "</table>\n",
              "<p>17880 rows × 9 columns</p>\n",
              "</div>\n",
              "      <button class=\"colab-df-convert\" onclick=\"convertToInteractive('df-c2d16a75-f080-4748-9fad-b0e62054c388')\"\n",
              "              title=\"Convert this dataframe to an interactive table.\"\n",
              "              style=\"display:none;\">\n",
              "        \n",
              "  <svg xmlns=\"http://www.w3.org/2000/svg\" height=\"24px\"viewBox=\"0 0 24 24\"\n",
              "       width=\"24px\">\n",
              "    <path d=\"M0 0h24v24H0V0z\" fill=\"none\"/>\n",
              "    <path d=\"M18.56 5.44l.94 2.06.94-2.06 2.06-.94-2.06-.94-.94-2.06-.94 2.06-2.06.94zm-11 1L8.5 8.5l.94-2.06 2.06-.94-2.06-.94L8.5 2.5l-.94 2.06-2.06.94zm10 10l.94 2.06.94-2.06 2.06-.94-2.06-.94-.94-2.06-.94 2.06-2.06.94z\"/><path d=\"M17.41 7.96l-1.37-1.37c-.4-.4-.92-.59-1.43-.59-.52 0-1.04.2-1.43.59L10.3 9.45l-7.72 7.72c-.78.78-.78 2.05 0 2.83L4 21.41c.39.39.9.59 1.41.59.51 0 1.02-.2 1.41-.59l7.78-7.78 2.81-2.81c.8-.78.8-2.07 0-2.86zM5.41 20L4 18.59l7.72-7.72 1.47 1.35L5.41 20z\"/>\n",
              "  </svg>\n",
              "      </button>\n",
              "      \n",
              "  <style>\n",
              "    .colab-df-container {\n",
              "      display:flex;\n",
              "      flex-wrap:wrap;\n",
              "      gap: 12px;\n",
              "    }\n",
              "\n",
              "    .colab-df-convert {\n",
              "      background-color: #E8F0FE;\n",
              "      border: none;\n",
              "      border-radius: 50%;\n",
              "      cursor: pointer;\n",
              "      display: none;\n",
              "      fill: #1967D2;\n",
              "      height: 32px;\n",
              "      padding: 0 0 0 0;\n",
              "      width: 32px;\n",
              "    }\n",
              "\n",
              "    .colab-df-convert:hover {\n",
              "      background-color: #E2EBFA;\n",
              "      box-shadow: 0px 1px 2px rgba(60, 64, 67, 0.3), 0px 1px 3px 1px rgba(60, 64, 67, 0.15);\n",
              "      fill: #174EA6;\n",
              "    }\n",
              "\n",
              "    [theme=dark] .colab-df-convert {\n",
              "      background-color: #3B4455;\n",
              "      fill: #D2E3FC;\n",
              "    }\n",
              "\n",
              "    [theme=dark] .colab-df-convert:hover {\n",
              "      background-color: #434B5C;\n",
              "      box-shadow: 0px 1px 3px 1px rgba(0, 0, 0, 0.15);\n",
              "      filter: drop-shadow(0px 1px 2px rgba(0, 0, 0, 0.3));\n",
              "      fill: #FFFFFF;\n",
              "    }\n",
              "  </style>\n",
              "\n",
              "      <script>\n",
              "        const buttonEl =\n",
              "          document.querySelector('#df-c2d16a75-f080-4748-9fad-b0e62054c388 button.colab-df-convert');\n",
              "        buttonEl.style.display =\n",
              "          google.colab.kernel.accessAllowed ? 'block' : 'none';\n",
              "\n",
              "        async function convertToInteractive(key) {\n",
              "          const element = document.querySelector('#df-c2d16a75-f080-4748-9fad-b0e62054c388');\n",
              "          const dataTable =\n",
              "            await google.colab.kernel.invokeFunction('convertToInteractive',\n",
              "                                                     [key], {});\n",
              "          if (!dataTable) return;\n",
              "\n",
              "          const docLinkHtml = 'Like what you see? Visit the ' +\n",
              "            '<a target=\"_blank\" href=https://colab.research.google.com/notebooks/data_table.ipynb>data table notebook</a>'\n",
              "            + ' to learn more about interactive tables.';\n",
              "          element.innerHTML = '';\n",
              "          dataTable['output_type'] = 'display_data';\n",
              "          await google.colab.output.renderOutput(dataTable, element);\n",
              "          const docLink = document.createElement('div');\n",
              "          docLink.innerHTML = docLinkHtml;\n",
              "          element.appendChild(docLink);\n",
              "        }\n",
              "      </script>\n",
              "    </div>\n",
              "  </div>\n",
              "  "
            ]
          },
          "metadata": {},
          "execution_count": 81
        }
      ]
    },
    {
      "cell_type": "code",
      "source": [
        "corr = main_data_corr.corr()\n",
        "\n",
        "corr.style.background_gradient(cmap='coolwarm')"
      ],
      "metadata": {
        "colab": {
          "base_uri": "https://localhost:8080/",
          "height": 331
        },
        "id": "8wmhpSbKS3Lq",
        "outputId": "2397974e-bf31-4e98-cf6f-45c0df247692"
      },
      "id": "8wmhpSbKS3Lq",
      "execution_count": 82,
      "outputs": [
        {
          "output_type": "execute_result",
          "data": {
            "text/plain": [
              "<pandas.io.formats.style.Styler at 0x7f121a2c7790>"
            ],
            "text/html": [
              "<style type=\"text/css\">\n",
              "#T_c6caa_row0_col0, #T_c6caa_row1_col1, #T_c6caa_row2_col2, #T_c6caa_row3_col3, #T_c6caa_row4_col4, #T_c6caa_row5_col5, #T_c6caa_row6_col6, #T_c6caa_row7_col7, #T_c6caa_row8_col8 {\n",
              "  background-color: #b40426;\n",
              "  color: #f1f1f1;\n",
              "}\n",
              "#T_c6caa_row0_col1, #T_c6caa_row8_col5 {\n",
              "  background-color: #799cf8;\n",
              "  color: #f1f1f1;\n",
              "}\n",
              "#T_c6caa_row0_col2 {\n",
              "  background-color: #6282ea;\n",
              "  color: #f1f1f1;\n",
              "}\n",
              "#T_c6caa_row0_col3 {\n",
              "  background-color: #465ecf;\n",
              "  color: #f1f1f1;\n",
              "}\n",
              "#T_c6caa_row0_col4, #T_c6caa_row8_col3 {\n",
              "  background-color: #5b7ae5;\n",
              "  color: #f1f1f1;\n",
              "}\n",
              "#T_c6caa_row0_col5 {\n",
              "  background-color: #6a8bef;\n",
              "  color: #f1f1f1;\n",
              "}\n",
              "#T_c6caa_row0_col6, #T_c6caa_row7_col1 {\n",
              "  background-color: #5875e1;\n",
              "  color: #f1f1f1;\n",
              "}\n",
              "#T_c6caa_row0_col7, #T_c6caa_row3_col2 {\n",
              "  background-color: #5673e0;\n",
              "  color: #f1f1f1;\n",
              "}\n",
              "#T_c6caa_row0_col8, #T_c6caa_row6_col8 {\n",
              "  background-color: #88abfd;\n",
              "  color: #000000;\n",
              "}\n",
              "#T_c6caa_row1_col0 {\n",
              "  background-color: #3f53c6;\n",
              "  color: #f1f1f1;\n",
              "}\n",
              "#T_c6caa_row1_col2 {\n",
              "  background-color: #a5c3fe;\n",
              "  color: #000000;\n",
              "}\n",
              "#T_c6caa_row1_col3, #T_c6caa_row1_col4, #T_c6caa_row1_col5, #T_c6caa_row1_col6, #T_c6caa_row1_col7, #T_c6caa_row1_col8, #T_c6caa_row4_col0, #T_c6caa_row5_col2, #T_c6caa_row7_col0, #T_c6caa_row8_col1 {\n",
              "  background-color: #3b4cc0;\n",
              "  color: #f1f1f1;\n",
              "}\n",
              "#T_c6caa_row2_col0, #T_c6caa_row4_col2 {\n",
              "  background-color: #4b64d5;\n",
              "  color: #f1f1f1;\n",
              "}\n",
              "#T_c6caa_row2_col1 {\n",
              "  background-color: #bed2f6;\n",
              "  color: #000000;\n",
              "}\n",
              "#T_c6caa_row2_col3 {\n",
              "  background-color: #455cce;\n",
              "  color: #f1f1f1;\n",
              "}\n",
              "#T_c6caa_row2_col4, #T_c6caa_row4_col1, #T_c6caa_row8_col7 {\n",
              "  background-color: #5470de;\n",
              "  color: #f1f1f1;\n",
              "}\n",
              "#T_c6caa_row2_col5 {\n",
              "  background-color: #4961d2;\n",
              "  color: #f1f1f1;\n",
              "}\n",
              "#T_c6caa_row2_col6, #T_c6caa_row6_col2 {\n",
              "  background-color: #506bda;\n",
              "  color: #f1f1f1;\n",
              "}\n",
              "#T_c6caa_row2_col7 {\n",
              "  background-color: #516ddb;\n",
              "  color: #f1f1f1;\n",
              "}\n",
              "#T_c6caa_row2_col8 {\n",
              "  background-color: #6485ec;\n",
              "  color: #f1f1f1;\n",
              "}\n",
              "#T_c6caa_row3_col0 {\n",
              "  background-color: #4055c8;\n",
              "  color: #f1f1f1;\n",
              "}\n",
              "#T_c6caa_row3_col1 {\n",
              "  background-color: #6e90f2;\n",
              "  color: #f1f1f1;\n",
              "}\n",
              "#T_c6caa_row3_col4, #T_c6caa_row6_col7 {\n",
              "  background-color: #cfdaea;\n",
              "  color: #000000;\n",
              "}\n",
              "#T_c6caa_row3_col5 {\n",
              "  background-color: #e3d9d3;\n",
              "  color: #000000;\n",
              "}\n",
              "#T_c6caa_row3_col6 {\n",
              "  background-color: #f2c9b4;\n",
              "  color: #000000;\n",
              "}\n",
              "#T_c6caa_row3_col7 {\n",
              "  background-color: #cdd9ec;\n",
              "  color: #000000;\n",
              "}\n",
              "#T_c6caa_row3_col8 {\n",
              "  background-color: #8db0fe;\n",
              "  color: #000000;\n",
              "}\n",
              "#T_c6caa_row4_col3, #T_c6caa_row7_col3 {\n",
              "  background-color: #bfd3f6;\n",
              "  color: #000000;\n",
              "}\n",
              "#T_c6caa_row4_col5 {\n",
              "  background-color: #e0dbd8;\n",
              "  color: #000000;\n",
              "}\n",
              "#T_c6caa_row4_col6 {\n",
              "  background-color: #cedaeb;\n",
              "  color: #000000;\n",
              "}\n",
              "#T_c6caa_row4_col7 {\n",
              "  background-color: #dadce0;\n",
              "  color: #000000;\n",
              "}\n",
              "#T_c6caa_row4_col8 {\n",
              "  background-color: #89acfd;\n",
              "  color: #000000;\n",
              "}\n",
              "#T_c6caa_row5_col0 {\n",
              "  background-color: #445acc;\n",
              "  color: #f1f1f1;\n",
              "}\n",
              "#T_c6caa_row5_col1, #T_c6caa_row8_col0 {\n",
              "  background-color: #4f69d9;\n",
              "  color: #f1f1f1;\n",
              "}\n",
              "#T_c6caa_row5_col3 {\n",
              "  background-color: #d5dbe5;\n",
              "  color: #000000;\n",
              "}\n",
              "#T_c6caa_row5_col4 {\n",
              "  background-color: #dedcdb;\n",
              "  color: #000000;\n",
              "}\n",
              "#T_c6caa_row5_col6 {\n",
              "  background-color: #d8dce2;\n",
              "  color: #000000;\n",
              "}\n",
              "#T_c6caa_row5_col7 {\n",
              "  background-color: #d7dce3;\n",
              "  color: #000000;\n",
              "}\n",
              "#T_c6caa_row5_col8 {\n",
              "  background-color: #8caffe;\n",
              "  color: #000000;\n",
              "}\n",
              "#T_c6caa_row6_col0, #T_c6caa_row8_col2 {\n",
              "  background-color: #4257c9;\n",
              "  color: #f1f1f1;\n",
              "}\n",
              "#T_c6caa_row6_col1 {\n",
              "  background-color: #5d7ce6;\n",
              "  color: #f1f1f1;\n",
              "}\n",
              "#T_c6caa_row6_col3 {\n",
              "  background-color: #efcebd;\n",
              "  color: #000000;\n",
              "}\n",
              "#T_c6caa_row6_col4 {\n",
              "  background-color: #d3dbe7;\n",
              "  color: #000000;\n",
              "}\n",
              "#T_c6caa_row6_col5 {\n",
              "  background-color: #dfdbd9;\n",
              "  color: #000000;\n",
              "}\n",
              "#T_c6caa_row7_col2 {\n",
              "  background-color: #4c66d6;\n",
              "  color: #f1f1f1;\n",
              "}\n",
              "#T_c6caa_row7_col4 {\n",
              "  background-color: #dcdddd;\n",
              "  color: #000000;\n",
              "}\n",
              "#T_c6caa_row7_col5 {\n",
              "  background-color: #dbdcde;\n",
              "  color: #000000;\n",
              "}\n",
              "#T_c6caa_row7_col6 {\n",
              "  background-color: #ccd9ed;\n",
              "  color: #000000;\n",
              "}\n",
              "#T_c6caa_row7_col8 {\n",
              "  background-color: #7093f3;\n",
              "  color: #f1f1f1;\n",
              "}\n",
              "#T_c6caa_row8_col4 {\n",
              "  background-color: #7295f4;\n",
              "  color: #f1f1f1;\n",
              "}\n",
              "#T_c6caa_row8_col6 {\n",
              "  background-color: #6788ee;\n",
              "  color: #f1f1f1;\n",
              "}\n",
              "</style>\n",
              "<table id=\"T_c6caa_\" class=\"dataframe\">\n",
              "  <thead>\n",
              "    <tr>\n",
              "      <th class=\"blank level0\" >&nbsp;</th>\n",
              "      <th class=\"col_heading level0 col0\" >telecommuting</th>\n",
              "      <th class=\"col_heading level0 col1\" >has_company_logo</th>\n",
              "      <th class=\"col_heading level0 col2\" >has_questions</th>\n",
              "      <th class=\"col_heading level0 col3\" >employment_type</th>\n",
              "      <th class=\"col_heading level0 col4\" >required_experience</th>\n",
              "      <th class=\"col_heading level0 col5\" >required_education</th>\n",
              "      <th class=\"col_heading level0 col6\" >industry</th>\n",
              "      <th class=\"col_heading level0 col7\" >function</th>\n",
              "      <th class=\"col_heading level0 col8\" >fraudulent</th>\n",
              "    </tr>\n",
              "  </thead>\n",
              "  <tbody>\n",
              "    <tr>\n",
              "      <th id=\"T_c6caa_level0_row0\" class=\"row_heading level0 row0\" >telecommuting</th>\n",
              "      <td id=\"T_c6caa_row0_col0\" class=\"data row0 col0\" >1.000000</td>\n",
              "      <td id=\"T_c6caa_row0_col1\" class=\"data row0 col1\" >-0.019836</td>\n",
              "      <td id=\"T_c6caa_row0_col2\" class=\"data row0 col2\" >0.020345</td>\n",
              "      <td id=\"T_c6caa_row0_col3\" class=\"data row0 col3\" >-0.015372</td>\n",
              "      <td id=\"T_c6caa_row0_col4\" class=\"data row0 col4\" >-0.034689</td>\n",
              "      <td id=\"T_c6caa_row0_col5\" class=\"data row0 col5\" >-0.001100</td>\n",
              "      <td id=\"T_c6caa_row0_col6\" class=\"data row0 col6\" >-0.012522</td>\n",
              "      <td id=\"T_c6caa_row0_col7\" class=\"data row0 col7\" >-0.037338</td>\n",
              "      <td id=\"T_c6caa_row0_col8\" class=\"data row0 col8\" >0.034523</td>\n",
              "    </tr>\n",
              "    <tr>\n",
              "      <th id=\"T_c6caa_level0_row1\" class=\"row_heading level0 row1\" >has_company_logo</th>\n",
              "      <td id=\"T_c6caa_row1_col0\" class=\"data row1 col0\" >-0.019836</td>\n",
              "      <td id=\"T_c6caa_row1_col1\" class=\"data row1 col1\" >1.000000</td>\n",
              "      <td id=\"T_c6caa_row1_col2\" class=\"data row1 col2\" >0.233932</td>\n",
              "      <td id=\"T_c6caa_row1_col3\" class=\"data row1 col3\" >-0.057829</td>\n",
              "      <td id=\"T_c6caa_row1_col4\" class=\"data row1 col4\" >-0.158293</td>\n",
              "      <td id=\"T_c6caa_row1_col5\" class=\"data row1 col5\" >-0.176888</td>\n",
              "      <td id=\"T_c6caa_row1_col6\" class=\"data row1 col6\" >-0.120947</td>\n",
              "      <td id=\"T_c6caa_row1_col7\" class=\"data row1 col7\" >-0.142539</td>\n",
              "      <td id=\"T_c6caa_row1_col8\" class=\"data row1 col8\" >-0.261971</td>\n",
              "    </tr>\n",
              "    <tr>\n",
              "      <th id=\"T_c6caa_level0_row2\" class=\"row_heading level0 row2\" >has_questions</th>\n",
              "      <td id=\"T_c6caa_row2_col0\" class=\"data row2 col0\" >0.020345</td>\n",
              "      <td id=\"T_c6caa_row2_col1\" class=\"data row2 col1\" >0.233932</td>\n",
              "      <td id=\"T_c6caa_row2_col2\" class=\"data row2 col2\" >1.000000</td>\n",
              "      <td id=\"T_c6caa_row2_col3\" class=\"data row2 col3\" >-0.020335</td>\n",
              "      <td id=\"T_c6caa_row2_col4\" class=\"data row2 col4\" >-0.059089</td>\n",
              "      <td id=\"T_c6caa_row2_col5\" class=\"data row2 col5\" >-0.121461</td>\n",
              "      <td id=\"T_c6caa_row2_col6\" class=\"data row2 col6\" >-0.040103</td>\n",
              "      <td id=\"T_c6caa_row2_col7\" class=\"data row2 col7\" >-0.053456</td>\n",
              "      <td id=\"T_c6caa_row2_col8\" class=\"data row2 col8\" >-0.091627</td>\n",
              "    </tr>\n",
              "    <tr>\n",
              "      <th id=\"T_c6caa_level0_row3\" class=\"row_heading level0 row3\" >employment_type</th>\n",
              "      <td id=\"T_c6caa_row3_col0\" class=\"data row3 col0\" >-0.015372</td>\n",
              "      <td id=\"T_c6caa_row3_col1\" class=\"data row3 col1\" >-0.057829</td>\n",
              "      <td id=\"T_c6caa_row3_col2\" class=\"data row3 col2\" >-0.020335</td>\n",
              "      <td id=\"T_c6caa_row3_col3\" class=\"data row3 col3\" >1.000000</td>\n",
              "      <td id=\"T_c6caa_row3_col4\" class=\"data row3 col4\" >0.362176</td>\n",
              "      <td id=\"T_c6caa_row3_col5\" class=\"data row3 col5\" >0.439478</td>\n",
              "      <td id=\"T_c6caa_row3_col6\" class=\"data row3 col6\" >0.558086</td>\n",
              "      <td id=\"T_c6caa_row3_col7\" class=\"data row3 col7\" >0.362255</td>\n",
              "      <td id=\"T_c6caa_row3_col8\" class=\"data row3 col8\" >0.057070</td>\n",
              "    </tr>\n",
              "    <tr>\n",
              "      <th id=\"T_c6caa_level0_row4\" class=\"row_heading level0 row4\" >required_experience</th>\n",
              "      <td id=\"T_c6caa_row4_col0\" class=\"data row4 col0\" >-0.034689</td>\n",
              "      <td id=\"T_c6caa_row4_col1\" class=\"data row4 col1\" >-0.158293</td>\n",
              "      <td id=\"T_c6caa_row4_col2\" class=\"data row4 col2\" >-0.059089</td>\n",
              "      <td id=\"T_c6caa_row4_col3\" class=\"data row4 col3\" >0.362176</td>\n",
              "      <td id=\"T_c6caa_row4_col4\" class=\"data row4 col4\" >1.000000</td>\n",
              "      <td id=\"T_c6caa_row4_col5\" class=\"data row4 col5\" >0.427080</td>\n",
              "      <td id=\"T_c6caa_row4_col6\" class=\"data row4 col6\" >0.378939</td>\n",
              "      <td id=\"T_c6caa_row4_col7\" class=\"data row4 col7\" >0.418974</td>\n",
              "      <td id=\"T_c6caa_row4_col8\" class=\"data row4 col8\" >0.041328</td>\n",
              "    </tr>\n",
              "    <tr>\n",
              "      <th id=\"T_c6caa_level0_row5\" class=\"row_heading level0 row5\" >required_education</th>\n",
              "      <td id=\"T_c6caa_row5_col0\" class=\"data row5 col0\" >-0.001100</td>\n",
              "      <td id=\"T_c6caa_row5_col1\" class=\"data row5 col1\" >-0.176888</td>\n",
              "      <td id=\"T_c6caa_row5_col2\" class=\"data row5 col2\" >-0.121461</td>\n",
              "      <td id=\"T_c6caa_row5_col3\" class=\"data row5 col3\" >0.439478</td>\n",
              "      <td id=\"T_c6caa_row5_col4\" class=\"data row5 col4\" >0.427080</td>\n",
              "      <td id=\"T_c6caa_row5_col5\" class=\"data row5 col5\" >1.000000</td>\n",
              "      <td id=\"T_c6caa_row5_col6\" class=\"data row5 col6\" >0.421885</td>\n",
              "      <td id=\"T_c6caa_row5_col7\" class=\"data row5 col7\" >0.404328</td>\n",
              "      <td id=\"T_c6caa_row5_col8\" class=\"data row5 col8\" >0.048955</td>\n",
              "    </tr>\n",
              "    <tr>\n",
              "      <th id=\"T_c6caa_level0_row6\" class=\"row_heading level0 row6\" >industry</th>\n",
              "      <td id=\"T_c6caa_row6_col0\" class=\"data row6 col0\" >-0.012522</td>\n",
              "      <td id=\"T_c6caa_row6_col1\" class=\"data row6 col1\" >-0.120947</td>\n",
              "      <td id=\"T_c6caa_row6_col2\" class=\"data row6 col2\" >-0.040103</td>\n",
              "      <td id=\"T_c6caa_row6_col3\" class=\"data row6 col3\" >0.558086</td>\n",
              "      <td id=\"T_c6caa_row6_col4\" class=\"data row6 col4\" >0.378939</td>\n",
              "      <td id=\"T_c6caa_row6_col5\" class=\"data row6 col5\" >0.421885</td>\n",
              "      <td id=\"T_c6caa_row6_col6\" class=\"data row6 col6\" >1.000000</td>\n",
              "      <td id=\"T_c6caa_row6_col7\" class=\"data row6 col7\" >0.373065</td>\n",
              "      <td id=\"T_c6caa_row6_col8\" class=\"data row6 col8\" >0.037297</td>\n",
              "    </tr>\n",
              "    <tr>\n",
              "      <th id=\"T_c6caa_level0_row7\" class=\"row_heading level0 row7\" >function</th>\n",
              "      <td id=\"T_c6caa_row7_col0\" class=\"data row7 col0\" >-0.037338</td>\n",
              "      <td id=\"T_c6caa_row7_col1\" class=\"data row7 col1\" >-0.142539</td>\n",
              "      <td id=\"T_c6caa_row7_col2\" class=\"data row7 col2\" >-0.053456</td>\n",
              "      <td id=\"T_c6caa_row7_col3\" class=\"data row7 col3\" >0.362255</td>\n",
              "      <td id=\"T_c6caa_row7_col4\" class=\"data row7 col4\" >0.418974</td>\n",
              "      <td id=\"T_c6caa_row7_col5\" class=\"data row7 col5\" >0.404328</td>\n",
              "      <td id=\"T_c6caa_row7_col6\" class=\"data row7 col6\" >0.373065</td>\n",
              "      <td id=\"T_c6caa_row7_col7\" class=\"data row7 col7\" >1.000000</td>\n",
              "      <td id=\"T_c6caa_row7_col8\" class=\"data row7 col8\" >-0.047461</td>\n",
              "    </tr>\n",
              "    <tr>\n",
              "      <th id=\"T_c6caa_level0_row8\" class=\"row_heading level0 row8\" >fraudulent</th>\n",
              "      <td id=\"T_c6caa_row8_col0\" class=\"data row8 col0\" >0.034523</td>\n",
              "      <td id=\"T_c6caa_row8_col1\" class=\"data row8 col1\" >-0.261971</td>\n",
              "      <td id=\"T_c6caa_row8_col2\" class=\"data row8 col2\" >-0.091627</td>\n",
              "      <td id=\"T_c6caa_row8_col3\" class=\"data row8 col3\" >0.057070</td>\n",
              "      <td id=\"T_c6caa_row8_col4\" class=\"data row8 col4\" >0.041328</td>\n",
              "      <td id=\"T_c6caa_row8_col5\" class=\"data row8 col5\" >0.048955</td>\n",
              "      <td id=\"T_c6caa_row8_col6\" class=\"data row8 col6\" >0.037297</td>\n",
              "      <td id=\"T_c6caa_row8_col7\" class=\"data row8 col7\" >-0.047461</td>\n",
              "      <td id=\"T_c6caa_row8_col8\" class=\"data row8 col8\" >1.000000</td>\n",
              "    </tr>\n",
              "  </tbody>\n",
              "</table>\n"
            ]
          },
          "metadata": {},
          "execution_count": 82
        }
      ]
    },
    {
      "cell_type": "code",
      "source": [
        "sns.heatmap(main_data_corr.corr())"
      ],
      "metadata": {
        "colab": {
          "base_uri": "https://localhost:8080/",
          "height": 393
        },
        "id": "i2ghKSR0S3N0",
        "outputId": "ee14f257-6e80-4e47-e397-c08dd4f63a7a"
      },
      "id": "i2ghKSR0S3N0",
      "execution_count": 83,
      "outputs": [
        {
          "output_type": "execute_result",
          "data": {
            "text/plain": [
              "<matplotlib.axes._subplots.AxesSubplot at 0x7f121a3a0650>"
            ]
          },
          "metadata": {},
          "execution_count": 83
        },
        {
          "output_type": "display_data",
          "data": {
            "text/plain": [
              "<Figure size 432x288 with 2 Axes>"
            ],
            "image/png": "[encoded data removed]"
          },
          "metadata": {}
        }
      ]
    },
    {
      "cell_type": "code",
      "source": [
        "sns.regplot(x=main_data_corr[\"fraudulent\"], y=main_data_corr[\"has_questions\"])"
      ],
      "metadata": {
        "colab": {
          "base_uri": "https://localhost:8080/",
          "height": 303
        },
        "id": "y1ntT6_vS3QC",
        "outputId": "bad90f58-42ee-49aa-d83a-80ef5016a32f"
      },
      "id": "y1ntT6_vS3QC",
      "execution_count": 84,
      "outputs": [
        {
          "output_type": "execute_result",
          "data": {
            "text/plain": [
              "<matplotlib.axes._subplots.AxesSubplot at 0x7f121a3df490>"
            ]
          },
          "metadata": {},
          "execution_count": 84
        },
        {
          "output_type": "display_data",
          "data": {
            "text/plain": [
              "<Figure size 432x288 with 1 Axes>"
            ],
            "image/png": "[encoded data removed]"
          },
          "metadata": {}
        }
      ]
    },
    {
      "cell_type": "markdown",
      "metadata": {
        "id": "RCRk-5mKcOTK"
      },
      "source": [
        "## TEST EDA\n"
      ],
      "id": "RCRk-5mKcOTK"
    },
    {
      "cell_type": "code",
      "execution_count": 85,
      "metadata": {
        "id": "9gTobTOZcOTK"
      },
      "outputs": [],
      "source": [
        "count_plt_smote = {0: 13598, 1: 13598}\n",
        "count_plt = {0: 13598, 1: 706}"
      ],
      "id": "9gTobTOZcOTK"
    },
    {
      "cell_type": "code",
      "execution_count": 86,
      "metadata": {
        "colab": {
          "base_uri": "https://localhost:8080/",
          "height": 355
        },
        "outputId": "b34d48d8-567e-4476-c438-0992abcec390",
        "id": "I79a-M41cOTK"
      },
      "outputs": [
        {
          "output_type": "display_data",
          "data": {
            "text/plain": [
              "<Figure size 720x360 with 1 Axes>"
            ],
            "image/png": "[encoded data removed]"
          },
          "metadata": {}
        }
      ],
      "source": [
        "fig = plt.figure(figsize = (10, 5))\n",
        "lst1 = (0,1)\n",
        "lst2 = (13598,13598)\n",
        "#  Bar plot\n",
        "plt.bar(lst1, lst2, color ='orange')\n",
        "plt.xlabel(\"Courses offered\")\n",
        "plt.ylabel(\"No. of students enrolled\")\n",
        "plt.title(\"Students enrolled in different courses\")\n",
        "plt.show()"
      ],
      "id": "I79a-M41cOTK"
    },
    {
      "cell_type": "markdown",
      "metadata": {
        "id": "UeZ4A3drZWPi"
      },
      "source": [
        "# Model Dev"
      ],
      "id": "UeZ4A3drZWPi"
    },
    {
      "cell_type": "markdown",
      "metadata": {
        "id": "gXhIZwmlZZpZ"
      },
      "source": [
        "## Split Training and Testing and Apply SMOTE"
      ],
      "id": "gXhIZwmlZZpZ"
    },
    {
      "cell_type": "code",
      "execution_count": 87,
      "metadata": {
        "id": "mJ3scbanZdeu"
      },
      "outputs": [],
      "source": [
        "X_train, X_test, y_train, y_test = train_test_split(X, y, test_size=0.2, random_state=10)\n",
        "\n",
        "oversample = SMOTE()\n",
        "X_train_bal, y_train_bal = oversample.fit_resample(X_train, y_train)"
      ],
      "id": "mJ3scbanZdeu"
    },
    {
      "cell_type": "code",
      "source": [
        "print(len(X_train))\n",
        "print(len(y_train))\n",
        "print(len(X_train_bal))\n",
        "print(len(y_train_bal))"
      ],
      "metadata": {
        "colab": {
          "base_uri": "https://localhost:8080/"
        },
        "id": "Qu612TUY6nXw",
        "outputId": "09c22c53-136a-48ef-d24f-5e2e4598c5d3"
      },
      "id": "Qu612TUY6nXw",
      "execution_count": 88,
      "outputs": [
        {
          "output_type": "stream",
          "name": "stdout",
          "text": [
            "14304\n",
            "14304\n",
            "27196\n",
            "27196\n"
          ]
        }
      ]
    },
    {
      "cell_type": "markdown",
      "metadata": {
        "id": "ARhPZStwOlGI"
      },
      "source": [
        "##Logistic"
      ],
      "id": "ARhPZStwOlGI"
    },
    {
      "cell_type": "code",
      "execution_count": 89,
      "metadata": {
        "colab": {
          "base_uri": "https://localhost:8080/"
        },
        "id": "9_6i1Rb1Op7I",
        "outputId": "dcc7c093-d45a-4c6e-c7aa-ff4d0bc42d6f"
      },
      "outputs": [
        {
          "output_type": "execute_result",
          "data": {
            "text/plain": [
              "LogisticRegression(max_iter=500)"
            ]
          },
          "metadata": {},
          "execution_count": 89
        }
      ],
      "source": [
        "lr_clf = LogisticRegression(solver='lbfgs', max_iter=500)\n",
        "lr_clf.fit(X_train_bal, y_train_bal)"
      ],
      "id": "9_6i1Rb1Op7I"
    },
    {
      "cell_type": "code",
      "execution_count": 90,
      "metadata": {
        "colab": {
          "base_uri": "https://localhost:8080/"
        },
        "id": "mg8zphKHiG79",
        "outputId": "81019af0-675f-49c3-ae36-7bc19a4d8665"
      },
      "outputs": [
        {
          "output_type": "stream",
          "name": "stdout",
          "text": [
            "Recall :0.80 \n",
            "F1_Score: 0.33 \n",
            "AUC score : 0.83\n",
            "Accuracy: 0.86\n",
            "Mean squared error is: 0.14\n",
            "Mean absolute error is: 0.14\n",
            "Root mean square error is: 0.38\n"
          ]
        }
      ],
      "source": [
        "lr_pred = lr_clf.predict(X_test)\n",
        "lr_recall  = metrics.recall_score(y_test, lr_pred)\n",
        "lr_f1_score = metrics.f1_score(y_test,lr_pred) \n",
        "\n",
        "\n",
        "print (\"Recall :%.2f \"% lr_recall)\n",
        "print(\"F1_Score: %.2f \"% lr_f1_score)\n",
        "print (\"AUC score :\", np.round(roc_auc_score(y_test, lr_pred),2))\n",
        "print(\"Accuracy:\",round(metrics.accuracy_score(y_test, lr_pred),2))\n",
        "print('Mean squared error is: %.2f' % mean_squared_error(y_test, lr_pred))\n",
        "print('Mean absolute error is: %.2f' % mean_absolute_error(y_test, lr_pred))\n",
        "print('Root mean square error is: %.2f' % sqrt(mean_absolute_error(y_test, lr_pred)))"
      ],
      "id": "mg8zphKHiG79"
    },
    {
      "cell_type": "markdown",
      "source": [
        "### Confusion Matrix"
      ],
      "metadata": {
        "id": "halawZt4X8ao"
      },
      "id": "halawZt4X8ao"
    },
    {
      "cell_type": "code",
      "source": [
        "#Generate the confusion matrix\n",
        "lr_cf_matrix = confusion_matrix(y_test, lr_pred)\n",
        "\n",
        "print(lr_cf_matrix)"
      ],
      "metadata": {
        "colab": {
          "base_uri": "https://localhost:8080/"
        },
        "id": "TUAiZMXSX-UK",
        "outputId": "68863637-d3b4-4401-a64d-2b8dfabbfe96"
      },
      "id": "TUAiZMXSX-UK",
      "execution_count": 91,
      "outputs": [
        {
          "output_type": "stream",
          "name": "stdout",
          "text": [
            "[[2939  477]\n",
            " [  32  128]]\n"
          ]
        }
      ]
    },
    {
      "cell_type": "code",
      "source": [
        "ConfusionMatrixDisplay.from_predictions(y_test, lr_pred)\n",
        "\n",
        "plt.show()"
      ],
      "metadata": {
        "colab": {
          "base_uri": "https://localhost:8080/",
          "height": 285
        },
        "id": "waHemb5TYHTF",
        "outputId": "b8547a94-cba4-4793-ef43-2cc36c8a394a"
      },
      "id": "waHemb5TYHTF",
      "execution_count": 92,
      "outputs": [
        {
          "output_type": "display_data",
          "data": {
            "text/plain": [
              "<Figure size 432x288 with 2 Axes>"
            ],
            "image/png": "[encoded data removed]"
          },
          "metadata": {}
        }
      ]
    },
    {
      "cell_type": "markdown",
      "source": [
        "### ROC Curve"
      ],
      "metadata": {
        "id": "xQhOSZmoYR4H"
      },
      "id": "xQhOSZmoYR4H"
    },
    {
      "cell_type": "code",
      "source": [
        "lr_fpr, lr_tpr, _ = metrics.roc_curve(y_test,lr_pred)\n",
        "lr_auc = metrics.roc_auc_score(y_test, lr_pred)\n",
        "#create ROC curve\n",
        "plt.plot(lr_fpr,lr_tpr,label=\"AUC=\"+str(lr_auc))\n",
        "plt.ylabel('True Positive Rate')\n",
        "plt.xlabel('False Positive Rate')\n",
        "plt.legend(loc=4)\n",
        "plt.show()"
      ],
      "metadata": {
        "colab": {
          "base_uri": "https://localhost:8080/",
          "height": 285
        },
        "id": "yRsaSER5YSXA",
        "outputId": "d9ff2ed4-f887-40dd-c752-3b5d3b6fb943"
      },
      "id": "yRsaSER5YSXA",
      "execution_count": 93,
      "outputs": [
        {
          "output_type": "display_data",
          "data": {
            "text/plain": [
              "<Figure size 432x288 with 1 Axes>"
            ],
            "image/png": "[encoded data removed]"
          },
          "metadata": {}
        }
      ]
    },
    {
      "cell_type": "markdown",
      "source": [
        "### ROC Using Probability"
      ],
      "metadata": {
        "id": "GeU1BNOvfABZ"
      },
      "id": "GeU1BNOvfABZ"
    },
    {
      "cell_type": "code",
      "source": [
        "model = LogisticRegression(solver='lbfgs', max_iter=500)\n",
        "model.fit(X_train_bal, y_train_bal)"
      ],
      "metadata": {
        "colab": {
          "base_uri": "https://localhost:8080/"
        },
        "id": "fqRnOzw_f0o3",
        "outputId": "8575a5c3-0606-40cb-80a7-3ba20d5aa2d8"
      },
      "execution_count": 94,
      "outputs": [
        {
          "output_type": "execute_result",
          "data": {
            "text/plain": [
              "LogisticRegression(max_iter=500)"
            ]
          },
          "metadata": {},
          "execution_count": 94
        }
      ],
      "id": "fqRnOzw_f0o3"
    },
    {
      "cell_type": "code",
      "source": [
        "lr_proba = lr_clf.predict_proba(X_test)"
      ],
      "metadata": {
        "id": "ZrSCSRZDf7Di"
      },
      "execution_count": 95,
      "outputs": [],
      "id": "ZrSCSRZDf7Di"
    },
    {
      "cell_type": "code",
      "source": [
        "import scikitplot as skplt\n",
        "plot = skplt.metrics.plot_roc(y_test, lr_proba)\n",
        "plt.title(\"ROC Curves - Logistic Regression\")"
      ],
      "metadata": {
        "colab": {
          "base_uri": "https://localhost:8080/",
          "height": 321
        },
        "id": "1Vm0Hey5rsyB",
        "outputId": "c614c23f-e4b2-4a48-ecc1-d6badeb8a2c0"
      },
      "id": "1Vm0Hey5rsyB",
      "execution_count": 96,
      "outputs": [
        {
          "output_type": "execute_result",
          "data": {
            "text/plain": [
              "Text(0.5, 1.0, 'ROC Curves - Logistic Regression')"
            ]
          },
          "metadata": {},
          "execution_count": 96
        },
        {
          "output_type": "display_data",
          "data": {
            "text/plain": [
              "<Figure size 432x288 with 1 Axes>"
            ],
            "image/png": "[encoded data removed]"
          },
          "metadata": {}
        }
      ]
    },
    {
      "cell_type": "code",
      "source": [
        "lr_proba"
      ],
      "metadata": {
        "colab": {
          "base_uri": "https://localhost:8080/"
        },
        "id": "9E0A-7jskkb6",
        "outputId": "501a1981-8b3e-4a5a-84fc-d6134a44a4be"
      },
      "id": "9E0A-7jskkb6",
      "execution_count": 97,
      "outputs": [
        {
          "output_type": "execute_result",
          "data": {
            "text/plain": [
              "array([[0.04703253, 0.95296747],\n",
              "       [0.95115636, 0.04884364],\n",
              "       [0.64035878, 0.35964122],\n",
              "       ...,\n",
              "       [0.87226762, 0.12773238],\n",
              "       [0.78339522, 0.21660478],\n",
              "       [0.97368902, 0.02631098]])"
            ]
          },
          "metadata": {},
          "execution_count": 97
        }
      ]
    },
    {
      "cell_type": "code",
      "source": [
        "lr_proba = lr_proba[:, 1]\n"
      ],
      "metadata": {
        "id": "dwVLUrlrfPao"
      },
      "execution_count": 98,
      "outputs": [],
      "id": "dwVLUrlrfPao"
    },
    {
      "cell_type": "code",
      "source": [
        "lr_auc = roc_auc_score(y_test, lr_proba)"
      ],
      "metadata": {
        "id": "ZhcGij5mfPap"
      },
      "execution_count": 99,
      "outputs": [],
      "id": "ZhcGij5mfPap"
    },
    {
      "cell_type": "code",
      "source": [
        "print('Logistic: ROC AUC=%.2f' % (lr_auc))"
      ],
      "metadata": {
        "colab": {
          "base_uri": "https://localhost:8080/"
        },
        "outputId": "884d818e-5168-4898-9346-323c7f3ef65b",
        "id": "E0E2-4J0fPap"
      },
      "execution_count": 100,
      "outputs": [
        {
          "output_type": "stream",
          "name": "stdout",
          "text": [
            "Logistic: ROC AUC=0.91\n"
          ]
        }
      ],
      "id": "E0E2-4J0fPap"
    },
    {
      "cell_type": "code",
      "source": [
        "lr_fprs, lr_tprs, _ = roc_curve(y_test, lr_proba)"
      ],
      "metadata": {
        "id": "q_CaC96FfPap"
      },
      "execution_count": 101,
      "outputs": [],
      "id": "q_CaC96FfPap"
    },
    {
      "cell_type": "code",
      "source": [
        "plt.plot(lr_fprs, lr_tprs, marker='.', label=\"AUC=\"+str(lr_auc))\n",
        "plt.ylabel('True Positive Rate')\n",
        "plt.xlabel('False Positive Rate')\n",
        "plt.legend()\n",
        "plt.show()\n"
      ],
      "metadata": {
        "colab": {
          "base_uri": "https://localhost:8080/",
          "height": 285
        },
        "outputId": "57e32ac3-b1be-4bf1-9904-9fc360398f53",
        "id": "Ss9izsKKfPap"
      },
      "execution_count": 102,
      "outputs": [
        {
          "output_type": "display_data",
          "data": {
            "text/plain": [
              "<Figure size 432x288 with 1 Axes>"
            ],
            "image/png": "[encoded data removed]"
          },
          "metadata": {}
        }
      ],
      "id": "Ss9izsKKfPap"
    },
    {
      "cell_type": "markdown",
      "metadata": {
        "id": "9113c045-5285-4c33-aa65-15df6f79ed9d"
      },
      "source": [
        "## Random Forest"
      ],
      "id": "9113c045-5285-4c33-aa65-15df6f79ed9d"
    },
    {
      "cell_type": "markdown",
      "source": [
        "### Search for Optimal RF Parameters"
      ],
      "metadata": {
        "id": "gWC8HBKfqkrQ"
      },
      "id": "gWC8HBKfqkrQ"
    },
    {
      "cell_type": "code",
      "execution_count": 103,
      "metadata": {
        "colab": {
          "base_uri": "https://localhost:8080/"
        },
        "id": "7bd228ad-befc-42ed-91ce-8daf7b8df33c",
        "outputId": "955c27dd-e4a3-43f2-b15a-cf20c05ac1aa"
      },
      "outputs": [
        {
          "output_type": "execute_result",
          "data": {
            "text/plain": [
              "RandomizedSearchCV(cv=4, estimator=RandomForestClassifier(), n_iter=5,\n",
              "                   param_distributions={'max_depth': [10, 20, 30, 40, 50, None],\n",
              "                                        'min_samples_leaf': [1, 2],\n",
              "                                        'min_samples_split': [2, 5],\n",
              "                                        'n_estimators': [10, 12, 15, 17, 20]},\n",
              "                   scoring='f1')"
            ]
          },
          "metadata": {},
          "execution_count": 103
        }
      ],
      "source": [
        "# Number of trees in random forest\n",
        "n_estimators = [int(x) for x in np.linspace(start = 10, stop = 20, num = 5)]\n",
        "\n",
        "# Maximum number of levels in tree\n",
        "max_depth = [int(x) for x in np.linspace(10, 50, num = 5)]\n",
        "max_depth.append(None)\n",
        "\n",
        "# Minimum number of samples required to split a node\n",
        "min_samples_split = [2, 5]\n",
        "\n",
        "# Minimum number of samples required at each leaf node\n",
        "min_samples_leaf = [1, 2]\n",
        "\n",
        "# Create the random grid\n",
        "random_grid = {'n_estimators': n_estimators,\n",
        "               'max_depth': max_depth,\n",
        "               'min_samples_split': min_samples_split,\n",
        "               'min_samples_leaf': min_samples_leaf}\n",
        "\n",
        "\n",
        "rf = RandomForestClassifier()\n",
        "rf_random = RandomizedSearchCV(estimator = rf, param_distributions = random_grid, n_iter = 5, cv = 4,scoring = 'f1')\n",
        "rf_random.fit(X_train_bal, y_train_bal)"
      ],
      "id": "7bd228ad-befc-42ed-91ce-8daf7b8df33c"
    },
    {
      "cell_type": "code",
      "execution_count": 104,
      "metadata": {
        "colab": {
          "base_uri": "https://localhost:8080/"
        },
        "id": "ec04a86e-dead-4694-89b1-bf16723f78c6",
        "outputId": "b4c085ef-3538-41cb-df20-b7043f6ab8e3"
      },
      "outputs": [
        {
          "output_type": "stream",
          "name": "stdout",
          "text": [
            "Average of the best f1-score in various folds during cross validation =  0.9864163170011713\n",
            "The best parameters found during k-fold cross validation is =  {'n_estimators': 15, 'min_samples_split': 5, 'min_samples_leaf': 1, 'max_depth': 40}\n"
          ]
        }
      ],
      "source": [
        "print(\"Average of the best f1-score in various folds during cross validation = \",rf_random.best_score_)\n",
        "print(\"The best parameters found during k-fold cross validation is = \",rf_random.best_params_)"
      ],
      "id": "ec04a86e-dead-4694-89b1-bf16723f78c6"
    },
    {
      "cell_type": "markdown",
      "source": [
        "### Train"
      ],
      "metadata": {
        "id": "45ckxHT3zBR3"
      },
      "id": "45ckxHT3zBR3"
    },
    {
      "cell_type": "code",
      "execution_count": 105,
      "metadata": {
        "colab": {
          "base_uri": "https://localhost:8080/"
        },
        "id": "-nYh8LoKm8Lr",
        "outputId": "00477348-81f8-4954-a0ff-d05a43f620d3"
      },
      "outputs": [
        {
          "output_type": "execute_result",
          "data": {
            "text/plain": [
              "RandomForestClassifier(max_depth=30, min_samples_leaf=2, n_estimators=15)"
            ]
          },
          "metadata": {},
          "execution_count": 105
        }
      ],
      "source": [
        "rfc = RandomForestClassifier(n_estimators=15, min_samples_split = 2, min_samples_leaf = 2, max_depth= 30)\n",
        "rfc.fit(X_train_bal, y_train_bal)"
      ],
      "id": "-nYh8LoKm8Lr"
    },
    {
      "cell_type": "code",
      "execution_count": 106,
      "metadata": {
        "colab": {
          "base_uri": "https://localhost:8080/"
        },
        "id": "30JHMFh6m3Rl",
        "outputId": "5582efa7-2d73-4995-eafe-f0925a880828"
      },
      "outputs": [
        {
          "output_type": "stream",
          "name": "stdout",
          "text": [
            "Recall :0.57 \n",
            "F1_Score: 0.63 \n",
            "AUC score : 0.78\n",
            "Accuracy: 0.97\n",
            "Mean squared error is: 0.03\n",
            "Mean absolute error is: 0.03\n",
            "Root mean square error is: 0.17\n"
          ]
        }
      ],
      "source": [
        "rf_pred = rfc.predict(X_test)\n",
        "rf_recall  = metrics.recall_score(y_test, rf_pred)\n",
        "rf_f1_score = metrics.f1_score(y_test,rf_pred) \n",
        "\n",
        "\n",
        "print (\"Recall :%.2f \"% rf_recall)\n",
        "print(\"F1_Score: %.2f \"% rf_f1_score)\n",
        "print (\"AUC score :\", np.round(roc_auc_score(y_test, rf_pred),2))\n",
        "print(\"Accuracy:\",round(metrics.accuracy_score(y_test, rf_pred),2))\n",
        "print('Mean squared error is: %.2f' % mean_squared_error(y_test, rf_pred))\n",
        "print('Mean absolute error is: %.2f' % mean_absolute_error(y_test, rf_pred))\n",
        "print('Root mean square error is: %.2f' % sqrt(mean_absolute_error(y_test, rf_pred)))"
      ],
      "id": "30JHMFh6m3Rl"
    },
    {
      "cell_type": "markdown",
      "metadata": {
        "id": "dLqPoq1PVX-s"
      },
      "source": [
        "### Confusion Matrix"
      ],
      "id": "dLqPoq1PVX-s"
    },
    {
      "cell_type": "code",
      "execution_count": 107,
      "metadata": {
        "colab": {
          "base_uri": "https://localhost:8080/"
        },
        "id": "h0v7XMnmTnrC",
        "outputId": "8adbac36-80d0-406e-8fde-16be08a03638"
      },
      "outputs": [
        {
          "output_type": "stream",
          "name": "stdout",
          "text": [
            "[[3376   40]\n",
            " [  68   92]]\n"
          ]
        }
      ],
      "source": [
        "#Generate the confusion matrix\n",
        "rf_cf_matrix = confusion_matrix(y_test, rf_pred)\n",
        "\n",
        "print(rf_cf_matrix)"
      ],
      "id": "h0v7XMnmTnrC"
    },
    {
      "cell_type": "code",
      "execution_count": 108,
      "metadata": {
        "colab": {
          "base_uri": "https://localhost:8080/",
          "height": 285
        },
        "id": "NAOuZE4YVC7M",
        "outputId": "d00a9551-b29c-4153-ed52-41783917c56b"
      },
      "outputs": [
        {
          "output_type": "display_data",
          "data": {
            "text/plain": [
              "<Figure size 432x288 with 2 Axes>"
            ],
            "image/png": "[encoded data removed]"
          },
          "metadata": {}
        }
      ],
      "source": [
        "ConfusionMatrixDisplay.from_predictions(y_test, rf_pred)\n",
        "\n",
        "plt.show()"
      ],
      "id": "NAOuZE4YVC7M"
    },
    {
      "cell_type": "markdown",
      "metadata": {
        "id": "kdybEfI_Vawl"
      },
      "source": [
        "### ROC Curve"
      ],
      "id": "kdybEfI_Vawl"
    },
    {
      "cell_type": "code",
      "execution_count": 109,
      "metadata": {
        "colab": {
          "base_uri": "https://localhost:8080/",
          "height": 285
        },
        "id": "ZMLoy9mJkFby",
        "outputId": "74582fc2-1027-422f-e2fb-3fec095d5239"
      },
      "outputs": [
        {
          "output_type": "display_data",
          "data": {
            "text/plain": [
              "<Figure size 432x288 with 1 Axes>"
            ],
            "image/png": "[encoded data removed]"
          },
          "metadata": {}
        }
      ],
      "source": [
        "rf_fpr, rf_tpr, _ = metrics.roc_curve(y_test,rf_pred)\n",
        "rf_auc = metrics.roc_auc_score(y_test, rf_pred)\n",
        "#create ROC curve\n",
        "plt.plot(rf_fpr,rf_tpr,label=\"AUC=\"+str(rf_auc))\n",
        "plt.ylabel('True Positive Rate')\n",
        "plt.xlabel('False Positive Rate')\n",
        "plt.legend(loc=4)\n",
        "plt.show()"
      ],
      "id": "ZMLoy9mJkFby"
    },
    {
      "cell_type": "markdown",
      "source": [
        "### ROC Using Probability"
      ],
      "metadata": {
        "id": "pyXecXEnj1ww"
      },
      "id": "pyXecXEnj1ww"
    },
    {
      "cell_type": "code",
      "source": [
        "rf_proba = rfc.predict_proba(X_test)"
      ],
      "metadata": {
        "id": "9sfIZ5qlj1wx"
      },
      "execution_count": 110,
      "outputs": [],
      "id": "9sfIZ5qlj1wx"
    },
    {
      "cell_type": "code",
      "source": [
        "plot = skplt.metrics.plot_roc(y_test, rf_proba)\n",
        "plt.title(\"ROC Curves - Random Forest\")"
      ],
      "metadata": {
        "colab": {
          "base_uri": "https://localhost:8080/",
          "height": 321
        },
        "id": "jokAdAystOnN",
        "outputId": "e5e89632-beea-47e3-a372-ff45fd8c7e26"
      },
      "id": "jokAdAystOnN",
      "execution_count": 111,
      "outputs": [
        {
          "output_type": "execute_result",
          "data": {
            "text/plain": [
              "Text(0.5, 1.0, 'ROC Curves - Random Forest')"
            ]
          },
          "metadata": {},
          "execution_count": 111
        },
        {
          "output_type": "display_data",
          "data": {
            "text/plain": [
              "<Figure size 432x288 with 1 Axes>"
            ],
            "image/png": "[encoded data removed]"
          },
          "metadata": {}
        }
      ]
    },
    {
      "cell_type": "code",
      "source": [
        "rf_proba = rf_proba[:, 1]"
      ],
      "metadata": {
        "id": "w0aS5I0Uj1wx"
      },
      "execution_count": 112,
      "outputs": [],
      "id": "w0aS5I0Uj1wx"
    },
    {
      "cell_type": "code",
      "source": [
        "rf_auc = roc_auc_score(y_test, rf_proba)"
      ],
      "metadata": {
        "id": "jB-bBZHGj1wx"
      },
      "execution_count": 113,
      "outputs": [],
      "id": "jB-bBZHGj1wx"
    },
    {
      "cell_type": "code",
      "source": [
        "print('Logistic: ROC AUC=%.2f' % (rf_auc))"
      ],
      "metadata": {
        "colab": {
          "base_uri": "https://localhost:8080/"
        },
        "outputId": "730aed4c-3b19-4172-d39d-066a7df16746",
        "id": "IdEhRJ2yj1wx"
      },
      "execution_count": 114,
      "outputs": [
        {
          "output_type": "stream",
          "name": "stdout",
          "text": [
            "Logistic: ROC AUC=0.96\n"
          ]
        }
      ],
      "id": "IdEhRJ2yj1wx"
    },
    {
      "cell_type": "code",
      "source": [
        "rf_fpr, rf_tpr, _ = roc_curve(y_test, rf_proba)"
      ],
      "metadata": {
        "id": "1CLGZI_Gj1wx"
      },
      "execution_count": 115,
      "outputs": [],
      "id": "1CLGZI_Gj1wx"
    },
    {
      "cell_type": "code",
      "source": [
        "plt.plot(rf_fpr, rf_tpr, marker='.', label=\"AUC=\"+str(rf_auc))\n",
        "plt.ylabel('True Positive Rate')\n",
        "plt.xlabel('False Positive Rate')\n",
        "plt.legend()\n",
        "plt.show()\n"
      ],
      "metadata": {
        "colab": {
          "base_uri": "https://localhost:8080/",
          "height": 285
        },
        "outputId": "59809035-9308-4946-fb71-7973b8764502",
        "id": "QKMBUENSj1wy"
      },
      "execution_count": 116,
      "outputs": [
        {
          "output_type": "display_data",
          "data": {
            "text/plain": [
              "<Figure size 432x288 with 1 Axes>"
            ],
            "image/png": "[encoded data removed]"
          },
          "metadata": {}
        }
      ],
      "id": "QKMBUENSj1wy"
    },
    {
      "cell_type": "markdown",
      "metadata": {
        "id": "JuiGNquLXoYm"
      },
      "source": [
        "## Gaussian Naive Bayes"
      ],
      "id": "JuiGNquLXoYm"
    },
    {
      "cell_type": "code",
      "execution_count": 117,
      "metadata": {
        "id": "m6jpX4WFJdcg"
      },
      "outputs": [],
      "source": [
        "model=GaussianNB()\n",
        "model.fit(X_train_bal, y_train_bal)\n",
        "y_pred_G=model.predict(X_test)"
      ],
      "id": "m6jpX4WFJdcg"
    },
    {
      "cell_type": "code",
      "execution_count": 118,
      "metadata": {
        "colab": {
          "base_uri": "https://localhost:8080/"
        },
        "id": "oYWA_oGZaLR2",
        "outputId": "d7cc17b8-d603-4278-8772-a5766621fe3e"
      },
      "outputs": [
        {
          "output_type": "stream",
          "name": "stdout",
          "text": [
            "AUC score : 0.69\n",
            "Accuracy: 0.71\n",
            "Recall : 0.675\n",
            "F1_Score: 0.17266187050359713\n"
          ]
        }
      ],
      "source": [
        "recall  = metrics.recall_score(y_test,y_pred_G)\n",
        "f1_score = metrics.f1_score(y_test, y_pred_G)\n",
        "\n",
        "\n",
        "print (\"AUC score :\", np.round(roc_auc_score(y_test, y_pred_G),2))\n",
        "print(\"Accuracy:\",round(metrics.accuracy_score(y_test, y_pred_G),2))\n",
        "print(\"Recall :\", recall)\n",
        "print(\"F1_Score:\", f1_score)\n",
        "\n"
      ],
      "id": "oYWA_oGZaLR2"
    },
    {
      "cell_type": "code",
      "execution_count": 119,
      "metadata": {
        "colab": {
          "base_uri": "https://localhost:8080/",
          "height": 285
        },
        "id": "Cymxo-3fM26N",
        "outputId": "5d4cc060-dd71-4c24-b9aa-5a250a0370ef"
      },
      "outputs": [
        {
          "output_type": "display_data",
          "data": {
            "text/plain": [
              "<Figure size 432x288 with 2 Axes>"
            ],
            "image/png": "[encoded data removed]"
          },
          "metadata": {}
        }
      ],
      "source": [
        "ConfusionMatrixDisplay.from_predictions(y_test,  y_pred_G)\n",
        "\n",
        "plt.show()"
      ],
      "id": "Cymxo-3fM26N"
    },
    {
      "cell_type": "markdown",
      "metadata": {
        "id": "9DXnfs2eGyb_"
      },
      "source": [
        "#Multinomial Naive Bayes"
      ],
      "id": "9DXnfs2eGyb_"
    },
    {
      "cell_type": "code",
      "source": [
        "#training the model\n",
        "mnb=MultinomialNB(alpha = 1)\n",
        "#fitting the nb for tfidf features\n",
        "mnb_tfidf=mnb.fit(the_X,the_y)\n",
        "print(mnb_tfidf)"
      ],
      "metadata": {
        "colab": {
          "base_uri": "https://localhost:8080/"
        },
        "id": "8NAoNoVn8nHM",
        "outputId": "77391143-9140-43eb-ab6f-49f7242b8b42"
      },
      "id": "8NAoNoVn8nHM",
      "execution_count": 120,
      "outputs": [
        {
          "output_type": "stream",
          "name": "stdout",
          "text": [
            "MultinomialNB(alpha=1)\n"
          ]
        }
      ]
    },
    {
      "cell_type": "code",
      "source": [
        "#Predicting the model for tfidf features\n",
        "mnb_tfidf_predict=mnb.predict(tv_test_reviews)"
      ],
      "metadata": {
        "id": "KM1nNP0z8nJa"
      },
      "id": "KM1nNP0z8nJa",
      "execution_count": 121,
      "outputs": []
    },
    {
      "cell_type": "code",
      "source": [
        "#Accuracy score for tfidf features\n",
        "mnb_tfidf_score=accuracy_score(y_te,mnb_tfidf_predict)\n",
        "print(\"mnb_tfidf_score :\",mnb_tfidf_score)"
      ],
      "metadata": {
        "colab": {
          "base_uri": "https://localhost:8080/"
        },
        "id": "9JYWZLk64IE6",
        "outputId": "dffa5a3f-42da-48c9-95c8-ccd0535eaec9"
      },
      "id": "9JYWZLk64IE6",
      "execution_count": 122,
      "outputs": [
        {
          "output_type": "stream",
          "name": "stdout",
          "text": [
            "mnb_tfidf_score : 0.8853467561521253\n"
          ]
        }
      ]
    },
    {
      "cell_type": "code",
      "source": [
        "#Accuracy score for tfidf features\n",
        "mnb_tfidf_score=accuracy_score(y_te,mnb_tfidf_predict)\n",
        "mnb_tfidf_recall  = metrics.recall_score(y_te, mnb_tfidf_predict)\n",
        "mnb_tfidf_f1_score = metrics.f1_score(y_te,mnb_tfidf_predict) \n",
        "\n",
        "\n",
        "print (\"Recall :%.2f \"% mnb_tfidf_recall)\n",
        "print(\"F1_Score: %.2f \"% mnb_tfidf_f1_score)\n",
        "print (\"AUC score :\", np.round(roc_auc_score(y_te, mnb_tfidf_predict),2))\n",
        "print(\"Accuracy:\",round(metrics.accuracy_score(y_te, mnb_tfidf_predict),2))\n",
        "print('Mean squared error is: %.2f' % mean_squared_error(y_te, mnb_tfidf_predict))\n",
        "print('Mean absolute error is: %.2f' % mean_absolute_error(y_te, mnb_tfidf_predict))\n",
        "print('Root mean square error is: %.2f' % sqrt(mean_absolute_error(y_te, mnb_tfidf_predict)))"
      ],
      "metadata": {
        "colab": {
          "base_uri": "https://localhost:8080/"
        },
        "id": "PaBuysjfVOef",
        "outputId": "cd99c046-cd1a-471e-fa5f-321e1958dfd4"
      },
      "id": "PaBuysjfVOef",
      "execution_count": 124,
      "outputs": [
        {
          "output_type": "stream",
          "name": "stdout",
          "text": [
            "Recall :0.54 \n",
            "F1_Score: 0.30 \n",
            "AUC score : 0.72\n",
            "Accuracy: 0.89\n",
            "Mean squared error is: 0.11\n",
            "Mean absolute error is: 0.11\n",
            "Root mean square error is: 0.34\n"
          ]
        }
      ]
    },
    {
      "cell_type": "markdown",
      "metadata": {
        "id": "4ZDGFIbNmE4l"
      },
      "source": [
        "## SVM"
      ],
      "id": "4ZDGFIbNmE4l"
    },
    {
      "cell_type": "code",
      "execution_count": null,
      "metadata": {
        "id": "RHirWC5SmJtC"
      },
      "outputs": [],
      "source": [
        "X_train, X_test, y_train, y_test = train_test_split(X, y, test_size=0.3, random_state=8)"
      ],
      "id": "RHirWC5SmJtC"
    },
    {
      "cell_type": "code",
      "execution_count": null,
      "metadata": {
        "id": "eDEy53XDm57Z"
      },
      "outputs": [],
      "source": [
        "clf = svm.SVC(kernel='poly', degree=8.7)\n",
        "clf.fit(X_train_bal, y_train_bal)\n",
        "y_pred = clf.predict(X_test)"
      ],
      "id": "eDEy53XDm57Z"
    },
    {
      "cell_type": "code",
      "execution_count": null,
      "metadata": {
        "id": "wZeOOVekm7y5"
      },
      "outputs": [],
      "source": [
        "print(\"Accuracy:\",round(metrics.accuracy_score(y_test, y_pred),2))"
      ],
      "id": "wZeOOVekm7y5"
    },
    {
      "cell_type": "markdown",
      "metadata": {
        "id": "mCIZynRwObLL"
      },
      "source": [
        "# KNN"
      ],
      "id": "mCIZynRwObLL"
    },
    {
      "cell_type": "code",
      "execution_count": null,
      "metadata": {
        "id": "-CDgSqpIOleA"
      },
      "outputs": [],
      "source": [
        "knn = KNeighborsClassifier(n_neighbors = 3)"
      ],
      "id": "-CDgSqpIOleA"
    },
    {
      "cell_type": "code",
      "execution_count": null,
      "metadata": {
        "id": "0Oge64y0OsUn"
      },
      "outputs": [],
      "source": [
        "KNN = knn.fit(X_train_bal, y_train_bal)\n",
        "y_pred = KNN.predict(X_test)\n"
      ],
      "id": "0Oge64y0OsUn"
    },
    {
      "cell_type": "code",
      "execution_count": null,
      "metadata": {
        "id": "3JVRDg_VO1sN"
      },
      "outputs": [],
      "source": [
        "print(\"Accuracy with KNN:\",round(metrics.accuracy_score(y_test, y_pred),2))\n",
        "print (\"AUC score with KNN:\", np.round(roc_auc_score(y_test, y_pred),5))"
      ],
      "id": "3JVRDg_VO1sN"
    },
    {
      "cell_type": "markdown",
      "metadata": {
        "id": "GAFrmZQ8YGkV"
      },
      "source": [
        "### Ensemble Max Voting"
      ],
      "id": "GAFrmZQ8YGkV"
    },
    {
      "cell_type": "code",
      "execution_count": null,
      "metadata": {
        "id": "UrUAPtVbYKBI"
      },
      "outputs": [],
      "source": [
        "best = VotingClassifier(estimators=[('lr', lr_clf), ('rf', rfc), ('nb', model), ('svm', clf), ('knn', knn)], voting='hard')\n",
        "best.fit(X_train_bal, y_train_bal)\n",
        "best.score(X_test,y_test)"
      ],
      "id": "UrUAPtVbYKBI"
    },
    {
      "cell_type": "markdown",
      "metadata": {
        "id": "51WV7fX0J01d"
      },
      "source": [
        "## EDA\n"
      ],
      "id": "51WV7fX0J01d"
    },
    {
      "cell_type": "code",
      "source": [
        "import numpy as np\n",
        "import matplotlib.pyplot as plt\n",
        "fig = plt.figure(figsize = (10, 5))\n",
        "lst1 = (0,1)\n",
        "lst2 = (13598,13598)\n",
        "#  Bar plot\n",
        "plt.bar(lst1, lst2, color ='lightblue')\n",
        "plt.xlabel(\"0: Non-Fraudulent, 1: Fraudulent\")\n",
        "plt.ylabel(\"Count of Data\")\n",
        "plt.title(\"Amount of Fraudulent and Non-Fraudulent Data\")\n",
        "plt.show()"
      ],
      "metadata": {
        "id": "CZdEha1hs4HA"
      },
      "execution_count": null,
      "outputs": [],
      "id": "CZdEha1hs4HA"
    },
    {
      "cell_type": "code",
      "source": [
        "bar_graph_data = {'type': ['smote', 'non-smote'], '0':[13598,13598], '1':[13598,706]}\n",
        "sns.barplot(x = 'type',\n",
        "            y = '0',\n",
        "            hue = '0',\n",
        "            data = bar_graph_data,\n",
        "            palette = \"Blues\")"
      ],
      "metadata": {
        "id": "V54BZE2bs5Dk"
      },
      "id": "V54BZE2bs5Dk",
      "execution_count": null,
      "outputs": []
    },
    {
      "cell_type": "code",
      "source": [
        "sns.barplot(x = 'type',\n",
        "            y = '1',\n",
        "            hue = '1',\n",
        "            data = bar_graph_data,\n",
        "            palette = \"Blues\")"
      ],
      "metadata": {
        "id": "_iVsN9XKs-4c"
      },
      "id": "_iVsN9XKs-4c",
      "execution_count": null,
      "outputs": []
    },
    {
      "cell_type": "code",
      "source": [
        "#sns.histplot(x=data[data[\"fraudulent\"]==1][\"text_len\"],kde=True)\n",
        "#ns.histplot(x=data[data[\"fraudulent\"]==0][\"text_len\"],kde=True,color=\"red\");"
      ],
      "metadata": {
        "id": "Ut6fuqJBtyyQ"
      },
      "id": "Ut6fuqJBtyyQ",
      "execution_count": null,
      "outputs": []
    },
    {
      "cell_type": "code",
      "source": [
        ""
      ],
      "metadata": {
        "id": "bIfiqbKvN77O"
      },
      "id": "bIfiqbKvN77O",
      "execution_count": null,
      "outputs": []
    }
  ],
  "metadata": {
    "colab": {
      "collapsed_sections": [
        "84645a4f",
        "7deea97a-28aa-4fd7-840d-57a1d28c87e6"
      ],
      "name": "v4.Project_245_fakejob.ipynb",
      "provenance": []
    },
    "kernelspec": {
      "display_name": "Python 3",
      "language": "python",
      "name": "python3"
    },
    "language_info": {
      "codemirror_mode": {
        "name": "ipython",
        "version": 3
      },
      "file_extension": ".py",
      "mimetype": "text/x-python",
      "name": "python",
      "nbconvert_exporter": "python",
      "pygments_lexer": "ipython3",
      "version": "3.8.8"
    }
  },
  "nbformat": 4,
  "nbformat_minor": 5
}