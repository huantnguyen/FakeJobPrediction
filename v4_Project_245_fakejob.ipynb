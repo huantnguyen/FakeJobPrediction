{
  "cells": [
    {
      "cell_type": "code",
      "source": [
        "from google.colab import drive\n",
        "drive.mount('/content/drive')"
      ],
      "metadata": {
        "colab": {
          "base_uri": "https://localhost:8080/"
        },
        "id": "t7GH8dVzh-d3",
        "outputId": "38bbc98c-9309-4ef7-f6f5-1c31bf1f21f1"
      },
      "id": "t7GH8dVzh-d3",
      "execution_count": null,
      "outputs": [
        {
          "output_type": "stream",
          "name": "stdout",
          "text": [
            "Mounted at /content/drive\n"
          ]
        }
      ]
    },
    {
      "cell_type": "code",
      "source": [
        "%cd /content/drive/Shareddrives/Data 245 Project/Project Code"
      ],
      "metadata": {
        "colab": {
          "base_uri": "https://localhost:8080/"
        },
        "id": "90B4V1v3iRlc",
        "outputId": "b7157aa2-9994-4e4b-f524-88e6b327a180"
      },
      "id": "90B4V1v3iRlc",
      "execution_count": null,
      "outputs": [
        {
          "output_type": "stream",
          "name": "stdout",
          "text": [
            "/content/drive/Shareddrives/Data 245 Project/Project Code\n"
          ]
        }
      ]
    },
    {
      "cell_type": "code",
      "source": [
        "!ls"
      ],
      "metadata": {
        "colab": {
          "base_uri": "https://localhost:8080/"
        },
        "id": "hJUqlwphigB-",
        "outputId": "8f47d1e1-79a2-461a-edb0-cc9e04918dbc"
      },
      "id": "hJUqlwphigB-",
      "execution_count": null,
      "outputs": [
        {
          "output_type": "stream",
          "name": "stdout",
          "text": [
            "245v2+EDA.ipynb        Project_245_fakejob_raw.ipynb\n",
            "fake_job_postings.csv  v2.Project_245_fakejob_raw.ipynb\n",
            "glove.6B.200d.rar      v3.Project_245_fakejob.ipynb\n",
            "glove.6B.200d.txt\n"
          ]
        }
      ]
    },
    {
      "cell_type": "code",
      "execution_count": null,
      "id": "edf0c6d8",
      "metadata": {
        "id": "edf0c6d8"
      },
      "outputs": [],
      "source": [
        "import pandas as pd\n",
        "import numpy as np"
      ]
    },
    {
      "cell_type": "code",
      "execution_count": null,
      "id": "c861379f",
      "metadata": {
        "id": "c861379f"
      },
      "outputs": [],
      "source": [
        "data = pd.read_csv('fake_job_postings.csv')"
      ]
    },
    {
      "cell_type": "code",
      "execution_count": null,
      "id": "2b680e88",
      "metadata": {
        "colab": {
          "base_uri": "https://localhost:8080/",
          "height": 600
        },
        "id": "2b680e88",
        "outputId": "54fe2dd7-5e5e-49e3-a2be-b2932f3614d0"
      },
      "outputs": [
        {
          "output_type": "execute_result",
          "data": {
            "text/plain": [
              "   job_id                                      title            location  \\\n",
              "0       1                           Marketing Intern    US, NY, New York   \n",
              "1       2  Customer Service - Cloud Video Production      NZ, , Auckland   \n",
              "2       3    Commissioning Machinery Assistant (CMA)       US, IA, Wever   \n",
              "3       4          Account Executive - Washington DC  US, DC, Washington   \n",
              "4       5                        Bill Review Manager  US, FL, Fort Worth   \n",
              "\n",
              "  department salary_range                                    company_profile  \\\n",
              "0  Marketing          NaN  We're Food52, and we've created a groundbreaki...   \n",
              "1    Success          NaN  90 Seconds, the worlds Cloud Video Production ...   \n",
              "2        NaN          NaN  Valor Services provides Workforce Solutions th...   \n",
              "3      Sales          NaN  Our passion for improving quality of life thro...   \n",
              "4        NaN          NaN  SpotSource Solutions LLC is a Global Human Cap...   \n",
              "\n",
              "                                         description  \\\n",
              "0  Food52, a fast-growing, James Beard Award-winn...   \n",
              "1  Organised - Focused - Vibrant - Awesome!Do you...   \n",
              "2  Our client, located in Houston, is actively se...   \n",
              "3  THE COMPANY: ESRI – Environmental Systems Rese...   \n",
              "4  JOB TITLE: Itemization Review ManagerLOCATION:...   \n",
              "\n",
              "                                        requirements  \\\n",
              "0  Experience with content management systems a m...   \n",
              "1  What we expect from you:Your key responsibilit...   \n",
              "2  Implement pre-commissioning and commissioning ...   \n",
              "3  EDUCATION: Bachelor’s or Master’s in GIS, busi...   \n",
              "4  QUALIFICATIONS:RN license in the State of Texa...   \n",
              "\n",
              "                                            benefits  telecommuting  \\\n",
              "0                                                NaN              0   \n",
              "1  What you will get from usThrough being part of...              0   \n",
              "2                                                NaN              0   \n",
              "3  Our culture is anything but corporate—we have ...              0   \n",
              "4                              Full Benefits Offered              0   \n",
              "\n",
              "   has_company_logo  has_questions employment_type required_experience  \\\n",
              "0                 1              0           Other          Internship   \n",
              "1                 1              0       Full-time      Not Applicable   \n",
              "2                 1              0             NaN                 NaN   \n",
              "3                 1              0       Full-time    Mid-Senior level   \n",
              "4                 1              1       Full-time    Mid-Senior level   \n",
              "\n",
              "  required_education                   industry              function  \\\n",
              "0                NaN                        NaN             Marketing   \n",
              "1                NaN  Marketing and Advertising      Customer Service   \n",
              "2                NaN                        NaN                   NaN   \n",
              "3  Bachelor's Degree          Computer Software                 Sales   \n",
              "4  Bachelor's Degree     Hospital & Health Care  Health Care Provider   \n",
              "\n",
              "   fraudulent  \n",
              "0           0  \n",
              "1           0  \n",
              "2           0  \n",
              "3           0  \n",
              "4           0  "
            ],
            "text/html": [
              "\n",
              "  <div id=\"df-0c8a9871-26a8-4359-b846-9fb14d445d2c\">\n",
              "    <div class=\"colab-df-container\">\n",
              "      <div>\n",
              "<style scoped>\n",
              "    .dataframe tbody tr th:only-of-type {\n",
              "        vertical-align: middle;\n",
              "    }\n",
              "\n",
              "    .dataframe tbody tr th {\n",
              "        vertical-align: top;\n",
              "    }\n",
              "\n",
              "    .dataframe thead th {\n",
              "        text-align: right;\n",
              "    }\n",
              "</style>\n",
              "<table border=\"1\" class=\"dataframe\">\n",
              "  <thead>\n",
              "    <tr style=\"text-align: right;\">\n",
              "      <th></th>\n",
              "      <th>job_id</th>\n",
              "      <th>title</th>\n",
              "      <th>location</th>\n",
              "      <th>department</th>\n",
              "      <th>salary_range</th>\n",
              "      <th>company_profile</th>\n",
              "      <th>description</th>\n",
              "      <th>requirements</th>\n",
              "      <th>benefits</th>\n",
              "      <th>telecommuting</th>\n",
              "      <th>has_company_logo</th>\n",
              "      <th>has_questions</th>\n",
              "      <th>employment_type</th>\n",
              "      <th>required_experience</th>\n",
              "      <th>required_education</th>\n",
              "      <th>industry</th>\n",
              "      <th>function</th>\n",
              "      <th>fraudulent</th>\n",
              "    </tr>\n",
              "  </thead>\n",
              "  <tbody>\n",
              "    <tr>\n",
              "      <th>0</th>\n",
              "      <td>1</td>\n",
              "      <td>Marketing Intern</td>\n",
              "      <td>US, NY, New York</td>\n",
              "      <td>Marketing</td>\n",
              "      <td>NaN</td>\n",
              "      <td>We're Food52, and we've created a groundbreaki...</td>\n",
              "      <td>Food52, a fast-growing, James Beard Award-winn...</td>\n",
              "      <td>Experience with content management systems a m...</td>\n",
              "      <td>NaN</td>\n",
              "      <td>0</td>\n",
              "      <td>1</td>\n",
              "      <td>0</td>\n",
              "      <td>Other</td>\n",
              "      <td>Internship</td>\n",
              "      <td>NaN</td>\n",
              "      <td>NaN</td>\n",
              "      <td>Marketing</td>\n",
              "      <td>0</td>\n",
              "    </tr>\n",
              "    <tr>\n",
              "      <th>1</th>\n",
              "      <td>2</td>\n",
              "      <td>Customer Service - Cloud Video Production</td>\n",
              "      <td>NZ, , Auckland</td>\n",
              "      <td>Success</td>\n",
              "      <td>NaN</td>\n",
              "      <td>90 Seconds, the worlds Cloud Video Production ...</td>\n",
              "      <td>Organised - Focused - Vibrant - Awesome!Do you...</td>\n",
              "      <td>What we expect from you:Your key responsibilit...</td>\n",
              "      <td>What you will get from usThrough being part of...</td>\n",
              "      <td>0</td>\n",
              "      <td>1</td>\n",
              "      <td>0</td>\n",
              "      <td>Full-time</td>\n",
              "      <td>Not Applicable</td>\n",
              "      <td>NaN</td>\n",
              "      <td>Marketing and Advertising</td>\n",
              "      <td>Customer Service</td>\n",
              "      <td>0</td>\n",
              "    </tr>\n",
              "    <tr>\n",
              "      <th>2</th>\n",
              "      <td>3</td>\n",
              "      <td>Commissioning Machinery Assistant (CMA)</td>\n",
              "      <td>US, IA, Wever</td>\n",
              "      <td>NaN</td>\n",
              "      <td>NaN</td>\n",
              "      <td>Valor Services provides Workforce Solutions th...</td>\n",
              "      <td>Our client, located in Houston, is actively se...</td>\n",
              "      <td>Implement pre-commissioning and commissioning ...</td>\n",
              "      <td>NaN</td>\n",
              "      <td>0</td>\n",
              "      <td>1</td>\n",
              "      <td>0</td>\n",
              "      <td>NaN</td>\n",
              "      <td>NaN</td>\n",
              "      <td>NaN</td>\n",
              "      <td>NaN</td>\n",
              "      <td>NaN</td>\n",
              "      <td>0</td>\n",
              "    </tr>\n",
              "    <tr>\n",
              "      <th>3</th>\n",
              "      <td>4</td>\n",
              "      <td>Account Executive - Washington DC</td>\n",
              "      <td>US, DC, Washington</td>\n",
              "      <td>Sales</td>\n",
              "      <td>NaN</td>\n",
              "      <td>Our passion for improving quality of life thro...</td>\n",
              "      <td>THE COMPANY: ESRI – Environmental Systems Rese...</td>\n",
              "      <td>EDUCATION: Bachelor’s or Master’s in GIS, busi...</td>\n",
              "      <td>Our culture is anything but corporate—we have ...</td>\n",
              "      <td>0</td>\n",
              "      <td>1</td>\n",
              "      <td>0</td>\n",
              "      <td>Full-time</td>\n",
              "      <td>Mid-Senior level</td>\n",
              "      <td>Bachelor's Degree</td>\n",
              "      <td>Computer Software</td>\n",
              "      <td>Sales</td>\n",
              "      <td>0</td>\n",
              "    </tr>\n",
              "    <tr>\n",
              "      <th>4</th>\n",
              "      <td>5</td>\n",
              "      <td>Bill Review Manager</td>\n",
              "      <td>US, FL, Fort Worth</td>\n",
              "      <td>NaN</td>\n",
              "      <td>NaN</td>\n",
              "      <td>SpotSource Solutions LLC is a Global Human Cap...</td>\n",
              "      <td>JOB TITLE: Itemization Review ManagerLOCATION:...</td>\n",
              "      <td>QUALIFICATIONS:RN license in the State of Texa...</td>\n",
              "      <td>Full Benefits Offered</td>\n",
              "      <td>0</td>\n",
              "      <td>1</td>\n",
              "      <td>1</td>\n",
              "      <td>Full-time</td>\n",
              "      <td>Mid-Senior level</td>\n",
              "      <td>Bachelor's Degree</td>\n",
              "      <td>Hospital &amp; Health Care</td>\n",
              "      <td>Health Care Provider</td>\n",
              "      <td>0</td>\n",
              "    </tr>\n",
              "  </tbody>\n",
              "</table>\n",
              "</div>\n",
              "      <button class=\"colab-df-convert\" onclick=\"convertToInteractive('df-0c8a9871-26a8-4359-b846-9fb14d445d2c')\"\n",
              "              title=\"Convert this dataframe to an interactive table.\"\n",
              "              style=\"display:none;\">\n",
              "        \n",
              "  <svg xmlns=\"http://www.w3.org/2000/svg\" height=\"24px\"viewBox=\"0 0 24 24\"\n",
              "       width=\"24px\">\n",
              "    <path d=\"M0 0h24v24H0V0z\" fill=\"none\"/>\n",
              "    <path d=\"M18.56 5.44l.94 2.06.94-2.06 2.06-.94-2.06-.94-.94-2.06-.94 2.06-2.06.94zm-11 1L8.5 8.5l.94-2.06 2.06-.94-2.06-.94L8.5 2.5l-.94 2.06-2.06.94zm10 10l.94 2.06.94-2.06 2.06-.94-2.06-.94-.94-2.06-.94 2.06-2.06.94z\"/><path d=\"M17.41 7.96l-1.37-1.37c-.4-.4-.92-.59-1.43-.59-.52 0-1.04.2-1.43.59L10.3 9.45l-7.72 7.72c-.78.78-.78 2.05 0 2.83L4 21.41c.39.39.9.59 1.41.59.51 0 1.02-.2 1.41-.59l7.78-7.78 2.81-2.81c.8-.78.8-2.07 0-2.86zM5.41 20L4 18.59l7.72-7.72 1.47 1.35L5.41 20z\"/>\n",
              "  </svg>\n",
              "      </button>\n",
              "      \n",
              "  <style>\n",
              "    .colab-df-container {\n",
              "      display:flex;\n",
              "      flex-wrap:wrap;\n",
              "      gap: 12px;\n",
              "    }\n",
              "\n",
              "    .colab-df-convert {\n",
              "      background-color: #E8F0FE;\n",
              "      border: none;\n",
              "      border-radius: 50%;\n",
              "      cursor: pointer;\n",
              "      display: none;\n",
              "      fill: #1967D2;\n",
              "      height: 32px;\n",
              "      padding: 0 0 0 0;\n",
              "      width: 32px;\n",
              "    }\n",
              "\n",
              "    .colab-df-convert:hover {\n",
              "      background-color: #E2EBFA;\n",
              "      box-shadow: 0px 1px 2px rgba(60, 64, 67, 0.3), 0px 1px 3px 1px rgba(60, 64, 67, 0.15);\n",
              "      fill: #174EA6;\n",
              "    }\n",
              "\n",
              "    [theme=dark] .colab-df-convert {\n",
              "      background-color: #3B4455;\n",
              "      fill: #D2E3FC;\n",
              "    }\n",
              "\n",
              "    [theme=dark] .colab-df-convert:hover {\n",
              "      background-color: #434B5C;\n",
              "      box-shadow: 0px 1px 3px 1px rgba(0, 0, 0, 0.15);\n",
              "      filter: drop-shadow(0px 1px 2px rgba(0, 0, 0, 0.3));\n",
              "      fill: #FFFFFF;\n",
              "    }\n",
              "  </style>\n",
              "\n",
              "      <script>\n",
              "        const buttonEl =\n",
              "          document.querySelector('#df-0c8a9871-26a8-4359-b846-9fb14d445d2c button.colab-df-convert');\n",
              "        buttonEl.style.display =\n",
              "          google.colab.kernel.accessAllowed ? 'block' : 'none';\n",
              "\n",
              "        async function convertToInteractive(key) {\n",
              "          const element = document.querySelector('#df-0c8a9871-26a8-4359-b846-9fb14d445d2c');\n",
              "          const dataTable =\n",
              "            await google.colab.kernel.invokeFunction('convertToInteractive',\n",
              "                                                     [key], {});\n",
              "          if (!dataTable) return;\n",
              "\n",
              "          const docLinkHtml = 'Like what you see? Visit the ' +\n",
              "            '<a target=\"_blank\" href=https://colab.research.google.com/notebooks/data_table.ipynb>data table notebook</a>'\n",
              "            + ' to learn more about interactive tables.';\n",
              "          element.innerHTML = '';\n",
              "          dataTable['output_type'] = 'display_data';\n",
              "          await google.colab.output.renderOutput(dataTable, element);\n",
              "          const docLink = document.createElement('div');\n",
              "          docLink.innerHTML = docLinkHtml;\n",
              "          element.appendChild(docLink);\n",
              "        }\n",
              "      </script>\n",
              "    </div>\n",
              "  </div>\n",
              "  "
            ]
          },
          "metadata": {},
          "execution_count": 9
        }
      ],
      "source": [
        "data.head()"
      ]
    },
    {
      "cell_type": "code",
      "execution_count": null,
      "id": "51f130b8",
      "metadata": {
        "colab": {
          "base_uri": "https://localhost:8080/"
        },
        "id": "51f130b8",
        "outputId": "ec61daef-cdcf-4000-cb0d-5444def63f2e"
      },
      "outputs": [
        {
          "output_type": "stream",
          "name": "stdout",
          "text": [
            "<class 'pandas.core.frame.DataFrame'>\n",
            "RangeIndex: 17880 entries, 0 to 17879\n",
            "Data columns (total 18 columns):\n",
            " #   Column               Non-Null Count  Dtype \n",
            "---  ------               --------------  ----- \n",
            " 0   job_id               17880 non-null  int64 \n",
            " 1   title                17880 non-null  object\n",
            " 2   location             17534 non-null  object\n",
            " 3   department           6333 non-null   object\n",
            " 4   salary_range         2868 non-null   object\n",
            " 5   company_profile      14572 non-null  object\n",
            " 6   description          17879 non-null  object\n",
            " 7   requirements         15185 non-null  object\n",
            " 8   benefits             10670 non-null  object\n",
            " 9   telecommuting        17880 non-null  int64 \n",
            " 10  has_company_logo     17880 non-null  int64 \n",
            " 11  has_questions        17880 non-null  int64 \n",
            " 12  employment_type      14409 non-null  object\n",
            " 13  required_experience  10830 non-null  object\n",
            " 14  required_education   9775 non-null   object\n",
            " 15  industry             12977 non-null  object\n",
            " 16  function             11425 non-null  object\n",
            " 17  fraudulent           17880 non-null  int64 \n",
            "dtypes: int64(5), object(13)\n",
            "memory usage: 2.5+ MB\n"
          ]
        }
      ],
      "source": [
        "data.info()"
      ]
    },
    {
      "cell_type": "code",
      "execution_count": null,
      "id": "463595a8",
      "metadata": {
        "scrolled": true,
        "colab": {
          "base_uri": "https://localhost:8080/"
        },
        "id": "463595a8",
        "outputId": "f04208ea-b7ab-4ec4-fb7f-b28df3b03514"
      },
      "outputs": [
        {
          "output_type": "execute_result",
          "data": {
            "text/plain": [
              "job_id                     0\n",
              "title                      0\n",
              "location                 346\n",
              "department             11547\n",
              "salary_range           15012\n",
              "company_profile         3308\n",
              "description                1\n",
              "requirements            2695\n",
              "benefits                7210\n",
              "telecommuting              0\n",
              "has_company_logo           0\n",
              "has_questions              0\n",
              "employment_type         3471\n",
              "required_experience     7050\n",
              "required_education      8105\n",
              "industry                4903\n",
              "function                6455\n",
              "fraudulent                 0\n",
              "dtype: int64"
            ]
          },
          "metadata": {},
          "execution_count": 11
        }
      ],
      "source": [
        "data.isnull().sum()"
      ]
    },
    {
      "cell_type": "code",
      "execution_count": null,
      "id": "929656c3",
      "metadata": {
        "id": "929656c3"
      },
      "outputs": [],
      "source": [
        "data.fillna(\"missing\", inplace = True) #filling missing values with text 'missing'"
      ]
    },
    {
      "cell_type": "code",
      "execution_count": null,
      "id": "cbb91f73",
      "metadata": {
        "colab": {
          "base_uri": "https://localhost:8080/",
          "height": 600
        },
        "id": "cbb91f73",
        "outputId": "da212d25-9a9a-488a-8bfe-8d120ffe1025"
      },
      "outputs": [
        {
          "output_type": "execute_result",
          "data": {
            "text/plain": [
              "   job_id                                      title            location  \\\n",
              "0       1                           Marketing Intern    US, NY, New York   \n",
              "1       2  Customer Service - Cloud Video Production      NZ, , Auckland   \n",
              "2       3    Commissioning Machinery Assistant (CMA)       US, IA, Wever   \n",
              "3       4          Account Executive - Washington DC  US, DC, Washington   \n",
              "4       5                        Bill Review Manager  US, FL, Fort Worth   \n",
              "\n",
              "  department salary_range                                    company_profile  \\\n",
              "0  Marketing      missing  We're Food52, and we've created a groundbreaki...   \n",
              "1    Success      missing  90 Seconds, the worlds Cloud Video Production ...   \n",
              "2    missing      missing  Valor Services provides Workforce Solutions th...   \n",
              "3      Sales      missing  Our passion for improving quality of life thro...   \n",
              "4    missing      missing  SpotSource Solutions LLC is a Global Human Cap...   \n",
              "\n",
              "                                         description  \\\n",
              "0  Food52, a fast-growing, James Beard Award-winn...   \n",
              "1  Organised - Focused - Vibrant - Awesome!Do you...   \n",
              "2  Our client, located in Houston, is actively se...   \n",
              "3  THE COMPANY: ESRI – Environmental Systems Rese...   \n",
              "4  JOB TITLE: Itemization Review ManagerLOCATION:...   \n",
              "\n",
              "                                        requirements  \\\n",
              "0  Experience with content management systems a m...   \n",
              "1  What we expect from you:Your key responsibilit...   \n",
              "2  Implement pre-commissioning and commissioning ...   \n",
              "3  EDUCATION: Bachelor’s or Master’s in GIS, busi...   \n",
              "4  QUALIFICATIONS:RN license in the State of Texa...   \n",
              "\n",
              "                                            benefits  telecommuting  \\\n",
              "0                                            missing              0   \n",
              "1  What you will get from usThrough being part of...              0   \n",
              "2                                            missing              0   \n",
              "3  Our culture is anything but corporate—we have ...              0   \n",
              "4                              Full Benefits Offered              0   \n",
              "\n",
              "   has_company_logo  has_questions employment_type required_experience  \\\n",
              "0                 1              0           Other          Internship   \n",
              "1                 1              0       Full-time      Not Applicable   \n",
              "2                 1              0         missing             missing   \n",
              "3                 1              0       Full-time    Mid-Senior level   \n",
              "4                 1              1       Full-time    Mid-Senior level   \n",
              "\n",
              "  required_education                   industry              function  \\\n",
              "0            missing                    missing             Marketing   \n",
              "1            missing  Marketing and Advertising      Customer Service   \n",
              "2            missing                    missing               missing   \n",
              "3  Bachelor's Degree          Computer Software                 Sales   \n",
              "4  Bachelor's Degree     Hospital & Health Care  Health Care Provider   \n",
              "\n",
              "   fraudulent  \n",
              "0           0  \n",
              "1           0  \n",
              "2           0  \n",
              "3           0  \n",
              "4           0  "
            ],
            "text/html": [
              "\n",
              "  <div id=\"df-42b7fb64-3595-4309-9fb4-2dd5ecf2eafc\">\n",
              "    <div class=\"colab-df-container\">\n",
              "      <div>\n",
              "<style scoped>\n",
              "    .dataframe tbody tr th:only-of-type {\n",
              "        vertical-align: middle;\n",
              "    }\n",
              "\n",
              "    .dataframe tbody tr th {\n",
              "        vertical-align: top;\n",
              "    }\n",
              "\n",
              "    .dataframe thead th {\n",
              "        text-align: right;\n",
              "    }\n",
              "</style>\n",
              "<table border=\"1\" class=\"dataframe\">\n",
              "  <thead>\n",
              "    <tr style=\"text-align: right;\">\n",
              "      <th></th>\n",
              "      <th>job_id</th>\n",
              "      <th>title</th>\n",
              "      <th>location</th>\n",
              "      <th>department</th>\n",
              "      <th>salary_range</th>\n",
              "      <th>company_profile</th>\n",
              "      <th>description</th>\n",
              "      <th>requirements</th>\n",
              "      <th>benefits</th>\n",
              "      <th>telecommuting</th>\n",
              "      <th>has_company_logo</th>\n",
              "      <th>has_questions</th>\n",
              "      <th>employment_type</th>\n",
              "      <th>required_experience</th>\n",
              "      <th>required_education</th>\n",
              "      <th>industry</th>\n",
              "      <th>function</th>\n",
              "      <th>fraudulent</th>\n",
              "    </tr>\n",
              "  </thead>\n",
              "  <tbody>\n",
              "    <tr>\n",
              "      <th>0</th>\n",
              "      <td>1</td>\n",
              "      <td>Marketing Intern</td>\n",
              "      <td>US, NY, New York</td>\n",
              "      <td>Marketing</td>\n",
              "      <td>missing</td>\n",
              "      <td>We're Food52, and we've created a groundbreaki...</td>\n",
              "      <td>Food52, a fast-growing, James Beard Award-winn...</td>\n",
              "      <td>Experience with content management systems a m...</td>\n",
              "      <td>missing</td>\n",
              "      <td>0</td>\n",
              "      <td>1</td>\n",
              "      <td>0</td>\n",
              "      <td>Other</td>\n",
              "      <td>Internship</td>\n",
              "      <td>missing</td>\n",
              "      <td>missing</td>\n",
              "      <td>Marketing</td>\n",
              "      <td>0</td>\n",
              "    </tr>\n",
              "    <tr>\n",
              "      <th>1</th>\n",
              "      <td>2</td>\n",
              "      <td>Customer Service - Cloud Video Production</td>\n",
              "      <td>NZ, , Auckland</td>\n",
              "      <td>Success</td>\n",
              "      <td>missing</td>\n",
              "      <td>90 Seconds, the worlds Cloud Video Production ...</td>\n",
              "      <td>Organised - Focused - Vibrant - Awesome!Do you...</td>\n",
              "      <td>What we expect from you:Your key responsibilit...</td>\n",
              "      <td>What you will get from usThrough being part of...</td>\n",
              "      <td>0</td>\n",
              "      <td>1</td>\n",
              "      <td>0</td>\n",
              "      <td>Full-time</td>\n",
              "      <td>Not Applicable</td>\n",
              "      <td>missing</td>\n",
              "      <td>Marketing and Advertising</td>\n",
              "      <td>Customer Service</td>\n",
              "      <td>0</td>\n",
              "    </tr>\n",
              "    <tr>\n",
              "      <th>2</th>\n",
              "      <td>3</td>\n",
              "      <td>Commissioning Machinery Assistant (CMA)</td>\n",
              "      <td>US, IA, Wever</td>\n",
              "      <td>missing</td>\n",
              "      <td>missing</td>\n",
              "      <td>Valor Services provides Workforce Solutions th...</td>\n",
              "      <td>Our client, located in Houston, is actively se...</td>\n",
              "      <td>Implement pre-commissioning and commissioning ...</td>\n",
              "      <td>missing</td>\n",
              "      <td>0</td>\n",
              "      <td>1</td>\n",
              "      <td>0</td>\n",
              "      <td>missing</td>\n",
              "      <td>missing</td>\n",
              "      <td>missing</td>\n",
              "      <td>missing</td>\n",
              "      <td>missing</td>\n",
              "      <td>0</td>\n",
              "    </tr>\n",
              "    <tr>\n",
              "      <th>3</th>\n",
              "      <td>4</td>\n",
              "      <td>Account Executive - Washington DC</td>\n",
              "      <td>US, DC, Washington</td>\n",
              "      <td>Sales</td>\n",
              "      <td>missing</td>\n",
              "      <td>Our passion for improving quality of life thro...</td>\n",
              "      <td>THE COMPANY: ESRI – Environmental Systems Rese...</td>\n",
              "      <td>EDUCATION: Bachelor’s or Master’s in GIS, busi...</td>\n",
              "      <td>Our culture is anything but corporate—we have ...</td>\n",
              "      <td>0</td>\n",
              "      <td>1</td>\n",
              "      <td>0</td>\n",
              "      <td>Full-time</td>\n",
              "      <td>Mid-Senior level</td>\n",
              "      <td>Bachelor's Degree</td>\n",
              "      <td>Computer Software</td>\n",
              "      <td>Sales</td>\n",
              "      <td>0</td>\n",
              "    </tr>\n",
              "    <tr>\n",
              "      <th>4</th>\n",
              "      <td>5</td>\n",
              "      <td>Bill Review Manager</td>\n",
              "      <td>US, FL, Fort Worth</td>\n",
              "      <td>missing</td>\n",
              "      <td>missing</td>\n",
              "      <td>SpotSource Solutions LLC is a Global Human Cap...</td>\n",
              "      <td>JOB TITLE: Itemization Review ManagerLOCATION:...</td>\n",
              "      <td>QUALIFICATIONS:RN license in the State of Texa...</td>\n",
              "      <td>Full Benefits Offered</td>\n",
              "      <td>0</td>\n",
              "      <td>1</td>\n",
              "      <td>1</td>\n",
              "      <td>Full-time</td>\n",
              "      <td>Mid-Senior level</td>\n",
              "      <td>Bachelor's Degree</td>\n",
              "      <td>Hospital &amp; Health Care</td>\n",
              "      <td>Health Care Provider</td>\n",
              "      <td>0</td>\n",
              "    </tr>\n",
              "  </tbody>\n",
              "</table>\n",
              "</div>\n",
              "      <button class=\"colab-df-convert\" onclick=\"convertToInteractive('df-42b7fb64-3595-4309-9fb4-2dd5ecf2eafc')\"\n",
              "              title=\"Convert this dataframe to an interactive table.\"\n",
              "              style=\"display:none;\">\n",
              "        \n",
              "  <svg xmlns=\"http://www.w3.org/2000/svg\" height=\"24px\"viewBox=\"0 0 24 24\"\n",
              "       width=\"24px\">\n",
              "    <path d=\"M0 0h24v24H0V0z\" fill=\"none\"/>\n",
              "    <path d=\"M18.56 5.44l.94 2.06.94-2.06 2.06-.94-2.06-.94-.94-2.06-.94 2.06-2.06.94zm-11 1L8.5 8.5l.94-2.06 2.06-.94-2.06-.94L8.5 2.5l-.94 2.06-2.06.94zm10 10l.94 2.06.94-2.06 2.06-.94-2.06-.94-.94-2.06-.94 2.06-2.06.94z\"/><path d=\"M17.41 7.96l-1.37-1.37c-.4-.4-.92-.59-1.43-.59-.52 0-1.04.2-1.43.59L10.3 9.45l-7.72 7.72c-.78.78-.78 2.05 0 2.83L4 21.41c.39.39.9.59 1.41.59.51 0 1.02-.2 1.41-.59l7.78-7.78 2.81-2.81c.8-.78.8-2.07 0-2.86zM5.41 20L4 18.59l7.72-7.72 1.47 1.35L5.41 20z\"/>\n",
              "  </svg>\n",
              "      </button>\n",
              "      \n",
              "  <style>\n",
              "    .colab-df-container {\n",
              "      display:flex;\n",
              "      flex-wrap:wrap;\n",
              "      gap: 12px;\n",
              "    }\n",
              "\n",
              "    .colab-df-convert {\n",
              "      background-color: #E8F0FE;\n",
              "      border: none;\n",
              "      border-radius: 50%;\n",
              "      cursor: pointer;\n",
              "      display: none;\n",
              "      fill: #1967D2;\n",
              "      height: 32px;\n",
              "      padding: 0 0 0 0;\n",
              "      width: 32px;\n",
              "    }\n",
              "\n",
              "    .colab-df-convert:hover {\n",
              "      background-color: #E2EBFA;\n",
              "      box-shadow: 0px 1px 2px rgba(60, 64, 67, 0.3), 0px 1px 3px 1px rgba(60, 64, 67, 0.15);\n",
              "      fill: #174EA6;\n",
              "    }\n",
              "\n",
              "    [theme=dark] .colab-df-convert {\n",
              "      background-color: #3B4455;\n",
              "      fill: #D2E3FC;\n",
              "    }\n",
              "\n",
              "    [theme=dark] .colab-df-convert:hover {\n",
              "      background-color: #434B5C;\n",
              "      box-shadow: 0px 1px 3px 1px rgba(0, 0, 0, 0.15);\n",
              "      filter: drop-shadow(0px 1px 2px rgba(0, 0, 0, 0.3));\n",
              "      fill: #FFFFFF;\n",
              "    }\n",
              "  </style>\n",
              "\n",
              "      <script>\n",
              "        const buttonEl =\n",
              "          document.querySelector('#df-42b7fb64-3595-4309-9fb4-2dd5ecf2eafc button.colab-df-convert');\n",
              "        buttonEl.style.display =\n",
              "          google.colab.kernel.accessAllowed ? 'block' : 'none';\n",
              "\n",
              "        async function convertToInteractive(key) {\n",
              "          const element = document.querySelector('#df-42b7fb64-3595-4309-9fb4-2dd5ecf2eafc');\n",
              "          const dataTable =\n",
              "            await google.colab.kernel.invokeFunction('convertToInteractive',\n",
              "                                                     [key], {});\n",
              "          if (!dataTable) return;\n",
              "\n",
              "          const docLinkHtml = 'Like what you see? Visit the ' +\n",
              "            '<a target=\"_blank\" href=https://colab.research.google.com/notebooks/data_table.ipynb>data table notebook</a>'\n",
              "            + ' to learn more about interactive tables.';\n",
              "          element.innerHTML = '';\n",
              "          dataTable['output_type'] = 'display_data';\n",
              "          await google.colab.output.renderOutput(dataTable, element);\n",
              "          const docLink = document.createElement('div');\n",
              "          docLink.innerHTML = docLinkHtml;\n",
              "          element.appendChild(docLink);\n",
              "        }\n",
              "      </script>\n",
              "    </div>\n",
              "  </div>\n",
              "  "
            ]
          },
          "metadata": {},
          "execution_count": 13
        }
      ],
      "source": [
        "data.head()"
      ]
    },
    {
      "cell_type": "markdown",
      "id": "58e43a1a",
      "metadata": {
        "id": "58e43a1a"
      },
      "source": [
        "#### Separating country and city from location"
      ]
    },
    {
      "cell_type": "code",
      "execution_count": null,
      "id": "6e9a1280",
      "metadata": {
        "id": "6e9a1280"
      },
      "outputs": [],
      "source": [
        "data['country'] = data['location'].str.split(',').apply(lambda x: x[0])\n",
        "data['city'] = data['location'].str.split(',').apply(lambda x: x[-1])"
      ]
    },
    {
      "cell_type": "code",
      "execution_count": null,
      "id": "7453241f",
      "metadata": {
        "colab": {
          "base_uri": "https://localhost:8080/",
          "height": 197
        },
        "id": "7453241f",
        "outputId": "d318ff78-faea-407b-d78f-f920816f8329"
      },
      "outputs": [
        {
          "output_type": "execute_result",
          "data": {
            "text/plain": [
              "   job_id             title          location department salary_range  \\\n",
              "0       1  Marketing Intern  US, NY, New York  Marketing      missing   \n",
              "\n",
              "                                     company_profile  \\\n",
              "0  We're Food52, and we've created a groundbreaki...   \n",
              "\n",
              "                                         description  \\\n",
              "0  Food52, a fast-growing, James Beard Award-winn...   \n",
              "\n",
              "                                        requirements benefits  telecommuting  \\\n",
              "0  Experience with content management systems a m...  missing              0   \n",
              "\n",
              "   has_company_logo  has_questions employment_type required_experience  \\\n",
              "0                 1              0           Other          Internship   \n",
              "\n",
              "  required_education industry   function  fraudulent country       city  \n",
              "0            missing  missing  Marketing           0      US   New York  "
            ],
            "text/html": [
              "\n",
              "  <div id=\"df-05fa7723-2b81-4817-b754-3964578ebd6a\">\n",
              "    <div class=\"colab-df-container\">\n",
              "      <div>\n",
              "<style scoped>\n",
              "    .dataframe tbody tr th:only-of-type {\n",
              "        vertical-align: middle;\n",
              "    }\n",
              "\n",
              "    .dataframe tbody tr th {\n",
              "        vertical-align: top;\n",
              "    }\n",
              "\n",
              "    .dataframe thead th {\n",
              "        text-align: right;\n",
              "    }\n",
              "</style>\n",
              "<table border=\"1\" class=\"dataframe\">\n",
              "  <thead>\n",
              "    <tr style=\"text-align: right;\">\n",
              "      <th></th>\n",
              "      <th>job_id</th>\n",
              "      <th>title</th>\n",
              "      <th>location</th>\n",
              "      <th>department</th>\n",
              "      <th>salary_range</th>\n",
              "      <th>company_profile</th>\n",
              "      <th>description</th>\n",
              "      <th>requirements</th>\n",
              "      <th>benefits</th>\n",
              "      <th>telecommuting</th>\n",
              "      <th>has_company_logo</th>\n",
              "      <th>has_questions</th>\n",
              "      <th>employment_type</th>\n",
              "      <th>required_experience</th>\n",
              "      <th>required_education</th>\n",
              "      <th>industry</th>\n",
              "      <th>function</th>\n",
              "      <th>fraudulent</th>\n",
              "      <th>country</th>\n",
              "      <th>city</th>\n",
              "    </tr>\n",
              "  </thead>\n",
              "  <tbody>\n",
              "    <tr>\n",
              "      <th>0</th>\n",
              "      <td>1</td>\n",
              "      <td>Marketing Intern</td>\n",
              "      <td>US, NY, New York</td>\n",
              "      <td>Marketing</td>\n",
              "      <td>missing</td>\n",
              "      <td>We're Food52, and we've created a groundbreaki...</td>\n",
              "      <td>Food52, a fast-growing, James Beard Award-winn...</td>\n",
              "      <td>Experience with content management systems a m...</td>\n",
              "      <td>missing</td>\n",
              "      <td>0</td>\n",
              "      <td>1</td>\n",
              "      <td>0</td>\n",
              "      <td>Other</td>\n",
              "      <td>Internship</td>\n",
              "      <td>missing</td>\n",
              "      <td>missing</td>\n",
              "      <td>Marketing</td>\n",
              "      <td>0</td>\n",
              "      <td>US</td>\n",
              "      <td>New York</td>\n",
              "    </tr>\n",
              "  </tbody>\n",
              "</table>\n",
              "</div>\n",
              "      <button class=\"colab-df-convert\" onclick=\"convertToInteractive('df-05fa7723-2b81-4817-b754-3964578ebd6a')\"\n",
              "              title=\"Convert this dataframe to an interactive table.\"\n",
              "              style=\"display:none;\">\n",
              "        \n",
              "  <svg xmlns=\"http://www.w3.org/2000/svg\" height=\"24px\"viewBox=\"0 0 24 24\"\n",
              "       width=\"24px\">\n",
              "    <path d=\"M0 0h24v24H0V0z\" fill=\"none\"/>\n",
              "    <path d=\"M18.56 5.44l.94 2.06.94-2.06 2.06-.94-2.06-.94-.94-2.06-.94 2.06-2.06.94zm-11 1L8.5 8.5l.94-2.06 2.06-.94-2.06-.94L8.5 2.5l-.94 2.06-2.06.94zm10 10l.94 2.06.94-2.06 2.06-.94-2.06-.94-.94-2.06-.94 2.06-2.06.94z\"/><path d=\"M17.41 7.96l-1.37-1.37c-.4-.4-.92-.59-1.43-.59-.52 0-1.04.2-1.43.59L10.3 9.45l-7.72 7.72c-.78.78-.78 2.05 0 2.83L4 21.41c.39.39.9.59 1.41.59.51 0 1.02-.2 1.41-.59l7.78-7.78 2.81-2.81c.8-.78.8-2.07 0-2.86zM5.41 20L4 18.59l7.72-7.72 1.47 1.35L5.41 20z\"/>\n",
              "  </svg>\n",
              "      </button>\n",
              "      \n",
              "  <style>\n",
              "    .colab-df-container {\n",
              "      display:flex;\n",
              "      flex-wrap:wrap;\n",
              "      gap: 12px;\n",
              "    }\n",
              "\n",
              "    .colab-df-convert {\n",
              "      background-color: #E8F0FE;\n",
              "      border: none;\n",
              "      border-radius: 50%;\n",
              "      cursor: pointer;\n",
              "      display: none;\n",
              "      fill: #1967D2;\n",
              "      height: 32px;\n",
              "      padding: 0 0 0 0;\n",
              "      width: 32px;\n",
              "    }\n",
              "\n",
              "    .colab-df-convert:hover {\n",
              "      background-color: #E2EBFA;\n",
              "      box-shadow: 0px 1px 2px rgba(60, 64, 67, 0.3), 0px 1px 3px 1px rgba(60, 64, 67, 0.15);\n",
              "      fill: #174EA6;\n",
              "    }\n",
              "\n",
              "    [theme=dark] .colab-df-convert {\n",
              "      background-color: #3B4455;\n",
              "      fill: #D2E3FC;\n",
              "    }\n",
              "\n",
              "    [theme=dark] .colab-df-convert:hover {\n",
              "      background-color: #434B5C;\n",
              "      box-shadow: 0px 1px 3px 1px rgba(0, 0, 0, 0.15);\n",
              "      filter: drop-shadow(0px 1px 2px rgba(0, 0, 0, 0.3));\n",
              "      fill: #FFFFFF;\n",
              "    }\n",
              "  </style>\n",
              "\n",
              "      <script>\n",
              "        const buttonEl =\n",
              "          document.querySelector('#df-05fa7723-2b81-4817-b754-3964578ebd6a button.colab-df-convert');\n",
              "        buttonEl.style.display =\n",
              "          google.colab.kernel.accessAllowed ? 'block' : 'none';\n",
              "\n",
              "        async function convertToInteractive(key) {\n",
              "          const element = document.querySelector('#df-05fa7723-2b81-4817-b754-3964578ebd6a');\n",
              "          const dataTable =\n",
              "            await google.colab.kernel.invokeFunction('convertToInteractive',\n",
              "                                                     [key], {});\n",
              "          if (!dataTable) return;\n",
              "\n",
              "          const docLinkHtml = 'Like what you see? Visit the ' +\n",
              "            '<a target=\"_blank\" href=https://colab.research.google.com/notebooks/data_table.ipynb>data table notebook</a>'\n",
              "            + ' to learn more about interactive tables.';\n",
              "          element.innerHTML = '';\n",
              "          dataTable['output_type'] = 'display_data';\n",
              "          await google.colab.output.renderOutput(dataTable, element);\n",
              "          const docLink = document.createElement('div');\n",
              "          docLink.innerHTML = docLinkHtml;\n",
              "          element.appendChild(docLink);\n",
              "        }\n",
              "      </script>\n",
              "    </div>\n",
              "  </div>\n",
              "  "
            ]
          },
          "metadata": {},
          "execution_count": 15
        }
      ],
      "source": [
        "data.head(1)"
      ]
    },
    {
      "cell_type": "markdown",
      "id": "903a0082",
      "metadata": {
        "id": "903a0082"
      },
      "source": [
        "#### Separating min and max salary range"
      ]
    },
    {
      "cell_type": "code",
      "execution_count": null,
      "id": "0e3a76c4",
      "metadata": {
        "id": "0e3a76c4"
      },
      "outputs": [],
      "source": [
        "data['min_salary'] = data['salary_range'].str.split('-').apply(lambda x: x[0])\n",
        "data['max_salary'] = data['salary_range'].str.split('-').apply(lambda x: x[-1])"
      ]
    },
    {
      "cell_type": "code",
      "execution_count": null,
      "id": "77dfe2cc",
      "metadata": {
        "colab": {
          "base_uri": "https://localhost:8080/",
          "height": 226
        },
        "id": "77dfe2cc",
        "outputId": "5160d793-cf39-4506-fa60-dca7d4295df2"
      },
      "outputs": [
        {
          "output_type": "execute_result",
          "data": {
            "text/plain": [
              "   job_id             title          location department salary_range  \\\n",
              "0       1  Marketing Intern  US, NY, New York  Marketing      missing   \n",
              "\n",
              "                                     company_profile  \\\n",
              "0  We're Food52, and we've created a groundbreaki...   \n",
              "\n",
              "                                         description  \\\n",
              "0  Food52, a fast-growing, James Beard Award-winn...   \n",
              "\n",
              "                                        requirements benefits  telecommuting  \\\n",
              "0  Experience with content management systems a m...  missing              0   \n",
              "\n",
              "   ...  employment_type  required_experience required_education industry  \\\n",
              "0  ...            Other           Internship            missing  missing   \n",
              "\n",
              "    function fraudulent country       city min_salary max_salary  \n",
              "0  Marketing          0      US   New York    missing    missing  \n",
              "\n",
              "[1 rows x 22 columns]"
            ],
            "text/html": [
              "\n",
              "  <div id=\"df-eadff68f-e597-46c7-ba36-2ff874dd13e4\">\n",
              "    <div class=\"colab-df-container\">\n",
              "      <div>\n",
              "<style scoped>\n",
              "    .dataframe tbody tr th:only-of-type {\n",
              "        vertical-align: middle;\n",
              "    }\n",
              "\n",
              "    .dataframe tbody tr th {\n",
              "        vertical-align: top;\n",
              "    }\n",
              "\n",
              "    .dataframe thead th {\n",
              "        text-align: right;\n",
              "    }\n",
              "</style>\n",
              "<table border=\"1\" class=\"dataframe\">\n",
              "  <thead>\n",
              "    <tr style=\"text-align: right;\">\n",
              "      <th></th>\n",
              "      <th>job_id</th>\n",
              "      <th>title</th>\n",
              "      <th>location</th>\n",
              "      <th>department</th>\n",
              "      <th>salary_range</th>\n",
              "      <th>company_profile</th>\n",
              "      <th>description</th>\n",
              "      <th>requirements</th>\n",
              "      <th>benefits</th>\n",
              "      <th>telecommuting</th>\n",
              "      <th>...</th>\n",
              "      <th>employment_type</th>\n",
              "      <th>required_experience</th>\n",
              "      <th>required_education</th>\n",
              "      <th>industry</th>\n",
              "      <th>function</th>\n",
              "      <th>fraudulent</th>\n",
              "      <th>country</th>\n",
              "      <th>city</th>\n",
              "      <th>min_salary</th>\n",
              "      <th>max_salary</th>\n",
              "    </tr>\n",
              "  </thead>\n",
              "  <tbody>\n",
              "    <tr>\n",
              "      <th>0</th>\n",
              "      <td>1</td>\n",
              "      <td>Marketing Intern</td>\n",
              "      <td>US, NY, New York</td>\n",
              "      <td>Marketing</td>\n",
              "      <td>missing</td>\n",
              "      <td>We're Food52, and we've created a groundbreaki...</td>\n",
              "      <td>Food52, a fast-growing, James Beard Award-winn...</td>\n",
              "      <td>Experience with content management systems a m...</td>\n",
              "      <td>missing</td>\n",
              "      <td>0</td>\n",
              "      <td>...</td>\n",
              "      <td>Other</td>\n",
              "      <td>Internship</td>\n",
              "      <td>missing</td>\n",
              "      <td>missing</td>\n",
              "      <td>Marketing</td>\n",
              "      <td>0</td>\n",
              "      <td>US</td>\n",
              "      <td>New York</td>\n",
              "      <td>missing</td>\n",
              "      <td>missing</td>\n",
              "    </tr>\n",
              "  </tbody>\n",
              "</table>\n",
              "<p>1 rows × 22 columns</p>\n",
              "</div>\n",
              "      <button class=\"colab-df-convert\" onclick=\"convertToInteractive('df-eadff68f-e597-46c7-ba36-2ff874dd13e4')\"\n",
              "              title=\"Convert this dataframe to an interactive table.\"\n",
              "              style=\"display:none;\">\n",
              "        \n",
              "  <svg xmlns=\"http://www.w3.org/2000/svg\" height=\"24px\"viewBox=\"0 0 24 24\"\n",
              "       width=\"24px\">\n",
              "    <path d=\"M0 0h24v24H0V0z\" fill=\"none\"/>\n",
              "    <path d=\"M18.56 5.44l.94 2.06.94-2.06 2.06-.94-2.06-.94-.94-2.06-.94 2.06-2.06.94zm-11 1L8.5 8.5l.94-2.06 2.06-.94-2.06-.94L8.5 2.5l-.94 2.06-2.06.94zm10 10l.94 2.06.94-2.06 2.06-.94-2.06-.94-.94-2.06-.94 2.06-2.06.94z\"/><path d=\"M17.41 7.96l-1.37-1.37c-.4-.4-.92-.59-1.43-.59-.52 0-1.04.2-1.43.59L10.3 9.45l-7.72 7.72c-.78.78-.78 2.05 0 2.83L4 21.41c.39.39.9.59 1.41.59.51 0 1.02-.2 1.41-.59l7.78-7.78 2.81-2.81c.8-.78.8-2.07 0-2.86zM5.41 20L4 18.59l7.72-7.72 1.47 1.35L5.41 20z\"/>\n",
              "  </svg>\n",
              "      </button>\n",
              "      \n",
              "  <style>\n",
              "    .colab-df-container {\n",
              "      display:flex;\n",
              "      flex-wrap:wrap;\n",
              "      gap: 12px;\n",
              "    }\n",
              "\n",
              "    .colab-df-convert {\n",
              "      background-color: #E8F0FE;\n",
              "      border: none;\n",
              "      border-radius: 50%;\n",
              "      cursor: pointer;\n",
              "      display: none;\n",
              "      fill: #1967D2;\n",
              "      height: 32px;\n",
              "      padding: 0 0 0 0;\n",
              "      width: 32px;\n",
              "    }\n",
              "\n",
              "    .colab-df-convert:hover {\n",
              "      background-color: #E2EBFA;\n",
              "      box-shadow: 0px 1px 2px rgba(60, 64, 67, 0.3), 0px 1px 3px 1px rgba(60, 64, 67, 0.15);\n",
              "      fill: #174EA6;\n",
              "    }\n",
              "\n",
              "    [theme=dark] .colab-df-convert {\n",
              "      background-color: #3B4455;\n",
              "      fill: #D2E3FC;\n",
              "    }\n",
              "\n",
              "    [theme=dark] .colab-df-convert:hover {\n",
              "      background-color: #434B5C;\n",
              "      box-shadow: 0px 1px 3px 1px rgba(0, 0, 0, 0.15);\n",
              "      filter: drop-shadow(0px 1px 2px rgba(0, 0, 0, 0.3));\n",
              "      fill: #FFFFFF;\n",
              "    }\n",
              "  </style>\n",
              "\n",
              "      <script>\n",
              "        const buttonEl =\n",
              "          document.querySelector('#df-eadff68f-e597-46c7-ba36-2ff874dd13e4 button.colab-df-convert');\n",
              "        buttonEl.style.display =\n",
              "          google.colab.kernel.accessAllowed ? 'block' : 'none';\n",
              "\n",
              "        async function convertToInteractive(key) {\n",
              "          const element = document.querySelector('#df-eadff68f-e597-46c7-ba36-2ff874dd13e4');\n",
              "          const dataTable =\n",
              "            await google.colab.kernel.invokeFunction('convertToInteractive',\n",
              "                                                     [key], {});\n",
              "          if (!dataTable) return;\n",
              "\n",
              "          const docLinkHtml = 'Like what you see? Visit the ' +\n",
              "            '<a target=\"_blank\" href=https://colab.research.google.com/notebooks/data_table.ipynb>data table notebook</a>'\n",
              "            + ' to learn more about interactive tables.';\n",
              "          element.innerHTML = '';\n",
              "          dataTable['output_type'] = 'display_data';\n",
              "          await google.colab.output.renderOutput(dataTable, element);\n",
              "          const docLink = document.createElement('div');\n",
              "          docLink.innerHTML = docLinkHtml;\n",
              "          element.appendChild(docLink);\n",
              "        }\n",
              "      </script>\n",
              "    </div>\n",
              "  </div>\n",
              "  "
            ]
          },
          "metadata": {},
          "execution_count": 17
        }
      ],
      "source": [
        "data.head(1)"
      ]
    },
    {
      "cell_type": "markdown",
      "id": "84645a4f",
      "metadata": {
        "id": "84645a4f"
      },
      "source": [
        "#### Using Natural Language Toolkit for text processing"
      ]
    },
    {
      "cell_type": "code",
      "execution_count": null,
      "id": "70b8e507",
      "metadata": {
        "id": "70b8e507"
      },
      "outputs": [],
      "source": [
        "import nltk\n",
        "from nltk import sent_tokenize\n",
        "from nltk import word_tokenize"
      ]
    },
    {
      "cell_type": "markdown",
      "id": "3766d166",
      "metadata": {
        "id": "3766d166"
      },
      "source": [
        "import nltk\n",
        "nltk.download()"
      ]
    },
    {
      "cell_type": "code",
      "execution_count": null,
      "id": "a4a89ae9",
      "metadata": {
        "colab": {
          "base_uri": "https://localhost:8080/"
        },
        "id": "a4a89ae9",
        "outputId": "ae44af63-b7ca-4599-dc55-ee2598f8fc61"
      },
      "outputs": [
        {
          "output_type": "stream",
          "name": "stdout",
          "text": [
            "[nltk_data] Downloading package punkt to /root/nltk_data...\n",
            "[nltk_data]   Unzipping tokenizers/punkt.zip.\n"
          ]
        },
        {
          "output_type": "execute_result",
          "data": {
            "text/plain": [
              "True"
            ]
          },
          "metadata": {},
          "execution_count": 19
        }
      ],
      "source": [
        "import nltk\n",
        "nltk.download('punkt')"
      ]
    },
    {
      "cell_type": "code",
      "execution_count": null,
      "id": "3d35d65c",
      "metadata": {
        "id": "3d35d65c"
      },
      "outputs": [],
      "source": [
        "#data['tokenized_description'] = data['description'].apply(word_tokenize)"
      ]
    },
    {
      "cell_type": "code",
      "execution_count": null,
      "id": "c1c780eb",
      "metadata": {
        "id": "c1c780eb"
      },
      "outputs": [],
      "source": [
        "#data.head(1)"
      ]
    },
    {
      "cell_type": "code",
      "execution_count": null,
      "id": "1364861a",
      "metadata": {
        "id": "1364861a"
      },
      "outputs": [],
      "source": [
        "#from nltk.probability import FreqDist\n",
        "#frequency = data['tokenized_description'].apply(FreqDist)"
      ]
    },
    {
      "cell_type": "code",
      "execution_count": null,
      "id": "3769d113",
      "metadata": {
        "id": "3769d113"
      },
      "outputs": [],
      "source": [
        "#frequency"
      ]
    },
    {
      "cell_type": "code",
      "execution_count": null,
      "id": "2a779dbe",
      "metadata": {
        "colab": {
          "base_uri": "https://localhost:8080/",
          "height": 337
        },
        "id": "2a779dbe",
        "outputId": "ed4f82d5-f224-4225-d3cf-71ac663e6797"
      },
      "outputs": [
        {
          "output_type": "execute_result",
          "data": {
            "text/plain": [
              "                                       title  \\\n",
              "0                           Marketing Intern   \n",
              "1  Customer Service - Cloud Video Production   \n",
              "2    Commissioning Machinery Assistant (CMA)   \n",
              "3          Account Executive - Washington DC   \n",
              "4                        Bill Review Manager   \n",
              "\n",
              "                                     company_profile  \\\n",
              "0  We're Food52, and we've created a groundbreaki...   \n",
              "1  90 Seconds, the worlds Cloud Video Production ...   \n",
              "2  Valor Services provides Workforce Solutions th...   \n",
              "3  Our passion for improving quality of life thro...   \n",
              "4  SpotSource Solutions LLC is a Global Human Cap...   \n",
              "\n",
              "                                         description  \\\n",
              "0  Food52, a fast-growing, James Beard Award-winn...   \n",
              "1  Organised - Focused - Vibrant - Awesome!Do you...   \n",
              "2  Our client, located in Houston, is actively se...   \n",
              "3  THE COMPANY: ESRI – Environmental Systems Rese...   \n",
              "4  JOB TITLE: Itemization Review ManagerLOCATION:...   \n",
              "\n",
              "                                        requirements  \\\n",
              "0  Experience with content management systems a m...   \n",
              "1  What we expect from you:Your key responsibilit...   \n",
              "2  Implement pre-commissioning and commissioning ...   \n",
              "3  EDUCATION: Bachelor’s or Master’s in GIS, busi...   \n",
              "4  QUALIFICATIONS:RN license in the State of Texa...   \n",
              "\n",
              "                                            benefits  \n",
              "0                                            missing  \n",
              "1  What you will get from usThrough being part of...  \n",
              "2                                            missing  \n",
              "3  Our culture is anything but corporate—we have ...  \n",
              "4                              Full Benefits Offered  "
            ],
            "text/html": [
              "\n",
              "  <div id=\"df-d80200d3-c581-41e4-ae30-d51cddfa7cab\">\n",
              "    <div class=\"colab-df-container\">\n",
              "      <div>\n",
              "<style scoped>\n",
              "    .dataframe tbody tr th:only-of-type {\n",
              "        vertical-align: middle;\n",
              "    }\n",
              "\n",
              "    .dataframe tbody tr th {\n",
              "        vertical-align: top;\n",
              "    }\n",
              "\n",
              "    .dataframe thead th {\n",
              "        text-align: right;\n",
              "    }\n",
              "</style>\n",
              "<table border=\"1\" class=\"dataframe\">\n",
              "  <thead>\n",
              "    <tr style=\"text-align: right;\">\n",
              "      <th></th>\n",
              "      <th>title</th>\n",
              "      <th>company_profile</th>\n",
              "      <th>description</th>\n",
              "      <th>requirements</th>\n",
              "      <th>benefits</th>\n",
              "    </tr>\n",
              "  </thead>\n",
              "  <tbody>\n",
              "    <tr>\n",
              "      <th>0</th>\n",
              "      <td>Marketing Intern</td>\n",
              "      <td>We're Food52, and we've created a groundbreaki...</td>\n",
              "      <td>Food52, a fast-growing, James Beard Award-winn...</td>\n",
              "      <td>Experience with content management systems a m...</td>\n",
              "      <td>missing</td>\n",
              "    </tr>\n",
              "    <tr>\n",
              "      <th>1</th>\n",
              "      <td>Customer Service - Cloud Video Production</td>\n",
              "      <td>90 Seconds, the worlds Cloud Video Production ...</td>\n",
              "      <td>Organised - Focused - Vibrant - Awesome!Do you...</td>\n",
              "      <td>What we expect from you:Your key responsibilit...</td>\n",
              "      <td>What you will get from usThrough being part of...</td>\n",
              "    </tr>\n",
              "    <tr>\n",
              "      <th>2</th>\n",
              "      <td>Commissioning Machinery Assistant (CMA)</td>\n",
              "      <td>Valor Services provides Workforce Solutions th...</td>\n",
              "      <td>Our client, located in Houston, is actively se...</td>\n",
              "      <td>Implement pre-commissioning and commissioning ...</td>\n",
              "      <td>missing</td>\n",
              "    </tr>\n",
              "    <tr>\n",
              "      <th>3</th>\n",
              "      <td>Account Executive - Washington DC</td>\n",
              "      <td>Our passion for improving quality of life thro...</td>\n",
              "      <td>THE COMPANY: ESRI – Environmental Systems Rese...</td>\n",
              "      <td>EDUCATION: Bachelor’s or Master’s in GIS, busi...</td>\n",
              "      <td>Our culture is anything but corporate—we have ...</td>\n",
              "    </tr>\n",
              "    <tr>\n",
              "      <th>4</th>\n",
              "      <td>Bill Review Manager</td>\n",
              "      <td>SpotSource Solutions LLC is a Global Human Cap...</td>\n",
              "      <td>JOB TITLE: Itemization Review ManagerLOCATION:...</td>\n",
              "      <td>QUALIFICATIONS:RN license in the State of Texa...</td>\n",
              "      <td>Full Benefits Offered</td>\n",
              "    </tr>\n",
              "  </tbody>\n",
              "</table>\n",
              "</div>\n",
              "      <button class=\"colab-df-convert\" onclick=\"convertToInteractive('df-d80200d3-c581-41e4-ae30-d51cddfa7cab')\"\n",
              "              title=\"Convert this dataframe to an interactive table.\"\n",
              "              style=\"display:none;\">\n",
              "        \n",
              "  <svg xmlns=\"http://www.w3.org/2000/svg\" height=\"24px\"viewBox=\"0 0 24 24\"\n",
              "       width=\"24px\">\n",
              "    <path d=\"M0 0h24v24H0V0z\" fill=\"none\"/>\n",
              "    <path d=\"M18.56 5.44l.94 2.06.94-2.06 2.06-.94-2.06-.94-.94-2.06-.94 2.06-2.06.94zm-11 1L8.5 8.5l.94-2.06 2.06-.94-2.06-.94L8.5 2.5l-.94 2.06-2.06.94zm10 10l.94 2.06.94-2.06 2.06-.94-2.06-.94-.94-2.06-.94 2.06-2.06.94z\"/><path d=\"M17.41 7.96l-1.37-1.37c-.4-.4-.92-.59-1.43-.59-.52 0-1.04.2-1.43.59L10.3 9.45l-7.72 7.72c-.78.78-.78 2.05 0 2.83L4 21.41c.39.39.9.59 1.41.59.51 0 1.02-.2 1.41-.59l7.78-7.78 2.81-2.81c.8-.78.8-2.07 0-2.86zM5.41 20L4 18.59l7.72-7.72 1.47 1.35L5.41 20z\"/>\n",
              "  </svg>\n",
              "      </button>\n",
              "      \n",
              "  <style>\n",
              "    .colab-df-container {\n",
              "      display:flex;\n",
              "      flex-wrap:wrap;\n",
              "      gap: 12px;\n",
              "    }\n",
              "\n",
              "    .colab-df-convert {\n",
              "      background-color: #E8F0FE;\n",
              "      border: none;\n",
              "      border-radius: 50%;\n",
              "      cursor: pointer;\n",
              "      display: none;\n",
              "      fill: #1967D2;\n",
              "      height: 32px;\n",
              "      padding: 0 0 0 0;\n",
              "      width: 32px;\n",
              "    }\n",
              "\n",
              "    .colab-df-convert:hover {\n",
              "      background-color: #E2EBFA;\n",
              "      box-shadow: 0px 1px 2px rgba(60, 64, 67, 0.3), 0px 1px 3px 1px rgba(60, 64, 67, 0.15);\n",
              "      fill: #174EA6;\n",
              "    }\n",
              "\n",
              "    [theme=dark] .colab-df-convert {\n",
              "      background-color: #3B4455;\n",
              "      fill: #D2E3FC;\n",
              "    }\n",
              "\n",
              "    [theme=dark] .colab-df-convert:hover {\n",
              "      background-color: #434B5C;\n",
              "      box-shadow: 0px 1px 3px 1px rgba(0, 0, 0, 0.15);\n",
              "      filter: drop-shadow(0px 1px 2px rgba(0, 0, 0, 0.3));\n",
              "      fill: #FFFFFF;\n",
              "    }\n",
              "  </style>\n",
              "\n",
              "      <script>\n",
              "        const buttonEl =\n",
              "          document.querySelector('#df-d80200d3-c581-41e4-ae30-d51cddfa7cab button.colab-df-convert');\n",
              "        buttonEl.style.display =\n",
              "          google.colab.kernel.accessAllowed ? 'block' : 'none';\n",
              "\n",
              "        async function convertToInteractive(key) {\n",
              "          const element = document.querySelector('#df-d80200d3-c581-41e4-ae30-d51cddfa7cab');\n",
              "          const dataTable =\n",
              "            await google.colab.kernel.invokeFunction('convertToInteractive',\n",
              "                                                     [key], {});\n",
              "          if (!dataTable) return;\n",
              "\n",
              "          const docLinkHtml = 'Like what you see? Visit the ' +\n",
              "            '<a target=\"_blank\" href=https://colab.research.google.com/notebooks/data_table.ipynb>data table notebook</a>'\n",
              "            + ' to learn more about interactive tables.';\n",
              "          element.innerHTML = '';\n",
              "          dataTable['output_type'] = 'display_data';\n",
              "          await google.colab.output.renderOutput(dataTable, element);\n",
              "          const docLink = document.createElement('div');\n",
              "          docLink.innerHTML = docLinkHtml;\n",
              "          element.appendChild(docLink);\n",
              "        }\n",
              "      </script>\n",
              "    </div>\n",
              "  </div>\n",
              "  "
            ]
          },
          "metadata": {},
          "execution_count": 24
        }
      ],
      "source": [
        "text_data = data[[\"title\", \"company_profile\", \"description\", \"requirements\", \"benefits\"]]\n",
        "text_data = text_data.fillna(' ')\n",
        "\n",
        "text_data.head()"
      ]
    },
    {
      "cell_type": "code",
      "execution_count": null,
      "id": "62670462",
      "metadata": {
        "colab": {
          "base_uri": "https://localhost:8080/",
          "height": 250
        },
        "id": "62670462",
        "outputId": "fddb419d-76e0-4cd2-c5df-abfce69ffc09"
      },
      "outputs": [
        {
          "output_type": "execute_result",
          "data": {
            "text/plain": [
              "   telecommuting  has_company_logo  has_questions employment_type  \\\n",
              "0              0                 1              0           Other   \n",
              "1              0                 1              0       Full-time   \n",
              "2              0                 1              0         missing   \n",
              "3              0                 1              0       Full-time   \n",
              "4              0                 1              1       Full-time   \n",
              "\n",
              "  required_experience required_education                   industry  \\\n",
              "0          Internship            missing                    missing   \n",
              "1      Not Applicable            missing  Marketing and Advertising   \n",
              "2             missing            missing                    missing   \n",
              "3    Mid-Senior level  Bachelor's Degree          Computer Software   \n",
              "4    Mid-Senior level  Bachelor's Degree     Hospital & Health Care   \n",
              "\n",
              "               function  \n",
              "0             Marketing  \n",
              "1      Customer Service  \n",
              "2               missing  \n",
              "3                 Sales  \n",
              "4  Health Care Provider  "
            ],
            "text/html": [
              "\n",
              "  <div id=\"df-0cf97f92-0240-4672-a895-36ed00e8ed86\">\n",
              "    <div class=\"colab-df-container\">\n",
              "      <div>\n",
              "<style scoped>\n",
              "    .dataframe tbody tr th:only-of-type {\n",
              "        vertical-align: middle;\n",
              "    }\n",
              "\n",
              "    .dataframe tbody tr th {\n",
              "        vertical-align: top;\n",
              "    }\n",
              "\n",
              "    .dataframe thead th {\n",
              "        text-align: right;\n",
              "    }\n",
              "</style>\n",
              "<table border=\"1\" class=\"dataframe\">\n",
              "  <thead>\n",
              "    <tr style=\"text-align: right;\">\n",
              "      <th></th>\n",
              "      <th>telecommuting</th>\n",
              "      <th>has_company_logo</th>\n",
              "      <th>has_questions</th>\n",
              "      <th>employment_type</th>\n",
              "      <th>required_experience</th>\n",
              "      <th>required_education</th>\n",
              "      <th>industry</th>\n",
              "      <th>function</th>\n",
              "    </tr>\n",
              "  </thead>\n",
              "  <tbody>\n",
              "    <tr>\n",
              "      <th>0</th>\n",
              "      <td>0</td>\n",
              "      <td>1</td>\n",
              "      <td>0</td>\n",
              "      <td>Other</td>\n",
              "      <td>Internship</td>\n",
              "      <td>missing</td>\n",
              "      <td>missing</td>\n",
              "      <td>Marketing</td>\n",
              "    </tr>\n",
              "    <tr>\n",
              "      <th>1</th>\n",
              "      <td>0</td>\n",
              "      <td>1</td>\n",
              "      <td>0</td>\n",
              "      <td>Full-time</td>\n",
              "      <td>Not Applicable</td>\n",
              "      <td>missing</td>\n",
              "      <td>Marketing and Advertising</td>\n",
              "      <td>Customer Service</td>\n",
              "    </tr>\n",
              "    <tr>\n",
              "      <th>2</th>\n",
              "      <td>0</td>\n",
              "      <td>1</td>\n",
              "      <td>0</td>\n",
              "      <td>missing</td>\n",
              "      <td>missing</td>\n",
              "      <td>missing</td>\n",
              "      <td>missing</td>\n",
              "      <td>missing</td>\n",
              "    </tr>\n",
              "    <tr>\n",
              "      <th>3</th>\n",
              "      <td>0</td>\n",
              "      <td>1</td>\n",
              "      <td>0</td>\n",
              "      <td>Full-time</td>\n",
              "      <td>Mid-Senior level</td>\n",
              "      <td>Bachelor's Degree</td>\n",
              "      <td>Computer Software</td>\n",
              "      <td>Sales</td>\n",
              "    </tr>\n",
              "    <tr>\n",
              "      <th>4</th>\n",
              "      <td>0</td>\n",
              "      <td>1</td>\n",
              "      <td>1</td>\n",
              "      <td>Full-time</td>\n",
              "      <td>Mid-Senior level</td>\n",
              "      <td>Bachelor's Degree</td>\n",
              "      <td>Hospital &amp; Health Care</td>\n",
              "      <td>Health Care Provider</td>\n",
              "    </tr>\n",
              "  </tbody>\n",
              "</table>\n",
              "</div>\n",
              "      <button class=\"colab-df-convert\" onclick=\"convertToInteractive('df-0cf97f92-0240-4672-a895-36ed00e8ed86')\"\n",
              "              title=\"Convert this dataframe to an interactive table.\"\n",
              "              style=\"display:none;\">\n",
              "        \n",
              "  <svg xmlns=\"http://www.w3.org/2000/svg\" height=\"24px\"viewBox=\"0 0 24 24\"\n",
              "       width=\"24px\">\n",
              "    <path d=\"M0 0h24v24H0V0z\" fill=\"none\"/>\n",
              "    <path d=\"M18.56 5.44l.94 2.06.94-2.06 2.06-.94-2.06-.94-.94-2.06-.94 2.06-2.06.94zm-11 1L8.5 8.5l.94-2.06 2.06-.94-2.06-.94L8.5 2.5l-.94 2.06-2.06.94zm10 10l.94 2.06.94-2.06 2.06-.94-2.06-.94-.94-2.06-.94 2.06-2.06.94z\"/><path d=\"M17.41 7.96l-1.37-1.37c-.4-.4-.92-.59-1.43-.59-.52 0-1.04.2-1.43.59L10.3 9.45l-7.72 7.72c-.78.78-.78 2.05 0 2.83L4 21.41c.39.39.9.59 1.41.59.51 0 1.02-.2 1.41-.59l7.78-7.78 2.81-2.81c.8-.78.8-2.07 0-2.86zM5.41 20L4 18.59l7.72-7.72 1.47 1.35L5.41 20z\"/>\n",
              "  </svg>\n",
              "      </button>\n",
              "      \n",
              "  <style>\n",
              "    .colab-df-container {\n",
              "      display:flex;\n",
              "      flex-wrap:wrap;\n",
              "      gap: 12px;\n",
              "    }\n",
              "\n",
              "    .colab-df-convert {\n",
              "      background-color: #E8F0FE;\n",
              "      border: none;\n",
              "      border-radius: 50%;\n",
              "      cursor: pointer;\n",
              "      display: none;\n",
              "      fill: #1967D2;\n",
              "      height: 32px;\n",
              "      padding: 0 0 0 0;\n",
              "      width: 32px;\n",
              "    }\n",
              "\n",
              "    .colab-df-convert:hover {\n",
              "      background-color: #E2EBFA;\n",
              "      box-shadow: 0px 1px 2px rgba(60, 64, 67, 0.3), 0px 1px 3px 1px rgba(60, 64, 67, 0.15);\n",
              "      fill: #174EA6;\n",
              "    }\n",
              "\n",
              "    [theme=dark] .colab-df-convert {\n",
              "      background-color: #3B4455;\n",
              "      fill: #D2E3FC;\n",
              "    }\n",
              "\n",
              "    [theme=dark] .colab-df-convert:hover {\n",
              "      background-color: #434B5C;\n",
              "      box-shadow: 0px 1px 3px 1px rgba(0, 0, 0, 0.15);\n",
              "      filter: drop-shadow(0px 1px 2px rgba(0, 0, 0, 0.3));\n",
              "      fill: #FFFFFF;\n",
              "    }\n",
              "  </style>\n",
              "\n",
              "      <script>\n",
              "        const buttonEl =\n",
              "          document.querySelector('#df-0cf97f92-0240-4672-a895-36ed00e8ed86 button.colab-df-convert');\n",
              "        buttonEl.style.display =\n",
              "          google.colab.kernel.accessAllowed ? 'block' : 'none';\n",
              "\n",
              "        async function convertToInteractive(key) {\n",
              "          const element = document.querySelector('#df-0cf97f92-0240-4672-a895-36ed00e8ed86');\n",
              "          const dataTable =\n",
              "            await google.colab.kernel.invokeFunction('convertToInteractive',\n",
              "                                                     [key], {});\n",
              "          if (!dataTable) return;\n",
              "\n",
              "          const docLinkHtml = 'Like what you see? Visit the ' +\n",
              "            '<a target=\"_blank\" href=https://colab.research.google.com/notebooks/data_table.ipynb>data table notebook</a>'\n",
              "            + ' to learn more about interactive tables.';\n",
              "          element.innerHTML = '';\n",
              "          dataTable['output_type'] = 'display_data';\n",
              "          await google.colab.output.renderOutput(dataTable, element);\n",
              "          const docLink = document.createElement('div');\n",
              "          docLink.innerHTML = docLinkHtml;\n",
              "          element.appendChild(docLink);\n",
              "        }\n",
              "      </script>\n",
              "    </div>\n",
              "  </div>\n",
              "  "
            ]
          },
          "metadata": {},
          "execution_count": 25
        }
      ],
      "source": [
        "cat_data = data[[\"telecommuting\", \"has_company_logo\", \"has_questions\", \"employment_type\", \"required_experience\", \"required_education\", \"industry\", \"function\",]]\n",
        "\n",
        "cat_data.head()"
      ]
    },
    {
      "cell_type": "code",
      "execution_count": null,
      "id": "1dbf9f74-ccc8-41bf-892f-7c2027888bf0",
      "metadata": {
        "colab": {
          "base_uri": "https://localhost:8080/"
        },
        "id": "1dbf9f74-ccc8-41bf-892f-7c2027888bf0",
        "outputId": "9b92dd9a-387e-4e37-829c-004322154d05"
      },
      "outputs": [
        {
          "output_type": "stream",
          "name": "stderr",
          "text": [
            "/usr/local/lib/python3.7/dist-packages/ipykernel_launcher.py:6: SettingWithCopyWarning: \n",
            "A value is trying to be set on a copy of a slice from a DataFrame.\n",
            "Try using .loc[row_indexer,col_indexer] = value instead\n",
            "\n",
            "See the caveats in the documentation: https://pandas.pydata.org/pandas-docs/stable/user_guide/indexing.html#returning-a-view-versus-a-copy\n",
            "  \n"
          ]
        }
      ],
      "source": [
        "from sklearn.preprocessing import LabelEncoder\n",
        "label_columns = ['telecommuting', 'has_company_logo', 'has_questions', 'employment_type',\n",
        "       'required_experience', 'required_education', 'industry', 'function']\n",
        "lb_make = LabelEncoder()\n",
        "for i in label_columns:\n",
        "    cat_data[i] = lb_make.fit_transform(cat_data[i])"
      ]
    },
    {
      "cell_type": "code",
      "execution_count": null,
      "id": "9a032162-972f-4e2a-9da1-bc03025ea16c",
      "metadata": {
        "colab": {
          "base_uri": "https://localhost:8080/",
          "height": 423
        },
        "id": "9a032162-972f-4e2a-9da1-bc03025ea16c",
        "outputId": "b8b08256-cdda-4059-98a5-94c792647165"
      },
      "outputs": [
        {
          "output_type": "execute_result",
          "data": {
            "text/plain": [
              "       telecommuting  has_company_logo  has_questions  employment_type  \\\n",
              "0                  0                 1              0                2   \n",
              "1                  0                 1              0                1   \n",
              "2                  0                 1              0                5   \n",
              "3                  0                 1              0                1   \n",
              "4                  0                 1              1                1   \n",
              "...              ...               ...            ...              ...   \n",
              "17875              0                 1              1                1   \n",
              "17876              0                 1              1                1   \n",
              "17877              0                 0              0                1   \n",
              "17878              0                 0              1                0   \n",
              "17879              0                 1              1                1   \n",
              "\n",
              "       required_experience  required_education  industry  function  \n",
              "0                        4                  13       131        22  \n",
              "1                        6                  13        75         7  \n",
              "2                        7                  13       131        37  \n",
              "3                        5                   1        22        31  \n",
              "4                        5                   1        51        16  \n",
              "...                    ...                 ...       ...       ...  \n",
              "17875                    5                  13        22        31  \n",
              "17876                    5                   1        61         0  \n",
              "17877                    7                  13       131        37  \n",
              "17878                    6                   6        48         9  \n",
              "17879                    5                  13        22        12  \n",
              "\n",
              "[17880 rows x 8 columns]"
            ],
            "text/html": [
              "\n",
              "  <div id=\"df-b0e48d37-4bf1-4fc7-b3da-58528e679bc4\">\n",
              "    <div class=\"colab-df-container\">\n",
              "      <div>\n",
              "<style scoped>\n",
              "    .dataframe tbody tr th:only-of-type {\n",
              "        vertical-align: middle;\n",
              "    }\n",
              "\n",
              "    .dataframe tbody tr th {\n",
              "        vertical-align: top;\n",
              "    }\n",
              "\n",
              "    .dataframe thead th {\n",
              "        text-align: right;\n",
              "    }\n",
              "</style>\n",
              "<table border=\"1\" class=\"dataframe\">\n",
              "  <thead>\n",
              "    <tr style=\"text-align: right;\">\n",
              "      <th></th>\n",
              "      <th>telecommuting</th>\n",
              "      <th>has_company_logo</th>\n",
              "      <th>has_questions</th>\n",
              "      <th>employment_type</th>\n",
              "      <th>required_experience</th>\n",
              "      <th>required_education</th>\n",
              "      <th>industry</th>\n",
              "      <th>function</th>\n",
              "    </tr>\n",
              "  </thead>\n",
              "  <tbody>\n",
              "    <tr>\n",
              "      <th>0</th>\n",
              "      <td>0</td>\n",
              "      <td>1</td>\n",
              "      <td>0</td>\n",
              "      <td>2</td>\n",
              "      <td>4</td>\n",
              "      <td>13</td>\n",
              "      <td>131</td>\n",
              "      <td>22</td>\n",
              "    </tr>\n",
              "    <tr>\n",
              "      <th>1</th>\n",
              "      <td>0</td>\n",
              "      <td>1</td>\n",
              "      <td>0</td>\n",
              "      <td>1</td>\n",
              "      <td>6</td>\n",
              "      <td>13</td>\n",
              "      <td>75</td>\n",
              "      <td>7</td>\n",
              "    </tr>\n",
              "    <tr>\n",
              "      <th>2</th>\n",
              "      <td>0</td>\n",
              "      <td>1</td>\n",
              "      <td>0</td>\n",
              "      <td>5</td>\n",
              "      <td>7</td>\n",
              "      <td>13</td>\n",
              "      <td>131</td>\n",
              "      <td>37</td>\n",
              "    </tr>\n",
              "    <tr>\n",
              "      <th>3</th>\n",
              "      <td>0</td>\n",
              "      <td>1</td>\n",
              "      <td>0</td>\n",
              "      <td>1</td>\n",
              "      <td>5</td>\n",
              "      <td>1</td>\n",
              "      <td>22</td>\n",
              "      <td>31</td>\n",
              "    </tr>\n",
              "    <tr>\n",
              "      <th>4</th>\n",
              "      <td>0</td>\n",
              "      <td>1</td>\n",
              "      <td>1</td>\n",
              "      <td>1</td>\n",
              "      <td>5</td>\n",
              "      <td>1</td>\n",
              "      <td>51</td>\n",
              "      <td>16</td>\n",
              "    </tr>\n",
              "    <tr>\n",
              "      <th>...</th>\n",
              "      <td>...</td>\n",
              "      <td>...</td>\n",
              "      <td>...</td>\n",
              "      <td>...</td>\n",
              "      <td>...</td>\n",
              "      <td>...</td>\n",
              "      <td>...</td>\n",
              "      <td>...</td>\n",
              "    </tr>\n",
              "    <tr>\n",
              "      <th>17875</th>\n",
              "      <td>0</td>\n",
              "      <td>1</td>\n",
              "      <td>1</td>\n",
              "      <td>1</td>\n",
              "      <td>5</td>\n",
              "      <td>13</td>\n",
              "      <td>22</td>\n",
              "      <td>31</td>\n",
              "    </tr>\n",
              "    <tr>\n",
              "      <th>17876</th>\n",
              "      <td>0</td>\n",
              "      <td>1</td>\n",
              "      <td>1</td>\n",
              "      <td>1</td>\n",
              "      <td>5</td>\n",
              "      <td>1</td>\n",
              "      <td>61</td>\n",
              "      <td>0</td>\n",
              "    </tr>\n",
              "    <tr>\n",
              "      <th>17877</th>\n",
              "      <td>0</td>\n",
              "      <td>0</td>\n",
              "      <td>0</td>\n",
              "      <td>1</td>\n",
              "      <td>7</td>\n",
              "      <td>13</td>\n",
              "      <td>131</td>\n",
              "      <td>37</td>\n",
              "    </tr>\n",
              "    <tr>\n",
              "      <th>17878</th>\n",
              "      <td>0</td>\n",
              "      <td>0</td>\n",
              "      <td>1</td>\n",
              "      <td>0</td>\n",
              "      <td>6</td>\n",
              "      <td>6</td>\n",
              "      <td>48</td>\n",
              "      <td>9</td>\n",
              "    </tr>\n",
              "    <tr>\n",
              "      <th>17879</th>\n",
              "      <td>0</td>\n",
              "      <td>1</td>\n",
              "      <td>1</td>\n",
              "      <td>1</td>\n",
              "      <td>5</td>\n",
              "      <td>13</td>\n",
              "      <td>22</td>\n",
              "      <td>12</td>\n",
              "    </tr>\n",
              "  </tbody>\n",
              "</table>\n",
              "<p>17880 rows × 8 columns</p>\n",
              "</div>\n",
              "      <button class=\"colab-df-convert\" onclick=\"convertToInteractive('df-b0e48d37-4bf1-4fc7-b3da-58528e679bc4')\"\n",
              "              title=\"Convert this dataframe to an interactive table.\"\n",
              "              style=\"display:none;\">\n",
              "        \n",
              "  <svg xmlns=\"http://www.w3.org/2000/svg\" height=\"24px\"viewBox=\"0 0 24 24\"\n",
              "       width=\"24px\">\n",
              "    <path d=\"M0 0h24v24H0V0z\" fill=\"none\"/>\n",
              "    <path d=\"M18.56 5.44l.94 2.06.94-2.06 2.06-.94-2.06-.94-.94-2.06-.94 2.06-2.06.94zm-11 1L8.5 8.5l.94-2.06 2.06-.94-2.06-.94L8.5 2.5l-.94 2.06-2.06.94zm10 10l.94 2.06.94-2.06 2.06-.94-2.06-.94-.94-2.06-.94 2.06-2.06.94z\"/><path d=\"M17.41 7.96l-1.37-1.37c-.4-.4-.92-.59-1.43-.59-.52 0-1.04.2-1.43.59L10.3 9.45l-7.72 7.72c-.78.78-.78 2.05 0 2.83L4 21.41c.39.39.9.59 1.41.59.51 0 1.02-.2 1.41-.59l7.78-7.78 2.81-2.81c.8-.78.8-2.07 0-2.86zM5.41 20L4 18.59l7.72-7.72 1.47 1.35L5.41 20z\"/>\n",
              "  </svg>\n",
              "      </button>\n",
              "      \n",
              "  <style>\n",
              "    .colab-df-container {\n",
              "      display:flex;\n",
              "      flex-wrap:wrap;\n",
              "      gap: 12px;\n",
              "    }\n",
              "\n",
              "    .colab-df-convert {\n",
              "      background-color: #E8F0FE;\n",
              "      border: none;\n",
              "      border-radius: 50%;\n",
              "      cursor: pointer;\n",
              "      display: none;\n",
              "      fill: #1967D2;\n",
              "      height: 32px;\n",
              "      padding: 0 0 0 0;\n",
              "      width: 32px;\n",
              "    }\n",
              "\n",
              "    .colab-df-convert:hover {\n",
              "      background-color: #E2EBFA;\n",
              "      box-shadow: 0px 1px 2px rgba(60, 64, 67, 0.3), 0px 1px 3px 1px rgba(60, 64, 67, 0.15);\n",
              "      fill: #174EA6;\n",
              "    }\n",
              "\n",
              "    [theme=dark] .colab-df-convert {\n",
              "      background-color: #3B4455;\n",
              "      fill: #D2E3FC;\n",
              "    }\n",
              "\n",
              "    [theme=dark] .colab-df-convert:hover {\n",
              "      background-color: #434B5C;\n",
              "      box-shadow: 0px 1px 3px 1px rgba(0, 0, 0, 0.15);\n",
              "      filter: drop-shadow(0px 1px 2px rgba(0, 0, 0, 0.3));\n",
              "      fill: #FFFFFF;\n",
              "    }\n",
              "  </style>\n",
              "\n",
              "      <script>\n",
              "        const buttonEl =\n",
              "          document.querySelector('#df-b0e48d37-4bf1-4fc7-b3da-58528e679bc4 button.colab-df-convert');\n",
              "        buttonEl.style.display =\n",
              "          google.colab.kernel.accessAllowed ? 'block' : 'none';\n",
              "\n",
              "        async function convertToInteractive(key) {\n",
              "          const element = document.querySelector('#df-b0e48d37-4bf1-4fc7-b3da-58528e679bc4');\n",
              "          const dataTable =\n",
              "            await google.colab.kernel.invokeFunction('convertToInteractive',\n",
              "                                                     [key], {});\n",
              "          if (!dataTable) return;\n",
              "\n",
              "          const docLinkHtml = 'Like what you see? Visit the ' +\n",
              "            '<a target=\"_blank\" href=https://colab.research.google.com/notebooks/data_table.ipynb>data table notebook</a>'\n",
              "            + ' to learn more about interactive tables.';\n",
              "          element.innerHTML = '';\n",
              "          dataTable['output_type'] = 'display_data';\n",
              "          await google.colab.output.renderOutput(dataTable, element);\n",
              "          const docLink = document.createElement('div');\n",
              "          docLink.innerHTML = docLinkHtml;\n",
              "          element.appendChild(docLink);\n",
              "        }\n",
              "      </script>\n",
              "    </div>\n",
              "  </div>\n",
              "  "
            ]
          },
          "metadata": {},
          "execution_count": 27
        }
      ],
      "source": [
        "cat_data"
      ]
    },
    {
      "cell_type": "markdown",
      "id": "71424562-3cb8-4648-803c-3345d05c2be3",
      "metadata": {
        "id": "71424562-3cb8-4648-803c-3345d05c2be3"
      },
      "source": [
        "# Text Data Processing"
      ]
    },
    {
      "cell_type": "code",
      "execution_count": null,
      "id": "331b038f",
      "metadata": {
        "id": "331b038f"
      },
      "outputs": [],
      "source": [
        "import re\n",
        "import string"
      ]
    },
    {
      "cell_type": "markdown",
      "id": "74ec1fe6-2f70-4513-8bc6-3b47da7166ee",
      "metadata": {
        "id": "74ec1fe6-2f70-4513-8bc6-3b47da7166ee"
      },
      "source": [
        "## Look at text columns"
      ]
    },
    {
      "cell_type": "code",
      "execution_count": null,
      "id": "1dc18a7c",
      "metadata": {
        "colab": {
          "base_uri": "https://localhost:8080/"
        },
        "id": "1dc18a7c",
        "outputId": "7bc23314-4781-4b83-e215-29952447e578"
      },
      "outputs": [
        {
          "output_type": "stream",
          "name": "stdout",
          "text": [
            "17880\n",
            "17880\n",
            "0        Marketing Intern,We're Food52, and we've creat...\n",
            "1        Customer Service - Cloud Video Production,90 S...\n",
            "2        Commissioning Machinery Assistant (CMA),Valor ...\n",
            "3        Account Executive - Washington DC,Our passion ...\n",
            "4        Bill Review Manager,SpotSource Solutions LLC i...\n",
            "                               ...                        \n",
            "17875    Account Director - Distribution ,Vend is looki...\n",
            "17876    Payroll Accountant,WebLinc is the e-commerce p...\n",
            "17877    Project Cost Control Staff Engineer - Cost Con...\n",
            "17878    Graphic Designer,missing,Nemsia Studios is loo...\n",
            "17879    Web Application Developers,Vend is looking for...\n",
            "Length: 17880, dtype: object\n"
          ]
        }
      ],
      "source": [
        "text = text_data[text_data.columns[0:-1]].apply(lambda x: ','.join(x.dropna().astype(str)),axis=1)\n",
        "target = data['fraudulent']\n",
        "\n",
        "print(len(text))\n",
        "print(len(target))\n",
        "print(text)"
      ]
    },
    {
      "cell_type": "markdown",
      "id": "b1f7b248-f687-49c4-9ef8-a9ed099df52b",
      "metadata": {
        "id": "b1f7b248-f687-49c4-9ef8-a9ed099df52b"
      },
      "source": [
        "## Function for cleaning up the text data"
      ]
    },
    {
      "cell_type": "code",
      "execution_count": null,
      "id": "19652780",
      "metadata": {
        "colab": {
          "base_uri": "https://localhost:8080/"
        },
        "id": "19652780",
        "outputId": "c14cd562-8986-466f-ddae-867e6bcba351"
      },
      "outputs": [
        {
          "output_type": "execute_result",
          "data": {
            "text/plain": [
              "0    marketing internwere  and weve created a groun...\n",
              "1    customer service  cloud video  seconds the wor...\n",
              "2    commissioning machinery assistant cmavalor ser...\n",
              "3    account executive  washington dcour passion fo...\n",
              "4    bill review managerspotsource solutions llc is...\n",
              "5    accounting clerkmissingjob overviewapex is an ...\n",
              "6    head of content mffounded in  the fonpit ag ro...\n",
              "7    lead guest service specialist   airenvy’s miss...\n",
              "8    hp bsm  is a womanowned small business whose f...\n",
              "9    customer service associate  part time novitex ...\n",
              "dtype: object"
            ]
          },
          "metadata": {},
          "execution_count": 30
        }
      ],
      "source": [
        "def clean_text(text):\n",
        "    '''Make text lowercase, remove text in square brackets,remove links,remove punctuation and remove words containing numbers.'''\n",
        "    text = text.lower() # Lower case\n",
        "    text = re.sub('\\[.*?\\]', '', text) # No text in square brackets\n",
        "    text = re.sub('https?://\\S+|www\\.\\S+', '', text) # Remove HTML links\n",
        "    text = re.sub('<.*?>+', '', text) # Remove punctuations\n",
        "    text = re.sub('[%s]' % re.escape(string.punctuation), '', text) # Remove punctuations\n",
        "    text = re.sub('\\n', '', text) # Remove new lines\n",
        "    text = re.sub('\\w*\\d\\w*', '', text) # Remove words with numbers\n",
        "    return text\n",
        "\n",
        "\n",
        "# Applying the cleaning function to both test and training datasets\n",
        "text = text.apply(lambda x: clean_text(x))\n",
        "text.head(10)\n"
      ]
    },
    {
      "cell_type": "markdown",
      "id": "162bf0af-672d-490c-9e2c-161d1726e9c5",
      "metadata": {
        "id": "162bf0af-672d-490c-9e2c-161d1726e9c5"
      },
      "source": [
        "## Tokenizer"
      ]
    },
    {
      "cell_type": "code",
      "execution_count": null,
      "id": "d616c1fd-0706-45f4-8282-1bfd6e964a7c",
      "metadata": {
        "colab": {
          "base_uri": "https://localhost:8080/"
        },
        "id": "d616c1fd-0706-45f4-8282-1bfd6e964a7c",
        "outputId": "e847f92d-63b2-47fe-9c26-5d441582c8b2"
      },
      "outputs": [
        {
          "output_type": "stream",
          "name": "stdout",
          "text": [
            "CPU times: user 1.68 s, sys: 219 ms, total: 1.9 s\n",
            "Wall time: 1.91 s\n"
          ]
        }
      ],
      "source": [
        "%%time\n",
        "tokenizer = nltk.tokenize.RegexpTokenizer(r'\\w+')\n",
        "\n",
        "# appling tokenizer5\n",
        "text = text.apply(lambda x: tokenizer.tokenize(x))\n",
        "text.head(3)"
      ]
    },
    {
      "cell_type": "markdown",
      "id": "2e90661b-3d96-4915-a9bb-70d6095b7227",
      "metadata": {
        "id": "2e90661b-3d96-4915-a9bb-70d6095b7227"
      },
      "source": [
        "## Removing stopwords in English"
      ]
    },
    {
      "cell_type": "code",
      "execution_count": null,
      "id": "41fed5ac-fb71-4548-a5ed-d42afe205865",
      "metadata": {
        "colab": {
          "base_uri": "https://localhost:8080/"
        },
        "id": "41fed5ac-fb71-4548-a5ed-d42afe205865",
        "outputId": "3fcd5cab-72ec-4bfa-807c-a4117f7d44d8"
      },
      "outputs": [
        {
          "output_type": "stream",
          "name": "stdout",
          "text": [
            "[nltk_data] Downloading package stopwords to /root/nltk_data...\n",
            "[nltk_data]   Unzipping corpora/stopwords.zip.\n"
          ]
        },
        {
          "output_type": "execute_result",
          "data": {
            "text/plain": [
              "True"
            ]
          },
          "metadata": {},
          "execution_count": 32
        }
      ],
      "source": [
        "import nltk\n",
        "nltk.download('stopwords')"
      ]
    },
    {
      "cell_type": "code",
      "execution_count": null,
      "id": "4e9f4f62",
      "metadata": {
        "colab": {
          "base_uri": "https://localhost:8080/"
        },
        "id": "4e9f4f62",
        "outputId": "2cc679d6-495b-4d84-d81c-f8f58140eb5f"
      },
      "outputs": [
        {
          "output_type": "stream",
          "name": "stdout",
          "text": [
            "['i', 'me', 'my', 'myself', 'we', 'our', 'ours', 'ourselves', 'you', \"you're\", \"you've\", \"you'll\", \"you'd\", 'your', 'yours', 'yourself', 'yourselves', 'he', 'him', 'his', 'himself', 'she', \"she's\", 'her', 'hers', 'herself', 'it', \"it's\", 'its', 'itself', 'they', 'them', 'their', 'theirs', 'themselves', 'what', 'which', 'who', 'whom', 'this', 'that', \"that'll\", 'these', 'those', 'am', 'is', 'are', 'was', 'were', 'be', 'been', 'being', 'have', 'has', 'had', 'having', 'do', 'does', 'did', 'doing', 'a', 'an', 'the', 'and', 'but', 'if', 'or', 'because', 'as', 'until', 'while', 'of', 'at', 'by', 'for', 'with', 'about', 'against', 'between', 'into', 'through', 'during', 'before', 'after', 'above', 'below', 'to', 'from', 'up', 'down', 'in', 'out', 'on', 'off', 'over', 'under', 'again', 'further', 'then', 'once', 'here', 'there', 'when', 'where', 'why', 'how', 'all', 'any', 'both', 'each', 'few', 'more', 'most', 'other', 'some', 'such', 'no', 'nor', 'not', 'only', 'own', 'same', 'so', 'than', 'too', 'very', 's', 't', 'can', 'will', 'just', 'don', \"don't\", 'should', \"should've\", 'now', 'd', 'll', 'm', 'o', 're', 've', 'y', 'ain', 'aren', \"aren't\", 'couldn', \"couldn't\", 'didn', \"didn't\", 'doesn', \"doesn't\", 'hadn', \"hadn't\", 'hasn', \"hasn't\", 'haven', \"haven't\", 'isn', \"isn't\", 'ma', 'mightn', \"mightn't\", 'mustn', \"mustn't\", 'needn', \"needn't\", 'shan', \"shan't\", 'shouldn', \"shouldn't\", 'wasn', \"wasn't\", 'weren', \"weren't\", 'won', \"won't\", 'wouldn', \"wouldn't\"]\n"
          ]
        }
      ],
      "source": [
        "from nltk.corpus import stopwords\n",
        "stop = stopwords.words('english')\n",
        "print(stop)"
      ]
    },
    {
      "cell_type": "code",
      "execution_count": null,
      "id": "57027046-c314-40b1-860a-80ed5b2704e4",
      "metadata": {
        "id": "57027046-c314-40b1-860a-80ed5b2704e4"
      },
      "outputs": [],
      "source": [
        "stop_words = stopwords.words('english')\n",
        "def remove_stopwords(text):\n",
        "    \"\"\"\n",
        "    Removing stopwords belonging to english language\n",
        "    \n",
        "    \"\"\"\n",
        "    words = [w for w in text if w not in stop_words]\n",
        "    return words\n",
        "\n",
        "\n",
        "text = text.apply(lambda x : remove_stopwords(x))"
      ]
    },
    {
      "cell_type": "code",
      "execution_count": null,
      "id": "792cd331-166e-458e-8e18-50abca41d135",
      "metadata": {
        "colab": {
          "base_uri": "https://localhost:8080/"
        },
        "id": "792cd331-166e-458e-8e18-50abca41d135",
        "outputId": "cd31d9d8-4170-4e8e-e4b8-efbe4f461988"
      },
      "outputs": [
        {
          "output_type": "execute_result",
          "data": {
            "text/plain": [
              "0        [marketing, internwere, weve, created, groundb...\n",
              "1        [customer, service, cloud, video, seconds, wor...\n",
              "2        [commissioning, machinery, assistant, cmavalor...\n",
              "3        [account, executive, washington, dcour, passio...\n",
              "4        [bill, review, managerspotsource, solutions, l...\n",
              "                               ...                        \n",
              "17875    [account, director, distribution, vend, lookin...\n",
              "17876    [payroll, accountantweblinc, ecommerce, platfo...\n",
              "17877    [project, cost, control, staff, engineer, cost...\n",
              "17878    [graphic, designermissingnemsia, studios, look...\n",
              "17879    [web, application, developersvend, looking, aw...\n",
              "Length: 17880, dtype: object"
            ]
          },
          "metadata": {},
          "execution_count": 35
        }
      ],
      "source": [
        "text"
      ]
    },
    {
      "cell_type": "code",
      "execution_count": null,
      "id": "526d7568",
      "metadata": {
        "colab": {
          "base_uri": "https://localhost:8080/"
        },
        "id": "526d7568",
        "outputId": "3fda5d9b-9005-4341-d4f7-094aaf676e19"
      },
      "outputs": [
        {
          "output_type": "execute_result",
          "data": {
            "text/plain": [
              "0        [marketing, internwere, weve, created, groundb...\n",
              "1        [customer, service, cloud, video, seconds, wor...\n",
              "2        [commissioning, machinery, assistant, cmavalor...\n",
              "3        [account, executive, washington, dcour, passio...\n",
              "4        [bill, review, managerspotsource, solutions, l...\n",
              "                               ...                        \n",
              "17875    [account, director, distribution, vend, lookin...\n",
              "17876    [payroll, accountantweblinc, ecommerce, platfo...\n",
              "17877    [project, cost, control, staff, engineer, cost...\n",
              "17878    [graphic, designermissingnemsia, studios, look...\n",
              "17879    [web, application, developersvend, looking, aw...\n",
              "Length: 17880, dtype: object"
            ]
          },
          "metadata": {},
          "execution_count": 36
        }
      ],
      "source": [
        "text.apply(lambda x: [item for item in x if item not in stop])"
      ]
    },
    {
      "cell_type": "markdown",
      "id": "d47430fc-8e07-4f5b-ae2d-f5e380fb2bf0",
      "metadata": {
        "id": "d47430fc-8e07-4f5b-ae2d-f5e380fb2bf0"
      },
      "source": [
        "## Lemmatization"
      ]
    },
    {
      "cell_type": "code",
      "execution_count": null,
      "id": "91ed0ddc-25c6-4865-a033-5b2ef4b06b9c",
      "metadata": {
        "colab": {
          "base_uri": "https://localhost:8080/"
        },
        "id": "91ed0ddc-25c6-4865-a033-5b2ef4b06b9c",
        "outputId": "dc130603-f6b6-4b33-dc38-5156862afd69"
      },
      "outputs": [
        {
          "output_type": "stream",
          "name": "stdout",
          "text": [
            "[nltk_data] Downloading package wordnet to /root/nltk_data...\n",
            "[nltk_data]   Unzipping corpora/wordnet.zip.\n"
          ]
        },
        {
          "output_type": "execute_result",
          "data": {
            "text/plain": [
              "True"
            ]
          },
          "metadata": {},
          "execution_count": 37
        }
      ],
      "source": [
        "import nltk\n",
        "nltk.download('wordnet')"
      ]
    },
    {
      "cell_type": "code",
      "execution_count": null,
      "id": "c0eb70b2-07d8-4853-9dbc-70042133955c",
      "metadata": {
        "id": "c0eb70b2-07d8-4853-9dbc-70042133955c"
      },
      "outputs": [],
      "source": [
        "new_text = pd.DataFrame(text, columns = ['texts'])"
      ]
    },
    {
      "cell_type": "code",
      "execution_count": null,
      "id": "e892db92-3635-41e8-8fbb-363ddec66e9d",
      "metadata": {
        "colab": {
          "base_uri": "https://localhost:8080/",
          "height": 423
        },
        "id": "e892db92-3635-41e8-8fbb-363ddec66e9d",
        "outputId": "7239007d-cd89-469d-9839-eeef2dab97ea"
      },
      "outputs": [
        {
          "output_type": "execute_result",
          "data": {
            "text/plain": [
              "                                                   texts\n",
              "0      [marketing, internwere, weve, created, groundb...\n",
              "1      [customer, service, cloud, video, seconds, wor...\n",
              "2      [commissioning, machinery, assistant, cmavalor...\n",
              "3      [account, executive, washington, dcour, passio...\n",
              "4      [bill, review, managerspotsource, solutions, l...\n",
              "...                                                  ...\n",
              "17875  [account, director, distribution, vend, lookin...\n",
              "17876  [payroll, accountantweblinc, ecommerce, platfo...\n",
              "17877  [project, cost, control, staff, engineer, cost...\n",
              "17878  [graphic, designermissingnemsia, studios, look...\n",
              "17879  [web, application, developersvend, looking, aw...\n",
              "\n",
              "[17880 rows x 1 columns]"
            ],
            "text/html": [
              "\n",
              "  <div id=\"df-afb8953c-54df-4f82-b52a-092bc6eeeb70\">\n",
              "    <div class=\"colab-df-container\">\n",
              "      <div>\n",
              "<style scoped>\n",
              "    .dataframe tbody tr th:only-of-type {\n",
              "        vertical-align: middle;\n",
              "    }\n",
              "\n",
              "    .dataframe tbody tr th {\n",
              "        vertical-align: top;\n",
              "    }\n",
              "\n",
              "    .dataframe thead th {\n",
              "        text-align: right;\n",
              "    }\n",
              "</style>\n",
              "<table border=\"1\" class=\"dataframe\">\n",
              "  <thead>\n",
              "    <tr style=\"text-align: right;\">\n",
              "      <th></th>\n",
              "      <th>texts</th>\n",
              "    </tr>\n",
              "  </thead>\n",
              "  <tbody>\n",
              "    <tr>\n",
              "      <th>0</th>\n",
              "      <td>[marketing, internwere, weve, created, groundb...</td>\n",
              "    </tr>\n",
              "    <tr>\n",
              "      <th>1</th>\n",
              "      <td>[customer, service, cloud, video, seconds, wor...</td>\n",
              "    </tr>\n",
              "    <tr>\n",
              "      <th>2</th>\n",
              "      <td>[commissioning, machinery, assistant, cmavalor...</td>\n",
              "    </tr>\n",
              "    <tr>\n",
              "      <th>3</th>\n",
              "      <td>[account, executive, washington, dcour, passio...</td>\n",
              "    </tr>\n",
              "    <tr>\n",
              "      <th>4</th>\n",
              "      <td>[bill, review, managerspotsource, solutions, l...</td>\n",
              "    </tr>\n",
              "    <tr>\n",
              "      <th>...</th>\n",
              "      <td>...</td>\n",
              "    </tr>\n",
              "    <tr>\n",
              "      <th>17875</th>\n",
              "      <td>[account, director, distribution, vend, lookin...</td>\n",
              "    </tr>\n",
              "    <tr>\n",
              "      <th>17876</th>\n",
              "      <td>[payroll, accountantweblinc, ecommerce, platfo...</td>\n",
              "    </tr>\n",
              "    <tr>\n",
              "      <th>17877</th>\n",
              "      <td>[project, cost, control, staff, engineer, cost...</td>\n",
              "    </tr>\n",
              "    <tr>\n",
              "      <th>17878</th>\n",
              "      <td>[graphic, designermissingnemsia, studios, look...</td>\n",
              "    </tr>\n",
              "    <tr>\n",
              "      <th>17879</th>\n",
              "      <td>[web, application, developersvend, looking, aw...</td>\n",
              "    </tr>\n",
              "  </tbody>\n",
              "</table>\n",
              "<p>17880 rows × 1 columns</p>\n",
              "</div>\n",
              "      <button class=\"colab-df-convert\" onclick=\"convertToInteractive('df-afb8953c-54df-4f82-b52a-092bc6eeeb70')\"\n",
              "              title=\"Convert this dataframe to an interactive table.\"\n",
              "              style=\"display:none;\">\n",
              "        \n",
              "  <svg xmlns=\"http://www.w3.org/2000/svg\" height=\"24px\"viewBox=\"0 0 24 24\"\n",
              "       width=\"24px\">\n",
              "    <path d=\"M0 0h24v24H0V0z\" fill=\"none\"/>\n",
              "    <path d=\"M18.56 5.44l.94 2.06.94-2.06 2.06-.94-2.06-.94-.94-2.06-.94 2.06-2.06.94zm-11 1L8.5 8.5l.94-2.06 2.06-.94-2.06-.94L8.5 2.5l-.94 2.06-2.06.94zm10 10l.94 2.06.94-2.06 2.06-.94-2.06-.94-.94-2.06-.94 2.06-2.06.94z\"/><path d=\"M17.41 7.96l-1.37-1.37c-.4-.4-.92-.59-1.43-.59-.52 0-1.04.2-1.43.59L10.3 9.45l-7.72 7.72c-.78.78-.78 2.05 0 2.83L4 21.41c.39.39.9.59 1.41.59.51 0 1.02-.2 1.41-.59l7.78-7.78 2.81-2.81c.8-.78.8-2.07 0-2.86zM5.41 20L4 18.59l7.72-7.72 1.47 1.35L5.41 20z\"/>\n",
              "  </svg>\n",
              "      </button>\n",
              "      \n",
              "  <style>\n",
              "    .colab-df-container {\n",
              "      display:flex;\n",
              "      flex-wrap:wrap;\n",
              "      gap: 12px;\n",
              "    }\n",
              "\n",
              "    .colab-df-convert {\n",
              "      background-color: #E8F0FE;\n",
              "      border: none;\n",
              "      border-radius: 50%;\n",
              "      cursor: pointer;\n",
              "      display: none;\n",
              "      fill: #1967D2;\n",
              "      height: 32px;\n",
              "      padding: 0 0 0 0;\n",
              "      width: 32px;\n",
              "    }\n",
              "\n",
              "    .colab-df-convert:hover {\n",
              "      background-color: #E2EBFA;\n",
              "      box-shadow: 0px 1px 2px rgba(60, 64, 67, 0.3), 0px 1px 3px 1px rgba(60, 64, 67, 0.15);\n",
              "      fill: #174EA6;\n",
              "    }\n",
              "\n",
              "    [theme=dark] .colab-df-convert {\n",
              "      background-color: #3B4455;\n",
              "      fill: #D2E3FC;\n",
              "    }\n",
              "\n",
              "    [theme=dark] .colab-df-convert:hover {\n",
              "      background-color: #434B5C;\n",
              "      box-shadow: 0px 1px 3px 1px rgba(0, 0, 0, 0.15);\n",
              "      filter: drop-shadow(0px 1px 2px rgba(0, 0, 0, 0.3));\n",
              "      fill: #FFFFFF;\n",
              "    }\n",
              "  </style>\n",
              "\n",
              "      <script>\n",
              "        const buttonEl =\n",
              "          document.querySelector('#df-afb8953c-54df-4f82-b52a-092bc6eeeb70 button.colab-df-convert');\n",
              "        buttonEl.style.display =\n",
              "          google.colab.kernel.accessAllowed ? 'block' : 'none';\n",
              "\n",
              "        async function convertToInteractive(key) {\n",
              "          const element = document.querySelector('#df-afb8953c-54df-4f82-b52a-092bc6eeeb70');\n",
              "          const dataTable =\n",
              "            await google.colab.kernel.invokeFunction('convertToInteractive',\n",
              "                                                     [key], {});\n",
              "          if (!dataTable) return;\n",
              "\n",
              "          const docLinkHtml = 'Like what you see? Visit the ' +\n",
              "            '<a target=\"_blank\" href=https://colab.research.google.com/notebooks/data_table.ipynb>data table notebook</a>'\n",
              "            + ' to learn more about interactive tables.';\n",
              "          element.innerHTML = '';\n",
              "          dataTable['output_type'] = 'display_data';\n",
              "          await google.colab.output.renderOutput(dataTable, element);\n",
              "          const docLink = document.createElement('div');\n",
              "          docLink.innerHTML = docLinkHtml;\n",
              "          element.appendChild(docLink);\n",
              "        }\n",
              "      </script>\n",
              "    </div>\n",
              "  </div>\n",
              "  "
            ]
          },
          "metadata": {},
          "execution_count": 39
        }
      ],
      "source": [
        "new_text"
      ]
    },
    {
      "cell_type": "code",
      "execution_count": null,
      "id": "30115264-00fa-429c-8024-636a2c89fda2",
      "metadata": {
        "id": "30115264-00fa-429c-8024-636a2c89fda2"
      },
      "outputs": [],
      "source": [
        "tokenizer = nltk.tokenize.WhitespaceTokenizer()\n",
        "lemmatizer = nltk.stem.WordNetLemmatizer()\n",
        "\n",
        "def lemmatization(text):\n",
        "    return [lemmatizer.lemmatize(x) for x in text]\n",
        "\n",
        "new_text['text_lemmatized'] = new_text.texts.apply(lemmatization)"
      ]
    },
    {
      "cell_type": "code",
      "execution_count": null,
      "id": "a7818e59-46f9-43a3-8441-2061a30f939e",
      "metadata": {
        "id": "a7818e59-46f9-43a3-8441-2061a30f939e",
        "colab": {
          "base_uri": "https://localhost:8080/",
          "height": 423
        },
        "outputId": "f46a2c13-2dde-454d-e241-48f3edd0eb67"
      },
      "outputs": [
        {
          "output_type": "execute_result",
          "data": {
            "text/plain": [
              "                                                   texts  \\\n",
              "0      [marketing, internwere, weve, created, groundb...   \n",
              "1      [customer, service, cloud, video, seconds, wor...   \n",
              "2      [commissioning, machinery, assistant, cmavalor...   \n",
              "3      [account, executive, washington, dcour, passio...   \n",
              "4      [bill, review, managerspotsource, solutions, l...   \n",
              "...                                                  ...   \n",
              "17875  [account, director, distribution, vend, lookin...   \n",
              "17876  [payroll, accountantweblinc, ecommerce, platfo...   \n",
              "17877  [project, cost, control, staff, engineer, cost...   \n",
              "17878  [graphic, designermissingnemsia, studios, look...   \n",
              "17879  [web, application, developersvend, looking, aw...   \n",
              "\n",
              "                                         text_lemmatized  \n",
              "0      [marketing, internwere, weve, created, groundb...  \n",
              "1      [customer, service, cloud, video, second, worl...  \n",
              "2      [commissioning, machinery, assistant, cmavalor...  \n",
              "3      [account, executive, washington, dcour, passio...  \n",
              "4      [bill, review, managerspotsource, solution, ll...  \n",
              "...                                                  ...  \n",
              "17875  [account, director, distribution, vend, lookin...  \n",
              "17876  [payroll, accountantweblinc, ecommerce, platfo...  \n",
              "17877  [project, cost, control, staff, engineer, cost...  \n",
              "17878  [graphic, designermissingnemsia, studio, looki...  \n",
              "17879  [web, application, developersvend, looking, aw...  \n",
              "\n",
              "[17880 rows x 2 columns]"
            ],
            "text/html": [
              "\n",
              "  <div id=\"df-2bd11942-6fc9-4f72-9712-fab94df06cd5\">\n",
              "    <div class=\"colab-df-container\">\n",
              "      <div>\n",
              "<style scoped>\n",
              "    .dataframe tbody tr th:only-of-type {\n",
              "        vertical-align: middle;\n",
              "    }\n",
              "\n",
              "    .dataframe tbody tr th {\n",
              "        vertical-align: top;\n",
              "    }\n",
              "\n",
              "    .dataframe thead th {\n",
              "        text-align: right;\n",
              "    }\n",
              "</style>\n",
              "<table border=\"1\" class=\"dataframe\">\n",
              "  <thead>\n",
              "    <tr style=\"text-align: right;\">\n",
              "      <th></th>\n",
              "      <th>texts</th>\n",
              "      <th>text_lemmatized</th>\n",
              "    </tr>\n",
              "  </thead>\n",
              "  <tbody>\n",
              "    <tr>\n",
              "      <th>0</th>\n",
              "      <td>[marketing, internwere, weve, created, groundb...</td>\n",
              "      <td>[marketing, internwere, weve, created, groundb...</td>\n",
              "    </tr>\n",
              "    <tr>\n",
              "      <th>1</th>\n",
              "      <td>[customer, service, cloud, video, seconds, wor...</td>\n",
              "      <td>[customer, service, cloud, video, second, worl...</td>\n",
              "    </tr>\n",
              "    <tr>\n",
              "      <th>2</th>\n",
              "      <td>[commissioning, machinery, assistant, cmavalor...</td>\n",
              "      <td>[commissioning, machinery, assistant, cmavalor...</td>\n",
              "    </tr>\n",
              "    <tr>\n",
              "      <th>3</th>\n",
              "      <td>[account, executive, washington, dcour, passio...</td>\n",
              "      <td>[account, executive, washington, dcour, passio...</td>\n",
              "    </tr>\n",
              "    <tr>\n",
              "      <th>4</th>\n",
              "      <td>[bill, review, managerspotsource, solutions, l...</td>\n",
              "      <td>[bill, review, managerspotsource, solution, ll...</td>\n",
              "    </tr>\n",
              "    <tr>\n",
              "      <th>...</th>\n",
              "      <td>...</td>\n",
              "      <td>...</td>\n",
              "    </tr>\n",
              "    <tr>\n",
              "      <th>17875</th>\n",
              "      <td>[account, director, distribution, vend, lookin...</td>\n",
              "      <td>[account, director, distribution, vend, lookin...</td>\n",
              "    </tr>\n",
              "    <tr>\n",
              "      <th>17876</th>\n",
              "      <td>[payroll, accountantweblinc, ecommerce, platfo...</td>\n",
              "      <td>[payroll, accountantweblinc, ecommerce, platfo...</td>\n",
              "    </tr>\n",
              "    <tr>\n",
              "      <th>17877</th>\n",
              "      <td>[project, cost, control, staff, engineer, cost...</td>\n",
              "      <td>[project, cost, control, staff, engineer, cost...</td>\n",
              "    </tr>\n",
              "    <tr>\n",
              "      <th>17878</th>\n",
              "      <td>[graphic, designermissingnemsia, studios, look...</td>\n",
              "      <td>[graphic, designermissingnemsia, studio, looki...</td>\n",
              "    </tr>\n",
              "    <tr>\n",
              "      <th>17879</th>\n",
              "      <td>[web, application, developersvend, looking, aw...</td>\n",
              "      <td>[web, application, developersvend, looking, aw...</td>\n",
              "    </tr>\n",
              "  </tbody>\n",
              "</table>\n",
              "<p>17880 rows × 2 columns</p>\n",
              "</div>\n",
              "      <button class=\"colab-df-convert\" onclick=\"convertToInteractive('df-2bd11942-6fc9-4f72-9712-fab94df06cd5')\"\n",
              "              title=\"Convert this dataframe to an interactive table.\"\n",
              "              style=\"display:none;\">\n",
              "        \n",
              "  <svg xmlns=\"http://www.w3.org/2000/svg\" height=\"24px\"viewBox=\"0 0 24 24\"\n",
              "       width=\"24px\">\n",
              "    <path d=\"M0 0h24v24H0V0z\" fill=\"none\"/>\n",
              "    <path d=\"M18.56 5.44l.94 2.06.94-2.06 2.06-.94-2.06-.94-.94-2.06-.94 2.06-2.06.94zm-11 1L8.5 8.5l.94-2.06 2.06-.94-2.06-.94L8.5 2.5l-.94 2.06-2.06.94zm10 10l.94 2.06.94-2.06 2.06-.94-2.06-.94-.94-2.06-.94 2.06-2.06.94z\"/><path d=\"M17.41 7.96l-1.37-1.37c-.4-.4-.92-.59-1.43-.59-.52 0-1.04.2-1.43.59L10.3 9.45l-7.72 7.72c-.78.78-.78 2.05 0 2.83L4 21.41c.39.39.9.59 1.41.59.51 0 1.02-.2 1.41-.59l7.78-7.78 2.81-2.81c.8-.78.8-2.07 0-2.86zM5.41 20L4 18.59l7.72-7.72 1.47 1.35L5.41 20z\"/>\n",
              "  </svg>\n",
              "      </button>\n",
              "      \n",
              "  <style>\n",
              "    .colab-df-container {\n",
              "      display:flex;\n",
              "      flex-wrap:wrap;\n",
              "      gap: 12px;\n",
              "    }\n",
              "\n",
              "    .colab-df-convert {\n",
              "      background-color: #E8F0FE;\n",
              "      border: none;\n",
              "      border-radius: 50%;\n",
              "      cursor: pointer;\n",
              "      display: none;\n",
              "      fill: #1967D2;\n",
              "      height: 32px;\n",
              "      padding: 0 0 0 0;\n",
              "      width: 32px;\n",
              "    }\n",
              "\n",
              "    .colab-df-convert:hover {\n",
              "      background-color: #E2EBFA;\n",
              "      box-shadow: 0px 1px 2px rgba(60, 64, 67, 0.3), 0px 1px 3px 1px rgba(60, 64, 67, 0.15);\n",
              "      fill: #174EA6;\n",
              "    }\n",
              "\n",
              "    [theme=dark] .colab-df-convert {\n",
              "      background-color: #3B4455;\n",
              "      fill: #D2E3FC;\n",
              "    }\n",
              "\n",
              "    [theme=dark] .colab-df-convert:hover {\n",
              "      background-color: #434B5C;\n",
              "      box-shadow: 0px 1px 3px 1px rgba(0, 0, 0, 0.15);\n",
              "      filter: drop-shadow(0px 1px 2px rgba(0, 0, 0, 0.3));\n",
              "      fill: #FFFFFF;\n",
              "    }\n",
              "  </style>\n",
              "\n",
              "      <script>\n",
              "        const buttonEl =\n",
              "          document.querySelector('#df-2bd11942-6fc9-4f72-9712-fab94df06cd5 button.colab-df-convert');\n",
              "        buttonEl.style.display =\n",
              "          google.colab.kernel.accessAllowed ? 'block' : 'none';\n",
              "\n",
              "        async function convertToInteractive(key) {\n",
              "          const element = document.querySelector('#df-2bd11942-6fc9-4f72-9712-fab94df06cd5');\n",
              "          const dataTable =\n",
              "            await google.colab.kernel.invokeFunction('convertToInteractive',\n",
              "                                                     [key], {});\n",
              "          if (!dataTable) return;\n",
              "\n",
              "          const docLinkHtml = 'Like what you see? Visit the ' +\n",
              "            '<a target=\"_blank\" href=https://colab.research.google.com/notebooks/data_table.ipynb>data table notebook</a>'\n",
              "            + ' to learn more about interactive tables.';\n",
              "          element.innerHTML = '';\n",
              "          dataTable['output_type'] = 'display_data';\n",
              "          await google.colab.output.renderOutput(dataTable, element);\n",
              "          const docLink = document.createElement('div');\n",
              "          docLink.innerHTML = docLinkHtml;\n",
              "          element.appendChild(docLink);\n",
              "        }\n",
              "      </script>\n",
              "    </div>\n",
              "  </div>\n",
              "  "
            ]
          },
          "metadata": {},
          "execution_count": 41
        }
      ],
      "source": [
        "new_text"
      ]
    },
    {
      "cell_type": "markdown",
      "id": "58f0e09d-c7d5-4315-acbf-a09ae5f08732",
      "metadata": {
        "id": "58f0e09d-c7d5-4315-acbf-a09ae5f08732"
      },
      "source": [
        "## Combine Text"
      ]
    },
    {
      "cell_type": "code",
      "execution_count": null,
      "id": "b6db1644-bfe8-4094-8763-6242a3b91f16",
      "metadata": {
        "id": "b6db1644-bfe8-4094-8763-6242a3b91f16"
      },
      "outputs": [],
      "source": [
        "new_text['lemmatize'] = new_text['text_lemmatized'].apply(lambda x: ' '.join(word for word in x))"
      ]
    },
    {
      "cell_type": "code",
      "execution_count": null,
      "id": "38ec696b-637f-4692-9d09-62068aa41989",
      "metadata": {
        "id": "38ec696b-637f-4692-9d09-62068aa41989",
        "colab": {
          "base_uri": "https://localhost:8080/",
          "height": 423
        },
        "outputId": "ea3dba23-92de-49ce-fcf5-04ef6dd4d9a7"
      },
      "outputs": [
        {
          "output_type": "execute_result",
          "data": {
            "text/plain": [
              "                                                   texts  \\\n",
              "0      [marketing, internwere, weve, created, groundb...   \n",
              "1      [customer, service, cloud, video, seconds, wor...   \n",
              "2      [commissioning, machinery, assistant, cmavalor...   \n",
              "3      [account, executive, washington, dcour, passio...   \n",
              "4      [bill, review, managerspotsource, solutions, l...   \n",
              "...                                                  ...   \n",
              "17875  [account, director, distribution, vend, lookin...   \n",
              "17876  [payroll, accountantweblinc, ecommerce, platfo...   \n",
              "17877  [project, cost, control, staff, engineer, cost...   \n",
              "17878  [graphic, designermissingnemsia, studios, look...   \n",
              "17879  [web, application, developersvend, looking, aw...   \n",
              "\n",
              "                                         text_lemmatized  \\\n",
              "0      [marketing, internwere, weve, created, groundb...   \n",
              "1      [customer, service, cloud, video, second, worl...   \n",
              "2      [commissioning, machinery, assistant, cmavalor...   \n",
              "3      [account, executive, washington, dcour, passio...   \n",
              "4      [bill, review, managerspotsource, solution, ll...   \n",
              "...                                                  ...   \n",
              "17875  [account, director, distribution, vend, lookin...   \n",
              "17876  [payroll, accountantweblinc, ecommerce, platfo...   \n",
              "17877  [project, cost, control, staff, engineer, cost...   \n",
              "17878  [graphic, designermissingnemsia, studio, looki...   \n",
              "17879  [web, application, developersvend, looking, aw...   \n",
              "\n",
              "                                               lemmatize  \n",
              "0      marketing internwere weve created groundbreaki...  \n",
              "1      customer service cloud video second world clou...  \n",
              "2      commissioning machinery assistant cmavalor ser...  \n",
              "3      account executive washington dcour passion imp...  \n",
              "4      bill review managerspotsource solution llc glo...  \n",
              "...                                                  ...  \n",
              "17875  account director distribution vend looking awe...  \n",
              "17876  payroll accountantweblinc ecommerce platform s...  \n",
              "17877  project cost control staff engineer cost contr...  \n",
              "17878  graphic designermissingnemsia studio looking e...  \n",
              "17879  web application developersvend looking awesome...  \n",
              "\n",
              "[17880 rows x 3 columns]"
            ],
            "text/html": [
              "\n",
              "  <div id=\"df-c8306c69-445a-428e-8a64-ac53a753af8b\">\n",
              "    <div class=\"colab-df-container\">\n",
              "      <div>\n",
              "<style scoped>\n",
              "    .dataframe tbody tr th:only-of-type {\n",
              "        vertical-align: middle;\n",
              "    }\n",
              "\n",
              "    .dataframe tbody tr th {\n",
              "        vertical-align: top;\n",
              "    }\n",
              "\n",
              "    .dataframe thead th {\n",
              "        text-align: right;\n",
              "    }\n",
              "</style>\n",
              "<table border=\"1\" class=\"dataframe\">\n",
              "  <thead>\n",
              "    <tr style=\"text-align: right;\">\n",
              "      <th></th>\n",
              "      <th>texts</th>\n",
              "      <th>text_lemmatized</th>\n",
              "      <th>lemmatize</th>\n",
              "    </tr>\n",
              "  </thead>\n",
              "  <tbody>\n",
              "    <tr>\n",
              "      <th>0</th>\n",
              "      <td>[marketing, internwere, weve, created, groundb...</td>\n",
              "      <td>[marketing, internwere, weve, created, groundb...</td>\n",
              "      <td>marketing internwere weve created groundbreaki...</td>\n",
              "    </tr>\n",
              "    <tr>\n",
              "      <th>1</th>\n",
              "      <td>[customer, service, cloud, video, seconds, wor...</td>\n",
              "      <td>[customer, service, cloud, video, second, worl...</td>\n",
              "      <td>customer service cloud video second world clou...</td>\n",
              "    </tr>\n",
              "    <tr>\n",
              "      <th>2</th>\n",
              "      <td>[commissioning, machinery, assistant, cmavalor...</td>\n",
              "      <td>[commissioning, machinery, assistant, cmavalor...</td>\n",
              "      <td>commissioning machinery assistant cmavalor ser...</td>\n",
              "    </tr>\n",
              "    <tr>\n",
              "      <th>3</th>\n",
              "      <td>[account, executive, washington, dcour, passio...</td>\n",
              "      <td>[account, executive, washington, dcour, passio...</td>\n",
              "      <td>account executive washington dcour passion imp...</td>\n",
              "    </tr>\n",
              "    <tr>\n",
              "      <th>4</th>\n",
              "      <td>[bill, review, managerspotsource, solutions, l...</td>\n",
              "      <td>[bill, review, managerspotsource, solution, ll...</td>\n",
              "      <td>bill review managerspotsource solution llc glo...</td>\n",
              "    </tr>\n",
              "    <tr>\n",
              "      <th>...</th>\n",
              "      <td>...</td>\n",
              "      <td>...</td>\n",
              "      <td>...</td>\n",
              "    </tr>\n",
              "    <tr>\n",
              "      <th>17875</th>\n",
              "      <td>[account, director, distribution, vend, lookin...</td>\n",
              "      <td>[account, director, distribution, vend, lookin...</td>\n",
              "      <td>account director distribution vend looking awe...</td>\n",
              "    </tr>\n",
              "    <tr>\n",
              "      <th>17876</th>\n",
              "      <td>[payroll, accountantweblinc, ecommerce, platfo...</td>\n",
              "      <td>[payroll, accountantweblinc, ecommerce, platfo...</td>\n",
              "      <td>payroll accountantweblinc ecommerce platform s...</td>\n",
              "    </tr>\n",
              "    <tr>\n",
              "      <th>17877</th>\n",
              "      <td>[project, cost, control, staff, engineer, cost...</td>\n",
              "      <td>[project, cost, control, staff, engineer, cost...</td>\n",
              "      <td>project cost control staff engineer cost contr...</td>\n",
              "    </tr>\n",
              "    <tr>\n",
              "      <th>17878</th>\n",
              "      <td>[graphic, designermissingnemsia, studios, look...</td>\n",
              "      <td>[graphic, designermissingnemsia, studio, looki...</td>\n",
              "      <td>graphic designermissingnemsia studio looking e...</td>\n",
              "    </tr>\n",
              "    <tr>\n",
              "      <th>17879</th>\n",
              "      <td>[web, application, developersvend, looking, aw...</td>\n",
              "      <td>[web, application, developersvend, looking, aw...</td>\n",
              "      <td>web application developersvend looking awesome...</td>\n",
              "    </tr>\n",
              "  </tbody>\n",
              "</table>\n",
              "<p>17880 rows × 3 columns</p>\n",
              "</div>\n",
              "      <button class=\"colab-df-convert\" onclick=\"convertToInteractive('df-c8306c69-445a-428e-8a64-ac53a753af8b')\"\n",
              "              title=\"Convert this dataframe to an interactive table.\"\n",
              "              style=\"display:none;\">\n",
              "        \n",
              "  <svg xmlns=\"http://www.w3.org/2000/svg\" height=\"24px\"viewBox=\"0 0 24 24\"\n",
              "       width=\"24px\">\n",
              "    <path d=\"M0 0h24v24H0V0z\" fill=\"none\"/>\n",
              "    <path d=\"M18.56 5.44l.94 2.06.94-2.06 2.06-.94-2.06-.94-.94-2.06-.94 2.06-2.06.94zm-11 1L8.5 8.5l.94-2.06 2.06-.94-2.06-.94L8.5 2.5l-.94 2.06-2.06.94zm10 10l.94 2.06.94-2.06 2.06-.94-2.06-.94-.94-2.06-.94 2.06-2.06.94z\"/><path d=\"M17.41 7.96l-1.37-1.37c-.4-.4-.92-.59-1.43-.59-.52 0-1.04.2-1.43.59L10.3 9.45l-7.72 7.72c-.78.78-.78 2.05 0 2.83L4 21.41c.39.39.9.59 1.41.59.51 0 1.02-.2 1.41-.59l7.78-7.78 2.81-2.81c.8-.78.8-2.07 0-2.86zM5.41 20L4 18.59l7.72-7.72 1.47 1.35L5.41 20z\"/>\n",
              "  </svg>\n",
              "      </button>\n",
              "      \n",
              "  <style>\n",
              "    .colab-df-container {\n",
              "      display:flex;\n",
              "      flex-wrap:wrap;\n",
              "      gap: 12px;\n",
              "    }\n",
              "\n",
              "    .colab-df-convert {\n",
              "      background-color: #E8F0FE;\n",
              "      border: none;\n",
              "      border-radius: 50%;\n",
              "      cursor: pointer;\n",
              "      display: none;\n",
              "      fill: #1967D2;\n",
              "      height: 32px;\n",
              "      padding: 0 0 0 0;\n",
              "      width: 32px;\n",
              "    }\n",
              "\n",
              "    .colab-df-convert:hover {\n",
              "      background-color: #E2EBFA;\n",
              "      box-shadow: 0px 1px 2px rgba(60, 64, 67, 0.3), 0px 1px 3px 1px rgba(60, 64, 67, 0.15);\n",
              "      fill: #174EA6;\n",
              "    }\n",
              "\n",
              "    [theme=dark] .colab-df-convert {\n",
              "      background-color: #3B4455;\n",
              "      fill: #D2E3FC;\n",
              "    }\n",
              "\n",
              "    [theme=dark] .colab-df-convert:hover {\n",
              "      background-color: #434B5C;\n",
              "      box-shadow: 0px 1px 3px 1px rgba(0, 0, 0, 0.15);\n",
              "      filter: drop-shadow(0px 1px 2px rgba(0, 0, 0, 0.3));\n",
              "      fill: #FFFFFF;\n",
              "    }\n",
              "  </style>\n",
              "\n",
              "      <script>\n",
              "        const buttonEl =\n",
              "          document.querySelector('#df-c8306c69-445a-428e-8a64-ac53a753af8b button.colab-df-convert');\n",
              "        buttonEl.style.display =\n",
              "          google.colab.kernel.accessAllowed ? 'block' : 'none';\n",
              "\n",
              "        async function convertToInteractive(key) {\n",
              "          const element = document.querySelector('#df-c8306c69-445a-428e-8a64-ac53a753af8b');\n",
              "          const dataTable =\n",
              "            await google.colab.kernel.invokeFunction('convertToInteractive',\n",
              "                                                     [key], {});\n",
              "          if (!dataTable) return;\n",
              "\n",
              "          const docLinkHtml = 'Like what you see? Visit the ' +\n",
              "            '<a target=\"_blank\" href=https://colab.research.google.com/notebooks/data_table.ipynb>data table notebook</a>'\n",
              "            + ' to learn more about interactive tables.';\n",
              "          element.innerHTML = '';\n",
              "          dataTable['output_type'] = 'display_data';\n",
              "          await google.colab.output.renderOutput(dataTable, element);\n",
              "          const docLink = document.createElement('div');\n",
              "          docLink.innerHTML = docLinkHtml;\n",
              "          element.appendChild(docLink);\n",
              "        }\n",
              "      </script>\n",
              "    </div>\n",
              "  </div>\n",
              "  "
            ]
          },
          "metadata": {},
          "execution_count": 43
        }
      ],
      "source": [
        "new_text"
      ]
    },
    {
      "cell_type": "markdown",
      "id": "7deea97a-28aa-4fd7-840d-57a1d28c87e6",
      "metadata": {
        "id": "7deea97a-28aa-4fd7-840d-57a1d28c87e6"
      },
      "source": [
        "## Combine Data"
      ]
    },
    {
      "cell_type": "code",
      "execution_count": null,
      "id": "8aa7f66a-dacb-4fa5-b796-35ba43db955e",
      "metadata": {
        "id": "8aa7f66a-dacb-4fa5-b796-35ba43db955e"
      },
      "outputs": [],
      "source": [
        "new_data = pd.merge(cat_data, new_text[['lemmatize']], left_index=True, right_index=True)"
      ]
    },
    {
      "cell_type": "code",
      "execution_count": null,
      "id": "17db5fab-04ad-46ce-9d0b-521e59106144",
      "metadata": {
        "id": "17db5fab-04ad-46ce-9d0b-521e59106144"
      },
      "outputs": [],
      "source": [
        "new_data = pd.merge(new_data, data[['fraudulent']], left_index=True, right_index=True)"
      ]
    },
    {
      "cell_type": "code",
      "execution_count": null,
      "id": "f12d2a50-5602-47d0-9ae1-a1a8e91053b0",
      "metadata": {
        "id": "f12d2a50-5602-47d0-9ae1-a1a8e91053b0",
        "colab": {
          "base_uri": "https://localhost:8080/",
          "height": 852
        },
        "outputId": "4e642d76-e473-46cc-b06e-67f675ad5a31"
      },
      "outputs": [
        {
          "output_type": "execute_result",
          "data": {
            "text/plain": [
              "       telecommuting  has_company_logo  has_questions  employment_type  \\\n",
              "0                  0                 1              0                2   \n",
              "1                  0                 1              0                1   \n",
              "2                  0                 1              0                5   \n",
              "3                  0                 1              0                1   \n",
              "4                  0                 1              1                1   \n",
              "...              ...               ...            ...              ...   \n",
              "17875              0                 1              1                1   \n",
              "17876              0                 1              1                1   \n",
              "17877              0                 0              0                1   \n",
              "17878              0                 0              1                0   \n",
              "17879              0                 1              1                1   \n",
              "\n",
              "       required_experience  required_education  industry  function  \\\n",
              "0                        4                  13       131        22   \n",
              "1                        6                  13        75         7   \n",
              "2                        7                  13       131        37   \n",
              "3                        5                   1        22        31   \n",
              "4                        5                   1        51        16   \n",
              "...                    ...                 ...       ...       ...   \n",
              "17875                    5                  13        22        31   \n",
              "17876                    5                   1        61         0   \n",
              "17877                    7                  13       131        37   \n",
              "17878                    6                   6        48         9   \n",
              "17879                    5                  13        22        12   \n",
              "\n",
              "                                               lemmatize  fraudulent  \n",
              "0      marketing internwere weve created groundbreaki...           0  \n",
              "1      customer service cloud video second world clou...           0  \n",
              "2      commissioning machinery assistant cmavalor ser...           0  \n",
              "3      account executive washington dcour passion imp...           0  \n",
              "4      bill review managerspotsource solution llc glo...           0  \n",
              "...                                                  ...         ...  \n",
              "17875  account director distribution vend looking awe...           0  \n",
              "17876  payroll accountantweblinc ecommerce platform s...           0  \n",
              "17877  project cost control staff engineer cost contr...           0  \n",
              "17878  graphic designermissingnemsia studio looking e...           0  \n",
              "17879  web application developersvend looking awesome...           0  \n",
              "\n",
              "[17880 rows x 10 columns]"
            ],
            "text/html": [
              "\n",
              "  <div id=\"df-3619d1fa-28bd-477c-a5a5-a6ca14179a8b\">\n",
              "    <div class=\"colab-df-container\">\n",
              "      <div>\n",
              "<style scoped>\n",
              "    .dataframe tbody tr th:only-of-type {\n",
              "        vertical-align: middle;\n",
              "    }\n",
              "\n",
              "    .dataframe tbody tr th {\n",
              "        vertical-align: top;\n",
              "    }\n",
              "\n",
              "    .dataframe thead th {\n",
              "        text-align: right;\n",
              "    }\n",
              "</style>\n",
              "<table border=\"1\" class=\"dataframe\">\n",
              "  <thead>\n",
              "    <tr style=\"text-align: right;\">\n",
              "      <th></th>\n",
              "      <th>telecommuting</th>\n",
              "      <th>has_company_logo</th>\n",
              "      <th>has_questions</th>\n",
              "      <th>employment_type</th>\n",
              "      <th>required_experience</th>\n",
              "      <th>required_education</th>\n",
              "      <th>industry</th>\n",
              "      <th>function</th>\n",
              "      <th>lemmatize</th>\n",
              "      <th>fraudulent</th>\n",
              "    </tr>\n",
              "  </thead>\n",
              "  <tbody>\n",
              "    <tr>\n",
              "      <th>0</th>\n",
              "      <td>0</td>\n",
              "      <td>1</td>\n",
              "      <td>0</td>\n",
              "      <td>2</td>\n",
              "      <td>4</td>\n",
              "      <td>13</td>\n",
              "      <td>131</td>\n",
              "      <td>22</td>\n",
              "      <td>marketing internwere weve created groundbreaki...</td>\n",
              "      <td>0</td>\n",
              "    </tr>\n",
              "    <tr>\n",
              "      <th>1</th>\n",
              "      <td>0</td>\n",
              "      <td>1</td>\n",
              "      <td>0</td>\n",
              "      <td>1</td>\n",
              "      <td>6</td>\n",
              "      <td>13</td>\n",
              "      <td>75</td>\n",
              "      <td>7</td>\n",
              "      <td>customer service cloud video second world clou...</td>\n",
              "      <td>0</td>\n",
              "    </tr>\n",
              "    <tr>\n",
              "      <th>2</th>\n",
              "      <td>0</td>\n",
              "      <td>1</td>\n",
              "      <td>0</td>\n",
              "      <td>5</td>\n",
              "      <td>7</td>\n",
              "      <td>13</td>\n",
              "      <td>131</td>\n",
              "      <td>37</td>\n",
              "      <td>commissioning machinery assistant cmavalor ser...</td>\n",
              "      <td>0</td>\n",
              "    </tr>\n",
              "    <tr>\n",
              "      <th>3</th>\n",
              "      <td>0</td>\n",
              "      <td>1</td>\n",
              "      <td>0</td>\n",
              "      <td>1</td>\n",
              "      <td>5</td>\n",
              "      <td>1</td>\n",
              "      <td>22</td>\n",
              "      <td>31</td>\n",
              "      <td>account executive washington dcour passion imp...</td>\n",
              "      <td>0</td>\n",
              "    </tr>\n",
              "    <tr>\n",
              "      <th>4</th>\n",
              "      <td>0</td>\n",
              "      <td>1</td>\n",
              "      <td>1</td>\n",
              "      <td>1</td>\n",
              "      <td>5</td>\n",
              "      <td>1</td>\n",
              "      <td>51</td>\n",
              "      <td>16</td>\n",
              "      <td>bill review managerspotsource solution llc glo...</td>\n",
              "      <td>0</td>\n",
              "    </tr>\n",
              "    <tr>\n",
              "      <th>...</th>\n",
              "      <td>...</td>\n",
              "      <td>...</td>\n",
              "      <td>...</td>\n",
              "      <td>...</td>\n",
              "      <td>...</td>\n",
              "      <td>...</td>\n",
              "      <td>...</td>\n",
              "      <td>...</td>\n",
              "      <td>...</td>\n",
              "      <td>...</td>\n",
              "    </tr>\n",
              "    <tr>\n",
              "      <th>17875</th>\n",
              "      <td>0</td>\n",
              "      <td>1</td>\n",
              "      <td>1</td>\n",
              "      <td>1</td>\n",
              "      <td>5</td>\n",
              "      <td>13</td>\n",
              "      <td>22</td>\n",
              "      <td>31</td>\n",
              "      <td>account director distribution vend looking awe...</td>\n",
              "      <td>0</td>\n",
              "    </tr>\n",
              "    <tr>\n",
              "      <th>17876</th>\n",
              "      <td>0</td>\n",
              "      <td>1</td>\n",
              "      <td>1</td>\n",
              "      <td>1</td>\n",
              "      <td>5</td>\n",
              "      <td>1</td>\n",
              "      <td>61</td>\n",
              "      <td>0</td>\n",
              "      <td>payroll accountantweblinc ecommerce platform s...</td>\n",
              "      <td>0</td>\n",
              "    </tr>\n",
              "    <tr>\n",
              "      <th>17877</th>\n",
              "      <td>0</td>\n",
              "      <td>0</td>\n",
              "      <td>0</td>\n",
              "      <td>1</td>\n",
              "      <td>7</td>\n",
              "      <td>13</td>\n",
              "      <td>131</td>\n",
              "      <td>37</td>\n",
              "      <td>project cost control staff engineer cost contr...</td>\n",
              "      <td>0</td>\n",
              "    </tr>\n",
              "    <tr>\n",
              "      <th>17878</th>\n",
              "      <td>0</td>\n",
              "      <td>0</td>\n",
              "      <td>1</td>\n",
              "      <td>0</td>\n",
              "      <td>6</td>\n",
              "      <td>6</td>\n",
              "      <td>48</td>\n",
              "      <td>9</td>\n",
              "      <td>graphic designermissingnemsia studio looking e...</td>\n",
              "      <td>0</td>\n",
              "    </tr>\n",
              "    <tr>\n",
              "      <th>17879</th>\n",
              "      <td>0</td>\n",
              "      <td>1</td>\n",
              "      <td>1</td>\n",
              "      <td>1</td>\n",
              "      <td>5</td>\n",
              "      <td>13</td>\n",
              "      <td>22</td>\n",
              "      <td>12</td>\n",
              "      <td>web application developersvend looking awesome...</td>\n",
              "      <td>0</td>\n",
              "    </tr>\n",
              "  </tbody>\n",
              "</table>\n",
              "<p>17880 rows × 10 columns</p>\n",
              "</div>\n",
              "      <button class=\"colab-df-convert\" onclick=\"convertToInteractive('df-3619d1fa-28bd-477c-a5a5-a6ca14179a8b')\"\n",
              "              title=\"Convert this dataframe to an interactive table.\"\n",
              "              style=\"display:none;\">\n",
              "        \n",
              "  <svg xmlns=\"http://www.w3.org/2000/svg\" height=\"24px\"viewBox=\"0 0 24 24\"\n",
              "       width=\"24px\">\n",
              "    <path d=\"M0 0h24v24H0V0z\" fill=\"none\"/>\n",
              "    <path d=\"M18.56 5.44l.94 2.06.94-2.06 2.06-.94-2.06-.94-.94-2.06-.94 2.06-2.06.94zm-11 1L8.5 8.5l.94-2.06 2.06-.94-2.06-.94L8.5 2.5l-.94 2.06-2.06.94zm10 10l.94 2.06.94-2.06 2.06-.94-2.06-.94-.94-2.06-.94 2.06-2.06.94z\"/><path d=\"M17.41 7.96l-1.37-1.37c-.4-.4-.92-.59-1.43-.59-.52 0-1.04.2-1.43.59L10.3 9.45l-7.72 7.72c-.78.78-.78 2.05 0 2.83L4 21.41c.39.39.9.59 1.41.59.51 0 1.02-.2 1.41-.59l7.78-7.78 2.81-2.81c.8-.78.8-2.07 0-2.86zM5.41 20L4 18.59l7.72-7.72 1.47 1.35L5.41 20z\"/>\n",
              "  </svg>\n",
              "      </button>\n",
              "      \n",
              "  <style>\n",
              "    .colab-df-container {\n",
              "      display:flex;\n",
              "      flex-wrap:wrap;\n",
              "      gap: 12px;\n",
              "    }\n",
              "\n",
              "    .colab-df-convert {\n",
              "      background-color: #E8F0FE;\n",
              "      border: none;\n",
              "      border-radius: 50%;\n",
              "      cursor: pointer;\n",
              "      display: none;\n",
              "      fill: #1967D2;\n",
              "      height: 32px;\n",
              "      padding: 0 0 0 0;\n",
              "      width: 32px;\n",
              "    }\n",
              "\n",
              "    .colab-df-convert:hover {\n",
              "      background-color: #E2EBFA;\n",
              "      box-shadow: 0px 1px 2px rgba(60, 64, 67, 0.3), 0px 1px 3px 1px rgba(60, 64, 67, 0.15);\n",
              "      fill: #174EA6;\n",
              "    }\n",
              "\n",
              "    [theme=dark] .colab-df-convert {\n",
              "      background-color: #3B4455;\n",
              "      fill: #D2E3FC;\n",
              "    }\n",
              "\n",
              "    [theme=dark] .colab-df-convert:hover {\n",
              "      background-color: #434B5C;\n",
              "      box-shadow: 0px 1px 3px 1px rgba(0, 0, 0, 0.15);\n",
              "      filter: drop-shadow(0px 1px 2px rgba(0, 0, 0, 0.3));\n",
              "      fill: #FFFFFF;\n",
              "    }\n",
              "  </style>\n",
              "\n",
              "      <script>\n",
              "        const buttonEl =\n",
              "          document.querySelector('#df-3619d1fa-28bd-477c-a5a5-a6ca14179a8b button.colab-df-convert');\n",
              "        buttonEl.style.display =\n",
              "          google.colab.kernel.accessAllowed ? 'block' : 'none';\n",
              "\n",
              "        async function convertToInteractive(key) {\n",
              "          const element = document.querySelector('#df-3619d1fa-28bd-477c-a5a5-a6ca14179a8b');\n",
              "          const dataTable =\n",
              "            await google.colab.kernel.invokeFunction('convertToInteractive',\n",
              "                                                     [key], {});\n",
              "          if (!dataTable) return;\n",
              "\n",
              "          const docLinkHtml = 'Like what you see? Visit the ' +\n",
              "            '<a target=\"_blank\" href=https://colab.research.google.com/notebooks/data_table.ipynb>data table notebook</a>'\n",
              "            + ' to learn more about interactive tables.';\n",
              "          element.innerHTML = '';\n",
              "          dataTable['output_type'] = 'display_data';\n",
              "          await google.colab.output.renderOutput(dataTable, element);\n",
              "          const docLink = document.createElement('div');\n",
              "          docLink.innerHTML = docLinkHtml;\n",
              "          element.appendChild(docLink);\n",
              "        }\n",
              "      </script>\n",
              "    </div>\n",
              "  </div>\n",
              "  "
            ]
          },
          "metadata": {},
          "execution_count": 46
        }
      ],
      "source": [
        "new_data"
      ]
    },
    {
      "cell_type": "code",
      "source": [
        "save_data = new_data"
      ],
      "metadata": {
        "id": "oAiTrWL6-Sye"
      },
      "id": "oAiTrWL6-Sye",
      "execution_count": null,
      "outputs": []
    },
    {
      "cell_type": "markdown",
      "id": "fac153e9-b24b-4ea9-bd78-ee4d2f168305",
      "metadata": {
        "id": "fac153e9-b24b-4ea9-bd78-ee4d2f168305"
      },
      "source": [
        "## Train Test"
      ]
    },
    {
      "cell_type": "code",
      "execution_count": null,
      "id": "4107f5dd-9a63-4c16-b310-6126a2c81cf6",
      "metadata": {
        "id": "4107f5dd-9a63-4c16-b310-6126a2c81cf6"
      },
      "outputs": [],
      "source": [
        "X = new_data.iloc[:, :-1]\n",
        "y = new_data.iloc[:, -1]"
      ]
    },
    {
      "cell_type": "code",
      "execution_count": null,
      "id": "0ee96561-80fa-4319-a9f5-b88b3c62d3db",
      "metadata": {
        "id": "0ee96561-80fa-4319-a9f5-b88b3c62d3db",
        "colab": {
          "base_uri": "https://localhost:8080/",
          "height": 852
        },
        "outputId": "1f69b474-2626-4ac8-e323-27aa255bb861"
      },
      "outputs": [
        {
          "output_type": "execute_result",
          "data": {
            "text/plain": [
              "       telecommuting  has_company_logo  has_questions  employment_type  \\\n",
              "0                  0                 1              0                2   \n",
              "1                  0                 1              0                1   \n",
              "2                  0                 1              0                5   \n",
              "3                  0                 1              0                1   \n",
              "4                  0                 1              1                1   \n",
              "...              ...               ...            ...              ...   \n",
              "17875              0                 1              1                1   \n",
              "17876              0                 1              1                1   \n",
              "17877              0                 0              0                1   \n",
              "17878              0                 0              1                0   \n",
              "17879              0                 1              1                1   \n",
              "\n",
              "       required_experience  required_education  industry  function  \\\n",
              "0                        4                  13       131        22   \n",
              "1                        6                  13        75         7   \n",
              "2                        7                  13       131        37   \n",
              "3                        5                   1        22        31   \n",
              "4                        5                   1        51        16   \n",
              "...                    ...                 ...       ...       ...   \n",
              "17875                    5                  13        22        31   \n",
              "17876                    5                   1        61         0   \n",
              "17877                    7                  13       131        37   \n",
              "17878                    6                   6        48         9   \n",
              "17879                    5                  13        22        12   \n",
              "\n",
              "                                               lemmatize  \n",
              "0      marketing internwere weve created groundbreaki...  \n",
              "1      customer service cloud video second world clou...  \n",
              "2      commissioning machinery assistant cmavalor ser...  \n",
              "3      account executive washington dcour passion imp...  \n",
              "4      bill review managerspotsource solution llc glo...  \n",
              "...                                                  ...  \n",
              "17875  account director distribution vend looking awe...  \n",
              "17876  payroll accountantweblinc ecommerce platform s...  \n",
              "17877  project cost control staff engineer cost contr...  \n",
              "17878  graphic designermissingnemsia studio looking e...  \n",
              "17879  web application developersvend looking awesome...  \n",
              "\n",
              "[17880 rows x 9 columns]"
            ],
            "text/html": [
              "\n",
              "  <div id=\"df-91e0726b-2243-4acf-a60c-751ffeda8b2f\">\n",
              "    <div class=\"colab-df-container\">\n",
              "      <div>\n",
              "<style scoped>\n",
              "    .dataframe tbody tr th:only-of-type {\n",
              "        vertical-align: middle;\n",
              "    }\n",
              "\n",
              "    .dataframe tbody tr th {\n",
              "        vertical-align: top;\n",
              "    }\n",
              "\n",
              "    .dataframe thead th {\n",
              "        text-align: right;\n",
              "    }\n",
              "</style>\n",
              "<table border=\"1\" class=\"dataframe\">\n",
              "  <thead>\n",
              "    <tr style=\"text-align: right;\">\n",
              "      <th></th>\n",
              "      <th>telecommuting</th>\n",
              "      <th>has_company_logo</th>\n",
              "      <th>has_questions</th>\n",
              "      <th>employment_type</th>\n",
              "      <th>required_experience</th>\n",
              "      <th>required_education</th>\n",
              "      <th>industry</th>\n",
              "      <th>function</th>\n",
              "      <th>lemmatize</th>\n",
              "    </tr>\n",
              "  </thead>\n",
              "  <tbody>\n",
              "    <tr>\n",
              "      <th>0</th>\n",
              "      <td>0</td>\n",
              "      <td>1</td>\n",
              "      <td>0</td>\n",
              "      <td>2</td>\n",
              "      <td>4</td>\n",
              "      <td>13</td>\n",
              "      <td>131</td>\n",
              "      <td>22</td>\n",
              "      <td>marketing internwere weve created groundbreaki...</td>\n",
              "    </tr>\n",
              "    <tr>\n",
              "      <th>1</th>\n",
              "      <td>0</td>\n",
              "      <td>1</td>\n",
              "      <td>0</td>\n",
              "      <td>1</td>\n",
              "      <td>6</td>\n",
              "      <td>13</td>\n",
              "      <td>75</td>\n",
              "      <td>7</td>\n",
              "      <td>customer service cloud video second world clou...</td>\n",
              "    </tr>\n",
              "    <tr>\n",
              "      <th>2</th>\n",
              "      <td>0</td>\n",
              "      <td>1</td>\n",
              "      <td>0</td>\n",
              "      <td>5</td>\n",
              "      <td>7</td>\n",
              "      <td>13</td>\n",
              "      <td>131</td>\n",
              "      <td>37</td>\n",
              "      <td>commissioning machinery assistant cmavalor ser...</td>\n",
              "    </tr>\n",
              "    <tr>\n",
              "      <th>3</th>\n",
              "      <td>0</td>\n",
              "      <td>1</td>\n",
              "      <td>0</td>\n",
              "      <td>1</td>\n",
              "      <td>5</td>\n",
              "      <td>1</td>\n",
              "      <td>22</td>\n",
              "      <td>31</td>\n",
              "      <td>account executive washington dcour passion imp...</td>\n",
              "    </tr>\n",
              "    <tr>\n",
              "      <th>4</th>\n",
              "      <td>0</td>\n",
              "      <td>1</td>\n",
              "      <td>1</td>\n",
              "      <td>1</td>\n",
              "      <td>5</td>\n",
              "      <td>1</td>\n",
              "      <td>51</td>\n",
              "      <td>16</td>\n",
              "      <td>bill review managerspotsource solution llc glo...</td>\n",
              "    </tr>\n",
              "    <tr>\n",
              "      <th>...</th>\n",
              "      <td>...</td>\n",
              "      <td>...</td>\n",
              "      <td>...</td>\n",
              "      <td>...</td>\n",
              "      <td>...</td>\n",
              "      <td>...</td>\n",
              "      <td>...</td>\n",
              "      <td>...</td>\n",
              "      <td>...</td>\n",
              "    </tr>\n",
              "    <tr>\n",
              "      <th>17875</th>\n",
              "      <td>0</td>\n",
              "      <td>1</td>\n",
              "      <td>1</td>\n",
              "      <td>1</td>\n",
              "      <td>5</td>\n",
              "      <td>13</td>\n",
              "      <td>22</td>\n",
              "      <td>31</td>\n",
              "      <td>account director distribution vend looking awe...</td>\n",
              "    </tr>\n",
              "    <tr>\n",
              "      <th>17876</th>\n",
              "      <td>0</td>\n",
              "      <td>1</td>\n",
              "      <td>1</td>\n",
              "      <td>1</td>\n",
              "      <td>5</td>\n",
              "      <td>1</td>\n",
              "      <td>61</td>\n",
              "      <td>0</td>\n",
              "      <td>payroll accountantweblinc ecommerce platform s...</td>\n",
              "    </tr>\n",
              "    <tr>\n",
              "      <th>17877</th>\n",
              "      <td>0</td>\n",
              "      <td>0</td>\n",
              "      <td>0</td>\n",
              "      <td>1</td>\n",
              "      <td>7</td>\n",
              "      <td>13</td>\n",
              "      <td>131</td>\n",
              "      <td>37</td>\n",
              "      <td>project cost control staff engineer cost contr...</td>\n",
              "    </tr>\n",
              "    <tr>\n",
              "      <th>17878</th>\n",
              "      <td>0</td>\n",
              "      <td>0</td>\n",
              "      <td>1</td>\n",
              "      <td>0</td>\n",
              "      <td>6</td>\n",
              "      <td>6</td>\n",
              "      <td>48</td>\n",
              "      <td>9</td>\n",
              "      <td>graphic designermissingnemsia studio looking e...</td>\n",
              "    </tr>\n",
              "    <tr>\n",
              "      <th>17879</th>\n",
              "      <td>0</td>\n",
              "      <td>1</td>\n",
              "      <td>1</td>\n",
              "      <td>1</td>\n",
              "      <td>5</td>\n",
              "      <td>13</td>\n",
              "      <td>22</td>\n",
              "      <td>12</td>\n",
              "      <td>web application developersvend looking awesome...</td>\n",
              "    </tr>\n",
              "  </tbody>\n",
              "</table>\n",
              "<p>17880 rows × 9 columns</p>\n",
              "</div>\n",
              "      <button class=\"colab-df-convert\" onclick=\"convertToInteractive('df-91e0726b-2243-4acf-a60c-751ffeda8b2f')\"\n",
              "              title=\"Convert this dataframe to an interactive table.\"\n",
              "              style=\"display:none;\">\n",
              "        \n",
              "  <svg xmlns=\"http://www.w3.org/2000/svg\" height=\"24px\"viewBox=\"0 0 24 24\"\n",
              "       width=\"24px\">\n",
              "    <path d=\"M0 0h24v24H0V0z\" fill=\"none\"/>\n",
              "    <path d=\"M18.56 5.44l.94 2.06.94-2.06 2.06-.94-2.06-.94-.94-2.06-.94 2.06-2.06.94zm-11 1L8.5 8.5l.94-2.06 2.06-.94-2.06-.94L8.5 2.5l-.94 2.06-2.06.94zm10 10l.94 2.06.94-2.06 2.06-.94-2.06-.94-.94-2.06-.94 2.06-2.06.94z\"/><path d=\"M17.41 7.96l-1.37-1.37c-.4-.4-.92-.59-1.43-.59-.52 0-1.04.2-1.43.59L10.3 9.45l-7.72 7.72c-.78.78-.78 2.05 0 2.83L4 21.41c.39.39.9.59 1.41.59.51 0 1.02-.2 1.41-.59l7.78-7.78 2.81-2.81c.8-.78.8-2.07 0-2.86zM5.41 20L4 18.59l7.72-7.72 1.47 1.35L5.41 20z\"/>\n",
              "  </svg>\n",
              "      </button>\n",
              "      \n",
              "  <style>\n",
              "    .colab-df-container {\n",
              "      display:flex;\n",
              "      flex-wrap:wrap;\n",
              "      gap: 12px;\n",
              "    }\n",
              "\n",
              "    .colab-df-convert {\n",
              "      background-color: #E8F0FE;\n",
              "      border: none;\n",
              "      border-radius: 50%;\n",
              "      cursor: pointer;\n",
              "      display: none;\n",
              "      fill: #1967D2;\n",
              "      height: 32px;\n",
              "      padding: 0 0 0 0;\n",
              "      width: 32px;\n",
              "    }\n",
              "\n",
              "    .colab-df-convert:hover {\n",
              "      background-color: #E2EBFA;\n",
              "      box-shadow: 0px 1px 2px rgba(60, 64, 67, 0.3), 0px 1px 3px 1px rgba(60, 64, 67, 0.15);\n",
              "      fill: #174EA6;\n",
              "    }\n",
              "\n",
              "    [theme=dark] .colab-df-convert {\n",
              "      background-color: #3B4455;\n",
              "      fill: #D2E3FC;\n",
              "    }\n",
              "\n",
              "    [theme=dark] .colab-df-convert:hover {\n",
              "      background-color: #434B5C;\n",
              "      box-shadow: 0px 1px 3px 1px rgba(0, 0, 0, 0.15);\n",
              "      filter: drop-shadow(0px 1px 2px rgba(0, 0, 0, 0.3));\n",
              "      fill: #FFFFFF;\n",
              "    }\n",
              "  </style>\n",
              "\n",
              "      <script>\n",
              "        const buttonEl =\n",
              "          document.querySelector('#df-91e0726b-2243-4acf-a60c-751ffeda8b2f button.colab-df-convert');\n",
              "        buttonEl.style.display =\n",
              "          google.colab.kernel.accessAllowed ? 'block' : 'none';\n",
              "\n",
              "        async function convertToInteractive(key) {\n",
              "          const element = document.querySelector('#df-91e0726b-2243-4acf-a60c-751ffeda8b2f');\n",
              "          const dataTable =\n",
              "            await google.colab.kernel.invokeFunction('convertToInteractive',\n",
              "                                                     [key], {});\n",
              "          if (!dataTable) return;\n",
              "\n",
              "          const docLinkHtml = 'Like what you see? Visit the ' +\n",
              "            '<a target=\"_blank\" href=https://colab.research.google.com/notebooks/data_table.ipynb>data table notebook</a>'\n",
              "            + ' to learn more about interactive tables.';\n",
              "          element.innerHTML = '';\n",
              "          dataTable['output_type'] = 'display_data';\n",
              "          await google.colab.output.renderOutput(dataTable, element);\n",
              "          const docLink = document.createElement('div');\n",
              "          docLink.innerHTML = docLinkHtml;\n",
              "          element.appendChild(docLink);\n",
              "        }\n",
              "      </script>\n",
              "    </div>\n",
              "  </div>\n",
              "  "
            ]
          },
          "metadata": {},
          "execution_count": 49
        }
      ],
      "source": [
        "X"
      ]
    },
    {
      "cell_type": "markdown",
      "id": "56aaa77e-91f9-4f61-91a5-1227c8534d04",
      "metadata": {
        "id": "56aaa77e-91f9-4f61-91a5-1227c8534d04"
      },
      "source": [
        "## Text to numeric using Glove"
      ]
    },
    {
      "cell_type": "code",
      "execution_count": null,
      "id": "403cdd22-af90-48bd-93fa-2207db7ab10d",
      "metadata": {
        "id": "403cdd22-af90-48bd-93fa-2207db7ab10d"
      },
      "outputs": [],
      "source": [
        "from sklearn.feature_extraction.text import CountVectorizer\n",
        "\n",
        "#vectorizer = CountVectorizer()\n",
        "#vectorizer.fit(z.values.ravel())\n",
        "#z_train=vectorizer.transform(z.values.ravel())\n",
        "#z_train=z_train.toarray()"
      ]
    },
    {
      "cell_type": "code",
      "execution_count": null,
      "id": "19c0a378-3161-4d0c-921a-053ff71d1031",
      "metadata": {
        "id": "19c0a378-3161-4d0c-921a-053ff71d1031"
      },
      "outputs": [],
      "source": [
        "#z_train"
      ]
    },
    {
      "cell_type": "code",
      "execution_count": null,
      "id": "6d7c72bb-ea56-4bff-b144-66a5c1b99fbc",
      "metadata": {
        "id": "6d7c72bb-ea56-4bff-b144-66a5c1b99fbc"
      },
      "outputs": [],
      "source": [
        "from sklearn.model_selection import train_test_split"
      ]
    },
    {
      "cell_type": "markdown",
      "source": [
        "## Unrar"
      ],
      "metadata": {
        "id": "-xN3xXpJkOdq"
      },
      "id": "-xN3xXpJkOdq"
    },
    {
      "cell_type": "code",
      "source": [
        "#!unrar x \"glove.6B.200d.rar\" \"/content/drive/Shareddrives/Data 245 Project/Project Code/\""
      ],
      "metadata": {
        "id": "t_rXgKEQj03p"
      },
      "id": "t_rXgKEQj03p",
      "execution_count": null,
      "outputs": []
    },
    {
      "cell_type": "code",
      "execution_count": null,
      "id": "4ec68b14-cbe7-4ebb-800e-0cef1a280d83",
      "metadata": {
        "id": "4ec68b14-cbe7-4ebb-800e-0cef1a280d83"
      },
      "outputs": [],
      "source": [
        "embeddings_index = {}\n",
        "f = open('glove.6B.200d.txt', encoding=\"utf8\")\n",
        "for line in f:\n",
        "    values = line.split(' ')\n",
        "    word = values[0] ## The first entry is the word\n",
        "    coefs = np.asarray(values[1:], dtype='float32') ## These are the vectors representing the embedding for the word\n",
        "    embeddings_index[word] = coefs\n",
        "f.close()"
      ]
    },
    {
      "cell_type": "code",
      "execution_count": null,
      "id": "4ed6ddf3-2764-4a04-81fd-d271e15b55f4",
      "metadata": {
        "id": "4ed6ddf3-2764-4a04-81fd-d271e15b55f4",
        "colab": {
          "base_uri": "https://localhost:8080/"
        },
        "outputId": "ea70ad03-9d74-4dc9-8824-e1ac4834a47c"
      },
      "outputs": [
        {
          "output_type": "stream",
          "name": "stdout",
          "text": [
            "Found 400000 word vectors.\n"
          ]
        }
      ],
      "source": [
        "print('Found %s word vectors.' % len(embeddings_index))"
      ]
    },
    {
      "cell_type": "code",
      "execution_count": null,
      "id": "747242b1-e335-4222-bf3d-a9b9152fc5ee",
      "metadata": {
        "id": "747242b1-e335-4222-bf3d-a9b9152fc5ee"
      },
      "outputs": [],
      "source": [
        "glove_words =  set(embeddings_index.keys())\n",
        "\n",
        "def convert_sen_to_vec(sentence):\n",
        "    vector = np.zeros(300) # as word vectors are of zero length\n",
        "    cnt_words =0; # num of words with a valid vector in the sentence\n",
        "    for word in sentence.split():\n",
        "        if word in glove_words:\n",
        "            vector += embeddings_index[word]\n",
        "            cnt_words += 1\n",
        "    if cnt_words != 0:\n",
        "        vector /= cnt_words\n",
        "    return vector"
      ]
    },
    {
      "cell_type": "code",
      "execution_count": null,
      "id": "616e3bab-0399-4e49-8870-b3147c33f89a",
      "metadata": {
        "id": "616e3bab-0399-4e49-8870-b3147c33f89a"
      },
      "outputs": [],
      "source": [
        "def sent2vec(s):\n",
        "    words = str(s).lower()\n",
        "    words = word_tokenize(words)\n",
        "    words = [w for w in words if not w in stop_words]\n",
        "    words = [w for w in words if w.isalpha()]\n",
        "    M = []\n",
        "    for w in words:\n",
        "        try:\n",
        "            M.append(embeddings_index[w])\n",
        "        except:\n",
        "            continue\n",
        "    M = np.array(M)\n",
        "    v = M.sum(axis=0)\n",
        "    if type(v) != np.ndarray:\n",
        "        return np.zeros(200)\n",
        "    return v / np.sqrt((v ** 2).sum())"
      ]
    },
    {
      "cell_type": "code",
      "execution_count": null,
      "id": "b9438889-7212-4d5b-bf21-717fc7f1125f",
      "metadata": {
        "id": "b9438889-7212-4d5b-bf21-717fc7f1125f"
      },
      "outputs": [],
      "source": [
        "converted_data = []\n",
        "\n",
        "for i in range(0, new_data.shape[0]):\n",
        "    converted_data.append(sent2vec(new_data['lemmatize'][i]))"
      ]
    },
    {
      "cell_type": "code",
      "execution_count": null,
      "id": "758ed4f8-965b-494e-97f2-fc35f2b5e91b",
      "metadata": {
        "id": "758ed4f8-965b-494e-97f2-fc35f2b5e91b"
      },
      "outputs": [],
      "source": [
        "_1 = pd.DataFrame(converted_data)"
      ]
    },
    {
      "cell_type": "code",
      "execution_count": null,
      "id": "6e53eb99-42b2-4eb6-adfb-39a5d579c0ad",
      "metadata": {
        "id": "6e53eb99-42b2-4eb6-adfb-39a5d579c0ad"
      },
      "outputs": [],
      "source": [
        "new_data = new_data.drop(columns=['lemmatize'])"
      ]
    },
    {
      "cell_type": "code",
      "source": [
        "new_data"
      ],
      "metadata": {
        "id": "9DX1sm0_ndZ1",
        "colab": {
          "base_uri": "https://localhost:8080/",
          "height": 423
        },
        "outputId": "ae33c713-9ff1-49df-c56a-bf6d2ac83613"
      },
      "id": "9DX1sm0_ndZ1",
      "execution_count": null,
      "outputs": [
        {
          "output_type": "execute_result",
          "data": {
            "text/plain": [
              "       telecommuting  has_company_logo  has_questions  employment_type  \\\n",
              "0                  0                 1              0                2   \n",
              "1                  0                 1              0                1   \n",
              "2                  0                 1              0                5   \n",
              "3                  0                 1              0                1   \n",
              "4                  0                 1              1                1   \n",
              "...              ...               ...            ...              ...   \n",
              "17875              0                 1              1                1   \n",
              "17876              0                 1              1                1   \n",
              "17877              0                 0              0                1   \n",
              "17878              0                 0              1                0   \n",
              "17879              0                 1              1                1   \n",
              "\n",
              "       required_experience  required_education  industry  function  fraudulent  \n",
              "0                        4                  13       131        22           0  \n",
              "1                        6                  13        75         7           0  \n",
              "2                        7                  13       131        37           0  \n",
              "3                        5                   1        22        31           0  \n",
              "4                        5                   1        51        16           0  \n",
              "...                    ...                 ...       ...       ...         ...  \n",
              "17875                    5                  13        22        31           0  \n",
              "17876                    5                   1        61         0           0  \n",
              "17877                    7                  13       131        37           0  \n",
              "17878                    6                   6        48         9           0  \n",
              "17879                    5                  13        22        12           0  \n",
              "\n",
              "[17880 rows x 9 columns]"
            ],
            "text/html": [
              "\n",
              "  <div id=\"df-71df3c30-3bce-4518-88ea-6e12787fe133\">\n",
              "    <div class=\"colab-df-container\">\n",
              "      <div>\n",
              "<style scoped>\n",
              "    .dataframe tbody tr th:only-of-type {\n",
              "        vertical-align: middle;\n",
              "    }\n",
              "\n",
              "    .dataframe tbody tr th {\n",
              "        vertical-align: top;\n",
              "    }\n",
              "\n",
              "    .dataframe thead th {\n",
              "        text-align: right;\n",
              "    }\n",
              "</style>\n",
              "<table border=\"1\" class=\"dataframe\">\n",
              "  <thead>\n",
              "    <tr style=\"text-align: right;\">\n",
              "      <th></th>\n",
              "      <th>telecommuting</th>\n",
              "      <th>has_company_logo</th>\n",
              "      <th>has_questions</th>\n",
              "      <th>employment_type</th>\n",
              "      <th>required_experience</th>\n",
              "      <th>required_education</th>\n",
              "      <th>industry</th>\n",
              "      <th>function</th>\n",
              "      <th>fraudulent</th>\n",
              "    </tr>\n",
              "  </thead>\n",
              "  <tbody>\n",
              "    <tr>\n",
              "      <th>0</th>\n",
              "      <td>0</td>\n",
              "      <td>1</td>\n",
              "      <td>0</td>\n",
              "      <td>2</td>\n",
              "      <td>4</td>\n",
              "      <td>13</td>\n",
              "      <td>131</td>\n",
              "      <td>22</td>\n",
              "      <td>0</td>\n",
              "    </tr>\n",
              "    <tr>\n",
              "      <th>1</th>\n",
              "      <td>0</td>\n",
              "      <td>1</td>\n",
              "      <td>0</td>\n",
              "      <td>1</td>\n",
              "      <td>6</td>\n",
              "      <td>13</td>\n",
              "      <td>75</td>\n",
              "      <td>7</td>\n",
              "      <td>0</td>\n",
              "    </tr>\n",
              "    <tr>\n",
              "      <th>2</th>\n",
              "      <td>0</td>\n",
              "      <td>1</td>\n",
              "      <td>0</td>\n",
              "      <td>5</td>\n",
              "      <td>7</td>\n",
              "      <td>13</td>\n",
              "      <td>131</td>\n",
              "      <td>37</td>\n",
              "      <td>0</td>\n",
              "    </tr>\n",
              "    <tr>\n",
              "      <th>3</th>\n",
              "      <td>0</td>\n",
              "      <td>1</td>\n",
              "      <td>0</td>\n",
              "      <td>1</td>\n",
              "      <td>5</td>\n",
              "      <td>1</td>\n",
              "      <td>22</td>\n",
              "      <td>31</td>\n",
              "      <td>0</td>\n",
              "    </tr>\n",
              "    <tr>\n",
              "      <th>4</th>\n",
              "      <td>0</td>\n",
              "      <td>1</td>\n",
              "      <td>1</td>\n",
              "      <td>1</td>\n",
              "      <td>5</td>\n",
              "      <td>1</td>\n",
              "      <td>51</td>\n",
              "      <td>16</td>\n",
              "      <td>0</td>\n",
              "    </tr>\n",
              "    <tr>\n",
              "      <th>...</th>\n",
              "      <td>...</td>\n",
              "      <td>...</td>\n",
              "      <td>...</td>\n",
              "      <td>...</td>\n",
              "      <td>...</td>\n",
              "      <td>...</td>\n",
              "      <td>...</td>\n",
              "      <td>...</td>\n",
              "      <td>...</td>\n",
              "    </tr>\n",
              "    <tr>\n",
              "      <th>17875</th>\n",
              "      <td>0</td>\n",
              "      <td>1</td>\n",
              "      <td>1</td>\n",
              "      <td>1</td>\n",
              "      <td>5</td>\n",
              "      <td>13</td>\n",
              "      <td>22</td>\n",
              "      <td>31</td>\n",
              "      <td>0</td>\n",
              "    </tr>\n",
              "    <tr>\n",
              "      <th>17876</th>\n",
              "      <td>0</td>\n",
              "      <td>1</td>\n",
              "      <td>1</td>\n",
              "      <td>1</td>\n",
              "      <td>5</td>\n",
              "      <td>1</td>\n",
              "      <td>61</td>\n",
              "      <td>0</td>\n",
              "      <td>0</td>\n",
              "    </tr>\n",
              "    <tr>\n",
              "      <th>17877</th>\n",
              "      <td>0</td>\n",
              "      <td>0</td>\n",
              "      <td>0</td>\n",
              "      <td>1</td>\n",
              "      <td>7</td>\n",
              "      <td>13</td>\n",
              "      <td>131</td>\n",
              "      <td>37</td>\n",
              "      <td>0</td>\n",
              "    </tr>\n",
              "    <tr>\n",
              "      <th>17878</th>\n",
              "      <td>0</td>\n",
              "      <td>0</td>\n",
              "      <td>1</td>\n",
              "      <td>0</td>\n",
              "      <td>6</td>\n",
              "      <td>6</td>\n",
              "      <td>48</td>\n",
              "      <td>9</td>\n",
              "      <td>0</td>\n",
              "    </tr>\n",
              "    <tr>\n",
              "      <th>17879</th>\n",
              "      <td>0</td>\n",
              "      <td>1</td>\n",
              "      <td>1</td>\n",
              "      <td>1</td>\n",
              "      <td>5</td>\n",
              "      <td>13</td>\n",
              "      <td>22</td>\n",
              "      <td>12</td>\n",
              "      <td>0</td>\n",
              "    </tr>\n",
              "  </tbody>\n",
              "</table>\n",
              "<p>17880 rows × 9 columns</p>\n",
              "</div>\n",
              "      <button class=\"colab-df-convert\" onclick=\"convertToInteractive('df-71df3c30-3bce-4518-88ea-6e12787fe133')\"\n",
              "              title=\"Convert this dataframe to an interactive table.\"\n",
              "              style=\"display:none;\">\n",
              "        \n",
              "  <svg xmlns=\"http://www.w3.org/2000/svg\" height=\"24px\"viewBox=\"0 0 24 24\"\n",
              "       width=\"24px\">\n",
              "    <path d=\"M0 0h24v24H0V0z\" fill=\"none\"/>\n",
              "    <path d=\"M18.56 5.44l.94 2.06.94-2.06 2.06-.94-2.06-.94-.94-2.06-.94 2.06-2.06.94zm-11 1L8.5 8.5l.94-2.06 2.06-.94-2.06-.94L8.5 2.5l-.94 2.06-2.06.94zm10 10l.94 2.06.94-2.06 2.06-.94-2.06-.94-.94-2.06-.94 2.06-2.06.94z\"/><path d=\"M17.41 7.96l-1.37-1.37c-.4-.4-.92-.59-1.43-.59-.52 0-1.04.2-1.43.59L10.3 9.45l-7.72 7.72c-.78.78-.78 2.05 0 2.83L4 21.41c.39.39.9.59 1.41.59.51 0 1.02-.2 1.41-.59l7.78-7.78 2.81-2.81c.8-.78.8-2.07 0-2.86zM5.41 20L4 18.59l7.72-7.72 1.47 1.35L5.41 20z\"/>\n",
              "  </svg>\n",
              "      </button>\n",
              "      \n",
              "  <style>\n",
              "    .colab-df-container {\n",
              "      display:flex;\n",
              "      flex-wrap:wrap;\n",
              "      gap: 12px;\n",
              "    }\n",
              "\n",
              "    .colab-df-convert {\n",
              "      background-color: #E8F0FE;\n",
              "      border: none;\n",
              "      border-radius: 50%;\n",
              "      cursor: pointer;\n",
              "      display: none;\n",
              "      fill: #1967D2;\n",
              "      height: 32px;\n",
              "      padding: 0 0 0 0;\n",
              "      width: 32px;\n",
              "    }\n",
              "\n",
              "    .colab-df-convert:hover {\n",
              "      background-color: #E2EBFA;\n",
              "      box-shadow: 0px 1px 2px rgba(60, 64, 67, 0.3), 0px 1px 3px 1px rgba(60, 64, 67, 0.15);\n",
              "      fill: #174EA6;\n",
              "    }\n",
              "\n",
              "    [theme=dark] .colab-df-convert {\n",
              "      background-color: #3B4455;\n",
              "      fill: #D2E3FC;\n",
              "    }\n",
              "\n",
              "    [theme=dark] .colab-df-convert:hover {\n",
              "      background-color: #434B5C;\n",
              "      box-shadow: 0px 1px 3px 1px rgba(0, 0, 0, 0.15);\n",
              "      filter: drop-shadow(0px 1px 2px rgba(0, 0, 0, 0.3));\n",
              "      fill: #FFFFFF;\n",
              "    }\n",
              "  </style>\n",
              "\n",
              "      <script>\n",
              "        const buttonEl =\n",
              "          document.querySelector('#df-71df3c30-3bce-4518-88ea-6e12787fe133 button.colab-df-convert');\n",
              "        buttonEl.style.display =\n",
              "          google.colab.kernel.accessAllowed ? 'block' : 'none';\n",
              "\n",
              "        async function convertToInteractive(key) {\n",
              "          const element = document.querySelector('#df-71df3c30-3bce-4518-88ea-6e12787fe133');\n",
              "          const dataTable =\n",
              "            await google.colab.kernel.invokeFunction('convertToInteractive',\n",
              "                                                     [key], {});\n",
              "          if (!dataTable) return;\n",
              "\n",
              "          const docLinkHtml = 'Like what you see? Visit the ' +\n",
              "            '<a target=\"_blank\" href=https://colab.research.google.com/notebooks/data_table.ipynb>data table notebook</a>'\n",
              "            + ' to learn more about interactive tables.';\n",
              "          element.innerHTML = '';\n",
              "          dataTable['output_type'] = 'display_data';\n",
              "          await google.colab.output.renderOutput(dataTable, element);\n",
              "          const docLink = document.createElement('div');\n",
              "          docLink.innerHTML = docLinkHtml;\n",
              "          element.appendChild(docLink);\n",
              "        }\n",
              "      </script>\n",
              "    </div>\n",
              "  </div>\n",
              "  "
            ]
          },
          "metadata": {},
          "execution_count": 61
        }
      ]
    },
    {
      "cell_type": "code",
      "source": [
        "main_data = pd.concat([_1,new_data], axis=1)"
      ],
      "metadata": {
        "id": "MjjyTtiSE5qL"
      },
      "id": "MjjyTtiSE5qL",
      "execution_count": null,
      "outputs": []
    },
    {
      "cell_type": "code",
      "source": [
        "main_data"
      ],
      "metadata": {
        "id": "beufmcYKE8j9",
        "colab": {
          "base_uri": "https://localhost:8080/",
          "height": 487
        },
        "outputId": "01dd7856-1240-4b53-c09f-5596903dc360"
      },
      "id": "beufmcYKE8j9",
      "execution_count": null,
      "outputs": [
        {
          "output_type": "execute_result",
          "data": {
            "text/plain": [
              "              0         1         2         3         4         5         6  \\\n",
              "0     -0.002061  0.066000 -0.017966 -0.061503  0.030577 -0.019662 -0.085162   \n",
              "1      0.028571  0.063619 -0.053331 -0.056595  0.022424  0.000128 -0.069555   \n",
              "2      0.031692  0.078740  0.024006 -0.062013  0.007968 -0.018392 -0.071365   \n",
              "3      0.040483  0.059467  0.008781 -0.013202  0.032882 -0.009149 -0.084195   \n",
              "4      0.036627  0.049534  0.018203 -0.034942  0.029900 -0.005607 -0.078676   \n",
              "...         ...       ...       ...       ...       ...       ...       ...   \n",
              "17875  0.052695  0.037381 -0.032322 -0.042386  0.017173 -0.008292 -0.074659   \n",
              "17876  0.051455  0.064098 -0.015834 -0.028895  0.040883 -0.026099 -0.067135   \n",
              "17877  0.036313  0.027983  0.022579 -0.028348  0.046630 -0.006606 -0.085808   \n",
              "17878  0.023673  0.069232 -0.036682 -0.078467  0.079021 -0.016263 -0.117926   \n",
              "17879  0.056539  0.054882 -0.041412 -0.053222  0.041028 -0.004214 -0.080467   \n",
              "\n",
              "              7         8         9  ...       199  telecommuting  \\\n",
              "0      0.000982 -0.030580  0.030815  ...  0.015658              0   \n",
              "1      0.009650  0.013362  0.031480  ...  0.016425              0   \n",
              "2      0.035503  0.021990  0.008586  ... -0.001151              0   \n",
              "3      0.038128  0.002978  0.056617  ...  0.017022              0   \n",
              "4      0.016035  0.003705  0.035780  ...  0.006174              0   \n",
              "...         ...       ...       ...  ...       ...            ...   \n",
              "17875  0.007101 -0.000324  0.047896  ...  0.026960              0   \n",
              "17876  0.025180 -0.007879  0.052108  ...  0.021530              0   \n",
              "17877  0.003379  0.005933  0.043600  ... -0.001572              0   \n",
              "17878  0.013720  0.048151  0.027105  ... -0.005863              0   \n",
              "17879  0.020165 -0.015131  0.056915  ...  0.032474              0   \n",
              "\n",
              "       has_company_logo  has_questions  employment_type  required_experience  \\\n",
              "0                     1              0                2                    4   \n",
              "1                     1              0                1                    6   \n",
              "2                     1              0                5                    7   \n",
              "3                     1              0                1                    5   \n",
              "4                     1              1                1                    5   \n",
              "...                 ...            ...              ...                  ...   \n",
              "17875                 1              1                1                    5   \n",
              "17876                 1              1                1                    5   \n",
              "17877                 0              0                1                    7   \n",
              "17878                 0              1                0                    6   \n",
              "17879                 1              1                1                    5   \n",
              "\n",
              "       required_education  industry  function  fraudulent  \n",
              "0                      13       131        22           0  \n",
              "1                      13        75         7           0  \n",
              "2                      13       131        37           0  \n",
              "3                       1        22        31           0  \n",
              "4                       1        51        16           0  \n",
              "...                   ...       ...       ...         ...  \n",
              "17875                  13        22        31           0  \n",
              "17876                   1        61         0           0  \n",
              "17877                  13       131        37           0  \n",
              "17878                   6        48         9           0  \n",
              "17879                  13        22        12           0  \n",
              "\n",
              "[17880 rows x 209 columns]"
            ],
            "text/html": [
              "\n",
              "  <div id=\"df-305b6a1d-f040-4713-97ec-6cb139b1a0b0\">\n",
              "    <div class=\"colab-df-container\">\n",
              "      <div>\n",
              "<style scoped>\n",
              "    .dataframe tbody tr th:only-of-type {\n",
              "        vertical-align: middle;\n",
              "    }\n",
              "\n",
              "    .dataframe tbody tr th {\n",
              "        vertical-align: top;\n",
              "    }\n",
              "\n",
              "    .dataframe thead th {\n",
              "        text-align: right;\n",
              "    }\n",
              "</style>\n",
              "<table border=\"1\" class=\"dataframe\">\n",
              "  <thead>\n",
              "    <tr style=\"text-align: right;\">\n",
              "      <th></th>\n",
              "      <th>0</th>\n",
              "      <th>1</th>\n",
              "      <th>2</th>\n",
              "      <th>3</th>\n",
              "      <th>4</th>\n",
              "      <th>5</th>\n",
              "      <th>6</th>\n",
              "      <th>7</th>\n",
              "      <th>8</th>\n",
              "      <th>9</th>\n",
              "      <th>...</th>\n",
              "      <th>199</th>\n",
              "      <th>telecommuting</th>\n",
              "      <th>has_company_logo</th>\n",
              "      <th>has_questions</th>\n",
              "      <th>employment_type</th>\n",
              "      <th>required_experience</th>\n",
              "      <th>required_education</th>\n",
              "      <th>industry</th>\n",
              "      <th>function</th>\n",
              "      <th>fraudulent</th>\n",
              "    </tr>\n",
              "  </thead>\n",
              "  <tbody>\n",
              "    <tr>\n",
              "      <th>0</th>\n",
              "      <td>-0.002061</td>\n",
              "      <td>0.066000</td>\n",
              "      <td>-0.017966</td>\n",
              "      <td>-0.061503</td>\n",
              "      <td>0.030577</td>\n",
              "      <td>-0.019662</td>\n",
              "      <td>-0.085162</td>\n",
              "      <td>0.000982</td>\n",
              "      <td>-0.030580</td>\n",
              "      <td>0.030815</td>\n",
              "      <td>...</td>\n",
              "      <td>0.015658</td>\n",
              "      <td>0</td>\n",
              "      <td>1</td>\n",
              "      <td>0</td>\n",
              "      <td>2</td>\n",
              "      <td>4</td>\n",
              "      <td>13</td>\n",
              "      <td>131</td>\n",
              "      <td>22</td>\n",
              "      <td>0</td>\n",
              "    </tr>\n",
              "    <tr>\n",
              "      <th>1</th>\n",
              "      <td>0.028571</td>\n",
              "      <td>0.063619</td>\n",
              "      <td>-0.053331</td>\n",
              "      <td>-0.056595</td>\n",
              "      <td>0.022424</td>\n",
              "      <td>0.000128</td>\n",
              "      <td>-0.069555</td>\n",
              "      <td>0.009650</td>\n",
              "      <td>0.013362</td>\n",
              "      <td>0.031480</td>\n",
              "      <td>...</td>\n",
              "      <td>0.016425</td>\n",
              "      <td>0</td>\n",
              "      <td>1</td>\n",
              "      <td>0</td>\n",
              "      <td>1</td>\n",
              "      <td>6</td>\n",
              "      <td>13</td>\n",
              "      <td>75</td>\n",
              "      <td>7</td>\n",
              "      <td>0</td>\n",
              "    </tr>\n",
              "    <tr>\n",
              "      <th>2</th>\n",
              "      <td>0.031692</td>\n",
              "      <td>0.078740</td>\n",
              "      <td>0.024006</td>\n",
              "      <td>-0.062013</td>\n",
              "      <td>0.007968</td>\n",
              "      <td>-0.018392</td>\n",
              "      <td>-0.071365</td>\n",
              "      <td>0.035503</td>\n",
              "      <td>0.021990</td>\n",
              "      <td>0.008586</td>\n",
              "      <td>...</td>\n",
              "      <td>-0.001151</td>\n",
              "      <td>0</td>\n",
              "      <td>1</td>\n",
              "      <td>0</td>\n",
              "      <td>5</td>\n",
              "      <td>7</td>\n",
              "      <td>13</td>\n",
              "      <td>131</td>\n",
              "      <td>37</td>\n",
              "      <td>0</td>\n",
              "    </tr>\n",
              "    <tr>\n",
              "      <th>3</th>\n",
              "      <td>0.040483</td>\n",
              "      <td>0.059467</td>\n",
              "      <td>0.008781</td>\n",
              "      <td>-0.013202</td>\n",
              "      <td>0.032882</td>\n",
              "      <td>-0.009149</td>\n",
              "      <td>-0.084195</td>\n",
              "      <td>0.038128</td>\n",
              "      <td>0.002978</td>\n",
              "      <td>0.056617</td>\n",
              "      <td>...</td>\n",
              "      <td>0.017022</td>\n",
              "      <td>0</td>\n",
              "      <td>1</td>\n",
              "      <td>0</td>\n",
              "      <td>1</td>\n",
              "      <td>5</td>\n",
              "      <td>1</td>\n",
              "      <td>22</td>\n",
              "      <td>31</td>\n",
              "      <td>0</td>\n",
              "    </tr>\n",
              "    <tr>\n",
              "      <th>4</th>\n",
              "      <td>0.036627</td>\n",
              "      <td>0.049534</td>\n",
              "      <td>0.018203</td>\n",
              "      <td>-0.034942</td>\n",
              "      <td>0.029900</td>\n",
              "      <td>-0.005607</td>\n",
              "      <td>-0.078676</td>\n",
              "      <td>0.016035</td>\n",
              "      <td>0.003705</td>\n",
              "      <td>0.035780</td>\n",
              "      <td>...</td>\n",
              "      <td>0.006174</td>\n",
              "      <td>0</td>\n",
              "      <td>1</td>\n",
              "      <td>1</td>\n",
              "      <td>1</td>\n",
              "      <td>5</td>\n",
              "      <td>1</td>\n",
              "      <td>51</td>\n",
              "      <td>16</td>\n",
              "      <td>0</td>\n",
              "    </tr>\n",
              "    <tr>\n",
              "      <th>...</th>\n",
              "      <td>...</td>\n",
              "      <td>...</td>\n",
              "      <td>...</td>\n",
              "      <td>...</td>\n",
              "      <td>...</td>\n",
              "      <td>...</td>\n",
              "      <td>...</td>\n",
              "      <td>...</td>\n",
              "      <td>...</td>\n",
              "      <td>...</td>\n",
              "      <td>...</td>\n",
              "      <td>...</td>\n",
              "      <td>...</td>\n",
              "      <td>...</td>\n",
              "      <td>...</td>\n",
              "      <td>...</td>\n",
              "      <td>...</td>\n",
              "      <td>...</td>\n",
              "      <td>...</td>\n",
              "      <td>...</td>\n",
              "      <td>...</td>\n",
              "    </tr>\n",
              "    <tr>\n",
              "      <th>17875</th>\n",
              "      <td>0.052695</td>\n",
              "      <td>0.037381</td>\n",
              "      <td>-0.032322</td>\n",
              "      <td>-0.042386</td>\n",
              "      <td>0.017173</td>\n",
              "      <td>-0.008292</td>\n",
              "      <td>-0.074659</td>\n",
              "      <td>0.007101</td>\n",
              "      <td>-0.000324</td>\n",
              "      <td>0.047896</td>\n",
              "      <td>...</td>\n",
              "      <td>0.026960</td>\n",
              "      <td>0</td>\n",
              "      <td>1</td>\n",
              "      <td>1</td>\n",
              "      <td>1</td>\n",
              "      <td>5</td>\n",
              "      <td>13</td>\n",
              "      <td>22</td>\n",
              "      <td>31</td>\n",
              "      <td>0</td>\n",
              "    </tr>\n",
              "    <tr>\n",
              "      <th>17876</th>\n",
              "      <td>0.051455</td>\n",
              "      <td>0.064098</td>\n",
              "      <td>-0.015834</td>\n",
              "      <td>-0.028895</td>\n",
              "      <td>0.040883</td>\n",
              "      <td>-0.026099</td>\n",
              "      <td>-0.067135</td>\n",
              "      <td>0.025180</td>\n",
              "      <td>-0.007879</td>\n",
              "      <td>0.052108</td>\n",
              "      <td>...</td>\n",
              "      <td>0.021530</td>\n",
              "      <td>0</td>\n",
              "      <td>1</td>\n",
              "      <td>1</td>\n",
              "      <td>1</td>\n",
              "      <td>5</td>\n",
              "      <td>1</td>\n",
              "      <td>61</td>\n",
              "      <td>0</td>\n",
              "      <td>0</td>\n",
              "    </tr>\n",
              "    <tr>\n",
              "      <th>17877</th>\n",
              "      <td>0.036313</td>\n",
              "      <td>0.027983</td>\n",
              "      <td>0.022579</td>\n",
              "      <td>-0.028348</td>\n",
              "      <td>0.046630</td>\n",
              "      <td>-0.006606</td>\n",
              "      <td>-0.085808</td>\n",
              "      <td>0.003379</td>\n",
              "      <td>0.005933</td>\n",
              "      <td>0.043600</td>\n",
              "      <td>...</td>\n",
              "      <td>-0.001572</td>\n",
              "      <td>0</td>\n",
              "      <td>0</td>\n",
              "      <td>0</td>\n",
              "      <td>1</td>\n",
              "      <td>7</td>\n",
              "      <td>13</td>\n",
              "      <td>131</td>\n",
              "      <td>37</td>\n",
              "      <td>0</td>\n",
              "    </tr>\n",
              "    <tr>\n",
              "      <th>17878</th>\n",
              "      <td>0.023673</td>\n",
              "      <td>0.069232</td>\n",
              "      <td>-0.036682</td>\n",
              "      <td>-0.078467</td>\n",
              "      <td>0.079021</td>\n",
              "      <td>-0.016263</td>\n",
              "      <td>-0.117926</td>\n",
              "      <td>0.013720</td>\n",
              "      <td>0.048151</td>\n",
              "      <td>0.027105</td>\n",
              "      <td>...</td>\n",
              "      <td>-0.005863</td>\n",
              "      <td>0</td>\n",
              "      <td>0</td>\n",
              "      <td>1</td>\n",
              "      <td>0</td>\n",
              "      <td>6</td>\n",
              "      <td>6</td>\n",
              "      <td>48</td>\n",
              "      <td>9</td>\n",
              "      <td>0</td>\n",
              "    </tr>\n",
              "    <tr>\n",
              "      <th>17879</th>\n",
              "      <td>0.056539</td>\n",
              "      <td>0.054882</td>\n",
              "      <td>-0.041412</td>\n",
              "      <td>-0.053222</td>\n",
              "      <td>0.041028</td>\n",
              "      <td>-0.004214</td>\n",
              "      <td>-0.080467</td>\n",
              "      <td>0.020165</td>\n",
              "      <td>-0.015131</td>\n",
              "      <td>0.056915</td>\n",
              "      <td>...</td>\n",
              "      <td>0.032474</td>\n",
              "      <td>0</td>\n",
              "      <td>1</td>\n",
              "      <td>1</td>\n",
              "      <td>1</td>\n",
              "      <td>5</td>\n",
              "      <td>13</td>\n",
              "      <td>22</td>\n",
              "      <td>12</td>\n",
              "      <td>0</td>\n",
              "    </tr>\n",
              "  </tbody>\n",
              "</table>\n",
              "<p>17880 rows × 209 columns</p>\n",
              "</div>\n",
              "      <button class=\"colab-df-convert\" onclick=\"convertToInteractive('df-305b6a1d-f040-4713-97ec-6cb139b1a0b0')\"\n",
              "              title=\"Convert this dataframe to an interactive table.\"\n",
              "              style=\"display:none;\">\n",
              "        \n",
              "  <svg xmlns=\"http://www.w3.org/2000/svg\" height=\"24px\"viewBox=\"0 0 24 24\"\n",
              "       width=\"24px\">\n",
              "    <path d=\"M0 0h24v24H0V0z\" fill=\"none\"/>\n",
              "    <path d=\"M18.56 5.44l.94 2.06.94-2.06 2.06-.94-2.06-.94-.94-2.06-.94 2.06-2.06.94zm-11 1L8.5 8.5l.94-2.06 2.06-.94-2.06-.94L8.5 2.5l-.94 2.06-2.06.94zm10 10l.94 2.06.94-2.06 2.06-.94-2.06-.94-.94-2.06-.94 2.06-2.06.94z\"/><path d=\"M17.41 7.96l-1.37-1.37c-.4-.4-.92-.59-1.43-.59-.52 0-1.04.2-1.43.59L10.3 9.45l-7.72 7.72c-.78.78-.78 2.05 0 2.83L4 21.41c.39.39.9.59 1.41.59.51 0 1.02-.2 1.41-.59l7.78-7.78 2.81-2.81c.8-.78.8-2.07 0-2.86zM5.41 20L4 18.59l7.72-7.72 1.47 1.35L5.41 20z\"/>\n",
              "  </svg>\n",
              "      </button>\n",
              "      \n",
              "  <style>\n",
              "    .colab-df-container {\n",
              "      display:flex;\n",
              "      flex-wrap:wrap;\n",
              "      gap: 12px;\n",
              "    }\n",
              "\n",
              "    .colab-df-convert {\n",
              "      background-color: #E8F0FE;\n",
              "      border: none;\n",
              "      border-radius: 50%;\n",
              "      cursor: pointer;\n",
              "      display: none;\n",
              "      fill: #1967D2;\n",
              "      height: 32px;\n",
              "      padding: 0 0 0 0;\n",
              "      width: 32px;\n",
              "    }\n",
              "\n",
              "    .colab-df-convert:hover {\n",
              "      background-color: #E2EBFA;\n",
              "      box-shadow: 0px 1px 2px rgba(60, 64, 67, 0.3), 0px 1px 3px 1px rgba(60, 64, 67, 0.15);\n",
              "      fill: #174EA6;\n",
              "    }\n",
              "\n",
              "    [theme=dark] .colab-df-convert {\n",
              "      background-color: #3B4455;\n",
              "      fill: #D2E3FC;\n",
              "    }\n",
              "\n",
              "    [theme=dark] .colab-df-convert:hover {\n",
              "      background-color: #434B5C;\n",
              "      box-shadow: 0px 1px 3px 1px rgba(0, 0, 0, 0.15);\n",
              "      filter: drop-shadow(0px 1px 2px rgba(0, 0, 0, 0.3));\n",
              "      fill: #FFFFFF;\n",
              "    }\n",
              "  </style>\n",
              "\n",
              "      <script>\n",
              "        const buttonEl =\n",
              "          document.querySelector('#df-305b6a1d-f040-4713-97ec-6cb139b1a0b0 button.colab-df-convert');\n",
              "        buttonEl.style.display =\n",
              "          google.colab.kernel.accessAllowed ? 'block' : 'none';\n",
              "\n",
              "        async function convertToInteractive(key) {\n",
              "          const element = document.querySelector('#df-305b6a1d-f040-4713-97ec-6cb139b1a0b0');\n",
              "          const dataTable =\n",
              "            await google.colab.kernel.invokeFunction('convertToInteractive',\n",
              "                                                     [key], {});\n",
              "          if (!dataTable) return;\n",
              "\n",
              "          const docLinkHtml = 'Like what you see? Visit the ' +\n",
              "            '<a target=\"_blank\" href=https://colab.research.google.com/notebooks/data_table.ipynb>data table notebook</a>'\n",
              "            + ' to learn more about interactive tables.';\n",
              "          element.innerHTML = '';\n",
              "          dataTable['output_type'] = 'display_data';\n",
              "          await google.colab.output.renderOutput(dataTable, element);\n",
              "          const docLink = document.createElement('div');\n",
              "          docLink.innerHTML = docLinkHtml;\n",
              "          element.appendChild(docLink);\n",
              "        }\n",
              "      </script>\n",
              "    </div>\n",
              "  </div>\n",
              "  "
            ]
          },
          "metadata": {},
          "execution_count": 63
        }
      ]
    },
    {
      "cell_type": "code",
      "source": [
        "main_data.columns = main_data.columns.astype(str)"
      ],
      "metadata": {
        "id": "MiirpI2npcil"
      },
      "id": "MiirpI2npcil",
      "execution_count": null,
      "outputs": []
    },
    {
      "cell_type": "code",
      "execution_count": null,
      "id": "4c766ec3-d74a-4f1b-be31-ca227a2672cc",
      "metadata": {
        "id": "4c766ec3-d74a-4f1b-be31-ca227a2672cc",
        "colab": {
          "base_uri": "https://localhost:8080/"
        },
        "outputId": "1c12298a-24e0-4cd3-b486-fbfa45044f5e"
      },
      "outputs": [
        {
          "output_type": "stream",
          "name": "stdout",
          "text": [
            "<class 'pandas.core.frame.DataFrame'>\n",
            "RangeIndex: 17880 entries, 0 to 17879\n",
            "Data columns (total 9 columns):\n",
            " #   Column               Non-Null Count  Dtype\n",
            "---  ------               --------------  -----\n",
            " 0   telecommuting        17880 non-null  int64\n",
            " 1   has_company_logo     17880 non-null  int64\n",
            " 2   has_questions        17880 non-null  int64\n",
            " 3   employment_type      17880 non-null  int64\n",
            " 4   required_experience  17880 non-null  int64\n",
            " 5   required_education   17880 non-null  int64\n",
            " 6   industry             17880 non-null  int64\n",
            " 7   function             17880 non-null  int64\n",
            " 8   fraudulent           17880 non-null  int64\n",
            "dtypes: int64(9)\n",
            "memory usage: 1.2 MB\n"
          ]
        }
      ],
      "source": [
        "new_data.info()"
      ]
    },
    {
      "cell_type": "code",
      "execution_count": null,
      "id": "1de46349-997f-4271-9134-fca0dc558ccc",
      "metadata": {
        "id": "1de46349-997f-4271-9134-fca0dc558ccc"
      },
      "outputs": [],
      "source": [
        "from sklearn.preprocessing import StandardScaler\n",
        "scaler = StandardScaler()\n",
        "\n",
        "main_data[['required_education', 'required_experience', 'employment_type','industry','function']] = StandardScaler().fit_transform(main_data[['required_education', 'required_experience', 'employment_type','industry','function']])"
      ]
    },
    {
      "cell_type": "code",
      "execution_count": null,
      "id": "ff079276-7b5b-4694-bc43-b33005514ab0",
      "metadata": {
        "id": "ff079276-7b5b-4694-bc43-b33005514ab0",
        "colab": {
          "base_uri": "https://localhost:8080/",
          "height": 487
        },
        "outputId": "a7cc018f-861c-4a3f-8511-150405c8879d"
      },
      "outputs": [
        {
          "output_type": "execute_result",
          "data": {
            "text/plain": [
              "              0         1         2         3         4         5         6  \\\n",
              "0     -0.002061  0.066000 -0.017966 -0.061503  0.030577 -0.019662 -0.085162   \n",
              "1      0.028571  0.063619 -0.053331 -0.056595  0.022424  0.000128 -0.069555   \n",
              "2      0.031692  0.078740  0.024006 -0.062013  0.007968 -0.018392 -0.071365   \n",
              "3      0.040483  0.059467  0.008781 -0.013202  0.032882 -0.009149 -0.084195   \n",
              "4      0.036627  0.049534  0.018203 -0.034942  0.029900 -0.005607 -0.078676   \n",
              "...         ...       ...       ...       ...       ...       ...       ...   \n",
              "17875  0.052695  0.037381 -0.032322 -0.042386  0.017173 -0.008292 -0.074659   \n",
              "17876  0.051455  0.064098 -0.015834 -0.028895  0.040883 -0.026099 -0.067135   \n",
              "17877  0.036313  0.027983  0.022579 -0.028348  0.046630 -0.006606 -0.085808   \n",
              "17878  0.023673  0.069232 -0.036682 -0.078467  0.079021 -0.016263 -0.117926   \n",
              "17879  0.056539  0.054882 -0.041412 -0.053222  0.041028 -0.004214 -0.080467   \n",
              "\n",
              "              7         8         9  ...       199  telecommuting  \\\n",
              "0      0.000982 -0.030580  0.030815  ...  0.015658              0   \n",
              "1      0.009650  0.013362  0.031480  ...  0.016425              0   \n",
              "2      0.035503  0.021990  0.008586  ... -0.001151              0   \n",
              "3      0.038128  0.002978  0.056617  ...  0.017022              0   \n",
              "4      0.016035  0.003705  0.035780  ...  0.006174              0   \n",
              "...         ...       ...       ...  ...       ...            ...   \n",
              "17875  0.007101 -0.000324  0.047896  ...  0.026960              0   \n",
              "17876  0.025180 -0.007879  0.052108  ...  0.021530              0   \n",
              "17877  0.003379  0.005933  0.043600  ... -0.001572              0   \n",
              "17878  0.013720  0.048151  0.027105  ... -0.005863              0   \n",
              "17879  0.020165 -0.015131  0.056915  ...  0.032474              0   \n",
              "\n",
              "       has_company_logo  has_questions  employment_type  required_experience  \\\n",
              "0                     1              0         0.099313            -0.248399   \n",
              "1                     1              0        -0.497368             0.537615   \n",
              "2                     1              0         1.889358             0.930622   \n",
              "3                     1              0        -0.497368             0.144608   \n",
              "4                     1              1        -0.497368             0.144608   \n",
              "...                 ...            ...              ...                  ...   \n",
              "17875                 1              1        -0.497368             0.144608   \n",
              "17876                 1              1        -0.497368             0.144608   \n",
              "17877                 0              0        -0.497368             0.930622   \n",
              "17878                 0              1        -1.094049             0.537615   \n",
              "17879                 1              1        -0.497368             0.144608   \n",
              "\n",
              "       required_education  industry  function  fraudulent  \n",
              "0                1.005226  1.308985 -0.145416           0  \n",
              "1                1.005226  0.011506 -1.352449           0  \n",
              "2                1.005226  1.308985  1.061618           0  \n",
              "3               -1.229790 -1.216466  0.578804           0  \n",
              "4               -1.229790 -0.544557 -0.628229           0  \n",
              "...                   ...       ...       ...         ...  \n",
              "17875            1.005226 -1.216466  0.578804           0  \n",
              "17876           -1.229790 -0.312864 -1.915731           0  \n",
              "17877            1.005226  1.308985  1.061618           0  \n",
              "17878           -0.298533 -0.614065 -1.191511           0  \n",
              "17879            1.005226 -1.216466 -0.950104           0  \n",
              "\n",
              "[17880 rows x 209 columns]"
            ],
            "text/html": [
              "\n",
              "  <div id=\"df-bd846c0c-032f-4ec4-a9eb-5cc5e54bb57a\">\n",
              "    <div class=\"colab-df-container\">\n",
              "      <div>\n",
              "<style scoped>\n",
              "    .dataframe tbody tr th:only-of-type {\n",
              "        vertical-align: middle;\n",
              "    }\n",
              "\n",
              "    .dataframe tbody tr th {\n",
              "        vertical-align: top;\n",
              "    }\n",
              "\n",
              "    .dataframe thead th {\n",
              "        text-align: right;\n",
              "    }\n",
              "</style>\n",
              "<table border=\"1\" class=\"dataframe\">\n",
              "  <thead>\n",
              "    <tr style=\"text-align: right;\">\n",
              "      <th></th>\n",
              "      <th>0</th>\n",
              "      <th>1</th>\n",
              "      <th>2</th>\n",
              "      <th>3</th>\n",
              "      <th>4</th>\n",
              "      <th>5</th>\n",
              "      <th>6</th>\n",
              "      <th>7</th>\n",
              "      <th>8</th>\n",
              "      <th>9</th>\n",
              "      <th>...</th>\n",
              "      <th>199</th>\n",
              "      <th>telecommuting</th>\n",
              "      <th>has_company_logo</th>\n",
              "      <th>has_questions</th>\n",
              "      <th>employment_type</th>\n",
              "      <th>required_experience</th>\n",
              "      <th>required_education</th>\n",
              "      <th>industry</th>\n",
              "      <th>function</th>\n",
              "      <th>fraudulent</th>\n",
              "    </tr>\n",
              "  </thead>\n",
              "  <tbody>\n",
              "    <tr>\n",
              "      <th>0</th>\n",
              "      <td>-0.002061</td>\n",
              "      <td>0.066000</td>\n",
              "      <td>-0.017966</td>\n",
              "      <td>-0.061503</td>\n",
              "      <td>0.030577</td>\n",
              "      <td>-0.019662</td>\n",
              "      <td>-0.085162</td>\n",
              "      <td>0.000982</td>\n",
              "      <td>-0.030580</td>\n",
              "      <td>0.030815</td>\n",
              "      <td>...</td>\n",
              "      <td>0.015658</td>\n",
              "      <td>0</td>\n",
              "      <td>1</td>\n",
              "      <td>0</td>\n",
              "      <td>0.099313</td>\n",
              "      <td>-0.248399</td>\n",
              "      <td>1.005226</td>\n",
              "      <td>1.308985</td>\n",
              "      <td>-0.145416</td>\n",
              "      <td>0</td>\n",
              "    </tr>\n",
              "    <tr>\n",
              "      <th>1</th>\n",
              "      <td>0.028571</td>\n",
              "      <td>0.063619</td>\n",
              "      <td>-0.053331</td>\n",
              "      <td>-0.056595</td>\n",
              "      <td>0.022424</td>\n",
              "      <td>0.000128</td>\n",
              "      <td>-0.069555</td>\n",
              "      <td>0.009650</td>\n",
              "      <td>0.013362</td>\n",
              "      <td>0.031480</td>\n",
              "      <td>...</td>\n",
              "      <td>0.016425</td>\n",
              "      <td>0</td>\n",
              "      <td>1</td>\n",
              "      <td>0</td>\n",
              "      <td>-0.497368</td>\n",
              "      <td>0.537615</td>\n",
              "      <td>1.005226</td>\n",
              "      <td>0.011506</td>\n",
              "      <td>-1.352449</td>\n",
              "      <td>0</td>\n",
              "    </tr>\n",
              "    <tr>\n",
              "      <th>2</th>\n",
              "      <td>0.031692</td>\n",
              "      <td>0.078740</td>\n",
              "      <td>0.024006</td>\n",
              "      <td>-0.062013</td>\n",
              "      <td>0.007968</td>\n",
              "      <td>-0.018392</td>\n",
              "      <td>-0.071365</td>\n",
              "      <td>0.035503</td>\n",
              "      <td>0.021990</td>\n",
              "      <td>0.008586</td>\n",
              "      <td>...</td>\n",
              "      <td>-0.001151</td>\n",
              "      <td>0</td>\n",
              "      <td>1</td>\n",
              "      <td>0</td>\n",
              "      <td>1.889358</td>\n",
              "      <td>0.930622</td>\n",
              "      <td>1.005226</td>\n",
              "      <td>1.308985</td>\n",
              "      <td>1.061618</td>\n",
              "      <td>0</td>\n",
              "    </tr>\n",
              "    <tr>\n",
              "      <th>3</th>\n",
              "      <td>0.040483</td>\n",
              "      <td>0.059467</td>\n",
              "      <td>0.008781</td>\n",
              "      <td>-0.013202</td>\n",
              "      <td>0.032882</td>\n",
              "      <td>-0.009149</td>\n",
              "      <td>-0.084195</td>\n",
              "      <td>0.038128</td>\n",
              "      <td>0.002978</td>\n",
              "      <td>0.056617</td>\n",
              "      <td>...</td>\n",
              "      <td>0.017022</td>\n",
              "      <td>0</td>\n",
              "      <td>1</td>\n",
              "      <td>0</td>\n",
              "      <td>-0.497368</td>\n",
              "      <td>0.144608</td>\n",
              "      <td>-1.229790</td>\n",
              "      <td>-1.216466</td>\n",
              "      <td>0.578804</td>\n",
              "      <td>0</td>\n",
              "    </tr>\n",
              "    <tr>\n",
              "      <th>4</th>\n",
              "      <td>0.036627</td>\n",
              "      <td>0.049534</td>\n",
              "      <td>0.018203</td>\n",
              "      <td>-0.034942</td>\n",
              "      <td>0.029900</td>\n",
              "      <td>-0.005607</td>\n",
              "      <td>-0.078676</td>\n",
              "      <td>0.016035</td>\n",
              "      <td>0.003705</td>\n",
              "      <td>0.035780</td>\n",
              "      <td>...</td>\n",
              "      <td>0.006174</td>\n",
              "      <td>0</td>\n",
              "      <td>1</td>\n",
              "      <td>1</td>\n",
              "      <td>-0.497368</td>\n",
              "      <td>0.144608</td>\n",
              "      <td>-1.229790</td>\n",
              "      <td>-0.544557</td>\n",
              "      <td>-0.628229</td>\n",
              "      <td>0</td>\n",
              "    </tr>\n",
              "    <tr>\n",
              "      <th>...</th>\n",
              "      <td>...</td>\n",
              "      <td>...</td>\n",
              "      <td>...</td>\n",
              "      <td>...</td>\n",
              "      <td>...</td>\n",
              "      <td>...</td>\n",
              "      <td>...</td>\n",
              "      <td>...</td>\n",
              "      <td>...</td>\n",
              "      <td>...</td>\n",
              "      <td>...</td>\n",
              "      <td>...</td>\n",
              "      <td>...</td>\n",
              "      <td>...</td>\n",
              "      <td>...</td>\n",
              "      <td>...</td>\n",
              "      <td>...</td>\n",
              "      <td>...</td>\n",
              "      <td>...</td>\n",
              "      <td>...</td>\n",
              "      <td>...</td>\n",
              "    </tr>\n",
              "    <tr>\n",
              "      <th>17875</th>\n",
              "      <td>0.052695</td>\n",
              "      <td>0.037381</td>\n",
              "      <td>-0.032322</td>\n",
              "      <td>-0.042386</td>\n",
              "      <td>0.017173</td>\n",
              "      <td>-0.008292</td>\n",
              "      <td>-0.074659</td>\n",
              "      <td>0.007101</td>\n",
              "      <td>-0.000324</td>\n",
              "      <td>0.047896</td>\n",
              "      <td>...</td>\n",
              "      <td>0.026960</td>\n",
              "      <td>0</td>\n",
              "      <td>1</td>\n",
              "      <td>1</td>\n",
              "      <td>-0.497368</td>\n",
              "      <td>0.144608</td>\n",
              "      <td>1.005226</td>\n",
              "      <td>-1.216466</td>\n",
              "      <td>0.578804</td>\n",
              "      <td>0</td>\n",
              "    </tr>\n",
              "    <tr>\n",
              "      <th>17876</th>\n",
              "      <td>0.051455</td>\n",
              "      <td>0.064098</td>\n",
              "      <td>-0.015834</td>\n",
              "      <td>-0.028895</td>\n",
              "      <td>0.040883</td>\n",
              "      <td>-0.026099</td>\n",
              "      <td>-0.067135</td>\n",
              "      <td>0.025180</td>\n",
              "      <td>-0.007879</td>\n",
              "      <td>0.052108</td>\n",
              "      <td>...</td>\n",
              "      <td>0.021530</td>\n",
              "      <td>0</td>\n",
              "      <td>1</td>\n",
              "      <td>1</td>\n",
              "      <td>-0.497368</td>\n",
              "      <td>0.144608</td>\n",
              "      <td>-1.229790</td>\n",
              "      <td>-0.312864</td>\n",
              "      <td>-1.915731</td>\n",
              "      <td>0</td>\n",
              "    </tr>\n",
              "    <tr>\n",
              "      <th>17877</th>\n",
              "      <td>0.036313</td>\n",
              "      <td>0.027983</td>\n",
              "      <td>0.022579</td>\n",
              "      <td>-0.028348</td>\n",
              "      <td>0.046630</td>\n",
              "      <td>-0.006606</td>\n",
              "      <td>-0.085808</td>\n",
              "      <td>0.003379</td>\n",
              "      <td>0.005933</td>\n",
              "      <td>0.043600</td>\n",
              "      <td>...</td>\n",
              "      <td>-0.001572</td>\n",
              "      <td>0</td>\n",
              "      <td>0</td>\n",
              "      <td>0</td>\n",
              "      <td>-0.497368</td>\n",
              "      <td>0.930622</td>\n",
              "      <td>1.005226</td>\n",
              "      <td>1.308985</td>\n",
              "      <td>1.061618</td>\n",
              "      <td>0</td>\n",
              "    </tr>\n",
              "    <tr>\n",
              "      <th>17878</th>\n",
              "      <td>0.023673</td>\n",
              "      <td>0.069232</td>\n",
              "      <td>-0.036682</td>\n",
              "      <td>-0.078467</td>\n",
              "      <td>0.079021</td>\n",
              "      <td>-0.016263</td>\n",
              "      <td>-0.117926</td>\n",
              "      <td>0.013720</td>\n",
              "      <td>0.048151</td>\n",
              "      <td>0.027105</td>\n",
              "      <td>...</td>\n",
              "      <td>-0.005863</td>\n",
              "      <td>0</td>\n",
              "      <td>0</td>\n",
              "      <td>1</td>\n",
              "      <td>-1.094049</td>\n",
              "      <td>0.537615</td>\n",
              "      <td>-0.298533</td>\n",
              "      <td>-0.614065</td>\n",
              "      <td>-1.191511</td>\n",
              "      <td>0</td>\n",
              "    </tr>\n",
              "    <tr>\n",
              "      <th>17879</th>\n",
              "      <td>0.056539</td>\n",
              "      <td>0.054882</td>\n",
              "      <td>-0.041412</td>\n",
              "      <td>-0.053222</td>\n",
              "      <td>0.041028</td>\n",
              "      <td>-0.004214</td>\n",
              "      <td>-0.080467</td>\n",
              "      <td>0.020165</td>\n",
              "      <td>-0.015131</td>\n",
              "      <td>0.056915</td>\n",
              "      <td>...</td>\n",
              "      <td>0.032474</td>\n",
              "      <td>0</td>\n",
              "      <td>1</td>\n",
              "      <td>1</td>\n",
              "      <td>-0.497368</td>\n",
              "      <td>0.144608</td>\n",
              "      <td>1.005226</td>\n",
              "      <td>-1.216466</td>\n",
              "      <td>-0.950104</td>\n",
              "      <td>0</td>\n",
              "    </tr>\n",
              "  </tbody>\n",
              "</table>\n",
              "<p>17880 rows × 209 columns</p>\n",
              "</div>\n",
              "      <button class=\"colab-df-convert\" onclick=\"convertToInteractive('df-bd846c0c-032f-4ec4-a9eb-5cc5e54bb57a')\"\n",
              "              title=\"Convert this dataframe to an interactive table.\"\n",
              "              style=\"display:none;\">\n",
              "        \n",
              "  <svg xmlns=\"http://www.w3.org/2000/svg\" height=\"24px\"viewBox=\"0 0 24 24\"\n",
              "       width=\"24px\">\n",
              "    <path d=\"M0 0h24v24H0V0z\" fill=\"none\"/>\n",
              "    <path d=\"M18.56 5.44l.94 2.06.94-2.06 2.06-.94-2.06-.94-.94-2.06-.94 2.06-2.06.94zm-11 1L8.5 8.5l.94-2.06 2.06-.94-2.06-.94L8.5 2.5l-.94 2.06-2.06.94zm10 10l.94 2.06.94-2.06 2.06-.94-2.06-.94-.94-2.06-.94 2.06-2.06.94z\"/><path d=\"M17.41 7.96l-1.37-1.37c-.4-.4-.92-.59-1.43-.59-.52 0-1.04.2-1.43.59L10.3 9.45l-7.72 7.72c-.78.78-.78 2.05 0 2.83L4 21.41c.39.39.9.59 1.41.59.51 0 1.02-.2 1.41-.59l7.78-7.78 2.81-2.81c.8-.78.8-2.07 0-2.86zM5.41 20L4 18.59l7.72-7.72 1.47 1.35L5.41 20z\"/>\n",
              "  </svg>\n",
              "      </button>\n",
              "      \n",
              "  <style>\n",
              "    .colab-df-container {\n",
              "      display:flex;\n",
              "      flex-wrap:wrap;\n",
              "      gap: 12px;\n",
              "    }\n",
              "\n",
              "    .colab-df-convert {\n",
              "      background-color: #E8F0FE;\n",
              "      border: none;\n",
              "      border-radius: 50%;\n",
              "      cursor: pointer;\n",
              "      display: none;\n",
              "      fill: #1967D2;\n",
              "      height: 32px;\n",
              "      padding: 0 0 0 0;\n",
              "      width: 32px;\n",
              "    }\n",
              "\n",
              "    .colab-df-convert:hover {\n",
              "      background-color: #E2EBFA;\n",
              "      box-shadow: 0px 1px 2px rgba(60, 64, 67, 0.3), 0px 1px 3px 1px rgba(60, 64, 67, 0.15);\n",
              "      fill: #174EA6;\n",
              "    }\n",
              "\n",
              "    [theme=dark] .colab-df-convert {\n",
              "      background-color: #3B4455;\n",
              "      fill: #D2E3FC;\n",
              "    }\n",
              "\n",
              "    [theme=dark] .colab-df-convert:hover {\n",
              "      background-color: #434B5C;\n",
              "      box-shadow: 0px 1px 3px 1px rgba(0, 0, 0, 0.15);\n",
              "      filter: drop-shadow(0px 1px 2px rgba(0, 0, 0, 0.3));\n",
              "      fill: #FFFFFF;\n",
              "    }\n",
              "  </style>\n",
              "\n",
              "      <script>\n",
              "        const buttonEl =\n",
              "          document.querySelector('#df-bd846c0c-032f-4ec4-a9eb-5cc5e54bb57a button.colab-df-convert');\n",
              "        buttonEl.style.display =\n",
              "          google.colab.kernel.accessAllowed ? 'block' : 'none';\n",
              "\n",
              "        async function convertToInteractive(key) {\n",
              "          const element = document.querySelector('#df-bd846c0c-032f-4ec4-a9eb-5cc5e54bb57a');\n",
              "          const dataTable =\n",
              "            await google.colab.kernel.invokeFunction('convertToInteractive',\n",
              "                                                     [key], {});\n",
              "          if (!dataTable) return;\n",
              "\n",
              "          const docLinkHtml = 'Like what you see? Visit the ' +\n",
              "            '<a target=\"_blank\" href=https://colab.research.google.com/notebooks/data_table.ipynb>data table notebook</a>'\n",
              "            + ' to learn more about interactive tables.';\n",
              "          element.innerHTML = '';\n",
              "          dataTable['output_type'] = 'display_data';\n",
              "          await google.colab.output.renderOutput(dataTable, element);\n",
              "          const docLink = document.createElement('div');\n",
              "          docLink.innerHTML = docLinkHtml;\n",
              "          element.appendChild(docLink);\n",
              "        }\n",
              "      </script>\n",
              "    </div>\n",
              "  </div>\n",
              "  "
            ]
          },
          "metadata": {},
          "execution_count": 67
        }
      ],
      "source": [
        "main_data"
      ]
    },
    {
      "cell_type": "markdown",
      "id": "780387c5-6fda-4fb2-a9a8-610e05a64dcc",
      "metadata": {
        "id": "780387c5-6fda-4fb2-a9a8-610e05a64dcc"
      },
      "source": [
        "## Apply SMOTE"
      ]
    },
    {
      "cell_type": "code",
      "execution_count": null,
      "id": "042a5457-a00f-4160-a3ea-b6784213a711",
      "metadata": {
        "id": "042a5457-a00f-4160-a3ea-b6784213a711",
        "colab": {
          "base_uri": "https://localhost:8080/"
        },
        "outputId": "6d696c1c-53ef-492d-c216-6b7b346450ae"
      },
      "outputs": [
        {
          "output_type": "stream",
          "name": "stdout",
          "text": [
            "Requirement already satisfied: imbalanced-learn in /usr/local/lib/python3.7/dist-packages (0.8.1)\n",
            "Collecting imbalanced-learn\n",
            "  Downloading imbalanced_learn-0.9.0-py3-none-any.whl (199 kB)\n",
            "\u001b[K     |████████████████████████████████| 199 kB 5.2 MB/s \n",
            "\u001b[?25hRequirement already satisfied: joblib>=0.11 in /usr/local/lib/python3.7/dist-packages (from imbalanced-learn) (1.1.0)\n",
            "Requirement already satisfied: scipy>=1.1.0 in /usr/local/lib/python3.7/dist-packages (from imbalanced-learn) (1.4.1)\n",
            "Requirement already satisfied: threadpoolctl>=2.0.0 in /usr/local/lib/python3.7/dist-packages (from imbalanced-learn) (3.1.0)\n",
            "Requirement already satisfied: numpy>=1.14.6 in /usr/local/lib/python3.7/dist-packages (from imbalanced-learn) (1.21.6)\n",
            "Requirement already satisfied: scikit-learn>=1.0.1 in /usr/local/lib/python3.7/dist-packages (from imbalanced-learn) (1.0.2)\n",
            "Installing collected packages: imbalanced-learn\n",
            "  Attempting uninstall: imbalanced-learn\n",
            "    Found existing installation: imbalanced-learn 0.8.1\n",
            "    Uninstalling imbalanced-learn-0.8.1:\n",
            "      Successfully uninstalled imbalanced-learn-0.8.1\n",
            "Successfully installed imbalanced-learn-0.9.0\n"
          ]
        }
      ],
      "source": [
        "!pip install -U imbalanced-learn"
      ]
    },
    {
      "cell_type": "code",
      "execution_count": null,
      "id": "0180502f-8b3b-4a4b-9ac6-a61d2b322b8e",
      "metadata": {
        "id": "0180502f-8b3b-4a4b-9ac6-a61d2b322b8e"
      },
      "outputs": [],
      "source": [
        "from imblearn.combine import SMOTETomek\n",
        "from imblearn.over_sampling import SMOTE"
      ]
    },
    {
      "cell_type": "code",
      "execution_count": null,
      "id": "20bd5a5b-62a0-4103-b8da-3c10b103684f",
      "metadata": {
        "id": "20bd5a5b-62a0-4103-b8da-3c10b103684f",
        "colab": {
          "base_uri": "https://localhost:8080/",
          "height": 303
        },
        "outputId": "8d73261b-5493-4f11-a886-2958b74f9e28"
      },
      "outputs": [
        {
          "output_type": "execute_result",
          "data": {
            "text/plain": [
              "<matplotlib.axes._subplots.AxesSubplot at 0x7f8769828450>"
            ]
          },
          "metadata": {},
          "execution_count": 70
        },
        {
          "output_type": "display_data",
          "data": {
            "text/plain": [
              "<Figure size 432x288 with 1 Axes>"
            ],
            "image/png": "[encoded data removed]"
          },
          "metadata": {}
        }
      ],
      "source": [
        "import matplotlib.pyplot as plt\n",
        "import seaborn as sns\n",
        "\n",
        "sns.set(style=\"darkgrid\")\n",
        "sns.countplot(x = \"fraudulent\" , data = new_data)"
      ]
    },
    {
      "cell_type": "code",
      "execution_count": null,
      "id": "f5ec1b95-83e1-49ab-b824-f768805dc20b",
      "metadata": {
        "id": "f5ec1b95-83e1-49ab-b824-f768805dc20b"
      },
      "outputs": [],
      "source": [
        "X = main_data.iloc[:, :-1]\n",
        "Y = main_data.iloc[:, -1]"
      ]
    },
    {
      "cell_type": "code",
      "execution_count": null,
      "id": "b91cdcf7-f76f-45e8-b754-24a731c70fb4",
      "metadata": {
        "id": "b91cdcf7-f76f-45e8-b754-24a731c70fb4",
        "colab": {
          "base_uri": "https://localhost:8080/"
        },
        "outputId": "b19f1d9b-6644-47cd-817d-e0b690f6ae50"
      },
      "outputs": [
        {
          "output_type": "stream",
          "name": "stdout",
          "text": [
            "17880\n",
            "17880\n"
          ]
        }
      ],
      "source": [
        "print(len(X))\n",
        "print(len(y))"
      ]
    },
    {
      "cell_type": "code",
      "execution_count": null,
      "id": "80e4ca43-d4be-4259-a8ff-7d505f265fcd",
      "metadata": {
        "id": "80e4ca43-d4be-4259-a8ff-7d505f265fcd"
      },
      "outputs": [],
      "source": [
        "oversample = SMOTE()\n",
        "new_X, new_y = oversample.fit_resample(X, y)"
      ]
    },
    {
      "cell_type": "code",
      "execution_count": null,
      "id": "61035831-89f2-4c2c-b4a8-5c5e8545f70e",
      "metadata": {
        "id": "61035831-89f2-4c2c-b4a8-5c5e8545f70e",
        "colab": {
          "base_uri": "https://localhost:8080/"
        },
        "outputId": "9e81ad01-7212-4653-c969-697ecb32ec53"
      },
      "outputs": [
        {
          "output_type": "stream",
          "name": "stdout",
          "text": [
            "34028\n",
            "34028\n"
          ]
        }
      ],
      "source": [
        "print(len(new_X))\n",
        "print(len(new_y))"
      ]
    },
    {
      "cell_type": "code",
      "execution_count": null,
      "id": "0979684f-cbd7-48e5-95de-ff453f3cc79b",
      "metadata": {
        "id": "0979684f-cbd7-48e5-95de-ff453f3cc79b",
        "colab": {
          "base_uri": "https://localhost:8080/"
        },
        "outputId": "2e67f9d0-5e9a-41cd-aef3-07a9ceceab69"
      },
      "outputs": [
        {
          "output_type": "execute_result",
          "data": {
            "text/plain": [
              "0    17014\n",
              "1    17014\n",
              "Name: fraudulent, dtype: int64"
            ]
          },
          "metadata": {},
          "execution_count": 75
        }
      ],
      "source": [
        "new_y.value_counts()"
      ]
    },
    {
      "cell_type": "markdown",
      "source": [
        "#Testing Zone"
      ],
      "metadata": {
        "id": "AqqJumx9rcXR"
      },
      "id": "AqqJumx9rcXR"
    },
    {
      "cell_type": "code",
      "source": [
        "test_data = save_data"
      ],
      "metadata": {
        "id": "HusIG8VHre-I"
      },
      "id": "HusIG8VHre-I",
      "execution_count": null,
      "outputs": []
    },
    {
      "cell_type": "code",
      "source": [
        "save_data"
      ],
      "metadata": {
        "id": "0-OvaBl5tDZ_",
        "colab": {
          "base_uri": "https://localhost:8080/",
          "height": 852
        },
        "outputId": "8467b55f-1729-4448-eac7-3cbfb5d61e8e"
      },
      "id": "0-OvaBl5tDZ_",
      "execution_count": null,
      "outputs": [
        {
          "output_type": "execute_result",
          "data": {
            "text/plain": [
              "       telecommuting  has_company_logo  has_questions  employment_type  \\\n",
              "0                  0                 1              0                2   \n",
              "1                  0                 1              0                1   \n",
              "2                  0                 1              0                5   \n",
              "3                  0                 1              0                1   \n",
              "4                  0                 1              1                1   \n",
              "...              ...               ...            ...              ...   \n",
              "17875              0                 1              1                1   \n",
              "17876              0                 1              1                1   \n",
              "17877              0                 0              0                1   \n",
              "17878              0                 0              1                0   \n",
              "17879              0                 1              1                1   \n",
              "\n",
              "       required_experience  required_education  industry  function  \\\n",
              "0                        4                  13       131        22   \n",
              "1                        6                  13        75         7   \n",
              "2                        7                  13       131        37   \n",
              "3                        5                   1        22        31   \n",
              "4                        5                   1        51        16   \n",
              "...                    ...                 ...       ...       ...   \n",
              "17875                    5                  13        22        31   \n",
              "17876                    5                   1        61         0   \n",
              "17877                    7                  13       131        37   \n",
              "17878                    6                   6        48         9   \n",
              "17879                    5                  13        22        12   \n",
              "\n",
              "                                               lemmatize  fraudulent  \n",
              "0      marketing internwere weve created groundbreaki...           0  \n",
              "1      customer service cloud video second world clou...           0  \n",
              "2      commissioning machinery assistant cmavalor ser...           0  \n",
              "3      account executive washington dcour passion imp...           0  \n",
              "4      bill review managerspotsource solution llc glo...           0  \n",
              "...                                                  ...         ...  \n",
              "17875  account director distribution vend looking awe...           0  \n",
              "17876  payroll accountantweblinc ecommerce platform s...           0  \n",
              "17877  project cost control staff engineer cost contr...           0  \n",
              "17878  graphic designermissingnemsia studio looking e...           0  \n",
              "17879  web application developersvend looking awesome...           0  \n",
              "\n",
              "[17880 rows x 10 columns]"
            ],
            "text/html": [
              "\n",
              "  <div id=\"df-b9e5aa8d-69b1-4f85-badb-a4266a61c5d3\">\n",
              "    <div class=\"colab-df-container\">\n",
              "      <div>\n",
              "<style scoped>\n",
              "    .dataframe tbody tr th:only-of-type {\n",
              "        vertical-align: middle;\n",
              "    }\n",
              "\n",
              "    .dataframe tbody tr th {\n",
              "        vertical-align: top;\n",
              "    }\n",
              "\n",
              "    .dataframe thead th {\n",
              "        text-align: right;\n",
              "    }\n",
              "</style>\n",
              "<table border=\"1\" class=\"dataframe\">\n",
              "  <thead>\n",
              "    <tr style=\"text-align: right;\">\n",
              "      <th></th>\n",
              "      <th>telecommuting</th>\n",
              "      <th>has_company_logo</th>\n",
              "      <th>has_questions</th>\n",
              "      <th>employment_type</th>\n",
              "      <th>required_experience</th>\n",
              "      <th>required_education</th>\n",
              "      <th>industry</th>\n",
              "      <th>function</th>\n",
              "      <th>lemmatize</th>\n",
              "      <th>fraudulent</th>\n",
              "    </tr>\n",
              "  </thead>\n",
              "  <tbody>\n",
              "    <tr>\n",
              "      <th>0</th>\n",
              "      <td>0</td>\n",
              "      <td>1</td>\n",
              "      <td>0</td>\n",
              "      <td>2</td>\n",
              "      <td>4</td>\n",
              "      <td>13</td>\n",
              "      <td>131</td>\n",
              "      <td>22</td>\n",
              "      <td>marketing internwere weve created groundbreaki...</td>\n",
              "      <td>0</td>\n",
              "    </tr>\n",
              "    <tr>\n",
              "      <th>1</th>\n",
              "      <td>0</td>\n",
              "      <td>1</td>\n",
              "      <td>0</td>\n",
              "      <td>1</td>\n",
              "      <td>6</td>\n",
              "      <td>13</td>\n",
              "      <td>75</td>\n",
              "      <td>7</td>\n",
              "      <td>customer service cloud video second world clou...</td>\n",
              "      <td>0</td>\n",
              "    </tr>\n",
              "    <tr>\n",
              "      <th>2</th>\n",
              "      <td>0</td>\n",
              "      <td>1</td>\n",
              "      <td>0</td>\n",
              "      <td>5</td>\n",
              "      <td>7</td>\n",
              "      <td>13</td>\n",
              "      <td>131</td>\n",
              "      <td>37</td>\n",
              "      <td>commissioning machinery assistant cmavalor ser...</td>\n",
              "      <td>0</td>\n",
              "    </tr>\n",
              "    <tr>\n",
              "      <th>3</th>\n",
              "      <td>0</td>\n",
              "      <td>1</td>\n",
              "      <td>0</td>\n",
              "      <td>1</td>\n",
              "      <td>5</td>\n",
              "      <td>1</td>\n",
              "      <td>22</td>\n",
              "      <td>31</td>\n",
              "      <td>account executive washington dcour passion imp...</td>\n",
              "      <td>0</td>\n",
              "    </tr>\n",
              "    <tr>\n",
              "      <th>4</th>\n",
              "      <td>0</td>\n",
              "      <td>1</td>\n",
              "      <td>1</td>\n",
              "      <td>1</td>\n",
              "      <td>5</td>\n",
              "      <td>1</td>\n",
              "      <td>51</td>\n",
              "      <td>16</td>\n",
              "      <td>bill review managerspotsource solution llc glo...</td>\n",
              "      <td>0</td>\n",
              "    </tr>\n",
              "    <tr>\n",
              "      <th>...</th>\n",
              "      <td>...</td>\n",
              "      <td>...</td>\n",
              "      <td>...</td>\n",
              "      <td>...</td>\n",
              "      <td>...</td>\n",
              "      <td>...</td>\n",
              "      <td>...</td>\n",
              "      <td>...</td>\n",
              "      <td>...</td>\n",
              "      <td>...</td>\n",
              "    </tr>\n",
              "    <tr>\n",
              "      <th>17875</th>\n",
              "      <td>0</td>\n",
              "      <td>1</td>\n",
              "      <td>1</td>\n",
              "      <td>1</td>\n",
              "      <td>5</td>\n",
              "      <td>13</td>\n",
              "      <td>22</td>\n",
              "      <td>31</td>\n",
              "      <td>account director distribution vend looking awe...</td>\n",
              "      <td>0</td>\n",
              "    </tr>\n",
              "    <tr>\n",
              "      <th>17876</th>\n",
              "      <td>0</td>\n",
              "      <td>1</td>\n",
              "      <td>1</td>\n",
              "      <td>1</td>\n",
              "      <td>5</td>\n",
              "      <td>1</td>\n",
              "      <td>61</td>\n",
              "      <td>0</td>\n",
              "      <td>payroll accountantweblinc ecommerce platform s...</td>\n",
              "      <td>0</td>\n",
              "    </tr>\n",
              "    <tr>\n",
              "      <th>17877</th>\n",
              "      <td>0</td>\n",
              "      <td>0</td>\n",
              "      <td>0</td>\n",
              "      <td>1</td>\n",
              "      <td>7</td>\n",
              "      <td>13</td>\n",
              "      <td>131</td>\n",
              "      <td>37</td>\n",
              "      <td>project cost control staff engineer cost contr...</td>\n",
              "      <td>0</td>\n",
              "    </tr>\n",
              "    <tr>\n",
              "      <th>17878</th>\n",
              "      <td>0</td>\n",
              "      <td>0</td>\n",
              "      <td>1</td>\n",
              "      <td>0</td>\n",
              "      <td>6</td>\n",
              "      <td>6</td>\n",
              "      <td>48</td>\n",
              "      <td>9</td>\n",
              "      <td>graphic designermissingnemsia studio looking e...</td>\n",
              "      <td>0</td>\n",
              "    </tr>\n",
              "    <tr>\n",
              "      <th>17879</th>\n",
              "      <td>0</td>\n",
              "      <td>1</td>\n",
              "      <td>1</td>\n",
              "      <td>1</td>\n",
              "      <td>5</td>\n",
              "      <td>13</td>\n",
              "      <td>22</td>\n",
              "      <td>12</td>\n",
              "      <td>web application developersvend looking awesome...</td>\n",
              "      <td>0</td>\n",
              "    </tr>\n",
              "  </tbody>\n",
              "</table>\n",
              "<p>17880 rows × 10 columns</p>\n",
              "</div>\n",
              "      <button class=\"colab-df-convert\" onclick=\"convertToInteractive('df-b9e5aa8d-69b1-4f85-badb-a4266a61c5d3')\"\n",
              "              title=\"Convert this dataframe to an interactive table.\"\n",
              "              style=\"display:none;\">\n",
              "        \n",
              "  <svg xmlns=\"http://www.w3.org/2000/svg\" height=\"24px\"viewBox=\"0 0 24 24\"\n",
              "       width=\"24px\">\n",
              "    <path d=\"M0 0h24v24H0V0z\" fill=\"none\"/>\n",
              "    <path d=\"M18.56 5.44l.94 2.06.94-2.06 2.06-.94-2.06-.94-.94-2.06-.94 2.06-2.06.94zm-11 1L8.5 8.5l.94-2.06 2.06-.94-2.06-.94L8.5 2.5l-.94 2.06-2.06.94zm10 10l.94 2.06.94-2.06 2.06-.94-2.06-.94-.94-2.06-.94 2.06-2.06.94z\"/><path d=\"M17.41 7.96l-1.37-1.37c-.4-.4-.92-.59-1.43-.59-.52 0-1.04.2-1.43.59L10.3 9.45l-7.72 7.72c-.78.78-.78 2.05 0 2.83L4 21.41c.39.39.9.59 1.41.59.51 0 1.02-.2 1.41-.59l7.78-7.78 2.81-2.81c.8-.78.8-2.07 0-2.86zM5.41 20L4 18.59l7.72-7.72 1.47 1.35L5.41 20z\"/>\n",
              "  </svg>\n",
              "      </button>\n",
              "      \n",
              "  <style>\n",
              "    .colab-df-container {\n",
              "      display:flex;\n",
              "      flex-wrap:wrap;\n",
              "      gap: 12px;\n",
              "    }\n",
              "\n",
              "    .colab-df-convert {\n",
              "      background-color: #E8F0FE;\n",
              "      border: none;\n",
              "      border-radius: 50%;\n",
              "      cursor: pointer;\n",
              "      display: none;\n",
              "      fill: #1967D2;\n",
              "      height: 32px;\n",
              "      padding: 0 0 0 0;\n",
              "      width: 32px;\n",
              "    }\n",
              "\n",
              "    .colab-df-convert:hover {\n",
              "      background-color: #E2EBFA;\n",
              "      box-shadow: 0px 1px 2px rgba(60, 64, 67, 0.3), 0px 1px 3px 1px rgba(60, 64, 67, 0.15);\n",
              "      fill: #174EA6;\n",
              "    }\n",
              "\n",
              "    [theme=dark] .colab-df-convert {\n",
              "      background-color: #3B4455;\n",
              "      fill: #D2E3FC;\n",
              "    }\n",
              "\n",
              "    [theme=dark] .colab-df-convert:hover {\n",
              "      background-color: #434B5C;\n",
              "      box-shadow: 0px 1px 3px 1px rgba(0, 0, 0, 0.15);\n",
              "      filter: drop-shadow(0px 1px 2px rgba(0, 0, 0, 0.3));\n",
              "      fill: #FFFFFF;\n",
              "    }\n",
              "  </style>\n",
              "\n",
              "      <script>\n",
              "        const buttonEl =\n",
              "          document.querySelector('#df-b9e5aa8d-69b1-4f85-badb-a4266a61c5d3 button.colab-df-convert');\n",
              "        buttonEl.style.display =\n",
              "          google.colab.kernel.accessAllowed ? 'block' : 'none';\n",
              "\n",
              "        async function convertToInteractive(key) {\n",
              "          const element = document.querySelector('#df-b9e5aa8d-69b1-4f85-badb-a4266a61c5d3');\n",
              "          const dataTable =\n",
              "            await google.colab.kernel.invokeFunction('convertToInteractive',\n",
              "                                                     [key], {});\n",
              "          if (!dataTable) return;\n",
              "\n",
              "          const docLinkHtml = 'Like what you see? Visit the ' +\n",
              "            '<a target=\"_blank\" href=https://colab.research.google.com/notebooks/data_table.ipynb>data table notebook</a>'\n",
              "            + ' to learn more about interactive tables.';\n",
              "          element.innerHTML = '';\n",
              "          dataTable['output_type'] = 'display_data';\n",
              "          await google.colab.output.renderOutput(dataTable, element);\n",
              "          const docLink = document.createElement('div');\n",
              "          docLink.innerHTML = docLinkHtml;\n",
              "          element.appendChild(docLink);\n",
              "        }\n",
              "      </script>\n",
              "    </div>\n",
              "  </div>\n",
              "  "
            ]
          },
          "metadata": {},
          "execution_count": 77
        }
      ]
    },
    {
      "cell_type": "code",
      "source": [
        "test_data.drop(test_data.iloc[:, 0:8], inplace = True, axis = 1)"
      ],
      "metadata": {
        "id": "wiBIZE1Fr8lW"
      },
      "id": "wiBIZE1Fr8lW",
      "execution_count": null,
      "outputs": []
    },
    {
      "cell_type": "code",
      "source": [
        "test_data"
      ],
      "metadata": {
        "id": "sxOhRQlzsXTy",
        "colab": {
          "base_uri": "https://localhost:8080/",
          "height": 423
        },
        "outputId": "8e693963-94a3-41b8-e4cf-89ad58cd1e47"
      },
      "id": "sxOhRQlzsXTy",
      "execution_count": null,
      "outputs": [
        {
          "output_type": "execute_result",
          "data": {
            "text/plain": [
              "                                               lemmatize  fraudulent\n",
              "0      marketing internwere weve created groundbreaki...           0\n",
              "1      customer service cloud video second world clou...           0\n",
              "2      commissioning machinery assistant cmavalor ser...           0\n",
              "3      account executive washington dcour passion imp...           0\n",
              "4      bill review managerspotsource solution llc glo...           0\n",
              "...                                                  ...         ...\n",
              "17875  account director distribution vend looking awe...           0\n",
              "17876  payroll accountantweblinc ecommerce platform s...           0\n",
              "17877  project cost control staff engineer cost contr...           0\n",
              "17878  graphic designermissingnemsia studio looking e...           0\n",
              "17879  web application developersvend looking awesome...           0\n",
              "\n",
              "[17880 rows x 2 columns]"
            ],
            "text/html": [
              "\n",
              "  <div id=\"df-8714d1da-b1c6-4af9-ba48-ad59540e377a\">\n",
              "    <div class=\"colab-df-container\">\n",
              "      <div>\n",
              "<style scoped>\n",
              "    .dataframe tbody tr th:only-of-type {\n",
              "        vertical-align: middle;\n",
              "    }\n",
              "\n",
              "    .dataframe tbody tr th {\n",
              "        vertical-align: top;\n",
              "    }\n",
              "\n",
              "    .dataframe thead th {\n",
              "        text-align: right;\n",
              "    }\n",
              "</style>\n",
              "<table border=\"1\" class=\"dataframe\">\n",
              "  <thead>\n",
              "    <tr style=\"text-align: right;\">\n",
              "      <th></th>\n",
              "      <th>lemmatize</th>\n",
              "      <th>fraudulent</th>\n",
              "    </tr>\n",
              "  </thead>\n",
              "  <tbody>\n",
              "    <tr>\n",
              "      <th>0</th>\n",
              "      <td>marketing internwere weve created groundbreaki...</td>\n",
              "      <td>0</td>\n",
              "    </tr>\n",
              "    <tr>\n",
              "      <th>1</th>\n",
              "      <td>customer service cloud video second world clou...</td>\n",
              "      <td>0</td>\n",
              "    </tr>\n",
              "    <tr>\n",
              "      <th>2</th>\n",
              "      <td>commissioning machinery assistant cmavalor ser...</td>\n",
              "      <td>0</td>\n",
              "    </tr>\n",
              "    <tr>\n",
              "      <th>3</th>\n",
              "      <td>account executive washington dcour passion imp...</td>\n",
              "      <td>0</td>\n",
              "    </tr>\n",
              "    <tr>\n",
              "      <th>4</th>\n",
              "      <td>bill review managerspotsource solution llc glo...</td>\n",
              "      <td>0</td>\n",
              "    </tr>\n",
              "    <tr>\n",
              "      <th>...</th>\n",
              "      <td>...</td>\n",
              "      <td>...</td>\n",
              "    </tr>\n",
              "    <tr>\n",
              "      <th>17875</th>\n",
              "      <td>account director distribution vend looking awe...</td>\n",
              "      <td>0</td>\n",
              "    </tr>\n",
              "    <tr>\n",
              "      <th>17876</th>\n",
              "      <td>payroll accountantweblinc ecommerce platform s...</td>\n",
              "      <td>0</td>\n",
              "    </tr>\n",
              "    <tr>\n",
              "      <th>17877</th>\n",
              "      <td>project cost control staff engineer cost contr...</td>\n",
              "      <td>0</td>\n",
              "    </tr>\n",
              "    <tr>\n",
              "      <th>17878</th>\n",
              "      <td>graphic designermissingnemsia studio looking e...</td>\n",
              "      <td>0</td>\n",
              "    </tr>\n",
              "    <tr>\n",
              "      <th>17879</th>\n",
              "      <td>web application developersvend looking awesome...</td>\n",
              "      <td>0</td>\n",
              "    </tr>\n",
              "  </tbody>\n",
              "</table>\n",
              "<p>17880 rows × 2 columns</p>\n",
              "</div>\n",
              "      <button class=\"colab-df-convert\" onclick=\"convertToInteractive('df-8714d1da-b1c6-4af9-ba48-ad59540e377a')\"\n",
              "              title=\"Convert this dataframe to an interactive table.\"\n",
              "              style=\"display:none;\">\n",
              "        \n",
              "  <svg xmlns=\"http://www.w3.org/2000/svg\" height=\"24px\"viewBox=\"0 0 24 24\"\n",
              "       width=\"24px\">\n",
              "    <path d=\"M0 0h24v24H0V0z\" fill=\"none\"/>\n",
              "    <path d=\"M18.56 5.44l.94 2.06.94-2.06 2.06-.94-2.06-.94-.94-2.06-.94 2.06-2.06.94zm-11 1L8.5 8.5l.94-2.06 2.06-.94-2.06-.94L8.5 2.5l-.94 2.06-2.06.94zm10 10l.94 2.06.94-2.06 2.06-.94-2.06-.94-.94-2.06-.94 2.06-2.06.94z\"/><path d=\"M17.41 7.96l-1.37-1.37c-.4-.4-.92-.59-1.43-.59-.52 0-1.04.2-1.43.59L10.3 9.45l-7.72 7.72c-.78.78-.78 2.05 0 2.83L4 21.41c.39.39.9.59 1.41.59.51 0 1.02-.2 1.41-.59l7.78-7.78 2.81-2.81c.8-.78.8-2.07 0-2.86zM5.41 20L4 18.59l7.72-7.72 1.47 1.35L5.41 20z\"/>\n",
              "  </svg>\n",
              "      </button>\n",
              "      \n",
              "  <style>\n",
              "    .colab-df-container {\n",
              "      display:flex;\n",
              "      flex-wrap:wrap;\n",
              "      gap: 12px;\n",
              "    }\n",
              "\n",
              "    .colab-df-convert {\n",
              "      background-color: #E8F0FE;\n",
              "      border: none;\n",
              "      border-radius: 50%;\n",
              "      cursor: pointer;\n",
              "      display: none;\n",
              "      fill: #1967D2;\n",
              "      height: 32px;\n",
              "      padding: 0 0 0 0;\n",
              "      width: 32px;\n",
              "    }\n",
              "\n",
              "    .colab-df-convert:hover {\n",
              "      background-color: #E2EBFA;\n",
              "      box-shadow: 0px 1px 2px rgba(60, 64, 67, 0.3), 0px 1px 3px 1px rgba(60, 64, 67, 0.15);\n",
              "      fill: #174EA6;\n",
              "    }\n",
              "\n",
              "    [theme=dark] .colab-df-convert {\n",
              "      background-color: #3B4455;\n",
              "      fill: #D2E3FC;\n",
              "    }\n",
              "\n",
              "    [theme=dark] .colab-df-convert:hover {\n",
              "      background-color: #434B5C;\n",
              "      box-shadow: 0px 1px 3px 1px rgba(0, 0, 0, 0.15);\n",
              "      filter: drop-shadow(0px 1px 2px rgba(0, 0, 0, 0.3));\n",
              "      fill: #FFFFFF;\n",
              "    }\n",
              "  </style>\n",
              "\n",
              "      <script>\n",
              "        const buttonEl =\n",
              "          document.querySelector('#df-8714d1da-b1c6-4af9-ba48-ad59540e377a button.colab-df-convert');\n",
              "        buttonEl.style.display =\n",
              "          google.colab.kernel.accessAllowed ? 'block' : 'none';\n",
              "\n",
              "        async function convertToInteractive(key) {\n",
              "          const element = document.querySelector('#df-8714d1da-b1c6-4af9-ba48-ad59540e377a');\n",
              "          const dataTable =\n",
              "            await google.colab.kernel.invokeFunction('convertToInteractive',\n",
              "                                                     [key], {});\n",
              "          if (!dataTable) return;\n",
              "\n",
              "          const docLinkHtml = 'Like what you see? Visit the ' +\n",
              "            '<a target=\"_blank\" href=https://colab.research.google.com/notebooks/data_table.ipynb>data table notebook</a>'\n",
              "            + ' to learn more about interactive tables.';\n",
              "          element.innerHTML = '';\n",
              "          dataTable['output_type'] = 'display_data';\n",
              "          await google.colab.output.renderOutput(dataTable, element);\n",
              "          const docLink = document.createElement('div');\n",
              "          docLink.innerHTML = docLinkHtml;\n",
              "          element.appendChild(docLink);\n",
              "        }\n",
              "      </script>\n",
              "    </div>\n",
              "  </div>\n",
              "  "
            ]
          },
          "metadata": {},
          "execution_count": 79
        }
      ]
    },
    {
      "cell_type": "code",
      "source": [
        "Xx = test_data.iloc[:, :-1]\n",
        "Yy = test_data.iloc[:, -1]"
      ],
      "metadata": {
        "id": "kvGLaEcLuntz"
      },
      "id": "kvGLaEcLuntz",
      "execution_count": null,
      "outputs": []
    },
    {
      "cell_type": "code",
      "source": [
        "test_data.lemmatize"
      ],
      "metadata": {
        "id": "CMoz-SZD_p2O",
        "colab": {
          "base_uri": "https://localhost:8080/"
        },
        "outputId": "9ed454eb-acfc-4024-eb23-454cefb8a155"
      },
      "id": "CMoz-SZD_p2O",
      "execution_count": null,
      "outputs": [
        {
          "output_type": "execute_result",
          "data": {
            "text/plain": [
              "0        marketing internwere weve created groundbreaki...\n",
              "1        customer service cloud video second world clou...\n",
              "2        commissioning machinery assistant cmavalor ser...\n",
              "3        account executive washington dcour passion imp...\n",
              "4        bill review managerspotsource solution llc glo...\n",
              "                               ...                        \n",
              "17875    account director distribution vend looking awe...\n",
              "17876    payroll accountantweblinc ecommerce platform s...\n",
              "17877    project cost control staff engineer cost contr...\n",
              "17878    graphic designermissingnemsia studio looking e...\n",
              "17879    web application developersvend looking awesome...\n",
              "Name: lemmatize, Length: 17880, dtype: object"
            ]
          },
          "metadata": {},
          "execution_count": 81
        }
      ]
    },
    {
      "cell_type": "code",
      "source": [
        "X_training, X_testing, y_training, y_testing = train_test_split(test_data.lemmatize, test_data.fraudulent, test_size=0.2, random_state=10)\n",
        "#oversample = SMOTE()\n",
        "#the_X, the_y = oversample.fit_resample(X_training, y_training)"
      ],
      "metadata": {
        "id": "rojrJJQqsdnT"
      },
      "id": "rojrJJQqsdnT",
      "execution_count": null,
      "outputs": []
    },
    {
      "cell_type": "code",
      "source": [
        "cv=CountVectorizer(min_df=0,max_df=1,binary=False,ngram_range=(1,3))\n",
        "#transformed train reviews\n",
        "cv_train_reviews=cv.fit_transform(X_training)\n",
        "#transformed test reviews\n",
        "cv_test_reviews=cv.transform(X_testing)\n",
        "\n",
        "print('BOW_cv_train:',cv_train_reviews.shape)\n",
        "print('BOW_cv_test:',cv_test_reviews.shape)"
      ],
      "metadata": {
        "id": "zPRWt2pD-tj5"
      },
      "id": "zPRWt2pD-tj5",
      "execution_count": null,
      "outputs": []
    },
    {
      "cell_type": "code",
      "source": [
        "from sklearn.feature_extraction.text import TfidfVectorizer\n",
        "tv=TfidfVectorizer(min_df=0,max_df=1,use_idf=True,ngram_range=(1,3))\n",
        "#transformed train reviews\n",
        "tv_train_reviews=tv.fit_transform(X_training)\n",
        "#transformed test reviews\n",
        "tv_test_reviews=tv.transform(X_testing)\n",
        "print('Tfidf_train:',tv_train_reviews.shape)\n",
        "print('Tfidf_test:',tv_test_reviews.shape)"
      ],
      "metadata": {
        "id": "XYFGOemjAEVV"
      },
      "id": "XYFGOemjAEVV",
      "execution_count": null,
      "outputs": []
    },
    {
      "cell_type": "code",
      "source": [
        "from sklearn.naive_bayes import MultinomialNB\n",
        "from sklearn.feature_extraction.text import CountVectorizer, TfidfVectorizer\n",
        "from sklearn.metrics import f1_score, roc_auc_score"
      ],
      "metadata": {
        "id": "_YX5jr8kQdQG"
      },
      "id": "_YX5jr8kQdQG",
      "execution_count": 93,
      "outputs": []
    },
    {
      "cell_type": "code",
      "source": [
        "#training the model\n",
        "mnb=MultinomialNB()\n",
        "#fitting the nb for bag of words\n",
        "mnb_bow=mnb.fit(cv_train_reviews,y_training)\n",
        "print(mnb_bow)\n",
        "#fitting the nb for tfidf features\n",
        "mnb_tfidf=mnb.fit(tv_train_reviews,y_training)\n",
        "print(mnb_tfidf)"
      ],
      "metadata": {
        "id": "iEIlxz9qAS5I",
        "colab": {
          "base_uri": "https://localhost:8080/"
        },
        "outputId": "ec4c6806-817b-47aa-8f3d-864bd8ca709a"
      },
      "id": "iEIlxz9qAS5I",
      "execution_count": 94,
      "outputs": [
        {
          "output_type": "stream",
          "name": "stdout",
          "text": [
            "MultinomialNB()\n",
            "MultinomialNB()\n"
          ]
        }
      ]
    },
    {
      "cell_type": "code",
      "source": [
        "#Predicting the model for bag of words\n",
        "mnb_bow_predict=mnb.predict(cv_test_reviews)\n",
        "#Predicting the model for tfidf features\n",
        "mnb_tfidf_predict=mnb.predict(tv_test_reviews)"
      ],
      "metadata": {
        "id": "IzNShdH0Adqr"
      },
      "id": "IzNShdH0Adqr",
      "execution_count": 95,
      "outputs": []
    },
    {
      "cell_type": "code",
      "source": [
        "from sklearn.metrics import classification_report,confusion_matrix,accuracy_score"
      ],
      "metadata": {
        "id": "D67WMLk-QwmQ"
      },
      "id": "D67WMLk-QwmQ",
      "execution_count": 98,
      "outputs": []
    },
    {
      "cell_type": "code",
      "source": [
        "#Accuracy score for bag of words\n",
        "mnb_bow_score=accuracy_score(y_testing,mnb_bow_predict)\n",
        "print(\"mnb_bow_score :\",mnb_bow_score)\n",
        "#Accuracy score for tfidf features\n",
        "mnb_tfidf_score=accuracy_score(y_testing,mnb_tfidf_predict)\n",
        "print(\"mnb_tfidf_score :\",mnb_tfidf_score)"
      ],
      "metadata": {
        "id": "oMsz_BFIAftj",
        "colab": {
          "base_uri": "https://localhost:8080/"
        },
        "outputId": "769d7e5f-766f-4184-ee6e-b0ebde535b5f"
      },
      "id": "oMsz_BFIAftj",
      "execution_count": 99,
      "outputs": [
        {
          "output_type": "stream",
          "name": "stdout",
          "text": [
            "mnb_bow_score : 0.9426733780760627\n",
            "mnb_tfidf_score : 0.9555369127516778\n"
          ]
        }
      ]
    },
    {
      "cell_type": "code",
      "source": [
        "from sklearn.linear_model import LogisticRegression\n",
        "from sklearn.metrics import f1_score, roc_auc_score\n",
        "\n",
        "from sklearn.ensemble import RandomForestClassifier\n",
        "from sklearn.model_selection import RandomizedSearchCV"
      ],
      "metadata": {
        "id": "umNByiyKOnCG"
      },
      "id": "umNByiyKOnCG",
      "execution_count": 100,
      "outputs": []
    },
    {
      "cell_type": "code",
      "source": [
        "lr_clfs = LogisticRegression(solver='lbfgs', max_iter=500)\n",
        "lr_clfs.fit(cv_train_reviews,y_training)"
      ],
      "metadata": {
        "id": "ogo2k9dWssdN",
        "colab": {
          "base_uri": "https://localhost:8080/"
        },
        "outputId": "89184002-9b20-42c1-fd09-263c527f972e"
      },
      "id": "ogo2k9dWssdN",
      "execution_count": 101,
      "outputs": [
        {
          "output_type": "execute_result",
          "data": {
            "text/plain": [
              "LogisticRegression(max_iter=500)"
            ]
          },
          "metadata": {},
          "execution_count": 101
        }
      ]
    },
    {
      "cell_type": "code",
      "source": [
        "predictions1 = lr_clfs.predict(cv_test_reviews)\n",
        "predictions1 = np.round(predictions1).astype(int)\n",
        "print (\"AUC score :\", np.round(roc_auc_score(y_testing, predictions1),5))"
      ],
      "metadata": {
        "id": "yCHLrEuzss-j",
        "colab": {
          "base_uri": "https://localhost:8080/"
        },
        "outputId": "aba232cf-a60c-46bc-b903-1a7aac806182"
      },
      "id": "yCHLrEuzss-j",
      "execution_count": 102,
      "outputs": [
        {
          "output_type": "stream",
          "name": "stdout",
          "text": [
            "AUC score : 0.6186\n"
          ]
        }
      ]
    },
    {
      "cell_type": "code",
      "source": [
        "rfcs = RandomForestClassifier(n_estimators=15, min_samples_split = 2, min_samples_leaf = 2, max_depth= 30)\n",
        "rfcs.fit(cv_train_reviews,y_training)"
      ],
      "metadata": {
        "id": "2fU7D_iS3oNx",
        "colab": {
          "base_uri": "https://localhost:8080/"
        },
        "outputId": "81d48651-7331-4ce9-920f-4b5a0c4413d9"
      },
      "id": "2fU7D_iS3oNx",
      "execution_count": 103,
      "outputs": [
        {
          "output_type": "execute_result",
          "data": {
            "text/plain": [
              "RandomForestClassifier(max_depth=30, min_samples_leaf=2, n_estimators=15)"
            ]
          },
          "metadata": {},
          "execution_count": 103
        }
      ]
    },
    {
      "cell_type": "code",
      "source": [
        "predictions2 = rfcs.predict(cv_test_reviews)\n",
        "predictions2 = np.round(predictions2).astype(int)\n",
        "print (\"AUC score :\", np.round(roc_auc_score(y_testing, predictions2),5))"
      ],
      "metadata": {
        "id": "Q1DiTA-43qXR",
        "colab": {
          "base_uri": "https://localhost:8080/"
        },
        "outputId": "8b452763-4905-45e2-d412-1b5f8fa8a2d2"
      },
      "id": "Q1DiTA-43qXR",
      "execution_count": 104,
      "outputs": [
        {
          "output_type": "stream",
          "name": "stdout",
          "text": [
            "AUC score : 0.5\n"
          ]
        }
      ]
    },
    {
      "cell_type": "markdown",
      "source": [
        "#End Testing Zone"
      ],
      "metadata": {
        "id": "9uO6bnHBseBs"
      },
      "id": "9uO6bnHBseBs"
    },
    {
      "cell_type": "markdown",
      "source": [
        "##Logistic"
      ],
      "metadata": {
        "id": "ARhPZStwOlGI"
      },
      "id": "ARhPZStwOlGI"
    },
    {
      "cell_type": "code",
      "source": [
        "from sklearn.model_selection import train_test_split\n",
        "from sklearn.linear_model import LogisticRegression\n",
        "X_train, X_test, y_train, y_test = train_test_split(X, y, test_size=0.2, random_state=10)\n",
        "oversample = SMOTE()\n",
        "lg_X, lg_y = oversample.fit_resample(X_train, y_train)"
      ],
      "metadata": {
        "id": "rDElAnf5iS1d"
      },
      "id": "rDElAnf5iS1d",
      "execution_count": 105,
      "outputs": []
    },
    {
      "cell_type": "code",
      "source": [
        "lr_clf = LogisticRegression(solver='lbfgs', max_iter=500)\n",
        "lr_clf.fit(lg_X, lg_y)"
      ],
      "metadata": {
        "id": "9_6i1Rb1Op7I",
        "colab": {
          "base_uri": "https://localhost:8080/"
        },
        "outputId": "60f9749f-754f-442c-8ae6-69f73cfcadaf"
      },
      "id": "9_6i1Rb1Op7I",
      "execution_count": 106,
      "outputs": [
        {
          "output_type": "execute_result",
          "data": {
            "text/plain": [
              "LogisticRegression(max_iter=500)"
            ]
          },
          "metadata": {},
          "execution_count": 106
        }
      ]
    },
    {
      "cell_type": "code",
      "source": [
        "from sklearn.metrics import f1_score, roc_auc_score"
      ],
      "metadata": {
        "id": "SepLAX6Yilwt"
      },
      "id": "SepLAX6Yilwt",
      "execution_count": 107,
      "outputs": []
    },
    {
      "cell_type": "code",
      "source": [
        "predictions = lr_clf.predict(X_test)\n",
        "predictions = np.round(predictions).astype(int)\n",
        "print (\"AUC score :\", np.round(roc_auc_score(y_test, predictions),5))"
      ],
      "metadata": {
        "id": "mg8zphKHiG79",
        "colab": {
          "base_uri": "https://localhost:8080/"
        },
        "outputId": "fd3127d7-bbe4-4414-ebcb-b17c9041012a"
      },
      "id": "mg8zphKHiG79",
      "execution_count": 108,
      "outputs": [
        {
          "output_type": "stream",
          "name": "stdout",
          "text": [
            "AUC score : 0.82349\n"
          ]
        }
      ]
    },
    {
      "cell_type": "markdown",
      "id": "9113c045-5285-4c33-aa65-15df6f79ed9d",
      "metadata": {
        "id": "9113c045-5285-4c33-aa65-15df6f79ed9d"
      },
      "source": [
        "## Random Forest"
      ]
    },
    {
      "cell_type": "code",
      "execution_count": 109,
      "id": "ff0bdccf-0436-4b7b-a8c1-009e09639775",
      "metadata": {
        "id": "ff0bdccf-0436-4b7b-a8c1-009e09639775"
      },
      "outputs": [],
      "source": [
        "from sklearn.ensemble import RandomForestClassifier\n",
        "from sklearn.model_selection import RandomizedSearchCV"
      ]
    },
    {
      "cell_type": "code",
      "source": [
        "rfc = RandomForestClassifier(n_estimators=15, min_samples_split = 2, min_samples_leaf = 2, max_depth= 30)\n",
        "rfc.fit(lg_X, lg_y)"
      ],
      "metadata": {
        "id": "-nYh8LoKm8Lr",
        "colab": {
          "base_uri": "https://localhost:8080/"
        },
        "outputId": "3cb0fa12-faff-44af-c8ba-fbb351a0fd49"
      },
      "id": "-nYh8LoKm8Lr",
      "execution_count": 136,
      "outputs": [
        {
          "output_type": "execute_result",
          "data": {
            "text/plain": [
              "RandomForestClassifier(max_depth=30, min_samples_leaf=2, n_estimators=15)"
            ]
          },
          "metadata": {},
          "execution_count": 136
        }
      ]
    },
    {
      "cell_type": "code",
      "source": [
        "predictions = rfc.predict(X_test)\n",
        "predictions = np.round(predictions).astype(int)\n",
        "print (\"AUC score :\", np.round(roc_auc_score(y_test, predictions),5))"
      ],
      "metadata": {
        "id": "30JHMFh6m3Rl",
        "colab": {
          "base_uri": "https://localhost:8080/"
        },
        "outputId": "71686886-6227-488c-99f0-31b15af5be2c"
      },
      "id": "30JHMFh6m3Rl",
      "execution_count": 137,
      "outputs": [
        {
          "output_type": "stream",
          "name": "stdout",
          "text": [
            "AUC score : 0.79009\n"
          ]
        }
      ]
    },
    {
      "cell_type": "code",
      "source": [
        "from sklearn.metrics import confusion_matrix\n",
        "\n",
        "#Generate the confusion matrix\n",
        "cf_matrix = confusion_matrix(y_test, predictions)\n",
        "\n",
        "print(cf_matrix)"
      ],
      "metadata": {
        "colab": {
          "base_uri": "https://localhost:8080/"
        },
        "id": "h0v7XMnmTnrC",
        "outputId": "4ec32843-c8dc-4761-86ee-28e5b113b6f4"
      },
      "id": "h0v7XMnmTnrC",
      "execution_count": 139,
      "outputs": [
        {
          "output_type": "stream",
          "name": "stdout",
          "text": [
            "[[3391   25]\n",
            " [  66   94]]\n"
          ]
        }
      ]
    },
    {
      "cell_type": "code",
      "source": [
        "from sklearn.metrics import ConfusionMatrixDisplay\n",
        "\n",
        "\n",
        "ConfusionMatrixDisplay.from_predictions(y_test,  predictions)\n",
        "display = display.plot(cmap=plt.cm.Blues)\n",
        "\n",
        "plt.show()"
      ],
      "metadata": {
        "colab": {
          "base_uri": "https://localhost:8080/",
          "height": 553
        },
        "id": "NAOuZE4YVC7M",
        "outputId": "79dd9745-563d-408d-aada-a1aed0393bc7"
      },
      "id": "NAOuZE4YVC7M",
      "execution_count": 149,
      "outputs": [
        {
          "output_type": "display_data",
          "data": {
            "text/plain": [
              "<Figure size 432x288 with 2 Axes>"
            ],
            "image/png": "[encoded data removed]"
          },
          "metadata": {}
        },
        {
          "output_type": "display_data",
          "data": {
            "text/plain": [
              "<Figure size 432x288 with 2 Axes>"
            ],
            "image/png": "[encoded data removed]"
          },
          "metadata": {}
        }
      ]
    },
    {
      "cell_type": "code",
      "execution_count": 112,
      "id": "7bd228ad-befc-42ed-91ce-8daf7b8df33c",
      "metadata": {
        "id": "7bd228ad-befc-42ed-91ce-8daf7b8df33c",
        "colab": {
          "base_uri": "https://localhost:8080/"
        },
        "outputId": "47a3cea6-f010-42cf-dd52-8a7724d6440e"
      },
      "outputs": [
        {
          "output_type": "execute_result",
          "data": {
            "text/plain": [
              "RandomizedSearchCV(cv=4, estimator=RandomForestClassifier(), n_iter=5,\n",
              "                   param_distributions={'max_depth': [10, 20, 30, 40, 50, None],\n",
              "                                        'min_samples_leaf': [1, 2],\n",
              "                                        'min_samples_split': [2, 5],\n",
              "                                        'n_estimators': [10, 12, 15, 17, 20]},\n",
              "                   scoring='f1')"
            ]
          },
          "metadata": {},
          "execution_count": 112
        }
      ],
      "source": [
        "# Number of trees in random forest\n",
        "n_estimators = [int(x) for x in np.linspace(start = 10, stop = 20, num = 5)]\n",
        "\n",
        "# Maximum number of levels in tree\n",
        "max_depth = [int(x) for x in np.linspace(10, 50, num = 5)]\n",
        "max_depth.append(None)\n",
        "\n",
        "# Minimum number of samples required to split a node\n",
        "min_samples_split = [2, 5]\n",
        "\n",
        "# Minimum number of samples required at each leaf node\n",
        "min_samples_leaf = [1, 2]\n",
        "\n",
        "# Create the random grid\n",
        "random_grid = {'n_estimators': n_estimators,\n",
        "               'max_depth': max_depth,\n",
        "               'min_samples_split': min_samples_split,\n",
        "               'min_samples_leaf': min_samples_leaf}\n",
        "\n",
        "\n",
        "rf = RandomForestClassifier()\n",
        "rf_random = RandomizedSearchCV(estimator = rf, param_distributions = random_grid, n_iter = 5, cv = 4,scoring = 'f1')\n",
        "rf_random.fit(lg_X, lg_y)"
      ]
    },
    {
      "cell_type": "markdown",
      "id": "d92a2cba-8448-4dc7-aca7-0342c6e7e972",
      "metadata": {
        "id": "d92a2cba-8448-4dc7-aca7-0342c6e7e972"
      },
      "source": [
        "## F1 Score"
      ]
    },
    {
      "cell_type": "code",
      "execution_count": 113,
      "id": "ec04a86e-dead-4694-89b1-bf16723f78c6",
      "metadata": {
        "id": "ec04a86e-dead-4694-89b1-bf16723f78c6",
        "colab": {
          "base_uri": "https://localhost:8080/"
        },
        "outputId": "8383404a-2d1c-4968-fa96-5da065a90b12"
      },
      "outputs": [
        {
          "output_type": "stream",
          "name": "stdout",
          "text": [
            "Average of the best f1-score in various folds during cross validation =  0.9875342862648463\n",
            "The best parameters found during k-fold cross validation is =  {'n_estimators': 20, 'min_samples_split': 5, 'min_samples_leaf': 2, 'max_depth': None}\n"
          ]
        }
      ],
      "source": [
        "print(\"Average of the best f1-score in various folds during cross validation = \",rf_random.best_score_)\n",
        "print(\"The best parameters found during k-fold cross validation is = \",rf_random.best_params_)"
      ]
    },
    {
      "cell_type": "code",
      "source": [
        "from sklearn.model_selection import train_test_split\n",
        "X_train, X_test, y_train, y_test = train_test_split(X, y, test_size=0.2, random_state=10)"
      ],
      "metadata": {
        "id": "XUiSElNOs_yh"
      },
      "id": "XUiSElNOs_yh",
      "execution_count": 114,
      "outputs": []
    },
    {
      "cell_type": "code",
      "source": [
        "print('Tfidf_train : ', X_train.shape)"
      ],
      "metadata": {
        "id": "7XL9xIjMxxLI",
        "colab": {
          "base_uri": "https://localhost:8080/"
        },
        "outputId": "8fd04b04-4d27-4225-a4c9-a1e3eb882f2e"
      },
      "id": "7XL9xIjMxxLI",
      "execution_count": 115,
      "outputs": [
        {
          "output_type": "stream",
          "name": "stdout",
          "text": [
            "Tfidf_train :  (14304, 208)\n"
          ]
        }
      ]
    },
    {
      "cell_type": "code",
      "source": [
        "oversample = SMOTE()\n",
        "new_X, new_y = oversample.fit_resample(X_train, y_train)"
      ],
      "metadata": {
        "id": "OSvImGqk2Z7F"
      },
      "id": "OSvImGqk2Z7F",
      "execution_count": 116,
      "outputs": []
    },
    {
      "cell_type": "code",
      "source": [
        "print(len(new_X))\n",
        "print(len(new_y))"
      ],
      "metadata": {
        "id": "h3dvGY2P3Afx",
        "colab": {
          "base_uri": "https://localhost:8080/"
        },
        "outputId": "2509bd9a-6541-4970-e792-de691ad7d749"
      },
      "id": "h3dvGY2P3Afx",
      "execution_count": 117,
      "outputs": [
        {
          "output_type": "stream",
          "name": "stdout",
          "text": [
            "27196\n",
            "27196\n"
          ]
        }
      ]
    },
    {
      "cell_type": "code",
      "source": [
        "from sklearn.naive_bayes import GaussianNB\n",
        "from sklearn.metrics import accuracy_score,classification_report,confusion_matrix\n",
        "import sklearn.metrics as metrics"
      ],
      "metadata": {
        "id": "hSoasmr3yUyS"
      },
      "id": "hSoasmr3yUyS",
      "execution_count": 118,
      "outputs": []
    },
    {
      "cell_type": "code",
      "source": [
        "model=GaussianNB()\n",
        "model.fit(new_X, new_y)\n",
        "y_pred=model.predict(X_test)\n",
        "GaussianNB_accuracy = metrics.accuracy_score(y_test, y_pred)\n",
        "GaussianNB_accuracy"
      ],
      "metadata": {
        "id": "m6jpX4WFJdcg",
        "colab": {
          "base_uri": "https://localhost:8080/"
        },
        "outputId": "f8da26d0-2d2d-41dc-d9f7-8650503554db"
      },
      "id": "m6jpX4WFJdcg",
      "execution_count": 135,
      "outputs": [
        {
          "output_type": "execute_result",
          "data": {
            "text/plain": [
              "0.70917225950783"
            ]
          },
          "metadata": {},
          "execution_count": 135
        }
      ]
    },
    {
      "cell_type": "markdown",
      "source": [
        "## SVM"
      ],
      "metadata": {
        "id": "4ZDGFIbNmE4l"
      },
      "id": "4ZDGFIbNmE4l"
    },
    {
      "cell_type": "code",
      "source": [
        "from sklearn.model_selection import train_test_split\n",
        "X_train, X_test, y_train, y_test = train_test_split(X, y, test_size=0.3, random_state=8)"
      ],
      "metadata": {
        "id": "RHirWC5SmJtC"
      },
      "id": "RHirWC5SmJtC",
      "execution_count": 120,
      "outputs": []
    },
    {
      "cell_type": "code",
      "source": [
        "print('Tfidf_train : ', X_train.shape)"
      ],
      "metadata": {
        "id": "zhuXkR2AmsyL",
        "colab": {
          "base_uri": "https://localhost:8080/"
        },
        "outputId": "6860062c-2b6d-43c5-94e2-93634de918d5"
      },
      "id": "zhuXkR2AmsyL",
      "execution_count": 121,
      "outputs": [
        {
          "output_type": "stream",
          "name": "stdout",
          "text": [
            "Tfidf_train :  (12516, 208)\n"
          ]
        }
      ]
    },
    {
      "cell_type": "code",
      "source": [
        "oversample = SMOTE()\n",
        "new_X, new_y = oversample.fit_resample(X_train, y_train)"
      ],
      "metadata": {
        "id": "7k4KOE9Imjzs"
      },
      "id": "7k4KOE9Imjzs",
      "execution_count": 122,
      "outputs": []
    },
    {
      "cell_type": "code",
      "source": [
        "print(len(new_X))\n",
        "print(len(new_y))"
      ],
      "metadata": {
        "id": "iNpA2hkzmooe",
        "colab": {
          "base_uri": "https://localhost:8080/"
        },
        "outputId": "c1c9ba9a-268d-46cc-e7db-0fc4aab3d774"
      },
      "id": "iNpA2hkzmooe",
      "execution_count": 123,
      "outputs": [
        {
          "output_type": "stream",
          "name": "stdout",
          "text": [
            "23820\n",
            "23820\n"
          ]
        }
      ]
    },
    {
      "cell_type": "code",
      "source": [
        "from sklearn import svm"
      ],
      "metadata": {
        "id": "TN5XjgaWmzXR"
      },
      "id": "TN5XjgaWmzXR",
      "execution_count": 124,
      "outputs": []
    },
    {
      "cell_type": "code",
      "source": [
        "clf = svm.SVC(kernel='poly', degree=8.7)\n",
        "clf.fit(new_X, new_y)\n",
        "y_pred = clf.predict(X_test)"
      ],
      "metadata": {
        "id": "eDEy53XDm57Z"
      },
      "id": "eDEy53XDm57Z",
      "execution_count": 125,
      "outputs": []
    },
    {
      "cell_type": "code",
      "source": [
        "from sklearn import metrics\n",
        "print(\"Accuracy:\",round(metrics.accuracy_score(y_test, y_pred),2))"
      ],
      "metadata": {
        "id": "wZeOOVekm7y5",
        "colab": {
          "base_uri": "https://localhost:8080/"
        },
        "outputId": "673542e1-e31c-4d52-c75a-025ad6f80926"
      },
      "id": "wZeOOVekm7y5",
      "execution_count": 126,
      "outputs": [
        {
          "output_type": "stream",
          "name": "stdout",
          "text": [
            "Accuracy: 0.89\n"
          ]
        }
      ]
    },
    {
      "cell_type": "code",
      "source": [
        ""
      ],
      "metadata": {
        "id": "NUJ7tT9COJvg"
      },
      "id": "NUJ7tT9COJvg",
      "execution_count": 126,
      "outputs": []
    },
    {
      "cell_type": "markdown",
      "source": [
        "# KNN"
      ],
      "metadata": {
        "id": "mCIZynRwObLL"
      },
      "id": "mCIZynRwObLL"
    },
    {
      "cell_type": "code",
      "source": [
        "from sklearn.neighbors import KNeighborsClassifier\n",
        "knn = KNeighborsClassifier(n_neighbors = 3)"
      ],
      "metadata": {
        "id": "-CDgSqpIOleA"
      },
      "id": "-CDgSqpIOleA",
      "execution_count": 127,
      "outputs": []
    },
    {
      "cell_type": "code",
      "source": [
        "from sklearn.model_selection import train_test_split\n",
        "X_train, X_test, y_train, y_test = train_test_split(X, y, test_size=0.2, random_state=10)\n",
        "oversample = SMOTE()\n",
        "lg_X, lg_y = oversample.fit_resample(X_train, y_train)"
      ],
      "metadata": {
        "id": "rBo_SrmEOo5f"
      },
      "id": "rBo_SrmEOo5f",
      "execution_count": 128,
      "outputs": []
    },
    {
      "cell_type": "code",
      "source": [
        "KNN = knn.fit(lg_X, lg_y)\n",
        "y_pred = KNN.predict(X_test)\n"
      ],
      "metadata": {
        "id": "0Oge64y0OsUn"
      },
      "id": "0Oge64y0OsUn",
      "execution_count": 129,
      "outputs": []
    },
    {
      "cell_type": "code",
      "source": [
        "from sklearn import metrics\n",
        "print(\"Accuracy with KNN:\",round(metrics.accuracy_score(y_test, y_pred),2))\n",
        "print (\"AUC score with KNN:\", np.round(roc_auc_score(y_test, y_pred),5))"
      ],
      "metadata": {
        "id": "3JVRDg_VO1sN",
        "colab": {
          "base_uri": "https://localhost:8080/"
        },
        "outputId": "d0596cb2-c861-44ce-ee74-9401cb9f5757"
      },
      "id": "3JVRDg_VO1sN",
      "execution_count": 130,
      "outputs": [
        {
          "output_type": "stream",
          "name": "stdout",
          "text": [
            "Accuracy with KNN: 0.94\n",
            "AUC score with KNN: 0.86057\n"
          ]
        }
      ]
    },
    {
      "cell_type": "code",
      "source": [
        ""
      ],
      "metadata": {
        "id": "7_2404nNPvvC"
      },
      "id": "7_2404nNPvvC",
      "execution_count": 130,
      "outputs": []
    }
  ],
  "metadata": {
    "kernelspec": {
      "display_name": "Python 3",
      "language": "python",
      "name": "python3"
    },
    "language_info": {
      "codemirror_mode": {
        "name": "ipython",
        "version": 3
      },
      "file_extension": ".py",
      "mimetype": "text/x-python",
      "name": "python",
      "nbconvert_exporter": "python",
      "pygments_lexer": "ipython3",
      "version": "3.8.8"
    },
    "colab": {
      "name": "v4.Project_245_fakejob.ipynb",
      "provenance": [],
      "collapsed_sections": [
        "84645a4f",
        "74ec1fe6-2f70-4513-8bc6-3b47da7166ee",
        "b1f7b248-f687-49c4-9ef8-a9ed099df52b",
        "162bf0af-672d-490c-9e2c-161d1726e9c5",
        "2e90661b-3d96-4915-a9bb-70d6095b7227",
        "d47430fc-8e07-4f5b-ae2d-f5e380fb2bf0",
        "58f0e09d-c7d5-4315-acbf-a09ae5f08732",
        "7deea97a-28aa-4fd7-840d-57a1d28c87e6",
        "fac153e9-b24b-4ea9-bd78-ee4d2f168305"
      ]
    }
  },
  "nbformat": 4,
  "nbformat_minor": 5
}